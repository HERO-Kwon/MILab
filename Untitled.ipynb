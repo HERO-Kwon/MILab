{
 "cells": [
  {
   "cell_type": "code",
   "execution_count": 3,
   "metadata": {},
   "outputs": [],
   "source": [
    "import numpy as np\n",
    "import pickle\n",
    "import gzip"
   ]
  },
  {
   "cell_type": "code",
   "execution_count": 4,
   "metadata": {},
   "outputs": [],
   "source": [
    "#Data load\n",
    "path_fc = 'C:\\\\Users\\\\herok\\\\OneDrive\\\\0_Jupyter\\\\190530_WiSig_Siam_KAR\\\\'\n",
    "with gzip.open(path_fc+'arr_fc1'+'.pickle.gz','rb') as f:\n",
    "    arr_fc1 = pickle.load(f)\n",
    "with gzip.open(path_fc+'arr_fc2'+'.pickle.gz','rb') as f:\n",
    "    arr_fc2 = pickle.load(f)\n",
    "with gzip.open(path_fc+'arr_res'+'.pickle.gz','rb') as f:\n",
    "    arr_score = pickle.load(f)\n"
   ]
  },
  {
   "cell_type": "code",
   "execution_count": null,
   "metadata": {},
   "outputs": [],
   "source": []
  }
 ],
 "metadata": {
  "kernelspec": {
   "display_name": "Python 3",
   "language": "python",
   "name": "python3"
  },
  "language_info": {
   "codemirror_mode": {
    "name": "ipython",
    "version": 3
   },
   "file_extension": ".py",
   "mimetype": "text/x-python",
   "name": "python",
   "nbconvert_exporter": "python",
   "pygments_lexer": "ipython3",
   "version": "3.6.5"
  }
 },
 "nbformat": 4,
 "nbformat_minor": 2
}
