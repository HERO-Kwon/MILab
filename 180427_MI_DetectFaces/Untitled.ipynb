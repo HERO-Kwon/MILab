{
 "cells": [
  {
   "cell_type": "code",
   "execution_count": 1,
   "metadata": {},
   "outputs": [
    {
     "name": "stderr",
     "output_type": "stream",
     "text": [
      "usage: detectface_v1.py [-h] [--out OUTPUT] [--max-results MAX_RESULTS]\n",
      "                        input_image\n",
      "detectface_v1.py: error: the following arguments are required: input_image\n"
     ]
    }
   ],
   "source": [
    "!python detectface_v1.py"
   ]
  },
  {
   "cell_type": "code",
   "execution_count": 4,
   "metadata": {},
   "outputs": [
    {
     "name": "stderr",
     "output_type": "stream",
     "text": [
      "ERROR:root:AuthMetadataPluginCallback \"<google.auth.transport.grpc.AuthMetadataPlugin object at 0x000001D997C11D30>\" raised exception!\n",
      "Traceback (most recent call last):\n",
      "  File \"C:\\Users\\herok\\Anaconda3\\lib\\site-packages\\grpc\\_plugin_wrapping.py\", line 77, in __call__\n",
      "    callback_state, callback))\n",
      "  File \"C:\\Users\\herok\\Anaconda3\\lib\\site-packages\\google\\auth\\transport\\grpc.py\", line 77, in __call__\n",
      "    callback(self._get_authorization_headers(context), None)\n",
      "  File \"C:\\Users\\herok\\Anaconda3\\lib\\site-packages\\google\\auth\\transport\\grpc.py\", line 61, in _get_authorization_headers\n",
      "    self._credentials.before_request(\n",
      "AttributeError: 'str' object has no attribute 'before_request'\n",
      "Traceback (most recent call last):\n",
      "  File \"C:\\Users\\herok\\Anaconda3\\lib\\site-packages\\google\\api_core\\grpc_helpers.py\", line 54, in error_remapped_callable\n",
      "    return callable_(*args, **kwargs)\n",
      "  File \"C:\\Users\\herok\\Anaconda3\\lib\\site-packages\\grpc\\_channel.py\", line 487, in __call__\n",
      "    return _end_unary_response_blocking(state, call, False, deadline)\n",
      "  File \"C:\\Users\\herok\\Anaconda3\\lib\\site-packages\\grpc\\_channel.py\", line 437, in _end_unary_response_blocking\n",
      "    raise _Rendezvous(state, None, None, deadline)\n",
      "grpc._channel._Rendezvous: <_Rendezvous of RPC that terminated with (StatusCode.UNAVAILABLE, Getting metadata from plugin failed with error: 'str' object has no attribute 'before_request')>\n",
      "\n",
      "The above exception was the direct cause of the following exception:\n",
      "\n",
      "Traceback (most recent call last):\n",
      "  File \"detectface_v1.py\", line 101, in <module>\n",
      "    main(args.input_image, args.output, args.max_results)\n",
      "  File \"detectface_v1.py\", line 77, in main\n",
      "    faces = detect_face(image, max_results)\n",
      "  File \"detectface_v1.py\", line 47, in detect_face\n",
      "    return client.face_detection(image=image).face_annotations\n",
      "  File \"C:\\Users\\herok\\Anaconda3\\lib\\site-packages\\google\\cloud\\vision_helpers\\decorators.py\", line 110, in inner\n",
      "    return self.annotate_image(request, retry=retry, timeout=timeout)\n",
      "  File \"C:\\Users\\herok\\Anaconda3\\lib\\site-packages\\google\\cloud\\vision_helpers\\__init__.py\", line 67, in annotate_image\n",
      "    r = self.batch_annotate_images([request], retry=retry, timeout=timeout)\n",
      "  File \"C:\\Users\\herok\\Anaconda3\\lib\\site-packages\\google\\cloud\\vision_v1\\gapic\\image_annotator_client.py\", line 158, in batch_annotate_images\n",
      "    request, retry=retry, timeout=timeout)\n",
      "  File \"C:\\Users\\herok\\Anaconda3\\lib\\site-packages\\google\\api_core\\gapic_v1\\method.py\", line 139, in __call__\n",
      "    return wrapped_func(*args, **kwargs)\n",
      "  File \"C:\\Users\\herok\\Anaconda3\\lib\\site-packages\\google\\api_core\\grpc_helpers.py\", line 56, in error_remapped_callable\n",
      "    six.raise_from(exceptions.from_grpc_error(exc), exc)\n",
      "  File \"<string>\", line 3, in raise_from\n",
      "google.api_core.exceptions.ServiceUnavailable: 503 Getting metadata from plugin failed with error: 'str' object has no attribute 'before_request'\n"
     ]
    }
   ],
   "source": [
    "!python detectface_v1.py me.jpg"
   ]
  },
  {
   "cell_type": "code",
   "execution_count": 1,
   "metadata": {
    "collapsed": true
   },
   "outputs": [],
   "source": [
    "#!/usr/bin/env python\n",
    "\n",
    "# Copyright 2015 Google, Inc\n",
    "#\n",
    "# Licensed under the Apache License, Version 2.0 (the \"License\");\n",
    "# you may not use this file except in compliance with the License.\n",
    "# You may obtain a copy of the License at\n",
    "#\n",
    "#     http://www.apache.org/licenses/LICENSE-2.0\n",
    "#\n",
    "# Unless required by applicable law or agreed to in writing, software\n",
    "# distributed under the License is distributed on an \"AS IS\" BASIS,\n",
    "# WITHOUT WARRANTIES OR CONDITIONS OF ANY KIND, either express or implied.\n",
    "# See the License for the specific language governing permissions and\n",
    "# limitations under the License.\n",
    "\n",
    "\"\"\"Draws squares around detected faces in the given image.\"\"\"\n",
    "\n",
    "import argparse\n",
    "\n",
    "# [START import_client_library]\n",
    "from google.cloud import vision\n",
    "# [END import_client_library]\n",
    "from google.cloud.vision import types\n",
    "from PIL import Image, ImageDraw\n",
    "global GOOGLE_APPLICATION_CREDENTIALS\n",
    "GOOGLE_APPLICATION_CREDENTIALS='C:\\\\Users\\\\herok\\\\OneDrive\\\\1_MI_Lab\\\\Work\\\\DetectFaces\\\\MI-DetectFaces-dfb6473c45c8.json'\n"
   ]
  },
  {
   "cell_type": "code",
   "execution_count": 2,
   "metadata": {},
   "outputs": [
    {
     "ename": "DefaultCredentialsError",
     "evalue": "Could not automatically determine credentials. Please set GOOGLE_APPLICATION_CREDENTIALS or\nexplicitly create credential and re-run the application. For more\ninformation, please see\nhttps://developers.google.com/accounts/docs/application-default-credentials.",
     "output_type": "error",
     "traceback": [
      "\u001b[1;31m---------------------------------------------------------------------------\u001b[0m",
      "\u001b[1;31mDefaultCredentialsError\u001b[0m                   Traceback (most recent call last)",
      "\u001b[1;32m<ipython-input-2-1c7e5065d613>\u001b[0m in \u001b[0;36m<module>\u001b[1;34m()\u001b[0m\n\u001b[1;32m----> 1\u001b[1;33m \u001b[0mclient\u001b[0m \u001b[1;33m=\u001b[0m \u001b[0mvision\u001b[0m\u001b[1;33m.\u001b[0m\u001b[0mImageAnnotatorClient\u001b[0m\u001b[1;33m(\u001b[0m\u001b[1;33m)\u001b[0m\u001b[1;33m\u001b[0m\u001b[0m\n\u001b[0m",
      "\u001b[1;32m~\\Anaconda3\\lib\\site-packages\\google\\cloud\\vision_v1\\gapic\\image_annotator_client.py\u001b[0m in \u001b[0;36m__init__\u001b[1;34m(self, channel, credentials, client_config, client_info)\u001b[0m\n\u001b[0;32m     94\u001b[0m                 \u001b[0mself\u001b[0m\u001b[1;33m.\u001b[0m\u001b[0mSERVICE_ADDRESS\u001b[0m\u001b[1;33m,\u001b[0m\u001b[1;33m\u001b[0m\u001b[0m\n\u001b[0;32m     95\u001b[0m                 \u001b[0mcredentials\u001b[0m\u001b[1;33m=\u001b[0m\u001b[0mcredentials\u001b[0m\u001b[1;33m,\u001b[0m\u001b[1;33m\u001b[0m\u001b[0m\n\u001b[1;32m---> 96\u001b[1;33m                 scopes=self._DEFAULT_SCOPES)\n\u001b[0m\u001b[0;32m     97\u001b[0m \u001b[1;33m\u001b[0m\u001b[0m\n\u001b[0;32m     98\u001b[0m         self.image_annotator_stub = (\n",
      "\u001b[1;32m~\\Anaconda3\\lib\\site-packages\\google\\api_core\\grpc_helpers.py\u001b[0m in \u001b[0;36mcreate_channel\u001b[1;34m(target, credentials, scopes, **kwargs)\u001b[0m\n\u001b[0;32m    130\u001b[0m     \"\"\"\n\u001b[0;32m    131\u001b[0m     \u001b[1;32mif\u001b[0m \u001b[0mcredentials\u001b[0m \u001b[1;32mis\u001b[0m \u001b[1;32mNone\u001b[0m\u001b[1;33m:\u001b[0m\u001b[1;33m\u001b[0m\u001b[0m\n\u001b[1;32m--> 132\u001b[1;33m         \u001b[0mcredentials\u001b[0m\u001b[1;33m,\u001b[0m \u001b[0m_\u001b[0m \u001b[1;33m=\u001b[0m \u001b[0mgoogle\u001b[0m\u001b[1;33m.\u001b[0m\u001b[0mauth\u001b[0m\u001b[1;33m.\u001b[0m\u001b[0mdefault\u001b[0m\u001b[1;33m(\u001b[0m\u001b[0mscopes\u001b[0m\u001b[1;33m=\u001b[0m\u001b[0mscopes\u001b[0m\u001b[1;33m)\u001b[0m\u001b[1;33m\u001b[0m\u001b[0m\n\u001b[0m\u001b[0;32m    133\u001b[0m     \u001b[1;32melse\u001b[0m\u001b[1;33m:\u001b[0m\u001b[1;33m\u001b[0m\u001b[0m\n\u001b[0;32m    134\u001b[0m         credentials = google.auth.credentials.with_scopes_if_required(\n",
      "\u001b[1;32m~\\Anaconda3\\lib\\site-packages\\google\\auth\\_default.py\u001b[0m in \u001b[0;36mdefault\u001b[1;34m(scopes, request)\u001b[0m\n\u001b[0;32m    281\u001b[0m             \u001b[1;32mreturn\u001b[0m \u001b[0mcredentials\u001b[0m\u001b[1;33m,\u001b[0m \u001b[0meffective_project_id\u001b[0m\u001b[1;33m\u001b[0m\u001b[0m\n\u001b[0;32m    282\u001b[0m \u001b[1;33m\u001b[0m\u001b[0m\n\u001b[1;32m--> 283\u001b[1;33m     \u001b[1;32mraise\u001b[0m \u001b[0mexceptions\u001b[0m\u001b[1;33m.\u001b[0m\u001b[0mDefaultCredentialsError\u001b[0m\u001b[1;33m(\u001b[0m\u001b[0m_HELP_MESSAGE\u001b[0m\u001b[1;33m)\u001b[0m\u001b[1;33m\u001b[0m\u001b[0m\n\u001b[0m",
      "\u001b[1;31mDefaultCredentialsError\u001b[0m: Could not automatically determine credentials. Please set GOOGLE_APPLICATION_CREDENTIALS or\nexplicitly create credential and re-run the application. For more\ninformation, please see\nhttps://developers.google.com/accounts/docs/application-default-credentials."
     ]
    }
   ],
   "source": [
    "client = vision.ImageAnnotatorClient()"
   ]
  },
  {
   "cell_type": "code",
   "execution_count": null,
   "metadata": {
    "collapsed": true
   },
   "outputs": [],
   "source": []
  }
 ],
 "metadata": {
  "kernelspec": {
   "display_name": "Python 3",
   "language": "python",
   "name": "python3"
  },
  "language_info": {
   "codemirror_mode": {
    "name": "ipython",
    "version": 3
   },
   "file_extension": ".py",
   "mimetype": "text/x-python",
   "name": "python",
   "nbconvert_exporter": "python",
   "pygments_lexer": "ipython3",
   "version": "3.6.3"
  }
 },
 "nbformat": 4,
 "nbformat_minor": 2
}
