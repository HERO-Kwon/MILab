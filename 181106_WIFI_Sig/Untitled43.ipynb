{
 "cells": [
  {
   "cell_type": "code",
   "execution_count": 108,
   "metadata": {},
   "outputs": [],
   "source": [
    "# MIT image\n",
    "# Made by : HERO Kwon\n",
    "# Date : 190108\n",
    "\n",
    "import os\n",
    "import numpy as np\n",
    "import pandas as pd\n",
    "import pickle\n",
    "import gzip\n",
    "import matplotlib.pyplot as plt\n",
    "import math\n",
    "import cmath\n",
    "\n",
    "# data path\n",
    "#path_meta = '/home/herokwon/mount_data/Data/Wi-Fi_meta/'\n",
    "#path_csi = '/home/herokwon/mount_data/Data/Wi-Fi_processed/'\n",
    "#path_csi_np = '/home/herokwon/mount_data/Data/Wi-Fi_processed_npy/'\n",
    "\n",
    "# data path_mi\n",
    "path_csi = 'D:\\\\Data\\\\Wi-Fi_processed\\\\'\n",
    "path_csi_np = 'D:\\\\Data\\\\Wi-Fi_processed_npy\\\\'\n",
    "path_meta = 'D:\\\\Data\\\\Wi-Fi_meta\\\\'\n",
    "path_sc = 'D:\\\\Data\\\\Wi-Fi_info\\\\'\n",
    "\n",
    "# data info\n",
    "df_info = pd.read_csv(path_meta+'data_subc_sig_v1.csv')\n",
    "#df_info = df_info[df_info.id_person==107]\n",
    "person_uid = np.unique(df_info['id_person'])\n",
    "dict_id = dict(zip(person_uid,np.arange(len(person_uid))))\n",
    "csi_time = 15000 #int(np.max(df_info['len']))\n",
    "# parameters\n",
    "max_value = np.max(df_info['max'].values)\n",
    "#no_classes = len(np.unique(df_info['id_person']))\n",
    "no_classes = len(dict_id)\n",
    "csi_subc = 30\n",
    "input_shape = (csi_time, csi_subc, 6)\n",
    "\n",
    "# freq BW list\n",
    "bw_list = pd.read_csv(path_meta+'wifi_f_bw_list.csv')\n",
    "\n",
    "# avg Array\n",
    "with open(path_meta + 'dict_avgcsi.pickle','rb') as f:\n",
    "    dict_avg = pickle.load(f)\n",
    "\n",
    "\n",
    "# make data generator\n",
    "def gen_csi(df_info,dict_avg,id_num,len_num):\n",
    "    for file in np.unique(df_info.id.values):\n",
    "        \n",
    "        # Label\n",
    "        id_key = df_info[df_info.id==file]['id_person'].values[0].astype('int')\n",
    "        data1_y = dict_id[id_key]\n",
    "        \n",
    "        # read sample data\n",
    "        # load and uncompress.\n",
    "        with gzip.open(path_csi+file+'.pickle.gz','rb') as f:\n",
    "            data1 = pickle.load(f)\n",
    "            \n",
    "        # subtract avg\n",
    "        read_avg = dict_avg[id_key][0]\n",
    "        nonzero_avg = read_avg[np.nonzero(read_avg)].reshape([-1,30,2,3])\n",
    "        arr_avg = np.mean(nonzero_avg,axis=0)\n",
    "        data1_diff = data1 - arr_avg #np.diff(data1,axis=0)\n",
    "        # zero pad\n",
    "        pad_len = len_num - data1_diff.shape[0]\n",
    "        data1_pad = np.pad(data1_diff,((0,pad_len),(0,0),(0,0),(0,0)),'constant',constant_values=0)\n",
    "\n",
    "        # subcarrier info\n",
    "        data1_sc_df = pd.read_csv(path_sc + file + '_df_sc.csv')\n",
    "        data1_time = np.diff(data1_sc_df['timestamp_low'])\n",
    "        data1_time_pad = np.pad(data1_time,((1,pad_len)),'constant',constant_values=0)\n",
    "        \n",
    "        \n",
    "        yield(data1_pad ,data1_y,id_key,data1_time_pad)\n",
    "\n",
    "\n",
    "gen = gen_csi(df_info,dict_avg,no_classes,csi_time)\n",
    "target_sig,target_lab,target_id,target_dt = next(gen)\n",
    "\n",
    "# 3D scan\n",
    "m,n = 2,3\n",
    "c =  299792458 # speed of light \n",
    "#r = (160 + 160 + 164) * 0.01 # meter\n",
    "r = 1.64 #meter\n",
    "d = 45 * 0.01 # meter\n",
    "ch = 8#3\n",
    "max_subc = 3\n",
    "\n",
    "th_range,si_range = (30,30)\n",
    "sig_mat = np.zeros([csi_time,2*th_range,2*si_range])\n",
    "\n",
    "# 3D Reconstruction func\n",
    "from numba import vectorize\n",
    "@vectorize(['complex64(complex64,float32,float32,int32,int32,\\\n",
    "float32,float32,float32,int32)'], target='cpu')\n",
    "def Recon3d(sig,theta,sigma,m,n,lam,d,r,c):\n",
    "    #above_eq1 = 1j * (2*math.pi) * k * r * t / c\n",
    "    #above_eq1 = 1j * (2*math.pi) * c * dt * 0.000001 / lam\n",
    "    above_eq1 = 1j * (2*math.pi) * (160 + 160 + 164) * 0.01 / lam\n",
    "    above_eq2 = 1j * (2*math.pi/lam) * math.sin(theta) * ((n+1)*d*math.cos(sigma) + (m+1)*d*math.sin(sigma))\n",
    "    eq_res = sig* cmath.exp(above_eq1) * cmath.exp(above_eq2)\n",
    "    #eq_res = cmath.exp(above_eq1) * cmath.exp(above_eq2)\n",
    "    return eq_res #math.atan2(eq_res.imag,eq_res.real)"
   ]
  },
  {
   "cell_type": "code",
   "execution_count": 180,
   "metadata": {},
   "outputs": [
    {
     "data": {
      "text/plain": [
       "array([-30, -29, -28, -27, -26, -25, -24, -23, -22, -21, -20, -19, -18,\n",
       "       -17, -16, -15, -14, -13, -12, -11, -10,  -9,  -8,  -7,  -6,  -5,\n",
       "        -4,  -3,  -2,  -1,   0,   1,   2,   3,   4,   5,   6,   7,   8,\n",
       "         9,  10,  11,  12,  13,  14,  15,  16,  17,  18,  19,  20,  21,\n",
       "        22,  23,  24,  25,  26,  27,  28,  29])"
      ]
     },
     "execution_count": 180,
     "metadata": {},
     "output_type": "execute_result"
    }
   ],
   "source": [
    "th_array = np.arange(-th_range,th_range)\n",
    "si_array = np.arange(-si_range,si_range)\n",
    "th_array"
   ]
  },
  {
   "cell_type": "code",
   "execution_count": 167,
   "metadata": {},
   "outputs": [],
   "source": [
    "from numba import jit\n",
    "#@jit\n",
    "def Calc3d(target_sig,max_subc,theta,sigma,bw_list,ch,d,r,c,m,n):\n",
    "    m_array = np.concatenate([np.ones(csi_time*n,dtype=np.int32)*0,np.ones(csi_time*n,dtype=np.int32)*1])\n",
    "    n_array = np.concatenate([np.ones(csi_time*m,dtype=np.int32)*0,np.ones(csi_time*m,dtype=np.int32)*1,np.ones(csi_time*m,dtype=np.int32)*2])\n",
    "    for subc in range(max_subc): \n",
    "        sig1 = np.ascontiguousarray(target_sig[:,subc,:,:].reshape([csi_time*m*n]), dtype=np.complex64)\n",
    "        lam =  c*0.000001 / bw_list[str(subc)][ch] #wavelength = 300 / frequency in MHz\n",
    "        sum_eq = np.zeros(csi_time*m*n,dtype=np.complex_)\n",
    "        sum_eq += Recon3d(sig1,theta,sigma,m_array,n_array,lam,d,r,c)\n",
    "    sum_reshape = np.sum(sum_eq.reshape([-1,m,n]),axis=(1,2))\n",
    "    return(np.abs(sum_reshape))"
   ]
  },
  {
   "cell_type": "code",
   "execution_count": 168,
   "metadata": {},
   "outputs": [
    {
     "data": {
      "text/plain": [
       "(15000, 60, 60)"
      ]
     },
     "execution_count": 168,
     "metadata": {},
     "output_type": "execute_result"
    }
   ],
   "source": [
    "sig_mat = np.zeros([csi_time,2*th_range,2*si_range])\n",
    "sig_mat.shape"
   ]
  },
  {
   "cell_type": "code",
   "execution_count": 169,
   "metadata": {},
   "outputs": [],
   "source": [
    "for idx_th,i in enumerate(range(-th_range,th_range)):\n",
    "    for idx_si,j in enumerate(range(-si_range,si_range)):\n",
    "        theta = i * (np.radians(30)/2) / th_range\n",
    "        sigma = j * (np.radians(30)/2) / si_range\n",
    "        sig_mat[:,idx_th,idx_si] = Calc3d(target_sig,max_subc,theta,sigma,bw_list,ch,d,r,c,m,n)"
   ]
  },
  {
   "cell_type": "code",
   "execution_count": 189,
   "metadata": {},
   "outputs": [
    {
     "data": {
      "text/plain": [
       "numpy.float64"
      ]
     },
     "execution_count": 189,
     "metadata": {},
     "output_type": "execute_result"
    }
   ],
   "source": [
    "theta_a = ((np.radians(30)/2) / (th_array+0.001)).astype(np.float32)\n",
    "sigma_a = ((np.radians(30)/2) / (si_array+0.001)).astype(np.float32)\n",
    "a  = Calc3d(target_sig,max_subc,theta[0],sigma[0],bw_list,ch,d,r,c,m,n)\n",
    "type(a[0])"
   ]
  },
  {
   "cell_type": "code",
   "execution_count": 191,
   "metadata": {},
   "outputs": [],
   "source": [
    "@vectorize(['float64(float32,float32)'], target='cpu')\n",
    "def calc(theta,sigma):\n",
    "    return(Calc3d(target_sig,max_subc,theta,sigma,bw_list,ch,d,r,c,m,n))"
   ]
  },
  {
   "cell_type": "code",
   "execution_count": 192,
   "metadata": {},
   "outputs": [
    {
     "ename": "TypeError",
     "evalue": "bad argument type for built-in operation",
     "output_type": "error",
     "traceback": [
      "\u001b[1;31m---------------------------------------------------------------------------\u001b[0m",
      "\u001b[1;31mTypeError\u001b[0m                                 Traceback (most recent call last)",
      "\u001b[1;32m<ipython-input-192-ea6d738c874a>\u001b[0m in \u001b[0;36m<module>\u001b[1;34m\u001b[0m\n\u001b[1;32m----> 1\u001b[1;33m \u001b[0ma\u001b[0m \u001b[1;33m=\u001b[0m \u001b[0mcalc\u001b[0m\u001b[1;33m(\u001b[0m\u001b[0mtheta_a\u001b[0m\u001b[1;33m,\u001b[0m\u001b[0msigma_a\u001b[0m\u001b[1;33m)\u001b[0m\u001b[1;33m\u001b[0m\u001b[1;33m\u001b[0m\u001b[0m\n\u001b[0m",
      "\u001b[1;31mTypeError\u001b[0m: bad argument type for built-in operation"
     ]
    }
   ],
   "source": [
    "a = calc(theta_a,sigma_a)"
   ]
  },
  {
   "cell_type": "code",
   "execution_count": 2,
   "metadata": {},
   "outputs": [],
   "source": [
    "from numba import jit\n",
    "@jit\n",
    "def Calc3d(target_sig,max_subc,th_range,si_range,bw_list,ch,target_dt,\\\n",
    "          d,r,c):\n",
    "    # Calc 3D\n",
    "    for subc in range(max_subc):\n",
    "        sig1 = target_sig[:,subc,:,:]\n",
    "        for idx_th,i in enumerate(range(-th_range,th_range)):\n",
    "            for idx_si,j in enumerate(range(-si_range,si_range)):\n",
    "                lam =  c*0.000001 / bw_list[str(subc)][ch] #wavelength = 300 / frequency in MHz\n",
    "                #t = np.arange(1,csi_time+1,1,dtype=np.int32)\n",
    "                dt = target_dt\n",
    "                k = 0.0\n",
    "                theta = i * (np.radians(30)/2) / th_range\n",
    "                sigma = j * (np.radians(30)/2) / si_range\n",
    "                sum_eq = np.zeros(csi_time,dtype=np.complex_)\n",
    "                for m in [0,1]: \n",
    "                    for n in [0,1,2]: \n",
    "                        #above_eq1 = Calc_Above1(k,r,t,c)\n",
    "                        sig1 = np.ascontiguousarray(target_sig[:,subc,m,n], dtype=np.complex64)\n",
    "                        sum_eq += Recon3d(sig1,theta,sigma,m,n,lam,d,k,r,dt,c)\n",
    "                sig_mat[subc,:,idx_th,idx_si] =  np.abs(sum_eq)\n",
    "    return(sig_mat)"
   ]
  },
  {
   "cell_type": "code",
   "execution_count": 3,
   "metadata": {},
   "outputs": [
    {
     "name": "stdout",
     "output_type": "stream",
     "text": [
      "78.88677191734314\n"
     ]
    }
   ],
   "source": [
    "import time\n",
    "t1 = time.time()\n",
    "sig_mat = Calc3d(target_sig,max_subc,th_range,si_range,bw_list,ch,target_dt,\\\n",
    "          d,r,c)\n",
    "print(time.time()-t1)"
   ]
  },
  {
   "cell_type": "code",
   "execution_count": 25,
   "metadata": {},
   "outputs": [
    {
     "data": {
      "image/png": "[encoded data removed]",
      "text/plain": [
       "<Figure size 432x288 with 2 Axes>"
      ]
     },
     "metadata": {
      "needs_background": "light"
     },
     "output_type": "display_data"
    }
   ],
   "source": [
    "import seaborn as sns\n",
    "ax = sns.heatmap(sig_mat[0,100,:2*th_range,:2*si_range],vmax=40)"
   ]
  },
  {
   "cell_type": "code",
   "execution_count": 5,
   "metadata": {},
   "outputs": [
    {
     "data": {
      "image/png": "[encoded data removed]",
      "text/plain": [
       "<Figure size 432x288 with 2 Axes>"
      ]
     },
     "metadata": {
      "needs_background": "light"
     },
     "output_type": "display_data"
    }
   ],
   "source": [
    "sig_sum = np.mean(sig_mat,axis=0)\n",
    "ax = sns.heatmap(sig_sum[0,:2*th_range,:2*si_range])#,vmin=np.median(sig_mat))"
   ]
  },
  {
   "cell_type": "code",
   "execution_count": 6,
   "metadata": {},
   "outputs": [
    {
     "data": {
      "text/plain": [
       "17"
      ]
     },
     "execution_count": 6,
     "metadata": {},
     "output_type": "execute_result"
    }
   ],
   "source": [
    "target_id"
   ]
  },
  {
   "cell_type": "code",
   "execution_count": 7,
   "metadata": {},
   "outputs": [
    {
     "data": {
      "text/plain": [
       "248.72818050115535"
      ]
     },
     "execution_count": 7,
     "metadata": {},
     "output_type": "execute_result"
    }
   ],
   "source": [
    "lam =  c*0.000001 / bw_list[str(14)][8] #wavelength = 300 / frequency in MHz\n",
    "above_eq1 = 1j * (2*math.pi) * (160 + 160 + 164) * 0.01 / lam\n",
    "np.median(np.abs(above_eq1))"
   ]
  },
  {
   "cell_type": "code",
   "execution_count": 8,
   "metadata": {},
   "outputs": [
    {
     "data": {
      "text/plain": [
       "53.65314035284135j"
      ]
     },
     "execution_count": 8,
     "metadata": {},
     "output_type": "execute_result"
    }
   ],
   "source": [
    "theta,sigma = 10*(np.radians(90)) / th_range,10*(np.radians(90)/2) / th_range\n",
    "above_eq2 = 1j * (2*math.pi/lam) * math.sin(theta) * ((n+1)*d*math.cos(sigma) + (m+1)*d*math.sin(sigma))\n",
    "above_eq2"
   ]
  },
  {
   "cell_type": "code",
   "execution_count": 9,
   "metadata": {},
   "outputs": [
    {
     "data": {
      "text/plain": [
       "(-0.9698783934550549-0.243589617818662j)"
      ]
     },
     "execution_count": 9,
     "metadata": {},
     "output_type": "execute_result"
    }
   ],
   "source": [
    "cmath.exp(above_eq2)"
   ]
  },
  {
   "cell_type": "code",
   "execution_count": 10,
   "metadata": {},
   "outputs": [
    {
     "data": {
      "text/plain": [
       "1.0"
      ]
     },
     "execution_count": 10,
     "metadata": {},
     "output_type": "execute_result"
    }
   ],
   "source": [
    "np.abs(cmath.exp(above_eq2))"
   ]
  },
  {
   "cell_type": "code",
   "execution_count": 11,
   "metadata": {},
   "outputs": [
    {
     "data": {
      "text/plain": [
       "0.0"
      ]
     },
     "execution_count": 11,
     "metadata": {},
     "output_type": "execute_result"
    }
   ],
   "source": [
    "np.min(c * target_dt*0.000001)"
   ]
  },
  {
   "cell_type": "code",
   "execution_count": 12,
   "metadata": {},
   "outputs": [
    {
     "data": {
      "text/plain": [
       "34176.340211999996"
      ]
     },
     "execution_count": 12,
     "metadata": {},
     "output_type": "execute_result"
    }
   ],
   "source": [
    "a = c * target_dt[np.nonzero(target_dt)]* 0.000001\n",
    "np.min(a)"
   ]
  },
  {
   "cell_type": "code",
   "execution_count": 13,
   "metadata": {},
   "outputs": [
    {
     "data": {
      "text/plain": [
       "array([ 0.      ,  0.000762,  0.000713, ...,  0.      ,  0.      ,  0.      ])"
      ]
     },
     "execution_count": 13,
     "metadata": {},
     "output_type": "execute_result"
    }
   ],
   "source": [
    "target_dt*0.000001"
   ]
  },
  {
   "cell_type": "code",
   "execution_count": 14,
   "metadata": {},
   "outputs": [
    {
     "data": {
      "text/plain": [
       "735.0"
      ]
     },
     "execution_count": 14,
     "metadata": {},
     "output_type": "execute_result"
    }
   ],
   "source": [
    "np.median(target_dt)"
   ]
  },
  {
   "cell_type": "code",
   "execution_count": 15,
   "metadata": {},
   "outputs": [
    {
     "data": {
      "text/plain": [
       "0.12226446084828711"
      ]
     },
     "execution_count": 15,
     "metadata": {},
     "output_type": "execute_result"
    }
   ],
   "source": [
    "lam"
   ]
  },
  {
   "cell_type": "code",
   "execution_count": 16,
   "metadata": {},
   "outputs": [
    {
     "data": {
      "text/plain": [
       "18.876664945807843"
      ]
     },
     "execution_count": 16,
     "metadata": {},
     "output_type": "execute_result"
    }
   ],
   "source": [
    "np.median(np.abs(target_sig))"
   ]
  },
  {
   "cell_type": "code",
   "execution_count": 17,
   "metadata": {},
   "outputs": [
    {
     "data": {
      "text/plain": [
       "1.0"
      ]
     },
     "execution_count": 17,
     "metadata": {},
     "output_type": "execute_result"
    }
   ],
   "source": [
    "np.abs(cmath.exp(above_eq2))"
   ]
  },
  {
   "cell_type": "code",
   "execution_count": 18,
   "metadata": {},
   "outputs": [
    {
     "data": {
      "text/plain": [
       "1.0"
      ]
     },
     "execution_count": 18,
     "metadata": {},
     "output_type": "execute_result"
    }
   ],
   "source": [
    "np.abs(cmath.exp(np.median(above_eq1)))"
   ]
  },
  {
   "cell_type": "code",
   "execution_count": 19,
   "metadata": {},
   "outputs": [
    {
     "data": {
      "text/plain": [
       "(-0.8564924852039405-0.5161594935571541j)"
      ]
     },
     "execution_count": 19,
     "metadata": {},
     "output_type": "execute_result"
    }
   ],
   "source": [
    "cmath.exp(np.median(above_eq1))"
   ]
  },
  {
   "cell_type": "code",
   "execution_count": 20,
   "metadata": {},
   "outputs": [
    {
     "data": {
      "text/plain": [
       "0.0"
      ]
     },
     "execution_count": 20,
     "metadata": {},
     "output_type": "execute_result"
    }
   ],
   "source": [
    "np.median(np.real(above_eq1))"
   ]
  },
  {
   "cell_type": "code",
   "execution_count": 21,
   "metadata": {},
   "outputs": [
    {
     "data": {
      "text/plain": [
       "1.5707963267948966"
      ]
     },
     "execution_count": 21,
     "metadata": {},
     "output_type": "execute_result"
    }
   ],
   "source": [
    "np.radians(90)"
   ]
  },
  {
   "cell_type": "code",
   "execution_count": 22,
   "metadata": {},
   "outputs": [
    {
     "data": {
      "text/plain": [
       "63.63961030678928"
      ]
     },
     "execution_count": 22,
     "metadata": {},
     "output_type": "execute_result"
    }
   ],
   "source": [
    "45*np.cos(np.radians(45))*2"
   ]
  },
  {
   "cell_type": "code",
   "execution_count": null,
   "metadata": {},
   "outputs": [],
   "source": []
  }
 ],
 "metadata": {
  "kernelspec": {
   "display_name": "mit_image",
   "language": "python",
   "name": "mit_image"
  },
  "language_info": {
   "codemirror_mode": {
    "name": "ipython",
    "version": 3
   },
   "file_extension": ".py",
   "mimetype": "text/x-python",
   "name": "python",
   "nbconvert_exporter": "python",
   "pygments_lexer": "ipython3",
   "version": "3.6.8"
  }
 },
 "nbformat": 4,
 "nbformat_minor": 2
}
