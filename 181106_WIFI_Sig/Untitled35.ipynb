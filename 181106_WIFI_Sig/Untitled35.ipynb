{
 "cells": [
  {
   "cell_type": "code",
   "execution_count": 1,
   "metadata": {},
   "outputs": [
    {
     "name": "stderr",
     "output_type": "stream",
     "text": [
      "C:\\Users\\herok\\Anaconda3\\lib\\site-packages\\h5py\\__init__.py:36: FutureWarning: Conversion of the second argument of issubdtype from `float` to `np.floating` is deprecated. In future, it will be treated as `np.float64 == np.dtype(float).type`.\n",
      "  from ._conv import register_converters as _register_converters\n"
     ]
    }
   ],
   "source": [
    "import os\n",
    "import tensorflow as tf\n",
    "import numpy as np\n",
    "import pandas as pd\n",
    "import pickle\n",
    "import gzip\n",
    "import matplotlib.pyplot as plt\n",
    "from sklearn.model_selection import train_test_split\n",
    "import math\n",
    "import cmath\n",
    "\n",
    "# data path\n",
    "path_csi =  'J:\\\\Data\\\\Wi-Fi_processed\\\\'\n",
    "path_csi_hc = 'J:\\\\Data\\\\Wi-Fi_HC\\\\180_100\\\\'\n",
    "\n",
    "# data info\n",
    "df_info = pd.read_csv('data_subc_sig_v1.csv')\n",
    "#df_info = df_info[df_info.id_person < 50]\n",
    "df_info = df_info[(df_info.id_location==1)  & (df_info.id_direction==1)]\n",
    "\n",
    "person_uid = np.unique(df_info['id_person'])\n",
    "dict_id = dict(zip(person_uid,np.arange(len(person_uid))))\n",
    "\n",
    "# parameters\n",
    "max_value = np.max(df_info['max'].values)\n",
    "#no_classes = len(np.unique(df_info['id_person']))\n",
    "no_classes = len(dict_id)\n",
    "csi_time = int(np.max(df_info['len']))\n",
    "csi_subc = 30\n",
    "input_shape = (csi_time, csi_subc, 6)\n"
   ]
  },
  {
   "cell_type": "code",
   "execution_count": 2,
   "metadata": {},
   "outputs": [],
   "source": [
    "# make data generator\n",
    "def gen_csi(df_info,id_num,len_num):\n",
    "    for file in np.unique(df_info.id.values):\n",
    "        # read sample data\n",
    "        # load and uncompress.\n",
    "        with gzip.open(path_csi+file+'.pickle.gz','rb') as f:\n",
    "            data1 = pickle.load(f)\n",
    "        data1_diff = data1\n",
    "        # zero pad\n",
    "        pad_len = len_num - data1_diff.shape[0]\n",
    "        data1_pad = np.pad(data1_diff,((0,pad_len),(0,0),(0,0),(0,0)),'constant',constant_values=0)\n",
    "\n",
    "        # Label\n",
    "        id_key = df_info[df_info.id==file]['id_person'].values[0].astype('int')\n",
    "        data1_y = dict_id[id_key]\n",
    "\n",
    "        yield(data1_pad ,data1_y)"
   ]
  },
  {
   "cell_type": "code",
   "execution_count": 3,
   "metadata": {},
   "outputs": [],
   "source": [
    "gen = gen_csi(df_info,no_classes,csi_time)\n",
    "# 3D scan\n",
    "m,n = 2,3\n",
    "#r = (160 + 160 + 164) * 0.01 # meter\n",
    "r = 1.64 #meter\n",
    "d = 45 * 0.01 # meter\n",
    "lam = 300 / 2450 #wavelength = 300 / frequency in MHz\n",
    "c =  299792458 # speed of light \n",
    "k = 0\n",
    "t = 0\n",
    "\n",
    "theta,sigma = 2*math.pi,2*math.pi\n",
    "above_eq1 = 1j * (2*math.pi) * k * r * t / c\n",
    "above_eq2 = 1j * (2*math.pi/lam) * math.sin(theta) * (n*d*math.cos(sigma) + m*d*math.sin(sigma))\n"
   ]
  },
  {
   "cell_type": "code",
   "execution_count": 4,
   "metadata": {},
   "outputs": [
    {
     "data": {
      "text/plain": [
       "'S018_1_1_1'"
      ]
     },
     "execution_count": 4,
     "metadata": {},
     "output_type": "execute_result"
    }
   ],
   "source": [
    "np.unique(df_info.id.values)[0]"
   ]
  },
  {
   "cell_type": "code",
   "execution_count": 5,
   "metadata": {},
   "outputs": [],
   "source": [
    "target_sig,_ = next(gen)"
   ]
  },
  {
   "cell_type": "code",
   "execution_count": 6,
   "metadata": {},
   "outputs": [
    {
     "data": {
      "text/plain": [
       "(14958, 30, 2, 3)"
      ]
     },
     "execution_count": 6,
     "metadata": {},
     "output_type": "execute_result"
    }
   ],
   "source": [
    "target_sig.shape"
   ]
  },
  {
   "cell_type": "code",
   "execution_count": 7,
   "metadata": {},
   "outputs": [],
   "source": [
    "def calc_p(target_sig,r,theta,sigma):\n",
    "    sum_eq = np.complex(0)\n",
    "    for i in range(m):\n",
    "        for j in range(n):\n",
    "            for t in range(csi_time):\n",
    "                k = math.tan(np.angle(target_sig[t,i,j]))\n",
    "                above_eq1 = 1j * (2*math.pi) * (t * 10 / csi_time) * r * k / c\n",
    "                above_eq2 = 1j * (2*math.pi/lam) * math.sin(theta) * (n*d*math.cos(sigma) + m*d*math.sin(sigma))\n",
    "                sum_eq += target_sig[t,i,j] * cmath.exp(above_eq1) *cmath.exp(above_eq2)\n",
    "    return(np.abs(sum_eq))"
   ]
  },
  {
   "cell_type": "code",
   "execution_count": 8,
   "metadata": {},
   "outputs": [
    {
     "name": "stdout",
     "output_type": "stream",
     "text": [
      "(0, 0, 0)\n",
      "(0, 0, 1)\n",
      "(0, 0, 2)\n",
      "(0, 0, 3)\n",
      "(0, 0, 4)\n",
      "(0, 0, 5)\n",
      "(0, 0, 6)\n",
      "(0, 0, 7)\n",
      "(0, 0, 8)\n",
      "(0, 0, 9)\n",
      "(0, 0, 10)\n",
      "(0, 0, 11)\n",
      "(0, 0, 12)\n",
      "(0, 0, 13)\n",
      "(0, 0, 14)\n",
      "(0, 0, 15)\n",
      "(0, 0, 16)\n",
      "(0, 0, 17)\n",
      "(0, 0, 18)\n",
      "(0, 0, 19)\n",
      "(0, 1, 0)\n",
      "(0, 1, 1)\n",
      "(0, 1, 2)\n",
      "(0, 1, 3)\n",
      "(0, 1, 4)\n",
      "(0, 1, 5)\n",
      "(0, 1, 6)\n",
      "(0, 1, 7)\n",
      "(0, 1, 8)\n",
      "(0, 1, 9)\n",
      "(0, 1, 10)\n",
      "(0, 1, 11)\n",
      "(0, 1, 12)\n",
      "(0, 1, 13)\n",
      "(0, 1, 14)\n",
      "(0, 1, 15)\n",
      "(0, 1, 16)\n",
      "(0, 1, 17)\n",
      "(0, 1, 18)\n",
      "(0, 1, 19)\n",
      "(0, 2, 0)\n",
      "(0, 2, 1)\n",
      "(0, 2, 2)\n",
      "(0, 2, 3)\n",
      "(0, 2, 4)\n",
      "(0, 2, 5)\n",
      "(0, 2, 6)\n",
      "(0, 2, 7)\n",
      "(0, 2, 8)\n",
      "(0, 2, 9)\n",
      "(0, 2, 10)\n",
      "(0, 2, 11)\n",
      "(0, 2, 12)\n",
      "(0, 2, 13)\n",
      "(0, 2, 14)\n",
      "(0, 2, 15)\n",
      "(0, 2, 16)\n",
      "(0, 2, 17)\n",
      "(0, 2, 18)\n",
      "(0, 2, 19)\n",
      "(0, 3, 0)\n",
      "(0, 3, 1)\n",
      "(0, 3, 2)\n",
      "(0, 3, 3)\n",
      "(0, 3, 4)\n",
      "(0, 3, 5)\n",
      "(0, 3, 6)\n",
      "(0, 3, 7)\n",
      "(0, 3, 8)\n",
      "(0, 3, 9)\n",
      "(0, 3, 10)\n",
      "(0, 3, 11)\n",
      "(0, 3, 12)\n",
      "(0, 3, 13)\n",
      "(0, 3, 14)\n",
      "(0, 3, 15)\n",
      "(0, 3, 16)\n",
      "(0, 3, 17)\n",
      "(0, 3, 18)\n",
      "(0, 3, 19)\n",
      "(0, 4, 0)\n",
      "(0, 4, 1)\n",
      "(0, 4, 2)\n",
      "(0, 4, 3)\n",
      "(0, 4, 4)\n",
      "(0, 4, 5)\n",
      "(0, 4, 6)\n",
      "(0, 4, 7)\n",
      "(0, 4, 8)\n",
      "(0, 4, 9)\n",
      "(0, 4, 10)\n",
      "(0, 4, 11)\n",
      "(0, 4, 12)\n",
      "(0, 4, 13)\n",
      "(0, 4, 14)\n",
      "(0, 4, 15)\n",
      "(0, 4, 16)\n",
      "(0, 4, 17)\n",
      "(0, 4, 18)\n",
      "(0, 4, 19)\n",
      "(0, 5, 0)\n",
      "(0, 5, 1)\n",
      "(0, 5, 2)\n",
      "(0, 5, 3)\n",
      "(0, 5, 4)\n",
      "(0, 5, 5)\n",
      "(0, 5, 6)\n",
      "(0, 5, 7)\n",
      "(0, 5, 8)\n",
      "(0, 5, 9)\n",
      "(0, 5, 10)\n",
      "(0, 5, 11)\n",
      "(0, 5, 12)\n",
      "(0, 5, 13)\n",
      "(0, 5, 14)\n",
      "(0, 5, 15)\n",
      "(0, 5, 16)\n",
      "(0, 5, 17)\n",
      "(0, 5, 18)\n",
      "(0, 5, 19)\n",
      "(0, 6, 0)\n",
      "(0, 6, 1)\n",
      "(0, 6, 2)\n",
      "(0, 6, 3)\n",
      "(0, 6, 4)\n",
      "(0, 6, 5)\n",
      "(0, 6, 6)\n",
      "(0, 6, 7)\n",
      "(0, 6, 8)\n",
      "(0, 6, 9)\n",
      "(0, 6, 10)\n",
      "(0, 6, 11)\n",
      "(0, 6, 12)\n",
      "(0, 6, 13)\n",
      "(0, 6, 14)\n",
      "(0, 6, 15)\n",
      "(0, 6, 16)\n",
      "(0, 6, 17)\n",
      "(0, 6, 18)\n",
      "(0, 6, 19)\n",
      "(0, 7, 0)\n",
      "(0, 7, 1)\n",
      "(0, 7, 2)\n",
      "(0, 7, 3)\n",
      "(0, 7, 4)\n",
      "(0, 7, 5)\n",
      "(0, 7, 6)\n",
      "(0, 7, 7)\n",
      "(0, 7, 8)\n",
      "(0, 7, 9)\n",
      "(0, 7, 10)\n",
      "(0, 7, 11)\n",
      "(0, 7, 12)\n",
      "(0, 7, 13)\n",
      "(0, 7, 14)\n",
      "(0, 7, 15)\n",
      "(0, 7, 16)\n",
      "(0, 7, 17)\n",
      "(0, 7, 18)\n",
      "(0, 7, 19)\n",
      "(0, 8, 0)\n",
      "(0, 8, 1)\n",
      "(0, 8, 2)\n",
      "(0, 8, 3)\n",
      "(0, 8, 4)\n",
      "(0, 8, 5)\n",
      "(0, 8, 6)\n",
      "(0, 8, 7)\n",
      "(0, 8, 8)\n",
      "(0, 8, 9)\n",
      "(0, 8, 10)\n",
      "(0, 8, 11)\n",
      "(0, 8, 12)\n",
      "(0, 8, 13)\n",
      "(0, 8, 14)\n",
      "(0, 8, 15)\n",
      "(0, 8, 16)\n",
      "(0, 8, 17)\n",
      "(0, 8, 18)\n",
      "(0, 8, 19)\n",
      "(0, 9, 0)\n",
      "(0, 9, 1)\n",
      "(0, 9, 2)\n",
      "(0, 9, 3)\n",
      "(0, 9, 4)\n",
      "(0, 9, 5)\n",
      "(0, 9, 6)\n",
      "(0, 9, 7)\n",
      "(0, 9, 8)\n",
      "(0, 9, 9)\n",
      "(0, 9, 10)\n",
      "(0, 9, 11)\n",
      "(0, 9, 12)\n",
      "(0, 9, 13)\n",
      "(0, 9, 14)\n",
      "(0, 9, 15)\n",
      "(0, 9, 16)\n",
      "(0, 9, 17)\n",
      "(0, 9, 18)\n",
      "(0, 9, 19)\n",
      "(0, 10, 0)\n",
      "(0, 10, 1)\n",
      "(0, 10, 2)\n",
      "(0, 10, 3)\n",
      "(0, 10, 4)\n",
      "(0, 10, 5)\n",
      "(0, 10, 6)\n",
      "(0, 10, 7)\n",
      "(0, 10, 8)\n",
      "(0, 10, 9)\n",
      "(0, 10, 10)\n",
      "(0, 10, 11)\n",
      "(0, 10, 12)\n",
      "(0, 10, 13)\n",
      "(0, 10, 14)\n",
      "(0, 10, 15)\n",
      "(0, 10, 16)\n",
      "(0, 10, 17)\n",
      "(0, 10, 18)\n",
      "(0, 10, 19)\n",
      "(0, 11, 0)\n",
      "(0, 11, 1)\n",
      "(0, 11, 2)\n",
      "(0, 11, 3)\n",
      "(0, 11, 4)\n",
      "(0, 11, 5)\n",
      "(0, 11, 6)\n",
      "(0, 11, 7)\n",
      "(0, 11, 8)\n",
      "(0, 11, 9)\n",
      "(0, 11, 10)\n",
      "(0, 11, 11)\n",
      "(0, 11, 12)\n",
      "(0, 11, 13)\n",
      "(0, 11, 14)\n",
      "(0, 11, 15)\n",
      "(0, 11, 16)\n",
      "(0, 11, 17)\n",
      "(0, 11, 18)\n",
      "(0, 11, 19)\n",
      "(0, 12, 0)\n",
      "(0, 12, 1)\n",
      "(0, 12, 2)\n",
      "(0, 12, 3)\n",
      "(0, 12, 4)\n",
      "(0, 12, 5)\n",
      "(0, 12, 6)\n",
      "(0, 12, 7)\n",
      "(0, 12, 8)\n",
      "(0, 12, 9)\n",
      "(0, 12, 10)\n",
      "(0, 12, 11)\n",
      "(0, 12, 12)\n",
      "(0, 12, 13)\n",
      "(0, 12, 14)\n",
      "(0, 12, 15)\n",
      "(0, 12, 16)\n",
      "(0, 12, 17)\n",
      "(0, 12, 18)\n",
      "(0, 12, 19)\n",
      "(0, 13, 0)\n",
      "(0, 13, 1)\n",
      "(0, 13, 2)\n",
      "(0, 13, 3)\n",
      "(0, 13, 4)\n",
      "(0, 13, 5)\n",
      "(0, 13, 6)\n",
      "(0, 13, 7)\n",
      "(0, 13, 8)\n",
      "(0, 13, 9)\n",
      "(0, 13, 10)\n",
      "(0, 13, 11)\n",
      "(0, 13, 12)\n",
      "(0, 13, 13)\n",
      "(0, 13, 14)\n",
      "(0, 13, 15)\n",
      "(0, 13, 16)\n",
      "(0, 13, 17)\n",
      "(0, 13, 18)\n",
      "(0, 13, 19)\n",
      "(0, 14, 0)\n",
      "(0, 14, 1)\n",
      "(0, 14, 2)\n",
      "(0, 14, 3)\n",
      "(0, 14, 4)\n",
      "(0, 14, 5)\n",
      "(0, 14, 6)\n",
      "(0, 14, 7)\n",
      "(0, 14, 8)\n",
      "(0, 14, 9)\n",
      "(0, 14, 10)\n",
      "(0, 14, 11)\n",
      "(0, 14, 12)\n",
      "(0, 14, 13)\n",
      "(0, 14, 14)\n",
      "(0, 14, 15)\n",
      "(0, 14, 16)\n",
      "(0, 14, 17)\n",
      "(0, 14, 18)\n",
      "(0, 14, 19)\n",
      "(0, 15, 0)\n",
      "(0, 15, 1)\n",
      "(0, 15, 2)\n",
      "(0, 15, 3)\n",
      "(0, 15, 4)\n",
      "(0, 15, 5)\n",
      "(0, 15, 6)\n",
      "(0, 15, 7)\n",
      "(0, 15, 8)\n",
      "(0, 15, 9)\n",
      "(0, 15, 10)\n",
      "(0, 15, 11)\n",
      "(0, 15, 12)\n",
      "(0, 15, 13)\n",
      "(0, 15, 14)\n",
      "(0, 15, 15)\n",
      "(0, 15, 16)\n",
      "(0, 15, 17)\n",
      "(0, 15, 18)\n",
      "(0, 15, 19)\n",
      "(0, 16, 0)\n",
      "(0, 16, 1)\n",
      "(0, 16, 2)\n",
      "(0, 16, 3)\n",
      "(0, 16, 4)\n",
      "(0, 16, 5)\n",
      "(0, 16, 6)\n",
      "(0, 16, 7)\n",
      "(0, 16, 8)\n",
      "(0, 16, 9)\n",
      "(0, 16, 10)\n",
      "(0, 16, 11)\n",
      "(0, 16, 12)\n",
      "(0, 16, 13)\n",
      "(0, 16, 14)\n",
      "(0, 16, 15)\n",
      "(0, 16, 16)\n",
      "(0, 16, 17)\n",
      "(0, 16, 18)\n",
      "(0, 16, 19)\n",
      "(0, 17, 0)\n",
      "(0, 17, 1)\n",
      "(0, 17, 2)\n",
      "(0, 17, 3)\n",
      "(0, 17, 4)\n",
      "(0, 17, 5)\n",
      "(0, 17, 6)\n",
      "(0, 17, 7)\n",
      "(0, 17, 8)\n",
      "(0, 17, 9)\n",
      "(0, 17, 10)\n",
      "(0, 17, 11)\n",
      "(0, 17, 12)\n",
      "(0, 17, 13)\n",
      "(0, 17, 14)\n",
      "(0, 17, 15)\n",
      "(0, 17, 16)\n",
      "(0, 17, 17)\n",
      "(0, 17, 18)\n",
      "(0, 17, 19)\n",
      "(0, 18, 0)\n",
      "(0, 18, 1)\n",
      "(0, 18, 2)\n",
      "(0, 18, 3)\n",
      "(0, 18, 4)\n",
      "(0, 18, 5)\n",
      "(0, 18, 6)\n",
      "(0, 18, 7)\n",
      "(0, 18, 8)\n",
      "(0, 18, 9)\n",
      "(0, 18, 10)\n",
      "(0, 18, 11)\n",
      "(0, 18, 12)\n",
      "(0, 18, 13)\n",
      "(0, 18, 14)\n",
      "(0, 18, 15)\n",
      "(0, 18, 16)\n",
      "(0, 18, 17)\n",
      "(0, 18, 18)\n",
      "(0, 18, 19)\n",
      "(0, 19, 0)\n",
      "(0, 19, 1)\n",
      "(0, 19, 2)\n",
      "(0, 19, 3)\n",
      "(0, 19, 4)\n",
      "(0, 19, 5)\n",
      "(0, 19, 6)\n",
      "(0, 19, 7)\n",
      "(0, 19, 8)\n",
      "(0, 19, 9)\n",
      "(0, 19, 10)\n",
      "(0, 19, 11)\n",
      "(0, 19, 12)\n",
      "(0, 19, 13)\n",
      "(0, 19, 14)\n",
      "(0, 19, 15)\n",
      "(0, 19, 16)\n",
      "(0, 19, 17)\n",
      "(0, 19, 18)\n",
      "(0, 19, 19)\n"
     ]
    }
   ],
   "source": [
    "    th_range,si_range = (20,20)\n",
    "    sig_mat = np.zeros([1,th_range,si_range])\n",
    "    subc = 0\n",
    "    #for subc in range(30):\n",
    "    for i in range(th_range):\n",
    "        for j in range(si_range):\n",
    "            theta = i * math.pi / th_range\n",
    "            sigma = j * math.pi / si_range\n",
    "            sig_mat[subc,i,j] = calc_p(target_sig[:,subc,:,:],r,theta,sigma)\n",
    "            print((subc,i,j))"
   ]
  },
  {
   "cell_type": "code",
   "execution_count": 9,
   "metadata": {},
   "outputs": [],
   "source": [
    "sig_mat = sig_mat / np.median(sig_mat)"
   ]
  },
  {
   "cell_type": "code",
   "execution_count": 10,
   "metadata": {},
   "outputs": [
    {
     "data": {
      "image/png": "[encoded data removed]",
      "text/plain": [
       "<Figure size 432x288 with 2 Axes>"
      ]
     },
     "metadata": {},
     "output_type": "display_data"
    }
   ],
   "source": [
    "import seaborn as sns\n",
    "ax = sns.heatmap(sig_mat[0,:th_range,:si_range])#,vmin=np.median(sig_mat))"
   ]
  },
  {
   "cell_type": "code",
   "execution_count": 11,
   "metadata": {},
   "outputs": [
    {
     "data": {
      "text/plain": [
       "(0.9999999999999913, 1.0000000000000178)"
      ]
     },
     "execution_count": 11,
     "metadata": {},
     "output_type": "execute_result"
    }
   ],
   "source": [
    "sig_mat[0,16,18],sig_mat[0,18,16]"
   ]
  },
  {
   "cell_type": "code",
   "execution_count": 12,
   "metadata": {},
   "outputs": [
    {
     "data": {
      "text/plain": [
       "(1.0000000000000093, 1.0000000000000093, 1.0000000000000093)"
      ]
     },
     "execution_count": 12,
     "metadata": {},
     "output_type": "execute_result"
    }
   ],
   "source": [
    "sig_mat[0,0,0],sig_mat[0,0,15],sig_mat[0,0,19]"
   ]
  },
  {
   "cell_type": "code",
   "execution_count": 13,
   "metadata": {},
   "outputs": [
    {
     "data": {
      "text/plain": [
       "(1.0000000000000093, 0.9999999999999944, 1.0000000000000095)"
      ]
     },
     "execution_count": 13,
     "metadata": {},
     "output_type": "execute_result"
    }
   ],
   "source": [
    "sig_mat[0,0,0],sig_mat[0,15,0],sig_mat[0,19,0]"
   ]
  },
  {
   "cell_type": "code",
   "execution_count": 14,
   "metadata": {},
   "outputs": [
    {
     "data": {
      "text/plain": [
       "(1, 20, 20)"
      ]
     },
     "execution_count": 14,
     "metadata": {},
     "output_type": "execute_result"
    }
   ],
   "source": [
    "sig_mat.shape"
   ]
  },
  {
   "cell_type": "code",
   "execution_count": 15,
   "metadata": {},
   "outputs": [],
   "source": [
    "import skimage.measure"
   ]
  },
  {
   "cell_type": "code",
   "execution_count": 20,
   "metadata": {},
   "outputs": [],
   "source": [
    "a =  skimage.measure.block_reduce(sig_mat, (1,2,2), np.mean) "
   ]
  },
  {
   "cell_type": "code",
   "execution_count": 22,
   "metadata": {},
   "outputs": [
    {
     "data": {
      "image/png": "[encoded data removed]",
      "text/plain": [
       "<Figure size 432x288 with 2 Axes>"
      ]
     },
     "metadata": {},
     "output_type": "display_data"
    }
   ],
   "source": [
    "import seaborn as sns\n",
    "ax = sns.heatmap(a[0,:th_range,:si_range])#,vmin=np.median(sig_mat))"
   ]
  },
  {
   "cell_type": "code",
   "execution_count": null,
   "metadata": {},
   "outputs": [],
   "source": []
  }
 ],
 "metadata": {
  "kernelspec": {
   "display_name": "Python 3",
   "language": "python",
   "name": "python3"
  },
  "language_info": {
   "codemirror_mode": {
    "name": "ipython",
    "version": 3
   },
   "file_extension": ".py",
   "mimetype": "text/x-python",
   "name": "python",
   "nbconvert_exporter": "python",
   "pygments_lexer": "ipython3",
   "version": "3.6.5"
  }
 },
 "nbformat": 4,
 "nbformat_minor": 2
}
