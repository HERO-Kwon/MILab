{
 "cells": [
  {
   "cell_type": "code",
   "execution_count": 23,
   "metadata": {},
   "outputs": [],
   "source": [
    "import os\n",
    "import tensorflow as tf\n",
    "import numpy as np\n",
    "import pandas as pd\n",
    "import pickle\n",
    "import gzip"
   ]
  },
  {
   "cell_type": "code",
   "execution_count": 24,
   "metadata": {},
   "outputs": [
    {
     "data": {
      "text/html": [
       "<div>\n",
       "<style scoped>\n",
       "    .dataframe tbody tr th:only-of-type {\n",
       "        vertical-align: middle;\n",
       "    }\n",
       "\n",
       "    .dataframe tbody tr th {\n",
       "        vertical-align: top;\n",
       "    }\n",
       "\n",
       "    .dataframe thead th {\n",
       "        text-align: right;\n",
       "    }\n",
       "</style>\n",
       "<table border=\"1\" class=\"dataframe\">\n",
       "  <thead>\n",
       "    <tr style=\"text-align: right;\">\n",
       "      <th></th>\n",
       "      <th>id</th>\n",
       "      <th>len</th>\n",
       "      <th>mean</th>\n",
       "      <th>std</th>\n",
       "      <th>id_person</th>\n",
       "      <th>id_location</th>\n",
       "      <th>id_direction</th>\n",
       "      <th>id_exp</th>\n",
       "      <th>id_paper</th>\n",
       "      <th>file</th>\n",
       "      <th>name</th>\n",
       "      <th>id_sign</th>\n",
       "    </tr>\n",
       "  </thead>\n",
       "  <tbody>\n",
       "    <tr>\n",
       "      <th>0</th>\n",
       "      <td>S017_1_2_11</td>\n",
       "      <td>10258.0</td>\n",
       "      <td>22.066244</td>\n",
       "      <td>5.465441</td>\n",
       "      <td>17</td>\n",
       "      <td>1</td>\n",
       "      <td>2</td>\n",
       "      <td>11</td>\n",
       "      <td>IMG_0721</td>\n",
       "      <td>IMG_0721_10.png</td>\n",
       "      <td>강경휘</td>\n",
       "      <td>17</td>\n",
       "    </tr>\n",
       "    <tr>\n",
       "      <th>1</th>\n",
       "      <td>S017_1_2_11</td>\n",
       "      <td>10258.0</td>\n",
       "      <td>22.066244</td>\n",
       "      <td>5.465441</td>\n",
       "      <td>17</td>\n",
       "      <td>1</td>\n",
       "      <td>2</td>\n",
       "      <td>11</td>\n",
       "      <td>IMG_0721</td>\n",
       "      <td>IMG_0721_2.png</td>\n",
       "      <td>강경휘</td>\n",
       "      <td>17</td>\n",
       "    </tr>\n",
       "    <tr>\n",
       "      <th>2</th>\n",
       "      <td>S017_1_2_11</td>\n",
       "      <td>10258.0</td>\n",
       "      <td>22.066244</td>\n",
       "      <td>5.465441</td>\n",
       "      <td>17</td>\n",
       "      <td>1</td>\n",
       "      <td>2</td>\n",
       "      <td>11</td>\n",
       "      <td>IMG_0721</td>\n",
       "      <td>IMG_0721_3.png</td>\n",
       "      <td>강경휘</td>\n",
       "      <td>17</td>\n",
       "    </tr>\n",
       "    <tr>\n",
       "      <th>3</th>\n",
       "      <td>S017_1_2_11</td>\n",
       "      <td>10258.0</td>\n",
       "      <td>22.066244</td>\n",
       "      <td>5.465441</td>\n",
       "      <td>17</td>\n",
       "      <td>1</td>\n",
       "      <td>2</td>\n",
       "      <td>11</td>\n",
       "      <td>IMG_0721</td>\n",
       "      <td>IMG_0721_4.png</td>\n",
       "      <td>강경휘</td>\n",
       "      <td>17</td>\n",
       "    </tr>\n",
       "    <tr>\n",
       "      <th>4</th>\n",
       "      <td>S017_1_2_11</td>\n",
       "      <td>10258.0</td>\n",
       "      <td>22.066244</td>\n",
       "      <td>5.465441</td>\n",
       "      <td>17</td>\n",
       "      <td>1</td>\n",
       "      <td>2</td>\n",
       "      <td>11</td>\n",
       "      <td>IMG_0721</td>\n",
       "      <td>IMG_0721_5.png</td>\n",
       "      <td>강경휘</td>\n",
       "      <td>17</td>\n",
       "    </tr>\n",
       "  </tbody>\n",
       "</table>\n",
       "</div>"
      ],
      "text/plain": [
       "            id      len       mean       std  id_person  id_location  \\\n",
       "0  S017_1_2_11  10258.0  22.066244  5.465441         17            1   \n",
       "1  S017_1_2_11  10258.0  22.066244  5.465441         17            1   \n",
       "2  S017_1_2_11  10258.0  22.066244  5.465441         17            1   \n",
       "3  S017_1_2_11  10258.0  22.066244  5.465441         17            1   \n",
       "4  S017_1_2_11  10258.0  22.066244  5.465441         17            1   \n",
       "\n",
       "   id_direction  id_exp  id_paper             file name  id_sign  \n",
       "0             2      11  IMG_0721  IMG_0721_10.png  강경휘       17  \n",
       "1             2      11  IMG_0721   IMG_0721_2.png  강경휘       17  \n",
       "2             2      11  IMG_0721   IMG_0721_3.png  강경휘       17  \n",
       "3             2      11  IMG_0721   IMG_0721_4.png  강경휘       17  \n",
       "4             2      11  IMG_0721   IMG_0721_5.png  강경휘       17  "
      ]
     },
     "execution_count": 24,
     "metadata": {},
     "output_type": "execute_result"
    }
   ],
   "source": [
    "# data path\n",
    "path_csi =  'J:\\\\Data\\\\Wi-Fi_processed\\\\'\n",
    "# data info\n",
    "df_info = pd.read_csv('data_subc_sig.csv')\n",
    "df_info.head()"
   ]
  },
  {
   "cell_type": "code",
   "execution_count": 25,
   "metadata": {},
   "outputs": [
    {
     "data": {
      "text/plain": [
       "(10258, 30, 2, 3)"
      ]
     },
     "execution_count": 25,
     "metadata": {},
     "output_type": "execute_result"
    }
   ],
   "source": [
    "# read sample data\n",
    "# load and uncompress.\n",
    "with gzip.open(path_csi+df_info.iloc[0]['id']+'.pickle.gz','rb') as f:\n",
    "    data1 = pickle.load(f)\n",
    "data1_abs = np.abs(data1)\n",
    "data1_ph = np.angle(data1)\n",
    "data1_abs.shape"
   ]
  },
  {
   "cell_type": "code",
   "execution_count": 26,
   "metadata": {},
   "outputs": [
    {
     "data": {
      "text/plain": [
       "array([[15.13477315, 15.88365562, 16.19046086],\n",
       "       [16.05749662, 15.44346479, 14.89515615]])"
      ]
     },
     "execution_count": 26,
     "metadata": {},
     "output_type": "execute_result"
    }
   ],
   "source": [
    "rms_ant = np.mean(0.707*np.abs(data1),axis=(0,1))\n",
    "rms_ant"
   ]
  },
  {
   "cell_type": "code",
   "execution_count": 27,
   "metadata": {},
   "outputs": [
    {
     "data": {
      "text/plain": [
       "array([24.16307786, 23.54792958, 21.12386011, 22.8337564 , 25.34036246,\n",
       "       26.56511735, 24.10576235, 21.30907425, 18.22157389, 15.70070364,\n",
       "       16.42086644, 20.2196671 , 18.80152997, 14.17117523, 10.50370556,\n",
       "       19.79207819, 19.26725541, 17.03863225, 20.53573555, 28.17584387,\n",
       "       24.16751866, 26.01004285, 26.90871834, 27.32850079, 23.30399093,\n",
       "       27.94756613, 26.19753246, 26.99139154, 24.67332286, 20.62102898])"
      ]
     },
     "execution_count": 27,
     "metadata": {},
     "output_type": "execute_result"
    }
   ],
   "source": [
    "abs_sub = np.mean(np.abs(data1),axis=(0,2,3))\n",
    "abs_sub"
   ]
  },
  {
   "cell_type": "code",
   "execution_count": 28,
   "metadata": {},
   "outputs": [
    {
     "data": {
      "text/plain": [
       "((10258, 30, 2, 3),\n",
       " array([1., 1., 1., 1., 1., 1., 1., 1., 1., 1., 1., 1., 1., 1., 1., 1., 1.,\n",
       "        1., 1., 1., 1., 1., 1., 1., 1., 1., 1., 1., 1., 1.]))"
      ]
     },
     "execution_count": 28,
     "metadata": {},
     "output_type": "execute_result"
    }
   ],
   "source": [
    "data1_norm = data1/abs_sub[np.newaxis,:,np.newaxis,np.newaxis]\n",
    "data1_norm.shape,np.mean(np.abs(data1_norm),axis=(0,2,3))"
   ]
  },
  {
   "cell_type": "code",
   "execution_count": 29,
   "metadata": {},
   "outputs": [
    {
     "data": {
      "text/plain": [
       "array([[[ 10.67085966+15.7254774j ,  23.02659191 +8.98598709j,\n",
       "          25.83471287 -7.8627387j ],\n",
       "        [ 16.28710159-21.90334352j,   1.12324839-26.95796126j,\n",
       "         -13.47898063-23.02659191j]],\n",
       "\n",
       "       [[-21.90334352-13.47898063j, -25.27308868 +0.j        ,\n",
       "         -21.90334352+11.79410805j],\n",
       "        [-13.47898063+21.34171933j,  -1.68487258+23.5882161j ,\n",
       "          10.10923547+20.78009513j]],\n",
       "\n",
       "       [[ 18.53359836+14.04060482j,  22.46496771 +3.93136935j,\n",
       "          23.02659191 -1.12324839j],\n",
       "        [ 18.53359836-12.35573224j,  11.79410805-18.53359836j,\n",
       "           2.24649677-21.90334352j]],\n",
       "\n",
       "       [[ -8.98598709-20.21847094j, -17.41034998-14.04060482j,\n",
       "         -23.5882161  -5.05461774j],\n",
       "        [-23.02659191 +6.73949031j, -17.41034998+19.09522256j,\n",
       "          -4.49299354+26.39633706j]],\n",
       "\n",
       "       [[ 12.35573224+25.83471287j,  25.27308868+14.60222901j,\n",
       "          29.20445803 -3.93136935j],\n",
       "        [ 19.65684675-19.65684675j,   2.24649677-23.5882161j ,\n",
       "          -5.05461774-19.09522256j]],\n",
       "\n",
       "       [[ -7.8627387 -16.84872579j, -22.46496771-10.67085966j,\n",
       "         -26.39633706 +6.17786612j],\n",
       "        [-16.28710159+20.78009513j,  -1.12324839+25.83471287j,\n",
       "          13.47898063+20.78009513j]],\n",
       "\n",
       "       [[ 22.46496771+10.67085966j,  23.02659191 -2.80812096j,\n",
       "          17.97197417-15.16385321j],\n",
       "        [  7.30111451-21.34171933j,  -3.93136935-21.34171933j,\n",
       "         -15.16385321-15.16385321j]],\n",
       "\n",
       "       [[-21.34171933 -6.73949031j, -21.34171933 +4.49299354j,\n",
       "         -19.09522256+10.10923547j],\n",
       "        [-10.10923547+17.97197417j,   0.56162419+20.21847094j,\n",
       "          10.67085966+17.41034998j]],\n",
       "\n",
       "       [[ 17.41034998 +8.98598709j,  19.65684675 -1.12324839j,\n",
       "          15.7254774 -10.67085966j],\n",
       "        [  7.8627387 -17.41034998j,  -1.68487258-18.53359836j,\n",
       "         -11.23248386-13.47898063j]],\n",
       "\n",
       "       [[-16.84872579 -6.73949031j, -17.41034998 +3.93136935j,\n",
       "         -12.35573224+12.91735644j],\n",
       "        [ -2.24649677+16.84872579j,   8.42436289+12.91735644j,\n",
       "          10.10923547 +7.8627387j ]],\n",
       "\n",
       "       [[ -5.05461774 +6.17786612j,  -1.12324839+11.23248386j,\n",
       "           6.73949031+11.23248386j],\n",
       "        [ 12.35573224 +3.93136935j,  13.47898063 -3.36974516j,\n",
       "           9.54761128-11.23248386j]],\n",
       "\n",
       "       [[  2.24649677-15.16385321j,  -6.73949031-13.47898063j,\n",
       "         -13.47898063 -8.42436289j],\n",
       "        [-15.7254774  +1.12324839j, -12.91735644 +8.98598709j,\n",
       "          -5.61624193+14.60222901j]],\n",
       "\n",
       "       [[  2.80812096+15.16385321j,   9.54761128+11.23248386j,\n",
       "          12.35573224 +7.8627387j ],\n",
       "        [ 13.47898063 -0.56162419j,  11.23248386 -7.30111451j,\n",
       "           5.61624193-11.23248386j]],\n",
       "\n",
       "       [[ -1.68487258-11.23248386j,  -6.73949031 -8.42436289j,\n",
       "          -9.54761128 -3.36974516j],\n",
       "        [ -8.98598709 +0.56162419j,  -6.73949031 +4.49299354j,\n",
       "          -3.36974516 +7.30111451j]],\n",
       "\n",
       "       [[  0.56162419 +6.73949031j,   3.36974516 +5.61624193j,\n",
       "           5.61624193 +3.93136935j],\n",
       "        [  6.17786612 +0.j        ,   5.61624193 -3.93136935j,\n",
       "           3.36974516 -4.49299354j]],\n",
       "\n",
       "       [[  8.42436289-12.91735644j,  -1.12324839-19.09522256j,\n",
       "         -14.04060482-17.41034998j],\n",
       "        [-20.78009513 -6.73949031j, -20.78009513 +5.05461774j,\n",
       "         -15.16385321+14.60222901j]],\n",
       "\n",
       "       [[ -5.61624193+20.21847094j,   5.05461774+20.21847094j,\n",
       "          14.04060482+15.7254774j ],\n",
       "        [ 18.53359836 +7.30111451j,  19.65684675 -2.24649677j,\n",
       "          16.28710159-11.23248386j]],\n",
       "\n",
       "       [[ 10.10923547-16.28710159j,   1.12324839-19.09522256j,\n",
       "          -2.24649677-18.53359836j],\n",
       "        [-11.23248386-16.28710159j, -15.7254774  -9.54761128j,\n",
       "         -17.97197417 -1.68487258j]],\n",
       "\n",
       "       [[-17.97197417 +6.73949031j, -13.47898063+15.16385321j,\n",
       "          -6.73949031+19.65684675j],\n",
       "        [  3.93136935+22.46496771j,  14.60222901+17.97197417j,\n",
       "          22.46496771 +8.42436289j]],\n",
       "\n",
       "       [[ 26.95796126 -5.05461774j,  21.34171933-19.09522256j,\n",
       "           6.73949031-29.20445803j],\n",
       "        [-12.35573224-28.08120964j, -24.71146448-12.35573224j,\n",
       "         -24.14984029 -3.93136935j]],\n",
       "\n",
       "       [[  6.73949031+18.53359836j,  21.34171933+14.04060482j,\n",
       "          28.08120964 -1.68487258j],\n",
       "        [ 21.90334352-19.09522256j,   8.42436289-26.95796126j,\n",
       "          -8.98598709-26.95796126j]],\n",
       "\n",
       "       [[-21.34171933-18.53359836j, -27.51958545 -5.61624193j,\n",
       "         -26.95796126+10.67085966j],\n",
       "        [-19.09522256+21.90334352j,  -5.05461774+27.51958545j,\n",
       "           8.98598709+26.95796126j]],\n",
       "\n",
       "       [[ 21.34171933+19.09522256j,  27.51958545 +6.17786612j,\n",
       "          28.64283383 -1.12324839j],\n",
       "        [ 24.71146448-16.84872579j,  12.35573224-26.39633706j,\n",
       "          -2.80812096-28.64283383j]],\n",
       "\n",
       "       [[-17.41034998-24.14984029j, -27.51958545-11.79410805j,\n",
       "         -29.20445803 +2.80812096j],\n",
       "        [-24.14984029+17.41034998j,  -8.98598709+27.51958545j,\n",
       "           6.17786612+28.08120964j]],\n",
       "\n",
       "       [[ 21.34171933+20.21847094j,  28.64283383 +3.36974516j,\n",
       "          25.83471287-12.91735644j],\n",
       "        [ 11.23248386-24.14984029j,  -4.49299354-21.34171933j,\n",
       "         -10.10923547-15.16385321j]],\n",
       "\n",
       "       [[ 22.46496771 -2.24649677j,  20.78009513-19.09522256j,\n",
       "           4.49299354-29.76608222j],\n",
       "        [-12.91735644-25.83471287j, -24.14984029-14.60222901j,\n",
       "         -25.83471287 -0.56162419j]],\n",
       "\n",
       "       [[-22.46496771+12.35573224j, -13.47898063+21.34171933j,\n",
       "          -1.12324839+24.71146448j],\n",
       "        [ 10.10923547+22.46496771j,  20.78009513+14.60222901j,\n",
       "          24.71146448 +2.24649677j]],\n",
       "\n",
       "       [[ 23.02659191 -8.98598709j,  15.7254774 -21.34171933j,\n",
       "           9.54761128-23.02659191j],\n",
       "        [ -4.49299354-25.83471287j, -16.28710159-19.65684675j,\n",
       "         -23.02659191 -7.30111451j]],\n",
       "\n",
       "       [[-23.02659191 +5.61624193j, -17.41034998+15.7254774j ,\n",
       "          -8.42436289+21.34171933j],\n",
       "        [  5.05461774+22.46496771j,  15.16385321+15.7254774j ,\n",
       "          21.90334352 +4.49299354j]],\n",
       "\n",
       "       [[ 20.78009513 -7.30111451j,  11.79410805-18.53359836j,\n",
       "          -1.12324839-21.34171933j],\n",
       "        [-12.91735644-15.16385321j, -15.7254774  -1.68487258j,\n",
       "         -13.47898063 +3.93136935j]]])"
      ]
     },
     "execution_count": 29,
     "metadata": {},
     "output_type": "execute_result"
    }
   ],
   "source": [
    "data1[0,:,:,:]"
   ]
  },
  {
   "cell_type": "code",
   "execution_count": 30,
   "metadata": {},
   "outputs": [
    {
     "data": {
      "text/plain": [
       "(10258, 30, 2, 3)"
      ]
     },
     "execution_count": 30,
     "metadata": {},
     "output_type": "execute_result"
    }
   ],
   "source": [
    "data1_grad = np.gradient(data1_norm,axis=0)\n",
    "data1_grad.shape"
   ]
  },
  {
   "cell_type": "code",
   "execution_count": 119,
   "metadata": {},
   "outputs": [],
   "source": [
    "# make data generator\n",
    "def gen_csi(df_info,id_num):\n",
    "    for file in set(df_info.id.values):\n",
    "        # read sample data\n",
    "        # load and uncompress.\n",
    "        with gzip.open(path_csi+file+'.pickle.gz','rb') as f:\n",
    "            data1 = pickle.load(f)\n",
    "        data1_abs = np.abs(data1)\n",
    "        data1_ph = np.angle(data1)\n",
    "        data1_abs.shape\n",
    "\n",
    "        # normalize through subc axis\n",
    "        abs_sub = np.mean(np.abs(data1),axis=(0,2,3))\n",
    "        data1_norm = data1/abs_sub[np.newaxis,:,np.newaxis,np.newaxis]\n",
    "\n",
    "        # differentiation\n",
    "        data1_grad = np.gradient(data1_norm,axis=0)\n",
    "\n",
    "        # Label\n",
    "        data1_lab = df_info[df_info.id==file]['id_person'].values[0]\n",
    "        yield(data1_grad.reshape(-1,30,6),data1_lab)"
   ]
  },
  {
   "cell_type": "code",
   "execution_count": 122,
   "metadata": {},
   "outputs": [],
   "source": [
    "#sample\n",
    "#generator = gen_csi(df_info)\n",
    "#a,b = next(generator)"
   ]
  },
  {
   "cell_type": "code",
   "execution_count": 123,
   "metadata": {},
   "outputs": [],
   "source": [
    "a1 =a.reshape(-1,30,6) "
   ]
  },
  {
   "cell_type": "code",
   "execution_count": 124,
   "metadata": {},
   "outputs": [],
   "source": [
    "# parameters\n",
    "learning_rate = 0.001\n",
    "training_epochs = 100\n",
    "batch_size = 100\n",
    "# Load Dataset\n",
    "from sklearn.model_selection import train_test_split\n",
    "tr_idx,te_idx = train_test_split(df_info.index,test_size=0.2,random_state=10)\n",
    "id_num = len(np.unique(df_info.id_person))\n",
    "df_train = df_info.loc[tr_idx]\n",
    "df_test = df_info.loc[te_idx]"
   ]
  },
  {
   "cell_type": "code",
   "execution_count": 125,
   "metadata": {},
   "outputs": [],
   "source": [
    "gen = lambda: (r for r in gen_csi(df_info))\n",
    "train_dataset = tf.data.Dataset().from_generator(gen, (tf.float32,tf.int32)).repeat().batch(batch_size)"
   ]
  },
  {
   "cell_type": "code",
   "execution_count": 126,
   "metadata": {},
   "outputs": [],
   "source": [
    "# create general iterator\n",
    "iterator = tf.data.Iterator.from_structure(train_dataset.output_types,train_dataset.output_shapes)\n",
    "next_element = iterator.get_next()"
   ]
  },
  {
   "cell_type": "code",
   "execution_count": 127,
   "metadata": {},
   "outputs": [],
   "source": [
    "# make datasets that we can initialize separately, but using the same structure via the common iterator\n",
    "training_init_op = iterator.make_initializer(train_dataset)"
   ]
  },
  {
   "cell_type": "code",
   "execution_count": 130,
   "metadata": {},
   "outputs": [],
   "source": [
    "def CNNmodel(in_data):\n",
    "    input2d = tf.reshape(in_data, [-1,30,6])\n",
    "    conv1 = tf.layers.conv1d(\n",
    "        inputs=input2d, \n",
    "        filters=20, \n",
    "        kernel_size=5, \n",
    "        strides=1,\n",
    "        #padding=\"same\", \n",
    "        activation=tf.nn.relu)\n",
    "    pool1 = tf.layers.max_pooling1d(\n",
    "        inputs=conv1, \n",
    "        pool_size=2, \n",
    "        strides=2)\n",
    "        #padding=\"same\")\n",
    "    conv2 = tf.layers.conv1d(\n",
    "        inputs=pool1, \n",
    "        filters=50, \n",
    "        kernel_size=5, \n",
    "        strides=1,\n",
    "        #padding=\"same\", \n",
    "        activation=tf.nn.relu)\n",
    "    pool2 = tf.layers.max_pooling1d(\n",
    "        inputs=conv2, \n",
    "        pool_size=2, \n",
    "        strides=2)\n",
    "        #padding=\"same\")\n",
    "    pool_flat = tf.layers.flatten(pool2)\n",
    "    fc = tf.layers.dense(\n",
    "        inputs= pool_flat, units=500, activation=tf.nn.relu)\n",
    "    output = tf.layers.dense(inputs=fc, units=10)    \n",
    "    return output"
   ]
  },
  {
   "cell_type": "code",
   "execution_count": 131,
   "metadata": {},
   "outputs": [],
   "source": [
    "# define cost/loss & optimizer\n",
    "logits = CNNmodel(next_element[0])\n",
    "loss = tf.reduce_mean(tf.nn.softmax_cross_entropy_with_logits_v2(\n",
    "    logits=logits, labels=tf.one_hot(next_element[1],id_num)))\n",
    "optimizer = tf.train.AdamOptimizer(learning_rate=learning_rate).minimize(loss)"
   ]
  },
  {
   "cell_type": "code",
   "execution_count": 98,
   "metadata": {},
   "outputs": [],
   "source": [
    "# accuracy\n",
    "pred = tf.argmax(logits,1)\n",
    "equal = tf.equal(pred,tf.argmax(next_element[1],1))\n",
    "accuracy = tf.reduce_mean(tf.cast(equal,tf.float32))\n",
    "\n",
    "#init\n",
    "init_op = tf.global_variables_initializer()\n",
    "training_init_op = iterator.make_initializer(train_dataset)"
   ]
  },
  {
   "cell_type": "code",
   "execution_count": 132,
   "metadata": {},
   "outputs": [
    {
     "ename": "FailedPreconditionError",
     "evalue": "Attempting to use uninitialized value beta1_power_1\n\t [[{{node beta1_power_1/read}} = Identity[T=DT_FLOAT, _class=[\"loc:@Adam_1/Assign_1\"], _device=\"/job:localhost/replica:0/task:0/device:GPU:0\"](beta1_power_1)]]\n\nCaused by op 'beta1_power_1/read', defined at:\n  File \"C:\\Users\\herok\\Anaconda3\\lib\\runpy.py\", line 193, in _run_module_as_main\n    \"__main__\", mod_spec)\n  File \"C:\\Users\\herok\\Anaconda3\\lib\\runpy.py\", line 85, in _run_code\n    exec(code, run_globals)\n  File \"C:\\Users\\herok\\Anaconda3\\lib\\site-packages\\ipykernel_launcher.py\", line 16, in <module>\n    app.launch_new_instance()\n  File \"C:\\Users\\herok\\Anaconda3\\lib\\site-packages\\traitlets\\config\\application.py\", line 658, in launch_instance\n    app.start()\n  File \"C:\\Users\\herok\\Anaconda3\\lib\\site-packages\\ipykernel\\kernelapp.py\", line 486, in start\n    self.io_loop.start()\n  File \"C:\\Users\\herok\\Anaconda3\\lib\\site-packages\\tornado\\platform\\asyncio.py\", line 127, in start\n    self.asyncio_loop.run_forever()\n  File \"C:\\Users\\herok\\Anaconda3\\lib\\asyncio\\base_events.py\", line 422, in run_forever\n    self._run_once()\n  File \"C:\\Users\\herok\\Anaconda3\\lib\\asyncio\\base_events.py\", line 1432, in _run_once\n    handle._run()\n  File \"C:\\Users\\herok\\Anaconda3\\lib\\asyncio\\events.py\", line 145, in _run\n    self._callback(*self._args)\n  File \"C:\\Users\\herok\\Anaconda3\\lib\\site-packages\\tornado\\platform\\asyncio.py\", line 117, in _handle_events\n    handler_func(fileobj, events)\n  File \"C:\\Users\\herok\\Anaconda3\\lib\\site-packages\\tornado\\stack_context.py\", line 276, in null_wrapper\n    return fn(*args, **kwargs)\n  File \"C:\\Users\\herok\\Anaconda3\\lib\\site-packages\\zmq\\eventloop\\zmqstream.py\", line 450, in _handle_events\n    self._handle_recv()\n  File \"C:\\Users\\herok\\Anaconda3\\lib\\site-packages\\zmq\\eventloop\\zmqstream.py\", line 480, in _handle_recv\n    self._run_callback(callback, msg)\n  File \"C:\\Users\\herok\\Anaconda3\\lib\\site-packages\\zmq\\eventloop\\zmqstream.py\", line 432, in _run_callback\n    callback(*args, **kwargs)\n  File \"C:\\Users\\herok\\Anaconda3\\lib\\site-packages\\tornado\\stack_context.py\", line 276, in null_wrapper\n    return fn(*args, **kwargs)\n  File \"C:\\Users\\herok\\Anaconda3\\lib\\site-packages\\ipykernel\\kernelbase.py\", line 283, in dispatcher\n    return self.dispatch_shell(stream, msg)\n  File \"C:\\Users\\herok\\Anaconda3\\lib\\site-packages\\ipykernel\\kernelbase.py\", line 233, in dispatch_shell\n    handler(stream, idents, msg)\n  File \"C:\\Users\\herok\\Anaconda3\\lib\\site-packages\\ipykernel\\kernelbase.py\", line 399, in execute_request\n    user_expressions, allow_stdin)\n  File \"C:\\Users\\herok\\Anaconda3\\lib\\site-packages\\ipykernel\\ipkernel.py\", line 208, in do_execute\n    res = shell.run_cell(code, store_history=store_history, silent=silent)\n  File \"C:\\Users\\herok\\Anaconda3\\lib\\site-packages\\ipykernel\\zmqshell.py\", line 537, in run_cell\n    return super(ZMQInteractiveShell, self).run_cell(*args, **kwargs)\n  File \"C:\\Users\\herok\\Anaconda3\\lib\\site-packages\\IPython\\core\\interactiveshell.py\", line 2662, in run_cell\n    raw_cell, store_history, silent, shell_futures)\n  File \"C:\\Users\\herok\\Anaconda3\\lib\\site-packages\\IPython\\core\\interactiveshell.py\", line 2785, in _run_cell\n    interactivity=interactivity, compiler=compiler, result=result)\n  File \"C:\\Users\\herok\\Anaconda3\\lib\\site-packages\\IPython\\core\\interactiveshell.py\", line 2903, in run_ast_nodes\n    if self.run_code(code, result):\n  File \"C:\\Users\\herok\\Anaconda3\\lib\\site-packages\\IPython\\core\\interactiveshell.py\", line 2963, in run_code\n    exec(code_obj, self.user_global_ns, self.user_ns)\n  File \"<ipython-input-131-5dc09f6db5b7>\", line 5, in <module>\n    optimizer = tf.train.AdamOptimizer(learning_rate=learning_rate).minimize(loss)\n  File \"C:\\Users\\herok\\Anaconda3\\lib\\site-packages\\tensorflow\\python\\training\\optimizer.py\", line 411, in minimize\n    name=name)\n  File \"C:\\Users\\herok\\Anaconda3\\lib\\site-packages\\tensorflow\\python\\training\\optimizer.py\", line 591, in apply_gradients\n    self._create_slots(var_list)\n  File \"C:\\Users\\herok\\Anaconda3\\lib\\site-packages\\tensorflow\\python\\training\\adam.py\", line 128, in _create_slots\n    colocate_with=first_var)\n  File \"C:\\Users\\herok\\Anaconda3\\lib\\site-packages\\tensorflow\\python\\training\\optimizer.py\", line 812, in _create_non_slot_variable\n    v = variable_scope.variable(initial_value, name=name, trainable=False)\n  File \"C:\\Users\\herok\\Anaconda3\\lib\\site-packages\\tensorflow\\python\\ops\\variables.py\", line 145, in __call__\n    return cls._variable_call(*args, **kwargs)\n  File \"C:\\Users\\herok\\Anaconda3\\lib\\site-packages\\tensorflow\\python\\ops\\variables.py\", line 141, in _variable_call\n    aggregation=aggregation)\n  File \"C:\\Users\\herok\\Anaconda3\\lib\\site-packages\\tensorflow\\python\\ops\\variables.py\", line 120, in <lambda>\n    previous_getter = lambda **kwargs: default_variable_creator(None, **kwargs)\n  File \"C:\\Users\\herok\\Anaconda3\\lib\\site-packages\\tensorflow\\python\\ops\\variable_scope.py\", line 2441, in default_variable_creator\n    expected_shape=expected_shape, import_scope=import_scope)\n  File \"C:\\Users\\herok\\Anaconda3\\lib\\site-packages\\tensorflow\\python\\ops\\variables.py\", line 147, in __call__\n    return super(VariableMetaclass, cls).__call__(*args, **kwargs)\n  File \"C:\\Users\\herok\\Anaconda3\\lib\\site-packages\\tensorflow\\python\\ops\\variables.py\", line 1104, in __init__\n    constraint=constraint)\n  File \"C:\\Users\\herok\\Anaconda3\\lib\\site-packages\\tensorflow\\python\\ops\\variables.py\", line 1266, in _init_from_args\n    self._snapshot = array_ops.identity(self._variable, name=\"read\")\n  File \"C:\\Users\\herok\\Anaconda3\\lib\\site-packages\\tensorflow\\python\\ops\\array_ops.py\", line 81, in identity\n    return gen_array_ops.identity(input, name=name)\n  File \"C:\\Users\\herok\\Anaconda3\\lib\\site-packages\\tensorflow\\python\\ops\\gen_array_ops.py\", line 3354, in identity\n    \"Identity\", input=input, name=name)\n  File \"C:\\Users\\herok\\Anaconda3\\lib\\site-packages\\tensorflow\\python\\framework\\op_def_library.py\", line 787, in _apply_op_helper\n    op_def=op_def)\n  File \"C:\\Users\\herok\\Anaconda3\\lib\\site-packages\\tensorflow\\python\\util\\deprecation.py\", line 488, in new_func\n    return func(*args, **kwargs)\n  File \"C:\\Users\\herok\\Anaconda3\\lib\\site-packages\\tensorflow\\python\\framework\\ops.py\", line 3272, in create_op\n    op_def=op_def)\n  File \"C:\\Users\\herok\\Anaconda3\\lib\\site-packages\\tensorflow\\python\\framework\\ops.py\", line 1768, in __init__\n    self._traceback = tf_stack.extract_stack()\n\nFailedPreconditionError (see above for traceback): Attempting to use uninitialized value beta1_power_1\n\t [[{{node beta1_power_1/read}} = Identity[T=DT_FLOAT, _class=[\"loc:@Adam_1/Assign_1\"], _device=\"/job:localhost/replica:0/task:0/device:GPU:0\"](beta1_power_1)]]\n",
     "output_type": "error",
     "traceback": [
      "\u001b[1;31m---------------------------------------------------------------------------\u001b[0m",
      "\u001b[1;31mFailedPreconditionError\u001b[0m                   Traceback (most recent call last)",
      "\u001b[1;32m~\\Anaconda3\\lib\\site-packages\\tensorflow\\python\\client\\session.py\u001b[0m in \u001b[0;36m_do_call\u001b[1;34m(self, fn, *args)\u001b[0m\n\u001b[0;32m   1291\u001b[0m     \u001b[1;32mtry\u001b[0m\u001b[1;33m:\u001b[0m\u001b[1;33m\u001b[0m\u001b[0m\n\u001b[1;32m-> 1292\u001b[1;33m       \u001b[1;32mreturn\u001b[0m \u001b[0mfn\u001b[0m\u001b[1;33m(\u001b[0m\u001b[1;33m*\u001b[0m\u001b[0margs\u001b[0m\u001b[1;33m)\u001b[0m\u001b[1;33m\u001b[0m\u001b[0m\n\u001b[0m\u001b[0;32m   1293\u001b[0m     \u001b[1;32mexcept\u001b[0m \u001b[0merrors\u001b[0m\u001b[1;33m.\u001b[0m\u001b[0mOpError\u001b[0m \u001b[1;32mas\u001b[0m \u001b[0me\u001b[0m\u001b[1;33m:\u001b[0m\u001b[1;33m\u001b[0m\u001b[0m\n",
      "\u001b[1;32m~\\Anaconda3\\lib\\site-packages\\tensorflow\\python\\client\\session.py\u001b[0m in \u001b[0;36m_run_fn\u001b[1;34m(feed_dict, fetch_list, target_list, options, run_metadata)\u001b[0m\n\u001b[0;32m   1276\u001b[0m       return self._call_tf_sessionrun(\n\u001b[1;32m-> 1277\u001b[1;33m           options, feed_dict, fetch_list, target_list, run_metadata)\n\u001b[0m\u001b[0;32m   1278\u001b[0m \u001b[1;33m\u001b[0m\u001b[0m\n",
      "\u001b[1;32m~\\Anaconda3\\lib\\site-packages\\tensorflow\\python\\client\\session.py\u001b[0m in \u001b[0;36m_call_tf_sessionrun\u001b[1;34m(self, options, feed_dict, fetch_list, target_list, run_metadata)\u001b[0m\n\u001b[0;32m   1366\u001b[0m         \u001b[0mself\u001b[0m\u001b[1;33m.\u001b[0m\u001b[0m_session\u001b[0m\u001b[1;33m,\u001b[0m \u001b[0moptions\u001b[0m\u001b[1;33m,\u001b[0m \u001b[0mfeed_dict\u001b[0m\u001b[1;33m,\u001b[0m \u001b[0mfetch_list\u001b[0m\u001b[1;33m,\u001b[0m \u001b[0mtarget_list\u001b[0m\u001b[1;33m,\u001b[0m\u001b[1;33m\u001b[0m\u001b[0m\n\u001b[1;32m-> 1367\u001b[1;33m         run_metadata)\n\u001b[0m\u001b[0;32m   1368\u001b[0m \u001b[1;33m\u001b[0m\u001b[0m\n",
      "\u001b[1;31mFailedPreconditionError\u001b[0m: Attempting to use uninitialized value beta1_power_1\n\t [[{{node beta1_power_1/read}} = Identity[T=DT_FLOAT, _class=[\"loc:@Adam_1/Assign_1\"], _device=\"/job:localhost/replica:0/task:0/device:GPU:0\"](beta1_power_1)]]",
      "\nDuring handling of the above exception, another exception occurred:\n",
      "\u001b[1;31mFailedPreconditionError\u001b[0m                   Traceback (most recent call last)",
      "\u001b[1;32m<ipython-input-132-7786169218cc>\u001b[0m in \u001b[0;36m<module>\u001b[1;34m()\u001b[0m\n\u001b[0;32m      6\u001b[0m     \u001b[0msess\u001b[0m\u001b[1;33m.\u001b[0m\u001b[0mrun\u001b[0m\u001b[1;33m(\u001b[0m\u001b[0mtraining_init_op\u001b[0m\u001b[1;33m)\u001b[0m\u001b[1;33m\u001b[0m\u001b[0m\n\u001b[0;32m      7\u001b[0m     \u001b[1;32mfor\u001b[0m \u001b[0mi\u001b[0m \u001b[1;32min\u001b[0m \u001b[0mrange\u001b[0m\u001b[1;33m(\u001b[0m\u001b[0mepochs\u001b[0m\u001b[1;33m)\u001b[0m\u001b[1;33m:\u001b[0m\u001b[1;33m\u001b[0m\u001b[0m\n\u001b[1;32m----> 8\u001b[1;33m         \u001b[0ml\u001b[0m\u001b[1;33m,\u001b[0m \u001b[0m_\u001b[0m\u001b[1;33m,\u001b[0m \u001b[0macc\u001b[0m \u001b[1;33m=\u001b[0m \u001b[0msess\u001b[0m\u001b[1;33m.\u001b[0m\u001b[0mrun\u001b[0m\u001b[1;33m(\u001b[0m\u001b[1;33m[\u001b[0m\u001b[0mloss\u001b[0m\u001b[1;33m,\u001b[0m \u001b[0moptimizer\u001b[0m\u001b[1;33m,\u001b[0m \u001b[0maccuracy\u001b[0m\u001b[1;33m]\u001b[0m\u001b[1;33m)\u001b[0m\u001b[1;33m\u001b[0m\u001b[0m\n\u001b[0m\u001b[0;32m      9\u001b[0m         \u001b[0mprint\u001b[0m\u001b[1;33m(\u001b[0m\u001b[1;34m\"Epoch: {}, loss: {:.3f}, training accuracy: {:.2f}%\"\u001b[0m\u001b[1;33m.\u001b[0m\u001b[0mformat\u001b[0m\u001b[1;33m(\u001b[0m\u001b[0mi\u001b[0m\u001b[1;33m+\u001b[0m\u001b[1;36m1\u001b[0m\u001b[1;33m,\u001b[0m \u001b[0ml\u001b[0m\u001b[1;33m,\u001b[0m \u001b[0macc\u001b[0m \u001b[1;33m*\u001b[0m \u001b[1;36m100\u001b[0m\u001b[1;33m)\u001b[0m\u001b[1;33m)\u001b[0m\u001b[1;33m\u001b[0m\u001b[0m\n\u001b[0;32m     10\u001b[0m         '''\n",
      "\u001b[1;32m~\\Anaconda3\\lib\\site-packages\\tensorflow\\python\\client\\session.py\u001b[0m in \u001b[0;36mrun\u001b[1;34m(self, fetches, feed_dict, options, run_metadata)\u001b[0m\n\u001b[0;32m    885\u001b[0m     \u001b[1;32mtry\u001b[0m\u001b[1;33m:\u001b[0m\u001b[1;33m\u001b[0m\u001b[0m\n\u001b[0;32m    886\u001b[0m       result = self._run(None, fetches, feed_dict, options_ptr,\n\u001b[1;32m--> 887\u001b[1;33m                          run_metadata_ptr)\n\u001b[0m\u001b[0;32m    888\u001b[0m       \u001b[1;32mif\u001b[0m \u001b[0mrun_metadata\u001b[0m\u001b[1;33m:\u001b[0m\u001b[1;33m\u001b[0m\u001b[0m\n\u001b[0;32m    889\u001b[0m         \u001b[0mproto_data\u001b[0m \u001b[1;33m=\u001b[0m \u001b[0mtf_session\u001b[0m\u001b[1;33m.\u001b[0m\u001b[0mTF_GetBuffer\u001b[0m\u001b[1;33m(\u001b[0m\u001b[0mrun_metadata_ptr\u001b[0m\u001b[1;33m)\u001b[0m\u001b[1;33m\u001b[0m\u001b[0m\n",
      "\u001b[1;32m~\\Anaconda3\\lib\\site-packages\\tensorflow\\python\\client\\session.py\u001b[0m in \u001b[0;36m_run\u001b[1;34m(self, handle, fetches, feed_dict, options, run_metadata)\u001b[0m\n\u001b[0;32m   1108\u001b[0m     \u001b[1;32mif\u001b[0m \u001b[0mfinal_fetches\u001b[0m \u001b[1;32mor\u001b[0m \u001b[0mfinal_targets\u001b[0m \u001b[1;32mor\u001b[0m \u001b[1;33m(\u001b[0m\u001b[0mhandle\u001b[0m \u001b[1;32mand\u001b[0m \u001b[0mfeed_dict_tensor\u001b[0m\u001b[1;33m)\u001b[0m\u001b[1;33m:\u001b[0m\u001b[1;33m\u001b[0m\u001b[0m\n\u001b[0;32m   1109\u001b[0m       results = self._do_run(handle, final_targets, final_fetches,\n\u001b[1;32m-> 1110\u001b[1;33m                              feed_dict_tensor, options, run_metadata)\n\u001b[0m\u001b[0;32m   1111\u001b[0m     \u001b[1;32melse\u001b[0m\u001b[1;33m:\u001b[0m\u001b[1;33m\u001b[0m\u001b[0m\n\u001b[0;32m   1112\u001b[0m       \u001b[0mresults\u001b[0m \u001b[1;33m=\u001b[0m \u001b[1;33m[\u001b[0m\u001b[1;33m]\u001b[0m\u001b[1;33m\u001b[0m\u001b[0m\n",
      "\u001b[1;32m~\\Anaconda3\\lib\\site-packages\\tensorflow\\python\\client\\session.py\u001b[0m in \u001b[0;36m_do_run\u001b[1;34m(self, handle, target_list, fetch_list, feed_dict, options, run_metadata)\u001b[0m\n\u001b[0;32m   1284\u001b[0m     \u001b[1;32mif\u001b[0m \u001b[0mhandle\u001b[0m \u001b[1;32mis\u001b[0m \u001b[1;32mNone\u001b[0m\u001b[1;33m:\u001b[0m\u001b[1;33m\u001b[0m\u001b[0m\n\u001b[0;32m   1285\u001b[0m       return self._do_call(_run_fn, feeds, fetches, targets, options,\n\u001b[1;32m-> 1286\u001b[1;33m                            run_metadata)\n\u001b[0m\u001b[0;32m   1287\u001b[0m     \u001b[1;32melse\u001b[0m\u001b[1;33m:\u001b[0m\u001b[1;33m\u001b[0m\u001b[0m\n\u001b[0;32m   1288\u001b[0m       \u001b[1;32mreturn\u001b[0m \u001b[0mself\u001b[0m\u001b[1;33m.\u001b[0m\u001b[0m_do_call\u001b[0m\u001b[1;33m(\u001b[0m\u001b[0m_prun_fn\u001b[0m\u001b[1;33m,\u001b[0m \u001b[0mhandle\u001b[0m\u001b[1;33m,\u001b[0m \u001b[0mfeeds\u001b[0m\u001b[1;33m,\u001b[0m \u001b[0mfetches\u001b[0m\u001b[1;33m)\u001b[0m\u001b[1;33m\u001b[0m\u001b[0m\n",
      "\u001b[1;32m~\\Anaconda3\\lib\\site-packages\\tensorflow\\python\\client\\session.py\u001b[0m in \u001b[0;36m_do_call\u001b[1;34m(self, fn, *args)\u001b[0m\n\u001b[0;32m   1306\u001b[0m           self._config.experimental.client_handles_error_formatting):\n\u001b[0;32m   1307\u001b[0m         \u001b[0mmessage\u001b[0m \u001b[1;33m=\u001b[0m \u001b[0merror_interpolation\u001b[0m\u001b[1;33m.\u001b[0m\u001b[0minterpolate\u001b[0m\u001b[1;33m(\u001b[0m\u001b[0mmessage\u001b[0m\u001b[1;33m,\u001b[0m \u001b[0mself\u001b[0m\u001b[1;33m.\u001b[0m\u001b[0m_graph\u001b[0m\u001b[1;33m)\u001b[0m\u001b[1;33m\u001b[0m\u001b[0m\n\u001b[1;32m-> 1308\u001b[1;33m       \u001b[1;32mraise\u001b[0m \u001b[0mtype\u001b[0m\u001b[1;33m(\u001b[0m\u001b[0me\u001b[0m\u001b[1;33m)\u001b[0m\u001b[1;33m(\u001b[0m\u001b[0mnode_def\u001b[0m\u001b[1;33m,\u001b[0m \u001b[0mop\u001b[0m\u001b[1;33m,\u001b[0m \u001b[0mmessage\u001b[0m\u001b[1;33m)\u001b[0m\u001b[1;33m\u001b[0m\u001b[0m\n\u001b[0m\u001b[0;32m   1309\u001b[0m \u001b[1;33m\u001b[0m\u001b[0m\n\u001b[0;32m   1310\u001b[0m   \u001b[1;32mdef\u001b[0m \u001b[0m_extend_graph\u001b[0m\u001b[1;33m(\u001b[0m\u001b[0mself\u001b[0m\u001b[1;33m)\u001b[0m\u001b[1;33m:\u001b[0m\u001b[1;33m\u001b[0m\u001b[0m\n",
      "\u001b[1;31mFailedPreconditionError\u001b[0m: Attempting to use uninitialized value beta1_power_1\n\t [[{{node beta1_power_1/read}} = Identity[T=DT_FLOAT, _class=[\"loc:@Adam_1/Assign_1\"], _device=\"/job:localhost/replica:0/task:0/device:GPU:0\"](beta1_power_1)]]\n\nCaused by op 'beta1_power_1/read', defined at:\n  File \"C:\\Users\\herok\\Anaconda3\\lib\\runpy.py\", line 193, in _run_module_as_main\n    \"__main__\", mod_spec)\n  File \"C:\\Users\\herok\\Anaconda3\\lib\\runpy.py\", line 85, in _run_code\n    exec(code, run_globals)\n  File \"C:\\Users\\herok\\Anaconda3\\lib\\site-packages\\ipykernel_launcher.py\", line 16, in <module>\n    app.launch_new_instance()\n  File \"C:\\Users\\herok\\Anaconda3\\lib\\site-packages\\traitlets\\config\\application.py\", line 658, in launch_instance\n    app.start()\n  File \"C:\\Users\\herok\\Anaconda3\\lib\\site-packages\\ipykernel\\kernelapp.py\", line 486, in start\n    self.io_loop.start()\n  File \"C:\\Users\\herok\\Anaconda3\\lib\\site-packages\\tornado\\platform\\asyncio.py\", line 127, in start\n    self.asyncio_loop.run_forever()\n  File \"C:\\Users\\herok\\Anaconda3\\lib\\asyncio\\base_events.py\", line 422, in run_forever\n    self._run_once()\n  File \"C:\\Users\\herok\\Anaconda3\\lib\\asyncio\\base_events.py\", line 1432, in _run_once\n    handle._run()\n  File \"C:\\Users\\herok\\Anaconda3\\lib\\asyncio\\events.py\", line 145, in _run\n    self._callback(*self._args)\n  File \"C:\\Users\\herok\\Anaconda3\\lib\\site-packages\\tornado\\platform\\asyncio.py\", line 117, in _handle_events\n    handler_func(fileobj, events)\n  File \"C:\\Users\\herok\\Anaconda3\\lib\\site-packages\\tornado\\stack_context.py\", line 276, in null_wrapper\n    return fn(*args, **kwargs)\n  File \"C:\\Users\\herok\\Anaconda3\\lib\\site-packages\\zmq\\eventloop\\zmqstream.py\", line 450, in _handle_events\n    self._handle_recv()\n  File \"C:\\Users\\herok\\Anaconda3\\lib\\site-packages\\zmq\\eventloop\\zmqstream.py\", line 480, in _handle_recv\n    self._run_callback(callback, msg)\n  File \"C:\\Users\\herok\\Anaconda3\\lib\\site-packages\\zmq\\eventloop\\zmqstream.py\", line 432, in _run_callback\n    callback(*args, **kwargs)\n  File \"C:\\Users\\herok\\Anaconda3\\lib\\site-packages\\tornado\\stack_context.py\", line 276, in null_wrapper\n    return fn(*args, **kwargs)\n  File \"C:\\Users\\herok\\Anaconda3\\lib\\site-packages\\ipykernel\\kernelbase.py\", line 283, in dispatcher\n    return self.dispatch_shell(stream, msg)\n  File \"C:\\Users\\herok\\Anaconda3\\lib\\site-packages\\ipykernel\\kernelbase.py\", line 233, in dispatch_shell\n    handler(stream, idents, msg)\n  File \"C:\\Users\\herok\\Anaconda3\\lib\\site-packages\\ipykernel\\kernelbase.py\", line 399, in execute_request\n    user_expressions, allow_stdin)\n  File \"C:\\Users\\herok\\Anaconda3\\lib\\site-packages\\ipykernel\\ipkernel.py\", line 208, in do_execute\n    res = shell.run_cell(code, store_history=store_history, silent=silent)\n  File \"C:\\Users\\herok\\Anaconda3\\lib\\site-packages\\ipykernel\\zmqshell.py\", line 537, in run_cell\n    return super(ZMQInteractiveShell, self).run_cell(*args, **kwargs)\n  File \"C:\\Users\\herok\\Anaconda3\\lib\\site-packages\\IPython\\core\\interactiveshell.py\", line 2662, in run_cell\n    raw_cell, store_history, silent, shell_futures)\n  File \"C:\\Users\\herok\\Anaconda3\\lib\\site-packages\\IPython\\core\\interactiveshell.py\", line 2785, in _run_cell\n    interactivity=interactivity, compiler=compiler, result=result)\n  File \"C:\\Users\\herok\\Anaconda3\\lib\\site-packages\\IPython\\core\\interactiveshell.py\", line 2903, in run_ast_nodes\n    if self.run_code(code, result):\n  File \"C:\\Users\\herok\\Anaconda3\\lib\\site-packages\\IPython\\core\\interactiveshell.py\", line 2963, in run_code\n    exec(code_obj, self.user_global_ns, self.user_ns)\n  File \"<ipython-input-131-5dc09f6db5b7>\", line 5, in <module>\n    optimizer = tf.train.AdamOptimizer(learning_rate=learning_rate).minimize(loss)\n  File \"C:\\Users\\herok\\Anaconda3\\lib\\site-packages\\tensorflow\\python\\training\\optimizer.py\", line 411, in minimize\n    name=name)\n  File \"C:\\Users\\herok\\Anaconda3\\lib\\site-packages\\tensorflow\\python\\training\\optimizer.py\", line 591, in apply_gradients\n    self._create_slots(var_list)\n  File \"C:\\Users\\herok\\Anaconda3\\lib\\site-packages\\tensorflow\\python\\training\\adam.py\", line 128, in _create_slots\n    colocate_with=first_var)\n  File \"C:\\Users\\herok\\Anaconda3\\lib\\site-packages\\tensorflow\\python\\training\\optimizer.py\", line 812, in _create_non_slot_variable\n    v = variable_scope.variable(initial_value, name=name, trainable=False)\n  File \"C:\\Users\\herok\\Anaconda3\\lib\\site-packages\\tensorflow\\python\\ops\\variables.py\", line 145, in __call__\n    return cls._variable_call(*args, **kwargs)\n  File \"C:\\Users\\herok\\Anaconda3\\lib\\site-packages\\tensorflow\\python\\ops\\variables.py\", line 141, in _variable_call\n    aggregation=aggregation)\n  File \"C:\\Users\\herok\\Anaconda3\\lib\\site-packages\\tensorflow\\python\\ops\\variables.py\", line 120, in <lambda>\n    previous_getter = lambda **kwargs: default_variable_creator(None, **kwargs)\n  File \"C:\\Users\\herok\\Anaconda3\\lib\\site-packages\\tensorflow\\python\\ops\\variable_scope.py\", line 2441, in default_variable_creator\n    expected_shape=expected_shape, import_scope=import_scope)\n  File \"C:\\Users\\herok\\Anaconda3\\lib\\site-packages\\tensorflow\\python\\ops\\variables.py\", line 147, in __call__\n    return super(VariableMetaclass, cls).__call__(*args, **kwargs)\n  File \"C:\\Users\\herok\\Anaconda3\\lib\\site-packages\\tensorflow\\python\\ops\\variables.py\", line 1104, in __init__\n    constraint=constraint)\n  File \"C:\\Users\\herok\\Anaconda3\\lib\\site-packages\\tensorflow\\python\\ops\\variables.py\", line 1266, in _init_from_args\n    self._snapshot = array_ops.identity(self._variable, name=\"read\")\n  File \"C:\\Users\\herok\\Anaconda3\\lib\\site-packages\\tensorflow\\python\\ops\\array_ops.py\", line 81, in identity\n    return gen_array_ops.identity(input, name=name)\n  File \"C:\\Users\\herok\\Anaconda3\\lib\\site-packages\\tensorflow\\python\\ops\\gen_array_ops.py\", line 3354, in identity\n    \"Identity\", input=input, name=name)\n  File \"C:\\Users\\herok\\Anaconda3\\lib\\site-packages\\tensorflow\\python\\framework\\op_def_library.py\", line 787, in _apply_op_helper\n    op_def=op_def)\n  File \"C:\\Users\\herok\\Anaconda3\\lib\\site-packages\\tensorflow\\python\\util\\deprecation.py\", line 488, in new_func\n    return func(*args, **kwargs)\n  File \"C:\\Users\\herok\\Anaconda3\\lib\\site-packages\\tensorflow\\python\\framework\\ops.py\", line 3272, in create_op\n    op_def=op_def)\n  File \"C:\\Users\\herok\\Anaconda3\\lib\\site-packages\\tensorflow\\python\\framework\\ops.py\", line 1768, in __init__\n    self._traceback = tf_stack.extract_stack()\n\nFailedPreconditionError (see above for traceback): Attempting to use uninitialized value beta1_power_1\n\t [[{{node beta1_power_1/read}} = Identity[T=DT_FLOAT, _class=[\"loc:@Adam_1/Assign_1\"], _device=\"/job:localhost/replica:0/task:0/device:GPU:0\"](beta1_power_1)]]\n"
     ]
    }
   ],
   "source": [
    "# run the training\n",
    "epochs = training_epochs\n",
    "results = pd.DataFrame(columns=['loss','accuracy'])\n",
    "with tf.Session() as sess:\n",
    "    sess.run(init_op)\n",
    "    sess.run(training_init_op)\n",
    "    for i in range(epochs):\n",
    "        l, _, acc = sess.run([loss, optimizer, accuracy])\n",
    "        print(\"Epoch: {}, loss: {:.3f}, training accuracy: {:.2f}%\".format(i+1, l, acc * 100))\n",
    "        '''\n",
    "        # now setup the validation run\n",
    "        test_iters = 1\n",
    "        # re-initialize the iterator, but this time with validation data\n",
    "        sess.run(test_init_op)\n",
    "        test_l, test_acc = sess.run([loss, accuracy])\n",
    "        print(\"Epoch: {}, test loss: {:.3f}, test accuracy: {:.2f}%\".format(i+1, test_l, test_acc * 100))\n",
    "        '''\n",
    "        results.loc[i] = [l,acc]"
   ]
  },
  {
   "cell_type": "code",
   "execution_count": null,
   "metadata": {},
   "outputs": [],
   "source": []
  }
 ],
 "metadata": {
  "kernelspec": {
   "display_name": "Python 3",
   "language": "python",
   "name": "python3"
  },
  "language_info": {
   "codemirror_mode": {
    "name": "ipython",
    "version": 3
   },
   "file_extension": ".py",
   "mimetype": "text/x-python",
   "name": "python",
   "nbconvert_exporter": "python",
   "pygments_lexer": "ipython3",
   "version": "3.6.5"
  }
 },
 "nbformat": 4,
 "nbformat_minor": 2
}
