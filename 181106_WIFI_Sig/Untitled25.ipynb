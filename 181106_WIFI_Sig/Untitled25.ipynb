{
 "cells": [
  {
   "cell_type": "code",
   "execution_count": null,
   "metadata": {},
   "outputs": [
    {
     "name": "stderr",
     "output_type": "stream",
     "text": [
      "C:\\Users\\herok\\Anaconda3\\lib\\site-packages\\h5py\\__init__.py:36: FutureWarning: Conversion of the second argument of issubdtype from `float` to `np.floating` is deprecated. In future, it will be treated as `np.float64 == np.dtype(float).type`.\n",
      "  from ._conv import register_converters as _register_converters\n"
     ]
    },
    {
     "name": "stdout",
     "output_type": "stream",
     "text": [
      "Epoch 1/10\n",
      "Epoch 2/10\n",
      "Epoch 3/10\n",
      "Epoch 4/10\n"
     ]
    }
   ],
   "source": [
    "import os\n",
    "import tensorflow as tf\n",
    "import numpy as np\n",
    "import pandas as pd\n",
    "import pickle\n",
    "import gzip\n",
    "import matplotlib.pyplot as plt\n",
    "from sklearn.model_selection import train_test_split\n",
    "\n",
    "# data path\n",
    "path_csi =  'J:\\\\Data\\\\Wi-Fi_processed\\\\'\n",
    "path_csi_hc = 'J:\\\\Data\\\\Wi-Fi_HC\\\\180_100\\\\'\n",
    "\n",
    "# data info\n",
    "df_info = pd.read_csv('data_subc_sig.csv')\n",
    "# parameters\n",
    "no_classes = np.max(df_info['id_person'])\n",
    "epochs = 10\n",
    "batch_size = 10\n",
    "#image_height = int(np.max(df_info['len']))\n",
    "image_height,image_width = 500,30\n",
    "input_shape = (image_height, image_width, 6)\n",
    "\n",
    "#read file\n",
    "file_list = os.listdir(path_csi_hc)\n",
    "file = file_list[0]\n",
    "data_read = np.load(path_csi_hc + file)        \n",
    "\n",
    "#filter outliers\n",
    "xs_med = np.median(np.abs(data_read[:,4:]))\n",
    "xs_std = np.std(np.abs(data_read[:,4:]))\n",
    "xs_th = xs_med+xs_std\n",
    "\n",
    "data_read_f =  np.array([row for row in list(data_read) if np.max(np.abs(row[4:])) <= xs_th])\n",
    "\n",
    "# train test split\n",
    "data_tr,data_te = train_test_split(data_read_f,test_size=0.2,random_state=10)\n",
    "#input data\n",
    "data_xs_tr = data_tr[:,4:].astype('float32') / xs_th\n",
    "data_xs_te = data_te[:,4:].astype('float32') / xs_th\n",
    "data_y_tr = data_tr[:,0].astype('int')\n",
    "data_y_te = data_te[:,0].astype('int')\n",
    "\n",
    "x_train = data_xs_tr.reshape([-1,500,30,6])\n",
    "x_test = data_xs_te.reshape([-1,500,30,6])\n",
    "y_train =  tf.keras.utils.to_categorical(data_y_tr, no_classes)\n",
    "y_test =  tf.keras.utils.to_categorical(data_y_te, no_classes)\n",
    "\n",
    "#models\n",
    "def simple_cnn(input_shape):\n",
    "    model = tf.keras.models.Sequential()\n",
    "    model.add(tf.keras.layers.Conv2D(\n",
    "        filters=64,\n",
    "        kernel_size=(3, 3),\n",
    "        activation='relu',\n",
    "        input_shape=input_shape\n",
    "    ))\n",
    "    model.add(tf.keras.layers.Conv2D(\n",
    "        filters=128,\n",
    "        kernel_size=(3, 3),\n",
    "        activation='relu'\n",
    "    ))\n",
    "    model.add(tf.keras.layers.MaxPooling2D(pool_size=(2, 2)))\n",
    "    model.add(tf.keras.layers.Dropout(rate=0.3))\n",
    "    model.add(tf.keras.layers.Flatten())\n",
    "    model.add(tf.keras.layers.Dense(units=256, activation='relu'))\n",
    "    model.add(tf.keras.layers.Dropout(rate=0.3))\n",
    "    model.add(tf.keras.layers.Dense(units=no_classes, activation='softmax'))\n",
    "    model.compile(loss=tf.keras.losses.categorical_crossentropy,\n",
    "                  optimizer=tf.keras.optimizers.Adam(),\n",
    "                  metrics=['accuracy'])\n",
    "    return model\n",
    "# training\n",
    "simple_cnn_model = simple_cnn(input_shape)\n",
    "simple_cnn_model.fit(x_train, y_train, batch_size, epochs, (x_test, y_test))\n",
    "\n",
    "train_loss, train_accuracy = simple_cnn_model.evaluate(\n",
    "    x_train, y_train, verbose=0)\n",
    "print('Train data loss:', train_loss)\n",
    "print('Train data accuracy:', train_accuracy)\n",
    "\n",
    "# test\n",
    "test_loss, test_accuracy = simple_cnn_model.evaluate(\n",
    "    x_test, y_test, verbose=0)\n",
    "print('Test data loss:', test_loss)\n",
    "print('Test data accuracy:', test_accuracy)"
   ]
  },
  {
   "cell_type": "code",
   "execution_count": null,
   "metadata": {},
   "outputs": [],
   "source": [
    "# Plot\n",
    "def plot_loss(history):\n",
    "    plt.plot(history.history['loss'])\n",
    "    #plt.plot(history.history['val_loss'])\n",
    "    plt.title('Model Loss')\n",
    "    plt.ylabel('Loss')\n",
    "    plt.xlabel('Epoch')\n",
    "    plt.legend(['Train','Test'],loc=0)\n",
    "def plot_acc(history):\n",
    "    plt.plot(history.history['acc'])\n",
    "    #plt.plot(history.history['val_acc'])\n",
    "    plt.title('Model Acc')\n",
    "    plt.ylabel('Acc')\n",
    "    plt.xlabel('Epoch')\n",
    "    plt.legend(['Train','Test'],loc=0)\n",
    "\n",
    "plot_loss(simple_cnn_model.history)\n",
    "#plot_acc(simple_cnn_model.history)"
   ]
  },
  {
   "cell_type": "code",
   "execution_count": null,
   "metadata": {},
   "outputs": [],
   "source": [
    "data_y_tr.shape"
   ]
  },
  {
   "cell_type": "code",
   "execution_count": null,
   "metadata": {},
   "outputs": [],
   "source": []
  }
 ],
 "metadata": {
  "kernelspec": {
   "display_name": "Python 3",
   "language": "python",
   "name": "python3"
  },
  "language_info": {
   "codemirror_mode": {
    "name": "ipython",
    "version": 3
   },
   "file_extension": ".py",
   "mimetype": "text/x-python",
   "name": "python",
   "nbconvert_exporter": "python",
   "pygments_lexer": "ipython3",
   "version": "3.6.5"
  }
 },
 "nbformat": 4,
 "nbformat_minor": 2
}
