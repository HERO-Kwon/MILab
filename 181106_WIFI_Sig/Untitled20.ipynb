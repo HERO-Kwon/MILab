{
 "cells": [
  {
   "cell_type": "code",
   "execution_count": 1,
   "metadata": {},
   "outputs": [
    {
     "name": "stderr",
     "output_type": "stream",
     "text": [
      "C:\\Users\\herok\\Anaconda3\\lib\\site-packages\\h5py\\__init__.py:36: FutureWarning: Conversion of the second argument of issubdtype from `float` to `np.floating` is deprecated. In future, it will be treated as `np.float64 == np.dtype(float).type`.\n",
      "  from ._conv import register_converters as _register_converters\n"
     ]
    }
   ],
   "source": [
    "import os\n",
    "import tensorflow as tf\n",
    "import numpy as np\n",
    "import pandas as pd\n",
    "import pickle\n",
    "import gzip\n",
    "import matplotlib.pyplot as plt\n",
    "from sklearn.model_selection import train_test_split\n",
    "\n",
    "# data path\n",
    "path_csi =  'J:\\\\Data\\\\Wi-Fi_processed\\\\'\n",
    "path_csi_hc = 'J:\\\\Data\\\\Wi-Fi_HC\\\\180_100\\\\'\n",
    "\n",
    "# data info\n",
    "df_info = pd.read_csv('data_subc_sig_v1.csv')\n",
    "# parameters\n",
    "max_value = np.max(df_info['max'].values)\n",
    "no_classes = np.max(df_info['id_person'])+1\n",
    "epochs = 100\n",
    "batch_size = 10\n",
    "csi_time = int(np.max(df_info['len']))\n",
    "csi_subc = 30\n",
    "input_shape = (csi_time, csi_subc, 6)"
   ]
  },
  {
   "cell_type": "code",
   "execution_count": 2,
   "metadata": {},
   "outputs": [],
   "source": [
    "# make data generator\n",
    "def gen_csi(df_info,id_num,len_num):\n",
    "    for file in set(df_info.id.values):\n",
    "        # read sample data\n",
    "        # load and uncompress.\n",
    "        with gzip.open(path_csi+file+'.pickle.gz','rb') as f:\n",
    "            data1 = pickle.load(f)\n",
    "        data1_abs = np.abs(data1) / max_value\n",
    "        # zero pad\n",
    "        pad_len = len_num - data1_abs.shape[0]\n",
    "        data1_pad = np.pad(data1_abs,((0,pad_len),(0,0),(0,0),(0,0)),'constant',constant_values=0)\n",
    "\n",
    "        data1_xs = data1_pad.astype('float32')    \n",
    "        data1_y = df_info[df_info.id==file]['id_person'].values[0].astype('int')\n",
    "\n",
    "        x_input = data1_xs.reshape([-1,len_num,30,6])\n",
    "        y_input = tf.keras.utils.to_categorical(data1_y, no_classes).reshape([1,-1])\n",
    "\n",
    "        #xs_input.append(x_input)\n",
    "        #ys_input.append(y_input)\n",
    "        \n",
    "        yield(x_input,y_input)"
   ]
  },
  {
   "cell_type": "code",
   "execution_count": 3,
   "metadata": {},
   "outputs": [],
   "source": [
    "generator = gen_csi(df_info,csi_subc,csi_time)\n",
    "a,b = next(generator)"
   ]
  },
  {
   "cell_type": "code",
   "execution_count": 4,
   "metadata": {},
   "outputs": [],
   "source": [
    "#models\n",
    "def simple_cnn(input_shape):\n",
    "    model = tf.keras.models.Sequential()\n",
    "    model.add(tf.keras.layers.Conv2D(\n",
    "        filters=64,\n",
    "        kernel_size=(3, 3),\n",
    "        activation='relu',\n",
    "        input_shape=input_shape\n",
    "    ))\n",
    "    model.add(tf.keras.layers.Conv2D(\n",
    "        filters=128,\n",
    "        kernel_size=(3, 3),\n",
    "        activation='relu'\n",
    "    ))\n",
    "    model.add(tf.keras.layers.MaxPooling2D(pool_size=(2,2),strides=10))\n",
    "    model.add(tf.keras.layers.Dropout(rate=0.3))\n",
    "    model.add(tf.keras.layers.Flatten())\n",
    "    model.add(tf.keras.layers.Dense(units=256, activation='relu'))\n",
    "    model.add(tf.keras.layers.Dropout(rate=0.3))\n",
    "    model.add(tf.keras.layers.Dense(units=no_classes, activation='softmax'))\n",
    "    model.compile(loss=tf.keras.losses.categorical_crossentropy,\n",
    "                  optimizer=tf.keras.optimizers.Adam(),\n",
    "                  metrics=['accuracy'])\n",
    "    return model"
   ]
  },
  {
   "cell_type": "code",
   "execution_count": null,
   "metadata": {},
   "outputs": [
    {
     "name": "stdout",
     "output_type": "stream",
     "text": [
      "Epoch 1/100\n",
      "10/10 [==============================] - 15s 2s/step - loss: 14.9630 - acc: 0.0000e+00\n",
      "Epoch 2/100\n",
      "10/10 [==============================] - 2s 208ms/step - loss: 16.1181 - acc: 0.0000e+00\n",
      "Epoch 3/100\n",
      "10/10 [==============================] - 3s 336ms/step - loss: 16.1181 - acc: 0.0000e+00\n",
      "Epoch 4/100\n",
      "10/10 [==============================] - 4s 364ms/step - loss: 14.5063 - acc: 0.1000\n",
      "Epoch 5/100\n",
      "10/10 [==============================] - 3s 328ms/step - loss: 16.1181 - acc: 0.0000e+00\n",
      "Epoch 6/100\n",
      "10/10 [==============================] - 3s 339ms/step - loss: 16.1181 - acc: 0.0000e+00\n",
      "Epoch 7/100\n",
      "10/10 [==============================] - 3s 339ms/step - loss: 16.1181 - acc: 0.0000e+00\n",
      "Epoch 8/100\n",
      "10/10 [==============================] - 3s 331ms/step - loss: 16.1181 - acc: 0.0000e+00\n",
      "Epoch 9/100\n",
      "10/10 [==============================] - 4s 361ms/step - loss: 16.1181 - acc: 0.0000e+00\n",
      "Epoch 10/100\n",
      "10/10 [==============================] - 3s 345ms/step - loss: 16.1181 - acc: 0.0000e+00\n",
      "Epoch 11/100\n",
      "10/10 [==============================] - 3s 342ms/step - loss: 16.1181 - acc: 0.0000e+00\n",
      "Epoch 12/100\n",
      "10/10 [==============================] - 4s 353ms/step - loss: 16.1181 - acc: 0.0000e+00\n",
      "Epoch 13/100\n",
      "10/10 [==============================] - 3s 344ms/step - loss: 16.1181 - acc: 0.0000e+00\n",
      "Epoch 14/100\n",
      "10/10 [==============================] - 3s 331ms/step - loss: 16.1181 - acc: 0.0000e+00\n",
      "Epoch 15/100\n",
      "10/10 [==============================] - 3s 331ms/step - loss: 16.1181 - acc: 0.0000e+00\n",
      "Epoch 16/100\n",
      "10/10 [==============================] - 3s 344ms/step - loss: 16.1181 - acc: 0.0000e+00\n",
      "Epoch 17/100\n",
      "10/10 [==============================] - 4s 352ms/step - loss: 16.1181 - acc: 0.0000e+00\n",
      "Epoch 18/100\n",
      "10/10 [==============================] - 4s 355ms/step - loss: 16.1181 - acc: 0.0000e+00\n",
      "Epoch 19/100\n",
      "10/10 [==============================] - 3s 320ms/step - loss: 16.1181 - acc: 0.0000e+00\n",
      "Epoch 20/100\n",
      "10/10 [==============================] - 4s 362ms/step - loss: 14.5063 - acc: 0.1000\n",
      "Epoch 21/100\n",
      "10/10 [==============================] - 4s 355ms/step - loss: 16.1181 - acc: 0.0000e+00\n",
      "Epoch 22/100\n",
      "10/10 [==============================] - 3s 337ms/step - loss: 16.1181 - acc: 0.0000e+00\n",
      "Epoch 23/100\n",
      "10/10 [==============================] - 3s 350ms/step - loss: 16.1181 - acc: 0.0000e+00\n",
      "Epoch 24/100\n",
      "10/10 [==============================] - 4s 353ms/step - loss: 16.1181 - acc: 0.0000e+00\n",
      "Epoch 25/100\n",
      "10/10 [==============================] - 4s 353ms/step - loss: 16.1181 - acc: 0.0000e+00\n",
      "Epoch 26/100\n",
      "10/10 [==============================] - 4s 412ms/step - loss: 16.1181 - acc: 0.0000e+00\n",
      "Epoch 27/100\n",
      "10/10 [==============================] - 4s 405ms/step - loss: 16.1181 - acc: 0.0000e+00\n",
      "Epoch 28/100\n",
      "10/10 [==============================] - 4s 383ms/step - loss: 16.1181 - acc: 0.0000e+00\n",
      "Epoch 29/100\n",
      "10/10 [==============================] - 4s 358ms/step - loss: 16.1181 - acc: 0.0000e+00\n",
      "Epoch 30/100\n",
      "10/10 [==============================] - 4s 358ms/step - loss: 14.5063 - acc: 0.1000\n",
      "Epoch 31/100\n",
      " 5/10 [==============>...............] - ETA: 1s - loss: 16.1181 - acc: 0.0000e+00"
     ]
    }
   ],
   "source": [
    "simple_cnn_model = simple_cnn(input_shape)\n",
    "gen = gen_csi(df_info,no_classes,csi_time)\n",
    "simple_cnn_model.fit_generator(gen,steps_per_epoch=10,epochs=100)"
   ]
  },
  {
   "cell_type": "code",
   "execution_count": null,
   "metadata": {},
   "outputs": [],
   "source": [
    "a,b = next(gen)"
   ]
  },
  {
   "cell_type": "code",
   "execution_count": null,
   "metadata": {},
   "outputs": [],
   "source": [
    "len(set(df_info.id.values))"
   ]
  },
  {
   "cell_type": "code",
   "execution_count": null,
   "metadata": {},
   "outputs": [],
   "source": []
  }
 ],
 "metadata": {
  "kernelspec": {
   "display_name": "Python 3",
   "language": "python",
   "name": "python3"
  },
  "language_info": {
   "codemirror_mode": {
    "name": "ipython",
    "version": 3
   },
   "file_extension": ".py",
   "mimetype": "text/x-python",
   "name": "python",
   "nbconvert_exporter": "python",
   "pygments_lexer": "ipython3",
   "version": "3.6.5"
  }
 },
 "nbformat": 4,
 "nbformat_minor": 2
}
