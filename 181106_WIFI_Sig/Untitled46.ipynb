{
 "cells": [
  {
   "cell_type": "code",
   "execution_count": 1,
   "metadata": {},
   "outputs": [],
   "source": [
    "# MIT image\n",
    "# Made by : HERO Kwon\n",
    "# Date : 190108\n",
    "\n",
    "import os\n",
    "import numpy as np\n",
    "import pandas as pd\n",
    "import pickle\n",
    "import gzip\n",
    "import matplotlib.pyplot as plt\n",
    "import math\n",
    "import cmath\n",
    "\n",
    "# data path\n",
    "#path_meta = '/home/herokwon/mount_data/Data/Wi-Fi_meta/'\n",
    "#path_csi = '/home/herokwon/mount_data/Data/Wi-Fi_processed/'\n",
    "#path_csi_np = '/home/herokwon/mount_data/Data/Wi-Fi_processed_npy/'\n",
    "\n",
    "# data path_mi\n",
    "path_csi = 'D:\\\\Data\\\\Wi-Fi_processed\\\\'\n",
    "path_csi_np = 'D:\\\\Data\\\\Wi-Fi_processed_npy\\\\'\n",
    "path_meta = 'D:\\\\Data\\\\Wi-Fi_meta\\\\'\n",
    "path_sc = 'D:\\\\Data\\\\Wi-Fi_info\\\\'"
   ]
  },
  {
   "cell_type": "code",
   "execution_count": 2,
   "metadata": {},
   "outputs": [],
   "source": [
    "# data info\n",
    "df_info = pd.read_csv(path_meta+'data_subc_sig_v1.csv')\n",
    "person_uid = np.unique(df_info['id_person'])\n",
    "dict_id = dict(zip(person_uid,np.arange(len(person_uid))))\n",
    "csi_time = 15000 #int(np.max(df_info['len']))\n",
    "# parameters\n",
    "max_value = np.max(df_info['max'].values)\n",
    "#no_classes = len(np.unique(df_info['id_person']))\n",
    "no_classes = len(dict_id)\n",
    "csi_subc = 30\n",
    "input_shape = (csi_time, csi_subc, 6)\n",
    "\n",
    "# freq BW list\n",
    "bw_list = pd.read_csv(path_meta+'wifi_f_bw_list.csv')\n",
    "\n",
    "# avg Array\n",
    "with open(path_meta + 'dict_avgcsi.pickle','rb') as f:\n",
    "    dict_avg = pickle.load(f)"
   ]
  },
  {
   "cell_type": "code",
   "execution_count": 3,
   "metadata": {},
   "outputs": [],
   "source": [
    "# make data generator\n",
    "def gen_csi(df_info,dict_avg,id_num,len_num):\n",
    "    for file in np.unique(df_info.id.values):\n",
    "        \n",
    "        # Label\n",
    "        id_key = df_info[df_info.id==file]['id_person'].values[0].astype('int')\n",
    "        data1_y = dict_id[id_key]\n",
    "        \n",
    "        # read sample data\n",
    "        # load and uncompress.\n",
    "        with gzip.open(path_csi+file+'.pickle.gz','rb') as f:\n",
    "            data1 = pickle.load(f)\n",
    "            \n",
    "        # subtract avg\n",
    "        read_avg = dict_avg[id_key][0]\n",
    "        nonzero_avg = read_avg[np.nonzero(read_avg)].reshape([-1,30,2,3])\n",
    "        arr_avg = np.mean(nonzero_avg,axis=0)\n",
    "        data1_diff = data1 - arr_avg #np.diff(data1,axis=0)\n",
    "        # zero pad\n",
    "        pad_len = len_num - data1_diff.shape[0]\n",
    "        data1_pad = np.pad(data1_diff,((0,pad_len),(0,0),(0,0),(0,0)),'constant',constant_values=0)\n",
    "\n",
    "        # subcarrier info\n",
    "        data1_sc_df = pd.read_csv(path_sc + file + '_df_sc.csv')\n",
    "        data1_time = np.diff(data1_sc_df['timestamp_low'])\n",
    "        data1_time_pad = np.pad(data1_time,((1,pad_len)),'constant',constant_values=0)\n",
    "        \n",
    "        \n",
    "        yield(data1_pad ,data1_y,id_key,data1_time_pad)"
   ]
  },
  {
   "cell_type": "code",
   "execution_count": 4,
   "metadata": {},
   "outputs": [],
   "source": [
    "gen = gen_csi(df_info,dict_avg,no_classes,csi_time)\n",
    "target_sig,target_lab,target_id,target_dt = next(gen)"
   ]
  },
  {
   "cell_type": "code",
   "execution_count": 5,
   "metadata": {},
   "outputs": [],
   "source": [
    "# 3D scan\n",
    "m,n = 2,3\n",
    "c =  299792458 # speed of light \n",
    "#r = (160 + 160 + 164) * 0.01 # meter\n",
    "r = 1.64 #meter\n",
    "d = 45 * 0.01 # meter\n",
    "ch = 8#3\n",
    "max_subc = 30\n",
    "\n",
    "th_range,si_range = (30,30)\n",
    "sig_mat = np.zeros([csi_time,2*th_range,2*si_range])"
   ]
  },
  {
   "cell_type": "code",
   "execution_count": 6,
   "metadata": {},
   "outputs": [],
   "source": [
    "# 3D Reconstruction func\n",
    "from numba import vectorize\n",
    "@vectorize(['complex64(complex64,float32,float32,int32,int32,\\\n",
    "float32,float32,float32,int32)'], target='cpu')\n",
    "def Recon3d(sig,theta,sigma,m,n,lam,d,r,c):\n",
    "    #above_eq1 = 1j * (2*math.pi) * k * r * t / c\n",
    "    #above_eq1 = 1j * (2*math.pi) * c * dt * 0.000001 / lam\n",
    "    above_eq1 = 1j * (2*math.pi) * (160 + 160 + 164) * 0.01 / lam\n",
    "    above_eq2 = 1j * (2*math.pi/lam) * math.sin(theta) * ((n+1)*d*math.cos(sigma) + (m+1)*d*math.sin(sigma))\n",
    "    eq_res = sig* cmath.exp(above_eq1) * cmath.exp(above_eq2)\n",
    "    #eq_res = cmath.exp(above_eq1) * cmath.exp(above_eq2)\n",
    "    return eq_res #math.atan2(eq_res.imag,eq_res.real)"
   ]
  },
  {
   "cell_type": "code",
   "execution_count": 7,
   "metadata": {},
   "outputs": [],
   "source": [
    "from numba import jit\n",
    "#@jit\n",
    "def Calc3d(target_sig,max_subc,theta,sigma,bw_list,ch,d,r,c,m,n):\n",
    "    m_array = np.concatenate([np.ones(csi_time*n,dtype=np.int32)*0,np.ones(csi_time*n,dtype=np.int32)*1])\n",
    "    n_array = np.concatenate([np.ones(csi_time*m,dtype=np.int32)*0,np.ones(csi_time*m,dtype=np.int32)*1,np.ones(csi_time*m,dtype=np.int32)*2])\n",
    "    for subc in range(max_subc): \n",
    "        sig1 = np.ascontiguousarray(target_sig[:,subc,:,:].reshape([csi_time*m*n]), dtype=np.complex64)\n",
    "        lam =  c*0.000001 / bw_list[str(subc)][ch] #wavelength = 300 / frequency in MHz\n",
    "        sum_eq = np.zeros(csi_time*m*n,dtype=np.complex_)\n",
    "        sum_eq += Recon3d(sig1,theta,sigma,m_array,n_array,lam,d,r,c)\n",
    "    sum_reshape = np.sum(sum_eq.reshape([-1,m,n]),axis=(1,2))\n",
    "    return(np.abs(sum_reshape))"
   ]
  },
  {
   "cell_type": "code",
   "execution_count": 8,
   "metadata": {},
   "outputs": [],
   "source": [
    "for idx_th,i in enumerate(range(-th_range,th_range)):\n",
    "    for idx_si,j in enumerate(range(-si_range,si_range)):\n",
    "        theta = i * (np.radians(30)/2) / th_range\n",
    "        sigma = j * (np.radians(30)/2) / si_range"
   ]
  },
  {
   "cell_type": "code",
   "execution_count": 9,
   "metadata": {},
   "outputs": [],
   "source": [
    "th_array = (np.radians(30)/2)*np.arange(-th_range,th_range).astype(np.float32)\n",
    "si_array = (np.radians(30)/2)*np.arange(-si_range,si_range).astype(np.float32)"
   ]
  },
  {
   "cell_type": "code",
   "execution_count": 10,
   "metadata": {},
   "outputs": [],
   "source": [
    "        sig_mat[:,idx_th,idx_si] = Calc3d(target_sig,max_subc,theta,sigma,bw_list,ch,d,r,c,m,n)"
   ]
  },
  {
   "cell_type": "code",
   "execution_count": 11,
   "metadata": {},
   "outputs": [],
   "source": [
    "@vectorize(['float32(complex64,int64,float32,float32,float64,int32,float32,float32,float32,int32,int32)'])\n",
    "def mycalc(target_sig,max_subc,th,si,bw_list,ch,d,r,c,m,n):\n",
    "    res = Calc3d(target_sig,max_subc,th,si,bw_list,ch,d,r,c,m,n)\n",
    "    return(res.astype(np.float32))"
   ]
  },
  {
   "cell_type": "code",
   "execution_count": 12,
   "metadata": {},
   "outputs": [
    {
     "ename": "TypeError",
     "evalue": "ufunc 'mycalc' not supported for the input types, and the inputs could not be safely coerced to any supported types according to the casting rule ''safe''",
     "output_type": "error",
     "traceback": [
      "\u001b[1;31m---------------------------------------------------------------------------\u001b[0m",
      "\u001b[1;31mTypeError\u001b[0m                                 Traceback (most recent call last)",
      "\u001b[1;32m<ipython-input-12-1ef4eb0c9e70>\u001b[0m in \u001b[0;36m<module>\u001b[1;34m\u001b[0m\n\u001b[1;32m----> 1\u001b[1;33m \u001b[0ma\u001b[0m \u001b[1;33m=\u001b[0m \u001b[0mmycalc\u001b[0m\u001b[1;33m(\u001b[0m\u001b[0mtarget_sig\u001b[0m\u001b[1;33m,\u001b[0m\u001b[0mmax_subc\u001b[0m\u001b[1;33m,\u001b[0m\u001b[0mth_array\u001b[0m\u001b[1;33m,\u001b[0m\u001b[0msi_array\u001b[0m\u001b[1;33m,\u001b[0m\u001b[0mbw_list\u001b[0m\u001b[1;33m,\u001b[0m\u001b[0mch\u001b[0m\u001b[1;33m,\u001b[0m\u001b[0md\u001b[0m\u001b[1;33m,\u001b[0m\u001b[0mr\u001b[0m\u001b[1;33m,\u001b[0m\u001b[0mc\u001b[0m\u001b[1;33m,\u001b[0m\u001b[0mm\u001b[0m\u001b[1;33m,\u001b[0m\u001b[0mn\u001b[0m\u001b[1;33m)\u001b[0m\u001b[1;33m\u001b[0m\u001b[1;33m\u001b[0m\u001b[0m\n\u001b[0m\u001b[0;32m      2\u001b[0m \u001b[0ma\u001b[0m\u001b[1;33m.\u001b[0m\u001b[0mshape\u001b[0m\u001b[1;33m\u001b[0m\u001b[1;33m\u001b[0m\u001b[0m\n",
      "\u001b[1;31mTypeError\u001b[0m: ufunc 'mycalc' not supported for the input types, and the inputs could not be safely coerced to any supported types according to the casting rule ''safe''"
     ]
    }
   ],
   "source": [
    "a = mycalc(target_sig,max_subc,th_array,si_array,bw_list,ch,d,r,c,m,n)\n",
    "a.shape"
   ]
  },
  {
   "cell_type": "code",
   "execution_count": null,
   "metadata": {},
   "outputs": [],
   "source": [
    "isinstance(max_subc,np.int)"
   ]
  },
  {
   "cell_type": "code",
   "execution_count": null,
   "metadata": {},
   "outputs": [],
   "source": [
    "th_array+si_array"
   ]
  },
  {
   "cell_type": "code",
   "execution_count": null,
   "metadata": {},
   "outputs": [],
   "source": []
  }
 ],
 "metadata": {
  "kernelspec": {
   "display_name": "mit_image",
   "language": "python",
   "name": "mit_image"
  },
  "language_info": {
   "codemirror_mode": {
    "name": "ipython",
    "version": 3
   },
   "file_extension": ".py",
   "mimetype": "text/x-python",
   "name": "python",
   "nbconvert_exporter": "python",
   "pygments_lexer": "ipython3",
   "version": "3.6.8"
  }
 },
 "nbformat": 4,
 "nbformat_minor": 2
}
