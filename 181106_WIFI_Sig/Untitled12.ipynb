{
 "cells": [
  {
   "cell_type": "code",
   "execution_count": 1,
   "metadata": {},
   "outputs": [
    {
     "name": "stderr",
     "output_type": "stream",
     "text": [
      "C:\\Users\\herok\\Anaconda3\\lib\\site-packages\\h5py\\__init__.py:36: FutureWarning: Conversion of the second argument of issubdtype from `float` to `np.floating` is deprecated. In future, it will be treated as `np.float64 == np.dtype(float).type`.\n",
      "  from ._conv import register_converters as _register_converters\n"
     ]
    }
   ],
   "source": [
    "import os\n",
    "import tensorflow as tf\n",
    "import numpy as np\n",
    "import pandas as pd\n",
    "import pickle\n",
    "import gzip\n",
    "\n",
    "# data path\n",
    "path_csi =  'J:\\\\Data\\\\Wi-Fi_processed\\\\'\n",
    "\n",
    "# data info\n",
    "# data path\n",
    "path_csi =  'J:\\\\Data\\\\Wi-Fi_processed\\\\'\n",
    "# data info\n",
    "df_info = pd.read_csv('data_subc_sig.csv')\n",
    "\n",
    "# make data generator\n",
    "def gen_csi(df_info,id_num,len_num):\n",
    "\n",
    "    for file in set(df_info.id.values):\n",
    "        # read sample data\n",
    "        # load and uncompress.\n",
    "        with gzip.open(path_csi+file+'.pickle.gz','rb') as f:\n",
    "            data1 = pickle.load(f)\n",
    "        data1_abs = np.abs(data1)\n",
    "        data1_ph = np.angle(data1)\n",
    "        data1_abs.shape\n",
    "\n",
    "        # normalize through subc axis\n",
    "        abs_sub = np.mean(np.abs(data1),axis=(0,2,3))\n",
    "        data1_norm = data1/abs_sub[np.newaxis,:,np.newaxis,np.newaxis]\n",
    "\n",
    "        # differentiation\n",
    "        data1_grad = np.gradient(data1_norm,axis=0)\n",
    "        # zero pad\n",
    "        pad_len = len_num - data1_grad.shape[0]\n",
    "        data1_pad = np.pad(data1_grad,((0,pad_len),(0,0),(0,0),(0,0)),'constant',constant_values=0)\n",
    "        # reshape\n",
    "        data1_resh = data1_pad.reshape(max_len,30,6)\n",
    "        # Label\n",
    "        data1_lab = df_info[df_info.id==file]['id_person'].values[0]\n",
    "        # One hot\n",
    "        data1_one = np.eye(id_num+1)[data1_lab]\n",
    "        \n",
    "        yield(data1_resh,data1_one)\n",
    "# parameters\n",
    "max_id = np.max(df_info['id_person'])\n",
    "max_len = int(np.max(df_info['len']))\n",
    "learning_rate = 0.1\n",
    "training_epochs = 100\n",
    "batch_size = 5\n",
    "# Load Dataset\n",
    "from sklearn.model_selection import train_test_split\n",
    "tr_idx,te_idx = train_test_split(df_info.index,test_size=0.2,random_state=10)\n",
    "#id_num = len(np.unique(df_info.id_person))\n",
    "df_train = df_info.loc[tr_idx]\n",
    "df_test = df_info.loc[te_idx]"
   ]
  },
  {
   "cell_type": "code",
   "execution_count": null,
   "metadata": {},
   "outputs": [],
   "source": [
    "gen = lambda: (r for r in gen_csi(df_info,max_id,max_len))\n",
    "train_dataset = tf.data.Dataset().from_generator(gen, (tf.float32,tf.int32)).batch(batch_size)"
   ]
  },
  {
   "cell_type": "code",
   "execution_count": null,
   "metadata": {},
   "outputs": [],
   "source": [
    "# create general iterator\n",
    "iterator = tf.data.Iterator.from_structure(train_dataset.output_types,train_dataset.output_shapes)\n",
    "next_element = iterator.get_next()\n",
    "\n",
    "# make datasets that we can initialize separately, but using the same structure via the common iterator\n",
    "training_init_op = iterator.make_initializer(train_dataset)"
   ]
  },
  {
   "cell_type": "code",
   "execution_count": null,
   "metadata": {},
   "outputs": [],
   "source": [
    "def CNNmodel(in_data):\n",
    "    input2d = tf.reshape(in_data, [-1,max_len,30,6])\n",
    "    conv1 = tf.layers.conv2d(\n",
    "        inputs=input2d, \n",
    "        filters=20, \n",
    "        kernel_size=[3,3], \n",
    "        strides=(1,1),\n",
    "        #padding=\"same\", \n",
    "        activation=tf.nn.relu)\n",
    "    pool1 = tf.layers.max_pooling2d(\n",
    "        inputs=conv1, \n",
    "        pool_size=[100,2], \n",
    "        strides=(10,1))\n",
    "        #padding=\"same\")\n",
    "    conv2 = tf.layers.conv2d(\n",
    "        inputs=pool1, \n",
    "        filters=50, \n",
    "        kernel_size=[3,3], \n",
    "        strides=(1,1),\n",
    "        #padding=\"same\", \n",
    "        activation=tf.nn.relu)\n",
    "    pool2 = tf.layers.max_pooling2d(\n",
    "        inputs=conv2, \n",
    "        pool_size=[100,2], \n",
    "        strides=(10,1))\n",
    "        #padding=\"same\")\n",
    "    pool_flat = tf.layers.flatten(pool2)\n",
    "    fc = tf.layers.dense(\n",
    "        inputs= pool_flat, units=500, activation=tf.nn.relu)\n",
    "    output = tf.layers.dense(inputs=fc, units=max_id+1)    \n",
    "    return output"
   ]
  },
  {
   "cell_type": "code",
   "execution_count": null,
   "metadata": {},
   "outputs": [],
   "source": [
    "# define cost/loss & optimizer\n",
    "logits = CNNmodel(next_element[0])\n",
    "labels = next_element[1]\n",
    "loss = tf.reduce_mean(tf.nn.softmax_cross_entropy_with_logits_v2(\n",
    "    logits=logits, labels=labels))\n",
    "optimizer = tf.train.AdamOptimizer(learning_rate=learning_rate).minimize(loss)\n",
    "\n",
    "# accuracy\n",
    "pred = tf.argmax(logits,1)\n",
    "equal = tf.equal(pred,tf.argmax(labels,1))\n",
    "accuracy = tf.reduce_mean(tf.cast(equal,tf.float32))\n",
    "\n",
    "#init\n",
    "init_op = tf.global_variables_initializer()\n",
    "training_init_op = iterator.make_initializer(train_dataset)"
   ]
  },
  {
   "cell_type": "code",
   "execution_count": null,
   "metadata": {},
   "outputs": [],
   "source": [
    "# run the training\n",
    "epochs = training_epochs\n",
    "results = pd.DataFrame(columns=['loss','accuracy'])\n",
    "with tf.Session() as sess:\n",
    "    sess.run(init_op)\n",
    "    sess.run(training_init_op)\n",
    "    for i in range(epochs):\n",
    "        l, _, acc = sess.run([loss, optimizer, accuracy])\n",
    "        print(\"Epoch: {}, loss: {:.3f}, training accuracy: {:.2f}%\".format(i+1, l, acc * 100))\n",
    "        '''\n",
    "        # now setup the validation run\n",
    "        test_iters = 1\n",
    "        # re-initialize the iterator, but this time with validation data\n",
    "        sess.run(test_init_op)\n",
    "        test_l, test_acc = sess.run([loss, accuracy])\n",
    "        print(\"Epoch: {}, test loss: {:.3f}, test accuracy: {:.2f}%\".format(i+1, test_l, test_acc * 100))\n",
    "        '''\n",
    "        results.loc[i] = [l,acc]"
   ]
  },
  {
   "cell_type": "code",
   "execution_count": null,
   "metadata": {},
   "outputs": [],
   "source": [
    "max_len"
   ]
  },
  {
   "cell_type": "code",
   "execution_count": null,
   "metadata": {},
   "outputs": [],
   "source": []
  },
  {
   "cell_type": "code",
   "execution_count": null,
   "metadata": {},
   "outputs": [],
   "source": []
  }
 ],
 "metadata": {
  "kernelspec": {
   "display_name": "Python 3",
   "language": "python",
   "name": "python3"
  },
  "language_info": {
   "codemirror_mode": {
    "name": "ipython",
    "version": 3
   },
   "file_extension": ".py",
   "mimetype": "text/x-python",
   "name": "python",
   "nbconvert_exporter": "python",
   "pygments_lexer": "ipython3",
   "version": "3.6.5"
  }
 },
 "nbformat": 4,
 "nbformat_minor": 2
}
