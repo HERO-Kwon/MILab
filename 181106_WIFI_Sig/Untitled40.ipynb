{
 "cells": [
  {
   "cell_type": "code",
   "execution_count": 1,
   "metadata": {},
   "outputs": [],
   "source": [
    "# MIT image\n",
    "# Made by : HERO Kwon\n",
    "# Date : 190108\n",
    "\n",
    "import os\n",
    "import numpy as np\n",
    "import pandas as pd\n",
    "import pickle\n",
    "import gzip\n",
    "import matplotlib.pyplot as plt\n",
    "import math\n",
    "import cmath\n",
    "\n",
    "# data path_mi\n",
    "path_csi = 'D:\\\\Data\\\\Wi-Fi_processed\\\\'\n",
    "path_csi_np = 'D:\\\\Data\\\\Wi-Fi_processed_npy\\\\'\n",
    "path_meta = 'D:\\\\Data\\\\Wi-Fi_meta\\\\'"
   ]
  },
  {
   "cell_type": "code",
   "execution_count": 2,
   "metadata": {},
   "outputs": [],
   "source": [
    "# data info\n",
    "df_info = pd.read_csv(path_meta+'data_subc_sig_v1.csv')\n",
    "person_uid = np.unique(df_info['id_person'])\n",
    "dict_id = dict(zip(person_uid,np.arange(len(person_uid))))\n",
    "csi_time = 15000 #int(np.max(df_info['len']))\n",
    "# parameters\n",
    "max_value = np.max(df_info['max'].values)\n",
    "#no_classes = len(np.unique(df_info['id_person']))\n",
    "no_classes = len(dict_id)\n",
    "csi_subc = 30\n",
    "input_shape = (csi_time, csi_subc, 6)\n",
    "\n",
    "# freq BW list\n",
    "bw_list = pd.read_csv(path_meta+'wifi_f_bw_list.csv')\n",
    "\n",
    "# avg Array\n",
    "with open(path_meta + 'dict_avgcsi.pickle','rb') as f:\n",
    "    dict_avg = pickle.load(f)"
   ]
  },
  {
   "cell_type": "code",
   "execution_count": 3,
   "metadata": {},
   "outputs": [],
   "source": [
    "# make data generator\n",
    "def gen_csi(df_info,dict_avg,id_num,len_num):\n",
    "    for file in np.unique(df_info.id.values):\n",
    "        # read sample data\n",
    "        # load and uncompress.\n",
    "        with gzip.open(path_csi+file+'.pickle.gz','rb') as f:\n",
    "            data1 = pickle.load(f)\n",
    "        data1_diff = data1 #np.diff(data1,axis=0)\n",
    "        # zero pad\n",
    "        pad_len = len_num - data1_diff.shape[0]\n",
    "        data1_pad = np.pad(data1_diff,((0,pad_len),(0,0),(0,0),(0,0)),'constant',constant_values=0)\n",
    "\n",
    "        # Label\n",
    "        id_key = df_info[df_info.id==file]['id_person'].values[0].astype('int')\n",
    "        data1_y = dict_id[id_key]\n",
    "        \n",
    "        arr_avg = dict_avg[id_key][0]\n",
    "        data1_result = data1_pad - arr_avg\n",
    "        \n",
    "        yield(data1_result ,data1_y,id_key)\n",
    "\n",
    "gen = gen_csi(df_info,dict_avg,no_classes,csi_time)\n",
    "target_sig,target_lab,target_id = next(gen)"
   ]
  },
  {
   "cell_type": "code",
   "execution_count": 4,
   "metadata": {},
   "outputs": [],
   "source": [
    "# 3D scan\n",
    "m,n = 2,3\n",
    "c =  299792458 # speed of light \n",
    "r = (160 + 160 + 164) * 0.01 # meter\n",
    "#r = 1.64 #meter\n",
    "d = 45 * 0.01 # meter\n",
    "max_ch = 1#3\n",
    "subc = 14\n",
    "\n",
    "th_range,si_range = (10,10)\n",
    "sig_mat = np.zeros([max_ch,csi_time,th_range,si_range])\n"
   ]
  },
  {
   "cell_type": "code",
   "execution_count": 5,
   "metadata": {},
   "outputs": [
    {
     "name": "stdout",
     "output_type": "stream",
     "text": [
      "Solving environment: ...working... failed\n"
     ]
    },
    {
     "name": "stderr",
     "output_type": "stream",
     "text": [
      "\n",
      "UnsatisfiableError: The following specifications were found to be in conflict:\n",
      "  - accelerate\n",
      "  - anaconda==5.2.0=py36_3 -> numba==0.38.0=py36h830ac7b_0 -> llvmlite=0.23\n",
      "  - anaconda==5.2.0=py36_3 -> numexpr==2.6.5=py36hcd2f87e_0\n",
      "  - anaconda==5.2.0=py36_3 -> scikit-learn==0.19.1=py36h53aea1b_0\n",
      "Use \"conda info <package>\" to see the dependencies for each package.\n",
      "\n"
     ]
    }
   ],
   "source": [
    "!conda install accelerate"
   ]
  },
  {
   "cell_type": "code",
   "execution_count": null,
   "metadata": {},
   "outputs": [],
   "source": []
  }
 ],
 "metadata": {
  "kernelspec": {
   "display_name": "Python 3",
   "language": "python",
   "name": "python3"
  },
  "language_info": {
   "codemirror_mode": {
    "name": "ipython",
    "version": 3
   },
   "file_extension": ".py",
   "mimetype": "text/x-python",
   "name": "python",
   "nbconvert_exporter": "python",
   "pygments_lexer": "ipython3",
   "version": "3.6.5"
  }
 },
 "nbformat": 4,
 "nbformat_minor": 2
}
