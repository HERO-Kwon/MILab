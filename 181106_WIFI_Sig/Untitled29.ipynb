{
 "cells": [
  {
   "cell_type": "code",
   "execution_count": 1,
   "metadata": {},
   "outputs": [
    {
     "name": "stderr",
     "output_type": "stream",
     "text": [
      "C:\\Users\\herok\\Anaconda3\\lib\\site-packages\\h5py\\__init__.py:36: FutureWarning: Conversion of the second argument of issubdtype from `float` to `np.floating` is deprecated. In future, it will be treated as `np.float64 == np.dtype(float).type`.\n",
      "  from ._conv import register_converters as _register_converters\n",
      "Using TensorFlow backend.\n"
     ]
    }
   ],
   "source": [
    "import os\n",
    "import tensorflow as tf\n",
    "import numpy as np\n",
    "import pandas as pd\n",
    "import h5py\n",
    "import matplotlib.pyplot as plt\n",
    "from sklearn.model_selection import train_test_split\n",
    "from keras.utils.io_utils import HDF5Matrix\n",
    "\n",
    "# data path\n",
    "path_csi =  'J:\\\\Data\\\\Wi-Fi_processed\\\\'\n",
    "path_csi_hc = 'J:\\\\Data\\\\Wi-Fi_HC\\\\180_100\\\\'\n",
    "path_csi_hdfs = 'J:\\\\Data\\\\Wi-Fi_Processed_HDFS\\\\'\n",
    "\n",
    "# data info\n",
    "df_info = pd.read_csv('data_subc_sig_v1.csv')\n",
    "#df_info = df_info[df_info.id_person < 50]\n",
    "\n",
    "person_uid = np.unique(df_info['id_person'])\n",
    "dict_id = dict(zip(person_uid,np.arange(len(person_uid))))"
   ]
  },
  {
   "cell_type": "code",
   "execution_count": 2,
   "metadata": {
    "scrolled": true
   },
   "outputs": [],
   "source": [
    "# Parameters\n",
    "max_value = np.max(df_info['max'].values)\n",
    "no_classes = len(dict_id)\n",
    "num_csi = 15000\n",
    "csi_time = 500 #data_csi.shape[1]\n",
    "csi_subc = 30\n",
    "input_shape = (csi_time,csi_subc,6)\n",
    "filename = 'csi_1_1.hdf5'"
   ]
  },
  {
   "cell_type": "code",
   "execution_count": 3,
   "metadata": {},
   "outputs": [
    {
     "data": {
      "text/plain": [
       "(891, 15000, 30, 2, 3)"
      ]
     },
     "execution_count": 3,
     "metadata": {},
     "output_type": "execute_result"
    }
   ],
   "source": [
    "f1 = h5py.File(path_csi_hdfs+'csi_1_1.hdf5','r')\n",
    "f1['csi'].shape"
   ]
  },
  {
   "cell_type": "code",
   "execution_count": 4,
   "metadata": {},
   "outputs": [],
   "source": [
    "# nomalization function\n",
    "def prep_data(array):\n",
    "    arr_abs = np.abs(array)[:,:csi_time,:,:,:] / max_value\n",
    "    return arr_abs.reshape([-1,csi_time,csi_subc,6])\n",
    "def prep_label(array):\n",
    "    arr_label = array[:,0]\n",
    "    # Label\n",
    "    label = np.array([dict_id[arr] for arr in arr_label])\n",
    "    return tf.keras.utils.to_categorical(label, no_classes)"
   ]
  },
  {
   "cell_type": "code",
   "execution_count": 5,
   "metadata": {},
   "outputs": [],
   "source": [
    "# Train Test Split\n",
    "x_train = HDF5Matrix(path_csi_hdfs+filename,'csi',start=0,end=800,normalizer=prep_data)\n",
    "x_test = HDF5Matrix(path_csi_hdfs+filename,'csi',start=800,end=900,normalizer=prep_data)\n",
    "y_train = HDF5Matrix(path_csi_hdfs+filename,'label',start=0,end=800,normalizer=prep_label)\n",
    "y_test = HDF5Matrix(path_csi_hdfs+filename,'label',start=800,end=900,normalizer=prep_label)"
   ]
  },
  {
   "cell_type": "code",
   "execution_count": 6,
   "metadata": {},
   "outputs": [],
   "source": [
    "#models\n",
    "def simple_cnn(input_shape):\n",
    "    model = tf.keras.models.Sequential()\n",
    "    model.add(tf.keras.layers.Conv2D(\n",
    "        filters=64,\n",
    "        kernel_size=(3, 3),\n",
    "        activation='relu',\n",
    "        input_shape=input_shape\n",
    "    ))\n",
    "    model.add(tf.keras.layers.Conv2D(\n",
    "        filters=128,\n",
    "        kernel_size=(3, 3),\n",
    "        activation='relu'\n",
    "    ))\n",
    "    model.add(tf.keras.layers.MaxPooling2D(pool_size=(2, 2)))\n",
    "    model.add(tf.keras.layers.Dropout(rate=0.3))\n",
    "    model.add(tf.keras.layers.Flatten())\n",
    "    model.add(tf.keras.layers.Dense(units=256, activation='relu'))\n",
    "    model.add(tf.keras.layers.Dropout(rate=0.3))\n",
    "    model.add(tf.keras.layers.Dense(units=no_classes, activation='softmax'))\n",
    "    model.compile(loss=tf.keras.losses.categorical_crossentropy,\n",
    "                  optimizer=tf.keras.optimizers.Adam(lr=0.1),\n",
    "                  metrics=['accuracy'])\n",
    "    return model"
   ]
  },
  {
   "cell_type": "code",
   "execution_count": null,
   "metadata": {},
   "outputs": [
    {
     "name": "stdout",
     "output_type": "stream",
     "text": [
      "Epoch 1/10\n",
      "800/800 [==============================] - 250s 313ms/step - loss: 15.9337 - acc: 0.0025\n",
      "Epoch 2/10\n",
      "800/800 [==============================] - 250s 312ms/step - loss: 15.8763 - acc: 0.0150\n",
      "Epoch 3/10\n",
      "800/800 [==============================] - 244s 306ms/step - loss: 15.8763 - acc: 0.0150\n",
      "Epoch 4/10\n",
      "800/800 [==============================] - 247s 309ms/step - loss: 15.8763 - acc: 0.0150\n",
      "Epoch 5/10\n",
      "800/800 [==============================] - 253s 317ms/step - loss: 15.8763 - acc: 0.0150\n",
      "Epoch 6/10\n",
      "720/800 [==========================>...] - ETA: 24s - loss: 15.8942 - acc: 0.0139"
     ]
    }
   ],
   "source": [
    "simple_cnn_model = simple_cnn(input_shape)\n",
    "simple_cnn_model.fit(x_train, y_train, epochs=10,batch_size=10,shuffle='batch')"
   ]
  },
  {
   "cell_type": "code",
   "execution_count": null,
   "metadata": {},
   "outputs": [],
   "source": [
    "\n",
    "# Plot\n",
    "def plot_loss(history):\n",
    "    plt.plot(history.history['loss'])\n",
    "    #plt.plot(history.history['val_loss'])\n",
    "    plt.title('Model Loss')\n",
    "    plt.ylabel('Loss')\n",
    "    plt.xlabel('Epoch')\n",
    "    plt.legend(['Train','Test'],loc=0)\n",
    "def plot_acc(history):\n",
    "    plt.plot(history.history['acc'])\n",
    "    #plt.plot(history.history['val_acc'])\n",
    "    plt.title('Model Acc')\n",
    "    plt.ylabel('Acc')\n",
    "    plt.xlabel('Epoch')\n",
    "    plt.legend(['Train','Test'],loc=0)\n",
    "\n",
    "plot_loss(simple_cnn_model.history)\n",
    "plot_acc(simple_cnn_model.history)\n"
   ]
  },
  {
   "cell_type": "code",
   "execution_count": null,
   "metadata": {},
   "outputs": [],
   "source": [
    "simple_cnn_model.history.history['acc']"
   ]
  },
  {
   "cell_type": "code",
   "execution_count": null,
   "metadata": {},
   "outputs": [],
   "source": []
  }
 ],
 "metadata": {
  "kernelspec": {
   "display_name": "Python 3",
   "language": "python",
   "name": "python3"
  },
  "language_info": {
   "codemirror_mode": {
    "name": "ipython",
    "version": 3
   },
   "file_extension": ".py",
   "mimetype": "text/x-python",
   "name": "python",
   "nbconvert_exporter": "python",
   "pygments_lexer": "ipython3",
   "version": "3.6.5"
  }
 },
 "nbformat": 4,
 "nbformat_minor": 2
}
