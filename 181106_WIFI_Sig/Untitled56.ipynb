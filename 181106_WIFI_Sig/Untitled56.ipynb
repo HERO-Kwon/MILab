{
 "cells": [
  {
   "cell_type": "code",
   "execution_count": 1,
   "metadata": {},
   "outputs": [
    {
     "ename": "ValueError",
     "evalue": "total size of new array must be unchanged",
     "output_type": "error",
     "traceback": [
      "\u001b[1;31m---------------------------------------------------------------------------\u001b[0m",
      "\u001b[1;31mValueError\u001b[0m                                Traceback (most recent call last)",
      "\u001b[1;32m<ipython-input-1-bfc0903d6462>\u001b[0m in \u001b[0;36m<module>\u001b[1;34m\u001b[0m\n\u001b[0;32m    149\u001b[0m \u001b[1;32mfor\u001b[0m \u001b[0mf\u001b[0m \u001b[1;32min\u001b[0m \u001b[0mnp\u001b[0m\u001b[1;33m.\u001b[0m\u001b[0munique\u001b[0m\u001b[1;33m(\u001b[0m\u001b[0mdf_info\u001b[0m\u001b[1;33m.\u001b[0m\u001b[0mid\u001b[0m\u001b[1;33m.\u001b[0m\u001b[0mvalues\u001b[0m\u001b[1;33m)\u001b[0m\u001b[1;33m:\u001b[0m\u001b[1;33m\u001b[0m\u001b[1;33m\u001b[0m\u001b[0m\n\u001b[0;32m    150\u001b[0m \u001b[1;33m\u001b[0m\u001b[0m\n\u001b[1;32m--> 151\u001b[1;33m     \u001b[0mtarget_sig\u001b[0m\u001b[1;33m,\u001b[0m\u001b[0mtarget_lab\u001b[0m\u001b[1;33m,\u001b[0m\u001b[0mtarget_id\u001b[0m\u001b[1;33m,\u001b[0m\u001b[0mtarget_file\u001b[0m \u001b[1;33m=\u001b[0m \u001b[0mnext\u001b[0m\u001b[1;33m(\u001b[0m\u001b[0mgen\u001b[0m\u001b[1;33m)\u001b[0m\u001b[1;33m\u001b[0m\u001b[1;33m\u001b[0m\u001b[0m\n\u001b[0m\u001b[0;32m    152\u001b[0m     \u001b[0mth_range\u001b[0m\u001b[1;33m,\u001b[0m\u001b[0msi_range\u001b[0m \u001b[1;33m=\u001b[0m \u001b[1;33m(\u001b[0m\u001b[1;36m10\u001b[0m\u001b[1;33m,\u001b[0m\u001b[1;36m10\u001b[0m\u001b[1;33m)\u001b[0m\u001b[1;33m\u001b[0m\u001b[1;33m\u001b[0m\u001b[0m\n\u001b[0;32m    153\u001b[0m     \u001b[0msig_mat\u001b[0m \u001b[1;33m=\u001b[0m \u001b[0mnp\u001b[0m\u001b[1;33m.\u001b[0m\u001b[0mzeros\u001b[0m\u001b[1;33m(\u001b[0m\u001b[1;33m[\u001b[0m\u001b[0mcsi_time\u001b[0m\u001b[1;33m,\u001b[0m\u001b[1;36m2\u001b[0m\u001b[1;33m*\u001b[0m\u001b[0mth_range\u001b[0m\u001b[1;33m,\u001b[0m\u001b[1;36m2\u001b[0m\u001b[1;33m*\u001b[0m\u001b[0msi_range\u001b[0m\u001b[1;33m]\u001b[0m\u001b[1;33m)\u001b[0m\u001b[1;33m\u001b[0m\u001b[1;33m\u001b[0m\u001b[0m\n",
      "\u001b[1;32m<ipython-input-1-bfc0903d6462>\u001b[0m in \u001b[0;36mgen_csi\u001b[1;34m(df_info, dict_avg, id_num, len_num)\u001b[0m\n\u001b[0;32m     86\u001b[0m         \u001b[1;31m# subtract avg\u001b[0m\u001b[1;33m\u001b[0m\u001b[1;33m\u001b[0m\u001b[1;33m\u001b[0m\u001b[0m\n\u001b[0;32m     87\u001b[0m         \u001b[0mread_avg\u001b[0m \u001b[1;33m=\u001b[0m \u001b[0mdict_avg\u001b[0m\u001b[1;33m[\u001b[0m\u001b[0mid_key\u001b[0m\u001b[1;33m[\u001b[0m\u001b[1;36m0\u001b[0m\u001b[1;33m]\u001b[0m\u001b[1;33m]\u001b[0m\u001b[1;33m[\u001b[0m\u001b[1;36m0\u001b[0m\u001b[1;33m]\u001b[0m\u001b[1;33m\u001b[0m\u001b[1;33m\u001b[0m\u001b[0m\n\u001b[1;32m---> 88\u001b[1;33m         \u001b[0mnonzero_avg\u001b[0m \u001b[1;33m=\u001b[0m \u001b[0mread_avg\u001b[0m\u001b[1;33m[\u001b[0m\u001b[0mnp\u001b[0m\u001b[1;33m.\u001b[0m\u001b[0mnonzero\u001b[0m\u001b[1;33m(\u001b[0m\u001b[0mread_avg\u001b[0m\u001b[1;33m)\u001b[0m\u001b[1;33m]\u001b[0m\u001b[1;33m.\u001b[0m\u001b[0mreshape\u001b[0m\u001b[1;33m(\u001b[0m\u001b[1;33m[\u001b[0m\u001b[1;33m-\u001b[0m\u001b[1;36m1\u001b[0m\u001b[1;33m,\u001b[0m\u001b[1;36m30\u001b[0m\u001b[1;33m,\u001b[0m\u001b[1;36m2\u001b[0m\u001b[1;33m,\u001b[0m\u001b[1;36m3\u001b[0m\u001b[1;33m]\u001b[0m\u001b[1;33m)\u001b[0m\u001b[1;33m\u001b[0m\u001b[1;33m\u001b[0m\u001b[0m\n\u001b[0m\u001b[0;32m     89\u001b[0m         \u001b[0marr_avg\u001b[0m \u001b[1;33m=\u001b[0m \u001b[0mnp\u001b[0m\u001b[1;33m.\u001b[0m\u001b[0mmean\u001b[0m\u001b[1;33m(\u001b[0m\u001b[0mnonzero_avg\u001b[0m\u001b[1;33m,\u001b[0m\u001b[0maxis\u001b[0m\u001b[1;33m=\u001b[0m\u001b[1;36m0\u001b[0m\u001b[1;33m)\u001b[0m\u001b[1;33m\u001b[0m\u001b[1;33m\u001b[0m\u001b[0m\n\u001b[0;32m     90\u001b[0m         \u001b[0mdata1_diff\u001b[0m \u001b[1;33m=\u001b[0m \u001b[0mdata1\u001b[0m \u001b[1;33m-\u001b[0m \u001b[0marr_avg\u001b[0m \u001b[1;31m#np.diff(data1,axis=0)\u001b[0m\u001b[1;33m\u001b[0m\u001b[1;33m\u001b[0m\u001b[0m\n",
      "\u001b[1;31mValueError\u001b[0m: total size of new array must be unchanged"
     ]
    }
   ],
   "source": [
    "# MIT image\n",
    "# Made by : HERO Kwon\n",
    "# Date : 190108\n",
    "\n",
    "import os\n",
    "import numpy as np\n",
    "import pandas as pd\n",
    "import pickle\n",
    "import gzip\n",
    "import matplotlib.pyplot as plt\n",
    "import math\n",
    "import cmath\n",
    "\n",
    "# data path\n",
    "#path_meta = '/home/herokwon/mount_data/Data/Wi-Fi_meta/'\n",
    "#path_csi = '/home/herokwon/mount_data/Data/Wi-Fi_processed/'\n",
    "#path_csi_np = '/home/herokwon/mount_data/Data/Wi-Fi_processed_npy/'\n",
    "\n",
    "# data path_mi\n",
    "path_csi = 'J:\\\\Data\\\\Wi-Fi_processed\\\\'\n",
    "path_csi_np = 'J:\\\\Data\\\\Wi-Fi_processed_npy\\\\'\n",
    "path_meta = 'J:\\\\Data\\\\Wi-Fi_meta\\\\'\n",
    "path_sc = 'J:\\\\Data\\\\Wi-Fi_info\\\\'\n",
    "path_mit_image = 'J:\\\\Data\\\\Wi-Fi_mit_image\\\\'\n",
    "\n",
    "# data info\n",
    "df_info = pd.read_csv(path_meta+'data_subc_sig_v1.csv')\n",
    "df_info = df_info[df_info.id_location==1]\n",
    "\n",
    "#df_info = df_info.iloc[0:250]\n",
    "#df_info = df_info.iloc[250:500]\n",
    "#df_info = df_info.iloc[500:750]\n",
    "#df_info = df_info.iloc[750:1000]\n",
    "#df_info = df_info.iloc[1000:1250]\n",
    "#df_info = df_info.iloc[1250:1500]\n",
    "#df_info = df_info.iloc[1500:1750]\n",
    "#df_info = df_info.iloc[1750:2000]\n",
    "#df_info = df_info.iloc[2000:2250]\n",
    "#df_info = df_info.iloc[2250:2500]\n",
    "#df_info = df_info.iloc[2500:2750]\n",
    "df_info = df_info.iloc[2750:3000]\n",
    "#df_info = df_info.iloc[3000:3250]\n",
    "#df_info = df_info.iloc[3250:3500]\n",
    "#df_info = df_info.iloc[3500:3632]\n",
    "\n",
    "person_uid = np.unique(df_info['id_person'])\n",
    "dict_id = dict(zip(person_uid,np.arange(len(person_uid))))\n",
    "csi_time = 50 #15000 #int(np.max(df_info['len']))\n",
    "# parameters\n",
    "max_value = np.max(df_info['max'].values)\n",
    "#no_classes = len(np.unique(df_info['id_person']))\n",
    "no_classes = len(dict_id)\n",
    "csi_subc = 30\n",
    "input_shape = (csi_time, csi_subc, 6)\n",
    "\n",
    "# freq BW list\n",
    "bw_list = pd.read_csv(path_meta+'wifi_f_bw_list.csv')\n",
    "\n",
    "# avg Array\n",
    "with open(path_meta + 'dict_avgcsi.pickle','rb') as f:\n",
    "    dict_avg = pickle.load(f)\n",
    "\n",
    "# 3D scan param\n",
    "m,n = 2,3\n",
    "c =  299792458 # speed of light \n",
    "#r = (160 + 160 + 164) * 0.01 # meter\n",
    "r = 1.64 #meter\n",
    "d = 45 * 0.01 # meter\n",
    "ch = 8#3\n",
    "max_subc = 30\n",
    "\n",
    "\n",
    "# make data generator\n",
    "def gen_csi(df_info,dict_avg,id_num,len_num):\n",
    "    for file in np.unique(df_info.id.values):\n",
    "        \n",
    "        # Label\n",
    "        id_key = df_info[df_info.id==file][['id_person','id_location','id_direction','id_exp']].values[0].astype('int')\n",
    "        data1_y = dict_id[id_key[0]]\n",
    "        \n",
    "        # read sample data\n",
    "        # load and uncompress.\n",
    "        with gzip.open(path_csi+file+'.pickle.gz','rb') as f:\n",
    "            data1 = pickle.load(f)\n",
    "            \n",
    "        # subtract avg\n",
    "        read_avg = dict_avg[id_key[0]][0]\n",
    "        nonzero_avg = read_avg[np.nonzero(read_avg)].reshape([-1,30,2,3])\n",
    "        arr_avg = np.mean(nonzero_avg,axis=0)\n",
    "        data1_diff = data1 - arr_avg #np.diff(data1,axis=0)\n",
    "\n",
    "        s_idx = (np.arange(len_num) * data1_diff.shape[0] / len_num).astype('int')\n",
    "        data1_s = data1_diff[s_idx]\n",
    "        # zero pad\n",
    "        #pad_len = len_num - data1_diff.shape[0]\n",
    "        #data1_pad = np.pad(data1_diff,((0,pad_len),(0,0),(0,0),(0,0)),'constant',constant_values=0)\n",
    "\n",
    "        # subcarrier info\n",
    "        #data1_sc_df = pd.read_csv(path_sc + file + '_df_sc.csv')\n",
    "        #data1_time = np.diff(data1_sc_df['timestamp_low'])\n",
    "        #data1_time_pad = np.pad(data1_time,((1,pad_len)),'constant',constant_values=0)\n",
    "        \n",
    "        \n",
    "        yield(data1_s ,data1_y,id_key,file)#,data1_time_pad)\n",
    "\n",
    "gen = gen_csi(df_info,dict_avg,no_classes,csi_time)\n",
    "\n",
    "\n",
    "\n",
    "# 3D Reconstruction func\n",
    "from numba import vectorize\n",
    "@vectorize(['complex64(complex64,float32,float32,int32,int32,float32,float32,float32,int32)'], target='cpu')\n",
    "def Recon3d(sig,theta,sigma,m,n,lam,d,r,c):\n",
    "    #above_eq1 = 1j * (2*math.pi) * k * r * t / c\n",
    "    #above_eq1 = 1j * (2*math.pi) * c * dt * 0.000001 / lam\n",
    "    above_eq1 = 1j * (2*math.pi) * r / lam\n",
    "    above_eq2 = 1j * (2*math.pi/lam) * math.sin(theta) * ((n+1)*d*math.cos(sigma) + (m+1)*d*math.sin(sigma))\n",
    "    eq_res = sig* cmath.exp(above_eq1) * cmath.exp(above_eq2)\n",
    "    #eq_res = cmath.exp(above_eq1) * cmath.exp(above_eq2)\n",
    "    return eq_res #math.atan2(eq_res.imag,eq_res.real)\n",
    "\n",
    "\n",
    "def Calc3d(target_sig,max_subc,theta,sigma,bw_list,ch,d,r,c,m,n):\n",
    "    #vectorize arrays\n",
    "    subc_array = np.ones([csi_time,max_subc,m,n])\n",
    "    m_array = np.ones([csi_time,max_subc,m,n])\n",
    "    n_array = np.ones([csi_time,max_subc,m,n])\n",
    "    for i in range(max_subc):\n",
    "        subc_array[:,i,:,:] = i\n",
    "    for i in range(m):\n",
    "        m_array[:,:,i,:] = i\n",
    "    for i in range(n):\n",
    "        n_array[:,:,:,i] = i\n",
    "    subc_array = subc_array.flatten().astype(np.int32)\n",
    "    m_array = m_array.flatten().astype(np.int32)\n",
    "    n_array = n_array.flatten().astype(np.int32)\n",
    "    lam_array = np.array([c*0.000001/bw_list[str(e)][ch] for e in subc_array],dtype=np.float32)\n",
    "    \n",
    "    target_array = target_sig.flatten().astype(np.complex64)\n",
    "    \n",
    "    #3d recon\n",
    "    sum_eq = np.zeros(csi_time*max_subc*m*n*th_range,dtype=np.complex_)\n",
    "    sum_eq = Recon3d(target_array,theta,sigma,m_array,n_array,lam_array,d,r,c)\n",
    "\n",
    "    sum_reshape = np.sum(sum_eq.reshape([-1,max_subc,m,n]),axis=(1,2,3))\n",
    "    return(np.abs(sum_reshape))\n",
    "\n",
    "\n",
    "for f in np.unique(df_info.id.values):\n",
    "\n",
    "    target_sig,target_lab,target_id,target_file = next(gen)\n",
    "    th_range,si_range = (10,10)\n",
    "    sig_mat = np.zeros([csi_time,2*th_range,2*si_range])\n",
    "\n",
    "    import time\n",
    "    t1 = time.time()\n",
    "    for idx_th,i in enumerate(range(-th_range,th_range)):\n",
    "        for idx_si,j in enumerate(range(-si_range,si_range)):\n",
    "            theta = i * (np.radians(60)/2) / th_range\n",
    "            sigma = j * (np.radians(60)/2) / si_range\n",
    "            sig_mat[:,idx_th,idx_si] = Calc3d(target_sig,max_subc,theta,sigma,bw_list,ch,d,r,c,m,n)\n",
    "    print(time.time()-t1)\n",
    "    print(f)\n",
    "\n",
    "    np.save(path_mit_image + f + '.npy',sig_mat)\n",
    "\n",
    "#th_array = (np.radians(30)/2)/th_range * np.arange(-th_range,th_range)\n",
    "#si_array = (np.radians(30)/2)/si_range * np.arange(-si_range,si_range)"
   ]
  },
  {
   "cell_type": "code",
   "execution_count": 2,
   "metadata": {},
   "outputs": [],
   "source": [
    "file = np.unique(df_info.id.values)[0]"
   ]
  },
  {
   "cell_type": "code",
   "execution_count": 3,
   "metadata": {},
   "outputs": [
    {
     "data": {
      "text/plain": [
       "'S029_1_2_3'"
      ]
     },
     "execution_count": 3,
     "metadata": {},
     "output_type": "execute_result"
    }
   ],
   "source": [
    "file"
   ]
  },
  {
   "cell_type": "code",
   "execution_count": 4,
   "metadata": {},
   "outputs": [
    {
     "ename": "ValueError",
     "evalue": "total size of new array must be unchanged",
     "output_type": "error",
     "traceback": [
      "\u001b[1;31m---------------------------------------------------------------------------\u001b[0m",
      "\u001b[1;31mValueError\u001b[0m                                Traceback (most recent call last)",
      "\u001b[1;32m<ipython-input-4-30f37d5b6c0b>\u001b[0m in \u001b[0;36m<module>\u001b[1;34m\u001b[0m\n\u001b[0;32m     10\u001b[0m \u001b[1;31m# subtract avg\u001b[0m\u001b[1;33m\u001b[0m\u001b[1;33m\u001b[0m\u001b[1;33m\u001b[0m\u001b[0m\n\u001b[0;32m     11\u001b[0m \u001b[0mread_avg\u001b[0m \u001b[1;33m=\u001b[0m \u001b[0mdict_avg\u001b[0m\u001b[1;33m[\u001b[0m\u001b[0mid_key\u001b[0m\u001b[1;33m[\u001b[0m\u001b[1;36m0\u001b[0m\u001b[1;33m]\u001b[0m\u001b[1;33m]\u001b[0m\u001b[1;33m[\u001b[0m\u001b[1;36m0\u001b[0m\u001b[1;33m]\u001b[0m\u001b[1;33m\u001b[0m\u001b[1;33m\u001b[0m\u001b[0m\n\u001b[1;32m---> 12\u001b[1;33m \u001b[0mnonzero_avg\u001b[0m \u001b[1;33m=\u001b[0m \u001b[0mread_avg\u001b[0m\u001b[1;33m[\u001b[0m\u001b[0mnp\u001b[0m\u001b[1;33m.\u001b[0m\u001b[0mnonzero\u001b[0m\u001b[1;33m(\u001b[0m\u001b[0mread_avg\u001b[0m\u001b[1;33m)\u001b[0m\u001b[1;33m]\u001b[0m\u001b[1;33m.\u001b[0m\u001b[0mreshape\u001b[0m\u001b[1;33m(\u001b[0m\u001b[1;33m[\u001b[0m\u001b[1;33m-\u001b[0m\u001b[1;36m1\u001b[0m\u001b[1;33m,\u001b[0m\u001b[1;36m30\u001b[0m\u001b[1;33m,\u001b[0m\u001b[1;36m2\u001b[0m\u001b[1;33m,\u001b[0m\u001b[1;36m3\u001b[0m\u001b[1;33m]\u001b[0m\u001b[1;33m)\u001b[0m\u001b[1;33m\u001b[0m\u001b[1;33m\u001b[0m\u001b[0m\n\u001b[0m\u001b[0;32m     13\u001b[0m \u001b[0marr_avg\u001b[0m \u001b[1;33m=\u001b[0m \u001b[0mnp\u001b[0m\u001b[1;33m.\u001b[0m\u001b[0mmean\u001b[0m\u001b[1;33m(\u001b[0m\u001b[0mnonzero_avg\u001b[0m\u001b[1;33m,\u001b[0m\u001b[0maxis\u001b[0m\u001b[1;33m=\u001b[0m\u001b[1;36m0\u001b[0m\u001b[1;33m)\u001b[0m\u001b[1;33m\u001b[0m\u001b[1;33m\u001b[0m\u001b[0m\n\u001b[0;32m     14\u001b[0m \u001b[0mdata1_diff\u001b[0m \u001b[1;33m=\u001b[0m \u001b[0mdata1\u001b[0m \u001b[1;33m-\u001b[0m \u001b[0marr_avg\u001b[0m \u001b[1;31m#np.diff(data1,axis=0)\u001b[0m\u001b[1;33m\u001b[0m\u001b[1;33m\u001b[0m\u001b[0m\n",
      "\u001b[1;31mValueError\u001b[0m: total size of new array must be unchanged"
     ]
    }
   ],
   "source": [
    "        # Label\n",
    "        id_key = df_info[df_info.id==file][['id_person','id_location','id_direction','id_exp']].values[0].astype('int')\n",
    "        data1_y = dict_id[id_key[0]]\n",
    "        \n",
    "        # read sample data\n",
    "        # load and uncompress.\n",
    "        with gzip.open(path_csi+file+'.pickle.gz','rb') as f:\n",
    "            data1 = pickle.load(f)\n",
    "            \n",
    "        # subtract avg\n",
    "        read_avg = dict_avg[id_key[0]][0]\n",
    "        nonzero_avg = read_avg[np.nonzero(read_avg)].reshape([-1,30,2,3])\n",
    "        arr_avg = np.mean(nonzero_avg,axis=0)\n",
    "        data1_diff = data1 - arr_avg #np.diff(data1,axis=0)\n",
    "\n",
    "        s_idx = (np.arange(len_num) * data1_diff.shape[0] / len_num).astype('int')\n",
    "        data1_s = data1_diff[s_idx]"
   ]
  },
  {
   "cell_type": "code",
   "execution_count": 5,
   "metadata": {},
   "outputs": [
    {
     "data": {
      "text/plain": [
       "(15000, 30, 2, 3)"
      ]
     },
     "execution_count": 5,
     "metadata": {},
     "output_type": "execute_result"
    }
   ],
   "source": [
    "read_avg.shape"
   ]
  },
  {
   "cell_type": "code",
   "execution_count": 15,
   "metadata": {},
   "outputs": [],
   "source": [
    "aa = read_avg[np.nonzero(read_avg)[0]]"
   ]
  },
  {
   "cell_type": "code",
   "execution_count": 16,
   "metadata": {},
   "outputs": [
    {
     "data": {
      "text/plain": [
       "(2600083, 30, 2, 3)"
      ]
     },
     "execution_count": 16,
     "metadata": {},
     "output_type": "execute_result"
    }
   ],
   "source": [
    "aa.shape"
   ]
  },
  {
   "cell_type": "code",
   "execution_count": 19,
   "metadata": {},
   "outputs": [],
   "source": [
    "aa = np.array([np.nonzero(m)[0] for m in read_avg])"
   ]
  },
  {
   "cell_type": "code",
   "execution_count": 27,
   "metadata": {},
   "outputs": [],
   "source": [
    "a1 = read_avg[aa[0]].shape"
   ]
  },
  {
   "cell_type": "code",
   "execution_count": null,
   "metadata": {},
   "outputs": [],
   "source": []
  },
  {
   "cell_type": "code",
   "execution_count": 29,
   "metadata": {},
   "outputs": [
    {
     "data": {
      "text/plain": [
       "(13194, 30, 2, 3)"
      ]
     },
     "execution_count": 29,
     "metadata": {},
     "output_type": "execute_result"
    }
   ],
   "source": [
    "data1.shape"
   ]
  },
  {
   "cell_type": "code",
   "execution_count": 32,
   "metadata": {},
   "outputs": [
    {
     "ename": "NameError",
     "evalue": "name 'nonzero_avg' is not defined",
     "output_type": "error",
     "traceback": [
      "\u001b[1;31m---------------------------------------------------------------------------\u001b[0m",
      "\u001b[1;31mNameError\u001b[0m                                 Traceback (most recent call last)",
      "\u001b[1;32m<ipython-input-32-9b392a411880>\u001b[0m in \u001b[0;36m<module>\u001b[1;34m\u001b[0m\n\u001b[1;32m----> 1\u001b[1;33m \u001b[0marr_avg\u001b[0m \u001b[1;33m=\u001b[0m \u001b[0mnp\u001b[0m\u001b[1;33m.\u001b[0m\u001b[0mmean\u001b[0m\u001b[1;33m(\u001b[0m\u001b[0mnonzero_avg\u001b[0m\u001b[1;33m,\u001b[0m\u001b[0maxis\u001b[0m\u001b[1;33m=\u001b[0m\u001b[1;36m0\u001b[0m\u001b[1;33m)\u001b[0m\u001b[1;33m\u001b[0m\u001b[1;33m\u001b[0m\u001b[0m\n\u001b[0m",
      "\u001b[1;31mNameError\u001b[0m: name 'nonzero_avg' is not defined"
     ]
    }
   ],
   "source": [
    "arr_avg = np.mean(nonzero_avg,axis=0)"
   ]
  },
  {
   "cell_type": "code",
   "execution_count": null,
   "metadata": {},
   "outputs": [],
   "source": []
  }
 ],
 "metadata": {
  "kernelspec": {
   "display_name": "mit_image",
   "language": "python",
   "name": "mit_image"
  },
  "language_info": {
   "codemirror_mode": {
    "name": "ipython",
    "version": 3
   },
   "file_extension": ".py",
   "mimetype": "text/x-python",
   "name": "python",
   "nbconvert_exporter": "python",
   "pygments_lexer": "ipython3",
   "version": "3.6.8"
  }
 },
 "nbformat": 4,
 "nbformat_minor": 2
}
