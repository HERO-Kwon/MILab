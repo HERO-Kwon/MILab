{
 "cells": [
  {
   "cell_type": "code",
   "execution_count": 1,
   "metadata": {},
   "outputs": [],
   "source": [
    "# MIT image : Analysis\n",
    "# Made by : HERO Kwon\n",
    "# Date : 190113\n",
    "from numba import jit\n",
    "import os\n",
    "import numpy as np\n",
    "import pandas as pd\n",
    "import pickle\n",
    "import matplotlib.pyplot as plt\n",
    "#import tensorflow as tf\n",
    "from sklearn.model_selection import train_test_split\n",
    "from sklearn.metrics import confusion_matrix\n",
    "from sklearn.model_selection import StratifiedKFold\n",
    "import time\n",
    "\n",
    "# data path\n",
    "#path_meta = '/home/herokwon/mount_data/Data/Wi-Fi_meta/'\n",
    "#path_csi = '/home/herokwon/mount_data/Data/Wi-Fi_processed/'\n",
    "#path_csi_np = '/home/herokwon/mount_data/Data/Wi-Fi_processed_npy/'\n",
    "#path_mit_image = '/home/herokwon/mount_data/Data/Wi-Fi_mit_image/'\n",
    "\n",
    "path_csi = 'D:\\\\Data\\\\Wi-Fi_processed\\\\'\n",
    "path_csi_np = 'D:\\\\Data\\\\Wi-Fi_processed_npy\\\\'\n",
    "path_meta = 'D:\\\\Data\\\\Wi-Fi_meta\\\\'\n",
    "path_sc = 'D:\\\\Data\\\\Wi-Fi_info\\\\'\n",
    "path_mit_image = 'D:\\\\Data\\\\Wi-Fi_mit_denoise_debug\\\\'\n",
    "path_movie = 'D:\\\\Data\\\\Wi-Fi_movie\\\\'\n",
    "\n",
    "# data info\n",
    "df_info = pd.read_csv(path_meta+'data_subc_sig_v1.csv')\n",
    "#df_info = df_info[df_info.id_location==1 ]\n",
    "\n",
    "person_uid = np.unique(df_info['id_person'])\n",
    "dict_id = dict(zip(person_uid,np.arange(len(person_uid))))\n",
    "csi_time = 100 #15000 #int(np.max(df_info['len']))\n",
    "# parameters\n",
    "max_value = np.max(df_info['max'].values)\n",
    "#no_classes = len(np.unique(df_info['id_person']))\n",
    "no_classes = len(dict_id)\n",
    "csi_subc = 30\n",
    "input_shape = (csi_time, csi_subc, 6)\n",
    "\n",
    "# freq BW list\n",
    "bw_list = pd.read_csv(path_meta+'wifi_f_bw_list.csv')\n",
    "\n",
    "# 3D scan param\n",
    "m,n = 2,3\n",
    "c =  299792458 # speed of light \n",
    "#r = (160 + 160 + 164) * 0.01 # meter\n",
    "r = 1.64 #meter\n",
    "d = 45 * 0.01 # meter\n",
    "ch = 8#3\n",
    "max_subc = 30\n",
    "\n",
    "# Load data\n",
    "saved_images = [f.replace(\".npy\",\"\") for f in os.listdir(path_mit_image)]\n",
    "saved_images\n",
    "\n",
    "df11 = df_info[(df_info.id_direction==1) & (df_info.id_location==1)]\n",
    "df_target = df11[df11['id'].isin(saved_images)]\n",
    "df_lab = df_target[['id','id_person','id_location','id_direction','id_exp']]\n",
    "df_lab = df_lab.drop_duplicates()\n",
    "df_lab\n",
    "\n",
    "data_mit = []\n",
    "filename_mit = []\n",
    "for file in df_lab.id.values:\n",
    "    data_load = np.load(path_mit_image + file + '.npy')\n",
    "    #dl_norm = np.array([data_load[i] / np.max(data_load[i]) for i in range(data_load.shape[0])])\n",
    "    dl_norm = data_load\n",
    "    data_mit.append(dl_norm)\n",
    "    filename_mit.append(file)"
   ]
  },
  {
   "cell_type": "code",
   "execution_count": 2,
   "metadata": {},
   "outputs": [
    {
     "data": {
      "text/plain": [
       "(100, 10, 10)"
      ]
     },
     "execution_count": 2,
     "metadata": {},
     "output_type": "execute_result"
    }
   ],
   "source": [
    "data_load.shape"
   ]
  },
  {
   "cell_type": "code",
   "execution_count": 3,
   "metadata": {},
   "outputs": [
    {
     "data": {
      "text/plain": [
       "array([ 18,  18,  18,  18,  18,  18,  18,  18,  18,  18,  18,  19,  19,\n",
       "        19,  19,  19,  19,  19,  19,  19,  19,  22,  22,  22,  22,  22,\n",
       "        22,  22,  22,  22,  22,  22,  24,  24,  24,  24,  24,  24,  24,\n",
       "        24,  24,  24,  24,  24,  25,  25,  25,  25,  25,  25,  25,  25,\n",
       "        25,  25,  25,  25,  26,  26,  26,  26,  26,  26,  26,  27,  27,\n",
       "        27,  27,  27,  27,  27,  27,  27,  27,  27,  27,  28,  28,  28,\n",
       "        28,  28,  28,  28,  28,  28,  28,  28,  29,  29,  29,  29,  29,\n",
       "        29,  29,  29,  29,  29,  29,  29,  29,  30,  30,  30,  30,  30,\n",
       "        30,  30,  30,  30,  30,  30,  30,  31,  31,  31,  31,  31,  31,\n",
       "        31,  31,  31,  31,  32,  32,  32,  32,  32,  32,  32,  32,  32,\n",
       "        32,  32,  33,  33,  33,  33,  33,  33,  33,  33,  33,  33,  33,\n",
       "        33,  33,  34,  34,  34,  34,  34,  34,  34,  34,  34,  34,  34,\n",
       "        35,  35,  35,  35,  35,  35,  35,  35,  35,  35,  35,  35,  36,\n",
       "        36,  36,  36,  36,  36,  36,  36,  36,  36,  36,  36,  37,  37,\n",
       "        37,  37,  37,  37,  37,  37,  37,  37,  39,  39,  39,  39,  39,\n",
       "        39,  39,  39,  39,  39,  39,  39,  40,  40,  40,  40,  40,  40,\n",
       "        40,  40,  40,  40,  40,  40,  41,  41,  41,  41,  42,  42,  42,\n",
       "        42,  42,  42,  42,  42,  42,  42,  42,  42,  43,  43,  43,  43,\n",
       "        43,  44,  44,  44,  44,  44,  44,  44,  44,  44,  44,  44,  44,\n",
       "        44,  45,  45,  45,  45,  45,  45,  45,  45,  45,  45,  45,  45,\n",
       "        46,  46,  46,  46,  46,  46,  46,  46,  46,  46,  46,  46,  47,\n",
       "        47,  47,  47,  47,  47,  47,  47,  47,  47,  48,  48,  48,  48,\n",
       "        48,  48,  48,  48,  48,  48,  49,  49,  49,  49,  49,  49,  49,\n",
       "        49,  49,  49,  49,  50,  50,  50,  50,  50,  50,  50,  50,  50,\n",
       "        50,  50,  51,  51,  51,  51,  51,  51,  51,  51,  51,  51,  51,\n",
       "        51,  52,  52,  52,  52,  52,  52,  52,  52,  52,  52,  52,  52,\n",
       "        53,  53,  53,  53,  53,  53,  53,  53,  53,  53,  54,  54,  54,\n",
       "        54,  54,  54,  54,  54,  54,  54,  54,  54,  57,  57,  57,  57,\n",
       "        57,  57,  57,  57,  57,  57,  57,  57,  58,  58,  58,  58,  58,\n",
       "        58,  58,  58,  58,  58,  58,  58,  59,  59,  59,  59,  59,  59,\n",
       "        59,  59,  59,  59,  60,  60,  60,  60,  60,  60,  60,  61,  61,\n",
       "        61,  61,  61,  61,  62,  62,  62,  62,  62,  62,  62,  62,  62,\n",
       "        62,  62,  63,  63,  63,  63,  63,  63,  63,  63,  63,  63,  63,\n",
       "        63,  64,  64,  64,  64,  64,  64,  64,  64,  64,  64,  64,  65,\n",
       "        65,  65,  65,  65,  65,  65,  65,  65,  65,  65,  66,  66,  66,\n",
       "        66,  66,  66,  66,  66,  66,  66,  66,  66,  67,  67,  67,  67,\n",
       "        67,  67,  67,  67,  67,  67,  67,  68,  68,  68,  68,  68,  68,\n",
       "        68,  68,  68,  68,  68,  68,  69,  69,  69,  69,  69,  69,  69,\n",
       "        69,  69,  69,  70,  70,  70,  70,  70,  70,  70,  70,  70,  70,\n",
       "        70,  71,  71,  71,  71,  71,  71,  71,  71,  71,  71,  72,  72,\n",
       "        72,  72,  72,  72,  72,  72,  72,  72,  72,  73,  73,  73,  73,\n",
       "        73,  73,  73,  73,  73,  74,  74,  74,  74,  74,  74,  74,  74,\n",
       "        74,  74,  74,  74,  75,  75,  75,  75,  75,  75,  75,  75,  75,\n",
       "        75,  75,  76,  76,  76,  76,  76,  76,  76,  76,  76,  76,  77,\n",
       "        77,  77,  77,  77,  77,  77,  77,  77,  77,  77,  77,  78,  78,\n",
       "        78,  78,  78,  78,  78,  78,  78,  78,  78,  79,  79,  79,  79,\n",
       "        79,  79,  79,  79,  79,  79,  79,  80,  80,  80,  80,  80,  80,\n",
       "        80,  80,  80,  80,  80,  80,  81,  81,  81,  81,  81,  81,  81,\n",
       "        81,  81,  81,  81,  81,  82,  82,  82,  82,  82,  82,  82,  82,\n",
       "        82,  82,  82,  83,  83,  83,  83,  83,  83,  83,  83,  83,  83,\n",
       "        84,  84,  84,  84,  84,  84,  84,  84,  84,  84,  84,  84,  85,\n",
       "        85,  85,  85,  85,  85,  85,  85,  85,  85,  85,  86,  86,  86,\n",
       "        86,  86,  86,  86,  86,  86,  86,  86,  87,  87,  87,  87,  87,\n",
       "        87,  87,  87,  87,  87,  87,  88,  88,  88,  88,  88,  88,  88,\n",
       "        88,  89,  89,  89,  89,  89,  89,  89,  89,  89,  89,  90,  90,\n",
       "        90,  90,  90,  90,  90,  90,  90,  90,  90,  90,  91,  91,  91,\n",
       "        91,  91,  91,  91,  91,  91,  91,  91,  91,  92,  92,  92,  92,\n",
       "        92,  92,  92,  92,  92,  92,  92,  92,  93,  93,  93,  93,  93,\n",
       "        93,  93,  94,  94,  94,  94,  94,  94,  94,  95,  95,  95,  95,\n",
       "        95,  95,  95,  95,  95,  95,  95,  95,  95,  96,  96,  96,  96,\n",
       "        96,  96,  96,  96,  96,  96,  96,  96,  97,  97,  97,  97,  97,\n",
       "        97,  97,  97,  97,  97,  98,  98,  98,  98,  98,  98,  98,  98,\n",
       "        98,  98,  99,  99,  99,  99,  99,  99, 100, 100, 100, 100, 100,\n",
       "       100, 100, 100, 100, 100, 101, 101, 101, 101, 101, 101, 101, 101,\n",
       "       102, 102, 102, 102, 102, 102, 102, 102, 102, 102, 102, 102, 102,\n",
       "       103, 103, 103, 103, 103, 103, 103, 103, 103, 103, 103, 103, 104], dtype=int64)"
      ]
     },
     "execution_count": 3,
     "metadata": {},
     "output_type": "execute_result"
    }
   ],
   "source": [
    "label_mit = df_lab.id_person.values\n",
    "file_mit = df_lab.id.values\n",
    "label_mit"
   ]
  },
  {
   "cell_type": "code",
   "execution_count": 4,
   "metadata": {},
   "outputs": [
    {
     "data": {
      "text/plain": [
       "(858, 100, 10, 10)"
      ]
     },
     "execution_count": 4,
     "metadata": {},
     "output_type": "execute_result"
    }
   ],
   "source": [
    "arr_mit = np.nan_to_num(np.array(data_mit))\n",
    "#diff_mit = np.diff(arr_mit,axis=1)\n",
    "sum_mit = np.sum(arr_mit,axis=1).reshape([-1,10*10])\n",
    "arr_mit.shape"
   ]
  },
  {
   "cell_type": "code",
   "execution_count": 5,
   "metadata": {},
   "outputs": [],
   "source": [
    "a1 = arr_mit.reshape([-1,10*10*100])"
   ]
  },
  {
   "cell_type": "code",
   "execution_count": null,
   "metadata": {},
   "outputs": [],
   "source": []
  },
  {
   "cell_type": "code",
   "execution_count": 6,
   "metadata": {},
   "outputs": [
    {
     "data": {
      "text/plain": [
       "PCA(copy=True, iterated_power='auto', n_components=100, random_state=None,\n",
       "  svd_solver='auto', tol=0.0, whiten=True)"
      ]
     },
     "execution_count": 6,
     "metadata": {},
     "output_type": "execute_result"
    }
   ],
   "source": [
    "from sklearn.decomposition import PCA\n",
    "pca = PCA(n_components=100,whiten=True)\n",
    "pca.fit(a1)"
   ]
  },
  {
   "cell_type": "code",
   "execution_count": 7,
   "metadata": {},
   "outputs": [
    {
     "data": {
      "text/plain": [
       "'\\nfrom matplotlib import pyplot as plt\\nplt.figure()\\nfor i, c, label in zip(target_ids, color, target_ids):\\n    plt.scatter(X_pca[label_mit==label, 0], X_pca[label_mit==label, 1],c=c, label=label)\\nplt.legend()\\nplt.show()\\n'"
      ]
     },
     "execution_count": 7,
     "metadata": {},
     "output_type": "execute_result"
    }
   ],
   "source": [
    "#plotting PCA\n",
    "from matplotlib.pyplot import cm\n",
    "X_pca = pca.transform(a1)\n",
    "target_ids = np.unique(label_mit)\n",
    "color=cm.rainbow(target_ids)\n",
    "#color=cm.tab20(np.linspace(0,1,13))\n",
    "'''\n",
    "from matplotlib import pyplot as plt\n",
    "plt.figure()\n",
    "for i, c, label in zip(target_ids, color, target_ids):\n",
    "    plt.scatter(X_pca[label_mit==label, 0], X_pca[label_mit==label, 1],c=c, label=label)\n",
    "plt.legend()\n",
    "plt.show()\n",
    "'''"
   ]
  },
  {
   "cell_type": "code",
   "execution_count": 8,
   "metadata": {},
   "outputs": [
    {
     "data": {
      "text/plain": [
       "(858, 100)"
      ]
     },
     "execution_count": 8,
     "metadata": {},
     "output_type": "execute_result"
    }
   ],
   "source": [
    "X_pca.shape"
   ]
  },
  {
   "cell_type": "code",
   "execution_count": null,
   "metadata": {},
   "outputs": [],
   "source": []
  },
  {
   "cell_type": "code",
   "execution_count": 9,
   "metadata": {},
   "outputs": [],
   "source": [
    "#arr_mit.reshape([-1,100*10*10]).shape"
   ]
  },
  {
   "cell_type": "code",
   "execution_count": 10,
   "metadata": {},
   "outputs": [
    {
     "data": {
      "text/plain": [
       "(858, 100, 10, 10)"
      ]
     },
     "execution_count": 10,
     "metadata": {},
     "output_type": "execute_result"
    }
   ],
   "source": [
    "arr_mit.shape"
   ]
  },
  {
   "cell_type": "code",
   "execution_count": 11,
   "metadata": {},
   "outputs": [],
   "source": [
    "norm_mit = X_pca\n",
    "#norm_mit = np.array([sum_mit[i,:] / np.max(sum_mit[i]) for i in range(len(sum_mit))])"
   ]
  },
  {
   "cell_type": "code",
   "execution_count": 12,
   "metadata": {},
   "outputs": [],
   "source": [
    "# Basis : RM2\n",
    "#@jit\n",
    "def RMmodel(order,X):\n",
    "    m,l = X.shape\n",
    "    M1 = []\n",
    "    M2 = []\n",
    "    M3 = []\n",
    "    MM1 = []\n",
    "    MM3 = []\n",
    "    Msum = np.sum(X,axis=1)\n",
    "    for i in range(order):\n",
    "        for k in range(l):\n",
    "            M1.append(X[:,k]**(i+1))\n",
    "            if (i>0):\n",
    "                M3.append(X[:,k]*Msum**(i)) \n",
    "        M2.append(Msum**(i+1))\n",
    "        MM1.append(M1)\n",
    "        if (i>0):\n",
    "            MM3.append(M3)\n",
    "    MM1 = np.array(MM1).T\n",
    "    MM1 = MM1.reshape((m,-1,1)).squeeze(axis=2)\n",
    "    M2 = np.array(M2).T\n",
    "    if (len(MM3)):\n",
    "        MM3 = np.array(MM3).T\n",
    "        MM3 = MM3.reshape((m,-1,1)).squeeze(axis=2)\n",
    "        P = np.concatenate((np.ones((m,1)),MM1,M2,MM3),axis=1)\n",
    "    else : P = np.concatenate((np.ones((m,1)),MM1,M2),axis=1)\n",
    "    return(P)\n",
    "\n",
    "#Models : LSE,RM,TER\n",
    "#@jit\n",
    "def Model3(rank,r,n,X,Y):\n",
    "    # LSE\n",
    "    alpha_lse = []\n",
    "    for k in list(set(Y)):\n",
    "        P_lse = X\n",
    "        I_lse = np.eye(P_lse.shape[1])\n",
    "        b_lse = 10**(-4)\n",
    "        y_lse = (Y==k).astype('int')\n",
    "        ak_lse = np.dot(np.dot(np.linalg.pinv(b_lse*I_lse + P_lse.T.dot(P_lse)),P_lse.T),y_lse)\n",
    "        alpha_lse.append(ak_lse)    \n",
    "    # RM\n",
    "    alpha_rm = []\n",
    "    for k in list(set(Y)):\n",
    "        P_rm = RMmodel(rank,X)\n",
    "        I_rm = np.eye(P_rm.shape[1])\n",
    "        b_rm = 10**(-4)\n",
    "        y_rm = (Y==k).astype('int')\n",
    "        ak_rm = np.dot(np.dot(np.linalg.pinv(b_rm*I_rm + P_rm.T.dot(P_rm)),P_rm.T),y_rm)\n",
    "        alpha_rm.append(ak_rm)  \n",
    "    # TER\n",
    "    alpha_ter = []\n",
    "    for k in list(set(Y)):\n",
    "        P_n = RMmodel(rank,X[Y!=k])\n",
    "        P_p = RMmodel(rank,X[Y==k])\n",
    "        mk_n = X[Y!=k].shape[0]\n",
    "        mk_p = X[Y==k].shape[0]\n",
    "        yk_n = (r-n) * np.ones(shape=Y[Y!=k].shape)\n",
    "        yk_p = (r+n) * np.ones(shape=Y[Y==k].shape)\n",
    "        I = np.eye(P_n.shape[1])\n",
    "        b = 10**(-4)\n",
    "        first_eq = np.linalg.pinv(b*I + (1/mk_n)*(P_n.T).dot(P_n) + (1/mk_p)*(P_p.T).dot(P_p))\n",
    "        second_eq = (1/mk_n)*(P_n.T).dot(yk_n) + (1/mk_p)*(P_p.T).dot(yk_p)\n",
    "        ak = np.dot(first_eq,second_eq)\n",
    "        alpha_ter.append(ak)\n",
    "    return(np.array(alpha_lse).T, np.array(alpha_rm).T,np.array(alpha_ter).T)"
   ]
  },
  {
   "cell_type": "code",
   "execution_count": 13,
   "metadata": {},
   "outputs": [
    {
     "data": {
      "text/plain": [
       "81"
      ]
     },
     "execution_count": 13,
     "metadata": {},
     "output_type": "execute_result"
    }
   ],
   "source": [
    "# change label\n",
    "uniq_label = np.unique(label_mit)\n",
    "label_table = pd.Series(np.arange(len(uniq_label)),index=uniq_label)\n",
    "label_num = np.array([label_table[num] for num in label_mit])\n",
    "len(uniq_label)"
   ]
  },
  {
   "cell_type": "code",
   "execution_count": 14,
   "metadata": {},
   "outputs": [],
   "source": [
    "# K-Fold training data\n",
    "skf = StratifiedKFold(n_splits=5)\n",
    "split = 0\n",
    "data_v = norm_mit\n",
    "data_l = label_num\n",
    "df_acc = pd.DataFrame()\n"
   ]
  },
  {
   "cell_type": "code",
   "execution_count": 15,
   "metadata": {
    "scrolled": true
   },
   "outputs": [
    {
     "name": "stderr",
     "output_type": "stream",
     "text": [
      "C:\\Users\\herok\\Anaconda3\\envs\\mit_image\\lib\\site-packages\\sklearn\\model_selection\\_split.py:652: Warning: The least populated class in y has only 1 members, which is too few. The minimum number of members in any class cannot be less than n_splits=5.\n",
      "  % (min_groups, self.n_splits)), Warning)\n"
     ]
    },
    {
     "name": "stdout",
     "output_type": "stream",
     "text": [
      "Data:/ Split:0\n",
      "Data:/ Split:1\n",
      "Data:/ Split:2\n",
      "Data:/ Split:3\n",
      "Data:/ Split:4\n"
     ]
    }
   ],
   "source": [
    "# iterate Split data\n",
    "for train_index,test_index in skf.split(data_v,data_l):\n",
    "    data_train,data_test = data_v[train_index],data_v[test_index]\n",
    "    label_train,label_test = data_l[train_index],data_l[test_index]\n",
    "    # iterate Rank 1~5    \n",
    "    for j in range(1):\n",
    "        rank = j+1\n",
    "        #Traning Result of models\n",
    "        alpha_lse, alpha_rm, alpha_ter = Model3(rank,0.5,0.5,data_train,label_train)\n",
    "        #Test: LSE\n",
    "        time_now = time.time()\n",
    "        Pt_lse = data_test\n",
    "        yt_lse = Pt_lse.dot(alpha_lse)\n",
    "        yt1_lse = np.argmax(yt_lse,axis=1)\n",
    "        pred_true = np.equal(label_test,yt1_lse)\n",
    "        acc = np.count_nonzero(pred_true) / len(pred_true)\n",
    "        time_elapsed = time.time() - time_now\n",
    "        res_ser = pd.Series(['Data','LSE',split,0,acc,time_elapsed],index=['Data','Model','Split','Rank','Acc','Time'])\n",
    "        df_acc = df_acc.append(res_ser,ignore_index=True)\n",
    "        #Test: RM\n",
    "        time_now = time.time()\n",
    "        Pt_rm = RMmodel(rank,data_test)\n",
    "        yt_rm = Pt_rm.dot(alpha_rm)\n",
    "        yt1_rm = np.argmax(yt_rm,axis=1)\n",
    "        pred_true = np.equal(label_test,yt1_rm)\n",
    "        acc = np.count_nonzero(pred_true) / len(pred_true)\n",
    "        time_elapsed = time.time() - time_now\n",
    "        res_ser = pd.Series(['Data','RM',split,rank,acc,time_elapsed],index=['Data','Model','Split','Rank','Acc','Time'])\n",
    "        df_acc = df_acc.append(res_ser,ignore_index=True)        \n",
    "        #Test: TER\n",
    "        time_now = time.time()\n",
    "        Pt_ter = RMmodel(rank,data_test)\n",
    "        yt_ter = Pt_ter.dot(alpha_ter)\n",
    "        yt1_ter = np.argmax(yt_ter,axis=1)\n",
    "        pred_true = np.equal(label_test,yt1_ter)\n",
    "        acc = np.count_nonzero(pred_true) / len(pred_true)\n",
    "        time_elapsed = time.time() - time_now\n",
    "        res_ser = pd.Series(['Data','TER',split,rank,acc,time_elapsed],index=['Data','Model','Split','Rank','Acc','Time'])\n",
    "        df_acc = df_acc.append(res_ser,ignore_index=True)\n",
    "    print('Data:' + '/ Split:'+ str(split))\n",
    "    split += 1"
   ]
  },
  {
   "cell_type": "code",
   "execution_count": 16,
   "metadata": {},
   "outputs": [
    {
     "data": {
      "text/html": [
       "<div>\n",
       "<style scoped>\n",
       "    .dataframe tbody tr th:only-of-type {\n",
       "        vertical-align: middle;\n",
       "    }\n",
       "\n",
       "    .dataframe tbody tr th {\n",
       "        vertical-align: top;\n",
       "    }\n",
       "\n",
       "    .dataframe thead th {\n",
       "        text-align: right;\n",
       "    }\n",
       "</style>\n",
       "<table border=\"1\" class=\"dataframe\">\n",
       "  <thead>\n",
       "    <tr style=\"text-align: right;\">\n",
       "      <th></th>\n",
       "      <th>Acc</th>\n",
       "      <th>Data</th>\n",
       "      <th>Model</th>\n",
       "      <th>Rank</th>\n",
       "      <th>Split</th>\n",
       "      <th>Time</th>\n",
       "    </tr>\n",
       "  </thead>\n",
       "  <tbody>\n",
       "    <tr>\n",
       "      <th>0</th>\n",
       "      <td>0.023474</td>\n",
       "      <td>Data</td>\n",
       "      <td>LSE</td>\n",
       "      <td>0.0</td>\n",
       "      <td>0.0</td>\n",
       "      <td>0.0</td>\n",
       "    </tr>\n",
       "    <tr>\n",
       "      <th>1</th>\n",
       "      <td>0.023474</td>\n",
       "      <td>Data</td>\n",
       "      <td>RM</td>\n",
       "      <td>1.0</td>\n",
       "      <td>0.0</td>\n",
       "      <td>0.0</td>\n",
       "    </tr>\n",
       "    <tr>\n",
       "      <th>2</th>\n",
       "      <td>0.014085</td>\n",
       "      <td>Data</td>\n",
       "      <td>TER</td>\n",
       "      <td>1.0</td>\n",
       "      <td>0.0</td>\n",
       "      <td>0.0</td>\n",
       "    </tr>\n",
       "    <tr>\n",
       "      <th>3</th>\n",
       "      <td>0.010526</td>\n",
       "      <td>Data</td>\n",
       "      <td>LSE</td>\n",
       "      <td>0.0</td>\n",
       "      <td>1.0</td>\n",
       "      <td>0.0</td>\n",
       "    </tr>\n",
       "    <tr>\n",
       "      <th>4</th>\n",
       "      <td>0.010526</td>\n",
       "      <td>Data</td>\n",
       "      <td>RM</td>\n",
       "      <td>1.0</td>\n",
       "      <td>1.0</td>\n",
       "      <td>0.0</td>\n",
       "    </tr>\n",
       "    <tr>\n",
       "      <th>5</th>\n",
       "      <td>0.021053</td>\n",
       "      <td>Data</td>\n",
       "      <td>TER</td>\n",
       "      <td>1.0</td>\n",
       "      <td>1.0</td>\n",
       "      <td>0.0</td>\n",
       "    </tr>\n",
       "    <tr>\n",
       "      <th>6</th>\n",
       "      <td>0.012739</td>\n",
       "      <td>Data</td>\n",
       "      <td>LSE</td>\n",
       "      <td>0.0</td>\n",
       "      <td>2.0</td>\n",
       "      <td>0.0</td>\n",
       "    </tr>\n",
       "    <tr>\n",
       "      <th>7</th>\n",
       "      <td>0.019108</td>\n",
       "      <td>Data</td>\n",
       "      <td>RM</td>\n",
       "      <td>1.0</td>\n",
       "      <td>2.0</td>\n",
       "      <td>0.0</td>\n",
       "    </tr>\n",
       "    <tr>\n",
       "      <th>8</th>\n",
       "      <td>0.012739</td>\n",
       "      <td>Data</td>\n",
       "      <td>TER</td>\n",
       "      <td>1.0</td>\n",
       "      <td>2.0</td>\n",
       "      <td>0.0</td>\n",
       "    </tr>\n",
       "    <tr>\n",
       "      <th>9</th>\n",
       "      <td>0.000000</td>\n",
       "      <td>Data</td>\n",
       "      <td>LSE</td>\n",
       "      <td>0.0</td>\n",
       "      <td>3.0</td>\n",
       "      <td>0.0</td>\n",
       "    </tr>\n",
       "    <tr>\n",
       "      <th>10</th>\n",
       "      <td>0.000000</td>\n",
       "      <td>Data</td>\n",
       "      <td>RM</td>\n",
       "      <td>1.0</td>\n",
       "      <td>3.0</td>\n",
       "      <td>0.0</td>\n",
       "    </tr>\n",
       "    <tr>\n",
       "      <th>11</th>\n",
       "      <td>0.013333</td>\n",
       "      <td>Data</td>\n",
       "      <td>TER</td>\n",
       "      <td>1.0</td>\n",
       "      <td>3.0</td>\n",
       "      <td>0.0</td>\n",
       "    </tr>\n",
       "    <tr>\n",
       "      <th>12</th>\n",
       "      <td>0.013514</td>\n",
       "      <td>Data</td>\n",
       "      <td>LSE</td>\n",
       "      <td>0.0</td>\n",
       "      <td>4.0</td>\n",
       "      <td>0.0</td>\n",
       "    </tr>\n",
       "    <tr>\n",
       "      <th>13</th>\n",
       "      <td>0.013514</td>\n",
       "      <td>Data</td>\n",
       "      <td>RM</td>\n",
       "      <td>1.0</td>\n",
       "      <td>4.0</td>\n",
       "      <td>0.0</td>\n",
       "    </tr>\n",
       "    <tr>\n",
       "      <th>14</th>\n",
       "      <td>0.027027</td>\n",
       "      <td>Data</td>\n",
       "      <td>TER</td>\n",
       "      <td>1.0</td>\n",
       "      <td>4.0</td>\n",
       "      <td>0.0</td>\n",
       "    </tr>\n",
       "  </tbody>\n",
       "</table>\n",
       "</div>"
      ],
      "text/plain": [
       "         Acc  Data Model  Rank  Split  Time\n",
       "0   0.023474  Data   LSE   0.0    0.0   0.0\n",
       "1   0.023474  Data    RM   1.0    0.0   0.0\n",
       "2   0.014085  Data   TER   1.0    0.0   0.0\n",
       "3   0.010526  Data   LSE   0.0    1.0   0.0\n",
       "4   0.010526  Data    RM   1.0    1.0   0.0\n",
       "5   0.021053  Data   TER   1.0    1.0   0.0\n",
       "6   0.012739  Data   LSE   0.0    2.0   0.0\n",
       "7   0.019108  Data    RM   1.0    2.0   0.0\n",
       "8   0.012739  Data   TER   1.0    2.0   0.0\n",
       "9   0.000000  Data   LSE   0.0    3.0   0.0\n",
       "10  0.000000  Data    RM   1.0    3.0   0.0\n",
       "11  0.013333  Data   TER   1.0    3.0   0.0\n",
       "12  0.013514  Data   LSE   0.0    4.0   0.0\n",
       "13  0.013514  Data    RM   1.0    4.0   0.0\n",
       "14  0.027027  Data   TER   1.0    4.0   0.0"
      ]
     },
     "execution_count": 16,
     "metadata": {},
     "output_type": "execute_result"
    }
   ],
   "source": [
    "df_acc"
   ]
  },
  {
   "cell_type": "code",
   "execution_count": null,
   "metadata": {},
   "outputs": [],
   "source": []
  },
  {
   "cell_type": "code",
   "execution_count": null,
   "metadata": {},
   "outputs": [],
   "source": []
  }
 ],
 "metadata": {
  "kernelspec": {
   "display_name": "Python 3",
   "language": "python",
   "name": "python3"
  },
  "language_info": {
   "codemirror_mode": {
    "name": "ipython",
    "version": 3
   },
   "file_extension": ".py",
   "mimetype": "text/x-python",
   "name": "python",
   "nbconvert_exporter": "python",
   "pygments_lexer": "ipython3",
   "version": "3.6.8"
  }
 },
 "nbformat": 4,
 "nbformat_minor": 2
}
