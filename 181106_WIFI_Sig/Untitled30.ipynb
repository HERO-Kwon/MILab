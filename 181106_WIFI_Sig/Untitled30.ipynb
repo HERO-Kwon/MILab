{
 "cells": [
  {
   "cell_type": "code",
   "execution_count": 1,
   "metadata": {},
   "outputs": [
    {
     "name": "stderr",
     "output_type": "stream",
     "text": [
      "C:\\Users\\herok\\Anaconda3\\lib\\site-packages\\h5py\\__init__.py:36: FutureWarning: Conversion of the second argument of issubdtype from `float` to `np.floating` is deprecated. In future, it will be treated as `np.float64 == np.dtype(float).type`.\n",
      "  from ._conv import register_converters as _register_converters\n"
     ]
    }
   ],
   "source": [
    "import os\n",
    "import tensorflow as tf\n",
    "import numpy as np\n",
    "import pandas as pd\n",
    "import pickle\n",
    "import gzip\n",
    "import matplotlib.pyplot as plt\n",
    "from sklearn.model_selection import train_test_split\n",
    "\n",
    "# data path\n",
    "path_csi =  'J:\\\\Data\\\\Wi-Fi_processed\\\\'\n",
    "path_csi_hc = 'J:\\\\Data\\\\Wi-Fi_HC\\\\180_100\\\\'\n",
    "path_save = 'C:\\\\tmp\\\\'\n",
    "\n",
    "# data info\n",
    "df_info = pd.read_csv('data_subc_sig_v1.csv')\n",
    "#df_info = df_info[df_info.id_person < 50]\n",
    "df_info = df_info[(df_info.id_direction==1) & (df_info.id_location==1)]\n",
    "\n",
    "person_uid = np.unique(df_info['id_person'])\n",
    "csi_uid = np.unique(df_info['id'])\n",
    "dict_id = dict(zip(person_uid,np.arange(len(person_uid))))\n",
    "\n",
    "# parameters\n",
    "max_value = np.max(df_info['max'].values)\n",
    "#no_classes = len(np.unique(df_info['id_person']))\n",
    "no_classes = len(dict_id)\n",
    "csi_time = 15000 #int(np.max(df_info['len']))\n",
    "csi_subc = 30\n",
    "input_shape = (csi_time, csi_subc, 6)"
   ]
  },
  {
   "cell_type": "code",
   "execution_count": 2,
   "metadata": {},
   "outputs": [],
   "source": [
    "list_abs = []\n",
    "list_lab = []"
   ]
  },
  {
   "cell_type": "code",
   "execution_count": 3,
   "metadata": {},
   "outputs": [],
   "source": [
    "    for i,file in enumerate(csi_uid):\n",
    "        with gzip.open(path_csi+file+'.pickle.gz','rb') as f:\n",
    "            data1 = pickle.load(f)\n",
    "            # zero pad\n",
    "            pad_len = csi_time - data1.shape[0]\n",
    "            data1_pad = np.pad(data1,((0,pad_len),(0,0),(0,0),(0,0)),'constant',constant_values=0)\n",
    "\n",
    "            # Label\n",
    "            data1_info = df_info[df_info.id==file].iloc[0]\n",
    "            data1_label = np.array([data1_info.id_person,\n",
    "                      data1_info.id_location,\n",
    "                      data1_info.id_direction,\n",
    "                      data1_info.id_exp])\n",
    "        label_val = data1_label.astype('float32')\n",
    "        csi_val = data1_pad\n",
    "        \n",
    "        list_abs.append(np.abs(csi_val))\n",
    "        list_lab.append(label_val)\n",
    "        "
   ]
  },
  {
   "cell_type": "code",
   "execution_count": 4,
   "metadata": {},
   "outputs": [],
   "source": [
    "arr_abs = np.array(list_abs)\n",
    "arr_lab = np.array(list_lab)"
   ]
  },
  {
   "cell_type": "code",
   "execution_count": 5,
   "metadata": {},
   "outputs": [],
   "source": [
    "np.save(path_save+'arr_abs.npy',arr_abs)\n",
    "np.save(path_save+'arr_lab.npy',arr_lab)"
   ]
  },
  {
   "cell_type": "code",
   "execution_count": null,
   "metadata": {},
   "outputs": [],
   "source": []
  }
 ],
 "metadata": {
  "kernelspec": {
   "display_name": "Python 3",
   "language": "python",
   "name": "python3"
  },
  "language_info": {
   "codemirror_mode": {
    "name": "ipython",
    "version": 3
   },
   "file_extension": ".py",
   "mimetype": "text/x-python",
   "name": "python",
   "nbconvert_exporter": "python",
   "pygments_lexer": "ipython3",
   "version": "3.6.5"
  }
 },
 "nbformat": 4,
 "nbformat_minor": 2
}
