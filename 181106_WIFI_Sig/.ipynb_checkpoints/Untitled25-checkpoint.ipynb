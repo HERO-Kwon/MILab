{
 "cells": [
  {
   "cell_type": "code",
   "execution_count": 1,
   "metadata": {},
   "outputs": [
    {
     "name": "stderr",
     "output_type": "stream",
     "text": [
      "C:\\Users\\herok\\Anaconda3\\lib\\site-packages\\h5py\\__init__.py:36: FutureWarning: Conversion of the second argument of issubdtype from `float` to `np.floating` is deprecated. In future, it will be treated as `np.float64 == np.dtype(float).type`.\n",
      "  from ._conv import register_converters as _register_converters\n"
     ]
    }
   ],
   "source": [
    "import os\n",
    "import tensorflow as tf\n",
    "import numpy as np\n",
    "import pandas as pd\n",
    "import pickle\n",
    "import gzip\n",
    "import matplotlib.pyplot as plt\n",
    "from sklearn.model_selection import train_test_split\n",
    "\n",
    "# data path\n",
    "path_csi =  'J:\\\\Data\\\\Wi-Fi_processed\\\\'\n",
    "path_csi_hc = 'J:\\\\Data\\\\Wi-Fi_HC\\\\180_100\\\\'\n",
    "\n",
    "# data info\n",
    "df_info = pd.read_csv('data_subc_sig_v1.csv')\n",
    "df_info = df_info[(df_info.id_location==1) & (df_info.id_direction==1)]\n",
    "#df_info = df_info[df_info.id_person < 50]\n",
    "\n",
    "person_uid = np.unique(df_info['id_person'])\n",
    "dict_id = dict(zip(person_uid,np.arange(len(person_uid))))\n",
    "\n",
    "# parameters\n",
    "max_value = np.max(df_info['max'].values)\n",
    "#no_classes = len(np.unique(df_info['id_person']))\n",
    "no_classes = len(dict_id)\n",
    "csi_time = 500 #int(np.max(df_info['len']))\n",
    "csi_subc = 30\n",
    "input_shape = (csi_time, csi_subc, 6)"
   ]
  },
  {
   "cell_type": "code",
   "execution_count": 2,
   "metadata": {},
   "outputs": [],
   "source": [
    "# make data generator\n",
    "def gen_csi(df_info,id_num,len_num):\n",
    "    for file in set(df_info.id.values):\n",
    "        # read sample data\n",
    "        # load and uncompress.\n",
    "        with gzip.open(path_csi+file+'.pickle.gz','rb') as f:\n",
    "            data1 = pickle.load(f)\n",
    "        abs_sub = np.mean(np.abs(data1),axis=(0,2,3))\n",
    "        data1_norm = data1/abs_sub[np.newaxis,:,np.newaxis,np.newaxis]\n",
    "\n",
    "        data1_abs = np.abs(data1_norm)\n",
    "        data1_ph = np.angle(data1_norm)\n",
    "        \n",
    "        data1_diff = np.abs(data1)[:500]\n",
    "        \n",
    "        # differentiation\n",
    "        #data1_diff = np.diff(data1_abs,axis=0)\n",
    "        \n",
    "        # zero pad\n",
    "        pad_len = len_num - data1_diff.shape[0]\n",
    "        data1_pad = np.pad(data1_diff,((0,pad_len),(0,0),(0,0),(0,0)),'constant',constant_values=0)\n",
    "\n",
    "        # Label\n",
    "        id_key = df_info[df_info.id==file]['id_person'].values[0].astype('int')\n",
    "        data1_y = dict_id[id_key]\n",
    "\n",
    "        x_input = data1_pad.reshape([-1,len_num,30,6]).astype('float32')\n",
    "        y_input = tf.keras.utils.to_categorical(data1_y, no_classes).reshape([1,-1])\n",
    "        \n",
    "        yield(x_input / max_value,y_input)"
   ]
  },
  {
   "cell_type": "code",
   "execution_count": 3,
   "metadata": {},
   "outputs": [],
   "source": [
    "#models\n",
    "def simple_cnn(input_shape):\n",
    "    model = tf.keras.models.Sequential()\n",
    "    model.add(tf.keras.layers.Conv2D(\n",
    "        filters=64,\n",
    "        kernel_size=(3, 3),\n",
    "        activation='relu',\n",
    "        input_shape=input_shape\n",
    "    ))\n",
    "    model.add(tf.keras.layers.Conv2D(\n",
    "        filters=128,\n",
    "        kernel_size=(3, 3),\n",
    "        activation='relu'\n",
    "    ))\n",
    "    model.add(tf.keras.layers.MaxPooling2D(pool_size=(2,2),strides=2))\n",
    "    model.add(tf.keras.layers.Dropout(rate=0.3))\n",
    "    model.add(tf.keras.layers.Flatten())\n",
    "    model.add(tf.keras.layers.Dense(units=256, activation='relu'))\n",
    "    model.add(tf.keras.layers.Dropout(rate=0.3))\n",
    "    model.add(tf.keras.layers.Dense(units=no_classes, activation='softmax'))\n",
    "    model.compile(loss=tf.keras.losses.categorical_crossentropy,\n",
    "                  optimizer=tf.keras.optimizers.Adam(),\n",
    "                  metrics=['accuracy'])\n",
    "    return model\n",
    "\n",
    "def simple_rnn(input_shape):\n",
    "    model = tf.keras.models.Sequential()\n",
    "    model.add(tf.keras.layers.LSTM(10))\n",
    "    model.add(tf.keras.layers.Dense(units=no_classes))\n",
    "    model.compile(loss=tf.keras.losses.mean_squared_error,\n",
    "                  optimizer=tf.keras.optimizers.Adam(),\n",
    "                  metrics=['accuracy'])\n",
    "    return model    \n",
    "    "
   ]
  },
  {
   "cell_type": "code",
   "execution_count": 4,
   "metadata": {},
   "outputs": [
    {
     "name": "stdout",
     "output_type": "stream",
     "text": [
      "Epoch 1/30\n",
      "10/10 [==============================] - 18s 2s/step - loss: 9.0339 - acc: 0.0000e+00 - val_loss: 4.4946 - val_acc: 0.1000\n",
      "Epoch 2/30\n",
      "10/10 [==============================] - 7s 703ms/step - loss: 4.7439 - acc: 0.0000e+00 - val_loss: 4.4185 - val_acc: 0.2000\n",
      "Epoch 3/30\n",
      "10/10 [==============================] - 7s 712ms/step - loss: 4.5266 - acc: 0.0000e+00 - val_loss: 4.4129 - val_acc: 0.0000e+00\n",
      "Epoch 4/30\n",
      "10/10 [==============================] - 7s 686ms/step - loss: 4.4201 - acc: 0.0000e+00 - val_loss: 4.4325 - val_acc: 0.1000\n",
      "Epoch 5/30\n",
      "10/10 [==============================] - 8s 794ms/step - loss: 4.4373 - acc: 0.0000e+00 - val_loss: 4.4422 - val_acc: 0.0000e+00\n",
      "Epoch 6/30\n",
      "10/10 [==============================] - 7s 702ms/step - loss: 4.4302 - acc: 0.1000 - val_loss: 4.4440 - val_acc: 0.1000\n",
      "Epoch 7/30\n",
      "10/10 [==============================] - 7s 705ms/step - loss: 4.4499 - acc: 0.0000e+00 - val_loss: 4.4425 - val_acc: 0.0000e+00\n",
      "Epoch 8/30\n",
      "10/10 [==============================] - 7s 703ms/step - loss: 4.4227 - acc: 0.1000 - val_loss: 4.4300 - val_acc: 0.0000e+00\n",
      "Epoch 9/30\n",
      "10/10 [==============================] - 7s 695ms/step - loss: 4.4464 - acc: 0.0000e+00 - val_loss: 4.4266 - val_acc: 0.0000e+00\n",
      "Epoch 10/30\n",
      "10/10 [==============================] - 7s 698ms/step - loss: 4.4403 - acc: 0.1000 - val_loss: 4.4354 - val_acc: 0.0000e+00\n",
      "Epoch 11/30\n",
      "10/10 [==============================] - 7s 694ms/step - loss: 4.4147 - acc: 0.0000e+00 - val_loss: 4.4302 - val_acc: 0.0000e+00\n",
      "Epoch 12/30\n",
      "10/10 [==============================] - 7s 709ms/step - loss: 4.4547 - acc: 0.0000e+00 - val_loss: 4.4349 - val_acc: 0.0000e+00\n",
      "Epoch 13/30\n",
      "10/10 [==============================] - 7s 723ms/step - loss: 4.4194 - acc: 0.0000e+00 - val_loss: 4.4280 - val_acc: 0.0000e+00\n",
      "Epoch 14/30\n",
      "10/10 [==============================] - 7s 686ms/step - loss: 4.4348 - acc: 0.0000e+00 - val_loss: 4.4287 - val_acc: 0.0000e+00\n",
      "Epoch 15/30\n",
      "10/10 [==============================] - 7s 664ms/step - loss: 4.4313 - acc: 0.0000e+00 - val_loss: 4.4253 - val_acc: 0.0000e+00\n",
      "Epoch 16/30\n",
      "10/10 [==============================] - 7s 742ms/step - loss: 4.4204 - acc: 0.0000e+00 - val_loss: 4.4301 - val_acc: 0.0000e+00\n",
      "Epoch 17/30\n",
      "10/10 [==============================] - 7s 702ms/step - loss: 4.4294 - acc: 0.0000e+00 - val_loss: 4.4485 - val_acc: 0.0000e+00\n",
      "Epoch 18/30\n",
      "10/10 [==============================] - 7s 673ms/step - loss: 4.4456 - acc: 0.0000e+00 - val_loss: 4.4430 - val_acc: 0.0000e+00\n",
      "Epoch 19/30\n",
      "10/10 [==============================] - 7s 728ms/step - loss: 4.4194 - acc: 0.0000e+00 - val_loss: 4.4725 - val_acc: 0.0000e+00\n",
      "Epoch 20/30\n",
      "10/10 [==============================] - 7s 748ms/step - loss: 4.4243 - acc: 0.0000e+00 - val_loss: 4.4354 - val_acc: 0.0000e+00\n",
      "Epoch 21/30\n",
      "10/10 [==============================] - 7s 708ms/step - loss: 4.4246 - acc: 0.0000e+00 - val_loss: 4.4021 - val_acc: 0.0000e+00\n",
      "Epoch 22/30\n",
      "10/10 [==============================] - 7s 691ms/step - loss: 4.4422 - acc: 0.0000e+00 - val_loss: 4.4164 - val_acc: 0.0000e+00\n",
      "Epoch 23/30\n",
      "10/10 [==============================] - 7s 700ms/step - loss: 4.4341 - acc: 0.0000e+00 - val_loss: 4.4715 - val_acc: 0.0000e+00\n",
      "Epoch 24/30\n",
      "10/10 [==============================] - 7s 731ms/step - loss: 4.4460 - acc: 0.1000 - val_loss: 4.4151 - val_acc: 0.0000e+00\n",
      "Epoch 25/30\n",
      "10/10 [==============================] - 7s 675ms/step - loss: 4.4638 - acc: 0.0000e+00 - val_loss: 4.4486 - val_acc: 0.0000e+00\n",
      "Epoch 26/30\n",
      " 9/10 [==========================>...] - ETA: 0s - loss: 4.4528 - acc: 0.0000e+00"
     ]
    },
    {
     "ename": "KeyboardInterrupt",
     "evalue": "",
     "output_type": "error",
     "traceback": [
      "\u001b[1;31m---------------------------------------------------------------------------\u001b[0m",
      "\u001b[1;31mKeyboardInterrupt\u001b[0m                         Traceback (most recent call last)",
      "\u001b[1;32m<ipython-input-4-6525046b4161>\u001b[0m in \u001b[0;36m<module>\u001b[1;34m()\u001b[0m\n\u001b[0;32m     10\u001b[0m \u001b[0msimple_cnn_model\u001b[0m \u001b[1;33m=\u001b[0m \u001b[0msimple_cnn\u001b[0m\u001b[1;33m(\u001b[0m\u001b[0minput_shape\u001b[0m\u001b[1;33m)\u001b[0m\u001b[1;33m\u001b[0m\u001b[0m\n\u001b[0;32m     11\u001b[0m simple_cnn_model.fit_generator(gen_train,steps_per_epoch=10,epochs=30,\n\u001b[1;32m---> 12\u001b[1;33m                               validation_data=gen_test,validation_steps=10)\n\u001b[0m\u001b[0;32m     13\u001b[0m \u001b[1;33m\u001b[0m\u001b[0m\n\u001b[0;32m     14\u001b[0m \u001b[1;33m\u001b[0m\u001b[0m\n",
      "\u001b[1;32m~\\Anaconda3\\lib\\site-packages\\tensorflow\\python\\keras\\engine\\training.py\u001b[0m in \u001b[0;36mfit_generator\u001b[1;34m(self, generator, steps_per_epoch, epochs, verbose, callbacks, validation_data, validation_steps, class_weight, max_queue_size, workers, use_multiprocessing, shuffle, initial_epoch)\u001b[0m\n\u001b[0;32m   2063\u001b[0m         \u001b[0muse_multiprocessing\u001b[0m\u001b[1;33m=\u001b[0m\u001b[0muse_multiprocessing\u001b[0m\u001b[1;33m,\u001b[0m\u001b[1;33m\u001b[0m\u001b[0m\n\u001b[0;32m   2064\u001b[0m         \u001b[0mshuffle\u001b[0m\u001b[1;33m=\u001b[0m\u001b[0mshuffle\u001b[0m\u001b[1;33m,\u001b[0m\u001b[1;33m\u001b[0m\u001b[0m\n\u001b[1;32m-> 2065\u001b[1;33m         initial_epoch=initial_epoch)\n\u001b[0m\u001b[0;32m   2066\u001b[0m \u001b[1;33m\u001b[0m\u001b[0m\n\u001b[0;32m   2067\u001b[0m   def evaluate_generator(self,\n",
      "\u001b[1;32m~\\Anaconda3\\lib\\site-packages\\tensorflow\\python\\keras\\engine\\training_generator.py\u001b[0m in \u001b[0;36mfit_generator\u001b[1;34m(model, generator, steps_per_epoch, epochs, verbose, callbacks, validation_data, validation_steps, class_weight, max_queue_size, workers, use_multiprocessing, shuffle, initial_epoch)\u001b[0m\n\u001b[0;32m    190\u001b[0m                 \u001b[0mworkers\u001b[0m\u001b[1;33m=\u001b[0m\u001b[0mworkers\u001b[0m\u001b[1;33m,\u001b[0m\u001b[1;33m\u001b[0m\u001b[0m\n\u001b[0;32m    191\u001b[0m                 \u001b[0muse_multiprocessing\u001b[0m\u001b[1;33m=\u001b[0m\u001b[0muse_multiprocessing\u001b[0m\u001b[1;33m,\u001b[0m\u001b[1;33m\u001b[0m\u001b[0m\n\u001b[1;32m--> 192\u001b[1;33m                 max_queue_size=max_queue_size)\n\u001b[0m\u001b[0;32m    193\u001b[0m           \u001b[1;32melse\u001b[0m\u001b[1;33m:\u001b[0m\u001b[1;33m\u001b[0m\u001b[0m\n\u001b[0;32m    194\u001b[0m             \u001b[1;31m# No need for try/except because\u001b[0m\u001b[1;33m\u001b[0m\u001b[1;33m\u001b[0m\u001b[0m\n",
      "\u001b[1;32m~\\Anaconda3\\lib\\site-packages\\tensorflow\\python\\keras\\engine\\training_generator.py\u001b[0m in \u001b[0;36mevaluate_generator\u001b[1;34m(model, generator, steps, max_queue_size, workers, use_multiprocessing, verbose)\u001b[0m\n\u001b[0;32m    286\u001b[0m \u001b[1;33m\u001b[0m\u001b[0m\n\u001b[0;32m    287\u001b[0m     \u001b[1;32mwhile\u001b[0m \u001b[0msteps_done\u001b[0m \u001b[1;33m<\u001b[0m \u001b[0msteps\u001b[0m\u001b[1;33m:\u001b[0m\u001b[1;33m\u001b[0m\u001b[0m\n\u001b[1;32m--> 288\u001b[1;33m       \u001b[0mgenerator_output\u001b[0m \u001b[1;33m=\u001b[0m \u001b[0mnext\u001b[0m\u001b[1;33m(\u001b[0m\u001b[0moutput_generator\u001b[0m\u001b[1;33m)\u001b[0m\u001b[1;33m\u001b[0m\u001b[0m\n\u001b[0m\u001b[0;32m    289\u001b[0m       \u001b[1;32mif\u001b[0m \u001b[1;32mnot\u001b[0m \u001b[0mhasattr\u001b[0m\u001b[1;33m(\u001b[0m\u001b[0mgenerator_output\u001b[0m\u001b[1;33m,\u001b[0m \u001b[1;34m'__len__'\u001b[0m\u001b[1;33m)\u001b[0m\u001b[1;33m:\u001b[0m\u001b[1;33m\u001b[0m\u001b[0m\n\u001b[0;32m    290\u001b[0m         raise ValueError('Output of generator should be a tuple '\n",
      "\u001b[1;32m~\\Anaconda3\\lib\\site-packages\\tensorflow\\python\\keras\\utils\\data_utils.py\u001b[0m in \u001b[0;36mget\u001b[1;34m(self)\u001b[0m\n\u001b[0;32m    816\u001b[0m           \u001b[1;32mraise\u001b[0m \u001b[0mStopIteration\u001b[0m\u001b[1;33m(\u001b[0m\u001b[1;33m)\u001b[0m\u001b[1;33m\u001b[0m\u001b[0m\n\u001b[0;32m    817\u001b[0m         \u001b[1;32melse\u001b[0m\u001b[1;33m:\u001b[0m\u001b[1;33m\u001b[0m\u001b[0m\n\u001b[1;32m--> 818\u001b[1;33m           \u001b[0mtime\u001b[0m\u001b[1;33m.\u001b[0m\u001b[0msleep\u001b[0m\u001b[1;33m(\u001b[0m\u001b[0mself\u001b[0m\u001b[1;33m.\u001b[0m\u001b[0mwait_time\u001b[0m\u001b[1;33m)\u001b[0m\u001b[1;33m\u001b[0m\u001b[0m\n\u001b[0m\u001b[0;32m    819\u001b[0m \u001b[1;33m\u001b[0m\u001b[0m\n\u001b[0;32m    820\u001b[0m     \u001b[1;31m# Make sure to rethrow the first exception in the queue, if any\u001b[0m\u001b[1;33m\u001b[0m\u001b[1;33m\u001b[0m\u001b[0m\n",
      "\u001b[1;31mKeyboardInterrupt\u001b[0m: "
     ]
    }
   ],
   "source": [
    "#Train Test Split\n",
    "tr_idx,te_idx = train_test_split(df_info.index,test_size=0.2,random_state=10)\n",
    "df_train = df_info.loc[tr_idx]\n",
    "df_test = df_info.loc[te_idx]\n",
    "\n",
    "gen_train = gen_csi(df_train,no_classes,csi_time)\n",
    "gen_test = gen_csi(df_test,no_classes,csi_time)\n",
    "\n",
    "#trining\n",
    "simple_cnn_model = simple_cnn(input_shape)\n",
    "simple_cnn_model.fit_generator(gen_train,steps_per_epoch=10,epochs=30,\n",
    "                              validation_data=gen_test,validation_steps=10)\n",
    "\n",
    "\n",
    "# Plot\n",
    "def plot_loss(history):\n",
    "    plt.plot(history.history['loss'])\n",
    "    plt.plot(history.history['val_loss'])\n",
    "    plt.title('Model Loss')\n",
    "    plt.ylabel('Loss')\n",
    "    plt.xlabel('Epoch')\n",
    "    plt.legend(['Train','Test'],loc=0)\n",
    "def plot_acc(history):\n",
    "    plt.plot(history.history['acc'])\n",
    "    plt.plot(history.history['val_acc'])\n",
    "    plt.title('Model Acc')\n",
    "    plt.ylabel('Acc')\n",
    "    plt.xlabel('Epoch')\n",
    "    plt.legend(['Train','Test'],loc=0)\n",
    "\n",
    "plot_loss(simple_cnn_model.history)\n",
    "plot_acc(simple_cnn_model.history)\n"
   ]
  },
  {
   "cell_type": "code",
   "execution_count": 5,
   "metadata": {},
   "outputs": [
    {
     "data": {
      "text/plain": [
       "(500, 30, 6)"
      ]
     },
     "execution_count": 5,
     "metadata": {},
     "output_type": "execute_result"
    }
   ],
   "source": [
    "input_shape"
   ]
  },
  {
   "cell_type": "code",
   "execution_count": 6,
   "metadata": {},
   "outputs": [
    {
     "name": "stdout",
     "output_type": "stream",
     "text": [
      "Train data loss: 4.414233207702637\n",
      "Train data accuracy: 0.0\n"
     ]
    }
   ],
   "source": [
    "# get accuracy on single data\n",
    "ex_train = next(gen_train)\n",
    "train_loss, train_accuracy = simple_cnn_model.evaluate(\n",
    "    ex_train[0], ex_train[1], verbose=0)\n",
    "print('Train data loss:', train_loss)\n",
    "print('Train data accuracy:', train_accuracy)"
   ]
  },
  {
   "cell_type": "code",
   "execution_count": 11,
   "metadata": {},
   "outputs": [
    {
     "data": {
      "text/plain": [
       "0.87757146"
      ]
     },
     "execution_count": 11,
     "metadata": {},
     "output_type": "execute_result"
    }
   ],
   "source": [
    "np.max(ex_train[0])"
   ]
  },
  {
   "cell_type": "code",
   "execution_count": 12,
   "metadata": {},
   "outputs": [
    {
     "data": {
      "text/plain": [
       "array([[0., 0., 0., 0., 0., 0., 0., 0., 0., 0., 0., 0., 0., 0., 0., 0.,\n",
       "        0., 0., 0., 0., 0., 0., 0., 0., 0., 0., 0., 0., 0., 0., 0., 0.,\n",
       "        0., 0., 0., 0., 0., 0., 0., 0., 0., 0., 0., 0., 0., 0., 0., 0.,\n",
       "        0., 0., 1., 0., 0., 0., 0., 0., 0., 0., 0., 0., 0., 0., 0., 0.,\n",
       "        0., 0., 0., 0., 0., 0., 0., 0., 0., 0., 0., 0., 0., 0., 0., 0.,\n",
       "        0., 0., 0., 0.]], dtype=float32)"
      ]
     },
     "execution_count": 12,
     "metadata": {},
     "output_type": "execute_result"
    }
   ],
   "source": [
    "ex_train[1]"
   ]
  },
  {
   "cell_type": "code",
   "execution_count": null,
   "metadata": {},
   "outputs": [],
   "source": []
  }
 ],
 "metadata": {
  "kernelspec": {
   "display_name": "Python 3",
   "language": "python",
   "name": "python3"
  },
  "language_info": {
   "codemirror_mode": {
    "name": "ipython",
    "version": 3
   },
   "file_extension": ".py",
   "mimetype": "text/x-python",
   "name": "python",
   "nbconvert_exporter": "python",
   "pygments_lexer": "ipython3",
   "version": "3.6.5"
  }
 },
 "nbformat": 4,
 "nbformat_minor": 2
}
