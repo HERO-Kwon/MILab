{
 "cells": [
  {
   "cell_type": "code",
   "execution_count": 1,
   "metadata": {},
   "outputs": [],
   "source": [
    "# MIT image\n",
    "# Made by : HERO Kwon\n",
    "# Date : 190108\n",
    "\n",
    "import os\n",
    "import numpy as np\n",
    "import pandas as pd\n",
    "import pickle\n",
    "import gzip\n",
    "import matplotlib.pyplot as plt\n",
    "import math\n",
    "import cmath\n",
    "\n",
    "# data path\n",
    "#path_meta = '/home/herokwon/mount_data/Data/Wi-Fi_meta/'\n",
    "#path_csi = '/home/herokwon/mount_data/Data/Wi-Fi_processed/'\n",
    "#path_csi_np = '/home/herokwon/mount_data/Data/Wi-Fi_processed_npy/'\n",
    "\n",
    "# data path_mi\n",
    "path_csi = 'J:\\\\Data\\\\Wi-Fi_processed\\\\'\n",
    "path_csi_np = 'J:\\\\Data\\\\Wi-Fi_processed_npy\\\\'\n",
    "path_meta = 'J:\\\\Data\\\\Wi-Fi_meta\\\\'\n",
    "path_sc = 'J:\\\\Data\\\\Wi-Fi_info\\\\'\n"
   ]
  },
  {
   "cell_type": "code",
   "execution_count": 2,
   "metadata": {},
   "outputs": [],
   "source": [
    "# data info\n",
    "df_info = pd.read_csv(path_meta+'data_subc_sig_v1.csv')\n",
    "person_uid = np.unique(df_info['id_person'])\n",
    "dict_id = dict(zip(person_uid,np.arange(len(person_uid))))\n",
    "csi_time = 15000 #int(np.max(df_info['len']))\n",
    "# parameters\n",
    "max_value = np.max(df_info['max'].values)\n",
    "#no_classes = len(np.unique(df_info['id_person']))\n",
    "no_classes = len(dict_id)\n",
    "csi_subc = 30\n",
    "input_shape = (csi_time, csi_subc, 6)\n",
    "\n",
    "# freq BW list\n",
    "bw_list = pd.read_csv(path_meta+'wifi_f_bw_list.csv')\n",
    "\n",
    "# avg Array\n",
    "with open(path_meta + 'dict_avgcsi.pickle','rb') as f:\n",
    "    dict_avg = pickle.load(f)\n"
   ]
  },
  {
   "cell_type": "code",
   "execution_count": 3,
   "metadata": {},
   "outputs": [],
   "source": [
    "\n",
    "# make data generator\n",
    "def gen_csi(df_info,dict_avg,id_num,len_num):\n",
    "    for file in np.unique(df_info.id.values):\n",
    "        \n",
    "        # Label\n",
    "        id_key = df_info[df_info.id==file]['id_person'].values[0].astype('int')\n",
    "        data1_y = dict_id[id_key]\n",
    "        \n",
    "        # read sample data\n",
    "        # load and uncompress.\n",
    "        with gzip.open(path_csi+file+'.pickle.gz','rb') as f:\n",
    "            data1 = pickle.load(f)\n",
    "            \n",
    "        # subtract avg\n",
    "        read_avg = dict_avg[id_key][0]\n",
    "        nonzero_avg = read_avg[np.nonzero(read_avg)].reshape([-1,30,2,3])\n",
    "        arr_avg = np.mean(nonzero_avg,axis=0)\n",
    "        data1_diff = data1 - arr_avg #np.diff(data1,axis=0)\n",
    "        # zero pad\n",
    "        pad_len = len_num - data1_diff.shape[0]\n",
    "        data1_pad = np.pad(data1_diff,((0,pad_len),(0,0),(0,0),(0,0)),'constant',constant_values=0)\n",
    "\n",
    "        # subcarrier info\n",
    "        data1_sc_df = pd.read_csv(path_sc + file + '_df_sc.csv')\n",
    "        data1_time = np.diff(data1_sc_df['timestamp_low'])\n",
    "        data1_time_pad = np.pad(data1_time,((1,pad_len)),'constant',constant_values=0)\n",
    "        \n",
    "        \n",
    "        yield(data1_pad ,data1_y,id_key,data1_time_pad)\n",
    "\n",
    "\n",
    "gen = gen_csi(df_info,dict_avg,no_classes,csi_time)\n",
    "target_sig,target_lab,target_id,target_dt = next(gen)\n"
   ]
  },
  {
   "cell_type": "code",
   "execution_count": 4,
   "metadata": {},
   "outputs": [],
   "source": [
    "# 3D scan\n",
    "m,n = 2,3\n",
    "c =  299792458 # speed of light \n",
    "#r = (160 + 160 + 164) * 0.01 # meter\n",
    "r = 1.64 #meter\n",
    "d = 45 * 0.01 # meter\n",
    "ch = 8#3\n",
    "max_subc = 3\n",
    "\n",
    "th_range,si_range = (30,30)\n",
    "sig_mat = np.zeros([max_subc,csi_time,2*th_range,2*si_range])\n"
   ]
  },
  {
   "cell_type": "code",
   "execution_count": null,
   "metadata": {},
   "outputs": [],
   "source": [
    "# 3D Reconstruction func\n",
    "from numba import vectorize\n",
    "@vectorize(['complex64(complex64,float32,float32,int32,int32,\\\n",
    "float32,float32,float32,float32,int64,int32)'], target='cuda')\n",
    "def Recon3d(sig,theta,sigma,m,n,lam,d,k,r,dt,c):\n",
    "    #above_eq1 = 1j * (2*math.pi) * k * r * t / c\n",
    "    above_eq1 = 1j * (2*math.pi) * c * dt / lam\n",
    "    above_eq2 = 1j * (2*math.pi/lam) * math.sin(theta) * ((n+1)*d*math.cos(sigma) + (m+1)*d*math.sin(sigma))\n",
    "    eq_res = sig* cmath.exp(above_eq1) * cmath.exp(above_eq2)\n",
    "    return eq_res #math.atan2(eq_res.imag,eq_res.real)\n"
   ]
  },
  {
   "cell_type": "code",
   "execution_count": null,
   "metadata": {},
   "outputs": [],
   "source": [
    "from numba import jit\n",
    "@jit\n",
    "def Calc3d(target_sig,max_subc,th_range,si_range,bw_list,ch,target_dt,\\\n",
    "          d,r,c):\n",
    "    # Calc 3D\n",
    "    for subc in range(max_subc):\n",
    "        sig1 = target_sig[:,subc,:,:]\n",
    "        for idx_th,i in enumerate(range(-th_range,th_range)):\n",
    "            for idx_si,j in enumerate(range(-si_range,si_range)):\n",
    "                lam =  c*0.000001 / bw_list[str(subc)][ch] #wavelength = 300 / frequency in MHz\n",
    "                #t = np.arange(1,csi_time+1,1,dtype=np.int32)\n",
    "                dt = target_dt\n",
    "                k = 0.0\n",
    "                theta = i * (np.radians(90)/2) / th_range\n",
    "                sigma = j * (np.radians(90)/2) / si_range\n",
    "                sum_eq = np.zeros(csi_time,dtype=np.complex_)\n",
    "                for m in [0,1]: \n",
    "                    for n in [0,1,2]: \n",
    "                        #above_eq1 = Calc_Above1(k,r,t,c)\n",
    "                        sig1 = np.ascontiguousarray(target_sig[:,subc,m,n], dtype=np.complex64)\n",
    "                        sum_eq += Recon3d(sig1,theta,sigma,m,n,lam,d,k,r,dt,c)\n",
    "                sig_mat[subc,:,idx_th,idx_si] =  np.abs(sum_eq)\n",
    "    return(sig_mat)\n"
   ]
  },
  {
   "cell_type": "code",
   "execution_count": null,
   "metadata": {},
   "outputs": [
    {
     "name": "stderr",
     "output_type": "stream",
     "text": [
      "C:\\Users\\herok\\Anaconda3\\envs\\mit_image\\lib\\site-packages\\numba\\cuda\\compiler.py:233: UserWarning: Could not autotune, using default tpb of 128\n",
      "  warnings.warn('Could not autotune, using default tpb of 128')\n"
     ]
    }
   ],
   "source": [
    "import time\n",
    "t1 = time.time()\n",
    "sig_mat = Calc3d(target_sig,max_subc,th_range,si_range,bw_list,ch,target_dt,\\\n",
    "          d,r,c)\n",
    "print(time.time()-t1)"
   ]
  },
  {
   "cell_type": "code",
   "execution_count": null,
   "metadata": {},
   "outputs": [],
   "source": []
  }
 ],
 "metadata": {
  "kernelspec": {
   "display_name": "mit_image",
   "language": "python",
   "name": "mit_image"
  },
  "language_info": {
   "codemirror_mode": {
    "name": "ipython",
    "version": 3
   },
   "file_extension": ".py",
   "mimetype": "text/x-python",
   "name": "python",
   "nbconvert_exporter": "python",
   "pygments_lexer": "ipython3",
   "version": "3.6.8"
  }
 },
 "nbformat": 4,
 "nbformat_minor": 2
}
