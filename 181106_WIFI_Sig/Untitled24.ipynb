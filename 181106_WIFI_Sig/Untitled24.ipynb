{
 "cells": [
  {
   "cell_type": "code",
   "execution_count": 1,
   "metadata": {},
   "outputs": [
    {
     "name": "stderr",
     "output_type": "stream",
     "text": [
      "C:\\Users\\herok\\Anaconda3\\lib\\site-packages\\h5py\\__init__.py:36: FutureWarning: Conversion of the second argument of issubdtype from `float` to `np.floating` is deprecated. In future, it will be treated as `np.float64 == np.dtype(float).type`.\n",
      "  from ._conv import register_converters as _register_converters\n"
     ]
    }
   ],
   "source": [
    "import os\n",
    "import tensorflow as tf\n",
    "import numpy as np\n",
    "import pandas as pd\n",
    "import pickle\n",
    "import gzip\n",
    "import matplotlib.pyplot as plt\n",
    "from sklearn.model_selection import train_test_split\n",
    "\n",
    "# data path\n",
    "path_csi =  'J:\\\\Data\\\\Wi-Fi_processed\\\\'\n",
    "path_csi_hc = 'J:\\\\Data\\\\Wi-Fi_HC\\\\180_100\\\\'\n",
    "\n",
    "# data info\n",
    "df_info = pd.read_csv('data_subc_sig_v1.csv')\n",
    "#df_info = df_info[df_info.id_person < 50]\n",
    "\n",
    "person_uid = np.unique(df_info['id_person'])\n",
    "dict_id = dict(zip(person_uid,np.arange(len(person_uid))))\n",
    "\n",
    "# parameters\n",
    "max_value = np.max(df_info['max'].values)\n",
    "#no_classes = len(np.unique(df_info['id_person']))\n",
    "no_classes = len(dict_id)\n",
    "csi_time = int(np.max(df_info['len']))\n",
    "csi_subc = 30\n",
    "input_shape = (csi_time, csi_subc, 6)\n",
    "\n",
    "# make data generator\n",
    "def gen_csi(df_info,id_num,len_num):\n",
    "    for file in set(df_info.id.values):\n",
    "        # read sample data\n",
    "        # load and uncompress.\n",
    "        with gzip.open(path_csi+file+'.pickle.gz','rb') as f:\n",
    "            data1 = pickle.load(f)\n",
    "        abs_sub = np.mean(np.abs(data1),axis=(0,2,3))\n",
    "        data1_norm = data1/abs_sub[np.newaxis,:,np.newaxis,np.newaxis]\n",
    "\n",
    "        data1_abs = np.abs(data1_norm)\n",
    "        data1_ph = np.angle(data1_norm)\n",
    "        \n",
    "        data1_diff = np.abs(data1)\n",
    "        \n",
    "        # differentiation\n",
    "        #data1_diff = np.diff(data1_abs,axis=0)\n",
    "        \n",
    "        # zero pad\n",
    "        pad_len = len_num - data1_diff.shape[0]\n",
    "        data1_pad = np.pad(data1_diff,((0,pad_len),(0,0),(0,0),(0,0)),'constant',constant_values=0)\n",
    "\n",
    "        # Label\n",
    "        id_key = df_info[df_info.id==file]['id_person'].values[0].astype('int')\n",
    "        data1_y = dict_id[id_key]\n",
    "\n",
    "        x_input = data1_pad.reshape([-1,len_num,30,6]).astype('float32')\n",
    "        y_input = tf.keras.utils.to_categorical(data1_y, no_classes).reshape([1,-1])\n",
    "        \n",
    "        yield(x_input / max_value,y_input)"
   ]
  },
  {
   "cell_type": "code",
   "execution_count": 2,
   "metadata": {},
   "outputs": [],
   "source": [
    "gen = gen_csi(df_info,no_classes,csi_time)"
   ]
  },
  {
   "cell_type": "code",
   "execution_count": 3,
   "metadata": {},
   "outputs": [],
   "source": [
    "a,b = next(gen)"
   ]
  },
  {
   "cell_type": "code",
   "execution_count": 36,
   "metadata": {},
   "outputs": [
    {
     "data": {
      "text/plain": [
       "(2692800,)"
      ]
     },
     "execution_count": 36,
     "metadata": {},
     "output_type": "execute_result"
    }
   ],
   "source": [
    "aa = a.flatten()\n",
    "aa.shape"
   ]
  },
  {
   "cell_type": "code",
   "execution_count": 9,
   "metadata": {},
   "outputs": [
    {
     "data": {
      "text/plain": [
       "array([48], dtype=int64)"
      ]
     },
     "execution_count": 9,
     "metadata": {},
     "output_type": "execute_result"
    }
   ],
   "source": [
    "np.argmax(b,1)"
   ]
  },
  {
   "cell_type": "code",
   "execution_count": 48,
   "metadata": {},
   "outputs": [],
   "source": [
    "list_lab = []\n",
    "list_data = []\n",
    "for i in range(10):\n",
    "    data,label = next(gen)\n",
    "    data_f = data.squeeze()[:,:,0].flatten()\n",
    "    label_val = np.argmax(label,1)\n",
    "    list_lab.append(label_val)\n",
    "    list_data.append(data_f)"
   ]
  },
  {
   "cell_type": "code",
   "execution_count": 50,
   "metadata": {},
   "outputs": [],
   "source": [
    "df1_1 = df_info[(df_info.id_location==1) & (df_info.id_direction==1)]"
   ]
  },
  {
   "cell_type": "code",
   "execution_count": 53,
   "metadata": {},
   "outputs": [
    {
     "data": {
      "text/html": [
       "<div>\n",
       "<style scoped>\n",
       "    .dataframe tbody tr th:only-of-type {\n",
       "        vertical-align: middle;\n",
       "    }\n",
       "\n",
       "    .dataframe tbody tr th {\n",
       "        vertical-align: top;\n",
       "    }\n",
       "\n",
       "    .dataframe thead th {\n",
       "        text-align: right;\n",
       "    }\n",
       "</style>\n",
       "<table border=\"1\" class=\"dataframe\">\n",
       "  <thead>\n",
       "    <tr style=\"text-align: right;\">\n",
       "      <th></th>\n",
       "      <th>id</th>\n",
       "      <th>len</th>\n",
       "      <th>mean</th>\n",
       "      <th>std</th>\n",
       "      <th>id_person</th>\n",
       "      <th>id_location</th>\n",
       "      <th>id_direction</th>\n",
       "      <th>id_exp</th>\n",
       "      <th>id_paper</th>\n",
       "      <th>file</th>\n",
       "      <th>name</th>\n",
       "      <th>id_sign</th>\n",
       "      <th>median</th>\n",
       "      <th>max</th>\n",
       "    </tr>\n",
       "  </thead>\n",
       "  <tbody>\n",
       "    <tr>\n",
       "      <th>256</th>\n",
       "      <td>S018_1_1_1</td>\n",
       "      <td>12451.0</td>\n",
       "      <td>18.545205</td>\n",
       "      <td>6.961028</td>\n",
       "      <td>18</td>\n",
       "      <td>1</td>\n",
       "      <td>1</td>\n",
       "      <td>1</td>\n",
       "      <td>IMG_0720</td>\n",
       "      <td>IMG_0720_2.png</td>\n",
       "      <td>정지원</td>\n",
       "      <td>18</td>\n",
       "      <td>17.218271</td>\n",
       "      <td>48.379566</td>\n",
       "    </tr>\n",
       "    <tr>\n",
       "      <th>257</th>\n",
       "      <td>S018_1_1_1</td>\n",
       "      <td>12451.0</td>\n",
       "      <td>18.545205</td>\n",
       "      <td>6.961028</td>\n",
       "      <td>18</td>\n",
       "      <td>1</td>\n",
       "      <td>1</td>\n",
       "      <td>1</td>\n",
       "      <td>IMG_0720</td>\n",
       "      <td>IMG_0720_3.png</td>\n",
       "      <td>정지원</td>\n",
       "      <td>18</td>\n",
       "      <td>17.218271</td>\n",
       "      <td>48.379566</td>\n",
       "    </tr>\n",
       "    <tr>\n",
       "      <th>258</th>\n",
       "      <td>S018_1_1_1</td>\n",
       "      <td>12451.0</td>\n",
       "      <td>18.545205</td>\n",
       "      <td>6.961028</td>\n",
       "      <td>18</td>\n",
       "      <td>1</td>\n",
       "      <td>1</td>\n",
       "      <td>1</td>\n",
       "      <td>IMG_0720</td>\n",
       "      <td>IMG_0720_4.png</td>\n",
       "      <td>정지원</td>\n",
       "      <td>18</td>\n",
       "      <td>17.218271</td>\n",
       "      <td>48.379566</td>\n",
       "    </tr>\n",
       "    <tr>\n",
       "      <th>259</th>\n",
       "      <td>S018_1_1_1</td>\n",
       "      <td>12451.0</td>\n",
       "      <td>18.545205</td>\n",
       "      <td>6.961028</td>\n",
       "      <td>18</td>\n",
       "      <td>1</td>\n",
       "      <td>1</td>\n",
       "      <td>1</td>\n",
       "      <td>IMG_0720</td>\n",
       "      <td>IMG_0720_6.png</td>\n",
       "      <td>정지원</td>\n",
       "      <td>18</td>\n",
       "      <td>17.218271</td>\n",
       "      <td>48.379566</td>\n",
       "    </tr>\n",
       "    <tr>\n",
       "      <th>260</th>\n",
       "      <td>S018_1_1_1</td>\n",
       "      <td>12451.0</td>\n",
       "      <td>18.545205</td>\n",
       "      <td>6.961028</td>\n",
       "      <td>18</td>\n",
       "      <td>1</td>\n",
       "      <td>1</td>\n",
       "      <td>1</td>\n",
       "      <td>IMG_0720</td>\n",
       "      <td>IMG_0720_7.png</td>\n",
       "      <td>정지원</td>\n",
       "      <td>18</td>\n",
       "      <td>17.218271</td>\n",
       "      <td>48.379566</td>\n",
       "    </tr>\n",
       "  </tbody>\n",
       "</table>\n",
       "</div>"
      ],
      "text/plain": [
       "             id      len       mean       std  id_person  id_location  \\\n",
       "256  S018_1_1_1  12451.0  18.545205  6.961028         18            1   \n",
       "257  S018_1_1_1  12451.0  18.545205  6.961028         18            1   \n",
       "258  S018_1_1_1  12451.0  18.545205  6.961028         18            1   \n",
       "259  S018_1_1_1  12451.0  18.545205  6.961028         18            1   \n",
       "260  S018_1_1_1  12451.0  18.545205  6.961028         18            1   \n",
       "\n",
       "     id_direction  id_exp  id_paper            file name  id_sign     median  \\\n",
       "256             1       1  IMG_0720  IMG_0720_2.png  정지원       18  17.218271   \n",
       "257             1       1  IMG_0720  IMG_0720_3.png  정지원       18  17.218271   \n",
       "258             1       1  IMG_0720  IMG_0720_4.png  정지원       18  17.218271   \n",
       "259             1       1  IMG_0720  IMG_0720_6.png  정지원       18  17.218271   \n",
       "260             1       1  IMG_0720  IMG_0720_7.png  정지원       18  17.218271   \n",
       "\n",
       "           max  \n",
       "256  48.379566  \n",
       "257  48.379566  \n",
       "258  48.379566  \n",
       "259  48.379566  \n",
       "260  48.379566  "
      ]
     },
     "execution_count": 53,
     "metadata": {},
     "output_type": "execute_result"
    }
   ],
   "source": [
    "df1_1.head()"
   ]
  },
  {
   "cell_type": "code",
   "execution_count": 59,
   "metadata": {},
   "outputs": [],
   "source": [
    "# Make position dataframe\n",
    "df1_1 = df_info[(df_info.id_location==1) & (df_info.id_direction==1)]\n",
    "uid = np.unique(df1_1.id.values)"
   ]
  },
  {
   "cell_type": "code",
   "execution_count": 56,
   "metadata": {},
   "outputs": [],
   "source": [
    "# Make Generator\n",
    "gen = gen_csi(df1_1,no_classes,csi_time)"
   ]
  },
  {
   "cell_type": "code",
   "execution_count": 60,
   "metadata": {},
   "outputs": [],
   "source": [
    "# gather antenna 0 data\n",
    "list_lab = []\n",
    "list_data = []\n",
    "for i in range(len(uid)):\n",
    "    data,label = next(gen)\n",
    "    data_f = data.squeeze()[:,:,0].flatten()\n",
    "    label_val = np.argmax(label,1)\n",
    "    list_lab.append(label_val)\n",
    "    list_data.append(data_f)\n",
    "arr_lab = np.array(list_lab)\n",
    "arr_data = np.array(list_data)"
   ]
  },
  {
   "cell_type": "code",
   "execution_count": 85,
   "metadata": {},
   "outputs": [],
   "source": [
    "arr_data10 = arr_data[(arr_lab < 10).squeeze()]\n",
    "arr_lab10 = arr_lab[(arr_lab<10).squeeze()]"
   ]
  },
  {
   "cell_type": "code",
   "execution_count": 86,
   "metadata": {},
   "outputs": [
    {
     "data": {
      "text/plain": [
       "PCA(copy=True, iterated_power='auto', n_components=2, random_state=None,\n",
       "  svd_solver='auto', tol=0.0, whiten=True)"
      ]
     },
     "execution_count": 86,
     "metadata": {},
     "output_type": "execute_result"
    }
   ],
   "source": [
    "#PCA\n",
    "from sklearn.decomposition import PCA\n",
    "pca = PCA(n_components=2,whiten=True)\n",
    "pca.fit(arr_data10)"
   ]
  },
  {
   "cell_type": "code",
   "execution_count": 88,
   "metadata": {},
   "outputs": [],
   "source": [
    "#plotting PCA\n",
    "from matplotlib.pyplot import cm\n",
    "X_pca = pca.transform(arr_data10)"
   ]
  },
  {
   "cell_type": "code",
   "execution_count": 97,
   "metadata": {},
   "outputs": [],
   "source": [
    "supercat = np.unique(arr_lab10)\n",
    "target_ids = range(len(supercat))\n",
    "color=cm.tab10(target_ids)"
   ]
  },
  {
   "cell_type": "code",
   "execution_count": 98,
   "metadata": {},
   "outputs": [
    {
     "data": {
      "image/png": "[encoded data removed]",
      "text/plain": [
       "<Figure size 432x288 with 1 Axes>"
      ]
     },
     "metadata": {},
     "output_type": "display_data"
    }
   ],
   "source": [
    "#color=cm.tab20(np.linspace(0,1,13))\n",
    "from matplotlib import pyplot as plt\n",
    "plt.figure()\n",
    "for i, c, label in zip(target_ids, color, supercat):\n",
    "    true_lab = (arr_lab10==label).squeeze()\n",
    "    plt.scatter(X_pca[true_lab, 0], X_pca[true_lab, 1],c=c, label=label)\n",
    "plt.legend()\n",
    "plt.show()"
   ]
  },
  {
   "cell_type": "code",
   "execution_count": 94,
   "metadata": {},
   "outputs": [
    {
     "data": {
      "text/plain": [
       "array([1, 2, 3, 4, 5, 6, 7, 8, 9], dtype=int64)"
      ]
     },
     "execution_count": 94,
     "metadata": {},
     "output_type": "execute_result"
    }
   ],
   "source": [
    "np.unique(arr_lab10)"
   ]
  },
  {
   "cell_type": "code",
   "execution_count": 99,
   "metadata": {},
   "outputs": [
    {
     "data": {
      "text/plain": [
       "(99, 2)"
      ]
     },
     "execution_count": 99,
     "metadata": {},
     "output_type": "execute_result"
    }
   ],
   "source": [
    "X_pca"
   ]
  },
  {
   "cell_type": "code",
   "execution_count": null,
   "metadata": {},
   "outputs": [],
   "source": []
  }
 ],
 "metadata": {
  "kernelspec": {
   "display_name": "Python 3",
   "language": "python",
   "name": "python3"
  },
  "language_info": {
   "codemirror_mode": {
    "name": "ipython",
    "version": 3
   },
   "file_extension": ".py",
   "mimetype": "text/x-python",
   "name": "python",
   "nbconvert_exporter": "python",
   "pygments_lexer": "ipython3",
   "version": "3.6.5"
  }
 },
 "nbformat": 4,
 "nbformat_minor": 2
}
