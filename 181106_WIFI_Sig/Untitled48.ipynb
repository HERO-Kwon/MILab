{
 "cells": [
  {
   "cell_type": "code",
   "execution_count": 57,
   "metadata": {},
   "outputs": [],
   "source": [
    "# MIT image\n",
    "# Made by : HERO Kwon\n",
    "# Date : 190108\n",
    "\n",
    "import os\n",
    "import numpy as np\n",
    "import pandas as pd\n",
    "import pickle\n",
    "import gzip\n",
    "import matplotlib.pyplot as plt\n",
    "import math\n",
    "import cmath\n",
    "\n",
    "# data path\n",
    "#path_meta = '/home/herokwon/mount_data/Data/Wi-Fi_meta/'\n",
    "#path_csi = '/home/herokwon/mount_data/Data/Wi-Fi_processed/'\n",
    "#path_csi_np = '/home/herokwon/mount_data/Data/Wi-Fi_processed_npy/'\n",
    "\n",
    "# data path_mi\n",
    "path_csi = 'D:\\\\Data\\\\Wi-Fi_processed\\\\'\n",
    "path_csi_np = 'D:\\\\Data\\\\Wi-Fi_processed_npy\\\\'\n",
    "path_meta = 'D:\\\\Data\\\\Wi-Fi_meta\\\\'\n",
    "path_sc = 'D:\\\\Data\\\\Wi-Fi_info\\\\'\n",
    "path_save = 'D:\\\\Data\\\\Wi-Fi_mit_image\\\\'\n",
    "\n",
    "# data info\n",
    "df_info = pd.read_csv(path_meta+'data_subc_sig_v1.csv')\n",
    "person_uid = np.unique(df_info['id_person'])\n",
    "dict_id = dict(zip(person_uid,np.arange(len(person_uid))))\n",
    "csi_time = 15000 #int(np.max(df_info['len']))\n",
    "# parameters\n",
    "max_value = np.max(df_info['max'].values)\n",
    "#no_classes = len(np.unique(df_info['id_person']))\n",
    "no_classes = len(dict_id)\n",
    "csi_subc = 30\n",
    "input_shape = (csi_time, csi_subc, 6)\n",
    "\n",
    "# freq BW list\n",
    "bw_list = pd.read_csv(path_meta+'wifi_f_bw_list.csv')\n",
    "\n",
    "# avg Array\n",
    "with open(path_meta + 'dict_avgcsi.pickle','rb') as f:\n",
    "    dict_avg = pickle.load(f)\n"
   ]
  },
  {
   "cell_type": "code",
   "execution_count": 59,
   "metadata": {},
   "outputs": [
    {
     "data": {
      "text/plain": [
       "'S017_1_2_11'"
      ]
     },
     "execution_count": 59,
     "metadata": {},
     "output_type": "execute_result"
    }
   ],
   "source": [
    "file = df_info.id.values[0]\n",
    "file"
   ]
  },
  {
   "cell_type": "code",
   "execution_count": 60,
   "metadata": {},
   "outputs": [],
   "source": [
    "        with gzip.open(path_csi+file+'.pickle.gz','rb') as f:\n",
    "            data1 = pickle.load(f)"
   ]
  },
  {
   "cell_type": "code",
   "execution_count": 78,
   "metadata": {},
   "outputs": [
    {
     "data": {
      "text/plain": [
       "(500, 30, 2, 3)"
      ]
     },
     "execution_count": 78,
     "metadata": {},
     "output_type": "execute_result"
    }
   ],
   "source": [
    "s1 = data1.shape[0]\n",
    "a = np.arange(500)\n",
    "idx = (a * s1/500).astype('int')\n",
    "data11 = data1[idx]\n",
    "data11.shape"
   ]
  },
  {
   "cell_type": "code",
   "execution_count": 5,
   "metadata": {},
   "outputs": [],
   "source": [
    "# make data generator\n",
    "def gen_csi(df_info,dict_avg,id_num,len_num):\n",
    "    for file in np.unique(df_info.id.values):\n",
    "        \n",
    "        # Label\n",
    "        id_key = df_info[df_info.id==file]['id_person'].values[0].astype('int')\n",
    "        data1_y = dict_id[id_key]\n",
    "        \n",
    "        # read sample data\n",
    "        # load and uncompress.\n",
    "        with gzip.open(path_csi+file+'.pickle.gz','rb') as f:\n",
    "            data1 = pickle.load(f)\n",
    "            \n",
    "        # subtract avg\n",
    "        read_avg = dict_avg[id_key][0]\n",
    "        nonzero_avg = read_avg[np.nonzero(read_avg)].reshape([-1,30,2,3])\n",
    "        arr_avg = np.mean(nonzero_avg,axis=0)\n",
    "        data1_diff = data1 - arr_avg #np.diff(data1,axis=0)\n",
    "        # zero pad\n",
    "        pad_len = len_num - data1_diff.shape[0]\n",
    "        data1_pad = np.pad(data1_diff,((0,pad_len),(0,0),(0,0),(0,0)),'constant',constant_values=0)\n",
    "\n",
    "        # subcarrier info\n",
    "        #data1_sc_df = pd.read_csv(path_sc + file + '_df_sc.csv')\n",
    "        #data1_time = np.diff(data1_sc_df['timestamp_low'])\n",
    "        #data1_time_pad = np.pad(data1_time,((1,pad_len)),'constant',constant_values=0)\n",
    "        \n",
    "        \n",
    "        yield(data1_pad ,data1_y,id_key)#,data1_time_pad)"
   ]
  },
  {
   "cell_type": "code",
   "execution_count": 6,
   "metadata": {},
   "outputs": [],
   "source": [
    "gen = gen_csi(df_info,dict_avg,no_classes,csi_time)\n",
    "target_sig,target_lab,target_id,target_dt = next(gen)"
   ]
  },
  {
   "cell_type": "code",
   "execution_count": 7,
   "metadata": {},
   "outputs": [],
   "source": [
    "# 3D scan\n",
    "m,n = 2,3\n",
    "c =  299792458 # speed of light \n",
    "#r = (160 + 160 + 164) * 0.01 # meter\n",
    "r = 1.64 #meter\n",
    "d = 45 * 0.01 # meter\n",
    "ch = 8#3\n",
    "max_subc = 30\n",
    "\n",
    "th_range,si_range = (30,30)\n",
    "sig_mat = np.zeros([csi_time,2*th_range,2*si_range])"
   ]
  },
  {
   "cell_type": "code",
   "execution_count": 41,
   "metadata": {},
   "outputs": [],
   "source": [
    "# 3D Reconstruction func\n",
    "from numba import vectorize\n",
    "@vectorize(['complex64(complex64,float32,float32,int32,int32,float32,float32,float32,int32)'], target='cpu')\n",
    "def Recon3d(sig,theta,sigma,m,n,lam,d,r,c):\n",
    "    #above_eq1 = 1j * (2*math.pi) * k * r * t / c\n",
    "    #above_eq1 = 1j * (2*math.pi) * c * dt * 0.000001 / lam\n",
    "    above_eq1 = 1j * (2*math.pi) * (160 + 160 + 164) * 0.01 / lam\n",
    "    above_eq2 = 1j * (2*math.pi/lam) * math.sin(theta) * ((n+1)*d*math.cos(sigma) + (m+1)*d*math.sin(sigma))\n",
    "    eq_res = sig* cmath.exp(above_eq1) * cmath.exp(above_eq2)\n",
    "    #eq_res = cmath.exp(above_eq1) * cmath.exp(above_eq2)\n",
    "    return eq_res #math.atan2(eq_res.imag,eq_res.real)\n"
   ]
  },
  {
   "cell_type": "code",
   "execution_count": 54,
   "metadata": {},
   "outputs": [],
   "source": [
    "def Calc3d(target_sig,max_subc,theta,sigma,bw_list,ch,d,r,c,m,n):\n",
    "    #vectorize arrays\n",
    "    subc_array = np.ones([csi_time,max_subc,m,n])\n",
    "    m_array = np.ones([csi_time,max_subc,m,n])\n",
    "    n_array = np.ones([csi_time,max_subc,m,n])\n",
    "    for i in range(max_subc):\n",
    "        subc_array[:,i,:,:] = i\n",
    "    for i in range(m):\n",
    "        m_array[:,:,i,:] = i\n",
    "    for i in range(n):\n",
    "        n_array[:,:,:,i] = i\n",
    "    subc_array = subc_array.flatten().astype(np.int32)\n",
    "    m_array = m_array.flatten().astype(np.int32)\n",
    "    n_array = n_array.flatten().astype(np.int32)\n",
    "    lam_array = np.array([c*0.000001/bw_list[str(e)][ch] for e in subc_array],dtype=np.float32)\n",
    "    \n",
    "    target_array = target_sig.flatten().astype(np.complex64)\n",
    "    \n",
    "    #3d recon\n",
    "    sum_eq = np.zeros(csi_time*max_subc*m*n*th_range,dtype=np.complex_)\n",
    "    sum_eq = Recon3d(target_array,theta,sigma,m_array,n_array,lam_array,d,r,c)\n",
    "\n",
    "    sum_reshape = np.sum(sum_eq.reshape([-1,max_subc,m,n]),axis=(1,2,3))\n",
    "    return(np.abs(sum_reshape))"
   ]
  },
  {
   "cell_type": "code",
   "execution_count": 55,
   "metadata": {},
   "outputs": [
    {
     "name": "stdout",
     "output_type": "stream",
     "text": [
      "0.009995698928833008\n"
     ]
    }
   ],
   "source": [
    "import time\n",
    "t1 = time.time()\n",
    "\n",
    "for idx_th,i in enumerate(range(-th_range,th_range)):\n",
    "    for idx_si,j in enumerate(range(-si_range,si_range)):\n",
    "        theta = i * (np.radians(30)/2) / th_range\n",
    "        sigma = j * (np.radians(30)/2) / si_range\n",
    "print(time.time()-t1)"
   ]
  },
  {
   "cell_type": "code",
   "execution_count": 56,
   "metadata": {},
   "outputs": [],
   "source": [
    "res = Calc3d(target_sig,max_subc,theta,sigma,bw_list,ch,d,r,c,m,n)"
   ]
  },
  {
   "cell_type": "code",
   "execution_count": 20,
   "metadata": {},
   "outputs": [],
   "source": [
    "th_array = (np.radians(30)/2)/th_range * np.arange(-th_range,th_range)\n",
    "si_array = (np.radians(30)/2)/si_range * np.arange(-si_range,si_range)"
   ]
  },
  {
   "cell_type": "code",
   "execution_count": 34,
   "metadata": {},
   "outputs": [
    {
     "data": {
      "text/plain": [
       "60"
      ]
     },
     "execution_count": 34,
     "metadata": {},
     "output_type": "execute_result"
    }
   ],
   "source": [
    "len(th_array)"
   ]
  },
  {
   "cell_type": "code",
   "execution_count": 48,
   "metadata": {},
   "outputs": [
    {
     "data": {
      "text/plain": [
       "array([-0.26179939, -0.25307274, -0.2443461 , -0.23561945, -0.2268928 ,\n",
       "       -0.21816616, -0.20943951, -0.20071286, -0.19198622, -0.18325957,\n",
       "       -0.17453293, -0.16580628, -0.15707963, -0.14835299, -0.13962634,\n",
       "       -0.13089969, -0.12217305, -0.1134464 , -0.10471976, -0.09599311,\n",
       "       -0.08726646, -0.07853982, -0.06981317, -0.06108652, -0.05235988,\n",
       "       -0.04363323, -0.03490659, -0.02617994, -0.01745329, -0.00872665,\n",
       "        0.        ,  0.00872665,  0.01745329,  0.02617994,  0.03490659,\n",
       "        0.04363323,  0.05235988,  0.06108652,  0.06981317,  0.07853982,\n",
       "        0.08726646,  0.09599311,  0.10471976,  0.1134464 ,  0.12217305,\n",
       "        0.13089969,  0.13962634,  0.14835299,  0.15707963,  0.16580628,\n",
       "        0.17453293,  0.18325957,  0.19198622,  0.20071286,  0.20943951,\n",
       "        0.21816616,  0.2268928 ,  0.23561945,  0.2443461 ,  0.25307274,\n",
       "       -0.26179939, -0.25307274, -0.2443461 , -0.23561945, -0.2268928 ,\n",
       "       -0.21816616, -0.20943951, -0.20071286, -0.19198622, -0.18325957,\n",
       "       -0.17453293, -0.16580628, -0.15707963, -0.14835299, -0.13962634,\n",
       "       -0.13089969, -0.12217305, -0.1134464 , -0.10471976, -0.09599311,\n",
       "       -0.08726646, -0.07853982, -0.06981317, -0.06108652, -0.05235988,\n",
       "       -0.04363323, -0.03490659, -0.02617994, -0.01745329, -0.00872665,\n",
       "        0.        ,  0.00872665,  0.01745329,  0.02617994,  0.03490659,\n",
       "        0.04363323,  0.05235988,  0.06108652,  0.06981317,  0.07853982,\n",
       "        0.08726646,  0.09599311,  0.10471976,  0.1134464 ,  0.12217305,\n",
       "        0.13089969,  0.13962634,  0.14835299,  0.15707963,  0.16580628,\n",
       "        0.17453293,  0.18325957,  0.19198622,  0.20071286,  0.20943951,\n",
       "        0.21816616,  0.2268928 ,  0.23561945,  0.2443461 ,  0.25307274])"
      ]
     },
     "execution_count": 48,
     "metadata": {},
     "output_type": "execute_result"
    }
   ],
   "source": [
    "np.concatenate([th_array,th_array])"
   ]
  },
  {
   "cell_type": "code",
   "execution_count": 50,
   "metadata": {},
   "outputs": [
    {
     "data": {
      "text/plain": [
       "120"
      ]
     },
     "execution_count": 50,
     "metadata": {},
     "output_type": "execute_result"
    }
   ],
   "source": [
    "len(np.tile(th_array,2))"
   ]
  },
  {
   "cell_type": "code",
   "execution_count": null,
   "metadata": {},
   "outputs": [],
   "source": []
  }
 ],
 "metadata": {
  "kernelspec": {
   "display_name": "mit_image",
   "language": "python",
   "name": "mit_image"
  },
  "language_info": {
   "codemirror_mode": {
    "name": "ipython",
    "version": 3
   },
   "file_extension": ".py",
   "mimetype": "text/x-python",
   "name": "python",
   "nbconvert_exporter": "python",
   "pygments_lexer": "ipython3",
   "version": "3.6.8"
  }
 },
 "nbformat": 4,
 "nbformat_minor": 2
}
