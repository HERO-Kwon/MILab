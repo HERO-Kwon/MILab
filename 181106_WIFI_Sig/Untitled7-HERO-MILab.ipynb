{
 "cells": [
  {
   "cell_type": "code",
   "execution_count": 3,
   "metadata": {},
   "outputs": [
    {
     "name": "stderr",
     "output_type": "stream",
     "text": [
      "C:\\Users\\herok\\Anaconda3\\lib\\site-packages\\numpy\\core\\fromnumeric.py:2957: RuntimeWarning: Mean of empty slice.\n",
      "  out=out, **kwargs)\n",
      "C:\\Users\\herok\\Anaconda3\\lib\\site-packages\\numpy\\core\\_methods.py:80: RuntimeWarning: invalid value encountered in double_scalars\n",
      "  ret = ret.dtype.type(ret / rcount)\n",
      "C:\\Users\\herok\\Anaconda3\\lib\\site-packages\\numpy\\core\\_methods.py:135: RuntimeWarning: Degrees of freedom <= 0 for slice\n",
      "  keepdims=keepdims)\n",
      "C:\\Users\\herok\\Anaconda3\\lib\\site-packages\\numpy\\core\\_methods.py:105: RuntimeWarning: invalid value encountered in true_divide\n",
      "  arrmean, rcount, out=arrmean, casting='unsafe', subok=False)\n",
      "C:\\Users\\herok\\Anaconda3\\lib\\site-packages\\numpy\\core\\_methods.py:127: RuntimeWarning: invalid value encountered in double_scalars\n",
      "  ret = ret.dtype.type(ret / rcount)\n"
     ]
    },
    {
     "ename": "MemoryError",
     "evalue": "",
     "output_type": "error",
     "traceback": [
      "\u001b[1;31m------------------------------------------------------------------------\u001b[0m",
      "\u001b[1;31mMemoryError\u001b[0m                            Traceback (most recent call last)",
      "\u001b[1;32m<ipython-input-3-3412f300bbda>\u001b[0m in \u001b[0;36m<module>\u001b[1;34m()\u001b[0m\n\u001b[0;32m     58\u001b[0m \u001b[1;33m\u001b[0m\u001b[0m\n\u001b[0;32m     59\u001b[0m         \u001b[1;31m# aggregate\u001b[0m\u001b[1;33m\u001b[0m\u001b[1;33m\u001b[0m\u001b[0m\n\u001b[1;32m---> 60\u001b[1;33m         \u001b[0mdf_sc\u001b[0m \u001b[1;33m=\u001b[0m \u001b[0mdf_sc\u001b[0m\u001b[1;33m.\u001b[0m\u001b[0mappend\u001b[0m\u001b[1;33m(\u001b[0m\u001b[0mdata_sc\u001b[0m\u001b[1;33m)\u001b[0m\u001b[1;33m\u001b[0m\u001b[0m\n\u001b[0m\u001b[0;32m     61\u001b[0m         \u001b[0mlist_scaled\u001b[0m\u001b[1;33m.\u001b[0m\u001b[0mappend\u001b[0m\u001b[1;33m(\u001b[0m\u001b[0mcsi_scaled\u001b[0m\u001b[1;33m)\u001b[0m\u001b[1;33m\u001b[0m\u001b[0m\n\u001b[0;32m     62\u001b[0m     \u001b[1;32mtry\u001b[0m\u001b[1;33m:\u001b[0m\u001b[1;33m\u001b[0m\u001b[0m\n",
      "\u001b[1;32m~\\Anaconda3\\lib\\site-packages\\pandas\\core\\frame.py\u001b[0m in \u001b[0;36mappend\u001b[1;34m(self, other, ignore_index, verify_integrity, sort)\u001b[0m\n\u001b[0;32m   6199\u001b[0m         return concat(to_concat, ignore_index=ignore_index,\n\u001b[0;32m   6200\u001b[0m                       \u001b[0mverify_integrity\u001b[0m\u001b[1;33m=\u001b[0m\u001b[0mverify_integrity\u001b[0m\u001b[1;33m,\u001b[0m\u001b[1;33m\u001b[0m\u001b[0m\n\u001b[1;32m-> 6201\u001b[1;33m                       sort=sort)\n\u001b[0m\u001b[0;32m   6202\u001b[0m \u001b[1;33m\u001b[0m\u001b[0m\n\u001b[0;32m   6203\u001b[0m     def join(self, other, on=None, how='left', lsuffix='', rsuffix='',\n",
      "\u001b[1;32m~\\Anaconda3\\lib\\site-packages\\pandas\\core\\reshape\\concat.py\u001b[0m in \u001b[0;36mconcat\u001b[1;34m(objs, axis, join, join_axes, ignore_index, keys, levels, names, verify_integrity, sort, copy)\u001b[0m\n\u001b[0;32m    224\u001b[0m                        \u001b[0mverify_integrity\u001b[0m\u001b[1;33m=\u001b[0m\u001b[0mverify_integrity\u001b[0m\u001b[1;33m,\u001b[0m\u001b[1;33m\u001b[0m\u001b[0m\n\u001b[0;32m    225\u001b[0m                        copy=copy, sort=sort)\n\u001b[1;32m--> 226\u001b[1;33m     \u001b[1;32mreturn\u001b[0m \u001b[0mop\u001b[0m\u001b[1;33m.\u001b[0m\u001b[0mget_result\u001b[0m\u001b[1;33m(\u001b[0m\u001b[1;33m)\u001b[0m\u001b[1;33m\u001b[0m\u001b[0m\n\u001b[0m\u001b[0;32m    227\u001b[0m \u001b[1;33m\u001b[0m\u001b[0m\n\u001b[0;32m    228\u001b[0m \u001b[1;33m\u001b[0m\u001b[0m\n",
      "\u001b[1;32m~\\Anaconda3\\lib\\site-packages\\pandas\\core\\reshape\\concat.py\u001b[0m in \u001b[0;36mget_result\u001b[1;34m(self)\u001b[0m\n\u001b[0;32m    421\u001b[0m             new_data = concatenate_block_managers(\n\u001b[0;32m    422\u001b[0m                 \u001b[0mmgrs_indexers\u001b[0m\u001b[1;33m,\u001b[0m \u001b[0mself\u001b[0m\u001b[1;33m.\u001b[0m\u001b[0mnew_axes\u001b[0m\u001b[1;33m,\u001b[0m \u001b[0mconcat_axis\u001b[0m\u001b[1;33m=\u001b[0m\u001b[0mself\u001b[0m\u001b[1;33m.\u001b[0m\u001b[0maxis\u001b[0m\u001b[1;33m,\u001b[0m\u001b[1;33m\u001b[0m\u001b[0m\n\u001b[1;32m--> 423\u001b[1;33m                 copy=self.copy)\n\u001b[0m\u001b[0;32m    424\u001b[0m             \u001b[1;32mif\u001b[0m \u001b[1;32mnot\u001b[0m \u001b[0mself\u001b[0m\u001b[1;33m.\u001b[0m\u001b[0mcopy\u001b[0m\u001b[1;33m:\u001b[0m\u001b[1;33m\u001b[0m\u001b[0m\n\u001b[0;32m    425\u001b[0m                 \u001b[0mnew_data\u001b[0m\u001b[1;33m.\u001b[0m\u001b[0m_consolidate_inplace\u001b[0m\u001b[1;33m(\u001b[0m\u001b[1;33m)\u001b[0m\u001b[1;33m\u001b[0m\u001b[0m\n",
      "\u001b[1;32m~\\Anaconda3\\lib\\site-packages\\pandas\\core\\internals.py\u001b[0m in \u001b[0;36mconcatenate_block_managers\u001b[1;34m(mgrs_indexers, axes, concat_axis, copy)\u001b[0m\n\u001b[0;32m   5416\u001b[0m         \u001b[1;32melif\u001b[0m \u001b[0mis_uniform_join_units\u001b[0m\u001b[1;33m(\u001b[0m\u001b[0mjoin_units\u001b[0m\u001b[1;33m)\u001b[0m\u001b[1;33m:\u001b[0m\u001b[1;33m\u001b[0m\u001b[0m\n\u001b[0;32m   5417\u001b[0m             b = join_units[0].block.concat_same_type(\n\u001b[1;32m-> 5418\u001b[1;33m                 [ju.block for ju in join_units], placement=placement)\n\u001b[0m\u001b[0;32m   5419\u001b[0m         \u001b[1;32melse\u001b[0m\u001b[1;33m:\u001b[0m\u001b[1;33m\u001b[0m\u001b[0m\n\u001b[0;32m   5420\u001b[0m             b = make_block(\n",
      "\u001b[1;32m~\\Anaconda3\\lib\\site-packages\\pandas\\core\\internals.py\u001b[0m in \u001b[0;36mconcat_same_type\u001b[1;34m(self, to_concat, placement)\u001b[0m\n\u001b[0;32m    366\u001b[0m         \"\"\"\n\u001b[0;32m    367\u001b[0m         values = self._concatenator([blk.values for blk in to_concat],\n\u001b[1;32m--> 368\u001b[1;33m                                     axis=self.ndim - 1)\n\u001b[0m\u001b[0;32m    369\u001b[0m         return self.make_block_same_class(\n\u001b[0;32m    370\u001b[0m             values, placement=placement or slice(0, len(values), 1))\n",
      "\u001b[1;31mMemoryError\u001b[0m: "
     ]
    }
   ],
   "source": [
    "%matplotlib notebook\n",
    "\n",
    "import scipy.io as sio\n",
    "import os\n",
    "import re\n",
    "import numpy as np\n",
    "import pandas as pd\n",
    "from PIL import Image\n",
    "import pickle\n",
    "import gzip\n",
    "from plots_csi_sign import *\n",
    "import matplotlib\n",
    "import matplotlib.pyplot as plt\n",
    "import matplotlib.animation as animation\n",
    "from matplotlib.animation import FFMpegWriter\n",
    "plt.rcParams['animation.ffmpeg_path'] ='C:\\\\ffmpeg-4.1-win64-static\\\\bin\\\\ffmpeg.exe'\n",
    "\n",
    "\n",
    "\n",
    "# helper function\n",
    "def search_int_in_filename(filename):\n",
    "    num_search = re.search('\\d+',filename)\n",
    "    return int(num_search.group(0))\n",
    "\n",
    "\n",
    "folder_path = 'D:\\Data\\Wi_Fi Dataset\\Wi-Fi dataset_CSI\\\\'\n",
    "folder_list = os.listdir(folder_path)\n",
    "save_path = 'D:\\Data\\Wi_Fi Dataset\\Wi-Fi_processed\\\\'\n",
    "#file_finished = [re.search('S\\d+_\\d+_\\d+_\\d+',row).group(0) for row in os.listdir(save_path)]\n",
    "\n",
    "df_subc = pd.DataFrame()\n",
    "dict_scaled = {}\n",
    "for exp_id in folder_list: # test\n",
    "    file_path = folder_path + exp_id\n",
    "    file_list = os.listdir(file_path)\n",
    "    file_list.sort(key=search_int_in_filename)\n",
    "        \n",
    "    df_sc = pd.DataFrame()\n",
    "    list_scaled = []\n",
    "    scalar_colname = ['timestamp_low','bfee_count','Nrx','Ntx','rssi_a','rssi_b','rssi_c','noise','agc','rate']\n",
    "\n",
    "    for i, file in enumerate(file_list):\n",
    "        data_read = sio.loadmat(os.path.join(file_path,file))\n",
    "        num_search = re.search('\\d+',file)\n",
    "        csi_num = int(num_search.group(0))\n",
    "\n",
    "        # scalar data\n",
    "        read_sc0_8 = [data_read['csi_entry'][0][0][a][0][0] for a in range(9)]\n",
    "        data_sc = pd.DataFrame(read_sc0_8).astype('int').T\n",
    "        data_sc.columns=scalar_colname[0:9]\n",
    "        data_sc['perm'] = pd.Series([data_read['csi_entry'][0][0][9][0]])\n",
    "        data_sc['rate'] = data_read['csi_entry'][0][0][10][0][0]\n",
    "        data_sc.index = [(exp_id,csi_num)]\n",
    "\n",
    "        # csi info\n",
    "        csi_raw = data_read['csi_entry'][0][0][11]\n",
    "        csi_scaled = data_read['csi_entry'][0][0][12]\n",
    "\n",
    "        # aggregate\n",
    "        df_sc = df_sc.append(data_sc)\n",
    "        list_scaled.append(csi_scaled)\n",
    "    try:\n",
    "        arr_scaled = np.array(list_scaled).reshape(-1,30,2,3)\n",
    "    except:\n",
    "        pass\n",
    "    dict_scaled[exp_id] = arr_scaled\n",
    "    \n",
    "    # calc mean, var\n",
    "    ser_subc = pd.Series(name=exp_id)\n",
    "    mean_subc = np.mean(np.abs(arr_scaled))\n",
    "    std_subc = np.std(np.abs(arr_scaled))\n",
    "    len_subc = len(arr_scaled)\n",
    "\n",
    "    ser_subc['mean'] = mean_subc\n",
    "    ser_subc['std'] = std_subc\n",
    "    ser_subc['len'] = len_subc\n",
    "\n",
    "    df_subc = df_subc.append(ser_subc)\n",
    "    \n",
    "    #Data Save\n",
    "    with gzip.open(save_path+exp_id+'.pickle.gz', 'wb') as f:\n",
    "        pickle.dump(arr_scaled, f, pickle.HIGHEST_PROTOCOL)\n",
    "    '''\n",
    "    #animated plot\n",
    "    plot_animated(save_path,exp_id,arr_scaled)\n",
    "    #heatmap\n",
    "    fig_len = len(arr_scaled)/50\n",
    "    for t in range(2):\n",
    "        for r in range(3):\n",
    "            arr_abs = np.abs(arr_scaled[:,:,t,r])\n",
    "            arr_ph = np.cos(np.angle(arr_scaled[:,:,t,r]))\n",
    "            \n",
    "            heatmap_array(save_path,(10,fig_len),exp_id+'_abs'+str((t,r)),arr_abs,50,0)\n",
    "            heatmap_array(save_path,(10,fig_len),exp_id+'_ph'+str((t,r)),arr_ph,np.pi/2,-np.pi/2)\n",
    "    '''\n",
    "\n",
    "\n",
    "df_subc.to_csv(save_path+'df_subc.csv')\n",
    "df_sc.to_csv(save_path+'df_sc.csv')\n",
    "with gzip.open(save_path+exp_id+'.pickle.gz', 'wb') as f:\n",
    "    pickle.dump(dict_scaled, f, pickle.HIGHEST_PROTOCOL)"
   ]
  },
  {
   "cell_type": "code",
   "execution_count": null,
   "metadata": {},
   "outputs": [],
   "source": [
    "import re\n",
    "1"
   ]
  },
  {
   "cell_type": "code",
   "execution_count": null,
   "metadata": {},
   "outputs": [],
   "source": [
    "file_finished = [re.search('S\\d+_\\d+_\\d+_\\d+',row).group(0) for row in os.listdir(save_path)]"
   ]
  },
  {
   "cell_type": "code",
   "execution_count": null,
   "metadata": {},
   "outputs": [],
   "source": [
    "re_a.group(0)"
   ]
  },
  {
   "cell_type": "code",
   "execution_count": null,
   "metadata": {},
   "outputs": [],
   "source": [
    "aa = np.array(list_scaled[0:10]).reshape(-1,30,2,3)\n",
    "aa.shape"
   ]
  },
  {
   "cell_type": "code",
   "execution_count": null,
   "metadata": {},
   "outputs": [],
   "source": []
  }
 ],
 "metadata": {
  "kernelspec": {
   "display_name": "Python 3",
   "language": "python",
   "name": "python3"
  },
  "language_info": {
   "codemirror_mode": {
    "name": "ipython",
    "version": 3
   },
   "file_extension": ".py",
   "mimetype": "text/x-python",
   "name": "python",
   "nbconvert_exporter": "python",
   "pygments_lexer": "ipython3",
   "version": "3.6.5"
  }
 },
 "nbformat": 4,
 "nbformat_minor": 2
}
