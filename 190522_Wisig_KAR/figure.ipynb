{
 "cells": [
  {
   "cell_type": "code",
   "execution_count": 1,
   "metadata": {},
   "outputs": [],
   "source": [
    "import pandas as pd\n",
    "import numpy as np\n",
    "import os\n",
    "import matplotlib.pyplot as plt\n",
    "import plotnine\n",
    "import re"
   ]
  },
  {
   "cell_type": "code",
   "execution_count": 2,
   "metadata": {},
   "outputs": [],
   "source": [
    "nameset0 = ['2019-07-20_15_07_42.257968',\n",
    "'2019-07-20_15_19_23.367441',\n",
    "'2019-07-20_15_30_09.812074']\n",
    "nameset1 = ['2019-07-20_14_07_45.444341',\n",
    "'2019-07-20_14_19_04.304010',\n",
    "'2019-07-20_14_29_22.740754']\n",
    "nameset2 = ['2019-07-21_10_56_48.205161',\n",
    "           '2019-07-21_11_08_01.023441',\n",
    "           '2019-07-21_11_18_18.671666']\n",
    "nameset3 = ['2019-07-21_11_31_53.066393',\n",
    "           '2019-07-21_11_42_47.558702',\n",
    "           '2019-07-21_11_52_13.583322']\n",
    "nameset4 = ['2019-07-22_06_40_55.297509',\n",
    "           '2019-07-22_06_52_55.242153',\n",
    "           '2019-07-22_07_04_06.032283']\n",
    "nameset5 = ['2019-07-22_04_39_35.356054',\n",
    "            '2019-07-22_04_51_03.139206',\n",
    "            '2019-07-22_05_01_19.294911']\n",
    "nameset6 = ['2019-07-22_06_09_37.422305',\n",
    "           '2019-07-22_06_21_23.295707',\n",
    "           '2019-07-22_06_32_19.677856']\n",
    "nameset7 = ['2019-07-22_05_39_11.035227',\n",
    "           '2019-07-22_05_50_43.215154',\n",
    "           '2019-07-22_06_01_21.066426']\n",
    "nameset8 = ['2019-07-22_06_46_51.439991',\n",
    "           '2019-07-22_06_58_24.620813',\n",
    "           '2019-07-22_07_08_34.455306']\n",
    "nameset9 = ['2019-07-20_15_13_28.393293',\n",
    "           '2019-07-20_15_24_44.837243',\n",
    "           '2019-07-20_15_34_26.316809']\n",
    "nameset10 = ['2019-07-23_07_36_06.474675',\n",
    "            '2019-07-23_07_46_46.086342',\n",
    "            '2019-07-23_07_55_51.147604']\n",
    "nameset11 = ['2019-07-23_08_05_32.708571',\n",
    "'2019-07-23_08_16_23.978478',\n",
    "'2019-07-23_08_25_34.553722']\n",
    "nameset12 = ['2019-07-23_07_01_24.398999',\n",
    "'2019-07-23_07_12_45.129018',\n",
    "'2019-07-23_07_22_48.753103']\n",
    "nameset13 = ['2019-07-23_08_35_27.740830',\n",
    "'2019-07-23_08_46_37.813892',\n",
    "'2019-07-23_08_56_02.660082']\n",
    "nameset_th = ['2019-09-25_17_18_10.386436',\n",
    "'2019-09-25_17_43_19.630266',\n",
    "'2019-09-25_18_04_32.453155'\n",
    "]\n",
    "nameset = nameset_th"
   ]
  },
  {
   "cell_type": "code",
   "execution_count": 3,
   "metadata": {},
   "outputs": [],
   "source": [
    "# path and names\n",
    "path = 'D:\\\\Data\\\\WIFI\\\\res\\\\thesis\\\\'\n",
    "name0 = nameset[0] # tcnn w KAR\n",
    "name1 = nameset[1]\n",
    "name2 = nameset[2]\n"
   ]
  },
  {
   "cell_type": "code",
   "execution_count": null,
   "metadata": {},
   "outputs": [],
   "source": [
    "try:\n",
    "    splits = '0'\n",
    "    # load dataset\n",
    "    f0 = pd.read_csv(path+name0+'_'+splits+'_loss.csv',header=None)\n",
    "    f1 = pd.read_csv(path+name1+'_'+splits+'_loss.csv',header=None)\n",
    "    f2 = pd.read_csv(path+name2+'_'+splits+'_loss.csv',header=None)\n",
    "except:\n",
    "    splits = '1'\n",
    "    # load dataset\n",
    "    f0 = pd.read_csv(path+name0+'_'+splits+'_loss.csv',header=None)\n",
    "    f1 = pd.read_csv(path+name1+'_'+splits+'_loss.csv',header=None)\n",
    "    f2 = pd.read_csv(path+name2+'_'+splits+'_loss.csv',header=None)"
   ]
  },
  {
   "cell_type": "code",
   "execution_count": null,
   "metadata": {},
   "outputs": [],
   "source": [
    "df_trn = pd.DataFrame()\n",
    "df_val = pd.DataFrame()"
   ]
  },
  {
   "cell_type": "code",
   "execution_count": null,
   "metadata": {},
   "outputs": [],
   "source": [
    "f0t = re.findall('\\d+\\.\\d+',f0[1][1]) # trn data\n",
    "f0v = re.findall('\\d+\\.\\d+',f0[1][0]) # val data\n",
    "f1t = re.findall('\\d+\\.\\d+',f1[1][1]) # trn data\n",
    "f1v = re.findall('\\d+\\.\\d+',f1[1][0]) # val data\n",
    "f2t = re.findall('\\d+\\.\\d+',f2[1][1]) # trn data\n",
    "f2v = re.findall('\\d+\\.\\d+',f2[1][0]) # val"
   ]
  },
  {
   "cell_type": "code",
   "execution_count": null,
   "metadata": {},
   "outputs": [],
   "source": [
    "df_trn['iter'] = np.arange(len(f0t))\n",
    "df_trn['Proposed'] = [float(r) for r in f0t]\n",
    "df_trn['Triplet_random'] = [float(r) for r in f1t]\n",
    "df_trn['Siamese'] = [float(r) for r in f2t]"
   ]
  },
  {
   "cell_type": "code",
   "execution_count": null,
   "metadata": {},
   "outputs": [],
   "source": [
    "df_trn['norm_Proposed'] = df_trn['Proposed'] / df_trn['Proposed'][0]\n",
    "df_trn['norm_Triplet_random'] = df_trn['Triplet_random'] / df_trn['Triplet_random'][0]\n",
    "df_trn['norm_Siamese'] = df_trn['Siamese'] / df_trn['Siamese'][0]"
   ]
  },
  {
   "cell_type": "code",
   "execution_count": null,
   "metadata": {},
   "outputs": [],
   "source": [
    "df_val['iter'] = np.arange(len(f0v))\n",
    "df_val['Proposed'] = [float(r) for r in f0v]\n",
    "df_val['Triplet_random'] = [float(r) for r in f1v]\n",
    "df_val['Siamese'] = [float(r) for r in f2v]"
   ]
  },
  {
   "cell_type": "code",
   "execution_count": null,
   "metadata": {},
   "outputs": [],
   "source": [
    "df_val['norm_Proposed'] = df_val['Proposed'] / df_val['Proposed'][0]\n",
    "df_val['norm_Triplet_random'] = df_val['Triplet_random'] / df_val['Triplet_random'][0]\n",
    "df_val['norm_Siamese'] = df_val['Siamese'] / df_val['Siamese'][0]"
   ]
  },
  {
   "cell_type": "code",
   "execution_count": null,
   "metadata": {},
   "outputs": [],
   "source": [
    "df_trn.plot(x='iter',y=['Proposed','Triplet_random','Siamese'])"
   ]
  },
  {
   "cell_type": "code",
   "execution_count": null,
   "metadata": {},
   "outputs": [],
   "source": [
    "df_val.plot(x='iter',y=['Proposed','Triplet_random','Siamese'])"
   ]
  },
  {
   "cell_type": "code",
   "execution_count": null,
   "metadata": {},
   "outputs": [],
   "source": [
    "df_trn=df_val"
   ]
  },
  {
   "cell_type": "code",
   "execution_count": null,
   "metadata": {},
   "outputs": [],
   "source": [
    "n_roll = 30\n",
    "df_trn_ma = df_trn.rolling(n_roll).sum()\n",
    "df_trn_ma['iter'] = np.arange(len(df_trn_ma))"
   ]
  },
  {
   "cell_type": "code",
   "execution_count": null,
   "metadata": {},
   "outputs": [],
   "source": [
    "df_trn_ma['norm_Proposed'] = df_trn_ma['Proposed'] / df_trn_ma['Proposed'][n_roll-1]\n",
    "df_trn_ma['norm_Triplet_random'] = df_trn_ma['Triplet_random'] / df_trn_ma['Triplet_random'][n_roll-1]\n",
    "df_trn_ma['norm_Siamese'] = df_trn_ma['Siamese'] / df_trn_ma['Siamese'][n_roll-1]"
   ]
  },
  {
   "cell_type": "code",
   "execution_count": null,
   "metadata": {},
   "outputs": [],
   "source": [
    "df_trn_ma.plot(x='iter',y=['norm_Proposed','norm_Triplet_random','norm_Siamese'],label=['Proposed system','Baseline triplet network','Siamese network'])\n",
    "plt.ylabel('Normalized Training Loss')\n",
    "plt.xlabel('# of Iteration')\n",
    "plt.savefig('thesis_normalized_loss_curve_ma30_v2.eps', format='eps', dpi=1000)"
   ]
  },
  {
   "cell_type": "code",
   "execution_count": null,
   "metadata": {},
   "outputs": [],
   "source": [
    "nameset"
   ]
  },
  {
   "cell_type": "markdown",
   "metadata": {},
   "source": [
    "# fc vector"
   ]
  },
  {
   "cell_type": "code",
   "execution_count": 4,
   "metadata": {},
   "outputs": [],
   "source": [
    "df_fc = pd.read_csv(path + 'size_fc.csv')"
   ]
  },
  {
   "cell_type": "code",
   "execution_count": 5,
   "metadata": {
    "scrolled": false
   },
   "outputs": [],
   "source": [
    "df_fc.index=df_fc.fc_size"
   ]
  },
  {
   "cell_type": "code",
   "execution_count": 6,
   "metadata": {},
   "outputs": [],
   "source": [
    "df = pd.DataFrame(df_fc.values[:,1:],index=[2,4,8,16,32,64],columns=['Proposed system','Baseline triplet network','Siamese network'])"
   ]
  },
  {
   "cell_type": "code",
   "execution_count": 7,
   "metadata": {},
   "outputs": [
    {
     "data": {
      "text/html": [
       "<div>\n",
       "<style scoped>\n",
       "    .dataframe tbody tr th:only-of-type {\n",
       "        vertical-align: middle;\n",
       "    }\n",
       "\n",
       "    .dataframe tbody tr th {\n",
       "        vertical-align: top;\n",
       "    }\n",
       "\n",
       "    .dataframe thead th {\n",
       "        text-align: right;\n",
       "    }\n",
       "</style>\n",
       "<table border=\"1\" class=\"dataframe\">\n",
       "  <thead>\n",
       "    <tr style=\"text-align: right;\">\n",
       "      <th></th>\n",
       "      <th>Proposed system</th>\n",
       "      <th>Baseline triplet network</th>\n",
       "      <th>Siamese network</th>\n",
       "    </tr>\n",
       "  </thead>\n",
       "  <tbody>\n",
       "    <tr>\n",
       "      <th>2</th>\n",
       "      <td>0.27</td>\n",
       "      <td>0.25</td>\n",
       "      <td>0.34</td>\n",
       "    </tr>\n",
       "    <tr>\n",
       "      <th>4</th>\n",
       "      <td>0.18</td>\n",
       "      <td>0.19</td>\n",
       "      <td>0.29</td>\n",
       "    </tr>\n",
       "    <tr>\n",
       "      <th>8</th>\n",
       "      <td>0.18</td>\n",
       "      <td>0.20</td>\n",
       "      <td>0.22</td>\n",
       "    </tr>\n",
       "    <tr>\n",
       "      <th>16</th>\n",
       "      <td>0.17</td>\n",
       "      <td>0.18</td>\n",
       "      <td>0.20</td>\n",
       "    </tr>\n",
       "    <tr>\n",
       "      <th>32</th>\n",
       "      <td>0.19</td>\n",
       "      <td>0.18</td>\n",
       "      <td>0.18</td>\n",
       "    </tr>\n",
       "    <tr>\n",
       "      <th>64</th>\n",
       "      <td>0.18</td>\n",
       "      <td>0.18</td>\n",
       "      <td>0.17</td>\n",
       "    </tr>\n",
       "  </tbody>\n",
       "</table>\n",
       "</div>"
      ],
      "text/plain": [
       "    Proposed system  Baseline triplet network  Siamese network\n",
       "2              0.27                      0.25             0.34\n",
       "4              0.18                      0.19             0.29\n",
       "8              0.18                      0.20             0.22\n",
       "16             0.17                      0.18             0.20\n",
       "32             0.19                      0.18             0.18\n",
       "64             0.18                      0.18             0.17"
      ]
     },
     "execution_count": 7,
     "metadata": {},
     "output_type": "execute_result"
    }
   ],
   "source": [
    "df"
   ]
  },
  {
   "cell_type": "code",
   "execution_count": 18,
   "metadata": {
    "scrolled": true
   },
   "outputs": [
    {
     "name": "stderr",
     "output_type": "stream",
     "text": [
      "The PostScript backend does not support transparency; partially transparent artists will be rendered opaque.\n",
      "The PostScript backend does not support transparency; partially transparent artists will be rendered opaque.\n"
     ]
    },
    {
     "data": {
      "image/png": "[encoded data removed]",
      "text/plain": [
       "<Figure size 432x288 with 1 Axes>"
      ]
     },
     "metadata": {},
     "output_type": "display_data"
    }
   ],
   "source": [
    "df.loc[:16].plot(logx=False,use_index=True,style='o-')\n",
    "plt.xlabel('Size of FC layers')\n",
    "plt.ylabel('EER (%)')\n",
    "#plt.xlab = 'aaa'\n",
    "plt.xlim(1.5,16.5)\n",
    "plt.savefig('thesis_fclayer_v1.eps', format='eps', dpi=1000)"
   ]
  },
  {
   "cell_type": "code",
   "execution_count": 16,
   "metadata": {},
   "outputs": [
    {
     "ename": "TypeError",
     "evalue": "unsupported format string passed to numpy.ndarray.__format__",
     "output_type": "error",
     "traceback": [
      "\u001b[1;31m---------------------------------------------------------------------------\u001b[0m",
      "\u001b[1;31mTypeError\u001b[0m                                 Traceback (most recent call last)",
      "\u001b[1;32m<ipython-input-16-0c383730adfc>\u001b[0m in \u001b[0;36m<module>\u001b[1;34m()\u001b[0m\n\u001b[1;32m----> 1\u001b[1;33m \u001b[1;33m[\u001b[0m\u001b[1;34m'{:,.2%}'\u001b[0m\u001b[1;33m.\u001b[0m\u001b[0mformat\u001b[0m\u001b[1;33m(\u001b[0m\u001b[0mx\u001b[0m\u001b[1;33m)\u001b[0m \u001b[1;32mfor\u001b[0m \u001b[0mx\u001b[0m \u001b[1;32min\u001b[0m \u001b[0mvals\u001b[0m\u001b[1;33m]\u001b[0m\u001b[1;33m\u001b[0m\u001b[0m\n\u001b[0m",
      "\u001b[1;32m<ipython-input-16-0c383730adfc>\u001b[0m in \u001b[0;36m<listcomp>\u001b[1;34m(.0)\u001b[0m\n\u001b[1;32m----> 1\u001b[1;33m \u001b[1;33m[\u001b[0m\u001b[1;34m'{:,.2%}'\u001b[0m\u001b[1;33m.\u001b[0m\u001b[0mformat\u001b[0m\u001b[1;33m(\u001b[0m\u001b[0mx\u001b[0m\u001b[1;33m)\u001b[0m \u001b[1;32mfor\u001b[0m \u001b[0mx\u001b[0m \u001b[1;32min\u001b[0m \u001b[0mvals\u001b[0m\u001b[1;33m]\u001b[0m\u001b[1;33m\u001b[0m\u001b[0m\n\u001b[0m",
      "\u001b[1;31mTypeError\u001b[0m: unsupported format string passed to numpy.ndarray.__format__"
     ]
    }
   ],
   "source": [
    "['{:,.2%}'.format(x) for x in vals]"
   ]
  },
  {
   "cell_type": "code",
   "execution_count": null,
   "metadata": {},
   "outputs": [],
   "source": []
  },
  {
   "cell_type": "code",
   "execution_count": null,
   "metadata": {},
   "outputs": [],
   "source": [
    "df_trn_ma.plot(x='iter',y=['norm_Proposed','norm_Triplet_random','norm_Siamese'])"
   ]
  }
 ],
 "metadata": {
  "kernelspec": {
   "display_name": "Python 3",
   "language": "python",
   "name": "python3"
  },
  "language_info": {
   "codemirror_mode": {
    "name": "ipython",
    "version": 3
   },
   "file_extension": ".py",
   "mimetype": "text/x-python",
   "name": "python",
   "nbconvert_exporter": "python",
   "pygments_lexer": "ipython3",
   "version": "3.6.5"
  }
 },
 "nbformat": 4,
 "nbformat_minor": 2
}
