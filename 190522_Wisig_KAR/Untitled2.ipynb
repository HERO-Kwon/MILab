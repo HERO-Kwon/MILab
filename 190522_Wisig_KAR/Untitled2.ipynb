{
 "cells": [
  {
   "cell_type": "code",
   "execution_count": 1,
   "metadata": {},
   "outputs": [
    {
     "name": "stderr",
     "output_type": "stream",
     "text": [
      "C:\\Users\\herok\\Anaconda3\\lib\\site-packages\\h5py\\__init__.py:36: FutureWarning: Conversion of the second argument of issubdtype from `float` to `np.floating` is deprecated. In future, it will be treated as `np.float64 == np.dtype(float).type`.\n",
      "  from ._conv import register_converters as _register_converters\n",
      "Using TensorFlow backend.\n"
     ]
    }
   ],
   "source": [
    "# keras version\n",
    "\n",
    "import keras\n",
    "keras.__version__\n",
    "\n",
    "\n",
    "#convnet filters\n",
    "from keras import layers\n",
    "from keras import models"
   ]
  },
  {
   "cell_type": "code",
   "execution_count": 2,
   "metadata": {},
   "outputs": [],
   "source": [
    "# import mnist data\n",
    "\n",
    "from keras.datasets import mnist\n",
    "from keras.utils import to_categorical\n",
    "\n",
    "(train_images, train_labels), (test_images, test_labels) = mnist.load_data()\n",
    "\n",
    "train_images = train_images.reshape((60000, 28*28,))\n",
    "train_images = train_images.astype('float32') / 255\n",
    "\n",
    "test_images = test_images.reshape((10000, 28*28,))\n",
    "test_images = test_images.astype('float32') / 255\n",
    "\n",
    "train_labels = to_categorical(train_labels)\n",
    "test_labels = to_categorical(test_labels)\n"
   ]
  },
  {
   "cell_type": "code",
   "execution_count": 3,
   "metadata": {},
   "outputs": [],
   "source": [
    "#karnet parameters\n",
    "f = ['atan','atan','atan','atan'] #% try setting H=[60000,8000,300] and slope = [1,1,1,1]\n",
    "finv = ['tan','tan','tan','tan']  #% try setting H=[60000,8000,300] and slope = [1,1,1,1]\n",
    "h = [2000,1000,100]\n",
    "slope=1\n",
    "rseed=1\n",
    "x = train_images\n",
    "y = train_labels"
   ]
  },
  {
   "cell_type": "code",
   "execution_count": 4,
   "metadata": {},
   "outputs": [],
   "source": [
    "# make karnet model\n",
    "import numpy as np\n",
    "import math"
   ]
  },
  {
   "cell_type": "code",
   "execution_count": 5,
   "metadata": {
    "scrolled": true
   },
   "outputs": [],
   "source": [
    "outputs = x"
   ]
  },
  {
   "cell_type": "code",
   "execution_count": 6,
   "metadata": {},
   "outputs": [],
   "source": [
    "# retraining classifier\n",
    "X_inv = np.linalg.pinv(x)"
   ]
  },
  {
   "cell_type": "code",
   "execution_count": 7,
   "metadata": {},
   "outputs": [],
   "source": [
    "# Initialize W2, W3(np.random.rand(w_row,w_col))\n",
    "W2 = np.random.rand(1024, 512)\n",
    "W2_inv = np.linalg.pinv(W2)\n",
    "W3 = np.random.rand(512, 10)\n",
    "W3_inv = np.linalg.pinv(W3)"
   ]
  },
  {
   "cell_type": "code",
   "execution_count": 8,
   "metadata": {},
   "outputs": [],
   "source": [
    "# W1 optimization\n",
    "W1 = np.dot(y, W3_inv)\n",
    "W1 = np.arctanh(W1)\n",
    "W1 = np.dot(W1, W2_inv)\n",
    "W1 = np.arctanh(W1)\n",
    "W1 = np.dot(X_inv, W1)\n",
    "\n",
    "outputs = np.dot(outputs, W1)\n",
    "outputs = np.tanh(outputs)\n",
    "outputs_inv = np.linalg.pinv(outputs)"
   ]
  },
  {
   "cell_type": "code",
   "execution_count": 9,
   "metadata": {},
   "outputs": [],
   "source": [
    "# W2 optimization\n",
    "W2 = np.dot(y, W3_inv)\n",
    "W2 = np.arctanh(W2)\n",
    "W2 = np.dot(outputs_inv, W2)\n",
    "                \n",
    "outputs = np.dot(outputs, W2)\n",
    "outputs = np.tanh(outputs)\n",
    "outputs_inv = np.linalg.pinv(outputs)"
   ]
  },
  {
   "cell_type": "code",
   "execution_count": 10,
   "metadata": {},
   "outputs": [],
   "source": [
    "# W3 optimization\n",
    "W3 = np.dot(outputs_inv, y)"
   ]
  },
  {
   "cell_type": "code",
   "execution_count": 11,
   "metadata": {},
   "outputs": [],
   "source": [
    "# test"
   ]
  },
  {
   "cell_type": "code",
   "execution_count": 12,
   "metadata": {},
   "outputs": [],
   "source": [
    "outputs1 = test_images\n",
    "outputs1 = np.dot(outputs1, W1)\n",
    "outputs1 = np.tanh(outputs1)\n",
    "outputs1 = np.dot(outputs1, W2)\n",
    "outputs1 = np.tanh(outputs1)\n",
    "outputs1 = np.dot(outputs1, W3)"
   ]
  },
  {
   "cell_type": "code",
   "execution_count": 13,
   "metadata": {},
   "outputs": [],
   "source": [
    "import pandas as pd\n",
    "pred = pd.Series([np.argmax(v) for v in outputs1])\n",
    "truth = pd.Series([np.argmax(v) for v in test_labels])"
   ]
  },
  {
   "cell_type": "code",
   "execution_count": 14,
   "metadata": {},
   "outputs": [
    {
     "name": "stdout",
     "output_type": "stream",
     "text": [
      "0.902\n"
     ]
    }
   ],
   "source": [
    "acc = np.sum(pred==truth) / len(pred)\n",
    "print(acc)"
   ]
  },
  {
   "cell_type": "code",
   "execution_count": 15,
   "metadata": {},
   "outputs": [
    {
     "data": {
      "text/plain": [
       "(784, 1024)"
      ]
     },
     "execution_count": 15,
     "metadata": {},
     "output_type": "execute_result"
    }
   ],
   "source": [
    "W1.shape"
   ]
  },
  {
   "cell_type": "code",
   "execution_count": null,
   "metadata": {},
   "outputs": [],
   "source": []
  }
 ],
 "metadata": {
  "kernelspec": {
   "display_name": "Python 3",
   "language": "python",
   "name": "python3"
  },
  "language_info": {
   "codemirror_mode": {
    "name": "ipython",
    "version": 3
   },
   "file_extension": ".py",
   "mimetype": "text/x-python",
   "name": "python",
   "nbconvert_exporter": "python",
   "pygments_lexer": "ipython3",
   "version": "3.6.5"
  }
 },
 "nbformat": 4,
 "nbformat_minor": 2
}
