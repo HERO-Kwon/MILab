{
 "cells": [
  {
   "cell_type": "code",
   "execution_count": 1,
   "metadata": {},
   "outputs": [
    {
     "name": "stderr",
     "output_type": "stream",
     "text": [
      "C:\\Users\\herok\\Anaconda3\\lib\\site-packages\\h5py\\__init__.py:36: FutureWarning: Conversion of the second argument of issubdtype from `float` to `np.floating` is deprecated. In future, it will be treated as `np.float64 == np.dtype(float).type`.\n",
      "  from ._conv import register_converters as _register_converters\n",
      "Using TensorFlow backend.\n",
      "C:\\Users\\herok\\Anaconda3\\lib\\site-packages\\tensorflow\\python\\framework\\dtypes.py:526: FutureWarning: Passing (type, 1) or '1type' as a synonym of type is deprecated; in a future version of numpy, it will be understood as (type, (1,)) / '(1,)type'.\n",
      "  _np_qint8 = np.dtype([(\"qint8\", np.int8, 1)])\n",
      "C:\\Users\\herok\\Anaconda3\\lib\\site-packages\\tensorflow\\python\\framework\\dtypes.py:527: FutureWarning: Passing (type, 1) or '1type' as a synonym of type is deprecated; in a future version of numpy, it will be understood as (type, (1,)) / '(1,)type'.\n",
      "  _np_quint8 = np.dtype([(\"quint8\", np.uint8, 1)])\n",
      "C:\\Users\\herok\\Anaconda3\\lib\\site-packages\\tensorflow\\python\\framework\\dtypes.py:528: FutureWarning: Passing (type, 1) or '1type' as a synonym of type is deprecated; in a future version of numpy, it will be understood as (type, (1,)) / '(1,)type'.\n",
      "  _np_qint16 = np.dtype([(\"qint16\", np.int16, 1)])\n",
      "C:\\Users\\herok\\Anaconda3\\lib\\site-packages\\tensorflow\\python\\framework\\dtypes.py:529: FutureWarning: Passing (type, 1) or '1type' as a synonym of type is deprecated; in a future version of numpy, it will be understood as (type, (1,)) / '(1,)type'.\n",
      "  _np_quint16 = np.dtype([(\"quint16\", np.uint16, 1)])\n",
      "C:\\Users\\herok\\Anaconda3\\lib\\site-packages\\tensorflow\\python\\framework\\dtypes.py:530: FutureWarning: Passing (type, 1) or '1type' as a synonym of type is deprecated; in a future version of numpy, it will be understood as (type, (1,)) / '(1,)type'.\n",
      "  _np_qint32 = np.dtype([(\"qint32\", np.int32, 1)])\n",
      "C:\\Users\\herok\\Anaconda3\\lib\\site-packages\\tensorflow\\python\\framework\\dtypes.py:535: FutureWarning: Passing (type, 1) or '1type' as a synonym of type is deprecated; in a future version of numpy, it will be understood as (type, (1,)) / '(1,)type'.\n",
      "  np_resource = np.dtype([(\"resource\", np.ubyte, 1)])\n"
     ]
    }
   ],
   "source": [
    "# Linear V4: SVM, TERd\n",
    "# Linear V3 : Normal, SVM\n",
    "\n",
    "import os\n",
    "import numpy as np\n",
    "import pandas as pd\n",
    "import matplotlib.pyplot as plt\n",
    "import time\n",
    "import random\n",
    "from sklearn.model_selection import StratifiedKFold\n",
    "from sklearn.metrics import confusion_matrix\n",
    "from sklearn.utils import shuffle\n",
    "import matplotlib.pyplot as plt\n",
    "import seaborn as sns\n",
    "from scipy.optimize import brentq\n",
    "from scipy.interpolate import interp1d\n",
    "from sklearn.metrics import roc_curve\n",
    "from sklearn.svm import SVC\n",
    "from keras.utils import to_categorical\n",
    "import karnet_v1\n",
    "from karnet_v1 import KARnet"
   ]
  },
  {
   "cell_type": "code",
   "execution_count": 2,
   "metadata": {},
   "outputs": [
    {
     "name": "stdout",
     "output_type": "stream",
     "text": [
      "WARNING:tensorflow:From C:\\Users\\herok\\Anaconda3\\lib\\site-packages\\tensorflow\\python\\framework\\op_def_library.py:263: colocate_with (from tensorflow.python.framework.ops) is deprecated and will be removed in a future version.\n",
      "Instructions for updating:\n",
      "Colocations handled automatically by placer.\n"
     ]
    }
   ],
   "source": [
    "from siam_utils import *\n",
    "import siamkar_v2_hp\n",
    "import karnet_v1"
   ]
  },
  {
   "cell_type": "code",
   "execution_count": 29,
   "metadata": {},
   "outputs": [],
   "source": [
    "## Functions\n",
    "# function to return key for any value \n",
    "def get_key(val,my_dict): \n",
    "    for key, list_val in my_dict.items(): \n",
    "         if val in list_val: \n",
    "             return key \n",
    "  \n",
    "    return \"key doesn't exist\"\n",
    "\n",
    "def ReadCSIData(PATH,ratio,locs,dirs):\n",
    "    print(\"loading data from {}\".format(PATH))\n",
    "    list_csi = []\n",
    "    list_lab = []\n",
    "    list_res_csi = []\n",
    "    list_res_lab = []\n",
    "    \n",
    "    ids = int(ratio * 100)\n",
    "    res_ids = int((1-ratio)*100)\n",
    "\n",
    "    # Filter Loc,Dir\n",
    "    file_list = []\n",
    "    for i in locs:\n",
    "        for j in dirs:\n",
    "            filename = 'Dataset_' + str(i) + '_' + str(j) + '.npy'\n",
    "            file_list.append(filename)\n",
    "\n",
    "    for file in file_list:\n",
    "        data_read = np.load(PATH + file)\n",
    "        csi_read = data_read[:,4:].astype('float32')\n",
    "        lab_read = data_read[:,0].astype('int')\n",
    "\n",
    "        data_x = csi_read.reshape([-1,10,6,30,500]).swapaxes(2,4)\n",
    "\n",
    "        uniq_label = np.unique(lab_read)\n",
    "        label_table = pd.Series(np.arange(len(uniq_label)),index=uniq_label)\n",
    "        data_y = np.array([label_table[num] for num in lab_read]).reshape([-1,10])\n",
    "        \n",
    "        # use half of the dataset\n",
    "        idx_ids = (data_y[:,0] < ids)\n",
    "        list_csi.append(data_x[idx_ids])\n",
    "        list_lab.append(data_y[idx_ids])\n",
    "        \n",
    "        reserve_ids = (data_y[:,0] >= ids)\n",
    "        list_res_csi.append(data_x[reserve_ids])\n",
    "        list_res_lab.append(data_y[reserve_ids])\n",
    "\n",
    "    arr_csi = np.array(list_csi).swapaxes(0,1).reshape([ids*len(file_list),10,500,30,6])\n",
    "    arr_lab = np.array(list_lab).swapaxes(0,1).reshape([ids*len(file_list),10])\n",
    "    Xs = arr_csi.reshape([-1,1,500,30,6])\n",
    "    Ys = arr_lab.reshape([-1,1])\n",
    "\n",
    "    reserve_csi = np.array(list_res_csi).swapaxes(0,1).reshape([res_ids*len(file_list),10,500,30,6])\n",
    "    reserve_lab = np.array(list_res_lab).swapaxes(0,1).reshape([res_ids*len(file_list),10])\n",
    "    reserve_Xs = reserve_csi.reshape([-1,1,500,30,6])\n",
    "    reserve_Ys = reserve_lab.reshape([-1,1])\n",
    "\n",
    "    return([Xs,Ys,reserve_Xs,reserve_Ys])\n",
    "\n",
    "class LinearModels:\n",
    "    isdual = 0 #prim:0,dual:1\n",
    "    model_name = 'Default'\n",
    "    train_time = 0\n",
    "\n",
    "    def __init__(self,data):\n",
    "        self.X = data[0]\n",
    "        self.Y = data[1]\n",
    "        self.Xval = data[2]\n",
    "        self.Yval = data[3]\n",
    "    \n",
    "    def model(self):\n",
    "        if self.isdual:\n",
    "            return(np.eye(X.shape[0],X.shape[0]))\n",
    "        else:\n",
    "            return(np.eye(X.shape[1],X.shape[1]))\n",
    "\n",
    "    def train(self):\n",
    "        t1 = time.time()\n",
    "        alpha_mat = self.model()\n",
    "        LinearModels.train_time = time.time()-t1\n",
    "        print(\"Training Time: \" + str(LinearModels.train_time))\n",
    "        return(alpha_mat)\n",
    "\n",
    "    def val_dist(self,alpha_mat):\n",
    "        if self.isdual:\n",
    "            val_mat = np.dot(self.Xval,self.X.T).dot(alpha_mat)\n",
    "        else:\n",
    "            val_mat = self.Xval.dot(alpha_mat)\n",
    "\n",
    "        res_list = []\n",
    "        for i in range(val_mat.shape[0]):\n",
    "            for ti in range(val_mat.shape[0]):\n",
    "                val_dist = val_mat[i,:] - val_mat[ti,:]\n",
    "                val_score = np.sqrt(np.sum(np.multiply(val_dist,val_dist)))\n",
    "                grd_truth =  int(self.Yval[i] == self.Yval[ti])\n",
    "                score_list = [i,ti,grd_truth,val_score]\n",
    "                res_list.append(score_list)\n",
    "        \n",
    "        res_df = pd.DataFrame(res_list,columns=['i','ti','truth','score'])\n",
    "        #return(res_df[res_df.i != res_df.ti])\n",
    "        return(val_mat)\n",
    "    \n",
    "    def eer_graphs(self,dist_truth,dist_score,pos_label):\n",
    "        fpr, tpr, thresholds = roc_curve(dist_truth, dist_score,pos_label=pos_label)\n",
    "        eer = brentq(lambda x : 1. - x - interp1d(fpr, tpr)(x), 0., 1.)\n",
    "        \n",
    "        # ROC\n",
    "        plt.plot(fpr, tpr, '.-', label=self.model_name)\n",
    "        plt.plot([0, 1], [0, 1], 'k--', label=\"random guess\")\n",
    "        \n",
    "        plt.xlabel('False Positive Rate (Fall-Out)')\n",
    "        plt.ylabel('True Positive Rate (Recall)')\n",
    "        plt.title('Receiver Operating Characteristic curve')\n",
    "        plt.legend()\n",
    "        plt.show()\n",
    "        \n",
    "        # EER\n",
    "        thres_mask = thresholds <= 5*np.median(dist_score)\n",
    "        \n",
    "        th_mask = thresholds[thres_mask]\n",
    "        fpr_mask= fpr[thres_mask]\n",
    "        tpr_mask = tpr[thres_mask]\n",
    "        \n",
    "        plt.plot(th_mask,fpr_mask,color='blue', label=\"FPR\")\n",
    "        plt.plot(th_mask,1-tpr_mask,color='red',label=\"FNR\")\n",
    "        plt.plot(th_mask,fpr_mask + (1-tpr_mask),color='green',label=\"TER\")\n",
    "        plt.axhline(eer,color='black')\n",
    "        plt.text(max(th_mask)*1.05,eer,'EER : ' + str(round(eer*100,1)))\n",
    "\n",
    "        plt.xlabel('Thresholds')\n",
    "        plt.ylabel('Error Rates (%)')\n",
    "        plt.title('Equal Error Rate')\n",
    "        plt.legend()\n",
    "        plt.show()\n",
    "        \n",
    "        return(eer)\n",
    "\n",
    "class LSEprim(LinearModels):\n",
    "    model_name = 'LSE:Prim'\n",
    "    isdual = 0\n",
    "    def model(self):\n",
    "        alpha_lse = []\n",
    "        for k in list(set(self.Y)):\n",
    "            P_lse = self.X\n",
    "            I_lse = np.eye(P_lse.shape[1])\n",
    "            b_lse = 10**(-4)\n",
    "            y_lse = (self.Y==k).astype('int')\n",
    "\n",
    "            ak_lse = np.dot(np.dot(np.linalg.pinv(b_lse*I_lse + P_lse.T.dot(P_lse)),P_lse.T),y_lse)\n",
    "            alpha_lse.append(ak_lse) \n",
    "        \n",
    "        return(np.array(alpha_lse).T)\n",
    "\n",
    "class LSEdual(LinearModels):\n",
    "    model_name = 'LSE:Dual'\n",
    "    isdual = 1\n",
    "    def model(self):\n",
    "        beta_lsed = []\n",
    "        for k in list(set(self.Y)):\n",
    "            P_lsed = self.X\n",
    "            I_lsed = np.eye(P_lsed.shape[0])\n",
    "            b_lsed = 10**(-4)\n",
    "            y_lsed = (self.Y==k).astype('int')\n",
    "\n",
    "            bk_lsed = np.dot(np.linalg.pinv(np.dot(P_lsed,P_lsed.T) + b_lsed*I_lsed),y_lsed)\n",
    "            beta_lsed.append(bk_lsed)\n",
    "\n",
    "        return(np.array(beta_lsed).T)\n",
    "\n",
    "class TERprim(LinearModels):\n",
    "    model_name = 'TER:Prim'\n",
    "    isdual = 0\n",
    "        \n",
    "    M_dict = {}\n",
    "    M_dict['0'] = (0,1),(0,1)\n",
    "    M_dict['1'] = (1,0),(1,0)\n",
    "    M_dict['2'] = (1,0),(0,1)\n",
    "    M_dict['3'] = (0,1),(1,0)\n",
    "    M_dict['4'] = (1,0),(0.5,0)\n",
    "    M_dict['5'] = (0.5,0),(1,0)\n",
    "    M_dict['6'] = (1,0),(0.7,0)\n",
    "    M_dict['7'] = (0.7,0),(1,0)\n",
    "    M_dict['8'] = (1,0),(0.3,0)\n",
    "    M_dict['9'] = (0.3,0),(1,0)\n",
    "    \n",
    "    def __init__(self,data,r,n,m_pos):\n",
    "        super(TERprim, self).__init__(data)\n",
    "        self.r = r\n",
    "        self.n = n\n",
    "        #self.mod_w = TERprim.M_dict[str(m_pos)]\n",
    "        self.mod_w = TERprim.M_dict['1']\n",
    "    def model(self):\n",
    "        #simplified version of TER\n",
    "        alpha = []\n",
    "        for k in list(set(self.Y)):\n",
    "            P = self.X\n",
    "            b_ter = 10**(-4)\n",
    "            I_ter = np.eye(P.shape[1])\n",
    "\n",
    "            mk_n = self.X[self.Y!=k].shape[0]\n",
    "            mk_p = self.X[self.Y==k].shape[0]\n",
    "\n",
    "            w_n = self.mod_w[0][0] * 1/mk_n + self.mod_w[0][1]\n",
    "            w_p = self.mod_w[1][0] * 1/mk_p + self.mod_w[1][1]\n",
    "\n",
    "            ones_mkn = 1*(self.Y!=k) *w_n\n",
    "            ones_mkp = 1*(self.Y==k) *w_p\n",
    "\n",
    "            W = np.zeros((len(self.Y), len(self.Y)), float)\n",
    "            np.fill_diagonal(W,ones_mkn+ones_mkp)\n",
    "            yk = ((self.r-self.n)*ones_mkn+(self.r+self.n)*ones_mkp).T\n",
    "            ak = np.linalg.pinv(b_ter*I_ter + (P.T).dot(W).dot(P)).dot(P.T).dot(W).dot(yk)\n",
    "\n",
    "            alpha.append(ak)\n",
    "        return(np.array(alpha).T)\n",
    "\n",
    "class TERdual(LinearModels):\n",
    "    model_name = 'TER:Dual'\n",
    "    isdual = 1\n",
    "    \n",
    "    M_dict = {}\n",
    "    M_dict['0'] = (0,1),(0,1)\n",
    "    M_dict['1'] = (1,0),(1,0)\n",
    "    M_dict['2'] = (1,0),(0,1)\n",
    "    M_dict['3'] = (0,1),(1,0)\n",
    "    M_dict['4'] = (1,0),(0.5,0)\n",
    "    M_dict['5'] = (0.5,0),(1,0)\n",
    "    M_dict['6'] = (1,0),(0.7,0)\n",
    "    M_dict['7'] = (0.7,0),(1,0)\n",
    "    M_dict['8'] = (1,0),(0.3,0)\n",
    "    M_dict['9'] = (0.3,0),(1,0)\n",
    "    \n",
    "    def __init__(self,data,r,n,m_pos):\n",
    "        super(TERdual, self).__init__(data)\n",
    "        self.r = r\n",
    "        self.n = n\n",
    "        #self.mod_w = TERdual.M_dict[str(m_pos)]\n",
    "        self.mod_w = TERdual.M_dict['1']\n",
    "    def model(self):\n",
    "        #TER\n",
    "        beta = []\n",
    "        for k in list(set(self.Y)):\n",
    "            P = self.X\n",
    "            b_ter = 10**(-4)\n",
    "            I_ter = np.eye(P.shape[0])\n",
    "\n",
    "            mk_n = self.X[self.Y!=k].shape[0]\n",
    "            mk_p = self.X[self.Y==k].shape[0]\n",
    "\n",
    "            w_n = self.mod_w[0][0] * 1/mk_n + self.mod_w[0][1]\n",
    "            w_p = self.mod_w[1][0] * 1/mk_p + self.mod_w[1][1]\n",
    "\n",
    "            ones_mkn = 1*(self.Y!=k) *w_n\n",
    "            ones_mkp = 1*(self.Y==k) *w_p\n",
    "\n",
    "            W = np.zeros((len(self.Y), len(self.Y)), float)\n",
    "            np.fill_diagonal(W,ones_mkn+ones_mkp)\n",
    "            yk = ((self.r-self.n)*ones_mkn+(self.r+self.n)*ones_mkp).T\n",
    "            \n",
    "            bk = np.linalg.pinv(P.dot(P.T).dot(W)+b_ter*I_ter).dot(yk)\n",
    "            \n",
    "            beta.append(bk)\n",
    "        return(np.array(beta).T)\n",
    "\n",
    "class SVMlinear(LinearModels):\n",
    "    model_name = 'SVM:Linear'\n",
    "    isdual = 0 \n",
    "\n",
    "    def train(self,c):\n",
    "        t1 = time.time()\n",
    "        clf = SVC(kernel='linear',C=c,probability=True)\n",
    "        clf.fit(self.X,self.Y)\n",
    "        prob_mat = clf.predict_proba(self.Xval)\n",
    "        \n",
    "        LinearModels.train_time = time.time()-t1\n",
    "        print(\"Training Time: \" + str(LinearModels.train_time))\n",
    "        return(prob_mat)\n",
    "    \n",
    "    def val_dist(self,val_mat):\n",
    "        res_list = []\n",
    "        for i in range(val_mat.shape[0]):\n",
    "            for ti in range(val_mat.shape[0]):\n",
    "                val_dist = val_mat[i,:] - val_mat[ti,:]\n",
    "                val_score = np.sqrt(np.sum(np.multiply(val_dist,val_dist)))\n",
    "                grd_truth =  int(self.Yval[i] == self.Yval[ti])\n",
    "                score_list = [i,ti,grd_truth,val_score]\n",
    "                res_list.append(score_list)\n",
    "        \n",
    "        res_df = pd.DataFrame(res_list,columns=['i','ti','truth','score'])\n",
    "        #return(res_df[res_df.i != res_df.ti])\n",
    "        return(val_mat)\n",
    "\n",
    "class SVMrbf(LinearModels):\n",
    "    model_name = 'SVM:RBF'\n",
    "    isdual = 0 \n",
    "            \n",
    "    def train(self,c,gamma):\n",
    "        t1 = time.time()\n",
    "        clf = SVC(kernel='rbf',C=c,gamma=gamma,probability=True)\n",
    "        clf.fit(self.X,self.Y)\n",
    "        prob_mat = clf.predict_proba(self.Xval)\n",
    "        \n",
    "        LinearModels.train_time = time.time()-t1\n",
    "        print(\"Training Time: \" + str(LinearModels.train_time))\n",
    "        return(prob_mat)\n",
    "    \n",
    "    def val_dist(self,val_mat):\n",
    "        res_list = []\n",
    "        for i in range(val_mat.shape[0]):\n",
    "            for ti in range(val_mat.shape[0]):\n",
    "                val_dist = val_mat[i,:] - val_mat[ti,:]\n",
    "                val_score = np.sqrt(np.sum(np.multiply(val_dist,val_dist)))\n",
    "                grd_truth =  int(self.Yval[i] == self.Yval[ti])\n",
    "                score_list = [i,ti,grd_truth,val_score]\n",
    "                res_list.append(score_list)\n",
    "        \n",
    "        res_df = pd.DataFrame(res_list,columns=['i','ti','truth','score'])\n",
    "        #return(res_df[res_df.i != res_df.ti])\n",
    "        return(val_mat)\n",
    "\n",
    "class SVMpoly(LinearModels):\n",
    "    model_name = 'SVM:Poly'\n",
    "    isdual = 0 \n",
    "            \n",
    "    def train(self,c,degree):\n",
    "        t1 = time.time()\n",
    "        clf = SVC(kernel='poly',C=c,degree=degree,probability=True)\n",
    "        clf.fit(self.X,self.Y)\n",
    "        prob_mat = clf.predict_proba(self.Xval)\n",
    "        \n",
    "        LinearModels.train_time = time.time()-t1\n",
    "        print(\"Training Time: \" + str(LinearModels.train_time))\n",
    "        return(prob_mat)\n",
    "    \n",
    "    def val_dist(self,val_mat):\n",
    "        res_list = []\n",
    "        for i in range(val_mat.shape[0]):\n",
    "            for ti in range(val_mat.shape[0]):\n",
    "                val_dist = val_mat[i,:] - val_mat[ti,:]\n",
    "                val_score = np.sqrt(np.sum(np.multiply(val_dist,val_dist)))\n",
    "                grd_truth =  int(self.Yval[i] == self.Yval[ti])\n",
    "                score_list = [i,ti,grd_truth,val_score]\n",
    "                res_list.append(score_list)\n",
    "        \n",
    "        res_df = pd.DataFrame(res_list,columns=['i','ti','truth','score'])\n",
    "        #return(res_df[res_df.i != res_df.ti])\n",
    "        return(val_mat)"
   ]
  },
  {
   "cell_type": "code",
   "execution_count": 4,
   "metadata": {},
   "outputs": [],
   "source": [
    "## Main\n",
    "\n",
    "# Prep Method\n",
    "def PCA_HC(prep_xs,c,s,num_eig):\n",
    "    M = c*s\n",
    "    X = prep_xs.T\n",
    "    ones_vec = np.ones([M,1])\n",
    "    u = (1/M * X).dot(ones_vec)\n",
    "    A = X - u.dot(ones_vec.T)\n",
    "    Z = A.dot(A.T)\n",
    "    W,V= np.linalg.eigh(Z)\n",
    "    return(V[:,-num_eig:].T,u)\n",
    "\n",
    "def RMmodel(X,order):\n",
    "    m,l = X.shape\n",
    "    M1 = []\n",
    "    M2 = []\n",
    "    M3 = []\n",
    "    MM1 = []\n",
    "    MM3 = []\n",
    "    Msum = np.sum(X,axis=1)\n",
    "    for i in range(order):\n",
    "        for k in range(l):\n",
    "            M1.append(X[:,k]**(i+1))\n",
    "            if (i>0):\n",
    "                M3.append(X[:,k]*Msum**(i)) \n",
    "        M2.append(Msum**(i+1))\n",
    "        MM1.append(M1)\n",
    "        if (i>0):\n",
    "            MM3.append(M3)\n",
    "    MM1 = np.array(MM1).T\n",
    "    MM1 = MM1.reshape((m,-1,1)).squeeze(axis=2)\n",
    "    M2 = np.array(M2).T\n",
    "    if (len(MM3)):\n",
    "        MM3 = np.array(MM3).T\n",
    "        MM3 = MM3.reshape((m,-1,1)).squeeze(axis=2)\n",
    "        P = np.concatenate((np.ones((m,1)),MM1,M2,MM3),axis=1)\n",
    "    else : P = np.concatenate((np.ones((m,1)),MM1,M2),axis=1)\n",
    "    return(P)\n"
   ]
  },
  {
   "cell_type": "code",
   "execution_count": 5,
   "metadata": {},
   "outputs": [],
   "source": [
    "\n",
    "PATH = \"D:\\\\Data\\\\WIFI\\\\180_100\\\\\"\n",
    "# save path\n",
    "res_path = 'D:\\\\Git\\\\MILab\\\\190522_Wisig_KAR\\\\res\\\\'\n",
    "\n",
    "\n",
    "col_df = (['timenow','host','model_type','rseed',\n",
    "'splits','n_val','fc_size','batch_size','n_iter','alpha','lr','eer','trn_time','params','desc'])\n",
    "\n",
    "\n",
    "res_df = pd.DataFrame()\n",
    "roc_df = pd.DataFrame()\n",
    "\n",
    "desc = 'mining_linear'\n",
    "\n",
    "types = [0]\n",
    "seeds = [10,20,30,40,50]"
   ]
  },
  {
   "cell_type": "code",
   "execution_count": 6,
   "metadata": {},
   "outputs": [
    {
     "name": "stdout",
     "output_type": "stream",
     "text": [
      "loading data from D:\\Data\\WIFI\\180_100\\\n"
     ]
    }
   ],
   "source": [
    "rseed=seeds[0]\n",
    "splits = 0\n",
    "np.random.seed(rseed)        \n",
    "n_splits = 2\n",
    "data_skf = ReadData(PATH,n_splits,rseed=rseed)"
   ]
  },
  {
   "cell_type": "code",
   "execution_count": 7,
   "metadata": {},
   "outputs": [],
   "source": [
    "data_list = data_skf[splits]"
   ]
  },
  {
   "cell_type": "code",
   "execution_count": 8,
   "metadata": {},
   "outputs": [],
   "source": [
    "                kar_x = np.squeeze(data_list[0]).reshape([-1,500*30*6])\n",
    "                kar_labels = [get_key(i,data_list[1]) for i in range(len(kar_x))]\n",
    "                kar_y = to_categorical(kar_labels)\n",
    "\n",
    "                kar_xval = np.squeeze(data_list[2]).reshape([-1,500*30*6])\n",
    "                kar_labels_val = [get_key(i,data_list[3]) for i in range(len(kar_xval))]\n",
    "                kar_yval = to_categorical(kar_labels_val)"
   ]
  },
  {
   "cell_type": "code",
   "execution_count": 9,
   "metadata": {},
   "outputs": [],
   "source": [
    "kar = KARnet([kar_x,kar_y,kar_xval,kar_yval],h=[1024,16],rseed=rseed)"
   ]
  },
  {
   "cell_type": "code",
   "execution_count": 10,
   "metadata": {},
   "outputs": [],
   "source": [
    "kar.train()"
   ]
  },
  {
   "cell_type": "code",
   "execution_count": 11,
   "metadata": {},
   "outputs": [],
   "source": [
    "        X_d,c_d,Xval_d,cval_d,Y_d,Yval_d = data_list"
   ]
  },
  {
   "cell_type": "code",
   "execution_count": 12,
   "metadata": {},
   "outputs": [],
   "source": [
    "    def dist_kar():\n",
    "        kar_x = np.squeeze(X_d).reshape([-1,500*30*6])\n",
    "        bias = np.ones([kar_x.shape[0],1])\n",
    "        x_calc = kar_x\n",
    "        #for i in range(len(self.kar.W)-1):\n",
    "        for i in range(len(kar.W)):\n",
    "            x_calc = 1*kar.f(np.hstack([bias,x_calc]).dot(kar.W[i]))\n",
    "        kar_fc = x_calc\n",
    "        return(kar_fc)"
   ]
  },
  {
   "cell_type": "code",
   "execution_count": 13,
   "metadata": {},
   "outputs": [],
   "source": [
    "kar_fc = dist_kar()"
   ]
  },
  {
   "cell_type": "code",
   "execution_count": 14,
   "metadata": {
    "scrolled": true
   },
   "outputs": [
    {
     "data": {
      "text/plain": [
       "(2000, 100)"
      ]
     },
     "execution_count": 14,
     "metadata": {},
     "output_type": "execute_result"
    }
   ],
   "source": [
    "kar_fc.shape"
   ]
  },
  {
   "cell_type": "code",
   "execution_count": 16,
   "metadata": {},
   "outputs": [
    {
     "data": {
      "text/plain": [
       "(2000, 1, 500, 30, 6)"
      ]
     },
     "execution_count": 16,
     "metadata": {},
     "output_type": "execute_result"
    }
   ],
   "source": [
    "X_d.shape"
   ]
  },
  {
   "cell_type": "code",
   "execution_count": 19,
   "metadata": {},
   "outputs": [],
   "source": [
    "X_dm = np.mean(X_d,axis=3).reshape([-1,500*6])\n",
    "Xval_dm = np.mean(Xval_d,axis=3).reshape([-1,500*6])"
   ]
  },
  {
   "cell_type": "code",
   "execution_count": 34,
   "metadata": {},
   "outputs": [
    {
     "ename": "TypeError",
     "evalue": "train() missing 1 required positional argument: 'c'",
     "output_type": "error",
     "traceback": [
      "\u001b[1;31m---------------------------------------------------------------------------\u001b[0m",
      "\u001b[1;31mTypeError\u001b[0m                                 Traceback (most recent call last)",
      "\u001b[1;32m<ipython-input-34-93a0edbb4137>\u001b[0m in \u001b[0;36m<module>\u001b[1;34m()\u001b[0m\n\u001b[0;32m      1\u001b[0m \u001b[1;31m#SVM Linear\u001b[0m\u001b[1;33m\u001b[0m\u001b[1;33m\u001b[0m\u001b[0m\n\u001b[0;32m      2\u001b[0m \u001b[0mm_svml\u001b[0m \u001b[1;33m=\u001b[0m \u001b[0mSVMlinear\u001b[0m\u001b[1;33m(\u001b[0m\u001b[1;33m[\u001b[0m\u001b[0mX_dm\u001b[0m\u001b[1;33m,\u001b[0m\u001b[0mY_d\u001b[0m\u001b[1;33m,\u001b[0m\u001b[0mXval_dm\u001b[0m\u001b[1;33m,\u001b[0m\u001b[0mYval_d\u001b[0m\u001b[1;33m]\u001b[0m\u001b[1;33m)\u001b[0m\u001b[1;33m\u001b[0m\u001b[0m\n\u001b[1;32m----> 3\u001b[1;33m \u001b[0mdist_svml\u001b[0m \u001b[1;33m=\u001b[0m \u001b[0mm_svml\u001b[0m\u001b[1;33m.\u001b[0m\u001b[0mval_dist\u001b[0m\u001b[1;33m(\u001b[0m\u001b[0mm_svml\u001b[0m\u001b[1;33m.\u001b[0m\u001b[0mtrain\u001b[0m\u001b[1;33m(\u001b[0m\u001b[1;33m)\u001b[0m\u001b[1;33m)\u001b[0m\u001b[1;33m\u001b[0m\u001b[0m\n\u001b[0m",
      "\u001b[1;31mTypeError\u001b[0m: train() missing 1 required positional argument: 'c'"
     ]
    }
   ],
   "source": [
    "            #SVM Linear\n",
    "            m_svml = SVMlinear([X_dm,Y_d,Xval_dm,Yval_d])\n",
    "            dist_svml = m_svml.val_dist(m_svml.train()) "
   ]
  },
  {
   "cell_type": "code",
   "execution_count": 32,
   "metadata": {},
   "outputs": [
    {
     "data": {
      "text/plain": [
       "(2000, 100)"
      ]
     },
     "execution_count": 32,
     "metadata": {},
     "output_type": "execute_result"
    }
   ],
   "source": [
    "dist_svml.shape"
   ]
  },
  {
   "cell_type": "code",
   "execution_count": 33,
   "metadata": {},
   "outputs": [
    {
     "data": {
      "text/plain": [
       "(2000, 100)"
      ]
     },
     "execution_count": 33,
     "metadata": {},
     "output_type": "execute_result"
    }
   ],
   "source": [
    "kar_fc.shape"
   ]
  },
  {
   "cell_type": "code",
   "execution_count": null,
   "metadata": {},
   "outputs": [],
   "source": []
  }
 ],
 "metadata": {
  "kernelspec": {
   "display_name": "Python 3",
   "language": "python",
   "name": "python3"
  },
  "language_info": {
   "codemirror_mode": {
    "name": "ipython",
    "version": 3
   },
   "file_extension": ".py",
   "mimetype": "text/x-python",
   "name": "python",
   "nbconvert_exporter": "python",
   "pygments_lexer": "ipython3",
   "version": "3.6.5"
  }
 },
 "nbformat": 4,
 "nbformat_minor": 2
}
