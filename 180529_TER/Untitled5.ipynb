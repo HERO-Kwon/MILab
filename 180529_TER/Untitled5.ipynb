{
 "cells": [
  {
   "cell_type": "code",
   "execution_count": 1,
   "metadata": {},
   "outputs": [],
   "source": [
    "##########################################\n",
    "## Made by : HERO Kwon\n",
    "## Title : TER\n",
    "## Version : v0\n",
    "## Date : 2018.05.29.\n",
    "## Description : TER-RM Algorithm\n",
    "##########################################\n",
    "\n",
    "\n",
    "# Main\n",
    "\n",
    "# packages\n",
    "\n",
    "import numpy as np\n",
    "import pandas as pd\n",
    "import scipy as sp\n",
    "import os\n",
    "import re\n",
    "import imageio\n",
    "from matplotlib import pyplot as plt\n",
    "from sklearn.model_selection import train_test_split\n",
    "import random\n",
    "from sklearn.metrics import confusion_matrix\n",
    "import time\n",
    "\n",
    "from sklearn.datasets import load_iris\n",
    " \n",
    "data = load_iris()\n",
    "data_v = data['data']\n",
    "data_l = data['target']\n",
    "\n",
    "data_train = np.array([]).reshape(0,4)\n",
    "data_test = np.array([]).reshape(0,4)\n",
    "label_train = np.array([])\n",
    "label_test = np.array([])\n",
    "\n",
    "for target in list(set(data['target'])):\n",
    "    v_train, v_test = train_test_split(data_v[data_l==target],test_size = 0.5)\n",
    "    l_train = np.full(shape=len(v_train),fill_value=target)\n",
    "    l_test = np.full(shape=len(v_test),fill_value=target)\n",
    "    data_train = np.concatenate((data_train,v_train))\n",
    "    data_test = np.concatenate((data_test,v_test))\n",
    "    label_train = np.concatenate((label_train,l_train))\n",
    "    label_test = np.concatenate((label_test,l_test))\n",
    "\n",
    "## TER Algorithm\n",
    "# Basis : RM2\n",
    "def RMmodel(order,X):\n",
    "    m,l = X.shape\n",
    "    \n",
    "    M1 = []\n",
    "    M2 = []\n",
    "    M3 = []\n",
    "    MM1 = []\n",
    "    MM3 = []\n",
    "\n",
    "    Msum = np.sum(X,axis=1)\n",
    "\n",
    "    for i in range(order):\n",
    "        for k in range(l):\n",
    "            M1.append(X[:,k]**(i+1))\n",
    "            if (i>0):\n",
    "                M3.append(X[:,k]*Msum**(i)) \n",
    "        M2.append(Msum**(i+1))\n",
    "        MM1.append(M1)\n",
    "        if (i>0):\n",
    "            MM3.append(M3)\n",
    "\n",
    "    MM1 = np.array(MM1).T\n",
    "    MM1 = MM1.reshape((m,-1,1)).squeeze(axis=2)\n",
    "    M2 = np.array(M2).T\n",
    "    if (len(MM3)):\n",
    "        MM3 = np.array(MM3).T\n",
    "        MM3 = MM3.reshape((m,-1,1)).squeeze(axis=2)\n",
    "        P = np.concatenate((np.ones((m,1)),MM1,M2,MM3),axis=1)\n",
    "    else : P = np.concatenate((np.ones((m,1)),MM1,M2),axis=1)\n",
    "\n",
    "    return(P)\n",
    "\n",
    "def TERmodel(rank,r,n,X,Y):\n",
    "    alpha = []\n",
    "    for k in list(set(Y)):\n",
    "\n",
    "        P_n = RMmodel(rank,X[Y!=k])\n",
    "        P_p = RMmodel(rank,X[Y==k])\n",
    "\n",
    "        mk_n = X[Y!=k].shape[0]\n",
    "        mk_p = X[Y==k].shape[0]\n",
    "\n",
    "        yk_n = (r-n) * np.ones(shape=Y[Y!=k].shape)\n",
    "        yk_p = (r+n) * np.ones(shape=Y[Y==k].shape)\n",
    "\n",
    "        I = np.eye(P_n.shape[1])\n",
    "        b = 10**(-4)\n",
    "\n",
    "        first_eq = np.linalg.pinv(b*I + (1/mk_n)*(P_n.T).dot(P_n) + (1/mk_p)*(P_p.T).dot(P_p))\n",
    "        second_eq = (1/mk_n)*(P_n.T).dot(yk_n) + (1/mk_p)*(P_p.T).dot(yk_p)\n",
    "        ak = np.dot(first_eq,second_eq)\n",
    "\n",
    "        alpha.append(ak)\n",
    "    return(np.array(alpha).T)\n",
    "\n",
    "def TERmodel_new(rank,r,n,X,Y):\n",
    "    alpha = []\n",
    "    for k in list(set(Y)):\n",
    "        P = RMmodel(rank,X)\n",
    "        mk_n = X[Y!=k].shape[0]\n",
    "        mk_p = X[Y==k].shape[0]\n",
    "\n",
    "        w_n = 1/mk_n\n",
    "        w_p = 1/mk_p\n",
    "\n",
    "        ones_mkn = np.ones(mk_n)*w_n\n",
    "        ones_mkp = np.ones(mk_p)*w_p\n",
    "\n",
    "        W = np.zeros((len(Y), len(Y)), float)\n",
    "        np.fill_diagonal(W,np.concatenate((ones_mkn,ones_mkp)))\n",
    "        yk = np.concatenate(((r-n)*ones_mkn,(r+n)*ones_mkp)).T\n",
    "        ak = np.linalg.pinv((P.T).dot(W).dot(P)).dot(P.T).dot(W).dot(yk)\n",
    "\n",
    "        alpha.append(ak)\n",
    "    return(np.array(alpha).T)\n",
    "\n"
   ]
  },
  {
   "cell_type": "code",
   "execution_count": 2,
   "metadata": {},
   "outputs": [],
   "source": [
    "\n",
    "rank_acc = pd.DataFrame()\n",
    "\n",
    "alpha = TERmodel_new(6,0.5,0.5,data_train,label_train)\n",
    "\n",
    "P_t = RMmodel(6,data_test)\n",
    "yt = P_t.dot(alpha)\n",
    "yt1 = np.argmax(yt,axis=1)\n",
    "# plt.plot(yt1)\n",
    "\n",
    "pred_true = np.equal(label_test,yt1)\n",
    "acc = np.count_nonzero(pred_true) / len(pred_true)"
   ]
  },
  {
   "cell_type": "code",
   "execution_count": 3,
   "metadata": {},
   "outputs": [
    {
     "data": {
      "text/plain": [
       "0.3333333333333333"
      ]
     },
     "execution_count": 3,
     "metadata": {},
     "output_type": "execute_result"
    }
   ],
   "source": [
    "acc"
   ]
  },
  {
   "cell_type": "code",
   "execution_count": 4,
   "metadata": {},
   "outputs": [
    {
     "ename": "NameError",
     "evalue": "name 'X' is not defined",
     "output_type": "error",
     "traceback": [
      "\u001b[1;31m---------------------------------------------------------------------------\u001b[0m",
      "\u001b[1;31mNameError\u001b[0m                                 Traceback (most recent call last)",
      "\u001b[1;32m<ipython-input-4-bc5f1a0adac8>\u001b[0m in \u001b[0;36m<module>\u001b[1;34m()\u001b[0m\n\u001b[1;32m----> 1\u001b[1;33m \u001b[0mX\u001b[0m\u001b[1;33m.\u001b[0m\u001b[0mshape\u001b[0m\u001b[1;33m\u001b[0m\u001b[0m\n\u001b[0m",
      "\u001b[1;31mNameError\u001b[0m: name 'X' is not defined"
     ]
    }
   ],
   "source": [
    "X.shape"
   ]
  },
  {
   "cell_type": "code",
   "execution_count": 5,
   "metadata": {},
   "outputs": [],
   "source": [
    "rank,r,n,X,Y = 6,0.5,0.5,data_train,label_train"
   ]
  },
  {
   "cell_type": "code",
   "execution_count": 6,
   "metadata": {},
   "outputs": [
    {
     "data": {
      "text/plain": [
       "(75, 4)"
      ]
     },
     "execution_count": 6,
     "metadata": {},
     "output_type": "execute_result"
    }
   ],
   "source": [
    "X.shape"
   ]
  },
  {
   "cell_type": "code",
   "execution_count": 30,
   "metadata": {},
   "outputs": [],
   "source": [
    "    for k in list(set(Y)):\n",
    "        P = RMmodel(rank,X)\n",
    "        mk_n = X[Y!=k].shape[0]\n",
    "        mk_p = X[Y==k].shape[0]\n",
    "\n",
    "        w_n = 1/mk_n\n",
    "        w_p = 1/mk_p\n",
    "\n",
    "        ones_mkn = 1*(Y!=k)*w_n\n",
    "        ones_mkp = 1*(Y==k)*w_p\n",
    "\n",
    "        W = np.zeros((len(Y), len(Y)), float)\n",
    "        np.fill_diagonal(W,ones_mkn+ones_mkp)\n",
    "        yk = ((r-n)*ones_mkn+(r+n)*ones_mkp).T\n",
    "        ak = np.linalg.pinv((P.T).dot(W).dot(P)).dot(P.T).dot(W).dot(yk)"
   ]
  },
  {
   "cell_type": "code",
   "execution_count": 25,
   "metadata": {},
   "outputs": [],
   "source": [
    "ones_mkn = np.ones(mk_n)*w_n"
   ]
  },
  {
   "cell_type": "code",
   "execution_count": 26,
   "metadata": {},
   "outputs": [
    {
     "data": {
      "text/plain": [
       "(50,)"
      ]
     },
     "execution_count": 26,
     "metadata": {},
     "output_type": "execute_result"
    }
   ],
   "source": [
    "ones_mkn.shape"
   ]
  },
  {
   "cell_type": "code",
   "execution_count": 28,
   "metadata": {},
   "outputs": [
    {
     "data": {
      "text/plain": [
       "(75,)"
      ]
     },
     "execution_count": 28,
     "metadata": {},
     "output_type": "execute_result"
    }
   ],
   "source": [
    "ones_mkn.shape"
   ]
  },
  {
   "cell_type": "code",
   "execution_count": 29,
   "metadata": {},
   "outputs": [
    {
     "data": {
      "text/plain": [
       "75"
      ]
     },
     "execution_count": 29,
     "metadata": {},
     "output_type": "execute_result"
    }
   ],
   "source": [
    "len(Y)"
   ]
  },
  {
   "cell_type": "code",
   "execution_count": 31,
   "metadata": {},
   "outputs": [],
   "source": [
    "def TERmodel_new(rank,r,n,X,Y):\n",
    "    alpha = []\n",
    "    for k in list(set(Y)):\n",
    "        P = RMmodel(rank,X)\n",
    "        mk_n = X[Y!=k].shape[0]\n",
    "        mk_p = X[Y==k].shape[0]\n",
    "\n",
    "        w_n = 1/mk_n\n",
    "        w_p = 1/mk_p\n",
    "\n",
    "        ones_mkn = 1*(Y!=k)*w_n\n",
    "        ones_mkp = 1*(Y==k)*w_p\n",
    "\n",
    "        W = np.zeros((len(Y), len(Y)), float)\n",
    "        np.fill_diagonal(W,ones_mkn+ones_mkp)\n",
    "        yk = ((r-n)*ones_mkn+(r+n)*ones_mkp).T\n",
    "        ak = np.linalg.pinv((P.T).dot(W).dot(P)).dot(P.T).dot(W).dot(yk)\n",
    "\n",
    "        alpha.append(ak)\n",
    "    return(np.array(alpha).T)\n",
    "\n",
    "\n",
    "rank_acc = pd.DataFrame()\n",
    "\n",
    "alpha = TERmodel_new(6,0.5,0.5,data_train,label_train)\n",
    "\n",
    "P_t = RMmodel(6,data_test)\n",
    "yt = P_t.dot(alpha)\n",
    "yt1 = np.argmax(yt,axis=1)\n",
    "# plt.plot(yt1)\n",
    "\n",
    "pred_true = np.equal(label_test,yt1)\n",
    "acc = np.count_nonzero(pred_true) / len(pred_true)"
   ]
  },
  {
   "cell_type": "code",
   "execution_count": 32,
   "metadata": {},
   "outputs": [
    {
     "data": {
      "text/plain": [
       "0.9333333333333333"
      ]
     },
     "execution_count": 32,
     "metadata": {},
     "output_type": "execute_result"
    }
   ],
   "source": [
    "acc"
   ]
  },
  {
   "cell_type": "code",
   "execution_count": 33,
   "metadata": {},
   "outputs": [
    {
     "data": {
      "text/plain": [
       "array([0, 0, 0, 0, 0, 0, 0, 0, 0, 0, 0, 0, 0, 0, 0, 0, 0, 0, 0, 0, 0, 0,\n",
       "       0, 0, 0, 1, 1, 1, 1, 1, 1, 1, 1, 1, 1, 1, 1, 1, 1, 1, 1, 1, 1, 1,\n",
       "       1, 2, 1, 1, 1, 1, 1, 2, 2, 2, 2, 2, 2, 2, 2, 2, 2, 1, 2, 2, 2, 2,\n",
       "       2, 1, 2, 1, 2, 2, 2, 2, 2], dtype=int64)"
      ]
     },
     "execution_count": 33,
     "metadata": {},
     "output_type": "execute_result"
    }
   ],
   "source": [
    "yt1"
   ]
  },
  {
   "cell_type": "code",
   "execution_count": null,
   "metadata": {},
   "outputs": [],
   "source": []
  }
 ],
 "metadata": {
  "kernelspec": {
   "display_name": "Python 3",
   "language": "python",
   "name": "python3"
  },
  "language_info": {
   "codemirror_mode": {
    "name": "ipython",
    "version": 3
   },
   "file_extension": ".py",
   "mimetype": "text/x-python",
   "name": "python",
   "nbconvert_exporter": "python",
   "pygments_lexer": "ipython3",
   "version": "3.6.4"
  }
 },
 "nbformat": 4,
 "nbformat_minor": 2
}
