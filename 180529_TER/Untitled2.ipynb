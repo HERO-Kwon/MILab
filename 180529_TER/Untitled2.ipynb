{
 "cells": [
  {
   "cell_type": "code",
   "execution_count": null,
   "metadata": {},
   "outputs": [],
   "source": [
    "# Main\n",
    "\n",
    "# packages\n",
    "\n",
    "import numpy as np\n",
    "import pandas as pd\n",
    "import scipy as sp\n",
    "import os\n",
    "import re\n",
    "import imageio\n",
    "from matplotlib import pyplot as plt\n",
    "from sklearn.model_selection import train_test_split\n",
    "import random\n",
    "from sklearn.metrics import confusion_matrix\n",
    "import time\n",
    "\n",
    "from sklearn.datasets import load_iris\n",
    " \n",
    "data = load_iris()\n",
    "data_v = data['data']\n",
    "data_l = data['target']\n",
    "\n",
    "data_train = np.array([]).reshape(0,4)\n",
    "data_test = np.array([]).reshape(0,4)\n",
    "label_train = np.array([])\n",
    "label_test = np.array([])\n",
    "\n",
    "for target in list(set(data['target'])):\n",
    "    v_train, v_test = train_test_split(data_v[data_l==target],test_size = 0.5)\n",
    "    l_train = np.full(shape=len(v_train),fill_value=target)\n",
    "    l_test = np.full(shape=len(v_test),fill_value=target)\n",
    "    data_train = np.concatenate((data_train,v_train))\n",
    "    data_test = np.concatenate((data_train,v_test))\n",
    "    label_train = np.concatenate((label_train,l_train))\n",
    "    label_test = np.concatenate((label_test,l_test))"
   ]
  },
  {
   "cell_type": "code",
   "execution_count": null,
   "metadata": {},
   "outputs": [],
   "source": [
    "X = data_train"
   ]
  },
  {
   "cell_type": "code",
   "execution_count": null,
   "metadata": {},
   "outputs": [],
   "source": [
    "order = 2"
   ]
  },
  {
   "cell_type": "code",
   "execution_count": null,
   "metadata": {},
   "outputs": [],
   "source": [
    "    m,l = X.shape\n",
    "    \n",
    "    M1 = []\n",
    "    M2 = []\n",
    "    M3 = []\n",
    "    MM1 = []\n",
    "    MM3 = []\n",
    "\n",
    "    Msum = np.sum(X,axis=1)\n",
    "\n",
    "    for i in range(order):\n",
    "        for k in range(l):\n",
    "            M1.append(X[:,k]**(i+1))\n",
    "            if (i>0):\n",
    "                M3.append(X[:,k]*Msum**(i)) \n",
    "        M2.append(Msum**(i+1))\n",
    "        MM1.append(M1)\n",
    "        if (i>0):\n",
    "            MM3.append(M3)"
   ]
  },
  {
   "cell_type": "code",
   "execution_count": null,
   "metadata": {},
   "outputs": [],
   "source": [
    "a = np.array(MM1).T"
   ]
  },
  {
   "cell_type": "code",
   "execution_count": null,
   "metadata": {},
   "outputs": [],
   "source": [
    "a.shape"
   ]
  },
  {
   "cell_type": "code",
   "execution_count": null,
   "metadata": {},
   "outputs": [],
   "source": [
    "a1 = a.reshape((75,-1,1))"
   ]
  },
  {
   "cell_type": "code",
   "execution_count": null,
   "metadata": {},
   "outputs": [],
   "source": [
    "a1.shape"
   ]
  },
  {
   "cell_type": "code",
   "execution_count": null,
   "metadata": {},
   "outputs": [],
   "source": [
    "a2 = a1.squeeze(axis=2)"
   ]
  },
  {
   "cell_type": "code",
   "execution_count": null,
   "metadata": {},
   "outputs": [],
   "source": [
    "a2.shape"
   ]
  },
  {
   "cell_type": "code",
   "execution_count": null,
   "metadata": {},
   "outputs": [],
   "source": [
    "MM1 = np.array(MM1).T\n",
    "MM1 = MM1.reshape((75,-1,1)).squeeze(axis=2)"
   ]
  },
  {
   "cell_type": "code",
   "execution_count": null,
   "metadata": {},
   "outputs": [],
   "source": [
    "MM1.shape"
   ]
  },
  {
   "cell_type": "code",
   "execution_count": null,
   "metadata": {},
   "outputs": [],
   "source": [
    "a = np.array(MM3).T"
   ]
  },
  {
   "cell_type": "code",
   "execution_count": null,
   "metadata": {},
   "outputs": [],
   "source": [
    "m"
   ]
  },
  {
   "cell_type": "code",
   "execution_count": null,
   "metadata": {},
   "outputs": [],
   "source": [
    "l"
   ]
  },
  {
   "cell_type": "code",
   "execution_count": null,
   "metadata": {},
   "outputs": [],
   "source": [
    "a.shape"
   ]
  },
  {
   "cell_type": "code",
   "execution_count": null,
   "metadata": {},
   "outputs": [],
   "source": [
    "MM3 = np.array(MM3).T.squeeze(axis=2)"
   ]
  },
  {
   "cell_type": "code",
   "execution_count": null,
   "metadata": {},
   "outputs": [],
   "source": [
    "a = np.array(M2).T"
   ]
  },
  {
   "cell_type": "code",
   "execution_count": null,
   "metadata": {},
   "outputs": [],
   "source": [
    "a.shape"
   ]
  },
  {
   "cell_type": "code",
   "execution_count": null,
   "metadata": {},
   "outputs": [],
   "source": [
    "a = np.concatenate((np.ones((m,1)),MM1,M2,MM3),axis=1)"
   ]
  },
  {
   "cell_type": "code",
   "execution_count": null,
   "metadata": {},
   "outputs": [],
   "source": [
    "M2.shape"
   ]
  },
  {
   "cell_type": "code",
   "execution_count": null,
   "metadata": {},
   "outputs": [],
   "source": [
    "MM3.shape"
   ]
  },
  {
   "cell_type": "code",
   "execution_count": null,
   "metadata": {},
   "outputs": [],
   "source": [
    "a.shape"
   ]
  },
  {
   "cell_type": "code",
   "execution_count": null,
   "metadata": {},
   "outputs": [],
   "source": [
    "np.ones(m)"
   ]
  },
  {
   "cell_type": "code",
   "execution_count": null,
   "metadata": {},
   "outputs": [],
   "source": [
    "M2 = np.array(M2).T"
   ]
  },
  {
   "cell_type": "code",
   "execution_count": null,
   "metadata": {},
   "outputs": [],
   "source": [
    "M2.shape"
   ]
  },
  {
   "cell_type": "code",
   "execution_count": null,
   "metadata": {},
   "outputs": [],
   "source": [
    "    m,l = X.shape\n",
    "    \n",
    "    M1 = []\n",
    "    M2 = []\n",
    "    M3 = []\n",
    "    MM1 = []\n",
    "    MM3 = []\n",
    "\n",
    "    Msum = np.sum(X,axis=1)\n",
    "\n",
    "    for i in range(order):\n",
    "        for k in range(l):\n",
    "            M1.append(X[:,k]**(i+1))\n",
    "            if (i>0):\n",
    "                M3.append(X[:,k]*Msum**(i)) \n",
    "        M2.append(Msum**(i+1))\n",
    "        MM1.append(M1)\n",
    "        if (i>0):\n",
    "            MM3.append(M3)\n",
    "\n",
    "    MM1 = np.array(MM1).T\n",
    "    MM1 = MM1.reshape((m,-1,1)).squeeze(axis=2)\n",
    "    MM3 = np.array(MM3).T.squeeze(axis=2)\n",
    "    M2 = np.array(M2).T\n",
    "\n",
    "    P = np.concatenate((np.ones((m,1)),MM1,M2,MM3),axis=1)\n"
   ]
  },
  {
   "cell_type": "code",
   "execution_count": null,
   "metadata": {},
   "outputs": [],
   "source": [
    "P.shape"
   ]
  },
  {
   "cell_type": "code",
   "execution_count": null,
   "metadata": {},
   "outputs": [],
   "source": [
    "order = 1"
   ]
  },
  {
   "cell_type": "code",
   "execution_count": null,
   "metadata": {},
   "outputs": [],
   "source": [
    "    m,l = X.shape\n",
    "    \n",
    "    M1 = []\n",
    "    M2 = []\n",
    "    M3 = []\n",
    "    MM1 = []\n",
    "    MM3 = []\n",
    "\n",
    "    Msum = np.sum(X,axis=1)\n",
    "\n",
    "    for i in range(order):\n",
    "        for k in range(l):\n",
    "            M1.append(X[:,k]**(i+1))\n",
    "            if (i>0):\n",
    "                M3.append(X[:,k]*Msum**(i)) \n",
    "        M2.append(Msum**(i+1))\n",
    "        MM1.append(M1)\n",
    "        if (i>0):\n",
    "            MM3.append(M3)\n",
    "\n",
    "    MM1 = np.array(MM1).T\n",
    "    MM1 = MM1.reshape((m,-1,1)).squeeze(axis=2)\n",
    "    MM3 = np.array(MM3).T.squeeze(axis=2)\n",
    "    M2 = np.array(M2).T\n",
    "\n",
    "    P = np.concatenate((np.ones((m,1)),MM1,M2,MM3),axis=1)\n"
   ]
  },
  {
   "cell_type": "code",
   "execution_count": null,
   "metadata": {},
   "outputs": [],
   "source": [
    "MM3.shape"
   ]
  },
  {
   "cell_type": "code",
   "execution_count": null,
   "metadata": {},
   "outputs": [],
   "source": [
    "MM3 = np.array(MM3).T.shape"
   ]
  },
  {
   "cell_type": "code",
   "execution_count": null,
   "metadata": {},
   "outputs": [],
   "source": [
    "    m,l = X.shape\n",
    "    \n",
    "    M1 = []\n",
    "    M2 = []\n",
    "    M3 = []\n",
    "    MM1 = []\n",
    "    MM3 = []\n",
    "\n",
    "    Msum = np.sum(X,axis=1)\n",
    "\n",
    "    for i in range(order):\n",
    "        for k in range(l):\n",
    "            M1.append(X[:,k]**(i+1))\n",
    "            if (i>0):\n",
    "                M3.append(X[:,k]*Msum**(i)) \n",
    "        M2.append(Msum**(i+1))\n",
    "        MM1.append(M1)\n",
    "        if (i>0):\n",
    "            MM3.append(M3)\n",
    "\n",
    "    MM1 = np.array(MM1).T\n",
    "    MM1 = MM1.reshape((m,-1,1)).squeeze(axis=2)\n",
    "    MM3 = np.array(MM3).T.squeeze(axis=2)\n",
    "    M2 = np.array(M2).T\n",
    "\n",
    "    P = np.concatenate((np.ones((m,1)),MM1,M2,MM3),axis=1)\n"
   ]
  },
  {
   "cell_type": "code",
   "execution_count": null,
   "metadata": {},
   "outputs": [],
   "source": [
    "np.array(MM3).T"
   ]
  },
  {
   "cell_type": "code",
   "execution_count": null,
   "metadata": {},
   "outputs": [],
   "source": [
    "MM3"
   ]
  },
  {
   "cell_type": "code",
   "execution_count": null,
   "metadata": {},
   "outputs": [],
   "source": [
    "np.array(MM3)"
   ]
  },
  {
   "cell_type": "code",
   "execution_count": null,
   "metadata": {},
   "outputs": [],
   "source": [
    "P = np.concatenate((np.ones((m,1)),MM1,M2,MM3),axis=1)"
   ]
  },
  {
   "cell_type": "code",
   "execution_count": null,
   "metadata": {},
   "outputs": [],
   "source": [
    "len(MM3)"
   ]
  },
  {
   "cell_type": "code",
   "execution_count": null,
   "metadata": {},
   "outputs": [],
   "source": [
    "MM3"
   ]
  },
  {
   "cell_type": "code",
   "execution_count": null,
   "metadata": {},
   "outputs": [],
   "source": [
    "if(len(MM1)):\n",
    "    print(1)"
   ]
  },
  {
   "cell_type": "code",
   "execution_count": null,
   "metadata": {},
   "outputs": [],
   "source": [
    "M2"
   ]
  },
  {
   "cell_type": "code",
   "execution_count": null,
   "metadata": {},
   "outputs": [],
   "source": [
    "    m,l = X.shape\n",
    "    \n",
    "    M1 = []\n",
    "    M2 = []\n",
    "    M3 = []\n",
    "    MM1 = []\n",
    "    MM3 = []\n",
    "\n",
    "    Msum = np.sum(X,axis=1)\n",
    "\n",
    "    for i in range(order):\n",
    "        for k in range(l):\n",
    "            M1.append(X[:,k]**(i+1))\n",
    "            if (i>0):\n",
    "                M3.append(X[:,k]*Msum**(i)) \n",
    "        M2.append(Msum**(i+1))\n",
    "        MM1.append(M1)\n",
    "        if (i>0):\n",
    "            MM3.append(M3)\n",
    "\n",
    "    MM1 = np.array(MM1).T\n",
    "    MM1 = MM1.reshape((m,-1,1)).squeeze(axis=2)\n",
    "    M2 = np.array(M2).T\n",
    "    if (len(MM3)):\n",
    "        MM3 = np.array(MM3).T.squeeze(axis=2)\n",
    "        P = np.concatenate((np.ones((m,1)),MM1,M2,MM3),axis=1)\n",
    "    else : P = np.concatenate((np.ones((m,1)),MM1,M2),axis=1)"
   ]
  },
  {
   "cell_type": "code",
   "execution_count": null,
   "metadata": {},
   "outputs": [],
   "source": [
    "order =3"
   ]
  },
  {
   "cell_type": "code",
   "execution_count": null,
   "metadata": {},
   "outputs": [],
   "source": [
    "    m,l = X.shape\n",
    "    \n",
    "    M1 = []\n",
    "    M2 = []\n",
    "    M3 = []\n",
    "    MM1 = []\n",
    "    MM3 = []\n",
    "\n",
    "    Msum = np.sum(X,axis=1)\n",
    "\n",
    "    for i in range(order):\n",
    "        for k in range(l):\n",
    "            M1.append(X[:,k]**(i+1))\n",
    "            if (i>0):\n",
    "                M3.append(X[:,k]*Msum**(i)) \n",
    "        M2.append(Msum**(i+1))\n",
    "        MM1.append(M1)\n",
    "        if (i>0):\n",
    "            MM3.append(M3)\n",
    "\n",
    "    MM1 = np.array(MM1).T\n",
    "    MM1 = MM1.reshape((m,-1,1)).squeeze(axis=2)\n",
    "    M2 = np.array(M2).T\n",
    "    if (len(MM3)):\n",
    "        MM3 = np.array(MM3).T.squeeze(axis=2)\n",
    "        P = np.concatenate((np.ones((m,1)),MM1,M2,MM3),axis=1)\n",
    "    else : P = np.concatenate((np.ones((m,1)),MM1,M2),axis=1)"
   ]
  },
  {
   "cell_type": "code",
   "execution_count": null,
   "metadata": {},
   "outputs": [],
   "source": [
    "np.array(MM3).T.shape"
   ]
  },
  {
   "cell_type": "code",
   "execution_count": null,
   "metadata": {},
   "outputs": [],
   "source": [
    "    m,l = X.shape\n",
    "    \n",
    "    M1 = []\n",
    "    M2 = []\n",
    "    M3 = []\n",
    "    MM1 = []\n",
    "    MM3 = []\n",
    "\n",
    "    Msum = np.sum(X,axis=1)\n",
    "\n",
    "    for i in range(order):\n",
    "        for k in range(l):\n",
    "            M1.append(X[:,k]**(i+1))\n",
    "            if (i>0):\n",
    "                M3.append(X[:,k]*Msum**(i)) \n",
    "        M2.append(Msum**(i+1))\n",
    "        MM1.append(M1)\n",
    "        if (i>0):\n",
    "            MM3.append(M3)\n",
    "\n",
    "    MM1 = np.array(MM1).T\n",
    "    MM1 = MM1.reshape((m,-1,1)).squeeze(axis=2)\n",
    "    M2 = np.array(M2).T\n",
    "    if (len(MM3)):\n",
    "        MM3 = np.array(MM3).T\n",
    "        MM3 = MM3.reshape((m,-1,1)).squeeze(axis=2)\n",
    "        P = np.concatenate((np.ones((m,1)),MM1,M2,MM3),axis=1)\n",
    "    else : P = np.concatenate((np.ones((m,1)),MM1,M2),axis=1)"
   ]
  },
  {
   "cell_type": "code",
   "execution_count": null,
   "metadata": {},
   "outputs": [],
   "source": [
    "def RMmodel(order,X):\n",
    "    #order = 2\n",
    "    m,l = X.shape\n",
    "    \n",
    "    M1 = []\n",
    "    M2 = []\n",
    "    M3 = []\n",
    "    MM1 = []\n",
    "    MM3 = []\n",
    "\n",
    "    Msum = np.sum(X,axis=1)\n",
    "\n",
    "    for i in range(order):\n",
    "        for k in range(l):\n",
    "            M1.append(X[:,k]**(i+1))\n",
    "            if (i>0):\n",
    "                M3.append(X[:,k]*Msum**(i)) \n",
    "        M2.append(Msum**(i+1))\n",
    "        MM1.append(M1)\n",
    "        if (i>0):\n",
    "            MM3.append(M3)\n",
    "\n",
    "    MM1 = np.array(MM1).T\n",
    "    MM1 = MM1.reshape((m,-1,1)).squeeze(axis=2)\n",
    "    M2 = np.array(M2).T\n",
    "    if (len(MM3)):\n",
    "        MM3 = np.array(MM3).T\n",
    "        MM3 = MM3.reshape((m,-1,1)).squeeze(axis=2)\n",
    "        P = np.concatenate((np.ones((m,1)),MM1,M2,MM3),axis=1)\n",
    "    else : P = np.concatenate((np.ones((m,1)),MM1,M2),axis=1)\n",
    "\n",
    "    return(P)"
   ]
  },
  {
   "cell_type": "code",
   "execution_count": null,
   "metadata": {},
   "outputs": [],
   "source": [
    "P = RMmodel(6,data_train)"
   ]
  },
  {
   "cell_type": "code",
   "execution_count": null,
   "metadata": {},
   "outputs": [],
   "source": [
    "I = np.eye(shape=P.T*P)"
   ]
  },
  {
   "cell_type": "code",
   "execution_count": null,
   "metadata": {},
   "outputs": [],
   "source": [
    "P.T.dot(P).shape"
   ]
  },
  {
   "cell_type": "code",
   "execution_count": null,
   "metadata": {},
   "outputs": [],
   "source": [
    "I = np.eye(P.shape[1])"
   ]
  },
  {
   "cell_type": "code",
   "execution_count": null,
   "metadata": {},
   "outputs": [],
   "source": [
    "I.shape"
   ]
  },
  {
   "cell_type": "code",
   "execution_count": null,
   "metadata": {},
   "outputs": [],
   "source": [
    "P.shape"
   ]
  },
  {
   "cell_type": "code",
   "execution_count": null,
   "metadata": {},
   "outputs": [],
   "source": [
    "b = 10**(-4)"
   ]
  },
  {
   "cell_type": "code",
   "execution_count": null,
   "metadata": {},
   "outputs": [],
   "source": [
    "alpha = np.linalg.pinv((P.T).dot(P)+b*I).dot(P.T).dot(label_train)"
   ]
  },
  {
   "cell_type": "code",
   "execution_count": null,
   "metadata": {},
   "outputs": [],
   "source": [
    "alpha.shape"
   ]
  },
  {
   "cell_type": "code",
   "execution_count": null,
   "metadata": {},
   "outputs": [],
   "source": [
    "label_train.shape"
   ]
  },
  {
   "cell_type": "code",
   "execution_count": null,
   "metadata": {},
   "outputs": [],
   "source": [
    "y_train = P.dot(alpha)"
   ]
  },
  {
   "cell_type": "code",
   "execution_count": null,
   "metadata": {},
   "outputs": [],
   "source": [
    "y_train"
   ]
  },
  {
   "cell_type": "code",
   "execution_count": null,
   "metadata": {},
   "outputs": [],
   "source": [
    "plt.plot(y_train)"
   ]
  },
  {
   "cell_type": "code",
   "execution_count": null,
   "metadata": {},
   "outputs": [],
   "source": [
    "P = RMmodel(6,data_test)\n",
    "I = np.eye(P.shape[1])\n",
    "b = 10**(-4)"
   ]
  },
  {
   "cell_type": "code",
   "execution_count": null,
   "metadata": {},
   "outputs": [],
   "source": [
    "alpha = np.linalg.pinv((P.T).dot(P)+b*I).dot(P.T).dot(label_test)"
   ]
  },
  {
   "cell_type": "code",
   "execution_count": null,
   "metadata": {},
   "outputs": [],
   "source": [
    "label_test.shape"
   ]
  },
  {
   "cell_type": "code",
   "execution_count": null,
   "metadata": {},
   "outputs": [],
   "source": [
    "label_train.shape"
   ]
  },
  {
   "cell_type": "code",
   "execution_count": null,
   "metadata": {},
   "outputs": [],
   "source": [
    "data_test.shape"
   ]
  },
  {
   "cell_type": "code",
   "execution_count": null,
   "metadata": {},
   "outputs": [],
   "source": [
    "for target in list(set(data['target'])):\n",
    "    v_train, v_test = train_test_split(data_v[data_l==target],test_size = 0.5)\n",
    "    l_train = np.full(shape=len(v_train),fill_value=target)\n",
    "    l_test = np.full(shape=len(v_test),fill_value=target)\n",
    "    data_train = np.concatenate((data_train,v_train))\n",
    "    data_test = np.concatenate((data_test,v_test))\n",
    "    label_train = np.concatenate((label_train,l_train))\n",
    "    label_test = np.concatenate((label_test,l_test))"
   ]
  },
  {
   "cell_type": "code",
   "execution_count": null,
   "metadata": {},
   "outputs": [],
   "source": [
    "data_train.shape"
   ]
  },
  {
   "cell_type": "code",
   "execution_count": null,
   "metadata": {},
   "outputs": [],
   "source": [
    "label_train.shape"
   ]
  },
  {
   "cell_type": "code",
   "execution_count": null,
   "metadata": {},
   "outputs": [],
   "source": [
    "data_test.shape"
   ]
  },
  {
   "cell_type": "code",
   "execution_count": null,
   "metadata": {},
   "outputs": [],
   "source": [
    "label_test.shape"
   ]
  },
  {
   "cell_type": "code",
   "execution_count": null,
   "metadata": {},
   "outputs": [],
   "source": [
    "v_train.shape"
   ]
  },
  {
   "cell_type": "code",
   "execution_count": null,
   "metadata": {},
   "outputs": [],
   "source": [
    "v_test.shape"
   ]
  },
  {
   "cell_type": "code",
   "execution_count": null,
   "metadata": {},
   "outputs": [],
   "source": [
    "data = load_iris()\n",
    "data_v = data['data']\n",
    "data_l = data['target']\n",
    "\n",
    "data_train = np.array([]).reshape(0,4)\n",
    "data_test = np.array([]).reshape(0,4)\n",
    "label_train = np.array([])\n",
    "label_test = np.array([])\n",
    "\n",
    "for target in list(set(data['target'])):\n",
    "    v_train, v_test = train_test_split(data_v[data_l==target],test_size = 0.5)\n",
    "    l_train = np.full(shape=len(v_train),fill_value=target)\n",
    "    l_test = np.full(shape=len(v_test),fill_value=target)\n",
    "    data_train = np.concatenate((data_train,v_train))\n",
    "    data_test = np.concatenate((data_test,v_test))\n",
    "    label_train = np.concatenate((label_train,l_train))\n",
    "    label_test = np.concatenate((label_test,l_test))"
   ]
  },
  {
   "cell_type": "code",
   "execution_count": null,
   "metadata": {},
   "outputs": [],
   "source": [
    "y_test = P.dot(alpha)"
   ]
  },
  {
   "cell_type": "code",
   "execution_count": null,
   "metadata": {},
   "outputs": [],
   "source": [
    "plt.plot(y_test)"
   ]
  },
  {
   "cell_type": "code",
   "execution_count": 1,
   "metadata": {},
   "outputs": [],
   "source": [
    "##########################################\n",
    "## Made by : HERO Kwon\n",
    "## Title : TER\n",
    "## Version : v0\n",
    "## Date : 2018.05.29.\n",
    "## Description : TER-RM Algorithm\n",
    "##########################################\n",
    "\n",
    "\n",
    "# Main\n",
    "\n",
    "# packages\n",
    "\n",
    "import numpy as np\n",
    "import pandas as pd\n",
    "import scipy as sp\n",
    "import os\n",
    "import re\n",
    "import imageio\n",
    "from matplotlib import pyplot as plt\n",
    "from sklearn.model_selection import train_test_split\n",
    "import random\n",
    "from sklearn.metrics import confusion_matrix\n",
    "import time\n",
    "\n",
    "from sklearn.datasets import load_iris\n",
    " \n",
    "data = load_iris()\n",
    "data_v = data['data']\n",
    "data_l = data['target']\n",
    "\n",
    "data_train = np.array([]).reshape(0,4)\n",
    "data_test = np.array([]).reshape(0,4)\n",
    "label_train = np.array([])\n",
    "label_test = np.array([])\n",
    "\n",
    "for target in list(set(data['target'])):\n",
    "    v_train, v_test = train_test_split(data_v[data_l==target],test_size = 0.5)\n",
    "    l_train = np.full(shape=len(v_train),fill_value=target)\n",
    "    l_test = np.full(shape=len(v_test),fill_value=target)\n",
    "    data_train = np.concatenate((data_train,v_train))\n",
    "    data_test = np.concatenate((data_test,v_test))\n",
    "    label_train = np.concatenate((label_train,l_train))\n",
    "    label_test = np.concatenate((label_test,l_test))\n",
    "\n",
    "## TER Algorithm\n",
    "# Basis : RM2\n",
    "def RMmodel(order,X):\n",
    "    m,l = X.shape\n",
    "    \n",
    "    M1 = []\n",
    "    M2 = []\n",
    "    M3 = []\n",
    "    MM1 = []\n",
    "    MM3 = []\n",
    "\n",
    "    Msum = np.sum(X,axis=1)\n",
    "\n",
    "    for i in range(order):\n",
    "        for k in range(l):\n",
    "            M1.append(X[:,k]**(i+1))\n",
    "            if (i>0):\n",
    "                M3.append(X[:,k]*Msum**(i)) \n",
    "        M2.append(Msum**(i+1))\n",
    "        MM1.append(M1)\n",
    "        if (i>0):\n",
    "            MM3.append(M3)\n",
    "\n",
    "    MM1 = np.array(MM1).T\n",
    "    MM1 = MM1.reshape((m,-1,1)).squeeze(axis=2)\n",
    "    M2 = np.array(M2).T\n",
    "    if (len(MM3)):\n",
    "        MM3 = np.array(MM3).T\n",
    "        MM3 = MM3.reshape((m,-1,1)).squeeze(axis=2)\n",
    "        P = np.concatenate((np.ones((m,1)),MM1,M2,MM3),axis=1)\n",
    "    else : P = np.concatenate((np.ones((m,1)),MM1,M2),axis=1)\n",
    "\n",
    "    return(P)"
   ]
  },
  {
   "cell_type": "code",
   "execution_count": 2,
   "metadata": {},
   "outputs": [],
   "source": [
    "# Testing\n",
    "P = RMmodel(6,data_test)\n",
    "I = np.eye(P.shape[1])\n",
    "b = 10**(-4)\n",
    "alpha = np.linalg.pinv((P.T).dot(P)+b*I).dot(P.T).dot(label_test)\n",
    "\n",
    "\n",
    "y_train = P.dot(alpha)"
   ]
  },
  {
   "cell_type": "code",
   "execution_count": 4,
   "metadata": {},
   "outputs": [
    {
     "data": {
      "text/plain": [
       "array([0., 0., 0., 0., 0., 0., 0., 0., 0., 0., 0., 0., 0., 0., 0., 0., 0.,\n",
       "       0., 0., 0., 0., 0., 0., 0., 0., 1., 1., 1., 1., 1., 1., 1., 1., 1.,\n",
       "       1., 1., 1., 1., 1., 1., 1., 1., 1., 1., 1., 1., 1., 1., 1., 1., 2.,\n",
       "       2., 2., 2., 2., 2., 2., 2., 2., 2., 2., 2., 2., 2., 2., 2., 2., 2.,\n",
       "       2., 2., 2., 2., 2., 2., 2.])"
      ]
     },
     "execution_count": 4,
     "metadata": {},
     "output_type": "execute_result"
    }
   ],
   "source": [
    "label_train"
   ]
  },
  {
   "cell_type": "code",
   "execution_count": 5,
   "metadata": {},
   "outputs": [
    {
     "data": {
      "text/plain": [
       "{0.0, 1.0, 2.0}"
      ]
     },
     "execution_count": 5,
     "metadata": {},
     "output_type": "execute_result"
    }
   ],
   "source": [
    "set(label_train)"
   ]
  },
  {
   "cell_type": "code",
   "execution_count": 6,
   "metadata": {},
   "outputs": [],
   "source": [
    "k = 0.0"
   ]
  },
  {
   "cell_type": "code",
   "execution_count": 7,
   "metadata": {},
   "outputs": [
    {
     "data": {
      "text/plain": [
       "array([ True,  True,  True,  True,  True,  True,  True,  True,  True,\n",
       "        True,  True,  True,  True,  True,  True,  True,  True,  True,\n",
       "        True,  True,  True,  True,  True,  True,  True, False, False,\n",
       "       False, False, False, False, False, False, False, False, False,\n",
       "       False, False, False, False, False, False, False, False, False,\n",
       "       False, False, False, False, False, False, False, False, False,\n",
       "       False, False, False, False, False, False, False, False, False,\n",
       "       False, False, False, False, False, False, False, False, False,\n",
       "       False, False, False])"
      ]
     },
     "execution_count": 7,
     "metadata": {},
     "output_type": "execute_result"
    }
   ],
   "source": [
    "label_train==k"
   ]
  },
  {
   "cell_type": "code",
   "execution_count": 10,
   "metadata": {},
   "outputs": [
    {
     "data": {
      "text/plain": [
       "(25, 4)"
      ]
     },
     "execution_count": 10,
     "metadata": {},
     "output_type": "execute_result"
    }
   ],
   "source": [
    "data_train[label_train==k].shape"
   ]
  },
  {
   "cell_type": "code",
   "execution_count": 11,
   "metadata": {},
   "outputs": [
    {
     "data": {
      "text/plain": [
       "(75, 4)"
      ]
     },
     "execution_count": 11,
     "metadata": {},
     "output_type": "execute_result"
    }
   ],
   "source": [
    "data_train.shape"
   ]
  },
  {
   "cell_type": "code",
   "execution_count": 12,
   "metadata": {},
   "outputs": [],
   "source": [
    "P_n = RMmodel(6,data_train[label_train!=k])\n",
    "P_p = RMmodel(6,data_train[label_train==k])"
   ]
  },
  {
   "cell_type": "code",
   "execution_count": 13,
   "metadata": {},
   "outputs": [
    {
     "data": {
      "text/plain": [
       "(50, 251)"
      ]
     },
     "execution_count": 13,
     "metadata": {},
     "output_type": "execute_result"
    }
   ],
   "source": [
    "P_n.shape"
   ]
  },
  {
   "cell_type": "code",
   "execution_count": 14,
   "metadata": {},
   "outputs": [
    {
     "data": {
      "text/plain": [
       "(25, 251)"
      ]
     },
     "execution_count": 14,
     "metadata": {},
     "output_type": "execute_result"
    }
   ],
   "source": [
    "P_p.shape"
   ]
  },
  {
   "cell_type": "code",
   "execution_count": 16,
   "metadata": {},
   "outputs": [
    {
     "data": {
      "text/plain": [
       "(75, 4)"
      ]
     },
     "execution_count": 16,
     "metadata": {},
     "output_type": "execute_result"
    }
   ],
   "source": [
    "data_train.shape"
   ]
  },
  {
   "cell_type": "code",
   "execution_count": 17,
   "metadata": {},
   "outputs": [],
   "source": [
    "mk_n = data_train[label_train!=k].shape[0]\n",
    "mk_p = data_train[label_train==k].shape[0]\n",
    "\n",
    "I = np.eye(P_n.shape[1])"
   ]
  },
  {
   "cell_type": "code",
   "execution_count": 18,
   "metadata": {},
   "outputs": [
    {
     "data": {
      "text/plain": [
       "array([[2.00010000e+00, 1.12420000e+01, 1.12420000e+01, ...,\n",
       "        2.07958117e+06, 2.07958117e+06, 2.07958117e+06],\n",
       "       [1.12420000e+01, 6.43655000e+01, 6.43654000e+01, ...,\n",
       "        1.35666189e+07, 1.35666189e+07, 1.35666189e+07],\n",
       "       [1.12420000e+01, 6.43654000e+01, 6.43655000e+01, ...,\n",
       "        1.35666189e+07, 1.35666189e+07, 1.35666189e+07],\n",
       "       ...,\n",
       "       [2.07958117e+06, 1.35666189e+07, 1.35666189e+07, ...,\n",
       "        6.82287416e+12, 6.82287416e+12, 6.82287416e+12],\n",
       "       [2.07958117e+06, 1.35666189e+07, 1.35666189e+07, ...,\n",
       "        6.82287416e+12, 6.82287416e+12, 6.82287416e+12],\n",
       "       [2.07958117e+06, 1.35666189e+07, 1.35666189e+07, ...,\n",
       "        6.82287416e+12, 6.82287416e+12, 6.82287416e+12]])"
      ]
     },
     "execution_count": 18,
     "metadata": {},
     "output_type": "execute_result"
    }
   ],
   "source": [
    "b*I + (1/mk_n)*(P_n.T).dot(P_n) + (1/mk_p)*(P_p.T).dot(P_p)"
   ]
  },
  {
   "cell_type": "code",
   "execution_count": 19,
   "metadata": {},
   "outputs": [],
   "source": [
    "yk_n = label_train[label_train!=k]\n",
    "yk_p = label_train[label_train==k]"
   ]
  },
  {
   "cell_type": "code",
   "execution_count": 20,
   "metadata": {},
   "outputs": [],
   "source": [
    "ak = np.linalg.pinv(b*I + (1/mk_n)*(P_n.T).dot(P_n) + (1/mk_p)*(P_p.T).dot(P_p))*\\\n",
    "((1/mk_n)*(P_n.T).dot(yk_n) + (1/mk_p)*(P_p.T).dot(yk_p))"
   ]
  },
  {
   "cell_type": "code",
   "execution_count": 21,
   "metadata": {},
   "outputs": [
    {
     "data": {
      "text/plain": [
       "(251, 251)"
      ]
     },
     "execution_count": 21,
     "metadata": {},
     "output_type": "execute_result"
    }
   ],
   "source": [
    "ak.shape"
   ]
  },
  {
   "cell_type": "code",
   "execution_count": 22,
   "metadata": {},
   "outputs": [
    {
     "ename": "ValueError",
     "evalue": "shapes (75,4) and (251,251) not aligned: 4 (dim 1) != 251 (dim 0)",
     "output_type": "error",
     "traceback": [
      "\u001b[1;31m---------------------------------------------------------------------------\u001b[0m",
      "\u001b[1;31mValueError\u001b[0m                                Traceback (most recent call last)",
      "\u001b[1;32m<ipython-input-22-c3651d1f92ba>\u001b[0m in \u001b[0;36m<module>\u001b[1;34m()\u001b[0m\n\u001b[1;32m----> 1\u001b[1;33m \u001b[0my_t\u001b[0m \u001b[1;33m=\u001b[0m \u001b[0mdata_train\u001b[0m\u001b[1;33m.\u001b[0m\u001b[0mdot\u001b[0m\u001b[1;33m(\u001b[0m\u001b[0mak\u001b[0m\u001b[1;33m)\u001b[0m\u001b[1;33m\u001b[0m\u001b[0m\n\u001b[0m",
      "\u001b[1;31mValueError\u001b[0m: shapes (75,4) and (251,251) not aligned: 4 (dim 1) != 251 (dim 0)"
     ]
    }
   ],
   "source": [
    "y_t = data_train.dot(ak)"
   ]
  },
  {
   "cell_type": "code",
   "execution_count": 23,
   "metadata": {},
   "outputs": [
    {
     "data": {
      "text/plain": [
       "(75, 4)"
      ]
     },
     "execution_count": 23,
     "metadata": {},
     "output_type": "execute_result"
    }
   ],
   "source": [
    "data_train.shape"
   ]
  },
  {
   "cell_type": "code",
   "execution_count": 24,
   "metadata": {},
   "outputs": [],
   "source": [
    "r = 0.5\n",
    "n = 0.5"
   ]
  },
  {
   "cell_type": "code",
   "execution_count": 25,
   "metadata": {},
   "outputs": [
    {
     "data": {
      "text/plain": [
       "(50,)"
      ]
     },
     "execution_count": 25,
     "metadata": {},
     "output_type": "execute_result"
    }
   ],
   "source": [
    "yk_n.shape"
   ]
  },
  {
   "cell_type": "code",
   "execution_count": 26,
   "metadata": {},
   "outputs": [
    {
     "data": {
      "text/plain": [
       "array([1., 1., 1., 1., 1., 1., 1., 1., 1., 1., 1., 1., 1., 1., 1., 1., 1.,\n",
       "       1., 1., 1., 1., 1., 1., 1., 1., 2., 2., 2., 2., 2., 2., 2., 2., 2.,\n",
       "       2., 2., 2., 2., 2., 2., 2., 2., 2., 2., 2., 2., 2., 2., 2., 2.])"
      ]
     },
     "execution_count": 26,
     "metadata": {},
     "output_type": "execute_result"
    }
   ],
   "source": [
    "yk_n"
   ]
  },
  {
   "cell_type": "code",
   "execution_count": 31,
   "metadata": {},
   "outputs": [],
   "source": [
    "a = (r+n) * np.ones(shape=label_train[label_train==k].shape)"
   ]
  },
  {
   "cell_type": "code",
   "execution_count": 29,
   "metadata": {},
   "outputs": [
    {
     "data": {
      "text/plain": [
       "array([1., 1., 1., 1., 1., 1., 1., 1., 1., 1., 1., 1., 1., 1., 1., 1., 1.,\n",
       "       1., 1., 1., 1., 1., 1., 1., 1.])"
      ]
     },
     "execution_count": 29,
     "metadata": {},
     "output_type": "execute_result"
    }
   ],
   "source": [
    "a"
   ]
  },
  {
   "cell_type": "code",
   "execution_count": 30,
   "metadata": {},
   "outputs": [
    {
     "data": {
      "text/plain": [
       "(25,)"
      ]
     },
     "execution_count": 30,
     "metadata": {},
     "output_type": "execute_result"
    }
   ],
   "source": [
    "a.shape"
   ]
  },
  {
   "cell_type": "code",
   "execution_count": 32,
   "metadata": {},
   "outputs": [],
   "source": [
    "k = 0.0\n",
    "\n",
    "r = 0.5\n",
    "n = 0.5\n",
    "\n",
    "P_n = RMmodel(6,data_train[label_train!=k])\n",
    "P_p = RMmodel(6,data_train[label_train==k])\n",
    "\n",
    "mk_n = data_train[label_train!=k].shape[0]\n",
    "mk_p = data_train[label_train==k].shape[0]\n",
    "\n",
    "yk_n = (r+n) * np.ones(shape=label_train[label_train!=k].shape)\n",
    "yk_p = (r+n) * np.ones(shape=label_train[label_train==k].shape)\n",
    "\n",
    "I = np.eye(P_n.shape[1])\n",
    "b = 10**(-4)\n",
    "\n",
    "ak = np.linalg.pinv(b*I + (1/mk_n)*(P_n.T).dot(P_n) + (1/mk_p)*(P_p.T).dot(P_p))*\\\n",
    "((1/mk_n)*(P_n.T).dot(yk_n) + (1/mk_p)*(P_p.T).dot(yk_p))"
   ]
  },
  {
   "cell_type": "code",
   "execution_count": 33,
   "metadata": {},
   "outputs": [
    {
     "data": {
      "text/plain": [
       "(251, 251)"
      ]
     },
     "execution_count": 33,
     "metadata": {},
     "output_type": "execute_result"
    }
   ],
   "source": [
    "ak.shape"
   ]
  },
  {
   "cell_type": "code",
   "execution_count": 34,
   "metadata": {},
   "outputs": [
    {
     "data": {
      "text/plain": [
       "(50, 251)"
      ]
     },
     "execution_count": 34,
     "metadata": {},
     "output_type": "execute_result"
    }
   ],
   "source": [
    "P_n.shape"
   ]
  },
  {
   "cell_type": "code",
   "execution_count": 35,
   "metadata": {},
   "outputs": [
    {
     "data": {
      "text/plain": [
       "(25, 251)"
      ]
     },
     "execution_count": 35,
     "metadata": {},
     "output_type": "execute_result"
    }
   ],
   "source": [
    "P_p.shape"
   ]
  },
  {
   "cell_type": "code",
   "execution_count": 37,
   "metadata": {},
   "outputs": [],
   "source": [
    "aa = P_n.dot(ak)"
   ]
  },
  {
   "cell_type": "code",
   "execution_count": 38,
   "metadata": {},
   "outputs": [
    {
     "data": {
      "text/plain": [
       "[<matplotlib.lines.Line2D at 0x1427a7d84e0>,\n",
       " <matplotlib.lines.Line2D at 0x1427a7d8630>,\n",
       " <matplotlib.lines.Line2D at 0x1427a7d8780>,\n",
       " <matplotlib.lines.Line2D at 0x1427a7d88d0>,\n",
       " <matplotlib.lines.Line2D at 0x1427a7d8a20>,\n",
       " <matplotlib.lines.Line2D at 0x1427a7d8b70>,\n",
       " <matplotlib.lines.Line2D at 0x1427a7d8cc0>,\n",
       " <matplotlib.lines.Line2D at 0x1427a7d8e10>,\n",
       " <matplotlib.lines.Line2D at 0x1427a7d8f60>,\n",
       " <matplotlib.lines.Line2D at 0x1427a7e40f0>,\n",
       " <matplotlib.lines.Line2D at 0x1427a7afac8>,\n",
       " <matplotlib.lines.Line2D at 0x1427a7e4358>,\n",
       " <matplotlib.lines.Line2D at 0x1427a7e44a8>,\n",
       " <matplotlib.lines.Line2D at 0x1427a7e45f8>,\n",
       " <matplotlib.lines.Line2D at 0x1427a7e4748>,\n",
       " <matplotlib.lines.Line2D at 0x1427a7e4898>,\n",
       " <matplotlib.lines.Line2D at 0x1427a7e49e8>,\n",
       " <matplotlib.lines.Line2D at 0x1427a7e4b38>,\n",
       " <matplotlib.lines.Line2D at 0x1427a7e4c88>,\n",
       " <matplotlib.lines.Line2D at 0x1427a7e4dd8>,\n",
       " <matplotlib.lines.Line2D at 0x1427a7e4f28>,\n",
       " <matplotlib.lines.Line2D at 0x1427a7e80b8>,\n",
       " <matplotlib.lines.Line2D at 0x1427a7e8208>,\n",
       " <matplotlib.lines.Line2D at 0x1427a7e8358>,\n",
       " <matplotlib.lines.Line2D at 0x1427a7e84a8>,\n",
       " <matplotlib.lines.Line2D at 0x1427a7e85f8>,\n",
       " <matplotlib.lines.Line2D at 0x1427a7e8748>,\n",
       " <matplotlib.lines.Line2D at 0x1427a7e8898>,\n",
       " <matplotlib.lines.Line2D at 0x1427a7e89e8>,\n",
       " <matplotlib.lines.Line2D at 0x1427a7e8b38>,\n",
       " <matplotlib.lines.Line2D at 0x1427a7e8c88>,\n",
       " <matplotlib.lines.Line2D at 0x1427a7e8dd8>,\n",
       " <matplotlib.lines.Line2D at 0x1427a7e8f28>,\n",
       " <matplotlib.lines.Line2D at 0x1427a7ef0b8>,\n",
       " <matplotlib.lines.Line2D at 0x1427a7ef208>,\n",
       " <matplotlib.lines.Line2D at 0x1427a7ef358>,\n",
       " <matplotlib.lines.Line2D at 0x1427a7ef4a8>,\n",
       " <matplotlib.lines.Line2D at 0x1427a7ef5f8>,\n",
       " <matplotlib.lines.Line2D at 0x1427a7ef748>,\n",
       " <matplotlib.lines.Line2D at 0x1427a7ef898>,\n",
       " <matplotlib.lines.Line2D at 0x1427a7ef9e8>,\n",
       " <matplotlib.lines.Line2D at 0x1427a7efb38>,\n",
       " <matplotlib.lines.Line2D at 0x1427a7efc88>,\n",
       " <matplotlib.lines.Line2D at 0x1427a7efdd8>,\n",
       " <matplotlib.lines.Line2D at 0x1427a7eff28>,\n",
       " <matplotlib.lines.Line2D at 0x1427a7f20b8>,\n",
       " <matplotlib.lines.Line2D at 0x1427a7f2208>,\n",
       " <matplotlib.lines.Line2D at 0x1427a7f2358>,\n",
       " <matplotlib.lines.Line2D at 0x1427a7f24a8>,\n",
       " <matplotlib.lines.Line2D at 0x1427a7f25f8>,\n",
       " <matplotlib.lines.Line2D at 0x1427a7f2748>,\n",
       " <matplotlib.lines.Line2D at 0x1427a7f2898>,\n",
       " <matplotlib.lines.Line2D at 0x1427a7f29e8>,\n",
       " <matplotlib.lines.Line2D at 0x1427a7f2b38>,\n",
       " <matplotlib.lines.Line2D at 0x1427a7f2c88>,\n",
       " <matplotlib.lines.Line2D at 0x1427a7f2dd8>,\n",
       " <matplotlib.lines.Line2D at 0x1427a7f2f28>,\n",
       " <matplotlib.lines.Line2D at 0x1427a7f80b8>,\n",
       " <matplotlib.lines.Line2D at 0x1427a7f8208>,\n",
       " <matplotlib.lines.Line2D at 0x1427a7f8358>,\n",
       " <matplotlib.lines.Line2D at 0x1427a7f84a8>,\n",
       " <matplotlib.lines.Line2D at 0x1427a7f85f8>,\n",
       " <matplotlib.lines.Line2D at 0x1427a7f8748>,\n",
       " <matplotlib.lines.Line2D at 0x1427a7f8898>,\n",
       " <matplotlib.lines.Line2D at 0x1427a7f89e8>,\n",
       " <matplotlib.lines.Line2D at 0x1427a7f8b38>,\n",
       " <matplotlib.lines.Line2D at 0x1427a7f8c88>,\n",
       " <matplotlib.lines.Line2D at 0x1427a7f8dd8>,\n",
       " <matplotlib.lines.Line2D at 0x1427a7f8f28>,\n",
       " <matplotlib.lines.Line2D at 0x1427a7fc0b8>,\n",
       " <matplotlib.lines.Line2D at 0x1427a7fc208>,\n",
       " <matplotlib.lines.Line2D at 0x1427a7fc358>,\n",
       " <matplotlib.lines.Line2D at 0x1427a7fc4a8>,\n",
       " <matplotlib.lines.Line2D at 0x1427a7fc5f8>,\n",
       " <matplotlib.lines.Line2D at 0x1427a7fc748>,\n",
       " <matplotlib.lines.Line2D at 0x1427a7fc898>,\n",
       " <matplotlib.lines.Line2D at 0x1427a7fc9e8>,\n",
       " <matplotlib.lines.Line2D at 0x1427a7fcb38>,\n",
       " <matplotlib.lines.Line2D at 0x1427a7fcc88>,\n",
       " <matplotlib.lines.Line2D at 0x1427a7fcdd8>,\n",
       " <matplotlib.lines.Line2D at 0x1427a7fcf28>,\n",
       " <matplotlib.lines.Line2D at 0x1427a8030b8>,\n",
       " <matplotlib.lines.Line2D at 0x1427a803208>,\n",
       " <matplotlib.lines.Line2D at 0x1427a803358>,\n",
       " <matplotlib.lines.Line2D at 0x1427a8034a8>,\n",
       " <matplotlib.lines.Line2D at 0x1427a8035f8>,\n",
       " <matplotlib.lines.Line2D at 0x1427a803748>,\n",
       " <matplotlib.lines.Line2D at 0x1427a803898>,\n",
       " <matplotlib.lines.Line2D at 0x1427a8039e8>,\n",
       " <matplotlib.lines.Line2D at 0x1427a803b38>,\n",
       " <matplotlib.lines.Line2D at 0x1427a803c88>,\n",
       " <matplotlib.lines.Line2D at 0x1427a803dd8>,\n",
       " <matplotlib.lines.Line2D at 0x1427a803f28>,\n",
       " <matplotlib.lines.Line2D at 0x1427a8060b8>,\n",
       " <matplotlib.lines.Line2D at 0x1427a806208>,\n",
       " <matplotlib.lines.Line2D at 0x1427a806358>,\n",
       " <matplotlib.lines.Line2D at 0x1427a8064a8>,\n",
       " <matplotlib.lines.Line2D at 0x1427a8065f8>,\n",
       " <matplotlib.lines.Line2D at 0x1427a806748>,\n",
       " <matplotlib.lines.Line2D at 0x1427a806898>,\n",
       " <matplotlib.lines.Line2D at 0x1427a8069e8>,\n",
       " <matplotlib.lines.Line2D at 0x1427a806b38>,\n",
       " <matplotlib.lines.Line2D at 0x1427a806c88>,\n",
       " <matplotlib.lines.Line2D at 0x1427a806dd8>,\n",
       " <matplotlib.lines.Line2D at 0x1427a806f28>,\n",
       " <matplotlib.lines.Line2D at 0x1427a80d0b8>,\n",
       " <matplotlib.lines.Line2D at 0x1427a80d208>,\n",
       " <matplotlib.lines.Line2D at 0x1427a80d358>,\n",
       " <matplotlib.lines.Line2D at 0x1427a80d4a8>,\n",
       " <matplotlib.lines.Line2D at 0x1427a80d5f8>,\n",
       " <matplotlib.lines.Line2D at 0x1427a80d748>,\n",
       " <matplotlib.lines.Line2D at 0x1427a80d898>,\n",
       " <matplotlib.lines.Line2D at 0x1427a80d9e8>,\n",
       " <matplotlib.lines.Line2D at 0x1427a80db38>,\n",
       " <matplotlib.lines.Line2D at 0x1427a80dc88>,\n",
       " <matplotlib.lines.Line2D at 0x1427a80ddd8>,\n",
       " <matplotlib.lines.Line2D at 0x1427a80df28>,\n",
       " <matplotlib.lines.Line2D at 0x1427a8120b8>,\n",
       " <matplotlib.lines.Line2D at 0x1427a812208>,\n",
       " <matplotlib.lines.Line2D at 0x1427a812358>,\n",
       " <matplotlib.lines.Line2D at 0x1427a8124a8>,\n",
       " <matplotlib.lines.Line2D at 0x1427a8125f8>,\n",
       " <matplotlib.lines.Line2D at 0x1427a812748>,\n",
       " <matplotlib.lines.Line2D at 0x1427a812898>,\n",
       " <matplotlib.lines.Line2D at 0x1427a8129e8>,\n",
       " <matplotlib.lines.Line2D at 0x1427a812b38>,\n",
       " <matplotlib.lines.Line2D at 0x1427a812c88>,\n",
       " <matplotlib.lines.Line2D at 0x1427a812dd8>,\n",
       " <matplotlib.lines.Line2D at 0x1427a812f28>,\n",
       " <matplotlib.lines.Line2D at 0x1427a8180b8>,\n",
       " <matplotlib.lines.Line2D at 0x1427a818208>,\n",
       " <matplotlib.lines.Line2D at 0x1427a818358>,\n",
       " <matplotlib.lines.Line2D at 0x1427a8184a8>,\n",
       " <matplotlib.lines.Line2D at 0x1427a8185f8>,\n",
       " <matplotlib.lines.Line2D at 0x1427a818748>,\n",
       " <matplotlib.lines.Line2D at 0x1427a818898>,\n",
       " <matplotlib.lines.Line2D at 0x1427a8189e8>,\n",
       " <matplotlib.lines.Line2D at 0x1427a818b38>,\n",
       " <matplotlib.lines.Line2D at 0x1427a818c88>,\n",
       " <matplotlib.lines.Line2D at 0x1427a818dd8>,\n",
       " <matplotlib.lines.Line2D at 0x1427a818f28>,\n",
       " <matplotlib.lines.Line2D at 0x1427a81b0b8>,\n",
       " <matplotlib.lines.Line2D at 0x1427a81b208>,\n",
       " <matplotlib.lines.Line2D at 0x1427a81b358>,\n",
       " <matplotlib.lines.Line2D at 0x1427a81b4a8>,\n",
       " <matplotlib.lines.Line2D at 0x1427a81b5f8>,\n",
       " <matplotlib.lines.Line2D at 0x1427a81b748>,\n",
       " <matplotlib.lines.Line2D at 0x1427a81b898>,\n",
       " <matplotlib.lines.Line2D at 0x1427a81b9e8>,\n",
       " <matplotlib.lines.Line2D at 0x1427a81bb38>,\n",
       " <matplotlib.lines.Line2D at 0x1427a81bc88>,\n",
       " <matplotlib.lines.Line2D at 0x1427a81bdd8>,\n",
       " <matplotlib.lines.Line2D at 0x1427a81bf28>,\n",
       " <matplotlib.lines.Line2D at 0x1427a8200b8>,\n",
       " <matplotlib.lines.Line2D at 0x1427a820208>,\n",
       " <matplotlib.lines.Line2D at 0x1427a820358>,\n",
       " <matplotlib.lines.Line2D at 0x1427a8204a8>,\n",
       " <matplotlib.lines.Line2D at 0x1427a8205f8>,\n",
       " <matplotlib.lines.Line2D at 0x1427a820748>,\n",
       " <matplotlib.lines.Line2D at 0x1427a820898>,\n",
       " <matplotlib.lines.Line2D at 0x1427a8209e8>,\n",
       " <matplotlib.lines.Line2D at 0x1427a820b38>,\n",
       " <matplotlib.lines.Line2D at 0x1427a820c88>,\n",
       " <matplotlib.lines.Line2D at 0x1427a820dd8>,\n",
       " <matplotlib.lines.Line2D at 0x1427a820f28>,\n",
       " <matplotlib.lines.Line2D at 0x1427a8260b8>,\n",
       " <matplotlib.lines.Line2D at 0x1427a826208>,\n",
       " <matplotlib.lines.Line2D at 0x1427a826358>,\n",
       " <matplotlib.lines.Line2D at 0x1427a8264a8>,\n",
       " <matplotlib.lines.Line2D at 0x1427a8265f8>,\n",
       " <matplotlib.lines.Line2D at 0x1427a826748>,\n",
       " <matplotlib.lines.Line2D at 0x1427a826898>,\n",
       " <matplotlib.lines.Line2D at 0x1427a8269e8>,\n",
       " <matplotlib.lines.Line2D at 0x1427a826b38>,\n",
       " <matplotlib.lines.Line2D at 0x1427a826c88>,\n",
       " <matplotlib.lines.Line2D at 0x1427a826dd8>,\n",
       " <matplotlib.lines.Line2D at 0x1427a826f28>,\n",
       " <matplotlib.lines.Line2D at 0x1427a82b0b8>,\n",
       " <matplotlib.lines.Line2D at 0x1427a82b208>,\n",
       " <matplotlib.lines.Line2D at 0x1427a82b358>,\n",
       " <matplotlib.lines.Line2D at 0x1427a82b4a8>,\n",
       " <matplotlib.lines.Line2D at 0x1427a82b5f8>,\n",
       " <matplotlib.lines.Line2D at 0x1427a82b748>,\n",
       " <matplotlib.lines.Line2D at 0x1427a82b898>,\n",
       " <matplotlib.lines.Line2D at 0x1427a82b9e8>,\n",
       " <matplotlib.lines.Line2D at 0x1427a82bb38>,\n",
       " <matplotlib.lines.Line2D at 0x1427a82bc88>,\n",
       " <matplotlib.lines.Line2D at 0x1427a82bdd8>,\n",
       " <matplotlib.lines.Line2D at 0x1427a82bf28>,\n",
       " <matplotlib.lines.Line2D at 0x1427a82f0b8>,\n",
       " <matplotlib.lines.Line2D at 0x1427a82f208>,\n",
       " <matplotlib.lines.Line2D at 0x1427a82f358>,\n",
       " <matplotlib.lines.Line2D at 0x1427a82f4a8>,\n",
       " <matplotlib.lines.Line2D at 0x1427a82f5f8>,\n",
       " <matplotlib.lines.Line2D at 0x1427a82f748>,\n",
       " <matplotlib.lines.Line2D at 0x1427a82f898>,\n",
       " <matplotlib.lines.Line2D at 0x1427a82f9e8>,\n",
       " <matplotlib.lines.Line2D at 0x1427a82fb38>,\n",
       " <matplotlib.lines.Line2D at 0x1427a82fc88>,\n",
       " <matplotlib.lines.Line2D at 0x1427a82fdd8>,\n",
       " <matplotlib.lines.Line2D at 0x1427a82ff28>,\n",
       " <matplotlib.lines.Line2D at 0x1427a8350b8>,\n",
       " <matplotlib.lines.Line2D at 0x1427a835208>,\n",
       " <matplotlib.lines.Line2D at 0x1427a835358>,\n",
       " <matplotlib.lines.Line2D at 0x1427a8354a8>,\n",
       " <matplotlib.lines.Line2D at 0x1427a8355f8>,\n",
       " <matplotlib.lines.Line2D at 0x1427a835748>,\n",
       " <matplotlib.lines.Line2D at 0x1427a835898>,\n",
       " <matplotlib.lines.Line2D at 0x1427a8359e8>,\n",
       " <matplotlib.lines.Line2D at 0x1427a835b38>,\n",
       " <matplotlib.lines.Line2D at 0x1427a835c88>,\n",
       " <matplotlib.lines.Line2D at 0x1427a835dd8>,\n",
       " <matplotlib.lines.Line2D at 0x1427a835f28>,\n",
       " <matplotlib.lines.Line2D at 0x1427a83b0b8>,\n",
       " <matplotlib.lines.Line2D at 0x1427a83b208>,\n",
       " <matplotlib.lines.Line2D at 0x1427a83b358>,\n",
       " <matplotlib.lines.Line2D at 0x1427a83b4a8>,\n",
       " <matplotlib.lines.Line2D at 0x1427a83b5f8>,\n",
       " <matplotlib.lines.Line2D at 0x1427a83b748>,\n",
       " <matplotlib.lines.Line2D at 0x1427a83b898>,\n",
       " <matplotlib.lines.Line2D at 0x1427a83b9e8>,\n",
       " <matplotlib.lines.Line2D at 0x1427a83bb38>,\n",
       " <matplotlib.lines.Line2D at 0x1427a83bc88>,\n",
       " <matplotlib.lines.Line2D at 0x1427a83bdd8>,\n",
       " <matplotlib.lines.Line2D at 0x1427a83bf28>,\n",
       " <matplotlib.lines.Line2D at 0x1427a8400b8>,\n",
       " <matplotlib.lines.Line2D at 0x1427a840208>,\n",
       " <matplotlib.lines.Line2D at 0x1427a840358>,\n",
       " <matplotlib.lines.Line2D at 0x1427a8404a8>,\n",
       " <matplotlib.lines.Line2D at 0x1427a8405f8>,\n",
       " <matplotlib.lines.Line2D at 0x1427a840748>,\n",
       " <matplotlib.lines.Line2D at 0x1427a840898>,\n",
       " <matplotlib.lines.Line2D at 0x1427a8409e8>,\n",
       " <matplotlib.lines.Line2D at 0x1427a840b38>,\n",
       " <matplotlib.lines.Line2D at 0x1427a840c88>,\n",
       " <matplotlib.lines.Line2D at 0x1427a840dd8>,\n",
       " <matplotlib.lines.Line2D at 0x1427a840f28>,\n",
       " <matplotlib.lines.Line2D at 0x1427a8450b8>,\n",
       " <matplotlib.lines.Line2D at 0x1427a845208>,\n",
       " <matplotlib.lines.Line2D at 0x1427a845358>,\n",
       " <matplotlib.lines.Line2D at 0x1427a8454a8>,\n",
       " <matplotlib.lines.Line2D at 0x1427a8455f8>,\n",
       " <matplotlib.lines.Line2D at 0x1427a845748>,\n",
       " <matplotlib.lines.Line2D at 0x1427a845898>,\n",
       " <matplotlib.lines.Line2D at 0x1427a8459e8>,\n",
       " <matplotlib.lines.Line2D at 0x1427a845b38>,\n",
       " <matplotlib.lines.Line2D at 0x1427a845c88>,\n",
       " <matplotlib.lines.Line2D at 0x1427a845dd8>,\n",
       " <matplotlib.lines.Line2D at 0x1427a845f28>,\n",
       " <matplotlib.lines.Line2D at 0x1427a84a0b8>,\n",
       " <matplotlib.lines.Line2D at 0x1427a84a208>]"
      ]
     },
     "execution_count": 38,
     "metadata": {},
     "output_type": "execute_result"
    },
    {
     "data": {
      "image/png": "[encoded data removed]",
      "text/plain": [
       "<matplotlib.figure.Figure at 0x142764ad438>"
      ]
     },
     "metadata": {},
     "output_type": "display_data"
    }
   ],
   "source": [
    "plt.plot(aa)"
   ]
  },
  {
   "cell_type": "code",
   "execution_count": 39,
   "metadata": {},
   "outputs": [
    {
     "data": {
      "text/plain": [
       "(50, 251)"
      ]
     },
     "execution_count": 39,
     "metadata": {},
     "output_type": "execute_result"
    }
   ],
   "source": [
    "aa.shape"
   ]
  },
  {
   "cell_type": "code",
   "execution_count": 41,
   "metadata": {},
   "outputs": [],
   "source": [
    "aa1 = ak.dot(P_n.T)"
   ]
  },
  {
   "cell_type": "code",
   "execution_count": 42,
   "metadata": {},
   "outputs": [
    {
     "data": {
      "text/plain": [
       "(251, 50)"
      ]
     },
     "execution_count": 42,
     "metadata": {},
     "output_type": "execute_result"
    }
   ],
   "source": [
    "aa1.shape"
   ]
  },
  {
   "cell_type": "code",
   "execution_count": 43,
   "metadata": {},
   "outputs": [
    {
     "data": {
      "text/plain": [
       "(50, 251)"
      ]
     },
     "execution_count": 43,
     "metadata": {},
     "output_type": "execute_result"
    }
   ],
   "source": [
    "P_n.shape"
   ]
  },
  {
   "cell_type": "code",
   "execution_count": 44,
   "metadata": {},
   "outputs": [],
   "source": [
    "P_t = RMmodel(6,data_test)"
   ]
  },
  {
   "cell_type": "code",
   "execution_count": 45,
   "metadata": {},
   "outputs": [
    {
     "data": {
      "text/plain": [
       "(75, 251)"
      ]
     },
     "execution_count": 45,
     "metadata": {},
     "output_type": "execute_result"
    }
   ],
   "source": [
    "P_t.shape"
   ]
  },
  {
   "cell_type": "code",
   "execution_count": 47,
   "metadata": {},
   "outputs": [
    {
     "data": {
      "text/plain": [
       "(75, 251)"
      ]
     },
     "execution_count": 47,
     "metadata": {},
     "output_type": "execute_result"
    }
   ],
   "source": [
    "P_t.dot(ak).shape"
   ]
  },
  {
   "cell_type": "code",
   "execution_count": 48,
   "metadata": {},
   "outputs": [],
   "source": [
    "ak = np.linalg.pinv(b*I + (1/mk_n)*(P_n.T).dot(P_n) + (1/mk_p)*(P_p.T).dot(P_p)).dot\\\n",
    "((1/mk_n)*(P_n.T).dot(yk_n) + (1/mk_p)*(P_p.T).dot(yk_p))"
   ]
  },
  {
   "cell_type": "code",
   "execution_count": 49,
   "metadata": {},
   "outputs": [
    {
     "data": {
      "text/plain": [
       "(251,)"
      ]
     },
     "execution_count": 49,
     "metadata": {},
     "output_type": "execute_result"
    }
   ],
   "source": [
    "ak.shape"
   ]
  },
  {
   "cell_type": "code",
   "execution_count": 52,
   "metadata": {},
   "outputs": [],
   "source": [
    "aa1 = P_t.dot(ak) "
   ]
  },
  {
   "cell_type": "code",
   "execution_count": 53,
   "metadata": {},
   "outputs": [
    {
     "data": {
      "text/plain": [
       "[<matplotlib.lines.Line2D at 0x1427b8c2588>]"
      ]
     },
     "execution_count": 53,
     "metadata": {},
     "output_type": "execute_result"
    },
    {
     "data": {
      "image/png": "[encoded data removed]",
      "text/plain": [
       "<matplotlib.figure.Figure at 0x1427b89e7b8>"
      ]
     },
     "metadata": {},
     "output_type": "display_data"
    }
   ],
   "source": [
    "plt.plot(aa1)"
   ]
  },
  {
   "cell_type": "code",
   "execution_count": 54,
   "metadata": {},
   "outputs": [],
   "source": [
    "k = 1.0\n",
    "\n",
    "r = 0.5\n",
    "n = 0.5\n",
    "\n",
    "P_n = RMmodel(6,data_train[label_train!=k])\n",
    "P_p = RMmodel(6,data_train[label_train==k])\n",
    "P_t = RMmodel(6,data_test)\n",
    "\n",
    "mk_n = data_train[label_train!=k].shape[0]\n",
    "mk_p = data_train[label_train==k].shape[0]\n",
    "\n",
    "yk_n = (r+n) * np.ones(shape=label_train[label_train!=k].shape)\n",
    "yk_p = (r+n) * np.ones(shape=label_train[label_train==k].shape)\n",
    "\n",
    "I = np.eye(P_n.shape[1])\n",
    "b = 10**(-4)\n",
    "\n",
    "ak = np.linalg.pinv(b*I + (1/mk_n)*(P_n.T).dot(P_n) + (1/mk_p)*(P_p.T).dot(P_p)).dot\\\n",
    "((1/mk_n)*(P_n.T).dot(yk_n) + (1/mk_p)*(P_p.T).dot(yk_p))\n"
   ]
  },
  {
   "cell_type": "code",
   "execution_count": 55,
   "metadata": {},
   "outputs": [
    {
     "data": {
      "text/plain": [
       "[<matplotlib.lines.Line2D at 0x1427b92dac8>]"
      ]
     },
     "execution_count": 55,
     "metadata": {},
     "output_type": "execute_result"
    },
    {
     "data": {
      "image/png": "[encoded data removed]",
      "text/plain": [
       "<matplotlib.figure.Figure at 0x14279afd630>"
      ]
     },
     "metadata": {},
     "output_type": "display_data"
    }
   ],
   "source": [
    "\n",
    "aa1 = P_t.dot(ak)\n",
    "plt.plot(aa1)"
   ]
  },
  {
   "cell_type": "code",
   "execution_count": 56,
   "metadata": {},
   "outputs": [
    {
     "data": {
      "text/plain": [
       "[<matplotlib.lines.Line2D at 0x1427b9a1160>]"
      ]
     },
     "execution_count": 56,
     "metadata": {},
     "output_type": "execute_result"
    },
    {
     "data": {
      "image/png": "[encoded data removed]",
      "text/plain": [
       "<matplotlib.figure.Figure at 0x1427b891668>"
      ]
     },
     "metadata": {},
     "output_type": "display_data"
    }
   ],
   "source": [
    "# TER\n",
    "k = 0.0\n",
    "\n",
    "r = 0.5\n",
    "n = 0.5\n",
    "\n",
    "P_n = RMmodel(6,data_train[label_train!=k])\n",
    "P_p = RMmodel(6,data_train[label_train==k])\n",
    "P_t = RMmodel(6,data_test)\n",
    "\n",
    "mk_n = data_train[label_train!=k].shape[0]\n",
    "mk_p = data_train[label_train==k].shape[0]\n",
    "\n",
    "yk_n = (r+n) * np.ones(shape=label_train[label_train!=k].shape)\n",
    "yk_p = (r+n) * np.ones(shape=label_train[label_train==k].shape)\n",
    "\n",
    "I = np.eye(P_n.shape[1])\n",
    "b = 10**(-4)\n",
    "\n",
    "ak = np.linalg.pinv(b*I + (1/mk_n)*(P_n.T).dot(P_n) + (1/mk_p)*(P_p.T).dot(P_p)).dot\\\n",
    "((1/mk_n)*(P_n.T).dot(yk_n) + (1/mk_p)*(P_p.T).dot(yk_p))\n",
    "\n",
    "aa0 = P_t.dot(ak)\n",
    "plt.plot(aa0)"
   ]
  },
  {
   "cell_type": "code",
   "execution_count": 57,
   "metadata": {},
   "outputs": [
    {
     "data": {
      "text/plain": [
       "array([0.92865925, 1.0034437 , 1.00599533, 0.99540607, 1.00599533,\n",
       "       1.00692461, 1.00651774, 1.00636005, 1.00230164, 1.00574057,\n",
       "       1.00712849, 1.00129963, 1.00271869, 1.00786758, 0.99873429,\n",
       "       1.00308527, 1.00525201, 1.0053836 , 1.00282445, 1.00342391,\n",
       "       1.00571474, 1.00599533, 1.00555972, 0.99993146, 0.98626209,\n",
       "       0.99976569, 1.00182287, 0.99733265, 0.99584282, 1.000263  ,\n",
       "       0.99941919, 0.99819423, 0.99848073, 1.0002029 , 0.99802777,\n",
       "       0.99769992, 1.00418046, 0.99499073, 0.99718687, 1.00592009,\n",
       "       1.00029211, 0.9974053 , 0.99757775, 0.99714901, 1.00333781,\n",
       "       1.00147803, 1.00604258, 0.99767837, 0.99898311, 0.99856802,\n",
       "       0.98370688, 0.99702428, 1.01104337, 0.99594389, 0.96011156,\n",
       "       0.99747684, 0.99839721, 0.99502352, 0.99397281, 0.9949908 ,\n",
       "       0.99841554, 0.99098526, 0.92247094, 1.03479261, 1.0015052 ,\n",
       "       1.00708533, 0.96123837, 1.0051832 , 1.0013482 , 0.9878674 ,\n",
       "       1.01205312, 0.99873792, 1.00321061, 0.86730524, 0.9968527 ])"
      ]
     },
     "execution_count": 57,
     "metadata": {},
     "output_type": "execute_result"
    }
   ],
   "source": [
    "aa0"
   ]
  },
  {
   "cell_type": "code",
   "execution_count": 58,
   "metadata": {},
   "outputs": [
    {
     "data": {
      "text/plain": [
       "array([0.92972514, 1.00442075, 1.00713407, 0.99732352, 1.00713407,\n",
       "       1.00688821, 1.00896941, 1.00853551, 1.0043756 , 1.00796088,\n",
       "       1.00552934, 1.00192509, 1.00550663, 1.00720479, 1.00001343,\n",
       "       1.00340863, 1.00699107, 1.00334346, 1.00387194, 1.00158439,\n",
       "       1.0071288 , 1.00713407, 1.00722382, 1.00019131, 0.97999686,\n",
       "       1.00089666, 0.99968012, 0.9972588 , 0.99647002, 0.99986813,\n",
       "       1.00189457, 0.99711045, 0.99981086, 1.00180829, 0.99866152,\n",
       "       0.99879629, 1.00138833, 0.99765827, 0.99860731, 1.00666853,\n",
       "       1.00139156, 0.99860231, 0.99773023, 0.99720003, 1.00476768,\n",
       "       1.00028483, 1.00722915, 0.99914482, 0.99995277, 1.00019038,\n",
       "       0.98812736, 0.99845274, 1.01219272, 0.99721733, 0.97046025,\n",
       "       0.99845467, 1.00158533, 0.99778553, 0.99535045, 0.99644643,\n",
       "       0.9981882 , 0.99680858, 0.92864756, 1.02216492, 1.00152986,\n",
       "       1.00578739, 0.97721489, 1.0083761 , 1.00173027, 0.99611773,\n",
       "       1.00850148, 1.00001755, 1.00119406, 0.90131144, 1.00053545])"
      ]
     },
     "execution_count": 58,
     "metadata": {},
     "output_type": "execute_result"
    }
   ],
   "source": [
    "aa1"
   ]
  },
  {
   "cell_type": "code",
   "execution_count": 60,
   "metadata": {},
   "outputs": [
    {
     "data": {
      "text/plain": [
       "63"
      ]
     },
     "execution_count": 60,
     "metadata": {},
     "output_type": "execute_result"
    }
   ],
   "source": [
    "np.argmax((aa0,aa1))"
   ]
  },
  {
   "cell_type": "code",
   "execution_count": 61,
   "metadata": {},
   "outputs": [
    {
     "ename": "AttributeError",
     "evalue": "'numpy.ndarray' object has no attribute 'unique'",
     "output_type": "error",
     "traceback": [
      "\u001b[1;31m---------------------------------------------------------------------------\u001b[0m",
      "\u001b[1;31mAttributeError\u001b[0m                            Traceback (most recent call last)",
      "\u001b[1;32m<ipython-input-61-463f53ce11b3>\u001b[0m in \u001b[0;36m<module>\u001b[1;34m()\u001b[0m\n\u001b[0;32m      1\u001b[0m \u001b[0mak_l\u001b[0m \u001b[1;33m=\u001b[0m \u001b[1;33m[\u001b[0m\u001b[1;33m]\u001b[0m\u001b[1;33m\u001b[0m\u001b[0m\n\u001b[0;32m      2\u001b[0m \u001b[1;31m# TER\u001b[0m\u001b[1;33m\u001b[0m\u001b[1;33m\u001b[0m\u001b[0m\n\u001b[1;32m----> 3\u001b[1;33m \u001b[1;32mfor\u001b[0m \u001b[0mk\u001b[0m \u001b[1;32min\u001b[0m \u001b[0mlist\u001b[0m\u001b[1;33m(\u001b[0m\u001b[0mset\u001b[0m\u001b[1;33m(\u001b[0m\u001b[0mlabel_train\u001b[0m\u001b[1;33m.\u001b[0m\u001b[0munique\u001b[0m\u001b[1;33m)\u001b[0m\u001b[1;33m)\u001b[0m\u001b[1;33m:\u001b[0m\u001b[1;33m\u001b[0m\u001b[0m\n\u001b[0m\u001b[0;32m      4\u001b[0m \u001b[1;33m\u001b[0m\u001b[0m\n\u001b[0;32m      5\u001b[0m     \u001b[0mr\u001b[0m \u001b[1;33m=\u001b[0m \u001b[1;36m0.5\u001b[0m\u001b[1;33m\u001b[0m\u001b[0m\n",
      "\u001b[1;31mAttributeError\u001b[0m: 'numpy.ndarray' object has no attribute 'unique'"
     ]
    }
   ],
   "source": [
    "ak_l = []\n",
    "# TER\n",
    "for k in list(set(label_train.unique)):\n",
    "\n",
    "    r = 0.5\n",
    "    n = 0.5\n",
    "\n",
    "    P_n = RMmodel(6,data_train[label_train!=k])\n",
    "    P_p = RMmodel(6,data_train[label_train==k])\n",
    "    P_t = RMmodel(6,data_test)\n",
    "\n",
    "    mk_n = data_train[label_train!=k].shape[0]\n",
    "    mk_p = data_train[label_train==k].shape[0]\n",
    "\n",
    "    yk_n = (r+n) * np.ones(shape=label_train[label_train!=k].shape)\n",
    "    yk_p = (r+n) * np.ones(shape=label_train[label_train==k].shape)\n",
    "\n",
    "    I = np.eye(P_n.shape[1])\n",
    "    b = 10**(-4)\n",
    "\n",
    "    ak = np.linalg.pinv(b*I + (1/mk_n)*(P_n.T).dot(P_n) + (1/mk_p)*(P_p.T).dot(P_p)).dot\\\n",
    "    ((1/mk_n)*(P_n.T).dot(yk_n) + (1/mk_p)*(P_p.T).dot(yk_p))\n",
    "\n",
    "    ak_l.append(ak)"
   ]
  },
  {
   "cell_type": "code",
   "execution_count": 62,
   "metadata": {},
   "outputs": [],
   "source": [
    "ak_l = []\n",
    "# TER\n",
    "for k in list(set(label_train)):\n",
    "\n",
    "    r = 0.5\n",
    "    n = 0.5\n",
    "\n",
    "    P_n = RMmodel(6,data_train[label_train!=k])\n",
    "    P_p = RMmodel(6,data_train[label_train==k])\n",
    "    P_t = RMmodel(6,data_test)\n",
    "\n",
    "    mk_n = data_train[label_train!=k].shape[0]\n",
    "    mk_p = data_train[label_train==k].shape[0]\n",
    "\n",
    "    yk_n = (r+n) * np.ones(shape=label_train[label_train!=k].shape)\n",
    "    yk_p = (r+n) * np.ones(shape=label_train[label_train==k].shape)\n",
    "\n",
    "    I = np.eye(P_n.shape[1])\n",
    "    b = 10**(-4)\n",
    "\n",
    "    ak = np.linalg.pinv(b*I + (1/mk_n)*(P_n.T).dot(P_n) + (1/mk_p)*(P_p.T).dot(P_p)).dot\\\n",
    "    ((1/mk_n)*(P_n.T).dot(yk_n) + (1/mk_p)*(P_p.T).dot(yk_p))\n",
    "\n",
    "    ak_l.append(ak)"
   ]
  },
  {
   "cell_type": "code",
   "execution_count": 64,
   "metadata": {},
   "outputs": [],
   "source": [
    "ak_l = np.array(ak_l).T"
   ]
  },
  {
   "cell_type": "code",
   "execution_count": 66,
   "metadata": {},
   "outputs": [
    {
     "data": {
      "text/plain": [
       "(251, 3)"
      ]
     },
     "execution_count": 66,
     "metadata": {},
     "output_type": "execute_result"
    }
   ],
   "source": [
    "ak_l.shape"
   ]
  },
  {
   "cell_type": "code",
   "execution_count": 68,
   "metadata": {},
   "outputs": [
    {
     "data": {
      "text/plain": [
       "array([9.29106968e-05, 7.12324610e-05, 2.16765156e-05])"
      ]
     },
     "execution_count": 68,
     "metadata": {},
     "output_type": "execute_result"
    }
   ],
   "source": [
    "ak_l[0,:]"
   ]
  },
  {
   "cell_type": "code",
   "execution_count": 71,
   "metadata": {},
   "outputs": [],
   "source": [
    "aa = np.argmax(ak_l,axis=1)"
   ]
  },
  {
   "cell_type": "code",
   "execution_count": 72,
   "metadata": {},
   "outputs": [
    {
     "data": {
      "text/plain": [
       "(251,)"
      ]
     },
     "execution_count": 72,
     "metadata": {},
     "output_type": "execute_result"
    }
   ],
   "source": [
    "aa.shape"
   ]
  },
  {
   "cell_type": "code",
   "execution_count": 73,
   "metadata": {},
   "outputs": [
    {
     "data": {
      "text/plain": [
       "array([0, 0, 0, 0, 0, 0, 0, 0, 0, 0, 0, 0, 0, 2, 2, 2, 2, 2, 2, 2, 2, 2,\n",
       "       2, 2, 2, 0, 0, 0, 0, 0, 0, 0, 0, 0, 0, 0, 0, 2, 2, 2, 2, 2, 2, 2,\n",
       "       2, 2, 2, 2, 2, 0, 0, 0, 0, 0, 0, 0, 0, 0, 0, 0, 0, 2, 2, 2, 2, 2,\n",
       "       2, 0, 0, 0, 0, 0, 0, 2, 2, 2, 2, 2, 2, 0, 0, 0, 0, 0, 0, 2, 2, 2,\n",
       "       2, 2, 2, 0, 0, 0, 0, 0, 0, 0, 0, 0, 0, 0, 0, 2, 2, 2, 2, 2, 2, 0,\n",
       "       0, 0, 0, 0, 0, 0, 0, 0, 0, 0, 0, 2, 2, 2, 2, 2, 2, 0, 0, 0, 0, 0,\n",
       "       0, 2, 2, 2, 2, 2, 2, 1, 1, 1, 1, 1, 1, 0, 0, 0, 2, 0, 1, 0, 0, 0,\n",
       "       0, 0, 0, 0, 0, 0, 0, 2, 2, 2, 2, 2, 2, 2, 2, 2, 2, 0, 0, 0, 0, 0,\n",
       "       0, 0, 0, 0, 0, 2, 2, 2, 2, 2, 2, 2, 2, 2, 2, 1, 1, 1, 1, 1, 2, 2,\n",
       "       2, 2, 2, 0, 0, 0, 0, 0, 0, 0, 0, 0, 0, 2, 2, 2, 2, 2, 0, 0, 0, 0,\n",
       "       0, 2, 2, 2, 2, 2, 2, 2, 2, 2, 2, 0, 0, 0, 0, 0, 2, 2, 2, 2, 2, 0,\n",
       "       0, 0, 0, 0, 0, 0, 0, 0, 0], dtype=int64)"
      ]
     },
     "execution_count": 73,
     "metadata": {},
     "output_type": "execute_result"
    }
   ],
   "source": [
    "aa"
   ]
  },
  {
   "cell_type": "code",
   "execution_count": 74,
   "metadata": {},
   "outputs": [
    {
     "data": {
      "text/plain": [
       "[<matplotlib.lines.Line2D at 0x1427bde0160>]"
      ]
     },
     "execution_count": 74,
     "metadata": {},
     "output_type": "execute_result"
    },
    {
     "data": {
      "image/png": "[encoded data removed]",
      "text/plain": [
       "<matplotlib.figure.Figure at 0x1427bd63080>"
      ]
     },
     "metadata": {},
     "output_type": "display_data"
    }
   ],
   "source": [
    "plt.plot(aa)"
   ]
  },
  {
   "cell_type": "code",
   "execution_count": 75,
   "metadata": {},
   "outputs": [],
   "source": [
    "ak_l = []\n",
    "# TER\n",
    "for k in list(set(label_train)):\n",
    "\n",
    "    r = 0.5\n",
    "    n = 0.5\n",
    "\n",
    "    P_n = RMmodel(2,data_train[label_train!=k])\n",
    "    P_p = RMmodel(2,data_train[label_train==k])\n",
    "\n",
    "    mk_n = data_train[label_train!=k].shape[0]\n",
    "    mk_p = data_train[label_train==k].shape[0]\n",
    "\n",
    "    yk_n = (r+n) * np.ones(shape=label_train[label_train!=k].shape)\n",
    "    yk_p = (r+n) * np.ones(shape=label_train[label_train==k].shape)\n",
    "\n",
    "    I = np.eye(P_n.shape[1])\n",
    "    b = 10**(-4)\n",
    "\n",
    "    ak = np.linalg.pinv(b*I + (1/mk_n)*(P_n.T).dot(P_n) + (1/mk_p)*(P_p.T).dot(P_p)).dot\\\n",
    "    ((1/mk_n)*(P_n.T).dot(yk_n) + (1/mk_p)*(P_p.T).dot(yk_p))\n",
    "\n",
    "    ak_l.append(ak)\n",
    "\n",
    "ak_l = np.array(ak_l).T\n",
    "P_t = RMmodel(2,data_test)"
   ]
  },
  {
   "cell_type": "code",
   "execution_count": 76,
   "metadata": {},
   "outputs": [],
   "source": [
    "yt = P_t.dot(ak_l)"
   ]
  },
  {
   "cell_type": "code",
   "execution_count": 77,
   "metadata": {},
   "outputs": [
    {
     "data": {
      "text/plain": [
       "(75, 3)"
      ]
     },
     "execution_count": 77,
     "metadata": {},
     "output_type": "execute_result"
    }
   ],
   "source": [
    "yt.shape"
   ]
  },
  {
   "cell_type": "code",
   "execution_count": 79,
   "metadata": {},
   "outputs": [
    {
     "data": {
      "text/plain": [
       "(75, 23)"
      ]
     },
     "execution_count": 79,
     "metadata": {},
     "output_type": "execute_result"
    }
   ],
   "source": [
    "P_t.shape"
   ]
  },
  {
   "cell_type": "code",
   "execution_count": 80,
   "metadata": {},
   "outputs": [
    {
     "data": {
      "text/plain": [
       "(23, 3)"
      ]
     },
     "execution_count": 80,
     "metadata": {},
     "output_type": "execute_result"
    }
   ],
   "source": [
    "ak_l.shape"
   ]
  },
  {
   "cell_type": "code",
   "execution_count": 81,
   "metadata": {},
   "outputs": [],
   "source": [
    "yt1 = np.argmax(yt,axis=1)"
   ]
  },
  {
   "cell_type": "code",
   "execution_count": 82,
   "metadata": {},
   "outputs": [
    {
     "data": {
      "text/plain": [
       "(75,)"
      ]
     },
     "execution_count": 82,
     "metadata": {},
     "output_type": "execute_result"
    }
   ],
   "source": [
    "yt1.shape"
   ]
  },
  {
   "cell_type": "code",
   "execution_count": 83,
   "metadata": {},
   "outputs": [
    {
     "data": {
      "text/plain": [
       "[<matplotlib.lines.Line2D at 0x1427bfd4828>]"
      ]
     },
     "execution_count": 83,
     "metadata": {},
     "output_type": "execute_result"
    },
    {
     "data": {
      "image/png": "[encoded data removed]",
      "text/plain": [
       "<matplotlib.figure.Figure at 0x1427bd72e48>"
      ]
     },
     "metadata": {},
     "output_type": "display_data"
    }
   ],
   "source": [
    "plt.plot(yt1)"
   ]
  },
  {
   "cell_type": "code",
   "execution_count": 84,
   "metadata": {},
   "outputs": [],
   "source": [
    "ak_l = []\n",
    "# TER\n",
    "for k in list(set(label_train)):\n",
    "\n",
    "    r = 0.5\n",
    "    n = 0.5\n",
    "\n",
    "    P_n = RMmodel(6,data_train[label_train!=k])\n",
    "    P_p = RMmodel(6,data_train[label_train==k])\n",
    "\n",
    "    mk_n = data_train[label_train!=k].shape[0]\n",
    "    mk_p = data_train[label_train==k].shape[0]\n",
    "\n",
    "    yk_n = (r+n) * np.ones(shape=label_train[label_train!=k].shape)\n",
    "    yk_p = (r+n) * np.ones(shape=label_train[label_train==k].shape)\n",
    "\n",
    "    I = np.eye(P_n.shape[1])\n",
    "    b = 10**(-4)\n",
    "\n",
    "    ak = np.linalg.pinv(b*I + (1/mk_n)*(P_n.T).dot(P_n) + (1/mk_p)*(P_p.T).dot(P_p)).dot\\\n",
    "    ((1/mk_n)*(P_n.T).dot(yk_n) + (1/mk_p)*(P_p.T).dot(yk_p))\n",
    "\n",
    "    ak_l.append(ak)\n",
    "\n",
    "ak_l = np.array(ak_l).T\n",
    "P_t = RMmodel(6,data_test)\n",
    "yt = P_t.dot(ak_l)\n",
    "yt1 = np.argmax(yt,axis=1)"
   ]
  },
  {
   "cell_type": "code",
   "execution_count": 85,
   "metadata": {},
   "outputs": [
    {
     "data": {
      "text/plain": [
       "[<matplotlib.lines.Line2D at 0x1427bf486a0>]"
      ]
     },
     "execution_count": 85,
     "metadata": {},
     "output_type": "execute_result"
    },
    {
     "data": {
      "image/png": "[encoded data removed]",
      "text/plain": [
       "<matplotlib.figure.Figure at 0x1427c01c048>"
      ]
     },
     "metadata": {},
     "output_type": "display_data"
    }
   ],
   "source": [
    "plt.plot(yt1)"
   ]
  },
  {
   "cell_type": "code",
   "execution_count": 86,
   "metadata": {},
   "outputs": [
    {
     "data": {
      "text/plain": [
       "[<matplotlib.lines.Line2D at 0x1427c0cd0f0>]"
      ]
     },
     "execution_count": 86,
     "metadata": {},
     "output_type": "execute_result"
    },
    {
     "data": {
      "image/png": "[encoded data removed]",
      "text/plain": [
       "<matplotlib.figure.Figure at 0x1427bf62080>"
      ]
     },
     "metadata": {},
     "output_type": "display_data"
    }
   ],
   "source": [
    "plt.plot(label_test)"
   ]
  },
  {
   "cell_type": "code",
   "execution_count": 87,
   "metadata": {},
   "outputs": [],
   "source": [
    "ak_l = []\n",
    "# TER\n",
    "for k in list(set(label_train)):\n",
    "\n",
    "    r = 0.5\n",
    "    n = 0.5\n",
    "\n",
    "    P_n = RMmodel(6,data_train[label_train!=k])\n",
    "    P_p = RMmodel(6,data_train[label_train==k])\n",
    "\n",
    "    mk_n = data_train[label_train!=k].shape[0]\n",
    "    mk_p = data_train[label_train==k].shape[0]\n",
    "\n",
    "    yk_n = (r-n) * np.ones(shape=label_train[label_train!=k].shape)\n",
    "    yk_p = (r+n) * np.ones(shape=label_train[label_train==k].shape)\n",
    "\n",
    "    I = np.eye(P_n.shape[1])\n",
    "    b = 10**(-4)\n",
    "\n",
    "    ak = np.linalg.pinv(b*I + (1/mk_n)*(P_n.T).dot(P_n) + (1/mk_p)*(P_p.T).dot(P_p)).dot\\\n",
    "    ((1/mk_n)*(P_n.T).dot(yk_n) + (1/mk_p)*(P_p.T).dot(yk_p))\n",
    "\n",
    "    ak_l.append(ak)\n",
    "\n",
    "ak_l = np.array(ak_l).T\n",
    "P_t = RMmodel(6,data_test)\n",
    "yt = P_t.dot(ak_l)\n",
    "yt1 = np.argmax(yt,axis=1)\n"
   ]
  },
  {
   "cell_type": "code",
   "execution_count": 88,
   "metadata": {},
   "outputs": [
    {
     "data": {
      "text/plain": [
       "[<matplotlib.lines.Line2D at 0x1427c11b048>]"
      ]
     },
     "execution_count": 88,
     "metadata": {},
     "output_type": "execute_result"
    },
    {
     "data": {
      "image/png": "[encoded data removed]",
      "text/plain": [
       "<matplotlib.figure.Figure at 0x1427c0fd9b0>"
      ]
     },
     "metadata": {},
     "output_type": "display_data"
    }
   ],
   "source": [
    "plt.plot(yt1)"
   ]
  },
  {
   "cell_type": "code",
   "execution_count": 89,
   "metadata": {},
   "outputs": [
    {
     "data": {
      "text/plain": [
       "[<matplotlib.lines.Line2D at 0x1427d142b00>]"
      ]
     },
     "execution_count": 89,
     "metadata": {},
     "output_type": "execute_result"
    },
    {
     "data": {
      "image/png": "[encoded data removed]",
      "text/plain": [
       "<matplotlib.figure.Figure at 0x1427c128588>"
      ]
     },
     "metadata": {},
     "output_type": "display_data"
    }
   ],
   "source": [
    "plt.plot(label_test)"
   ]
  },
  {
   "cell_type": "code",
   "execution_count": 90,
   "metadata": {},
   "outputs": [
    {
     "ename": "SyntaxError",
     "evalue": "invalid syntax (<ipython-input-90-4d0570e160ed>, line 1)",
     "output_type": "error",
     "traceback": [
      "\u001b[1;36m  File \u001b[1;32m\"<ipython-input-90-4d0570e160ed>\"\u001b[1;36m, line \u001b[1;32m1\u001b[0m\n\u001b[1;33m    def TERmodel(k,rank,r,n,X,Y)\u001b[0m\n\u001b[1;37m                                ^\u001b[0m\n\u001b[1;31mSyntaxError\u001b[0m\u001b[1;31m:\u001b[0m invalid syntax\n"
     ]
    }
   ],
   "source": [
    "def TERmodel(k,rank,r,n,X,Y)\n",
    "    alpha = []\n",
    "    \n",
    "    for k in list(set(X)):\n",
    "\n",
    "        P_n = RMmodel(rank,X[Y!=k])\n",
    "        P_p = RMmodel(rank,X[Y==k])\n",
    "\n",
    "        mk_n = X[Y!=k].shape[0]\n",
    "        mk_p = X[Y==k].shape[0]\n",
    "\n",
    "        yk_n = (r-n) * np.ones(shape=X[X!=k].shape)\n",
    "        yk_p = (r+n) * np.ones(shape=X[X==k].shape)\n",
    "\n",
    "        I = np.eye(P_n.shape[1])\n",
    "        b = 10**(-4)\n",
    "\n",
    "        ak = np.linalg.pinv(b*I + (1/mk_n)*(P_n.T).dot(P_n) + (1/mk_p)*(P_p.T).dot(P_p)).dot\\\n",
    "        ((1/mk_n)*(P_n.T).dot(yk_n) + (1/mk_p)*(P_p.T).dot(yk_p))\n",
    "\n",
    "        alpha.append(ak)\n",
    "\n",
    "    return(alpha)"
   ]
  },
  {
   "cell_type": "code",
   "execution_count": 91,
   "metadata": {},
   "outputs": [],
   "source": [
    "def TERmodel(k,rank,r,n,X,Y):\n",
    "    alpha = []\n",
    "    \n",
    "    for k in list(set(X)):\n",
    "\n",
    "        P_n = RMmodel(rank,X[Y!=k])\n",
    "        P_p = RMmodel(rank,X[Y==k])\n",
    "\n",
    "        mk_n = X[Y!=k].shape[0]\n",
    "        mk_p = X[Y==k].shape[0]\n",
    "\n",
    "        yk_n = (r-n) * np.ones(shape=X[X!=k].shape)\n",
    "        yk_p = (r+n) * np.ones(shape=X[X==k].shape)\n",
    "\n",
    "        I = np.eye(P_n.shape[1])\n",
    "        b = 10**(-4)\n",
    "\n",
    "        ak = np.linalg.pinv(b*I + (1/mk_n)*(P_n.T).dot(P_n) + (1/mk_p)*(P_p.T).dot(P_p)).dot\\\n",
    "        ((1/mk_n)*(P_n.T).dot(yk_n) + (1/mk_p)*(P_p.T).dot(yk_p))\n",
    "\n",
    "        alpha.append(ak)\n",
    "\n",
    "    return(alpha)"
   ]
  },
  {
   "cell_type": "code",
   "execution_count": null,
   "metadata": {},
   "outputs": [],
   "source": [
    "alpha = TERmodel(6,0.5,0.5,data_train,label_train)"
   ]
  }
 ],
 "metadata": {
  "kernelspec": {
   "display_name": "Python 3",
   "language": "python",
   "name": "python3"
  },
  "language_info": {
   "codemirror_mode": {
    "name": "ipython",
    "version": 3
   },
   "file_extension": ".py",
   "mimetype": "text/x-python",
   "name": "python",
   "nbconvert_exporter": "python",
   "pygments_lexer": "ipython3",
   "version": "3.6.4"
  }
 },
 "nbformat": 4,
 "nbformat_minor": 2
}
