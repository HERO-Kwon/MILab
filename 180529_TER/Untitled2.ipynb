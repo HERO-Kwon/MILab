{
 "cells": [
  {
   "cell_type": "code",
   "execution_count": 1,
   "metadata": {},
   "outputs": [],
   "source": [
    "# Main\n",
    "\n",
    "# packages\n",
    "\n",
    "import numpy as np\n",
    "import pandas as pd\n",
    "import scipy as sp\n",
    "import os\n",
    "import re\n",
    "import imageio\n",
    "from matplotlib import pyplot as plt\n",
    "from sklearn.model_selection import train_test_split\n",
    "import random\n",
    "from sklearn.metrics import confusion_matrix\n",
    "import time\n",
    "\n",
    "from sklearn.datasets import load_iris\n",
    " \n",
    "data = load_iris()\n",
    "data_v = data['data']\n",
    "data_l = data['target']\n",
    "\n",
    "data_train = np.array([]).reshape(0,4)\n",
    "data_test = np.array([]).reshape(0,4)\n",
    "label_train = np.array([])\n",
    "label_test = np.array([])\n",
    "\n",
    "for target in list(set(data['target'])):\n",
    "    v_train, v_test = train_test_split(data_v[data_l==target],test_size = 0.5)\n",
    "    l_train = np.full(shape=len(v_train),fill_value=target)\n",
    "    l_test = np.full(shape=len(v_test),fill_value=target)\n",
    "    data_train = np.concatenate((data_train,v_train))\n",
    "    data_test = np.concatenate((data_train,v_test))\n",
    "    label_train = np.concatenate((label_train,l_train))\n",
    "    label_test = np.concatenate((label_test,l_test))"
   ]
  },
  {
   "cell_type": "code",
   "execution_count": 2,
   "metadata": {},
   "outputs": [],
   "source": [
    "X = data_train"
   ]
  },
  {
   "cell_type": "code",
   "execution_count": 3,
   "metadata": {},
   "outputs": [],
   "source": [
    "order = 2"
   ]
  },
  {
   "cell_type": "code",
   "execution_count": 4,
   "metadata": {},
   "outputs": [],
   "source": [
    "    m,l = X.shape\n",
    "    \n",
    "    M1 = []\n",
    "    M2 = []\n",
    "    M3 = []\n",
    "    MM1 = []\n",
    "    MM3 = []\n",
    "\n",
    "    Msum = np.sum(X,axis=1)\n",
    "\n",
    "    for i in range(order):\n",
    "        for k in range(l):\n",
    "            M1.append(X[:,k]**(i+1))\n",
    "            if (i>0):\n",
    "                M3.append(X[:,k]*Msum**(i)) \n",
    "        M2.append(Msum**(i+1))\n",
    "        MM1.append(M1)\n",
    "        if (i>0):\n",
    "            MM3.append(M3)"
   ]
  },
  {
   "cell_type": "code",
   "execution_count": 8,
   "metadata": {},
   "outputs": [],
   "source": [
    "a = np.array(MM1).T"
   ]
  },
  {
   "cell_type": "code",
   "execution_count": 9,
   "metadata": {},
   "outputs": [
    {
     "data": {
      "text/plain": [
       "(75, 8, 2)"
      ]
     },
     "execution_count": 9,
     "metadata": {},
     "output_type": "execute_result"
    }
   ],
   "source": [
    "a.shape"
   ]
  },
  {
   "cell_type": "code",
   "execution_count": 10,
   "metadata": {},
   "outputs": [],
   "source": [
    "a1 = a.reshape((75,-1,1))"
   ]
  },
  {
   "cell_type": "code",
   "execution_count": 11,
   "metadata": {},
   "outputs": [
    {
     "data": {
      "text/plain": [
       "(75, 16, 1)"
      ]
     },
     "execution_count": 11,
     "metadata": {},
     "output_type": "execute_result"
    }
   ],
   "source": [
    "a1.shape"
   ]
  },
  {
   "cell_type": "code",
   "execution_count": 12,
   "metadata": {},
   "outputs": [],
   "source": [
    "a2 = a1.squeeze(axis=2)"
   ]
  },
  {
   "cell_type": "code",
   "execution_count": 13,
   "metadata": {},
   "outputs": [
    {
     "data": {
      "text/plain": [
       "(75, 16)"
      ]
     },
     "execution_count": 13,
     "metadata": {},
     "output_type": "execute_result"
    }
   ],
   "source": [
    "a2.shape"
   ]
  },
  {
   "cell_type": "code",
   "execution_count": 18,
   "metadata": {},
   "outputs": [],
   "source": [
    "MM1 = np.array(MM1).T\n",
    "MM1 = MM1.reshape((75,-1,1)).squeeze(axis=2)"
   ]
  },
  {
   "cell_type": "code",
   "execution_count": 19,
   "metadata": {},
   "outputs": [
    {
     "data": {
      "text/plain": [
       "(75, 16)"
      ]
     },
     "execution_count": 19,
     "metadata": {},
     "output_type": "execute_result"
    }
   ],
   "source": [
    "MM1.shape"
   ]
  },
  {
   "cell_type": "code",
   "execution_count": 23,
   "metadata": {},
   "outputs": [],
   "source": [
    "a = np.array(MM3).T"
   ]
  },
  {
   "cell_type": "code",
   "execution_count": 21,
   "metadata": {},
   "outputs": [
    {
     "data": {
      "text/plain": [
       "75"
      ]
     },
     "execution_count": 21,
     "metadata": {},
     "output_type": "execute_result"
    }
   ],
   "source": [
    "m"
   ]
  },
  {
   "cell_type": "code",
   "execution_count": 22,
   "metadata": {},
   "outputs": [
    {
     "data": {
      "text/plain": [
       "4"
      ]
     },
     "execution_count": 22,
     "metadata": {},
     "output_type": "execute_result"
    }
   ],
   "source": [
    "l"
   ]
  },
  {
   "cell_type": "code",
   "execution_count": 24,
   "metadata": {},
   "outputs": [
    {
     "data": {
      "text/plain": [
       "(75, 4, 1)"
      ]
     },
     "execution_count": 24,
     "metadata": {},
     "output_type": "execute_result"
    }
   ],
   "source": [
    "a.shape"
   ]
  },
  {
   "cell_type": "code",
   "execution_count": 25,
   "metadata": {},
   "outputs": [],
   "source": [
    "MM3 = np.array(MM3).T.squeeze(axis=2)"
   ]
  },
  {
   "cell_type": "code",
   "execution_count": 26,
   "metadata": {},
   "outputs": [],
   "source": [
    "a = np.array(M2).T"
   ]
  },
  {
   "cell_type": "code",
   "execution_count": 27,
   "metadata": {},
   "outputs": [
    {
     "data": {
      "text/plain": [
       "(75, 2)"
      ]
     },
     "execution_count": 27,
     "metadata": {},
     "output_type": "execute_result"
    }
   ],
   "source": [
    "a.shape"
   ]
  },
  {
   "cell_type": "code",
   "execution_count": 53,
   "metadata": {},
   "outputs": [],
   "source": [
    "a = np.concatenate((np.ones((m,1)),MM1,M2,MM3),axis=1)"
   ]
  },
  {
   "cell_type": "code",
   "execution_count": 50,
   "metadata": {},
   "outputs": [
    {
     "ename": "AttributeError",
     "evalue": "'list' object has no attribute 'shape'",
     "output_type": "error",
     "traceback": [
      "\u001b[1;31m---------------------------------------------------------------------------\u001b[0m",
      "\u001b[1;31mAttributeError\u001b[0m                            Traceback (most recent call last)",
      "\u001b[1;32m<ipython-input-50-789874374445>\u001b[0m in \u001b[0;36m<module>\u001b[1;34m()\u001b[0m\n\u001b[1;32m----> 1\u001b[1;33m \u001b[0mM2\u001b[0m\u001b[1;33m.\u001b[0m\u001b[0mshape\u001b[0m\u001b[1;33m\u001b[0m\u001b[0m\n\u001b[0m",
      "\u001b[1;31mAttributeError\u001b[0m: 'list' object has no attribute 'shape'"
     ]
    }
   ],
   "source": [
    "M2.shape"
   ]
  },
  {
   "cell_type": "code",
   "execution_count": 32,
   "metadata": {},
   "outputs": [
    {
     "data": {
      "text/plain": [
       "(75, 4)"
      ]
     },
     "execution_count": 32,
     "metadata": {},
     "output_type": "execute_result"
    }
   ],
   "source": [
    "MM3.shape"
   ]
  },
  {
   "cell_type": "code",
   "execution_count": 34,
   "metadata": {},
   "outputs": [
    {
     "data": {
      "text/plain": [
       "(75, 20)"
      ]
     },
     "execution_count": 34,
     "metadata": {},
     "output_type": "execute_result"
    }
   ],
   "source": [
    "a.shape"
   ]
  },
  {
   "cell_type": "code",
   "execution_count": 36,
   "metadata": {},
   "outputs": [
    {
     "data": {
      "text/plain": [
       "array([1., 1., 1., 1., 1., 1., 1., 1., 1., 1., 1., 1., 1., 1., 1., 1., 1.,\n",
       "       1., 1., 1., 1., 1., 1., 1., 1., 1., 1., 1., 1., 1., 1., 1., 1., 1.,\n",
       "       1., 1., 1., 1., 1., 1., 1., 1., 1., 1., 1., 1., 1., 1., 1., 1., 1.,\n",
       "       1., 1., 1., 1., 1., 1., 1., 1., 1., 1., 1., 1., 1., 1., 1., 1., 1.,\n",
       "       1., 1., 1., 1., 1., 1., 1.])"
      ]
     },
     "execution_count": 36,
     "metadata": {},
     "output_type": "execute_result"
    }
   ],
   "source": [
    "np.ones(m)"
   ]
  },
  {
   "cell_type": "code",
   "execution_count": 51,
   "metadata": {},
   "outputs": [],
   "source": [
    "M2 = np.array(M2).T"
   ]
  },
  {
   "cell_type": "code",
   "execution_count": 52,
   "metadata": {},
   "outputs": [
    {
     "data": {
      "text/plain": [
       "(75, 2)"
      ]
     },
     "execution_count": 52,
     "metadata": {},
     "output_type": "execute_result"
    }
   ],
   "source": [
    "M2.shape"
   ]
  },
  {
   "cell_type": "code",
   "execution_count": 54,
   "metadata": {},
   "outputs": [],
   "source": [
    "    m,l = X.shape\n",
    "    \n",
    "    M1 = []\n",
    "    M2 = []\n",
    "    M3 = []\n",
    "    MM1 = []\n",
    "    MM3 = []\n",
    "\n",
    "    Msum = np.sum(X,axis=1)\n",
    "\n",
    "    for i in range(order):\n",
    "        for k in range(l):\n",
    "            M1.append(X[:,k]**(i+1))\n",
    "            if (i>0):\n",
    "                M3.append(X[:,k]*Msum**(i)) \n",
    "        M2.append(Msum**(i+1))\n",
    "        MM1.append(M1)\n",
    "        if (i>0):\n",
    "            MM3.append(M3)\n",
    "\n",
    "    MM1 = np.array(MM1).T\n",
    "    MM1 = MM1.reshape((m,-1,1)).squeeze(axis=2)\n",
    "    MM3 = np.array(MM3).T.squeeze(axis=2)\n",
    "    M2 = np.array(M2).T\n",
    "\n",
    "    P = np.concatenate((np.ones((m,1)),MM1,M2,MM3),axis=1)\n"
   ]
  },
  {
   "cell_type": "code",
   "execution_count": 55,
   "metadata": {},
   "outputs": [
    {
     "data": {
      "text/plain": [
       "(75, 23)"
      ]
     },
     "execution_count": 55,
     "metadata": {},
     "output_type": "execute_result"
    }
   ],
   "source": [
    "P.shape"
   ]
  },
  {
   "cell_type": "code",
   "execution_count": 56,
   "metadata": {},
   "outputs": [],
   "source": [
    "order = 1"
   ]
  },
  {
   "cell_type": "code",
   "execution_count": 57,
   "metadata": {},
   "outputs": [
    {
     "ename": "AxisError",
     "evalue": "axis 2 is out of bounds for array of dimension 1",
     "output_type": "error",
     "traceback": [
      "\u001b[1;31m---------------------------------------------------------------------------\u001b[0m",
      "\u001b[1;31mAxisError\u001b[0m                                 Traceback (most recent call last)",
      "\u001b[1;32m<ipython-input-57-787227416b8f>\u001b[0m in \u001b[0;36m<module>\u001b[1;34m()\u001b[0m\n\u001b[0;32m     21\u001b[0m \u001b[0mMM1\u001b[0m \u001b[1;33m=\u001b[0m \u001b[0mnp\u001b[0m\u001b[1;33m.\u001b[0m\u001b[0marray\u001b[0m\u001b[1;33m(\u001b[0m\u001b[0mMM1\u001b[0m\u001b[1;33m)\u001b[0m\u001b[1;33m.\u001b[0m\u001b[0mT\u001b[0m\u001b[1;33m\u001b[0m\u001b[0m\n\u001b[0;32m     22\u001b[0m \u001b[0mMM1\u001b[0m \u001b[1;33m=\u001b[0m \u001b[0mMM1\u001b[0m\u001b[1;33m.\u001b[0m\u001b[0mreshape\u001b[0m\u001b[1;33m(\u001b[0m\u001b[1;33m(\u001b[0m\u001b[0mm\u001b[0m\u001b[1;33m,\u001b[0m\u001b[1;33m-\u001b[0m\u001b[1;36m1\u001b[0m\u001b[1;33m,\u001b[0m\u001b[1;36m1\u001b[0m\u001b[1;33m)\u001b[0m\u001b[1;33m)\u001b[0m\u001b[1;33m.\u001b[0m\u001b[0msqueeze\u001b[0m\u001b[1;33m(\u001b[0m\u001b[0maxis\u001b[0m\u001b[1;33m=\u001b[0m\u001b[1;36m2\u001b[0m\u001b[1;33m)\u001b[0m\u001b[1;33m\u001b[0m\u001b[0m\n\u001b[1;32m---> 23\u001b[1;33m \u001b[0mMM3\u001b[0m \u001b[1;33m=\u001b[0m \u001b[0mnp\u001b[0m\u001b[1;33m.\u001b[0m\u001b[0marray\u001b[0m\u001b[1;33m(\u001b[0m\u001b[0mMM3\u001b[0m\u001b[1;33m)\u001b[0m\u001b[1;33m.\u001b[0m\u001b[0mT\u001b[0m\u001b[1;33m.\u001b[0m\u001b[0msqueeze\u001b[0m\u001b[1;33m(\u001b[0m\u001b[0maxis\u001b[0m\u001b[1;33m=\u001b[0m\u001b[1;36m2\u001b[0m\u001b[1;33m)\u001b[0m\u001b[1;33m\u001b[0m\u001b[0m\n\u001b[0m\u001b[0;32m     24\u001b[0m \u001b[0mM2\u001b[0m \u001b[1;33m=\u001b[0m \u001b[0mnp\u001b[0m\u001b[1;33m.\u001b[0m\u001b[0marray\u001b[0m\u001b[1;33m(\u001b[0m\u001b[0mM2\u001b[0m\u001b[1;33m)\u001b[0m\u001b[1;33m.\u001b[0m\u001b[0mT\u001b[0m\u001b[1;33m\u001b[0m\u001b[0m\n\u001b[0;32m     25\u001b[0m \u001b[1;33m\u001b[0m\u001b[0m\n",
      "\u001b[1;31mAxisError\u001b[0m: axis 2 is out of bounds for array of dimension 1"
     ]
    }
   ],
   "source": [
    "    m,l = X.shape\n",
    "    \n",
    "    M1 = []\n",
    "    M2 = []\n",
    "    M3 = []\n",
    "    MM1 = []\n",
    "    MM3 = []\n",
    "\n",
    "    Msum = np.sum(X,axis=1)\n",
    "\n",
    "    for i in range(order):\n",
    "        for k in range(l):\n",
    "            M1.append(X[:,k]**(i+1))\n",
    "            if (i>0):\n",
    "                M3.append(X[:,k]*Msum**(i)) \n",
    "        M2.append(Msum**(i+1))\n",
    "        MM1.append(M1)\n",
    "        if (i>0):\n",
    "            MM3.append(M3)\n",
    "\n",
    "    MM1 = np.array(MM1).T\n",
    "    MM1 = MM1.reshape((m,-1,1)).squeeze(axis=2)\n",
    "    MM3 = np.array(MM3).T.squeeze(axis=2)\n",
    "    M2 = np.array(M2).T\n",
    "\n",
    "    P = np.concatenate((np.ones((m,1)),MM1,M2,MM3),axis=1)\n"
   ]
  },
  {
   "cell_type": "code",
   "execution_count": 58,
   "metadata": {},
   "outputs": [
    {
     "ename": "AttributeError",
     "evalue": "'list' object has no attribute 'shape'",
     "output_type": "error",
     "traceback": [
      "\u001b[1;31m---------------------------------------------------------------------------\u001b[0m",
      "\u001b[1;31mAttributeError\u001b[0m                            Traceback (most recent call last)",
      "\u001b[1;32m<ipython-input-58-ee94f0fffbae>\u001b[0m in \u001b[0;36m<module>\u001b[1;34m()\u001b[0m\n\u001b[1;32m----> 1\u001b[1;33m \u001b[0mMM3\u001b[0m\u001b[1;33m.\u001b[0m\u001b[0mshape\u001b[0m\u001b[1;33m\u001b[0m\u001b[0m\n\u001b[0m",
      "\u001b[1;31mAttributeError\u001b[0m: 'list' object has no attribute 'shape'"
     ]
    }
   ],
   "source": [
    "MM3.shape"
   ]
  },
  {
   "cell_type": "code",
   "execution_count": 59,
   "metadata": {},
   "outputs": [],
   "source": [
    "MM3 = np.array(MM3).T.shape"
   ]
  },
  {
   "cell_type": "code",
   "execution_count": 60,
   "metadata": {},
   "outputs": [
    {
     "ename": "AxisError",
     "evalue": "axis 2 is out of bounds for array of dimension 1",
     "output_type": "error",
     "traceback": [
      "\u001b[1;31m---------------------------------------------------------------------------\u001b[0m",
      "\u001b[1;31mAxisError\u001b[0m                                 Traceback (most recent call last)",
      "\u001b[1;32m<ipython-input-60-787227416b8f>\u001b[0m in \u001b[0;36m<module>\u001b[1;34m()\u001b[0m\n\u001b[0;32m     21\u001b[0m \u001b[0mMM1\u001b[0m \u001b[1;33m=\u001b[0m \u001b[0mnp\u001b[0m\u001b[1;33m.\u001b[0m\u001b[0marray\u001b[0m\u001b[1;33m(\u001b[0m\u001b[0mMM1\u001b[0m\u001b[1;33m)\u001b[0m\u001b[1;33m.\u001b[0m\u001b[0mT\u001b[0m\u001b[1;33m\u001b[0m\u001b[0m\n\u001b[0;32m     22\u001b[0m \u001b[0mMM1\u001b[0m \u001b[1;33m=\u001b[0m \u001b[0mMM1\u001b[0m\u001b[1;33m.\u001b[0m\u001b[0mreshape\u001b[0m\u001b[1;33m(\u001b[0m\u001b[1;33m(\u001b[0m\u001b[0mm\u001b[0m\u001b[1;33m,\u001b[0m\u001b[1;33m-\u001b[0m\u001b[1;36m1\u001b[0m\u001b[1;33m,\u001b[0m\u001b[1;36m1\u001b[0m\u001b[1;33m)\u001b[0m\u001b[1;33m)\u001b[0m\u001b[1;33m.\u001b[0m\u001b[0msqueeze\u001b[0m\u001b[1;33m(\u001b[0m\u001b[0maxis\u001b[0m\u001b[1;33m=\u001b[0m\u001b[1;36m2\u001b[0m\u001b[1;33m)\u001b[0m\u001b[1;33m\u001b[0m\u001b[0m\n\u001b[1;32m---> 23\u001b[1;33m \u001b[0mMM3\u001b[0m \u001b[1;33m=\u001b[0m \u001b[0mnp\u001b[0m\u001b[1;33m.\u001b[0m\u001b[0marray\u001b[0m\u001b[1;33m(\u001b[0m\u001b[0mMM3\u001b[0m\u001b[1;33m)\u001b[0m\u001b[1;33m.\u001b[0m\u001b[0mT\u001b[0m\u001b[1;33m.\u001b[0m\u001b[0msqueeze\u001b[0m\u001b[1;33m(\u001b[0m\u001b[0maxis\u001b[0m\u001b[1;33m=\u001b[0m\u001b[1;36m2\u001b[0m\u001b[1;33m)\u001b[0m\u001b[1;33m\u001b[0m\u001b[0m\n\u001b[0m\u001b[0;32m     24\u001b[0m \u001b[0mM2\u001b[0m \u001b[1;33m=\u001b[0m \u001b[0mnp\u001b[0m\u001b[1;33m.\u001b[0m\u001b[0marray\u001b[0m\u001b[1;33m(\u001b[0m\u001b[0mM2\u001b[0m\u001b[1;33m)\u001b[0m\u001b[1;33m.\u001b[0m\u001b[0mT\u001b[0m\u001b[1;33m\u001b[0m\u001b[0m\n\u001b[0;32m     25\u001b[0m \u001b[1;33m\u001b[0m\u001b[0m\n",
      "\u001b[1;31mAxisError\u001b[0m: axis 2 is out of bounds for array of dimension 1"
     ]
    }
   ],
   "source": [
    "    m,l = X.shape\n",
    "    \n",
    "    M1 = []\n",
    "    M2 = []\n",
    "    M3 = []\n",
    "    MM1 = []\n",
    "    MM3 = []\n",
    "\n",
    "    Msum = np.sum(X,axis=1)\n",
    "\n",
    "    for i in range(order):\n",
    "        for k in range(l):\n",
    "            M1.append(X[:,k]**(i+1))\n",
    "            if (i>0):\n",
    "                M3.append(X[:,k]*Msum**(i)) \n",
    "        M2.append(Msum**(i+1))\n",
    "        MM1.append(M1)\n",
    "        if (i>0):\n",
    "            MM3.append(M3)\n",
    "\n",
    "    MM1 = np.array(MM1).T\n",
    "    MM1 = MM1.reshape((m,-1,1)).squeeze(axis=2)\n",
    "    MM3 = np.array(MM3).T.squeeze(axis=2)\n",
    "    M2 = np.array(M2).T\n",
    "\n",
    "    P = np.concatenate((np.ones((m,1)),MM1,M2,MM3),axis=1)\n"
   ]
  },
  {
   "cell_type": "code",
   "execution_count": 62,
   "metadata": {},
   "outputs": [
    {
     "data": {
      "text/plain": [
       "array([], dtype=float64)"
      ]
     },
     "execution_count": 62,
     "metadata": {},
     "output_type": "execute_result"
    }
   ],
   "source": [
    "np.array(MM3).T"
   ]
  },
  {
   "cell_type": "code",
   "execution_count": 63,
   "metadata": {},
   "outputs": [
    {
     "data": {
      "text/plain": [
       "[]"
      ]
     },
     "execution_count": 63,
     "metadata": {},
     "output_type": "execute_result"
    }
   ],
   "source": [
    "MM3"
   ]
  },
  {
   "cell_type": "code",
   "execution_count": 64,
   "metadata": {},
   "outputs": [
    {
     "data": {
      "text/plain": [
       "array([], dtype=float64)"
      ]
     },
     "execution_count": 64,
     "metadata": {},
     "output_type": "execute_result"
    }
   ],
   "source": [
    "np.array(MM3)"
   ]
  },
  {
   "cell_type": "code",
   "execution_count": 65,
   "metadata": {},
   "outputs": [
    {
     "ename": "ValueError",
     "evalue": "all the input array dimensions except for the concatenation axis must match exactly",
     "output_type": "error",
     "traceback": [
      "\u001b[1;31m---------------------------------------------------------------------------\u001b[0m",
      "\u001b[1;31mValueError\u001b[0m                                Traceback (most recent call last)",
      "\u001b[1;32m<ipython-input-65-1b89843ff170>\u001b[0m in \u001b[0;36m<module>\u001b[1;34m()\u001b[0m\n\u001b[1;32m----> 1\u001b[1;33m \u001b[0mP\u001b[0m \u001b[1;33m=\u001b[0m \u001b[0mnp\u001b[0m\u001b[1;33m.\u001b[0m\u001b[0mconcatenate\u001b[0m\u001b[1;33m(\u001b[0m\u001b[1;33m(\u001b[0m\u001b[0mnp\u001b[0m\u001b[1;33m.\u001b[0m\u001b[0mones\u001b[0m\u001b[1;33m(\u001b[0m\u001b[1;33m(\u001b[0m\u001b[0mm\u001b[0m\u001b[1;33m,\u001b[0m\u001b[1;36m1\u001b[0m\u001b[1;33m)\u001b[0m\u001b[1;33m)\u001b[0m\u001b[1;33m,\u001b[0m\u001b[0mMM1\u001b[0m\u001b[1;33m,\u001b[0m\u001b[0mM2\u001b[0m\u001b[1;33m,\u001b[0m\u001b[0mMM3\u001b[0m\u001b[1;33m)\u001b[0m\u001b[1;33m,\u001b[0m\u001b[0maxis\u001b[0m\u001b[1;33m=\u001b[0m\u001b[1;36m1\u001b[0m\u001b[1;33m)\u001b[0m\u001b[1;33m\u001b[0m\u001b[0m\n\u001b[0m",
      "\u001b[1;31mValueError\u001b[0m: all the input array dimensions except for the concatenation axis must match exactly"
     ]
    }
   ],
   "source": [
    "P = np.concatenate((np.ones((m,1)),MM1,M2,MM3),axis=1)"
   ]
  },
  {
   "cell_type": "code",
   "execution_count": 66,
   "metadata": {},
   "outputs": [
    {
     "data": {
      "text/plain": [
       "0"
      ]
     },
     "execution_count": 66,
     "metadata": {},
     "output_type": "execute_result"
    }
   ],
   "source": [
    "len(MM3)"
   ]
  },
  {
   "cell_type": "code",
   "execution_count": 67,
   "metadata": {},
   "outputs": [
    {
     "data": {
      "text/plain": [
       "[]"
      ]
     },
     "execution_count": 67,
     "metadata": {},
     "output_type": "execute_result"
    }
   ],
   "source": [
    "MM3"
   ]
  },
  {
   "cell_type": "code",
   "execution_count": 79,
   "metadata": {},
   "outputs": [
    {
     "name": "stdout",
     "output_type": "stream",
     "text": [
      "1\n"
     ]
    }
   ],
   "source": [
    "if(len(MM1)):\n",
    "    print(1)"
   ]
  },
  {
   "cell_type": "code",
   "execution_count": 76,
   "metadata": {},
   "outputs": [
    {
     "data": {
      "text/plain": [
       "[array([11.2, 11.5, 10.7, 12. ,  8.4,  9.7, 11.2, 10.5, 10.3,  9.4, 10.4,\n",
       "        10.2,  9.6,  9.4, 10.3, 10.8,  9.4, 10.7,  9.7, 11.4,  9.5, 10.4,\n",
       "         9.6, 10.9,  9.4, 13.9, 15.1, 13.6, 12.8, 14.1, 13.8, 13.2, 13.3,\n",
       "        15.6, 13.4, 16. , 13.1, 15.4, 16.4, 14.9, 14.2, 14.6, 15.1, 15.8,\n",
       "        13.2, 14.7, 13.1, 16.4, 15.5, 15.6, 16.1, 17.8, 20.4, 18.1, 16.8,\n",
       "        14.7, 17.5, 18.3, 16.9, 17.7, 18.1, 19.3, 18.2, 16.8, 13.6, 17.4,\n",
       "        16.8, 16.3, 16.8, 20.1, 15.5, 18.2, 17.4, 17.8, 17.5])]"
      ]
     },
     "execution_count": 76,
     "metadata": {},
     "output_type": "execute_result"
    }
   ],
   "source": [
    "M2"
   ]
  },
  {
   "cell_type": "code",
   "execution_count": 80,
   "metadata": {},
   "outputs": [],
   "source": [
    "    m,l = X.shape\n",
    "    \n",
    "    M1 = []\n",
    "    M2 = []\n",
    "    M3 = []\n",
    "    MM1 = []\n",
    "    MM3 = []\n",
    "\n",
    "    Msum = np.sum(X,axis=1)\n",
    "\n",
    "    for i in range(order):\n",
    "        for k in range(l):\n",
    "            M1.append(X[:,k]**(i+1))\n",
    "            if (i>0):\n",
    "                M3.append(X[:,k]*Msum**(i)) \n",
    "        M2.append(Msum**(i+1))\n",
    "        MM1.append(M1)\n",
    "        if (i>0):\n",
    "            MM3.append(M3)\n",
    "\n",
    "    MM1 = np.array(MM1).T\n",
    "    MM1 = MM1.reshape((m,-1,1)).squeeze(axis=2)\n",
    "    M2 = np.array(M2).T\n",
    "    if (len(MM3)):\n",
    "        MM3 = np.array(MM3).T.squeeze(axis=2)\n",
    "        P = np.concatenate((np.ones((m,1)),MM1,M2,MM3),axis=1)\n",
    "    else : P = np.concatenate((np.ones((m,1)),MM1,M2),axis=1)"
   ]
  },
  {
   "cell_type": "code",
   "execution_count": 81,
   "metadata": {},
   "outputs": [],
   "source": [
    "order =3"
   ]
  },
  {
   "cell_type": "code",
   "execution_count": 82,
   "metadata": {},
   "outputs": [
    {
     "ename": "ValueError",
     "evalue": "cannot select an axis to squeeze out which has size not equal to one",
     "output_type": "error",
     "traceback": [
      "\u001b[1;31m---------------------------------------------------------------------------\u001b[0m",
      "\u001b[1;31mValueError\u001b[0m                                Traceback (most recent call last)",
      "\u001b[1;32m<ipython-input-82-6d2309308b8f>\u001b[0m in \u001b[0;36m<module>\u001b[1;34m()\u001b[0m\n\u001b[0;32m     23\u001b[0m \u001b[0mM2\u001b[0m \u001b[1;33m=\u001b[0m \u001b[0mnp\u001b[0m\u001b[1;33m.\u001b[0m\u001b[0marray\u001b[0m\u001b[1;33m(\u001b[0m\u001b[0mM2\u001b[0m\u001b[1;33m)\u001b[0m\u001b[1;33m.\u001b[0m\u001b[0mT\u001b[0m\u001b[1;33m\u001b[0m\u001b[0m\n\u001b[0;32m     24\u001b[0m \u001b[1;32mif\u001b[0m \u001b[1;33m(\u001b[0m\u001b[0mlen\u001b[0m\u001b[1;33m(\u001b[0m\u001b[0mMM3\u001b[0m\u001b[1;33m)\u001b[0m\u001b[1;33m)\u001b[0m\u001b[1;33m:\u001b[0m\u001b[1;33m\u001b[0m\u001b[0m\n\u001b[1;32m---> 25\u001b[1;33m     \u001b[0mMM3\u001b[0m \u001b[1;33m=\u001b[0m \u001b[0mnp\u001b[0m\u001b[1;33m.\u001b[0m\u001b[0marray\u001b[0m\u001b[1;33m(\u001b[0m\u001b[0mMM3\u001b[0m\u001b[1;33m)\u001b[0m\u001b[1;33m.\u001b[0m\u001b[0mT\u001b[0m\u001b[1;33m.\u001b[0m\u001b[0msqueeze\u001b[0m\u001b[1;33m(\u001b[0m\u001b[0maxis\u001b[0m\u001b[1;33m=\u001b[0m\u001b[1;36m2\u001b[0m\u001b[1;33m)\u001b[0m\u001b[1;33m\u001b[0m\u001b[0m\n\u001b[0m\u001b[0;32m     26\u001b[0m     \u001b[0mP\u001b[0m \u001b[1;33m=\u001b[0m \u001b[0mnp\u001b[0m\u001b[1;33m.\u001b[0m\u001b[0mconcatenate\u001b[0m\u001b[1;33m(\u001b[0m\u001b[1;33m(\u001b[0m\u001b[0mnp\u001b[0m\u001b[1;33m.\u001b[0m\u001b[0mones\u001b[0m\u001b[1;33m(\u001b[0m\u001b[1;33m(\u001b[0m\u001b[0mm\u001b[0m\u001b[1;33m,\u001b[0m\u001b[1;36m1\u001b[0m\u001b[1;33m)\u001b[0m\u001b[1;33m)\u001b[0m\u001b[1;33m,\u001b[0m\u001b[0mMM1\u001b[0m\u001b[1;33m,\u001b[0m\u001b[0mM2\u001b[0m\u001b[1;33m,\u001b[0m\u001b[0mMM3\u001b[0m\u001b[1;33m)\u001b[0m\u001b[1;33m,\u001b[0m\u001b[0maxis\u001b[0m\u001b[1;33m=\u001b[0m\u001b[1;36m1\u001b[0m\u001b[1;33m)\u001b[0m\u001b[1;33m\u001b[0m\u001b[0m\n\u001b[0;32m     27\u001b[0m \u001b[1;32melse\u001b[0m \u001b[1;33m:\u001b[0m \u001b[0mP\u001b[0m \u001b[1;33m=\u001b[0m \u001b[0mnp\u001b[0m\u001b[1;33m.\u001b[0m\u001b[0mconcatenate\u001b[0m\u001b[1;33m(\u001b[0m\u001b[1;33m(\u001b[0m\u001b[0mnp\u001b[0m\u001b[1;33m.\u001b[0m\u001b[0mones\u001b[0m\u001b[1;33m(\u001b[0m\u001b[1;33m(\u001b[0m\u001b[0mm\u001b[0m\u001b[1;33m,\u001b[0m\u001b[1;36m1\u001b[0m\u001b[1;33m)\u001b[0m\u001b[1;33m)\u001b[0m\u001b[1;33m,\u001b[0m\u001b[0mMM1\u001b[0m\u001b[1;33m,\u001b[0m\u001b[0mM2\u001b[0m\u001b[1;33m)\u001b[0m\u001b[1;33m,\u001b[0m\u001b[0maxis\u001b[0m\u001b[1;33m=\u001b[0m\u001b[1;36m1\u001b[0m\u001b[1;33m)\u001b[0m\u001b[1;33m\u001b[0m\u001b[0m\n",
      "\u001b[1;31mValueError\u001b[0m: cannot select an axis to squeeze out which has size not equal to one"
     ]
    }
   ],
   "source": [
    "    m,l = X.shape\n",
    "    \n",
    "    M1 = []\n",
    "    M2 = []\n",
    "    M3 = []\n",
    "    MM1 = []\n",
    "    MM3 = []\n",
    "\n",
    "    Msum = np.sum(X,axis=1)\n",
    "\n",
    "    for i in range(order):\n",
    "        for k in range(l):\n",
    "            M1.append(X[:,k]**(i+1))\n",
    "            if (i>0):\n",
    "                M3.append(X[:,k]*Msum**(i)) \n",
    "        M2.append(Msum**(i+1))\n",
    "        MM1.append(M1)\n",
    "        if (i>0):\n",
    "            MM3.append(M3)\n",
    "\n",
    "    MM1 = np.array(MM1).T\n",
    "    MM1 = MM1.reshape((m,-1,1)).squeeze(axis=2)\n",
    "    M2 = np.array(M2).T\n",
    "    if (len(MM3)):\n",
    "        MM3 = np.array(MM3).T.squeeze(axis=2)\n",
    "        P = np.concatenate((np.ones((m,1)),MM1,M2,MM3),axis=1)\n",
    "    else : P = np.concatenate((np.ones((m,1)),MM1,M2),axis=1)"
   ]
  },
  {
   "cell_type": "code",
   "execution_count": 83,
   "metadata": {},
   "outputs": [
    {
     "data": {
      "text/plain": [
       "(75, 8, 2)"
      ]
     },
     "execution_count": 83,
     "metadata": {},
     "output_type": "execute_result"
    }
   ],
   "source": [
    "np.array(MM3).T.shape"
   ]
  },
  {
   "cell_type": "code",
   "execution_count": 84,
   "metadata": {},
   "outputs": [],
   "source": [
    "    m,l = X.shape\n",
    "    \n",
    "    M1 = []\n",
    "    M2 = []\n",
    "    M3 = []\n",
    "    MM1 = []\n",
    "    MM3 = []\n",
    "\n",
    "    Msum = np.sum(X,axis=1)\n",
    "\n",
    "    for i in range(order):\n",
    "        for k in range(l):\n",
    "            M1.append(X[:,k]**(i+1))\n",
    "            if (i>0):\n",
    "                M3.append(X[:,k]*Msum**(i)) \n",
    "        M2.append(Msum**(i+1))\n",
    "        MM1.append(M1)\n",
    "        if (i>0):\n",
    "            MM3.append(M3)\n",
    "\n",
    "    MM1 = np.array(MM1).T\n",
    "    MM1 = MM1.reshape((m,-1,1)).squeeze(axis=2)\n",
    "    M2 = np.array(M2).T\n",
    "    if (len(MM3)):\n",
    "        MM3 = np.array(MM3).T\n",
    "        MM3 = MM3.reshape((m,-1,1)).squeeze(axis=2)\n",
    "        P = np.concatenate((np.ones((m,1)),MM1,M2,MM3),axis=1)\n",
    "    else : P = np.concatenate((np.ones((m,1)),MM1,M2),axis=1)"
   ]
  },
  {
   "cell_type": "code",
   "execution_count": 85,
   "metadata": {},
   "outputs": [],
   "source": [
    "def RMmodel(order,X):\n",
    "    #order = 2\n",
    "    m,l = X.shape\n",
    "    \n",
    "    M1 = []\n",
    "    M2 = []\n",
    "    M3 = []\n",
    "    MM1 = []\n",
    "    MM3 = []\n",
    "\n",
    "    Msum = np.sum(X,axis=1)\n",
    "\n",
    "    for i in range(order):\n",
    "        for k in range(l):\n",
    "            M1.append(X[:,k]**(i+1))\n",
    "            if (i>0):\n",
    "                M3.append(X[:,k]*Msum**(i)) \n",
    "        M2.append(Msum**(i+1))\n",
    "        MM1.append(M1)\n",
    "        if (i>0):\n",
    "            MM3.append(M3)\n",
    "\n",
    "    MM1 = np.array(MM1).T\n",
    "    MM1 = MM1.reshape((m,-1,1)).squeeze(axis=2)\n",
    "    M2 = np.array(M2).T\n",
    "    if (len(MM3)):\n",
    "        MM3 = np.array(MM3).T\n",
    "        MM3 = MM3.reshape((m,-1,1)).squeeze(axis=2)\n",
    "        P = np.concatenate((np.ones((m,1)),MM1,M2,MM3),axis=1)\n",
    "    else : P = np.concatenate((np.ones((m,1)),MM1,M2),axis=1)\n",
    "\n",
    "    return(P)"
   ]
  },
  {
   "cell_type": "code",
   "execution_count": 86,
   "metadata": {},
   "outputs": [],
   "source": [
    "P = RMmodel(6,data_train)"
   ]
  },
  {
   "cell_type": "code",
   "execution_count": 87,
   "metadata": {},
   "outputs": [
    {
     "ename": "ValueError",
     "evalue": "operands could not be broadcast together with shapes (251,75) (75,251) ",
     "output_type": "error",
     "traceback": [
      "\u001b[1;31m---------------------------------------------------------------------------\u001b[0m",
      "\u001b[1;31mValueError\u001b[0m                                Traceback (most recent call last)",
      "\u001b[1;32m<ipython-input-87-e0e0cd479c7f>\u001b[0m in \u001b[0;36m<module>\u001b[1;34m()\u001b[0m\n\u001b[1;32m----> 1\u001b[1;33m \u001b[0mI\u001b[0m \u001b[1;33m=\u001b[0m \u001b[0mnp\u001b[0m\u001b[1;33m.\u001b[0m\u001b[0meye\u001b[0m\u001b[1;33m(\u001b[0m\u001b[0mshape\u001b[0m\u001b[1;33m=\u001b[0m\u001b[0mP\u001b[0m\u001b[1;33m.\u001b[0m\u001b[0mT\u001b[0m\u001b[1;33m*\u001b[0m\u001b[0mP\u001b[0m\u001b[1;33m)\u001b[0m\u001b[1;33m\u001b[0m\u001b[0m\n\u001b[0m",
      "\u001b[1;31mValueError\u001b[0m: operands could not be broadcast together with shapes (251,75) (75,251) "
     ]
    }
   ],
   "source": [
    "I = np.eye(shape=P.T*P)"
   ]
  },
  {
   "cell_type": "code",
   "execution_count": 91,
   "metadata": {},
   "outputs": [
    {
     "data": {
      "text/plain": [
       "(251, 251)"
      ]
     },
     "execution_count": 91,
     "metadata": {},
     "output_type": "execute_result"
    }
   ],
   "source": [
    "P.T.dot(P).shape"
   ]
  },
  {
   "cell_type": "code",
   "execution_count": 99,
   "metadata": {},
   "outputs": [],
   "source": [
    "I = np.eye(P.shape[1])"
   ]
  },
  {
   "cell_type": "code",
   "execution_count": 100,
   "metadata": {},
   "outputs": [
    {
     "data": {
      "text/plain": [
       "(251, 251)"
      ]
     },
     "execution_count": 100,
     "metadata": {},
     "output_type": "execute_result"
    }
   ],
   "source": [
    "I.shape"
   ]
  },
  {
   "cell_type": "code",
   "execution_count": 98,
   "metadata": {},
   "outputs": [
    {
     "data": {
      "text/plain": [
       "(75, 251)"
      ]
     },
     "execution_count": 98,
     "metadata": {},
     "output_type": "execute_result"
    }
   ],
   "source": [
    "P.shape"
   ]
  },
  {
   "cell_type": "code",
   "execution_count": 101,
   "metadata": {},
   "outputs": [],
   "source": [
    "b = 10**(-4)"
   ]
  },
  {
   "cell_type": "code",
   "execution_count": 107,
   "metadata": {},
   "outputs": [],
   "source": [
    "alpha = np.linalg.pinv((P.T).dot(P)+b*I).dot(P.T).dot(label_train)"
   ]
  },
  {
   "cell_type": "code",
   "execution_count": 104,
   "metadata": {},
   "outputs": [
    {
     "data": {
      "text/plain": [
       "(251, 75)"
      ]
     },
     "execution_count": 104,
     "metadata": {},
     "output_type": "execute_result"
    }
   ],
   "source": [
    "alpha.shape"
   ]
  },
  {
   "cell_type": "code",
   "execution_count": 106,
   "metadata": {},
   "outputs": [
    {
     "data": {
      "text/plain": [
       "(75,)"
      ]
     },
     "execution_count": 106,
     "metadata": {},
     "output_type": "execute_result"
    }
   ],
   "source": [
    "label_train.shape"
   ]
  },
  {
   "cell_type": "code",
   "execution_count": 108,
   "metadata": {},
   "outputs": [],
   "source": [
    "y_train = P.dot(alpha)"
   ]
  },
  {
   "cell_type": "code",
   "execution_count": 111,
   "metadata": {},
   "outputs": [
    {
     "data": {
      "text/plain": [
       "array([ 6.27688012e-02,  6.25686954e-02, -3.57953486e-02,  2.32317347e-02,\n",
       "       -3.79584174e-02,  3.16703495e-02,  1.83983735e-02,  3.01199838e-02,\n",
       "       -1.44321028e-02, -1.00313962e-01,  5.15772264e-02, -3.48819029e-02,\n",
       "       -4.52559698e-04, -3.18051618e-02,  9.18672566e-02, -1.22343114e-02,\n",
       "        1.66203568e-02, -4.75066304e-02,  6.07512163e-02,  5.18008515e-03,\n",
       "        1.78829964e-02, -1.06192374e-02, -4.52559698e-04, -1.13680032e-01,\n",
       "        5.20263513e-02,  9.77435159e-01,  1.08506153e+00,  8.50019220e-01,\n",
       "        7.73997905e-01,  9.71577356e-01,  1.08507852e+00,  1.11496918e+00,\n",
       "        1.12335410e+00,  8.97768666e-01,  8.09540107e-01,  1.08211982e+00,\n",
       "        9.80253003e-01,  9.35646441e-01,  1.40817653e+00,  8.90995549e-01,\n",
       "        9.05691871e-01,  1.05270237e+00,  1.16350586e+00,  9.92209804e-01,\n",
       "        1.12217325e+00,  9.22641768e-01,  1.22896703e+00,  1.06239101e+00,\n",
       "        1.18305810e+00,  1.07500683e+00,  2.01884065e+00,  2.04569671e+00,\n",
       "        2.00836819e+00,  2.06109014e+00,  1.82595725e+00,  1.83024941e+00,\n",
       "        1.89512827e+00,  2.03370976e+00,  2.13233907e+00,  2.00259389e+00,\n",
       "        1.96281181e+00,  1.96076488e+00,  1.86617768e+00,  2.16423599e+00,\n",
       "        1.89168557e+00,  1.95867825e+00,  1.77610143e+00,  1.86621345e+00,\n",
       "        1.83254342e+00,  2.02353437e+00,  1.92709358e+00,  1.98381796e+00,\n",
       "        1.93926999e+00,  2.03698314e+00,  2.17721385e+00])"
      ]
     },
     "execution_count": 111,
     "metadata": {},
     "output_type": "execute_result"
    }
   ],
   "source": [
    "y_train"
   ]
  },
  {
   "cell_type": "code",
   "execution_count": null,
   "metadata": {},
   "outputs": [],
   "source": []
  }
 ],
 "metadata": {
  "kernelspec": {
   "display_name": "Python 3",
   "language": "python",
   "name": "python3"
  },
  "language_info": {
   "codemirror_mode": {
    "name": "ipython",
    "version": 3
   },
   "file_extension": ".py",
   "mimetype": "text/x-python",
   "name": "python",
   "nbconvert_exporter": "python",
   "pygments_lexer": "ipython3",
   "version": "3.6.4"
  }
 },
 "nbformat": 4,
 "nbformat_minor": 2
}
