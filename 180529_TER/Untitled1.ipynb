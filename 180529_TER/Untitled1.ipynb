{
 "cells": [
  {
   "cell_type": "code",
   "execution_count": 1,
   "metadata": {},
   "outputs": [],
   "source": [
    "##########################################\n",
    "## Made by : HERO Kwon\n",
    "## Title : TER\n",
    "## Version : v0\n",
    "## Date : 2018.05.29.\n",
    "## Description : TER-RM Algorithm\n",
    "##########################################\n",
    "\n",
    "\n",
    "# Main\n",
    "\n",
    "# packages\n",
    "\n",
    "import numpy as np\n",
    "import pandas as pd\n",
    "import scipy as sp\n",
    "import os\n",
    "import re\n",
    "import imageio\n",
    "from matplotlib import pyplot as plt\n",
    "from sklearn.model_selection import train_test_split\n",
    "import random\n",
    "from sklearn.metrics import confusion_matrix\n",
    "import time\n",
    "\n",
    "from sklearn.datasets import load_iris\n",
    " \n",
    "data = load_iris()\n",
    "data_v = data['data']\n",
    "data_l = data['target']\n",
    "\n",
    "data_train = np.array([]).reshape(0,4)\n",
    "data_test = np.array([]).reshape(0,4)\n",
    "label_train = np.array([])\n",
    "label_test = np.array([])\n",
    "\n",
    "for target in list(set(data['target'])):\n",
    "    v_train, v_test = train_test_split(data_v[data_l==target],test_size = 0.5)\n",
    "    l_train = np.full(shape=len(v_train),fill_value=target)\n",
    "    l_test = np.full(shape=len(v_test),fill_value=target)\n",
    "    data_train = np.concatenate((data_train,v_train))\n",
    "    data_test = np.concatenate((data_train,v_test))\n",
    "    label_train = np.concatenate((label_train,l_train))\n",
    "    label_test = np.concatenate((label_test,l_test))"
   ]
  },
  {
   "cell_type": "code",
   "execution_count": 2,
   "metadata": {
    "collapsed": true
   },
   "outputs": [
    {
     "data": {
      "text/plain": [
       "array([[4.8, 3.4, 1.6, 0.2],\n",
       "       [5.4, 3.9, 1.7, 0.4],\n",
       "       [4.4, 3.2, 1.3, 0.2],\n",
       "       [4.8, 3. , 1.4, 0.3],\n",
       "       [5.1, 3.3, 1.7, 0.5],\n",
       "       [5.4, 3.4, 1.5, 0.4],\n",
       "       [4.4, 3. , 1.3, 0.2],\n",
       "       [4.6, 3.4, 1.4, 0.3],\n",
       "       [4.8, 3.4, 1.9, 0.2],\n",
       "       [5. , 3.4, 1.5, 0.2],\n",
       "       [5.1, 3.5, 1.4, 0.2],\n",
       "       [4.4, 2.9, 1.4, 0.2],\n",
       "       [4.7, 3.2, 1.6, 0.2],\n",
       "       [5.8, 4. , 1.2, 0.2],\n",
       "       [5.1, 3.8, 1.6, 0.2],\n",
       "       [5. , 3.4, 1.6, 0.4],\n",
       "       [5. , 3.6, 1.4, 0.2],\n",
       "       [5. , 3.5, 1.3, 0.3],\n",
       "       [5. , 3.5, 1.6, 0.6],\n",
       "       [5.5, 3.5, 1.3, 0.2],\n",
       "       [4.8, 3.1, 1.6, 0.2],\n",
       "       [5.2, 3.5, 1.5, 0.2],\n",
       "       [4.7, 3.2, 1.3, 0.2],\n",
       "       [5.1, 3.7, 1.5, 0.4],\n",
       "       [5.4, 3.7, 1.5, 0.2],\n",
       "       [6.7, 3.1, 4.4, 1.4],\n",
       "       [5.7, 2.9, 4.2, 1.3],\n",
       "       [5.7, 3. , 4.2, 1.2],\n",
       "       [6.7, 3. , 5. , 1.7],\n",
       "       [5. , 2. , 3.5, 1. ],\n",
       "       [5.6, 3. , 4.5, 1.5],\n",
       "       [6.2, 2.9, 4.3, 1.3],\n",
       "       [6. , 2.2, 4. , 1. ],\n",
       "       [6.1, 2.8, 4.7, 1.2],\n",
       "       [5.5, 2.5, 4. , 1.3],\n",
       "       [5.5, 2.4, 3.8, 1.1],\n",
       "       [5.5, 2.6, 4.4, 1.2],\n",
       "       [6.4, 2.9, 4.3, 1.3],\n",
       "       [6. , 3.4, 4.5, 1.6],\n",
       "       [5.7, 2.8, 4.1, 1.3],\n",
       "       [6.3, 2.5, 4.9, 1.5],\n",
       "       [5.2, 2.7, 3.9, 1.4],\n",
       "       [6.1, 3. , 4.6, 1.4],\n",
       "       [5.6, 2.7, 4.2, 1.3],\n",
       "       [5.8, 2.7, 3.9, 1.2],\n",
       "       [6.2, 2.2, 4.5, 1.5],\n",
       "       [6.1, 2.9, 4.7, 1.4],\n",
       "       [5.9, 3.2, 4.8, 1.8],\n",
       "       [5.6, 3. , 4.1, 1.3],\n",
       "       [4.9, 2.4, 3.3, 1. ],\n",
       "       [7.6, 3. , 6.6, 2.1],\n",
       "       [6.5, 3. , 5.2, 2. ],\n",
       "       [6.4, 3.2, 5.3, 2.3],\n",
       "       [7.4, 2.8, 6.1, 1.9],\n",
       "       [6.5, 3. , 5.5, 1.8],\n",
       "       [6.2, 3.4, 5.4, 2.3],\n",
       "       [5.8, 2.7, 5.1, 1.9],\n",
       "       [6.3, 2.5, 5. , 1.9],\n",
       "       [5.9, 3. , 5.1, 1.8],\n",
       "       [5.8, 2.7, 5.1, 1.9],\n",
       "       [6.7, 2.5, 5.8, 1.8],\n",
       "       [6.4, 2.8, 5.6, 2.1],\n",
       "       [7.9, 3.8, 6.4, 2. ],\n",
       "       [6.3, 2.7, 4.9, 1.8],\n",
       "       [6.1, 3. , 4.9, 1.8],\n",
       "       [5.8, 2.8, 5.1, 2.4],\n",
       "       [6.7, 3. , 5.2, 2.3],\n",
       "       [6.8, 3. , 5.5, 2.1],\n",
       "       [6.9, 3.1, 5.1, 2.3],\n",
       "       [6.5, 3.2, 5.1, 2. ],\n",
       "       [7.1, 3. , 5.9, 2.1],\n",
       "       [6.7, 3.1, 5.6, 2.4],\n",
       "       [7.3, 2.9, 6.3, 1.8],\n",
       "       [7.2, 3. , 5.8, 1.6],\n",
       "       [6.3, 3.3, 6. , 2.5]])"
      ]
     },
     "execution_count": 2,
     "metadata": {},
     "output_type": "execute_result"
    }
   ],
   "source": [
    "data_train"
   ]
  },
  {
   "cell_type": "code",
   "execution_count": 5,
   "metadata": {},
   "outputs": [],
   "source": [
    "X = data_train"
   ]
  },
  {
   "cell_type": "code",
   "execution_count": 8,
   "metadata": {},
   "outputs": [],
   "source": [
    "m,l = X.shape"
   ]
  },
  {
   "cell_type": "code",
   "execution_count": 9,
   "metadata": {},
   "outputs": [],
   "source": [
    "MM1 = []\n",
    "MM3 = []"
   ]
  },
  {
   "cell_type": "code",
   "execution_count": 10,
   "metadata": {},
   "outputs": [
    {
     "data": {
      "text/plain": [
       "array([435.6, 228.8, 281.5,  90.9])"
      ]
     },
     "execution_count": 10,
     "metadata": {},
     "output_type": "execute_result"
    }
   ],
   "source": [
    "sum(X)"
   ]
  },
  {
   "cell_type": "code",
   "execution_count": 12,
   "metadata": {},
   "outputs": [
    {
     "data": {
      "text/plain": [
       "(75, 4)"
      ]
     },
     "execution_count": 12,
     "metadata": {},
     "output_type": "execute_result"
    }
   ],
   "source": [
    "X.shape"
   ]
  },
  {
   "cell_type": "code",
   "execution_count": 13,
   "metadata": {},
   "outputs": [
    {
     "data": {
      "text/plain": [
       "array([3.4, 3.9, 3.2, 3. , 3.3, 3.4, 3. , 3.4, 3.4, 3.4, 3.5, 2.9, 3.2,\n",
       "       4. , 3.8, 3.4, 3.6, 3.5, 3.5, 3.5, 3.1, 3.5, 3.2, 3.7, 3.7, 3.1,\n",
       "       2.9, 3. , 3. , 2. , 3. , 2.9, 2.2, 2.8, 2.5, 2.4, 2.6, 2.9, 3.4,\n",
       "       2.8, 2.5, 2.7, 3. , 2.7, 2.7, 2.2, 2.9, 3.2, 3. , 2.4, 3. , 3. ,\n",
       "       3.2, 2.8, 3. , 3.4, 2.7, 2.5, 3. , 2.7, 2.5, 2.8, 3.8, 2.7, 3. ,\n",
       "       2.8, 3. , 3. , 3.1, 3.2, 3. , 3.1, 2.9, 3. , 3.3])"
      ]
     },
     "execution_count": 13,
     "metadata": {},
     "output_type": "execute_result"
    }
   ],
   "source": [
    "X[:,1]"
   ]
  },
  {
   "cell_type": "code",
   "execution_count": 16,
   "metadata": {},
   "outputs": [
    {
     "data": {
      "text/plain": [
       "array([[4.8, 3.4, 1.6, 0.2],\n",
       "       [5.4, 3.9, 1.7, 0.4],\n",
       "       [4.4, 3.2, 1.3, 0.2],\n",
       "       [4.8, 3. , 1.4, 0.3],\n",
       "       [5.1, 3.3, 1.7, 0.5]])"
      ]
     },
     "execution_count": 16,
     "metadata": {},
     "output_type": "execute_result"
    }
   ],
   "source": [
    "X[0:5,:]"
   ]
  },
  {
   "cell_type": "code",
   "execution_count": 18,
   "metadata": {},
   "outputs": [
    {
     "ename": "TypeError",
     "evalue": "Required argument 'object' (pos 1) not found",
     "output_type": "error",
     "traceback": [
      "\u001b[1;31m---------------------------------------------------------------------------\u001b[0m",
      "\u001b[1;31mTypeError\u001b[0m                                 Traceback (most recent call last)",
      "\u001b[1;32m<ipython-input-18-13c51707fc96>\u001b[0m in \u001b[0;36m<module>\u001b[1;34m()\u001b[0m\n\u001b[1;32m----> 1\u001b[1;33m \u001b[0ma\u001b[0m \u001b[1;33m=\u001b[0m \u001b[0mnp\u001b[0m\u001b[1;33m.\u001b[0m\u001b[0marray\u001b[0m\u001b[1;33m(\u001b[0m\u001b[1;33m)\u001b[0m\u001b[1;33m\u001b[0m\u001b[0m\n\u001b[0m",
      "\u001b[1;31mTypeError\u001b[0m: Required argument 'object' (pos 1) not found"
     ]
    }
   ],
   "source": [
    "a = np.array()"
   ]
  },
  {
   "cell_type": "code",
   "execution_count": 24,
   "metadata": {},
   "outputs": [
    {
     "data": {
      "text/plain": [
       "array([11.56, 15.21, 10.24,  9.  , 10.89, 11.56,  9.  , 11.56, 11.56,\n",
       "       11.56, 12.25,  8.41, 10.24, 16.  , 14.44, 11.56, 12.96, 12.25,\n",
       "       12.25, 12.25,  9.61, 12.25, 10.24, 13.69, 13.69,  9.61,  8.41,\n",
       "        9.  ,  9.  ,  4.  ,  9.  ,  8.41,  4.84,  7.84,  6.25,  5.76,\n",
       "        6.76,  8.41, 11.56,  7.84,  6.25,  7.29,  9.  ,  7.29,  7.29,\n",
       "        4.84,  8.41, 10.24,  9.  ,  5.76,  9.  ,  9.  , 10.24,  7.84,\n",
       "        9.  , 11.56,  7.29,  6.25,  9.  ,  7.29,  6.25,  7.84, 14.44,\n",
       "        7.29,  9.  ,  7.84,  9.  ,  9.  ,  9.61, 10.24,  9.  ,  9.61,\n",
       "        8.41,  9.  , 10.89])"
      ]
     },
     "execution_count": 24,
     "metadata": {},
     "output_type": "execute_result"
    }
   ],
   "source": [
    "np.power(X[:,1],2)"
   ]
  },
  {
   "cell_type": "code",
   "execution_count": 25,
   "metadata": {},
   "outputs": [
    {
     "data": {
      "text/plain": [
       "array([3.4, 3.9, 3.2, 3. , 3.3, 3.4, 3. , 3.4, 3.4, 3.4, 3.5, 2.9, 3.2,\n",
       "       4. , 3.8, 3.4, 3.6, 3.5, 3.5, 3.5, 3.1, 3.5, 3.2, 3.7, 3.7, 3.1,\n",
       "       2.9, 3. , 3. , 2. , 3. , 2.9, 2.2, 2.8, 2.5, 2.4, 2.6, 2.9, 3.4,\n",
       "       2.8, 2.5, 2.7, 3. , 2.7, 2.7, 2.2, 2.9, 3.2, 3. , 2.4, 3. , 3. ,\n",
       "       3.2, 2.8, 3. , 3.4, 2.7, 2.5, 3. , 2.7, 2.5, 2.8, 3.8, 2.7, 3. ,\n",
       "       2.8, 3. , 3. , 3.1, 3.2, 3. , 3.1, 2.9, 3. , 3.3])"
      ]
     },
     "execution_count": 25,
     "metadata": {},
     "output_type": "execute_result"
    }
   ],
   "source": [
    "X[:,1]"
   ]
  },
  {
   "cell_type": "code",
   "execution_count": 26,
   "metadata": {},
   "outputs": [
    {
     "data": {
      "text/plain": [
       "11.559999999999999"
      ]
     },
     "execution_count": 26,
     "metadata": {},
     "output_type": "execute_result"
    }
   ],
   "source": [
    "3.4**2"
   ]
  },
  {
   "cell_type": "code",
   "execution_count": 27,
   "metadata": {},
   "outputs": [
    {
     "data": {
      "text/plain": [
       "array([11.56, 15.21, 10.24,  9.  , 10.89, 11.56,  9.  , 11.56, 11.56,\n",
       "       11.56, 12.25,  8.41, 10.24, 16.  , 14.44, 11.56, 12.96, 12.25,\n",
       "       12.25, 12.25,  9.61, 12.25, 10.24, 13.69, 13.69,  9.61,  8.41,\n",
       "        9.  ,  9.  ,  4.  ,  9.  ,  8.41,  4.84,  7.84,  6.25,  5.76,\n",
       "        6.76,  8.41, 11.56,  7.84,  6.25,  7.29,  9.  ,  7.29,  7.29,\n",
       "        4.84,  8.41, 10.24,  9.  ,  5.76,  9.  ,  9.  , 10.24,  7.84,\n",
       "        9.  , 11.56,  7.29,  6.25,  9.  ,  7.29,  6.25,  7.84, 14.44,\n",
       "        7.29,  9.  ,  7.84,  9.  ,  9.  ,  9.61, 10.24,  9.  ,  9.61,\n",
       "        8.41,  9.  , 10.89])"
      ]
     },
     "execution_count": 27,
     "metadata": {},
     "output_type": "execute_result"
    }
   ],
   "source": [
    "X[:,1]**2"
   ]
  },
  {
   "cell_type": "code",
   "execution_count": 28,
   "metadata": {},
   "outputs": [],
   "source": [
    "a = []"
   ]
  },
  {
   "cell_type": "code",
   "execution_count": 37,
   "metadata": {},
   "outputs": [
    {
     "data": {
      "text/plain": [
       "array([11.56, 15.21, 10.24,  9.  , 10.89, 11.56,  9.  , 11.56, 11.56,\n",
       "       11.56, 12.25,  8.41, 10.24, 16.  , 14.44, 11.56, 12.96, 12.25,\n",
       "       12.25, 12.25,  9.61, 12.25, 10.24, 13.69, 13.69,  9.61,  8.41,\n",
       "        9.  ,  9.  ,  4.  ,  9.  ,  8.41,  4.84,  7.84,  6.25,  5.76,\n",
       "        6.76,  8.41, 11.56,  7.84,  6.25,  7.29,  9.  ,  7.29,  7.29,\n",
       "        4.84,  8.41, 10.24,  9.  ,  5.76,  9.  ,  9.  , 10.24,  7.84,\n",
       "        9.  , 11.56,  7.29,  6.25,  9.  ,  7.29,  6.25,  7.84, 14.44,\n",
       "        7.29,  9.  ,  7.84,  9.  ,  9.  ,  9.61, 10.24,  9.  ,  9.61,\n",
       "        8.41,  9.  , 10.89])"
      ]
     },
     "execution_count": 37,
     "metadata": {},
     "output_type": "execute_result"
    }
   ],
   "source": [
    "X[:,1]**2"
   ]
  },
  {
   "cell_type": "code",
   "execution_count": 30,
   "metadata": {},
   "outputs": [
    {
     "data": {
      "text/plain": [
       "[array([11.56, 15.21, 10.24,  9.  , 10.89, 11.56,  9.  , 11.56, 11.56,\n",
       "        11.56, 12.25,  8.41, 10.24, 16.  , 14.44, 11.56, 12.96, 12.25,\n",
       "        12.25, 12.25,  9.61, 12.25, 10.24, 13.69, 13.69,  9.61,  8.41,\n",
       "         9.  ,  9.  ,  4.  ,  9.  ,  8.41,  4.84,  7.84,  6.25,  5.76,\n",
       "         6.76,  8.41, 11.56,  7.84,  6.25,  7.29,  9.  ,  7.29,  7.29,\n",
       "         4.84,  8.41, 10.24,  9.  ,  5.76,  9.  ,  9.  , 10.24,  7.84,\n",
       "         9.  , 11.56,  7.29,  6.25,  9.  ,  7.29,  6.25,  7.84, 14.44,\n",
       "         7.29,  9.  ,  7.84,  9.  ,  9.  ,  9.61, 10.24,  9.  ,  9.61,\n",
       "         8.41,  9.  , 10.89])]"
      ]
     },
     "execution_count": 30,
     "metadata": {},
     "output_type": "execute_result"
    }
   ],
   "source": [
    "a"
   ]
  },
  {
   "cell_type": "code",
   "execution_count": 51,
   "metadata": {},
   "outputs": [],
   "source": [
    "b = np.array([]).reshape(0,4)"
   ]
  },
  {
   "cell_type": "code",
   "execution_count": 50,
   "metadata": {},
   "outputs": [
    {
     "ename": "ValueError",
     "evalue": "cannot reshape array of size 0 into shape (75,4)",
     "output_type": "error",
     "traceback": [
      "\u001b[1;31m---------------------------------------------------------------------------\u001b[0m",
      "\u001b[1;31mValueError\u001b[0m                                Traceback (most recent call last)",
      "\u001b[1;32m<ipython-input-50-71211eb6ba9d>\u001b[0m in \u001b[0;36m<module>\u001b[1;34m()\u001b[0m\n\u001b[1;32m----> 1\u001b[1;33m \u001b[0mdata_train\u001b[0m \u001b[1;33m=\u001b[0m \u001b[0mnp\u001b[0m\u001b[1;33m.\u001b[0m\u001b[0marray\u001b[0m\u001b[1;33m(\u001b[0m\u001b[1;33m[\u001b[0m\u001b[1;33m]\u001b[0m\u001b[1;33m)\u001b[0m\u001b[1;33m.\u001b[0m\u001b[0mreshape\u001b[0m\u001b[1;33m(\u001b[0m\u001b[1;36m75\u001b[0m\u001b[1;33m,\u001b[0m\u001b[1;36m4\u001b[0m\u001b[1;33m)\u001b[0m\u001b[1;33m\u001b[0m\u001b[0m\n\u001b[0m",
      "\u001b[1;31mValueError\u001b[0m: cannot reshape array of size 0 into shape (75,4)"
     ]
    }
   ],
   "source": [
    "data_train = np.array([]).reshape(75,4)"
   ]
  },
  {
   "cell_type": "code",
   "execution_count": 52,
   "metadata": {},
   "outputs": [
    {
     "ename": "AttributeError",
     "evalue": "shape",
     "output_type": "error",
     "traceback": [
      "\u001b[1;31m---------------------------------------------------------------------------\u001b[0m",
      "\u001b[1;31mKeyError\u001b[0m                                  Traceback (most recent call last)",
      "\u001b[1;32m~\\Anaconda3\\lib\\site-packages\\sklearn\\utils\\__init__.py\u001b[0m in \u001b[0;36m__getattr__\u001b[1;34m(self, key)\u001b[0m\n\u001b[0;32m     60\u001b[0m         \u001b[1;32mtry\u001b[0m\u001b[1;33m:\u001b[0m\u001b[1;33m\u001b[0m\u001b[0m\n\u001b[1;32m---> 61\u001b[1;33m             \u001b[1;32mreturn\u001b[0m \u001b[0mself\u001b[0m\u001b[1;33m[\u001b[0m\u001b[0mkey\u001b[0m\u001b[1;33m]\u001b[0m\u001b[1;33m\u001b[0m\u001b[0m\n\u001b[0m\u001b[0;32m     62\u001b[0m         \u001b[1;32mexcept\u001b[0m \u001b[0mKeyError\u001b[0m\u001b[1;33m:\u001b[0m\u001b[1;33m\u001b[0m\u001b[0m\n",
      "\u001b[1;31mKeyError\u001b[0m: 'shape'",
      "\nDuring handling of the above exception, another exception occurred:\n",
      "\u001b[1;31mAttributeError\u001b[0m                            Traceback (most recent call last)",
      "\u001b[1;32m<ipython-input-52-abcf665486c9>\u001b[0m in \u001b[0;36m<module>\u001b[1;34m()\u001b[0m\n\u001b[0;32m      1\u001b[0m \u001b[0morder\u001b[0m \u001b[1;33m=\u001b[0m \u001b[1;36m2\u001b[0m\u001b[1;33m\u001b[0m\u001b[0m\n\u001b[0;32m      2\u001b[0m \u001b[0mX\u001b[0m \u001b[1;33m=\u001b[0m \u001b[0mdata\u001b[0m\u001b[1;33m\u001b[0m\u001b[0m\n\u001b[1;32m----> 3\u001b[1;33m \u001b[0mm\u001b[0m\u001b[1;33m,\u001b[0m\u001b[0ml\u001b[0m \u001b[1;33m=\u001b[0m \u001b[0mX\u001b[0m\u001b[1;33m.\u001b[0m\u001b[0mshape\u001b[0m\u001b[1;33m\u001b[0m\u001b[0m\n\u001b[0m\u001b[0;32m      4\u001b[0m \u001b[1;33m\u001b[0m\u001b[0m\n\u001b[0;32m      5\u001b[0m \u001b[0mMM1\u001b[0m \u001b[1;33m=\u001b[0m \u001b[0mnp\u001b[0m\u001b[1;33m.\u001b[0m\u001b[0marray\u001b[0m\u001b[1;33m(\u001b[0m\u001b[1;33m[\u001b[0m\u001b[1;33m]\u001b[0m\u001b[1;33m)\u001b[0m\u001b[1;33m.\u001b[0m\u001b[0mreshape\u001b[0m\u001b[1;33m(\u001b[0m\u001b[1;36m0\u001b[0m\u001b[1;33m,\u001b[0m\u001b[1;36m4\u001b[0m\u001b[1;33m)\u001b[0m\u001b[1;33m\u001b[0m\u001b[0m\n",
      "\u001b[1;32m~\\Anaconda3\\lib\\site-packages\\sklearn\\utils\\__init__.py\u001b[0m in \u001b[0;36m__getattr__\u001b[1;34m(self, key)\u001b[0m\n\u001b[0;32m     61\u001b[0m             \u001b[1;32mreturn\u001b[0m \u001b[0mself\u001b[0m\u001b[1;33m[\u001b[0m\u001b[0mkey\u001b[0m\u001b[1;33m]\u001b[0m\u001b[1;33m\u001b[0m\u001b[0m\n\u001b[0;32m     62\u001b[0m         \u001b[1;32mexcept\u001b[0m \u001b[0mKeyError\u001b[0m\u001b[1;33m:\u001b[0m\u001b[1;33m\u001b[0m\u001b[0m\n\u001b[1;32m---> 63\u001b[1;33m             \u001b[1;32mraise\u001b[0m \u001b[0mAttributeError\u001b[0m\u001b[1;33m(\u001b[0m\u001b[0mkey\u001b[0m\u001b[1;33m)\u001b[0m\u001b[1;33m\u001b[0m\u001b[0m\n\u001b[0m\u001b[0;32m     64\u001b[0m \u001b[1;33m\u001b[0m\u001b[0m\n\u001b[0;32m     65\u001b[0m     \u001b[1;32mdef\u001b[0m \u001b[0m__setstate__\u001b[0m\u001b[1;33m(\u001b[0m\u001b[0mself\u001b[0m\u001b[1;33m,\u001b[0m \u001b[0mstate\u001b[0m\u001b[1;33m)\u001b[0m\u001b[1;33m:\u001b[0m\u001b[1;33m\u001b[0m\u001b[0m\n",
      "\u001b[1;31mAttributeError\u001b[0m: shape"
     ]
    }
   ],
   "source": [
    "    order = 2\n",
    "    X = data\n",
    "    m,l = X.shape\n",
    "    \n",
    "    MM1 = np.array([]).reshape(0,4)\n",
    "    MM3 = np.array([]).reshape(0,4)\n",
    "\n",
    "    Msum = sum(X)"
   ]
  },
  {
   "cell_type": "code",
   "execution_count": 53,
   "metadata": {},
   "outputs": [],
   "source": [
    "data=data_train"
   ]
  },
  {
   "cell_type": "code",
   "execution_count": 54,
   "metadata": {},
   "outputs": [],
   "source": [
    "    order = 2\n",
    "    X = data\n",
    "    m,l = X.shape"
   ]
  },
  {
   "cell_type": "code",
   "execution_count": 55,
   "metadata": {},
   "outputs": [],
   "source": [
    "    MM1 = np.array([]).reshape(0,4)\n",
    "    MM3 = np.array([]).reshape(0,4)\n",
    "\n",
    "    Msum = sum(X)"
   ]
  },
  {
   "cell_type": "code",
   "execution_count": 56,
   "metadata": {},
   "outputs": [],
   "source": [
    "i=0\n",
    "k=0"
   ]
  },
  {
   "cell_type": "code",
   "execution_count": 59,
   "metadata": {},
   "outputs": [],
   "source": [
    "M1[:,k] = X[:,k]**i"
   ]
  },
  {
   "cell_type": "code",
   "execution_count": 58,
   "metadata": {},
   "outputs": [],
   "source": [
    "    M1 = np.array([]).reshape(0,4)\n",
    "    M3 = np.array([]).reshape(0,4)"
   ]
  },
  {
   "cell_type": "code",
   "execution_count": 60,
   "metadata": {},
   "outputs": [
    {
     "data": {
      "text/plain": [
       "array([], shape=(0, 4), dtype=float64)"
      ]
     },
     "execution_count": 60,
     "metadata": {},
     "output_type": "execute_result"
    }
   ],
   "source": [
    "X"
   ]
  },
  {
   "cell_type": "code",
   "execution_count": 61,
   "metadata": {},
   "outputs": [
    {
     "data": {
      "text/plain": [
       "array([], shape=(0, 4), dtype=float64)"
      ]
     },
     "execution_count": 61,
     "metadata": {},
     "output_type": "execute_result"
    }
   ],
   "source": [
    "data_train"
   ]
  },
  {
   "cell_type": "code",
   "execution_count": 63,
   "metadata": {},
   "outputs": [
    {
     "ename": "IndexError",
     "evalue": "only integers, slices (`:`), ellipsis (`...`), numpy.newaxis (`None`) and integer or boolean arrays are valid indices",
     "output_type": "error",
     "traceback": [
      "\u001b[1;31m---------------------------------------------------------------------------\u001b[0m",
      "\u001b[1;31mIndexError\u001b[0m                                Traceback (most recent call last)",
      "\u001b[1;32m<ipython-input-63-c4b035f08e45>\u001b[0m in \u001b[0;36m<module>\u001b[1;34m()\u001b[0m\n\u001b[0;32m      4\u001b[0m \u001b[0mlabel_test\u001b[0m \u001b[1;33m=\u001b[0m \u001b[0mnp\u001b[0m\u001b[1;33m.\u001b[0m\u001b[0marray\u001b[0m\u001b[1;33m(\u001b[0m\u001b[1;33m[\u001b[0m\u001b[1;33m]\u001b[0m\u001b[1;33m)\u001b[0m\u001b[1;33m\u001b[0m\u001b[0m\n\u001b[0;32m      5\u001b[0m \u001b[1;33m\u001b[0m\u001b[0m\n\u001b[1;32m----> 6\u001b[1;33m \u001b[1;32mfor\u001b[0m \u001b[0mtarget\u001b[0m \u001b[1;32min\u001b[0m \u001b[0mlist\u001b[0m\u001b[1;33m(\u001b[0m\u001b[0mset\u001b[0m\u001b[1;33m(\u001b[0m\u001b[0mdata\u001b[0m\u001b[1;33m[\u001b[0m\u001b[1;34m'target'\u001b[0m\u001b[1;33m]\u001b[0m\u001b[1;33m)\u001b[0m\u001b[1;33m)\u001b[0m\u001b[1;33m:\u001b[0m\u001b[1;33m\u001b[0m\u001b[0m\n\u001b[0m\u001b[0;32m      7\u001b[0m     \u001b[0mv_train\u001b[0m\u001b[1;33m,\u001b[0m \u001b[0mv_test\u001b[0m \u001b[1;33m=\u001b[0m \u001b[0mtrain_test_split\u001b[0m\u001b[1;33m(\u001b[0m\u001b[0mdata_v\u001b[0m\u001b[1;33m[\u001b[0m\u001b[0mdata_l\u001b[0m\u001b[1;33m==\u001b[0m\u001b[0mtarget\u001b[0m\u001b[1;33m]\u001b[0m\u001b[1;33m,\u001b[0m\u001b[0mtest_size\u001b[0m \u001b[1;33m=\u001b[0m \u001b[1;36m0.5\u001b[0m\u001b[1;33m)\u001b[0m\u001b[1;33m\u001b[0m\u001b[0m\n\u001b[0;32m      8\u001b[0m     \u001b[0ml_train\u001b[0m \u001b[1;33m=\u001b[0m \u001b[0mnp\u001b[0m\u001b[1;33m.\u001b[0m\u001b[0mfull\u001b[0m\u001b[1;33m(\u001b[0m\u001b[0mshape\u001b[0m\u001b[1;33m=\u001b[0m\u001b[0mlen\u001b[0m\u001b[1;33m(\u001b[0m\u001b[0mv_train\u001b[0m\u001b[1;33m)\u001b[0m\u001b[1;33m,\u001b[0m\u001b[0mfill_value\u001b[0m\u001b[1;33m=\u001b[0m\u001b[0mtarget\u001b[0m\u001b[1;33m)\u001b[0m\u001b[1;33m\u001b[0m\u001b[0m\n",
      "\u001b[1;31mIndexError\u001b[0m: only integers, slices (`:`), ellipsis (`...`), numpy.newaxis (`None`) and integer or boolean arrays are valid indices"
     ]
    }
   ],
   "source": [
    "data_train = np.array([]).reshape(0,4)\n",
    "data_test = np.array([]).reshape(0,4)\n",
    "label_train = np.array([])\n",
    "label_test = np.array([])\n",
    "\n",
    "for target in list(set(data['target'])):\n",
    "    v_train, v_test = train_test_split(data_v[data_l==target],test_size = 0.5)\n",
    "    l_train = np.full(shape=len(v_train),fill_value=target)\n",
    "    l_test = np.full(shape=len(v_test),fill_value=target)\n",
    "    data_train = np.concatenate((data_train,v_train))\n",
    "    data_test = np.concatenate((data_train,v_test))\n",
    "    label_train = np.concatenate((label_train,l_train))\n",
    "    label_test = np.concatenate((label_test,l_test))\n"
   ]
  },
  {
   "cell_type": "code",
   "execution_count": 64,
   "metadata": {},
   "outputs": [],
   "source": [
    "data = load_iris()\n",
    "data_v = data['data']\n",
    "data_l = data['target']\n",
    "\n",
    "data_train = np.array([]).reshape(0,4)\n",
    "data_test = np.array([]).reshape(0,4)\n",
    "label_train = np.array([])\n",
    "label_test = np.array([])\n",
    "\n",
    "for target in list(set(data['target'])):\n",
    "    v_train, v_test = train_test_split(data_v[data_l==target],test_size = 0.5)\n",
    "    l_train = np.full(shape=len(v_train),fill_value=target)\n",
    "    l_test = np.full(shape=len(v_test),fill_value=target)\n",
    "    data_train = np.concatenate((data_train,v_train))\n",
    "    data_test = np.concatenate((data_train,v_test))\n",
    "    label_train = np.concatenate((label_train,l_train))\n",
    "    label_test = np.concatenate((label_test,l_test))"
   ]
  },
  {
   "cell_type": "code",
   "execution_count": 65,
   "metadata": {},
   "outputs": [],
   "source": [
    "data = data_train"
   ]
  },
  {
   "cell_type": "code",
   "execution_count": 66,
   "metadata": {},
   "outputs": [],
   "source": [
    "    order = 2\n",
    "    X = data\n",
    "    m,l = X.shape\n",
    "    \n",
    "    M1 = np.array([]).reshape(0,4)\n",
    "    M3 = np.array([]).reshape(0,4)\n",
    "\n",
    "    Msum = sum(X)"
   ]
  },
  {
   "cell_type": "code",
   "execution_count": 67,
   "metadata": {},
   "outputs": [
    {
     "ename": "ValueError",
     "evalue": "could not broadcast input array from shape (75) into shape (0)",
     "output_type": "error",
     "traceback": [
      "\u001b[1;31m---------------------------------------------------------------------------\u001b[0m",
      "\u001b[1;31mValueError\u001b[0m                                Traceback (most recent call last)",
      "\u001b[1;32m<ipython-input-67-e660c4ba450a>\u001b[0m in \u001b[0;36m<module>\u001b[1;34m()\u001b[0m\n\u001b[1;32m----> 1\u001b[1;33m \u001b[0mM1\u001b[0m\u001b[1;33m[\u001b[0m\u001b[1;33m:\u001b[0m\u001b[1;33m,\u001b[0m\u001b[0mk\u001b[0m\u001b[1;33m]\u001b[0m \u001b[1;33m=\u001b[0m \u001b[0mX\u001b[0m\u001b[1;33m[\u001b[0m\u001b[1;33m:\u001b[0m\u001b[1;33m,\u001b[0m\u001b[0mk\u001b[0m\u001b[1;33m]\u001b[0m\u001b[1;33m**\u001b[0m\u001b[1;33m(\u001b[0m\u001b[0mi\u001b[0m\u001b[1;33m+\u001b[0m\u001b[1;36m1\u001b[0m\u001b[1;33m)\u001b[0m\u001b[1;33m\u001b[0m\u001b[0m\n\u001b[0m",
      "\u001b[1;31mValueError\u001b[0m: could not broadcast input array from shape (75) into shape (0)"
     ]
    }
   ],
   "source": [
    "M1[:,k] = X[:,k]**(i+1)"
   ]
  },
  {
   "cell_type": "code",
   "execution_count": 68,
   "metadata": {},
   "outputs": [
    {
     "data": {
      "text/plain": [
       "0"
      ]
     },
     "execution_count": 68,
     "metadata": {},
     "output_type": "execute_result"
    }
   ],
   "source": [
    "k"
   ]
  },
  {
   "cell_type": "code",
   "execution_count": 69,
   "metadata": {},
   "outputs": [
    {
     "data": {
      "text/plain": [
       "0"
      ]
     },
     "execution_count": 69,
     "metadata": {},
     "output_type": "execute_result"
    }
   ],
   "source": [
    "i"
   ]
  },
  {
   "cell_type": "code",
   "execution_count": 70,
   "metadata": {},
   "outputs": [
    {
     "data": {
      "text/plain": [
       "(0, 4)"
      ]
     },
     "execution_count": 70,
     "metadata": {},
     "output_type": "execute_result"
    }
   ],
   "source": [
    "M1.shape"
   ]
  },
  {
   "cell_type": "code",
   "execution_count": 71,
   "metadata": {},
   "outputs": [
    {
     "data": {
      "text/plain": [
       "(75, 4)"
      ]
     },
     "execution_count": 71,
     "metadata": {},
     "output_type": "execute_result"
    }
   ],
   "source": [
    "X.shape"
   ]
  },
  {
   "cell_type": "code",
   "execution_count": 72,
   "metadata": {
    "scrolled": true
   },
   "outputs": [
    {
     "ename": "ValueError",
     "evalue": "cannot reshape array of size 0 into shape (75,4)",
     "output_type": "error",
     "traceback": [
      "\u001b[1;31m---------------------------------------------------------------------------\u001b[0m",
      "\u001b[1;31mValueError\u001b[0m                                Traceback (most recent call last)",
      "\u001b[1;32m<ipython-input-72-2bd3ff63c232>\u001b[0m in \u001b[0;36m<module>\u001b[1;34m()\u001b[0m\n\u001b[1;32m----> 1\u001b[1;33m \u001b[0mM1\u001b[0m \u001b[1;33m=\u001b[0m \u001b[0mnp\u001b[0m\u001b[1;33m.\u001b[0m\u001b[0marray\u001b[0m\u001b[1;33m(\u001b[0m\u001b[1;33m[\u001b[0m\u001b[1;33m]\u001b[0m\u001b[1;33m)\u001b[0m\u001b[1;33m.\u001b[0m\u001b[0mreshape\u001b[0m\u001b[1;33m(\u001b[0m\u001b[0mX\u001b[0m\u001b[1;33m.\u001b[0m\u001b[0mshape\u001b[0m\u001b[1;33m)\u001b[0m\u001b[1;33m\u001b[0m\u001b[0m\n\u001b[0m",
      "\u001b[1;31mValueError\u001b[0m: cannot reshape array of size 0 into shape (75,4)"
     ]
    }
   ],
   "source": [
    "M1 = np.array([]).reshape(X.shape)"
   ]
  },
  {
   "cell_type": "code",
   "execution_count": 74,
   "metadata": {},
   "outputs": [],
   "source": [
    "a = np.matrix"
   ]
  },
  {
   "cell_type": "code",
   "execution_count": 75,
   "metadata": {},
   "outputs": [
    {
     "data": {
      "text/plain": [
       "<attribute 'shape' of 'numpy.ndarray' objects>"
      ]
     },
     "execution_count": 75,
     "metadata": {},
     "output_type": "execute_result"
    }
   ],
   "source": [
    "a.shape"
   ]
  },
  {
   "cell_type": "code",
   "execution_count": 76,
   "metadata": {},
   "outputs": [
    {
     "ename": "TypeError",
     "evalue": "'type' object does not support item assignment",
     "output_type": "error",
     "traceback": [
      "\u001b[1;31m---------------------------------------------------------------------------\u001b[0m",
      "\u001b[1;31mTypeError\u001b[0m                                 Traceback (most recent call last)",
      "\u001b[1;32m<ipython-input-76-84e8a3396eb5>\u001b[0m in \u001b[0;36m<module>\u001b[1;34m()\u001b[0m\n\u001b[1;32m----> 1\u001b[1;33m \u001b[0ma\u001b[0m\u001b[1;33m[\u001b[0m\u001b[1;33m:\u001b[0m\u001b[1;33m,\u001b[0m\u001b[0mk\u001b[0m\u001b[1;33m]\u001b[0m \u001b[1;33m=\u001b[0m \u001b[0mX\u001b[0m\u001b[1;33m[\u001b[0m\u001b[1;33m:\u001b[0m\u001b[1;33m,\u001b[0m\u001b[0mk\u001b[0m\u001b[1;33m]\u001b[0m\u001b[1;33m**\u001b[0m\u001b[1;33m(\u001b[0m\u001b[0mi\u001b[0m\u001b[1;33m+\u001b[0m\u001b[1;36m1\u001b[0m\u001b[1;33m)\u001b[0m\u001b[1;33m\u001b[0m\u001b[0m\n\u001b[0m",
      "\u001b[1;31mTypeError\u001b[0m: 'type' object does not support item assignment"
     ]
    }
   ],
   "source": [
    "a[:,k] = X[:,k]**(i+1)"
   ]
  },
  {
   "cell_type": "code",
   "execution_count": 77,
   "metadata": {},
   "outputs": [
    {
     "ename": "TypeError",
     "evalue": "descriptor 'reshape' requires a 'numpy.ndarray' object but received a 'tuple'",
     "output_type": "error",
     "traceback": [
      "\u001b[1;31m---------------------------------------------------------------------------\u001b[0m",
      "\u001b[1;31mTypeError\u001b[0m                                 Traceback (most recent call last)",
      "\u001b[1;32m<ipython-input-77-c00762d38428>\u001b[0m in \u001b[0;36m<module>\u001b[1;34m()\u001b[0m\n\u001b[1;32m----> 1\u001b[1;33m \u001b[0ma\u001b[0m \u001b[1;33m=\u001b[0m \u001b[0mnp\u001b[0m\u001b[1;33m.\u001b[0m\u001b[0mmatrix\u001b[0m\u001b[1;33m.\u001b[0m\u001b[0mreshape\u001b[0m\u001b[1;33m(\u001b[0m\u001b[0mX\u001b[0m\u001b[1;33m.\u001b[0m\u001b[0mshape\u001b[0m\u001b[1;33m)\u001b[0m\u001b[1;33m\u001b[0m\u001b[0m\n\u001b[0m",
      "\u001b[1;31mTypeError\u001b[0m: descriptor 'reshape' requires a 'numpy.ndarray' object but received a 'tuple'"
     ]
    }
   ],
   "source": [
    "a = np.matrix.reshape(X.shape)"
   ]
  },
  {
   "cell_type": "code",
   "execution_count": 78,
   "metadata": {},
   "outputs": [],
   "source": [
    "a = np.empty(shape=X.shape)"
   ]
  },
  {
   "cell_type": "code",
   "execution_count": 79,
   "metadata": {},
   "outputs": [
    {
     "data": {
      "text/plain": [
       "(75, 4)"
      ]
     },
     "execution_count": 79,
     "metadata": {},
     "output_type": "execute_result"
    }
   ],
   "source": [
    "a.shape"
   ]
  },
  {
   "cell_type": "code",
   "execution_count": 80,
   "metadata": {},
   "outputs": [
    {
     "data": {
      "text/plain": [
       "array([[1.50367901e-311, 1.50365174e-311, 1.50363162e-311,\n",
       "        1.50369167e-311],\n",
       "       [1.50368918e-311, 1.50369167e-311, 1.50368736e-311,\n",
       "        1.50369167e-311],\n",
       "       [1.50362706e-311, 1.50368938e-311, 1.50368918e-311,\n",
       "        1.50368926e-311],\n",
       "       [1.50368926e-311, 1.50368955e-311, 1.50368926e-311,\n",
       "        1.50363171e-311],\n",
       "       [1.50368926e-311, 1.50368918e-311, 1.50369167e-311,\n",
       "        1.50368926e-311],\n",
       "       [1.50368799e-311, 1.50369167e-311, 1.50363172e-311,\n",
       "        1.50369160e-311],\n",
       "       [1.50368918e-311, 1.50369144e-311, 1.50367869e-311,\n",
       "        1.50369167e-311],\n",
       "       [1.50369167e-311, 1.50369167e-311, 1.50369167e-311,\n",
       "        1.50361069e-311],\n",
       "       [1.50369006e-311, 1.50369167e-311, 1.50363172e-311,\n",
       "        1.50369160e-311],\n",
       "       [1.50368918e-311, 1.50362501e-311, 1.50369006e-311,\n",
       "        1.50369006e-311],\n",
       "       [1.50368926e-311, 1.50368918e-311, 1.50368795e-311,\n",
       "        1.50368926e-311],\n",
       "       [1.50363161e-311, 1.50369144e-311, 1.50368918e-311,\n",
       "        1.50368955e-311],\n",
       "       [1.50369167e-311, 1.50363172e-311, 1.50369033e-311,\n",
       "        1.50368918e-311],\n",
       "       [1.50369144e-311, 1.50369006e-311, 1.50369167e-311,\n",
       "        1.50363172e-311],\n",
       "       [1.50369160e-311, 1.50368918e-311, 1.50368938e-311,\n",
       "        1.50362652e-311],\n",
       "       [1.50369006e-311, 1.50369033e-311, 1.50368918e-311,\n",
       "        1.50369167e-311],\n",
       "       [1.50369006e-311, 1.50368926e-311, 1.50368918e-311,\n",
       "        1.50368926e-311],\n",
       "       [1.50368953e-311, 1.50369160e-311, 1.50368918e-311,\n",
       "        1.50368926e-311],\n",
       "       [1.50369006e-311, 1.50368926e-311, 1.50363172e-311,\n",
       "        1.50369033e-311],\n",
       "       [1.50368918e-311, 1.50362712e-311, 1.50369006e-311,\n",
       "        1.50369160e-311],\n",
       "       [1.50368918e-311, 1.50368926e-311, 1.50369006e-311,\n",
       "        1.50369033e-311],\n",
       "       [1.50368918e-311, 1.50369006e-311, 1.50369160e-311,\n",
       "        1.50368918e-311],\n",
       "       [1.50368926e-311, 1.50369006e-311, 1.50369005e-311,\n",
       "        1.50369005e-311],\n",
       "       [1.50369160e-311, 1.50368918e-311, 1.50369005e-311,\n",
       "        1.50369005e-311],\n",
       "       [1.50368925e-311, 1.50368918e-311, 1.50368926e-311,\n",
       "        1.50368925e-311],\n",
       "       [1.50363161e-311, 1.50369167e-311, 1.50368918e-311,\n",
       "        1.50368953e-311],\n",
       "       [1.50369033e-311, 1.50368918e-311, 1.50369167e-311,\n",
       "        1.50369005e-311],\n",
       "       [1.50368753e-311, 1.50368918e-311, 1.50368925e-311,\n",
       "        1.50368953e-311],\n",
       "       [1.50368925e-311, 1.50368918e-311, 1.50368925e-311,\n",
       "        1.50368960e-311],\n",
       "       [1.50369160e-311, 1.50368918e-311, 1.50369167e-311,\n",
       "        1.50369005e-311],\n",
       "       [1.50369033e-311, 1.50368918e-311, 1.50362487e-311,\n",
       "        1.50369005e-311],\n",
       "       [1.50369160e-311, 1.50368918e-311, 1.50369167e-311,\n",
       "        1.50369005e-311],\n",
       "       [1.50369033e-311, 1.50368918e-311, 1.50369005e-311,\n",
       "        1.50369160e-311],\n",
       "       [1.50368918e-311, 1.50369167e-311, 1.50369005e-311,\n",
       "        1.50369005e-311],\n",
       "       [1.50369033e-311, 1.50368918e-311, 1.50369167e-311,\n",
       "        1.50369005e-311],\n",
       "       [1.50369160e-311, 1.50368918e-311, 1.50369167e-311,\n",
       "        1.50369005e-311],\n",
       "       [1.50369005e-311, 1.50369005e-311, 1.50369160e-311,\n",
       "        1.50368918e-311],\n",
       "       [1.50369005e-311, 1.50369005e-311, 1.50368925e-311,\n",
       "        1.50368918e-311],\n",
       "       [1.50368953e-311, 1.50369167e-311, 1.50368918e-311,\n",
       "        1.50368953e-311],\n",
       "       [1.50369033e-311, 1.50368918e-311, 1.50369167e-311,\n",
       "        1.50369005e-311],\n",
       "       [1.50368925e-311, 1.50368918e-311, 1.50368953e-311,\n",
       "        1.50368925e-311],\n",
       "       [1.50368918e-311, 1.50368953e-311, 1.50369160e-311,\n",
       "        1.50368918e-311],\n",
       "       [1.50369167e-311, 1.50369005e-311, 1.50369033e-311,\n",
       "        1.50368918e-311],\n",
       "       [1.50369005e-311, 1.50369160e-311, 1.50368918e-311,\n",
       "        1.50369167e-311],\n",
       "       [1.50369005e-311, 1.50369033e-311, 1.50368918e-311,\n",
       "        1.50369005e-311],\n",
       "       [1.50369160e-311, 1.50368918e-311, 1.50368925e-311,\n",
       "        1.50369005e-311],\n",
       "       [1.50369005e-311, 1.50369033e-311, 1.50368918e-311,\n",
       "        1.50369167e-311],\n",
       "       [1.50369005e-311, 1.50369160e-311, 1.50368918e-311,\n",
       "        1.50369167e-311],\n",
       "       [1.50369005e-311, 1.50369005e-311, 1.50369005e-311,\n",
       "        1.50369160e-311],\n",
       "       [1.50368918e-311, 1.50369005e-311, 1.50369005e-311,\n",
       "        1.50368925e-311],\n",
       "       [1.50368918e-311, 1.50368953e-311, 1.50369167e-311,\n",
       "        1.50368918e-311],\n",
       "       [1.50368953e-311, 1.50369033e-311, 1.50368918e-311,\n",
       "        1.50369167e-311],\n",
       "       [1.50369005e-311, 1.50368925e-311, 1.50368941e-311,\n",
       "        1.50368953e-311],\n",
       "       [1.50369160e-311, 1.50368941e-311, 1.50369167e-311,\n",
       "        1.50369005e-311],\n",
       "       [1.50369033e-311, 1.50368941e-311, 1.50369005e-311,\n",
       "        1.50369160e-311],\n",
       "       [1.50368941e-311, 1.50369167e-311, 1.50369005e-311,\n",
       "        1.50369125e-311],\n",
       "       [1.50368941e-311, 1.50369005e-311, 1.50369160e-311,\n",
       "        1.50368941e-311],\n",
       "       [1.50369167e-311, 1.50369005e-311, 1.50369005e-311,\n",
       "        1.50369125e-311],\n",
       "       [1.50368941e-311, 1.50369167e-311, 1.50369005e-311,\n",
       "        1.50368932e-311],\n",
       "       [1.50368941e-311, 1.50368953e-311, 1.50369160e-311,\n",
       "        1.50368941e-311],\n",
       "       [1.50369171e-311, 1.50369005e-311, 1.50369125e-311,\n",
       "        1.50368941e-311],\n",
       "       [1.50369005e-311, 1.50369124e-311, 1.50368941e-311,\n",
       "        1.50369171e-311],\n",
       "       [1.50369005e-311, 1.50369004e-311, 1.50369004e-311,\n",
       "        1.50369124e-311],\n",
       "       [1.50368941e-311, 1.50369004e-311, 1.50369004e-311,\n",
       "        1.50368932e-311],\n",
       "       [1.50368941e-311, 1.50368953e-311, 1.50369171e-311,\n",
       "        1.50368941e-311],\n",
       "       [1.50368953e-311, 1.50369125e-311, 1.50368941e-311,\n",
       "        1.50369171e-311],\n",
       "       [1.50369004e-311, 1.50368932e-311, 1.50368941e-311,\n",
       "        1.50368953e-311],\n",
       "       [1.50369124e-311, 1.50368941e-311, 1.50369171e-311,\n",
       "        1.50369004e-311],\n",
       "       [1.50369125e-311, 1.50368941e-311, 1.50369004e-311,\n",
       "        1.50369124e-311],\n",
       "       [1.50368941e-311, 1.50369171e-311, 1.50369004e-311,\n",
       "        1.50369125e-311],\n",
       "       [1.50368941e-311, 1.50369004e-311, 1.50369124e-311,\n",
       "        1.50368941e-311],\n",
       "       [1.50368932e-311, 1.50369004e-311, 1.50369004e-311,\n",
       "        1.50369125e-311],\n",
       "       [1.50368941e-311, 1.50369171e-311, 1.50369004e-311,\n",
       "        1.50369124e-311],\n",
       "       [1.50368941e-311, 1.50369171e-311, 1.50369004e-311,\n",
       "        1.50369004e-311],\n",
       "       [1.50369124e-311, 1.50368941e-311, 1.50369004e-311,\n",
       "        1.50369004e-311]])"
      ]
     },
     "execution_count": 80,
     "metadata": {},
     "output_type": "execute_result"
    }
   ],
   "source": [
    "a"
   ]
  },
  {
   "cell_type": "code",
   "execution_count": 81,
   "metadata": {},
   "outputs": [],
   "source": [
    "    M1 = []\n",
    "    M3 = []"
   ]
  },
  {
   "cell_type": "code",
   "execution_count": 84,
   "metadata": {},
   "outputs": [],
   "source": [
    "M1.append(X[:,1]**(i+1))"
   ]
  },
  {
   "cell_type": "code",
   "execution_count": 85,
   "metadata": {},
   "outputs": [
    {
     "data": {
      "text/plain": [
       "[array([5.4, 5. , 5.1, 5.4, 5.1, 5.7, 5.1, 5.1, 5.8, 4.8, 5.7, 5.1, 4.9,\n",
       "        4.6, 5.4, 4.8, 4.9, 5.3, 4.7, 4.8, 4.9, 5. , 5.5, 4.5, 5.2, 5.7,\n",
       "        6.9, 5.6, 5.6, 6. , 5.7, 6.7, 6.4, 6.2, 5.9, 6. , 5.6, 5.6, 5.1,\n",
       "        5.9, 5.4, 6.5, 5. , 5.5, 6.4, 6.1, 5.8, 5.5, 5. , 5.5, 6.3, 7.9,\n",
       "        7.3, 6. , 6.7, 5.7, 6.1, 7.7, 7.2, 7.2, 7.7, 7.4, 6.9, 6.3, 6.5,\n",
       "        6.7, 6.2, 6. , 6.9, 6.8, 6.7, 7.1, 5.8, 6.1, 6.2]),\n",
       " array([3.4, 3.6, 3.5, 3.9, 3.7, 4.4, 3.3, 3.8, 4. , 3.4, 3.8, 3.8, 3.1,\n",
       "        3.4, 3.9, 3. , 3.1, 3.7, 3.2, 3.4, 3. , 3.4, 3.5, 2.3, 3.4, 2.6,\n",
       "        3.1, 2.5, 2.9, 3.4, 2.9, 3.1, 2.9, 2.2, 3.2, 2.2, 3. , 2.7, 2.5,\n",
       "        3. , 3. , 2.8, 2.3, 2.4, 3.2, 2.9, 2.7, 2.5, 2. , 2.6, 2.5, 3.8,\n",
       "        2.9, 2.2, 3.3, 2.5, 2.6, 2.6, 3.6, 3. , 2.8, 2.8, 3.1, 3.4, 3. ,\n",
       "        3.3, 2.8, 3. , 3.1, 3.2, 3.1, 3. , 2.8, 3. , 3.4])]"
      ]
     },
     "execution_count": 85,
     "metadata": {},
     "output_type": "execute_result"
    }
   ],
   "source": [
    "M1"
   ]
  },
  {
   "cell_type": "code",
   "execution_count": 87,
   "metadata": {},
   "outputs": [
    {
     "data": {
      "text/plain": [
       "(2, 75)"
      ]
     },
     "execution_count": 87,
     "metadata": {},
     "output_type": "execute_result"
    }
   ],
   "source": [
    "np.array(M1).shape"
   ]
  },
  {
   "cell_type": "code",
   "execution_count": 89,
   "metadata": {},
   "outputs": [
    {
     "data": {
      "text/plain": [
       "(75, 4)"
      ]
     },
     "execution_count": 89,
     "metadata": {},
     "output_type": "execute_result"
    }
   ],
   "source": [
    "X.shape"
   ]
  },
  {
   "cell_type": "code",
   "execution_count": 92,
   "metadata": {},
   "outputs": [
    {
     "data": {
      "text/plain": [
       "(4,)"
      ]
     },
     "execution_count": 92,
     "metadata": {},
     "output_type": "execute_result"
    }
   ],
   "source": [
    "Msum.shape"
   ]
  },
  {
   "cell_type": "code",
   "execution_count": 93,
   "metadata": {},
   "outputs": [
    {
     "data": {
      "text/plain": [
       "(75, 4)"
      ]
     },
     "execution_count": 93,
     "metadata": {},
     "output_type": "execute_result"
    }
   ],
   "source": [
    "X.shape"
   ]
  },
  {
   "cell_type": "code",
   "execution_count": 94,
   "metadata": {},
   "outputs": [
    {
     "ename": "ValueError",
     "evalue": "operands could not be broadcast together with shapes (75,) (4,) ",
     "output_type": "error",
     "traceback": [
      "\u001b[1;31m---------------------------------------------------------------------------\u001b[0m",
      "\u001b[1;31mValueError\u001b[0m                                Traceback (most recent call last)",
      "\u001b[1;32m<ipython-input-94-b7ff7cc2d687>\u001b[0m in \u001b[0;36m<module>\u001b[1;34m()\u001b[0m\n\u001b[1;32m----> 1\u001b[1;33m \u001b[0mX\u001b[0m\u001b[1;33m[\u001b[0m\u001b[1;33m:\u001b[0m\u001b[1;33m,\u001b[0m\u001b[1;36m0\u001b[0m\u001b[1;33m]\u001b[0m \u001b[1;33m*\u001b[0m \u001b[0mMsum\u001b[0m\u001b[1;33m\u001b[0m\u001b[0m\n\u001b[0m",
      "\u001b[1;31mValueError\u001b[0m: operands could not be broadcast together with shapes (75,) (4,) "
     ]
    }
   ],
   "source": [
    "X[:,0] * Msum"
   ]
  },
  {
   "cell_type": "code",
   "execution_count": 102,
   "metadata": {},
   "outputs": [
    {
     "data": {
      "text/plain": [
       "(75,)"
      ]
     },
     "execution_count": 102,
     "metadata": {},
     "output_type": "execute_result"
    }
   ],
   "source": [
    "np.sum(X,axis=1).T.shape"
   ]
  },
  {
   "cell_type": "code",
   "execution_count": 103,
   "metadata": {},
   "outputs": [],
   "source": [
    "Msum = np.sum(X,axis=1)"
   ]
  },
  {
   "cell_type": "code",
   "execution_count": 104,
   "metadata": {},
   "outputs": [
    {
     "data": {
      "text/plain": [
       "array([ 57.78,  51.  ,  52.53,  61.56,  54.57,  68.4 ,  54.06,  54.57,\n",
       "        64.96,  48.  ,  65.55,  57.12,  47.04,  44.62,  59.4 ,  44.64,\n",
       "        47.04,  56.71,  45.59,  49.44,  46.55,  52.  ,  57.75,  37.8 ,\n",
       "        53.04,  72.96, 113.16,  73.36,  75.04,  93.  ,  80.37, 104.52,\n",
       "        95.36,  89.28,  92.63,  79.2 ,  81.76,  77.28,  59.67,  86.14,\n",
       "        77.76, 100.1 ,  58.  ,  70.4 ,  99.84,  92.11,  78.88,  73.15,\n",
       "        57.5 ,  75.35,  98.91, 158.79, 133.59,  88.2 , 119.26,  86.64,\n",
       "        95.77, 150.15, 139.68, 126.72, 147.84, 134.68, 120.75, 111.51,\n",
       "       109.2 , 121.94,  96.72,  93.6 , 120.06, 123.76, 119.26, 128.51,\n",
       "        93.38,  96.38, 107.26])"
      ]
     },
     "execution_count": 104,
     "metadata": {},
     "output_type": "execute_result"
    }
   ],
   "source": [
    "X[:,k]*Msum"
   ]
  },
  {
   "cell_type": "code",
   "execution_count": 105,
   "metadata": {},
   "outputs": [
    {
     "data": {
      "text/plain": [
       "(75, 4)"
      ]
     },
     "execution_count": 105,
     "metadata": {},
     "output_type": "execute_result"
    }
   ],
   "source": [
    "X.shape"
   ]
  },
  {
   "cell_type": "code",
   "execution_count": 106,
   "metadata": {},
   "outputs": [
    {
     "data": {
      "text/plain": [
       "(75,)"
      ]
     },
     "execution_count": 106,
     "metadata": {},
     "output_type": "execute_result"
    }
   ],
   "source": [
    "Msum.shape"
   ]
  },
  {
   "cell_type": "code",
   "execution_count": 107,
   "metadata": {},
   "outputs": [
    {
     "data": {
      "text/plain": [
       "array([5.4, 5. , 5.1, 5.4, 5.1, 5.7, 5.1, 5.1, 5.8, 4.8, 5.7, 5.1, 4.9,\n",
       "       4.6, 5.4, 4.8, 4.9, 5.3, 4.7, 4.8, 4.9, 5. , 5.5, 4.5, 5.2, 5.7,\n",
       "       6.9, 5.6, 5.6, 6. , 5.7, 6.7, 6.4, 6.2, 5.9, 6. , 5.6, 5.6, 5.1,\n",
       "       5.9, 5.4, 6.5, 5. , 5.5, 6.4, 6.1, 5.8, 5.5, 5. , 5.5, 6.3, 7.9,\n",
       "       7.3, 6. , 6.7, 5.7, 6.1, 7.7, 7.2, 7.2, 7.7, 7.4, 6.9, 6.3, 6.5,\n",
       "       6.7, 6.2, 6. , 6.9, 6.8, 6.7, 7.1, 5.8, 6.1, 6.2])"
      ]
     },
     "execution_count": 107,
     "metadata": {},
     "output_type": "execute_result"
    }
   ],
   "source": [
    "X[:,k]*Msum**(i)"
   ]
  },
  {
   "cell_type": "code",
   "execution_count": 108,
   "metadata": {},
   "outputs": [
    {
     "data": {
      "text/plain": [
       "array([5.4, 5. , 5.1, 5.4, 5.1, 5.7, 5.1, 5.1, 5.8, 4.8, 5.7, 5.1, 4.9,\n",
       "       4.6, 5.4, 4.8, 4.9, 5.3, 4.7, 4.8, 4.9, 5. , 5.5, 4.5, 5.2, 5.7,\n",
       "       6.9, 5.6, 5.6, 6. , 5.7, 6.7, 6.4, 6.2, 5.9, 6. , 5.6, 5.6, 5.1,\n",
       "       5.9, 5.4, 6.5, 5. , 5.5, 6.4, 6.1, 5.8, 5.5, 5. , 5.5, 6.3, 7.9,\n",
       "       7.3, 6. , 6.7, 5.7, 6.1, 7.7, 7.2, 7.2, 7.7, 7.4, 6.9, 6.3, 6.5,\n",
       "       6.7, 6.2, 6. , 6.9, 6.8, 6.7, 7.1, 5.8, 6.1, 6.2])"
      ]
     },
     "execution_count": 108,
     "metadata": {},
     "output_type": "execute_result"
    }
   ],
   "source": [
    "X[:,k]"
   ]
  },
  {
   "cell_type": "code",
   "execution_count": 109,
   "metadata": {},
   "outputs": [
    {
     "data": {
      "text/plain": [
       "0"
      ]
     },
     "execution_count": 109,
     "metadata": {},
     "output_type": "execute_result"
    }
   ],
   "source": [
    "i"
   ]
  },
  {
   "cell_type": "code",
   "execution_count": 111,
   "metadata": {},
   "outputs": [],
   "source": [
    "    order = 2\n",
    "    X = data\n",
    "    m,l = X.shape\n",
    "    \n",
    "    M1 = []\n",
    "    M2 = []\n",
    "    M3 = []\n",
    "\n",
    "    Msum = np.sum(X,axis=1)\n",
    "\n",
    "    for i in range(order):\n",
    "        for k in range(l):\n",
    "            M1.append(X[:,k]**(i+1))\n",
    "            if (i>0):\n",
    "                M3.append(X[:,k]*Msum**(i)) \n",
    "    M2.append(Msum**(i+1))"
   ]
  },
  {
   "cell_type": "code",
   "execution_count": 112,
   "metadata": {},
   "outputs": [
    {
     "data": {
      "text/plain": [
       "[array([114.49, 104.04, 106.09, 129.96, 114.49, 144.  , 112.36, 114.49,\n",
       "        125.44, 100.  , 132.25, 125.44,  92.16,  94.09, 121.  ,  86.49,\n",
       "         92.16, 114.49,  94.09, 106.09,  90.25, 108.16, 110.25,  70.56,\n",
       "        104.04, 163.84, 268.96, 171.61, 179.56, 240.25, 198.81, 243.36,\n",
       "        222.01, 207.36, 246.49, 174.24, 213.16, 190.44, 136.89, 213.16,\n",
       "        207.36, 237.16, 134.56, 163.84, 243.36, 228.01, 184.96, 176.89,\n",
       "        132.25, 187.69, 246.49, 404.01, 334.89, 216.09, 316.84, 231.04,\n",
       "        246.49, 380.25, 376.36, 309.76, 368.64, 331.24, 306.25, 313.29,\n",
       "        282.24, 331.24, 243.36, 243.36, 302.76, 331.24, 316.84, 327.61,\n",
       "        259.21, 249.64, 299.29])]"
      ]
     },
     "execution_count": 112,
     "metadata": {},
     "output_type": "execute_result"
    }
   ],
   "source": [
    "M2"
   ]
  },
  {
   "cell_type": "code",
   "execution_count": 114,
   "metadata": {},
   "outputs": [
    {
     "data": {
      "text/plain": [
       "8"
      ]
     },
     "execution_count": 114,
     "metadata": {},
     "output_type": "execute_result"
    }
   ],
   "source": [
    "len(M1)"
   ]
  },
  {
   "cell_type": "code",
   "execution_count": 115,
   "metadata": {},
   "outputs": [
    {
     "data": {
      "text/plain": [
       "(75, 4)"
      ]
     },
     "execution_count": 115,
     "metadata": {},
     "output_type": "execute_result"
    }
   ],
   "source": [
    "X.shape"
   ]
  },
  {
   "cell_type": "code",
   "execution_count": 116,
   "metadata": {},
   "outputs": [
    {
     "data": {
      "text/plain": [
       "range(0, 4)"
      ]
     },
     "execution_count": 116,
     "metadata": {},
     "output_type": "execute_result"
    }
   ],
   "source": [
    "range(l)"
   ]
  },
  {
   "cell_type": "code",
   "execution_count": 117,
   "metadata": {},
   "outputs": [
    {
     "data": {
      "text/plain": [
       "(75, 4)"
      ]
     },
     "execution_count": 117,
     "metadata": {},
     "output_type": "execute_result"
    }
   ],
   "source": [
    "X.shape"
   ]
  },
  {
   "cell_type": "code",
   "execution_count": 123,
   "metadata": {},
   "outputs": [
    {
     "data": {
      "text/plain": [
       "[array([1., 1., 1., 1., 1., 1., 1., 1., 1., 1., 1., 1., 1., 1., 1., 1., 1.,\n",
       "        1., 1., 1., 1., 1., 1., 1., 1., 1., 1., 1., 1., 1., 1., 1., 1., 1.,\n",
       "        1., 1., 1., 1., 1., 1., 1., 1., 1., 1., 1., 1., 1., 1., 1., 1., 1.,\n",
       "        1., 1., 1., 1., 1., 1., 1., 1., 1., 1., 1., 1., 1., 1., 1., 1., 1.,\n",
       "        1., 1., 1., 1., 1., 1., 1.]), array([], shape=(0, 4), dtype=float64)]"
      ]
     },
     "execution_count": 123,
     "metadata": {},
     "output_type": "execute_result"
    }
   ],
   "source": [
    "[np.ones(X.shape[0]),MM1]"
   ]
  },
  {
   "cell_type": "code",
   "execution_count": 125,
   "metadata": {},
   "outputs": [
    {
     "data": {
      "text/plain": [
       "array([], shape=(0, 4), dtype=float64)"
      ]
     },
     "execution_count": 125,
     "metadata": {},
     "output_type": "execute_result"
    }
   ],
   "source": [
    "MM1"
   ]
  },
  {
   "cell_type": "code",
   "execution_count": 126,
   "metadata": {},
   "outputs": [],
   "source": [
    "    m,l = X.shape\n",
    "    \n",
    "    M1 = []\n",
    "    M2 = []\n",
    "    M3 = []\n",
    "    MM1 = []\n",
    "    MM3 = []\n",
    "\n",
    "    Msum = np.sum(X,axis=1)\n",
    "\n",
    "    for i in range(order):\n",
    "        for k in range(l):\n",
    "            M1.append(X[:,k]**(i+1))\n",
    "            if (i>0):\n",
    "                M3.append(X[:,k]*Msum**(i)) \n",
    "\n",
    "        M2.append(Msum**(i+1))\n",
    "        MM1.append(M1)\n",
    "        if (i>0):\n",
    "            MM3.append(M3)"
   ]
  },
  {
   "cell_type": "code",
   "execution_count": 128,
   "metadata": {},
   "outputs": [
    {
     "data": {
      "text/plain": [
       "2"
      ]
     },
     "execution_count": 128,
     "metadata": {},
     "output_type": "execute_result"
    }
   ],
   "source": [
    "len(MM1)"
   ]
  },
  {
   "cell_type": "code",
   "execution_count": 130,
   "metadata": {},
   "outputs": [
    {
     "data": {
      "text/plain": [
       "[[array([5.4, 5. , 5.1, 5.4, 5.1, 5.7, 5.1, 5.1, 5.8, 4.8, 5.7, 5.1, 4.9,\n",
       "         4.6, 5.4, 4.8, 4.9, 5.3, 4.7, 4.8, 4.9, 5. , 5.5, 4.5, 5.2, 5.7,\n",
       "         6.9, 5.6, 5.6, 6. , 5.7, 6.7, 6.4, 6.2, 5.9, 6. , 5.6, 5.6, 5.1,\n",
       "         5.9, 5.4, 6.5, 5. , 5.5, 6.4, 6.1, 5.8, 5.5, 5. , 5.5, 6.3, 7.9,\n",
       "         7.3, 6. , 6.7, 5.7, 6.1, 7.7, 7.2, 7.2, 7.7, 7.4, 6.9, 6.3, 6.5,\n",
       "         6.7, 6.2, 6. , 6.9, 6.8, 6.7, 7.1, 5.8, 6.1, 6.2]),\n",
       "  array([3.4, 3.6, 3.5, 3.9, 3.7, 4.4, 3.3, 3.8, 4. , 3.4, 3.8, 3.8, 3.1,\n",
       "         3.4, 3.9, 3. , 3.1, 3.7, 3.2, 3.4, 3. , 3.4, 3.5, 2.3, 3.4, 2.6,\n",
       "         3.1, 2.5, 2.9, 3.4, 2.9, 3.1, 2.9, 2.2, 3.2, 2.2, 3. , 2.7, 2.5,\n",
       "         3. , 3. , 2.8, 2.3, 2.4, 3.2, 2.9, 2.7, 2.5, 2. , 2.6, 2.5, 3.8,\n",
       "         2.9, 2.2, 3.3, 2.5, 2.6, 2.6, 3.6, 3. , 2.8, 2.8, 3.1, 3.4, 3. ,\n",
       "         3.3, 2.8, 3. , 3.1, 3.2, 3.1, 3. , 2.8, 3. , 3.4]),\n",
       "  array([1.7, 1.4, 1.4, 1.7, 1.5, 1.5, 1.7, 1.6, 1.2, 1.6, 1.7, 1.9, 1.5,\n",
       "         1.4, 1.3, 1.4, 1.5, 1.5, 1.6, 1.9, 1.4, 1.6, 1.3, 1.3, 1.4, 3.5,\n",
       "         4.9, 3.9, 3.6, 4.5, 4.2, 4.4, 4.3, 4.5, 4.8, 4. , 4.5, 4.2, 3. ,\n",
       "         4.2, 4.5, 4.6, 3.3, 3.8, 4.5, 4.7, 3.9, 4. , 3.5, 4.4, 5. , 6.4,\n",
       "         6.3, 5. , 5.7, 5. , 5.6, 6.9, 6.1, 5.8, 6.7, 6.1, 5.4, 5.6, 5.5,\n",
       "         5.7, 4.8, 4.8, 5.1, 5.9, 5.6, 5.9, 5.1, 4.9, 5.4]),\n",
       "  array([0.2, 0.2, 0.3, 0.4, 0.4, 0.4, 0.5, 0.2, 0.2, 0.2, 0.3, 0.4, 0.1,\n",
       "         0.3, 0.4, 0.1, 0.1, 0.2, 0.2, 0.2, 0.2, 0.4, 0.2, 0.3, 0.2, 1. ,\n",
       "         1.5, 1.1, 1.3, 1.6, 1.3, 1.4, 1.3, 1.5, 1.8, 1. , 1.5, 1.3, 1.1,\n",
       "         1.5, 1.5, 1.5, 1. , 1.1, 1.5, 1.4, 1.2, 1.3, 1. , 1.2, 1.9, 2. ,\n",
       "         1.8, 1.5, 2.1, 2. , 1.4, 2.3, 2.5, 1.6, 2. , 1.9, 2.1, 2.4, 1.8,\n",
       "         2.5, 1.8, 1.8, 2.3, 2.3, 2.4, 2.1, 2.4, 1.8, 2.3]),\n",
       "  array([29.16, 25.  , 26.01, 29.16, 26.01, 32.49, 26.01, 26.01, 33.64,\n",
       "         23.04, 32.49, 26.01, 24.01, 21.16, 29.16, 23.04, 24.01, 28.09,\n",
       "         22.09, 23.04, 24.01, 25.  , 30.25, 20.25, 27.04, 32.49, 47.61,\n",
       "         31.36, 31.36, 36.  , 32.49, 44.89, 40.96, 38.44, 34.81, 36.  ,\n",
       "         31.36, 31.36, 26.01, 34.81, 29.16, 42.25, 25.  , 30.25, 40.96,\n",
       "         37.21, 33.64, 30.25, 25.  , 30.25, 39.69, 62.41, 53.29, 36.  ,\n",
       "         44.89, 32.49, 37.21, 59.29, 51.84, 51.84, 59.29, 54.76, 47.61,\n",
       "         39.69, 42.25, 44.89, 38.44, 36.  , 47.61, 46.24, 44.89, 50.41,\n",
       "         33.64, 37.21, 38.44]),\n",
       "  array([11.56, 12.96, 12.25, 15.21, 13.69, 19.36, 10.89, 14.44, 16.  ,\n",
       "         11.56, 14.44, 14.44,  9.61, 11.56, 15.21,  9.  ,  9.61, 13.69,\n",
       "         10.24, 11.56,  9.  , 11.56, 12.25,  5.29, 11.56,  6.76,  9.61,\n",
       "          6.25,  8.41, 11.56,  8.41,  9.61,  8.41,  4.84, 10.24,  4.84,\n",
       "          9.  ,  7.29,  6.25,  9.  ,  9.  ,  7.84,  5.29,  5.76, 10.24,\n",
       "          8.41,  7.29,  6.25,  4.  ,  6.76,  6.25, 14.44,  8.41,  4.84,\n",
       "         10.89,  6.25,  6.76,  6.76, 12.96,  9.  ,  7.84,  7.84,  9.61,\n",
       "         11.56,  9.  , 10.89,  7.84,  9.  ,  9.61, 10.24,  9.61,  9.  ,\n",
       "          7.84,  9.  , 11.56]),\n",
       "  array([ 2.89,  1.96,  1.96,  2.89,  2.25,  2.25,  2.89,  2.56,  1.44,\n",
       "          2.56,  2.89,  3.61,  2.25,  1.96,  1.69,  1.96,  2.25,  2.25,\n",
       "          2.56,  3.61,  1.96,  2.56,  1.69,  1.69,  1.96, 12.25, 24.01,\n",
       "         15.21, 12.96, 20.25, 17.64, 19.36, 18.49, 20.25, 23.04, 16.  ,\n",
       "         20.25, 17.64,  9.  , 17.64, 20.25, 21.16, 10.89, 14.44, 20.25,\n",
       "         22.09, 15.21, 16.  , 12.25, 19.36, 25.  , 40.96, 39.69, 25.  ,\n",
       "         32.49, 25.  , 31.36, 47.61, 37.21, 33.64, 44.89, 37.21, 29.16,\n",
       "         31.36, 30.25, 32.49, 23.04, 23.04, 26.01, 34.81, 31.36, 34.81,\n",
       "         26.01, 24.01, 29.16]),\n",
       "  array([0.04, 0.04, 0.09, 0.16, 0.16, 0.16, 0.25, 0.04, 0.04, 0.04, 0.09,\n",
       "         0.16, 0.01, 0.09, 0.16, 0.01, 0.01, 0.04, 0.04, 0.04, 0.04, 0.16,\n",
       "         0.04, 0.09, 0.04, 1.  , 2.25, 1.21, 1.69, 2.56, 1.69, 1.96, 1.69,\n",
       "         2.25, 3.24, 1.  , 2.25, 1.69, 1.21, 2.25, 2.25, 2.25, 1.  , 1.21,\n",
       "         2.25, 1.96, 1.44, 1.69, 1.  , 1.44, 3.61, 4.  , 3.24, 2.25, 4.41,\n",
       "         4.  , 1.96, 5.29, 6.25, 2.56, 4.  , 3.61, 4.41, 5.76, 3.24, 6.25,\n",
       "         3.24, 3.24, 5.29, 5.29, 5.76, 4.41, 5.76, 3.24, 5.29])],\n",
       " [array([5.4, 5. , 5.1, 5.4, 5.1, 5.7, 5.1, 5.1, 5.8, 4.8, 5.7, 5.1, 4.9,\n",
       "         4.6, 5.4, 4.8, 4.9, 5.3, 4.7, 4.8, 4.9, 5. , 5.5, 4.5, 5.2, 5.7,\n",
       "         6.9, 5.6, 5.6, 6. , 5.7, 6.7, 6.4, 6.2, 5.9, 6. , 5.6, 5.6, 5.1,\n",
       "         5.9, 5.4, 6.5, 5. , 5.5, 6.4, 6.1, 5.8, 5.5, 5. , 5.5, 6.3, 7.9,\n",
       "         7.3, 6. , 6.7, 5.7, 6.1, 7.7, 7.2, 7.2, 7.7, 7.4, 6.9, 6.3, 6.5,\n",
       "         6.7, 6.2, 6. , 6.9, 6.8, 6.7, 7.1, 5.8, 6.1, 6.2]),\n",
       "  array([3.4, 3.6, 3.5, 3.9, 3.7, 4.4, 3.3, 3.8, 4. , 3.4, 3.8, 3.8, 3.1,\n",
       "         3.4, 3.9, 3. , 3.1, 3.7, 3.2, 3.4, 3. , 3.4, 3.5, 2.3, 3.4, 2.6,\n",
       "         3.1, 2.5, 2.9, 3.4, 2.9, 3.1, 2.9, 2.2, 3.2, 2.2, 3. , 2.7, 2.5,\n",
       "         3. , 3. , 2.8, 2.3, 2.4, 3.2, 2.9, 2.7, 2.5, 2. , 2.6, 2.5, 3.8,\n",
       "         2.9, 2.2, 3.3, 2.5, 2.6, 2.6, 3.6, 3. , 2.8, 2.8, 3.1, 3.4, 3. ,\n",
       "         3.3, 2.8, 3. , 3.1, 3.2, 3.1, 3. , 2.8, 3. , 3.4]),\n",
       "  array([1.7, 1.4, 1.4, 1.7, 1.5, 1.5, 1.7, 1.6, 1.2, 1.6, 1.7, 1.9, 1.5,\n",
       "         1.4, 1.3, 1.4, 1.5, 1.5, 1.6, 1.9, 1.4, 1.6, 1.3, 1.3, 1.4, 3.5,\n",
       "         4.9, 3.9, 3.6, 4.5, 4.2, 4.4, 4.3, 4.5, 4.8, 4. , 4.5, 4.2, 3. ,\n",
       "         4.2, 4.5, 4.6, 3.3, 3.8, 4.5, 4.7, 3.9, 4. , 3.5, 4.4, 5. , 6.4,\n",
       "         6.3, 5. , 5.7, 5. , 5.6, 6.9, 6.1, 5.8, 6.7, 6.1, 5.4, 5.6, 5.5,\n",
       "         5.7, 4.8, 4.8, 5.1, 5.9, 5.6, 5.9, 5.1, 4.9, 5.4]),\n",
       "  array([0.2, 0.2, 0.3, 0.4, 0.4, 0.4, 0.5, 0.2, 0.2, 0.2, 0.3, 0.4, 0.1,\n",
       "         0.3, 0.4, 0.1, 0.1, 0.2, 0.2, 0.2, 0.2, 0.4, 0.2, 0.3, 0.2, 1. ,\n",
       "         1.5, 1.1, 1.3, 1.6, 1.3, 1.4, 1.3, 1.5, 1.8, 1. , 1.5, 1.3, 1.1,\n",
       "         1.5, 1.5, 1.5, 1. , 1.1, 1.5, 1.4, 1.2, 1.3, 1. , 1.2, 1.9, 2. ,\n",
       "         1.8, 1.5, 2.1, 2. , 1.4, 2.3, 2.5, 1.6, 2. , 1.9, 2.1, 2.4, 1.8,\n",
       "         2.5, 1.8, 1.8, 2.3, 2.3, 2.4, 2.1, 2.4, 1.8, 2.3]),\n",
       "  array([29.16, 25.  , 26.01, 29.16, 26.01, 32.49, 26.01, 26.01, 33.64,\n",
       "         23.04, 32.49, 26.01, 24.01, 21.16, 29.16, 23.04, 24.01, 28.09,\n",
       "         22.09, 23.04, 24.01, 25.  , 30.25, 20.25, 27.04, 32.49, 47.61,\n",
       "         31.36, 31.36, 36.  , 32.49, 44.89, 40.96, 38.44, 34.81, 36.  ,\n",
       "         31.36, 31.36, 26.01, 34.81, 29.16, 42.25, 25.  , 30.25, 40.96,\n",
       "         37.21, 33.64, 30.25, 25.  , 30.25, 39.69, 62.41, 53.29, 36.  ,\n",
       "         44.89, 32.49, 37.21, 59.29, 51.84, 51.84, 59.29, 54.76, 47.61,\n",
       "         39.69, 42.25, 44.89, 38.44, 36.  , 47.61, 46.24, 44.89, 50.41,\n",
       "         33.64, 37.21, 38.44]),\n",
       "  array([11.56, 12.96, 12.25, 15.21, 13.69, 19.36, 10.89, 14.44, 16.  ,\n",
       "         11.56, 14.44, 14.44,  9.61, 11.56, 15.21,  9.  ,  9.61, 13.69,\n",
       "         10.24, 11.56,  9.  , 11.56, 12.25,  5.29, 11.56,  6.76,  9.61,\n",
       "          6.25,  8.41, 11.56,  8.41,  9.61,  8.41,  4.84, 10.24,  4.84,\n",
       "          9.  ,  7.29,  6.25,  9.  ,  9.  ,  7.84,  5.29,  5.76, 10.24,\n",
       "          8.41,  7.29,  6.25,  4.  ,  6.76,  6.25, 14.44,  8.41,  4.84,\n",
       "         10.89,  6.25,  6.76,  6.76, 12.96,  9.  ,  7.84,  7.84,  9.61,\n",
       "         11.56,  9.  , 10.89,  7.84,  9.  ,  9.61, 10.24,  9.61,  9.  ,\n",
       "          7.84,  9.  , 11.56]),\n",
       "  array([ 2.89,  1.96,  1.96,  2.89,  2.25,  2.25,  2.89,  2.56,  1.44,\n",
       "          2.56,  2.89,  3.61,  2.25,  1.96,  1.69,  1.96,  2.25,  2.25,\n",
       "          2.56,  3.61,  1.96,  2.56,  1.69,  1.69,  1.96, 12.25, 24.01,\n",
       "         15.21, 12.96, 20.25, 17.64, 19.36, 18.49, 20.25, 23.04, 16.  ,\n",
       "         20.25, 17.64,  9.  , 17.64, 20.25, 21.16, 10.89, 14.44, 20.25,\n",
       "         22.09, 15.21, 16.  , 12.25, 19.36, 25.  , 40.96, 39.69, 25.  ,\n",
       "         32.49, 25.  , 31.36, 47.61, 37.21, 33.64, 44.89, 37.21, 29.16,\n",
       "         31.36, 30.25, 32.49, 23.04, 23.04, 26.01, 34.81, 31.36, 34.81,\n",
       "         26.01, 24.01, 29.16]),\n",
       "  array([0.04, 0.04, 0.09, 0.16, 0.16, 0.16, 0.25, 0.04, 0.04, 0.04, 0.09,\n",
       "         0.16, 0.01, 0.09, 0.16, 0.01, 0.01, 0.04, 0.04, 0.04, 0.04, 0.16,\n",
       "         0.04, 0.09, 0.04, 1.  , 2.25, 1.21, 1.69, 2.56, 1.69, 1.96, 1.69,\n",
       "         2.25, 3.24, 1.  , 2.25, 1.69, 1.21, 2.25, 2.25, 2.25, 1.  , 1.21,\n",
       "         2.25, 1.96, 1.44, 1.69, 1.  , 1.44, 3.61, 4.  , 3.24, 2.25, 4.41,\n",
       "         4.  , 1.96, 5.29, 6.25, 2.56, 4.  , 3.61, 4.41, 5.76, 3.24, 6.25,\n",
       "         3.24, 3.24, 5.29, 5.29, 5.76, 4.41, 5.76, 3.24, 5.29])]]"
      ]
     },
     "execution_count": 130,
     "metadata": {},
     "output_type": "execute_result"
    }
   ],
   "source": [
    "MM1"
   ]
  },
  {
   "cell_type": "code",
   "execution_count": 131,
   "metadata": {},
   "outputs": [],
   "source": [
    "MM1 = np.array(MM1)"
   ]
  },
  {
   "cell_type": "code",
   "execution_count": 132,
   "metadata": {},
   "outputs": [
    {
     "data": {
      "text/plain": [
       "(2, 8, 75)"
      ]
     },
     "execution_count": 132,
     "metadata": {},
     "output_type": "execute_result"
    }
   ],
   "source": [
    "MM1.shape"
   ]
  },
  {
   "cell_type": "code",
   "execution_count": 134,
   "metadata": {},
   "outputs": [
    {
     "data": {
      "text/plain": [
       "(75, 8, 2)"
      ]
     },
     "execution_count": 134,
     "metadata": {},
     "output_type": "execute_result"
    }
   ],
   "source": [
    "MM1.T.shape"
   ]
  },
  {
   "cell_type": "code",
   "execution_count": 136,
   "metadata": {},
   "outputs": [
    {
     "data": {
      "text/plain": [
       "(8, 75)"
      ]
     },
     "execution_count": 136,
     "metadata": {},
     "output_type": "execute_result"
    }
   ],
   "source": [
    "MM1[0].shape"
   ]
  },
  {
   "cell_type": "code",
   "execution_count": 137,
   "metadata": {},
   "outputs": [
    {
     "data": {
      "text/plain": [
       "(8, 75)"
      ]
     },
     "execution_count": 137,
     "metadata": {},
     "output_type": "execute_result"
    }
   ],
   "source": [
    "np.array(M1).shape"
   ]
  },
  {
   "cell_type": "code",
   "execution_count": 138,
   "metadata": {},
   "outputs": [
    {
     "ename": "AttributeError",
     "evalue": "'numpy.ndarray' object has no attribute 'append'",
     "output_type": "error",
     "traceback": [
      "\u001b[1;31m---------------------------------------------------------------------------\u001b[0m",
      "\u001b[1;31mAttributeError\u001b[0m                            Traceback (most recent call last)",
      "\u001b[1;32m<ipython-input-138-1bcd2a73338e>\u001b[0m in \u001b[0;36m<module>\u001b[1;34m()\u001b[0m\n\u001b[0;32m     11\u001b[0m \u001b[1;32mfor\u001b[0m \u001b[0mi\u001b[0m \u001b[1;32min\u001b[0m \u001b[0mrange\u001b[0m\u001b[1;33m(\u001b[0m\u001b[0morder\u001b[0m\u001b[1;33m)\u001b[0m\u001b[1;33m:\u001b[0m\u001b[1;33m\u001b[0m\u001b[0m\n\u001b[0;32m     12\u001b[0m     \u001b[1;32mfor\u001b[0m \u001b[0mk\u001b[0m \u001b[1;32min\u001b[0m \u001b[0mrange\u001b[0m\u001b[1;33m(\u001b[0m\u001b[0ml\u001b[0m\u001b[1;33m)\u001b[0m\u001b[1;33m:\u001b[0m\u001b[1;33m\u001b[0m\u001b[0m\n\u001b[1;32m---> 13\u001b[1;33m         \u001b[0mM1\u001b[0m\u001b[1;33m.\u001b[0m\u001b[0mappend\u001b[0m\u001b[1;33m(\u001b[0m\u001b[0mX\u001b[0m\u001b[1;33m[\u001b[0m\u001b[1;33m:\u001b[0m\u001b[1;33m,\u001b[0m\u001b[0mk\u001b[0m\u001b[1;33m]\u001b[0m\u001b[1;33m**\u001b[0m\u001b[1;33m(\u001b[0m\u001b[0mi\u001b[0m\u001b[1;33m+\u001b[0m\u001b[1;36m1\u001b[0m\u001b[1;33m)\u001b[0m\u001b[1;33m)\u001b[0m\u001b[1;33m\u001b[0m\u001b[0m\n\u001b[0m\u001b[0;32m     14\u001b[0m         \u001b[1;32mif\u001b[0m \u001b[1;33m(\u001b[0m\u001b[0mi\u001b[0m\u001b[1;33m>\u001b[0m\u001b[1;36m0\u001b[0m\u001b[1;33m)\u001b[0m\u001b[1;33m:\u001b[0m\u001b[1;33m\u001b[0m\u001b[0m\n\u001b[0;32m     15\u001b[0m             \u001b[0mM3\u001b[0m\u001b[1;33m.\u001b[0m\u001b[0mappend\u001b[0m\u001b[1;33m(\u001b[0m\u001b[0mX\u001b[0m\u001b[1;33m[\u001b[0m\u001b[1;33m:\u001b[0m\u001b[1;33m,\u001b[0m\u001b[0mk\u001b[0m\u001b[1;33m]\u001b[0m\u001b[1;33m*\u001b[0m\u001b[0mMsum\u001b[0m\u001b[1;33m**\u001b[0m\u001b[1;33m(\u001b[0m\u001b[0mi\u001b[0m\u001b[1;33m)\u001b[0m\u001b[1;33m)\u001b[0m\u001b[1;33m\u001b[0m\u001b[0m\n",
      "\u001b[1;31mAttributeError\u001b[0m: 'numpy.ndarray' object has no attribute 'append'"
     ]
    }
   ],
   "source": [
    "    m,l = X.shape\n",
    "    \n",
    "    M1 = []\n",
    "    M2 = []\n",
    "    M3 = []\n",
    "    MM1 = []\n",
    "    MM3 = []\n",
    "\n",
    "    Msum = np.sum(X,axis=1)\n",
    "\n",
    "    for i in range(order):\n",
    "        for k in range(l):\n",
    "            M1.append(X[:,k]**(i+1))\n",
    "            if (i>0):\n",
    "                M3.append(X[:,k]*Msum**(i)) \n",
    "        M1 = np.array(M1).T\n",
    "        M3 = np.array(M3).T\n",
    "        M2.append(Msum**(i+1))\n",
    "        MM1.append(M1)\n",
    "        if (i>0):\n",
    "            MM3.append(M3)"
   ]
  },
  {
   "cell_type": "code",
   "execution_count": 139,
   "metadata": {},
   "outputs": [
    {
     "ename": "ValueError",
     "evalue": "could not broadcast input array from shape (75,4) into shape (75)",
     "output_type": "error",
     "traceback": [
      "\u001b[1;31m---------------------------------------------------------------------------\u001b[0m",
      "\u001b[1;31mValueError\u001b[0m                                Traceback (most recent call last)",
      "\u001b[1;32m<ipython-input-139-ea36f587260d>\u001b[0m in \u001b[0;36m<module>\u001b[1;34m()\u001b[0m\n\u001b[0;32m     18\u001b[0m     \u001b[1;32mif\u001b[0m \u001b[1;33m(\u001b[0m\u001b[0mi\u001b[0m\u001b[1;33m>\u001b[0m\u001b[1;36m0\u001b[0m\u001b[1;33m)\u001b[0m\u001b[1;33m:\u001b[0m\u001b[1;33m\u001b[0m\u001b[0m\n\u001b[0;32m     19\u001b[0m         \u001b[0mMM3\u001b[0m\u001b[1;33m.\u001b[0m\u001b[0mappend\u001b[0m\u001b[1;33m(\u001b[0m\u001b[0mnp\u001b[0m\u001b[1;33m.\u001b[0m\u001b[0marray\u001b[0m\u001b[1;33m(\u001b[0m\u001b[0mM3\u001b[0m\u001b[1;33m)\u001b[0m\u001b[1;33m.\u001b[0m\u001b[0mT\u001b[0m\u001b[1;33m)\u001b[0m\u001b[1;33m\u001b[0m\u001b[0m\n\u001b[1;32m---> 20\u001b[1;33m \u001b[0mMM1\u001b[0m \u001b[1;33m=\u001b[0m \u001b[0mnp\u001b[0m\u001b[1;33m.\u001b[0m\u001b[0marray\u001b[0m\u001b[1;33m(\u001b[0m\u001b[0mMM1\u001b[0m\u001b[1;33m)\u001b[0m\u001b[1;33m\u001b[0m\u001b[0m\n\u001b[0m\u001b[0;32m     21\u001b[0m \u001b[0mP\u001b[0m \u001b[1;33m=\u001b[0m \u001b[1;33m[\u001b[0m\u001b[0mnp\u001b[0m\u001b[1;33m.\u001b[0m\u001b[0mones\u001b[0m\u001b[1;33m(\u001b[0m\u001b[0mX\u001b[0m\u001b[1;33m.\u001b[0m\u001b[0mshape\u001b[0m\u001b[1;33m[\u001b[0m\u001b[1;36m0\u001b[0m\u001b[1;33m]\u001b[0m\u001b[1;33m)\u001b[0m\u001b[1;33m]\u001b[0m\u001b[1;33m\u001b[0m\u001b[0m\n",
      "\u001b[1;31mValueError\u001b[0m: could not broadcast input array from shape (75,4) into shape (75)"
     ]
    }
   ],
   "source": [
    "    m,l = X.shape\n",
    "    \n",
    "    M1 = []\n",
    "    M2 = []\n",
    "    M3 = []\n",
    "    MM1 = []\n",
    "    MM3 = []\n",
    "\n",
    "    Msum = np.sum(X,axis=1)\n",
    "\n",
    "    for i in range(order):\n",
    "        for k in range(l):\n",
    "            M1.append(X[:,k]**(i+1))\n",
    "            if (i>0):\n",
    "                M3.append(X[:,k]*Msum**(i)) \n",
    "        M2.append(Msum**(i+1))\n",
    "        MM1.append(np.array(M1).T)\n",
    "        if (i>0):\n",
    "            MM3.append(np.array(M3).T)\n",
    "    MM1 = np.array(MM1)\n",
    "    P = [np.ones(X.shape[0])]"
   ]
  },
  {
   "cell_type": "code",
   "execution_count": 140,
   "metadata": {},
   "outputs": [],
   "source": [
    "    m,l = X.shape\n",
    "    \n",
    "    M1 = []\n",
    "    M2 = []\n",
    "    M3 = []\n",
    "    MM1 = []\n",
    "    MM3 = []\n",
    "\n",
    "    Msum = np.sum(X,axis=1)\n",
    "\n",
    "    for i in range(order):\n",
    "        for k in range(l):\n",
    "            M1.append(X[:,k]**(i+1))\n",
    "            if (i>0):\n",
    "                M3.append(X[:,k]*Msum**(i)) \n",
    "        M2.append(Msum**(i+1))\n",
    "        MM1.append(np.array(M1).T)\n",
    "        if (i>0):\n",
    "            MM3.append(np.array(M3).T)\n",
    "    P = [np.ones(X.shape[0])]"
   ]
  },
  {
   "cell_type": "code",
   "execution_count": 141,
   "metadata": {},
   "outputs": [
    {
     "data": {
      "text/plain": [
       "[array([[5.4, 3.4, 1.7, 0.2],\n",
       "        [5. , 3.6, 1.4, 0.2],\n",
       "        [5.1, 3.5, 1.4, 0.3],\n",
       "        [5.4, 3.9, 1.7, 0.4],\n",
       "        [5.1, 3.7, 1.5, 0.4],\n",
       "        [5.7, 4.4, 1.5, 0.4],\n",
       "        [5.1, 3.3, 1.7, 0.5],\n",
       "        [5.1, 3.8, 1.6, 0.2],\n",
       "        [5.8, 4. , 1.2, 0.2],\n",
       "        [4.8, 3.4, 1.6, 0.2],\n",
       "        [5.7, 3.8, 1.7, 0.3],\n",
       "        [5.1, 3.8, 1.9, 0.4],\n",
       "        [4.9, 3.1, 1.5, 0.1],\n",
       "        [4.6, 3.4, 1.4, 0.3],\n",
       "        [5.4, 3.9, 1.3, 0.4],\n",
       "        [4.8, 3. , 1.4, 0.1],\n",
       "        [4.9, 3.1, 1.5, 0.1],\n",
       "        [5.3, 3.7, 1.5, 0.2],\n",
       "        [4.7, 3.2, 1.6, 0.2],\n",
       "        [4.8, 3.4, 1.9, 0.2],\n",
       "        [4.9, 3. , 1.4, 0.2],\n",
       "        [5. , 3.4, 1.6, 0.4],\n",
       "        [5.5, 3.5, 1.3, 0.2],\n",
       "        [4.5, 2.3, 1.3, 0.3],\n",
       "        [5.2, 3.4, 1.4, 0.2],\n",
       "        [5.7, 2.6, 3.5, 1. ],\n",
       "        [6.9, 3.1, 4.9, 1.5],\n",
       "        [5.6, 2.5, 3.9, 1.1],\n",
       "        [5.6, 2.9, 3.6, 1.3],\n",
       "        [6. , 3.4, 4.5, 1.6],\n",
       "        [5.7, 2.9, 4.2, 1.3],\n",
       "        [6.7, 3.1, 4.4, 1.4],\n",
       "        [6.4, 2.9, 4.3, 1.3],\n",
       "        [6.2, 2.2, 4.5, 1.5],\n",
       "        [5.9, 3.2, 4.8, 1.8],\n",
       "        [6. , 2.2, 4. , 1. ],\n",
       "        [5.6, 3. , 4.5, 1.5],\n",
       "        [5.6, 2.7, 4.2, 1.3],\n",
       "        [5.1, 2.5, 3. , 1.1],\n",
       "        [5.9, 3. , 4.2, 1.5],\n",
       "        [5.4, 3. , 4.5, 1.5],\n",
       "        [6.5, 2.8, 4.6, 1.5],\n",
       "        [5. , 2.3, 3.3, 1. ],\n",
       "        [5.5, 2.4, 3.8, 1.1],\n",
       "        [6.4, 3.2, 4.5, 1.5],\n",
       "        [6.1, 2.9, 4.7, 1.4],\n",
       "        [5.8, 2.7, 3.9, 1.2],\n",
       "        [5.5, 2.5, 4. , 1.3],\n",
       "        [5. , 2. , 3.5, 1. ],\n",
       "        [5.5, 2.6, 4.4, 1.2],\n",
       "        [6.3, 2.5, 5. , 1.9],\n",
       "        [7.9, 3.8, 6.4, 2. ],\n",
       "        [7.3, 2.9, 6.3, 1.8],\n",
       "        [6. , 2.2, 5. , 1.5],\n",
       "        [6.7, 3.3, 5.7, 2.1],\n",
       "        [5.7, 2.5, 5. , 2. ],\n",
       "        [6.1, 2.6, 5.6, 1.4],\n",
       "        [7.7, 2.6, 6.9, 2.3],\n",
       "        [7.2, 3.6, 6.1, 2.5],\n",
       "        [7.2, 3. , 5.8, 1.6],\n",
       "        [7.7, 2.8, 6.7, 2. ],\n",
       "        [7.4, 2.8, 6.1, 1.9],\n",
       "        [6.9, 3.1, 5.4, 2.1],\n",
       "        [6.3, 3.4, 5.6, 2.4],\n",
       "        [6.5, 3. , 5.5, 1.8],\n",
       "        [6.7, 3.3, 5.7, 2.5],\n",
       "        [6.2, 2.8, 4.8, 1.8],\n",
       "        [6. , 3. , 4.8, 1.8],\n",
       "        [6.9, 3.1, 5.1, 2.3],\n",
       "        [6.8, 3.2, 5.9, 2.3],\n",
       "        [6.7, 3.1, 5.6, 2.4],\n",
       "        [7.1, 3. , 5.9, 2.1],\n",
       "        [5.8, 2.8, 5.1, 2.4],\n",
       "        [6.1, 3. , 4.9, 1.8],\n",
       "        [6.2, 3.4, 5.4, 2.3]]),\n",
       " array([[5.400e+00, 3.400e+00, 1.700e+00, 2.000e-01, 2.916e+01, 1.156e+01,\n",
       "         2.890e+00, 4.000e-02],\n",
       "        [5.000e+00, 3.600e+00, 1.400e+00, 2.000e-01, 2.500e+01, 1.296e+01,\n",
       "         1.960e+00, 4.000e-02],\n",
       "        [5.100e+00, 3.500e+00, 1.400e+00, 3.000e-01, 2.601e+01, 1.225e+01,\n",
       "         1.960e+00, 9.000e-02],\n",
       "        [5.400e+00, 3.900e+00, 1.700e+00, 4.000e-01, 2.916e+01, 1.521e+01,\n",
       "         2.890e+00, 1.600e-01],\n",
       "        [5.100e+00, 3.700e+00, 1.500e+00, 4.000e-01, 2.601e+01, 1.369e+01,\n",
       "         2.250e+00, 1.600e-01],\n",
       "        [5.700e+00, 4.400e+00, 1.500e+00, 4.000e-01, 3.249e+01, 1.936e+01,\n",
       "         2.250e+00, 1.600e-01],\n",
       "        [5.100e+00, 3.300e+00, 1.700e+00, 5.000e-01, 2.601e+01, 1.089e+01,\n",
       "         2.890e+00, 2.500e-01],\n",
       "        [5.100e+00, 3.800e+00, 1.600e+00, 2.000e-01, 2.601e+01, 1.444e+01,\n",
       "         2.560e+00, 4.000e-02],\n",
       "        [5.800e+00, 4.000e+00, 1.200e+00, 2.000e-01, 3.364e+01, 1.600e+01,\n",
       "         1.440e+00, 4.000e-02],\n",
       "        [4.800e+00, 3.400e+00, 1.600e+00, 2.000e-01, 2.304e+01, 1.156e+01,\n",
       "         2.560e+00, 4.000e-02],\n",
       "        [5.700e+00, 3.800e+00, 1.700e+00, 3.000e-01, 3.249e+01, 1.444e+01,\n",
       "         2.890e+00, 9.000e-02],\n",
       "        [5.100e+00, 3.800e+00, 1.900e+00, 4.000e-01, 2.601e+01, 1.444e+01,\n",
       "         3.610e+00, 1.600e-01],\n",
       "        [4.900e+00, 3.100e+00, 1.500e+00, 1.000e-01, 2.401e+01, 9.610e+00,\n",
       "         2.250e+00, 1.000e-02],\n",
       "        [4.600e+00, 3.400e+00, 1.400e+00, 3.000e-01, 2.116e+01, 1.156e+01,\n",
       "         1.960e+00, 9.000e-02],\n",
       "        [5.400e+00, 3.900e+00, 1.300e+00, 4.000e-01, 2.916e+01, 1.521e+01,\n",
       "         1.690e+00, 1.600e-01],\n",
       "        [4.800e+00, 3.000e+00, 1.400e+00, 1.000e-01, 2.304e+01, 9.000e+00,\n",
       "         1.960e+00, 1.000e-02],\n",
       "        [4.900e+00, 3.100e+00, 1.500e+00, 1.000e-01, 2.401e+01, 9.610e+00,\n",
       "         2.250e+00, 1.000e-02],\n",
       "        [5.300e+00, 3.700e+00, 1.500e+00, 2.000e-01, 2.809e+01, 1.369e+01,\n",
       "         2.250e+00, 4.000e-02],\n",
       "        [4.700e+00, 3.200e+00, 1.600e+00, 2.000e-01, 2.209e+01, 1.024e+01,\n",
       "         2.560e+00, 4.000e-02],\n",
       "        [4.800e+00, 3.400e+00, 1.900e+00, 2.000e-01, 2.304e+01, 1.156e+01,\n",
       "         3.610e+00, 4.000e-02],\n",
       "        [4.900e+00, 3.000e+00, 1.400e+00, 2.000e-01, 2.401e+01, 9.000e+00,\n",
       "         1.960e+00, 4.000e-02],\n",
       "        [5.000e+00, 3.400e+00, 1.600e+00, 4.000e-01, 2.500e+01, 1.156e+01,\n",
       "         2.560e+00, 1.600e-01],\n",
       "        [5.500e+00, 3.500e+00, 1.300e+00, 2.000e-01, 3.025e+01, 1.225e+01,\n",
       "         1.690e+00, 4.000e-02],\n",
       "        [4.500e+00, 2.300e+00, 1.300e+00, 3.000e-01, 2.025e+01, 5.290e+00,\n",
       "         1.690e+00, 9.000e-02],\n",
       "        [5.200e+00, 3.400e+00, 1.400e+00, 2.000e-01, 2.704e+01, 1.156e+01,\n",
       "         1.960e+00, 4.000e-02],\n",
       "        [5.700e+00, 2.600e+00, 3.500e+00, 1.000e+00, 3.249e+01, 6.760e+00,\n",
       "         1.225e+01, 1.000e+00],\n",
       "        [6.900e+00, 3.100e+00, 4.900e+00, 1.500e+00, 4.761e+01, 9.610e+00,\n",
       "         2.401e+01, 2.250e+00],\n",
       "        [5.600e+00, 2.500e+00, 3.900e+00, 1.100e+00, 3.136e+01, 6.250e+00,\n",
       "         1.521e+01, 1.210e+00],\n",
       "        [5.600e+00, 2.900e+00, 3.600e+00, 1.300e+00, 3.136e+01, 8.410e+00,\n",
       "         1.296e+01, 1.690e+00],\n",
       "        [6.000e+00, 3.400e+00, 4.500e+00, 1.600e+00, 3.600e+01, 1.156e+01,\n",
       "         2.025e+01, 2.560e+00],\n",
       "        [5.700e+00, 2.900e+00, 4.200e+00, 1.300e+00, 3.249e+01, 8.410e+00,\n",
       "         1.764e+01, 1.690e+00],\n",
       "        [6.700e+00, 3.100e+00, 4.400e+00, 1.400e+00, 4.489e+01, 9.610e+00,\n",
       "         1.936e+01, 1.960e+00],\n",
       "        [6.400e+00, 2.900e+00, 4.300e+00, 1.300e+00, 4.096e+01, 8.410e+00,\n",
       "         1.849e+01, 1.690e+00],\n",
       "        [6.200e+00, 2.200e+00, 4.500e+00, 1.500e+00, 3.844e+01, 4.840e+00,\n",
       "         2.025e+01, 2.250e+00],\n",
       "        [5.900e+00, 3.200e+00, 4.800e+00, 1.800e+00, 3.481e+01, 1.024e+01,\n",
       "         2.304e+01, 3.240e+00],\n",
       "        [6.000e+00, 2.200e+00, 4.000e+00, 1.000e+00, 3.600e+01, 4.840e+00,\n",
       "         1.600e+01, 1.000e+00],\n",
       "        [5.600e+00, 3.000e+00, 4.500e+00, 1.500e+00, 3.136e+01, 9.000e+00,\n",
       "         2.025e+01, 2.250e+00],\n",
       "        [5.600e+00, 2.700e+00, 4.200e+00, 1.300e+00, 3.136e+01, 7.290e+00,\n",
       "         1.764e+01, 1.690e+00],\n",
       "        [5.100e+00, 2.500e+00, 3.000e+00, 1.100e+00, 2.601e+01, 6.250e+00,\n",
       "         9.000e+00, 1.210e+00],\n",
       "        [5.900e+00, 3.000e+00, 4.200e+00, 1.500e+00, 3.481e+01, 9.000e+00,\n",
       "         1.764e+01, 2.250e+00],\n",
       "        [5.400e+00, 3.000e+00, 4.500e+00, 1.500e+00, 2.916e+01, 9.000e+00,\n",
       "         2.025e+01, 2.250e+00],\n",
       "        [6.500e+00, 2.800e+00, 4.600e+00, 1.500e+00, 4.225e+01, 7.840e+00,\n",
       "         2.116e+01, 2.250e+00],\n",
       "        [5.000e+00, 2.300e+00, 3.300e+00, 1.000e+00, 2.500e+01, 5.290e+00,\n",
       "         1.089e+01, 1.000e+00],\n",
       "        [5.500e+00, 2.400e+00, 3.800e+00, 1.100e+00, 3.025e+01, 5.760e+00,\n",
       "         1.444e+01, 1.210e+00],\n",
       "        [6.400e+00, 3.200e+00, 4.500e+00, 1.500e+00, 4.096e+01, 1.024e+01,\n",
       "         2.025e+01, 2.250e+00],\n",
       "        [6.100e+00, 2.900e+00, 4.700e+00, 1.400e+00, 3.721e+01, 8.410e+00,\n",
       "         2.209e+01, 1.960e+00],\n",
       "        [5.800e+00, 2.700e+00, 3.900e+00, 1.200e+00, 3.364e+01, 7.290e+00,\n",
       "         1.521e+01, 1.440e+00],\n",
       "        [5.500e+00, 2.500e+00, 4.000e+00, 1.300e+00, 3.025e+01, 6.250e+00,\n",
       "         1.600e+01, 1.690e+00],\n",
       "        [5.000e+00, 2.000e+00, 3.500e+00, 1.000e+00, 2.500e+01, 4.000e+00,\n",
       "         1.225e+01, 1.000e+00],\n",
       "        [5.500e+00, 2.600e+00, 4.400e+00, 1.200e+00, 3.025e+01, 6.760e+00,\n",
       "         1.936e+01, 1.440e+00],\n",
       "        [6.300e+00, 2.500e+00, 5.000e+00, 1.900e+00, 3.969e+01, 6.250e+00,\n",
       "         2.500e+01, 3.610e+00],\n",
       "        [7.900e+00, 3.800e+00, 6.400e+00, 2.000e+00, 6.241e+01, 1.444e+01,\n",
       "         4.096e+01, 4.000e+00],\n",
       "        [7.300e+00, 2.900e+00, 6.300e+00, 1.800e+00, 5.329e+01, 8.410e+00,\n",
       "         3.969e+01, 3.240e+00],\n",
       "        [6.000e+00, 2.200e+00, 5.000e+00, 1.500e+00, 3.600e+01, 4.840e+00,\n",
       "         2.500e+01, 2.250e+00],\n",
       "        [6.700e+00, 3.300e+00, 5.700e+00, 2.100e+00, 4.489e+01, 1.089e+01,\n",
       "         3.249e+01, 4.410e+00],\n",
       "        [5.700e+00, 2.500e+00, 5.000e+00, 2.000e+00, 3.249e+01, 6.250e+00,\n",
       "         2.500e+01, 4.000e+00],\n",
       "        [6.100e+00, 2.600e+00, 5.600e+00, 1.400e+00, 3.721e+01, 6.760e+00,\n",
       "         3.136e+01, 1.960e+00],\n",
       "        [7.700e+00, 2.600e+00, 6.900e+00, 2.300e+00, 5.929e+01, 6.760e+00,\n",
       "         4.761e+01, 5.290e+00],\n",
       "        [7.200e+00, 3.600e+00, 6.100e+00, 2.500e+00, 5.184e+01, 1.296e+01,\n",
       "         3.721e+01, 6.250e+00],\n",
       "        [7.200e+00, 3.000e+00, 5.800e+00, 1.600e+00, 5.184e+01, 9.000e+00,\n",
       "         3.364e+01, 2.560e+00],\n",
       "        [7.700e+00, 2.800e+00, 6.700e+00, 2.000e+00, 5.929e+01, 7.840e+00,\n",
       "         4.489e+01, 4.000e+00],\n",
       "        [7.400e+00, 2.800e+00, 6.100e+00, 1.900e+00, 5.476e+01, 7.840e+00,\n",
       "         3.721e+01, 3.610e+00],\n",
       "        [6.900e+00, 3.100e+00, 5.400e+00, 2.100e+00, 4.761e+01, 9.610e+00,\n",
       "         2.916e+01, 4.410e+00],\n",
       "        [6.300e+00, 3.400e+00, 5.600e+00, 2.400e+00, 3.969e+01, 1.156e+01,\n",
       "         3.136e+01, 5.760e+00],\n",
       "        [6.500e+00, 3.000e+00, 5.500e+00, 1.800e+00, 4.225e+01, 9.000e+00,\n",
       "         3.025e+01, 3.240e+00],\n",
       "        [6.700e+00, 3.300e+00, 5.700e+00, 2.500e+00, 4.489e+01, 1.089e+01,\n",
       "         3.249e+01, 6.250e+00],\n",
       "        [6.200e+00, 2.800e+00, 4.800e+00, 1.800e+00, 3.844e+01, 7.840e+00,\n",
       "         2.304e+01, 3.240e+00],\n",
       "        [6.000e+00, 3.000e+00, 4.800e+00, 1.800e+00, 3.600e+01, 9.000e+00,\n",
       "         2.304e+01, 3.240e+00],\n",
       "        [6.900e+00, 3.100e+00, 5.100e+00, 2.300e+00, 4.761e+01, 9.610e+00,\n",
       "         2.601e+01, 5.290e+00],\n",
       "        [6.800e+00, 3.200e+00, 5.900e+00, 2.300e+00, 4.624e+01, 1.024e+01,\n",
       "         3.481e+01, 5.290e+00],\n",
       "        [6.700e+00, 3.100e+00, 5.600e+00, 2.400e+00, 4.489e+01, 9.610e+00,\n",
       "         3.136e+01, 5.760e+00],\n",
       "        [7.100e+00, 3.000e+00, 5.900e+00, 2.100e+00, 5.041e+01, 9.000e+00,\n",
       "         3.481e+01, 4.410e+00],\n",
       "        [5.800e+00, 2.800e+00, 5.100e+00, 2.400e+00, 3.364e+01, 7.840e+00,\n",
       "         2.601e+01, 5.760e+00],\n",
       "        [6.100e+00, 3.000e+00, 4.900e+00, 1.800e+00, 3.721e+01, 9.000e+00,\n",
       "         2.401e+01, 3.240e+00],\n",
       "        [6.200e+00, 3.400e+00, 5.400e+00, 2.300e+00, 3.844e+01, 1.156e+01,\n",
       "         2.916e+01, 5.290e+00]])]"
      ]
     },
     "execution_count": 141,
     "metadata": {},
     "output_type": "execute_result"
    }
   ],
   "source": [
    "MM1"
   ]
  },
  {
   "cell_type": "code",
   "execution_count": 142,
   "metadata": {},
   "outputs": [],
   "source": [
    "    m,l = X.shape\n",
    "    \n",
    "    M1 = []\n",
    "    M2 = []\n",
    "    M3 = []\n",
    "    MM1 = []\n",
    "    MM3 = []\n",
    "\n",
    "    Msum = np.sum(X,axis=1)\n",
    "\n",
    "    for i in range(order):\n",
    "        for k in range(l):\n",
    "            M1.append(X[:,k]**(i+1))\n",
    "            if (i>0):\n",
    "                M3.append(X[:,k]*Msum**(i)) \n",
    "        M2.append(Msum**(i+1))\n",
    "        MM1.append(np.array(M1).T)\n",
    "        if (i>0):\n",
    "            MM3.append(np.array(M3).T)\n",
    "    P = [np.ones(X.shape[0])]"
   ]
  },
  {
   "cell_type": "code",
   "execution_count": 143,
   "metadata": {},
   "outputs": [
    {
     "data": {
      "text/plain": [
       "[array([[5.4, 3.4, 1.7, 0.2],\n",
       "        [5. , 3.6, 1.4, 0.2],\n",
       "        [5.1, 3.5, 1.4, 0.3],\n",
       "        [5.4, 3.9, 1.7, 0.4],\n",
       "        [5.1, 3.7, 1.5, 0.4],\n",
       "        [5.7, 4.4, 1.5, 0.4],\n",
       "        [5.1, 3.3, 1.7, 0.5],\n",
       "        [5.1, 3.8, 1.6, 0.2],\n",
       "        [5.8, 4. , 1.2, 0.2],\n",
       "        [4.8, 3.4, 1.6, 0.2],\n",
       "        [5.7, 3.8, 1.7, 0.3],\n",
       "        [5.1, 3.8, 1.9, 0.4],\n",
       "        [4.9, 3.1, 1.5, 0.1],\n",
       "        [4.6, 3.4, 1.4, 0.3],\n",
       "        [5.4, 3.9, 1.3, 0.4],\n",
       "        [4.8, 3. , 1.4, 0.1],\n",
       "        [4.9, 3.1, 1.5, 0.1],\n",
       "        [5.3, 3.7, 1.5, 0.2],\n",
       "        [4.7, 3.2, 1.6, 0.2],\n",
       "        [4.8, 3.4, 1.9, 0.2],\n",
       "        [4.9, 3. , 1.4, 0.2],\n",
       "        [5. , 3.4, 1.6, 0.4],\n",
       "        [5.5, 3.5, 1.3, 0.2],\n",
       "        [4.5, 2.3, 1.3, 0.3],\n",
       "        [5.2, 3.4, 1.4, 0.2],\n",
       "        [5.7, 2.6, 3.5, 1. ],\n",
       "        [6.9, 3.1, 4.9, 1.5],\n",
       "        [5.6, 2.5, 3.9, 1.1],\n",
       "        [5.6, 2.9, 3.6, 1.3],\n",
       "        [6. , 3.4, 4.5, 1.6],\n",
       "        [5.7, 2.9, 4.2, 1.3],\n",
       "        [6.7, 3.1, 4.4, 1.4],\n",
       "        [6.4, 2.9, 4.3, 1.3],\n",
       "        [6.2, 2.2, 4.5, 1.5],\n",
       "        [5.9, 3.2, 4.8, 1.8],\n",
       "        [6. , 2.2, 4. , 1. ],\n",
       "        [5.6, 3. , 4.5, 1.5],\n",
       "        [5.6, 2.7, 4.2, 1.3],\n",
       "        [5.1, 2.5, 3. , 1.1],\n",
       "        [5.9, 3. , 4.2, 1.5],\n",
       "        [5.4, 3. , 4.5, 1.5],\n",
       "        [6.5, 2.8, 4.6, 1.5],\n",
       "        [5. , 2.3, 3.3, 1. ],\n",
       "        [5.5, 2.4, 3.8, 1.1],\n",
       "        [6.4, 3.2, 4.5, 1.5],\n",
       "        [6.1, 2.9, 4.7, 1.4],\n",
       "        [5.8, 2.7, 3.9, 1.2],\n",
       "        [5.5, 2.5, 4. , 1.3],\n",
       "        [5. , 2. , 3.5, 1. ],\n",
       "        [5.5, 2.6, 4.4, 1.2],\n",
       "        [6.3, 2.5, 5. , 1.9],\n",
       "        [7.9, 3.8, 6.4, 2. ],\n",
       "        [7.3, 2.9, 6.3, 1.8],\n",
       "        [6. , 2.2, 5. , 1.5],\n",
       "        [6.7, 3.3, 5.7, 2.1],\n",
       "        [5.7, 2.5, 5. , 2. ],\n",
       "        [6.1, 2.6, 5.6, 1.4],\n",
       "        [7.7, 2.6, 6.9, 2.3],\n",
       "        [7.2, 3.6, 6.1, 2.5],\n",
       "        [7.2, 3. , 5.8, 1.6],\n",
       "        [7.7, 2.8, 6.7, 2. ],\n",
       "        [7.4, 2.8, 6.1, 1.9],\n",
       "        [6.9, 3.1, 5.4, 2.1],\n",
       "        [6.3, 3.4, 5.6, 2.4],\n",
       "        [6.5, 3. , 5.5, 1.8],\n",
       "        [6.7, 3.3, 5.7, 2.5],\n",
       "        [6.2, 2.8, 4.8, 1.8],\n",
       "        [6. , 3. , 4.8, 1.8],\n",
       "        [6.9, 3.1, 5.1, 2.3],\n",
       "        [6.8, 3.2, 5.9, 2.3],\n",
       "        [6.7, 3.1, 5.6, 2.4],\n",
       "        [7.1, 3. , 5.9, 2.1],\n",
       "        [5.8, 2.8, 5.1, 2.4],\n",
       "        [6.1, 3. , 4.9, 1.8],\n",
       "        [6.2, 3.4, 5.4, 2.3]]),\n",
       " array([[5.400e+00, 3.400e+00, 1.700e+00, 2.000e-01, 2.916e+01, 1.156e+01,\n",
       "         2.890e+00, 4.000e-02],\n",
       "        [5.000e+00, 3.600e+00, 1.400e+00, 2.000e-01, 2.500e+01, 1.296e+01,\n",
       "         1.960e+00, 4.000e-02],\n",
       "        [5.100e+00, 3.500e+00, 1.400e+00, 3.000e-01, 2.601e+01, 1.225e+01,\n",
       "         1.960e+00, 9.000e-02],\n",
       "        [5.400e+00, 3.900e+00, 1.700e+00, 4.000e-01, 2.916e+01, 1.521e+01,\n",
       "         2.890e+00, 1.600e-01],\n",
       "        [5.100e+00, 3.700e+00, 1.500e+00, 4.000e-01, 2.601e+01, 1.369e+01,\n",
       "         2.250e+00, 1.600e-01],\n",
       "        [5.700e+00, 4.400e+00, 1.500e+00, 4.000e-01, 3.249e+01, 1.936e+01,\n",
       "         2.250e+00, 1.600e-01],\n",
       "        [5.100e+00, 3.300e+00, 1.700e+00, 5.000e-01, 2.601e+01, 1.089e+01,\n",
       "         2.890e+00, 2.500e-01],\n",
       "        [5.100e+00, 3.800e+00, 1.600e+00, 2.000e-01, 2.601e+01, 1.444e+01,\n",
       "         2.560e+00, 4.000e-02],\n",
       "        [5.800e+00, 4.000e+00, 1.200e+00, 2.000e-01, 3.364e+01, 1.600e+01,\n",
       "         1.440e+00, 4.000e-02],\n",
       "        [4.800e+00, 3.400e+00, 1.600e+00, 2.000e-01, 2.304e+01, 1.156e+01,\n",
       "         2.560e+00, 4.000e-02],\n",
       "        [5.700e+00, 3.800e+00, 1.700e+00, 3.000e-01, 3.249e+01, 1.444e+01,\n",
       "         2.890e+00, 9.000e-02],\n",
       "        [5.100e+00, 3.800e+00, 1.900e+00, 4.000e-01, 2.601e+01, 1.444e+01,\n",
       "         3.610e+00, 1.600e-01],\n",
       "        [4.900e+00, 3.100e+00, 1.500e+00, 1.000e-01, 2.401e+01, 9.610e+00,\n",
       "         2.250e+00, 1.000e-02],\n",
       "        [4.600e+00, 3.400e+00, 1.400e+00, 3.000e-01, 2.116e+01, 1.156e+01,\n",
       "         1.960e+00, 9.000e-02],\n",
       "        [5.400e+00, 3.900e+00, 1.300e+00, 4.000e-01, 2.916e+01, 1.521e+01,\n",
       "         1.690e+00, 1.600e-01],\n",
       "        [4.800e+00, 3.000e+00, 1.400e+00, 1.000e-01, 2.304e+01, 9.000e+00,\n",
       "         1.960e+00, 1.000e-02],\n",
       "        [4.900e+00, 3.100e+00, 1.500e+00, 1.000e-01, 2.401e+01, 9.610e+00,\n",
       "         2.250e+00, 1.000e-02],\n",
       "        [5.300e+00, 3.700e+00, 1.500e+00, 2.000e-01, 2.809e+01, 1.369e+01,\n",
       "         2.250e+00, 4.000e-02],\n",
       "        [4.700e+00, 3.200e+00, 1.600e+00, 2.000e-01, 2.209e+01, 1.024e+01,\n",
       "         2.560e+00, 4.000e-02],\n",
       "        [4.800e+00, 3.400e+00, 1.900e+00, 2.000e-01, 2.304e+01, 1.156e+01,\n",
       "         3.610e+00, 4.000e-02],\n",
       "        [4.900e+00, 3.000e+00, 1.400e+00, 2.000e-01, 2.401e+01, 9.000e+00,\n",
       "         1.960e+00, 4.000e-02],\n",
       "        [5.000e+00, 3.400e+00, 1.600e+00, 4.000e-01, 2.500e+01, 1.156e+01,\n",
       "         2.560e+00, 1.600e-01],\n",
       "        [5.500e+00, 3.500e+00, 1.300e+00, 2.000e-01, 3.025e+01, 1.225e+01,\n",
       "         1.690e+00, 4.000e-02],\n",
       "        [4.500e+00, 2.300e+00, 1.300e+00, 3.000e-01, 2.025e+01, 5.290e+00,\n",
       "         1.690e+00, 9.000e-02],\n",
       "        [5.200e+00, 3.400e+00, 1.400e+00, 2.000e-01, 2.704e+01, 1.156e+01,\n",
       "         1.960e+00, 4.000e-02],\n",
       "        [5.700e+00, 2.600e+00, 3.500e+00, 1.000e+00, 3.249e+01, 6.760e+00,\n",
       "         1.225e+01, 1.000e+00],\n",
       "        [6.900e+00, 3.100e+00, 4.900e+00, 1.500e+00, 4.761e+01, 9.610e+00,\n",
       "         2.401e+01, 2.250e+00],\n",
       "        [5.600e+00, 2.500e+00, 3.900e+00, 1.100e+00, 3.136e+01, 6.250e+00,\n",
       "         1.521e+01, 1.210e+00],\n",
       "        [5.600e+00, 2.900e+00, 3.600e+00, 1.300e+00, 3.136e+01, 8.410e+00,\n",
       "         1.296e+01, 1.690e+00],\n",
       "        [6.000e+00, 3.400e+00, 4.500e+00, 1.600e+00, 3.600e+01, 1.156e+01,\n",
       "         2.025e+01, 2.560e+00],\n",
       "        [5.700e+00, 2.900e+00, 4.200e+00, 1.300e+00, 3.249e+01, 8.410e+00,\n",
       "         1.764e+01, 1.690e+00],\n",
       "        [6.700e+00, 3.100e+00, 4.400e+00, 1.400e+00, 4.489e+01, 9.610e+00,\n",
       "         1.936e+01, 1.960e+00],\n",
       "        [6.400e+00, 2.900e+00, 4.300e+00, 1.300e+00, 4.096e+01, 8.410e+00,\n",
       "         1.849e+01, 1.690e+00],\n",
       "        [6.200e+00, 2.200e+00, 4.500e+00, 1.500e+00, 3.844e+01, 4.840e+00,\n",
       "         2.025e+01, 2.250e+00],\n",
       "        [5.900e+00, 3.200e+00, 4.800e+00, 1.800e+00, 3.481e+01, 1.024e+01,\n",
       "         2.304e+01, 3.240e+00],\n",
       "        [6.000e+00, 2.200e+00, 4.000e+00, 1.000e+00, 3.600e+01, 4.840e+00,\n",
       "         1.600e+01, 1.000e+00],\n",
       "        [5.600e+00, 3.000e+00, 4.500e+00, 1.500e+00, 3.136e+01, 9.000e+00,\n",
       "         2.025e+01, 2.250e+00],\n",
       "        [5.600e+00, 2.700e+00, 4.200e+00, 1.300e+00, 3.136e+01, 7.290e+00,\n",
       "         1.764e+01, 1.690e+00],\n",
       "        [5.100e+00, 2.500e+00, 3.000e+00, 1.100e+00, 2.601e+01, 6.250e+00,\n",
       "         9.000e+00, 1.210e+00],\n",
       "        [5.900e+00, 3.000e+00, 4.200e+00, 1.500e+00, 3.481e+01, 9.000e+00,\n",
       "         1.764e+01, 2.250e+00],\n",
       "        [5.400e+00, 3.000e+00, 4.500e+00, 1.500e+00, 2.916e+01, 9.000e+00,\n",
       "         2.025e+01, 2.250e+00],\n",
       "        [6.500e+00, 2.800e+00, 4.600e+00, 1.500e+00, 4.225e+01, 7.840e+00,\n",
       "         2.116e+01, 2.250e+00],\n",
       "        [5.000e+00, 2.300e+00, 3.300e+00, 1.000e+00, 2.500e+01, 5.290e+00,\n",
       "         1.089e+01, 1.000e+00],\n",
       "        [5.500e+00, 2.400e+00, 3.800e+00, 1.100e+00, 3.025e+01, 5.760e+00,\n",
       "         1.444e+01, 1.210e+00],\n",
       "        [6.400e+00, 3.200e+00, 4.500e+00, 1.500e+00, 4.096e+01, 1.024e+01,\n",
       "         2.025e+01, 2.250e+00],\n",
       "        [6.100e+00, 2.900e+00, 4.700e+00, 1.400e+00, 3.721e+01, 8.410e+00,\n",
       "         2.209e+01, 1.960e+00],\n",
       "        [5.800e+00, 2.700e+00, 3.900e+00, 1.200e+00, 3.364e+01, 7.290e+00,\n",
       "         1.521e+01, 1.440e+00],\n",
       "        [5.500e+00, 2.500e+00, 4.000e+00, 1.300e+00, 3.025e+01, 6.250e+00,\n",
       "         1.600e+01, 1.690e+00],\n",
       "        [5.000e+00, 2.000e+00, 3.500e+00, 1.000e+00, 2.500e+01, 4.000e+00,\n",
       "         1.225e+01, 1.000e+00],\n",
       "        [5.500e+00, 2.600e+00, 4.400e+00, 1.200e+00, 3.025e+01, 6.760e+00,\n",
       "         1.936e+01, 1.440e+00],\n",
       "        [6.300e+00, 2.500e+00, 5.000e+00, 1.900e+00, 3.969e+01, 6.250e+00,\n",
       "         2.500e+01, 3.610e+00],\n",
       "        [7.900e+00, 3.800e+00, 6.400e+00, 2.000e+00, 6.241e+01, 1.444e+01,\n",
       "         4.096e+01, 4.000e+00],\n",
       "        [7.300e+00, 2.900e+00, 6.300e+00, 1.800e+00, 5.329e+01, 8.410e+00,\n",
       "         3.969e+01, 3.240e+00],\n",
       "        [6.000e+00, 2.200e+00, 5.000e+00, 1.500e+00, 3.600e+01, 4.840e+00,\n",
       "         2.500e+01, 2.250e+00],\n",
       "        [6.700e+00, 3.300e+00, 5.700e+00, 2.100e+00, 4.489e+01, 1.089e+01,\n",
       "         3.249e+01, 4.410e+00],\n",
       "        [5.700e+00, 2.500e+00, 5.000e+00, 2.000e+00, 3.249e+01, 6.250e+00,\n",
       "         2.500e+01, 4.000e+00],\n",
       "        [6.100e+00, 2.600e+00, 5.600e+00, 1.400e+00, 3.721e+01, 6.760e+00,\n",
       "         3.136e+01, 1.960e+00],\n",
       "        [7.700e+00, 2.600e+00, 6.900e+00, 2.300e+00, 5.929e+01, 6.760e+00,\n",
       "         4.761e+01, 5.290e+00],\n",
       "        [7.200e+00, 3.600e+00, 6.100e+00, 2.500e+00, 5.184e+01, 1.296e+01,\n",
       "         3.721e+01, 6.250e+00],\n",
       "        [7.200e+00, 3.000e+00, 5.800e+00, 1.600e+00, 5.184e+01, 9.000e+00,\n",
       "         3.364e+01, 2.560e+00],\n",
       "        [7.700e+00, 2.800e+00, 6.700e+00, 2.000e+00, 5.929e+01, 7.840e+00,\n",
       "         4.489e+01, 4.000e+00],\n",
       "        [7.400e+00, 2.800e+00, 6.100e+00, 1.900e+00, 5.476e+01, 7.840e+00,\n",
       "         3.721e+01, 3.610e+00],\n",
       "        [6.900e+00, 3.100e+00, 5.400e+00, 2.100e+00, 4.761e+01, 9.610e+00,\n",
       "         2.916e+01, 4.410e+00],\n",
       "        [6.300e+00, 3.400e+00, 5.600e+00, 2.400e+00, 3.969e+01, 1.156e+01,\n",
       "         3.136e+01, 5.760e+00],\n",
       "        [6.500e+00, 3.000e+00, 5.500e+00, 1.800e+00, 4.225e+01, 9.000e+00,\n",
       "         3.025e+01, 3.240e+00],\n",
       "        [6.700e+00, 3.300e+00, 5.700e+00, 2.500e+00, 4.489e+01, 1.089e+01,\n",
       "         3.249e+01, 6.250e+00],\n",
       "        [6.200e+00, 2.800e+00, 4.800e+00, 1.800e+00, 3.844e+01, 7.840e+00,\n",
       "         2.304e+01, 3.240e+00],\n",
       "        [6.000e+00, 3.000e+00, 4.800e+00, 1.800e+00, 3.600e+01, 9.000e+00,\n",
       "         2.304e+01, 3.240e+00],\n",
       "        [6.900e+00, 3.100e+00, 5.100e+00, 2.300e+00, 4.761e+01, 9.610e+00,\n",
       "         2.601e+01, 5.290e+00],\n",
       "        [6.800e+00, 3.200e+00, 5.900e+00, 2.300e+00, 4.624e+01, 1.024e+01,\n",
       "         3.481e+01, 5.290e+00],\n",
       "        [6.700e+00, 3.100e+00, 5.600e+00, 2.400e+00, 4.489e+01, 9.610e+00,\n",
       "         3.136e+01, 5.760e+00],\n",
       "        [7.100e+00, 3.000e+00, 5.900e+00, 2.100e+00, 5.041e+01, 9.000e+00,\n",
       "         3.481e+01, 4.410e+00],\n",
       "        [5.800e+00, 2.800e+00, 5.100e+00, 2.400e+00, 3.364e+01, 7.840e+00,\n",
       "         2.601e+01, 5.760e+00],\n",
       "        [6.100e+00, 3.000e+00, 4.900e+00, 1.800e+00, 3.721e+01, 9.000e+00,\n",
       "         2.401e+01, 3.240e+00],\n",
       "        [6.200e+00, 3.400e+00, 5.400e+00, 2.300e+00, 3.844e+01, 1.156e+01,\n",
       "         2.916e+01, 5.290e+00]])]"
      ]
     },
     "execution_count": 143,
     "metadata": {},
     "output_type": "execute_result"
    }
   ],
   "source": [
    "MM1"
   ]
  },
  {
   "cell_type": "code",
   "execution_count": 144,
   "metadata": {},
   "outputs": [],
   "source": [
    "    m,l = X.shape\n",
    "    \n",
    "    M1 = []\n",
    "    M2 = []\n",
    "    M3 = []\n",
    "    MM1 = []\n",
    "    MM3 = []\n",
    "\n",
    "    Msum = np.sum(X,axis=1)\n",
    "\n",
    "    for i in range(order):\n",
    "        for k in range(l):\n",
    "            M1.append(X[:,k]**(i+1))\n",
    "            if (i>0):\n",
    "                M3.append(X[:,k]*Msum**(i)) \n",
    "        M2.append(Msum**(i+1))\n",
    "        MM1.append(M1)\n",
    "        if (i>0):\n",
    "            MM3.append(M3)"
   ]
  },
  {
   "cell_type": "code",
   "execution_count": 145,
   "metadata": {},
   "outputs": [
    {
     "data": {
      "text/plain": [
       "[[array([5.4, 5. , 5.1, 5.4, 5.1, 5.7, 5.1, 5.1, 5.8, 4.8, 5.7, 5.1, 4.9,\n",
       "         4.6, 5.4, 4.8, 4.9, 5.3, 4.7, 4.8, 4.9, 5. , 5.5, 4.5, 5.2, 5.7,\n",
       "         6.9, 5.6, 5.6, 6. , 5.7, 6.7, 6.4, 6.2, 5.9, 6. , 5.6, 5.6, 5.1,\n",
       "         5.9, 5.4, 6.5, 5. , 5.5, 6.4, 6.1, 5.8, 5.5, 5. , 5.5, 6.3, 7.9,\n",
       "         7.3, 6. , 6.7, 5.7, 6.1, 7.7, 7.2, 7.2, 7.7, 7.4, 6.9, 6.3, 6.5,\n",
       "         6.7, 6.2, 6. , 6.9, 6.8, 6.7, 7.1, 5.8, 6.1, 6.2]),\n",
       "  array([3.4, 3.6, 3.5, 3.9, 3.7, 4.4, 3.3, 3.8, 4. , 3.4, 3.8, 3.8, 3.1,\n",
       "         3.4, 3.9, 3. , 3.1, 3.7, 3.2, 3.4, 3. , 3.4, 3.5, 2.3, 3.4, 2.6,\n",
       "         3.1, 2.5, 2.9, 3.4, 2.9, 3.1, 2.9, 2.2, 3.2, 2.2, 3. , 2.7, 2.5,\n",
       "         3. , 3. , 2.8, 2.3, 2.4, 3.2, 2.9, 2.7, 2.5, 2. , 2.6, 2.5, 3.8,\n",
       "         2.9, 2.2, 3.3, 2.5, 2.6, 2.6, 3.6, 3. , 2.8, 2.8, 3.1, 3.4, 3. ,\n",
       "         3.3, 2.8, 3. , 3.1, 3.2, 3.1, 3. , 2.8, 3. , 3.4]),\n",
       "  array([1.7, 1.4, 1.4, 1.7, 1.5, 1.5, 1.7, 1.6, 1.2, 1.6, 1.7, 1.9, 1.5,\n",
       "         1.4, 1.3, 1.4, 1.5, 1.5, 1.6, 1.9, 1.4, 1.6, 1.3, 1.3, 1.4, 3.5,\n",
       "         4.9, 3.9, 3.6, 4.5, 4.2, 4.4, 4.3, 4.5, 4.8, 4. , 4.5, 4.2, 3. ,\n",
       "         4.2, 4.5, 4.6, 3.3, 3.8, 4.5, 4.7, 3.9, 4. , 3.5, 4.4, 5. , 6.4,\n",
       "         6.3, 5. , 5.7, 5. , 5.6, 6.9, 6.1, 5.8, 6.7, 6.1, 5.4, 5.6, 5.5,\n",
       "         5.7, 4.8, 4.8, 5.1, 5.9, 5.6, 5.9, 5.1, 4.9, 5.4]),\n",
       "  array([0.2, 0.2, 0.3, 0.4, 0.4, 0.4, 0.5, 0.2, 0.2, 0.2, 0.3, 0.4, 0.1,\n",
       "         0.3, 0.4, 0.1, 0.1, 0.2, 0.2, 0.2, 0.2, 0.4, 0.2, 0.3, 0.2, 1. ,\n",
       "         1.5, 1.1, 1.3, 1.6, 1.3, 1.4, 1.3, 1.5, 1.8, 1. , 1.5, 1.3, 1.1,\n",
       "         1.5, 1.5, 1.5, 1. , 1.1, 1.5, 1.4, 1.2, 1.3, 1. , 1.2, 1.9, 2. ,\n",
       "         1.8, 1.5, 2.1, 2. , 1.4, 2.3, 2.5, 1.6, 2. , 1.9, 2.1, 2.4, 1.8,\n",
       "         2.5, 1.8, 1.8, 2.3, 2.3, 2.4, 2.1, 2.4, 1.8, 2.3]),\n",
       "  array([29.16, 25.  , 26.01, 29.16, 26.01, 32.49, 26.01, 26.01, 33.64,\n",
       "         23.04, 32.49, 26.01, 24.01, 21.16, 29.16, 23.04, 24.01, 28.09,\n",
       "         22.09, 23.04, 24.01, 25.  , 30.25, 20.25, 27.04, 32.49, 47.61,\n",
       "         31.36, 31.36, 36.  , 32.49, 44.89, 40.96, 38.44, 34.81, 36.  ,\n",
       "         31.36, 31.36, 26.01, 34.81, 29.16, 42.25, 25.  , 30.25, 40.96,\n",
       "         37.21, 33.64, 30.25, 25.  , 30.25, 39.69, 62.41, 53.29, 36.  ,\n",
       "         44.89, 32.49, 37.21, 59.29, 51.84, 51.84, 59.29, 54.76, 47.61,\n",
       "         39.69, 42.25, 44.89, 38.44, 36.  , 47.61, 46.24, 44.89, 50.41,\n",
       "         33.64, 37.21, 38.44]),\n",
       "  array([11.56, 12.96, 12.25, 15.21, 13.69, 19.36, 10.89, 14.44, 16.  ,\n",
       "         11.56, 14.44, 14.44,  9.61, 11.56, 15.21,  9.  ,  9.61, 13.69,\n",
       "         10.24, 11.56,  9.  , 11.56, 12.25,  5.29, 11.56,  6.76,  9.61,\n",
       "          6.25,  8.41, 11.56,  8.41,  9.61,  8.41,  4.84, 10.24,  4.84,\n",
       "          9.  ,  7.29,  6.25,  9.  ,  9.  ,  7.84,  5.29,  5.76, 10.24,\n",
       "          8.41,  7.29,  6.25,  4.  ,  6.76,  6.25, 14.44,  8.41,  4.84,\n",
       "         10.89,  6.25,  6.76,  6.76, 12.96,  9.  ,  7.84,  7.84,  9.61,\n",
       "         11.56,  9.  , 10.89,  7.84,  9.  ,  9.61, 10.24,  9.61,  9.  ,\n",
       "          7.84,  9.  , 11.56]),\n",
       "  array([ 2.89,  1.96,  1.96,  2.89,  2.25,  2.25,  2.89,  2.56,  1.44,\n",
       "          2.56,  2.89,  3.61,  2.25,  1.96,  1.69,  1.96,  2.25,  2.25,\n",
       "          2.56,  3.61,  1.96,  2.56,  1.69,  1.69,  1.96, 12.25, 24.01,\n",
       "         15.21, 12.96, 20.25, 17.64, 19.36, 18.49, 20.25, 23.04, 16.  ,\n",
       "         20.25, 17.64,  9.  , 17.64, 20.25, 21.16, 10.89, 14.44, 20.25,\n",
       "         22.09, 15.21, 16.  , 12.25, 19.36, 25.  , 40.96, 39.69, 25.  ,\n",
       "         32.49, 25.  , 31.36, 47.61, 37.21, 33.64, 44.89, 37.21, 29.16,\n",
       "         31.36, 30.25, 32.49, 23.04, 23.04, 26.01, 34.81, 31.36, 34.81,\n",
       "         26.01, 24.01, 29.16]),\n",
       "  array([0.04, 0.04, 0.09, 0.16, 0.16, 0.16, 0.25, 0.04, 0.04, 0.04, 0.09,\n",
       "         0.16, 0.01, 0.09, 0.16, 0.01, 0.01, 0.04, 0.04, 0.04, 0.04, 0.16,\n",
       "         0.04, 0.09, 0.04, 1.  , 2.25, 1.21, 1.69, 2.56, 1.69, 1.96, 1.69,\n",
       "         2.25, 3.24, 1.  , 2.25, 1.69, 1.21, 2.25, 2.25, 2.25, 1.  , 1.21,\n",
       "         2.25, 1.96, 1.44, 1.69, 1.  , 1.44, 3.61, 4.  , 3.24, 2.25, 4.41,\n",
       "         4.  , 1.96, 5.29, 6.25, 2.56, 4.  , 3.61, 4.41, 5.76, 3.24, 6.25,\n",
       "         3.24, 3.24, 5.29, 5.29, 5.76, 4.41, 5.76, 3.24, 5.29])],\n",
       " [array([5.4, 5. , 5.1, 5.4, 5.1, 5.7, 5.1, 5.1, 5.8, 4.8, 5.7, 5.1, 4.9,\n",
       "         4.6, 5.4, 4.8, 4.9, 5.3, 4.7, 4.8, 4.9, 5. , 5.5, 4.5, 5.2, 5.7,\n",
       "         6.9, 5.6, 5.6, 6. , 5.7, 6.7, 6.4, 6.2, 5.9, 6. , 5.6, 5.6, 5.1,\n",
       "         5.9, 5.4, 6.5, 5. , 5.5, 6.4, 6.1, 5.8, 5.5, 5. , 5.5, 6.3, 7.9,\n",
       "         7.3, 6. , 6.7, 5.7, 6.1, 7.7, 7.2, 7.2, 7.7, 7.4, 6.9, 6.3, 6.5,\n",
       "         6.7, 6.2, 6. , 6.9, 6.8, 6.7, 7.1, 5.8, 6.1, 6.2]),\n",
       "  array([3.4, 3.6, 3.5, 3.9, 3.7, 4.4, 3.3, 3.8, 4. , 3.4, 3.8, 3.8, 3.1,\n",
       "         3.4, 3.9, 3. , 3.1, 3.7, 3.2, 3.4, 3. , 3.4, 3.5, 2.3, 3.4, 2.6,\n",
       "         3.1, 2.5, 2.9, 3.4, 2.9, 3.1, 2.9, 2.2, 3.2, 2.2, 3. , 2.7, 2.5,\n",
       "         3. , 3. , 2.8, 2.3, 2.4, 3.2, 2.9, 2.7, 2.5, 2. , 2.6, 2.5, 3.8,\n",
       "         2.9, 2.2, 3.3, 2.5, 2.6, 2.6, 3.6, 3. , 2.8, 2.8, 3.1, 3.4, 3. ,\n",
       "         3.3, 2.8, 3. , 3.1, 3.2, 3.1, 3. , 2.8, 3. , 3.4]),\n",
       "  array([1.7, 1.4, 1.4, 1.7, 1.5, 1.5, 1.7, 1.6, 1.2, 1.6, 1.7, 1.9, 1.5,\n",
       "         1.4, 1.3, 1.4, 1.5, 1.5, 1.6, 1.9, 1.4, 1.6, 1.3, 1.3, 1.4, 3.5,\n",
       "         4.9, 3.9, 3.6, 4.5, 4.2, 4.4, 4.3, 4.5, 4.8, 4. , 4.5, 4.2, 3. ,\n",
       "         4.2, 4.5, 4.6, 3.3, 3.8, 4.5, 4.7, 3.9, 4. , 3.5, 4.4, 5. , 6.4,\n",
       "         6.3, 5. , 5.7, 5. , 5.6, 6.9, 6.1, 5.8, 6.7, 6.1, 5.4, 5.6, 5.5,\n",
       "         5.7, 4.8, 4.8, 5.1, 5.9, 5.6, 5.9, 5.1, 4.9, 5.4]),\n",
       "  array([0.2, 0.2, 0.3, 0.4, 0.4, 0.4, 0.5, 0.2, 0.2, 0.2, 0.3, 0.4, 0.1,\n",
       "         0.3, 0.4, 0.1, 0.1, 0.2, 0.2, 0.2, 0.2, 0.4, 0.2, 0.3, 0.2, 1. ,\n",
       "         1.5, 1.1, 1.3, 1.6, 1.3, 1.4, 1.3, 1.5, 1.8, 1. , 1.5, 1.3, 1.1,\n",
       "         1.5, 1.5, 1.5, 1. , 1.1, 1.5, 1.4, 1.2, 1.3, 1. , 1.2, 1.9, 2. ,\n",
       "         1.8, 1.5, 2.1, 2. , 1.4, 2.3, 2.5, 1.6, 2. , 1.9, 2.1, 2.4, 1.8,\n",
       "         2.5, 1.8, 1.8, 2.3, 2.3, 2.4, 2.1, 2.4, 1.8, 2.3]),\n",
       "  array([29.16, 25.  , 26.01, 29.16, 26.01, 32.49, 26.01, 26.01, 33.64,\n",
       "         23.04, 32.49, 26.01, 24.01, 21.16, 29.16, 23.04, 24.01, 28.09,\n",
       "         22.09, 23.04, 24.01, 25.  , 30.25, 20.25, 27.04, 32.49, 47.61,\n",
       "         31.36, 31.36, 36.  , 32.49, 44.89, 40.96, 38.44, 34.81, 36.  ,\n",
       "         31.36, 31.36, 26.01, 34.81, 29.16, 42.25, 25.  , 30.25, 40.96,\n",
       "         37.21, 33.64, 30.25, 25.  , 30.25, 39.69, 62.41, 53.29, 36.  ,\n",
       "         44.89, 32.49, 37.21, 59.29, 51.84, 51.84, 59.29, 54.76, 47.61,\n",
       "         39.69, 42.25, 44.89, 38.44, 36.  , 47.61, 46.24, 44.89, 50.41,\n",
       "         33.64, 37.21, 38.44]),\n",
       "  array([11.56, 12.96, 12.25, 15.21, 13.69, 19.36, 10.89, 14.44, 16.  ,\n",
       "         11.56, 14.44, 14.44,  9.61, 11.56, 15.21,  9.  ,  9.61, 13.69,\n",
       "         10.24, 11.56,  9.  , 11.56, 12.25,  5.29, 11.56,  6.76,  9.61,\n",
       "          6.25,  8.41, 11.56,  8.41,  9.61,  8.41,  4.84, 10.24,  4.84,\n",
       "          9.  ,  7.29,  6.25,  9.  ,  9.  ,  7.84,  5.29,  5.76, 10.24,\n",
       "          8.41,  7.29,  6.25,  4.  ,  6.76,  6.25, 14.44,  8.41,  4.84,\n",
       "         10.89,  6.25,  6.76,  6.76, 12.96,  9.  ,  7.84,  7.84,  9.61,\n",
       "         11.56,  9.  , 10.89,  7.84,  9.  ,  9.61, 10.24,  9.61,  9.  ,\n",
       "          7.84,  9.  , 11.56]),\n",
       "  array([ 2.89,  1.96,  1.96,  2.89,  2.25,  2.25,  2.89,  2.56,  1.44,\n",
       "          2.56,  2.89,  3.61,  2.25,  1.96,  1.69,  1.96,  2.25,  2.25,\n",
       "          2.56,  3.61,  1.96,  2.56,  1.69,  1.69,  1.96, 12.25, 24.01,\n",
       "         15.21, 12.96, 20.25, 17.64, 19.36, 18.49, 20.25, 23.04, 16.  ,\n",
       "         20.25, 17.64,  9.  , 17.64, 20.25, 21.16, 10.89, 14.44, 20.25,\n",
       "         22.09, 15.21, 16.  , 12.25, 19.36, 25.  , 40.96, 39.69, 25.  ,\n",
       "         32.49, 25.  , 31.36, 47.61, 37.21, 33.64, 44.89, 37.21, 29.16,\n",
       "         31.36, 30.25, 32.49, 23.04, 23.04, 26.01, 34.81, 31.36, 34.81,\n",
       "         26.01, 24.01, 29.16]),\n",
       "  array([0.04, 0.04, 0.09, 0.16, 0.16, 0.16, 0.25, 0.04, 0.04, 0.04, 0.09,\n",
       "         0.16, 0.01, 0.09, 0.16, 0.01, 0.01, 0.04, 0.04, 0.04, 0.04, 0.16,\n",
       "         0.04, 0.09, 0.04, 1.  , 2.25, 1.21, 1.69, 2.56, 1.69, 1.96, 1.69,\n",
       "         2.25, 3.24, 1.  , 2.25, 1.69, 1.21, 2.25, 2.25, 2.25, 1.  , 1.21,\n",
       "         2.25, 1.96, 1.44, 1.69, 1.  , 1.44, 3.61, 4.  , 3.24, 2.25, 4.41,\n",
       "         4.  , 1.96, 5.29, 6.25, 2.56, 4.  , 3.61, 4.41, 5.76, 3.24, 6.25,\n",
       "         3.24, 3.24, 5.29, 5.29, 5.76, 4.41, 5.76, 3.24, 5.29])]]"
      ]
     },
     "execution_count": 145,
     "metadata": {},
     "output_type": "execute_result"
    }
   ],
   "source": [
    "MM1"
   ]
  },
  {
   "cell_type": "code",
   "execution_count": 146,
   "metadata": {},
   "outputs": [
    {
     "data": {
      "text/plain": [
       "2"
      ]
     },
     "execution_count": 146,
     "metadata": {},
     "output_type": "execute_result"
    }
   ],
   "source": [
    "len(MM1)"
   ]
  },
  {
   "cell_type": "code",
   "execution_count": 149,
   "metadata": {},
   "outputs": [
    {
     "data": {
      "text/plain": [
       "(8, 75)"
      ]
     },
     "execution_count": 149,
     "metadata": {},
     "output_type": "execute_result"
    }
   ],
   "source": [
    "np.array(MM1[0]).shape"
   ]
  },
  {
   "cell_type": "code",
   "execution_count": 150,
   "metadata": {},
   "outputs": [
    {
     "data": {
      "text/plain": [
       "2"
      ]
     },
     "execution_count": 150,
     "metadata": {},
     "output_type": "execute_result"
    }
   ],
   "source": [
    "len(M2)"
   ]
  },
  {
   "cell_type": "code",
   "execution_count": 151,
   "metadata": {},
   "outputs": [
    {
     "data": {
      "text/plain": [
       "array([10.7, 10.2, 10.3, 11.4, 10.7, 12. , 10.6, 10.7, 11.2, 10. , 11.5,\n",
       "       11.2,  9.6,  9.7, 11. ,  9.3,  9.6, 10.7,  9.7, 10.3,  9.5, 10.4,\n",
       "       10.5,  8.4, 10.2, 12.8, 16.4, 13.1, 13.4, 15.5, 14.1, 15.6, 14.9,\n",
       "       14.4, 15.7, 13.2, 14.6, 13.8, 11.7, 14.6, 14.4, 15.4, 11.6, 12.8,\n",
       "       15.6, 15.1, 13.6, 13.3, 11.5, 13.7, 15.7, 20.1, 18.3, 14.7, 17.8,\n",
       "       15.2, 15.7, 19.5, 19.4, 17.6, 19.2, 18.2, 17.5, 17.7, 16.8, 18.2,\n",
       "       15.6, 15.6, 17.4, 18.2, 17.8, 18.1, 16.1, 15.8, 17.3])"
      ]
     },
     "execution_count": 151,
     "metadata": {},
     "output_type": "execute_result"
    }
   ],
   "source": [
    "M2[0]"
   ]
  },
  {
   "cell_type": "code",
   "execution_count": 158,
   "metadata": {},
   "outputs": [
    {
     "data": {
      "text/plain": [
       "(75, 8, 2)"
      ]
     },
     "execution_count": 158,
     "metadata": {},
     "output_type": "execute_result"
    }
   ],
   "source": [
    "np.array(MM1).T.shape"
   ]
  },
  {
   "cell_type": "code",
   "execution_count": 159,
   "metadata": {},
   "outputs": [],
   "source": [
    "a = np.array(MM1).T"
   ]
  },
  {
   "cell_type": "code",
   "execution_count": 160,
   "metadata": {},
   "outputs": [],
   "source": [
    "aa = a.flatten()"
   ]
  },
  {
   "cell_type": "code",
   "execution_count": 161,
   "metadata": {},
   "outputs": [
    {
     "data": {
      "text/plain": [
       "(1200,)"
      ]
     },
     "execution_count": 161,
     "metadata": {},
     "output_type": "execute_result"
    }
   ],
   "source": [
    "aa.shape"
   ]
  },
  {
   "cell_type": "code",
   "execution_count": 166,
   "metadata": {},
   "outputs": [
    {
     "ename": "ValueError",
     "evalue": "cannot select an axis to squeeze out which has size not equal to one",
     "output_type": "error",
     "traceback": [
      "\u001b[1;31m---------------------------------------------------------------------------\u001b[0m",
      "\u001b[1;31mValueError\u001b[0m                                Traceback (most recent call last)",
      "\u001b[1;32m<ipython-input-166-8f20c42f919b>\u001b[0m in \u001b[0;36m<module>\u001b[1;34m()\u001b[0m\n\u001b[1;32m----> 1\u001b[1;33m \u001b[0maa\u001b[0m \u001b[1;33m=\u001b[0m \u001b[0mnp\u001b[0m\u001b[1;33m.\u001b[0m\u001b[0msqueeze\u001b[0m\u001b[1;33m(\u001b[0m\u001b[0ma\u001b[0m\u001b[1;33m,\u001b[0m\u001b[0maxis\u001b[0m\u001b[1;33m=\u001b[0m\u001b[1;36m2\u001b[0m\u001b[1;33m)\u001b[0m\u001b[1;33m\u001b[0m\u001b[0m\n\u001b[0m",
      "\u001b[1;32m~\\Anaconda3\\lib\\site-packages\\numpy\\core\\fromnumeric.py\u001b[0m in \u001b[0;36msqueeze\u001b[1;34m(a, axis)\u001b[0m\n\u001b[0;32m   1243\u001b[0m     \u001b[1;32mtry\u001b[0m\u001b[1;33m:\u001b[0m\u001b[1;33m\u001b[0m\u001b[0m\n\u001b[0;32m   1244\u001b[0m         \u001b[1;31m# First try to use the new axis= parameter\u001b[0m\u001b[1;33m\u001b[0m\u001b[1;33m\u001b[0m\u001b[0m\n\u001b[1;32m-> 1245\u001b[1;33m         \u001b[1;32mreturn\u001b[0m \u001b[0msqueeze\u001b[0m\u001b[1;33m(\u001b[0m\u001b[0maxis\u001b[0m\u001b[1;33m=\u001b[0m\u001b[0maxis\u001b[0m\u001b[1;33m)\u001b[0m\u001b[1;33m\u001b[0m\u001b[0m\n\u001b[0m\u001b[0;32m   1246\u001b[0m     \u001b[1;32mexcept\u001b[0m \u001b[0mTypeError\u001b[0m\u001b[1;33m:\u001b[0m\u001b[1;33m\u001b[0m\u001b[0m\n\u001b[0;32m   1247\u001b[0m         \u001b[1;31m# For backwards compatibility\u001b[0m\u001b[1;33m\u001b[0m\u001b[1;33m\u001b[0m\u001b[0m\n",
      "\u001b[1;31mValueError\u001b[0m: cannot select an axis to squeeze out which has size not equal to one"
     ]
    }
   ],
   "source": [
    "aa = np.squeeze(a,axis=2)"
   ]
  },
  {
   "cell_type": "code",
   "execution_count": 163,
   "metadata": {},
   "outputs": [
    {
     "data": {
      "text/plain": [
       "(75, 8, 2)"
      ]
     },
     "execution_count": 163,
     "metadata": {},
     "output_type": "execute_result"
    }
   ],
   "source": [
    "a.shape"
   ]
  },
  {
   "cell_type": "code",
   "execution_count": null,
   "metadata": {},
   "outputs": [],
   "source": []
  }
 ],
 "metadata": {
  "kernelspec": {
   "display_name": "Python 3",
   "language": "python",
   "name": "python3"
  },
  "language_info": {
   "codemirror_mode": {
    "name": "ipython",
    "version": 3
   },
   "file_extension": ".py",
   "mimetype": "text/x-python",
   "name": "python",
   "nbconvert_exporter": "python",
   "pygments_lexer": "ipython3",
   "version": "3.6.4"
  }
 },
 "nbformat": 4,
 "nbformat_minor": 2
}
