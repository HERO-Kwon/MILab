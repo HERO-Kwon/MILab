{
 "cells": [
  {
   "cell_type": "code",
   "execution_count": 4,
   "metadata": {},
   "outputs": [
    {
     "data": {
      "text/plain": [
       "[<matplotlib.lines.Line2D at 0x165547a2240>]"
      ]
     },
     "execution_count": 4,
     "metadata": {},
     "output_type": "execute_result"
    },
    {
     "data": {
      "image/png": "[encoded data removed]",
      "text/plain": [
       "<matplotlib.figure.Figure at 0x1655476e128>"
      ]
     },
     "metadata": {},
     "output_type": "display_data"
    }
   ],
   "source": [
    "##########################################\n",
    "## Made by : HERO Kwon\n",
    "## Title : TER\n",
    "## Version : v0\n",
    "## Date : 2018.05.29.\n",
    "## Description : TER-RM Algorithm\n",
    "##########################################\n",
    "\n",
    "\n",
    "# Main\n",
    "\n",
    "# packages\n",
    "\n",
    "import numpy as np\n",
    "import pandas as pd\n",
    "import scipy as sp\n",
    "import os\n",
    "import re\n",
    "import imageio\n",
    "from matplotlib import pyplot as plt\n",
    "from sklearn.model_selection import train_test_split\n",
    "import random\n",
    "from sklearn.metrics import confusion_matrix\n",
    "import time\n",
    "\n",
    "from sklearn.datasets import load_iris\n",
    " \n",
    "data = load_iris()\n",
    "data_v = data['data']\n",
    "data_l = data['target']\n",
    "\n",
    "data_train = np.array([]).reshape(0,4)\n",
    "data_test = np.array([]).reshape(0,4)\n",
    "label_train = np.array([])\n",
    "label_test = np.array([])\n",
    "\n",
    "for target in list(set(data['target'])):\n",
    "    v_train, v_test = train_test_split(data_v[data_l==target],test_size = 0.5)\n",
    "    l_train = np.full(shape=len(v_train),fill_value=target)\n",
    "    l_test = np.full(shape=len(v_test),fill_value=target)\n",
    "    data_train = np.concatenate((data_train,v_train))\n",
    "    data_test = np.concatenate((data_test,v_test))\n",
    "    label_train = np.concatenate((label_train,l_train))\n",
    "    label_test = np.concatenate((label_test,l_test))\n",
    "\n",
    "## TER Algorithm\n",
    "# Basis : RM2\n",
    "def RMmodel(order,X):\n",
    "    m,l = X.shape\n",
    "    \n",
    "    M1 = []\n",
    "    M2 = []\n",
    "    M3 = []\n",
    "    MM1 = []\n",
    "    MM3 = []\n",
    "\n",
    "    Msum = np.sum(X,axis=1)\n",
    "\n",
    "    for i in range(order):\n",
    "        for k in range(l):\n",
    "            M1.append(X[:,k]**(i+1))\n",
    "            if (i>0):\n",
    "                M3.append(X[:,k]*Msum**(i)) \n",
    "        M2.append(Msum**(i+1))\n",
    "        MM1.append(M1)\n",
    "        if (i>0):\n",
    "            MM3.append(M3)\n",
    "\n",
    "    MM1 = np.array(MM1).T\n",
    "    MM1 = MM1.reshape((m,-1,1)).squeeze(axis=2)\n",
    "    M2 = np.array(M2).T\n",
    "    if (len(MM3)):\n",
    "        MM3 = np.array(MM3).T\n",
    "        MM3 = MM3.reshape((m,-1,1)).squeeze(axis=2)\n",
    "        P = np.concatenate((np.ones((m,1)),MM1,M2,MM3),axis=1)\n",
    "    else : P = np.concatenate((np.ones((m,1)),MM1,M2),axis=1)\n",
    "\n",
    "    return(P)\n",
    "\n",
    "def TERmodel(rank,r,n,X,Y):\n",
    "    alpha = []\n",
    "    for k in list(set(Y)):\n",
    "\n",
    "        P_n = RMmodel(rank,X[Y!=k])\n",
    "        P_p = RMmodel(rank,X[Y==k])\n",
    "\n",
    "        mk_n = X[Y!=k].shape[0]\n",
    "        mk_p = X[Y==k].shape[0]\n",
    "\n",
    "        yk_n = (r-n) * np.ones(shape=Y[Y!=k].shape)\n",
    "        yk_p = (r+n) * np.ones(shape=Y[Y==k].shape)\n",
    "\n",
    "        I = np.eye(P_n.shape[1])\n",
    "        b = 10**(-4)\n",
    "\n",
    "        first_eq = np.linalg.pinv(b*I + (1/mk_n)*(P_n.T).dot(P_n) + (1/mk_p)*(P_p.T).dot(P_p))\n",
    "        second_eq = (1/mk_n)*(P_n.T).dot(yk_n) + (1/mk_p)*(P_p.T).dot(yk_p)\n",
    "        ak = np.dot(first_eq,second_eq)\n",
    "\n",
    "        alpha.append(ak)\n",
    "    return(np.array(alpha).T)\n",
    "\n",
    "alpha = TERmodel(6,0.5,0.5,data_train,label_train)\n",
    "\n",
    "P_t = RMmodel(6,data_test)\n",
    "yt = P_t.dot(alpha)\n",
    "yt1 = np.argmax(yt,axis=1)\n",
    "plt.plot(yt1)"
   ]
  },
  {
   "cell_type": "code",
   "execution_count": 2,
   "metadata": {},
   "outputs": [],
   "source": [
    "plt.show()"
   ]
  },
  {
   "cell_type": "code",
   "execution_count": 3,
   "metadata": {},
   "outputs": [],
   "source": [
    "%matplotlib inline"
   ]
  },
  {
   "cell_type": "code",
   "execution_count": 6,
   "metadata": {},
   "outputs": [
    {
     "data": {
      "text/plain": [
       "array([0., 0., 0., 0., 0., 0., 0., 0., 0., 0., 0., 0., 0., 0., 0., 0., 0.,\n",
       "       0., 0., 0., 0., 0., 0., 0., 0., 1., 1., 1., 1., 1., 1., 1., 1., 1.,\n",
       "       1., 1., 1., 1., 1., 1., 1., 1., 1., 1., 1., 1., 1., 1., 1., 1., 2.,\n",
       "       2., 2., 2., 2., 2., 2., 2., 2., 2., 2., 2., 2., 2., 2., 2., 2., 2.,\n",
       "       2., 2., 2., 2., 2., 2., 2.])"
      ]
     },
     "execution_count": 6,
     "metadata": {},
     "output_type": "execute_result"
    }
   ],
   "source": [
    "label_test"
   ]
  },
  {
   "cell_type": "code",
   "execution_count": 7,
   "metadata": {},
   "outputs": [
    {
     "data": {
      "text/plain": [
       "array([0, 0, 0, 0, 2, 0, 0, 0, 0, 0, 0, 0, 0, 0, 0, 0, 0, 0, 0, 0, 0, 0,\n",
       "       0, 0, 0, 1, 1, 1, 1, 1, 1, 1, 1, 1, 1, 2, 1, 1, 1, 1, 1, 1, 1, 1,\n",
       "       1, 1, 1, 1, 1, 1, 2, 2, 2, 2, 2, 2, 2, 2, 2, 2, 2, 2, 2, 2, 2, 2,\n",
       "       2, 2, 2, 2, 2, 2, 2, 2, 2], dtype=int64)"
      ]
     },
     "execution_count": 7,
     "metadata": {},
     "output_type": "execute_result"
    }
   ],
   "source": [
    "yt1"
   ]
  },
  {
   "cell_type": "code",
   "execution_count": 13,
   "metadata": {},
   "outputs": [
    {
     "data": {
      "text/plain": [
       "array([ True,  True,  True,  True, False,  True,  True,  True,  True,\n",
       "        True,  True,  True,  True,  True,  True,  True,  True,  True,\n",
       "        True,  True,  True,  True,  True,  True,  True,  True,  True,\n",
       "        True,  True,  True,  True,  True,  True,  True,  True, False,\n",
       "        True,  True,  True,  True,  True,  True,  True,  True,  True,\n",
       "        True,  True,  True,  True,  True,  True,  True,  True,  True,\n",
       "        True,  True,  True,  True,  True,  True,  True,  True,  True,\n",
       "        True,  True,  True,  True,  True,  True,  True,  True,  True,\n",
       "        True,  True,  True])"
      ]
     },
     "execution_count": 13,
     "metadata": {},
     "output_type": "execute_result"
    }
   ],
   "source": [
    "np.equal(label_test,yt1)"
   ]
  },
  {
   "cell_type": "code",
   "execution_count": 14,
   "metadata": {},
   "outputs": [],
   "source": [
    "a = np.equal(label_test,yt1)"
   ]
  },
  {
   "cell_type": "code",
   "execution_count": 15,
   "metadata": {},
   "outputs": [
    {
     "data": {
      "text/plain": [
       "73"
      ]
     },
     "execution_count": 15,
     "metadata": {},
     "output_type": "execute_result"
    }
   ],
   "source": [
    "np.count_nonzero(a)"
   ]
  },
  {
   "cell_type": "code",
   "execution_count": 16,
   "metadata": {},
   "outputs": [
    {
     "data": {
      "text/plain": [
       "75"
      ]
     },
     "execution_count": 16,
     "metadata": {},
     "output_type": "execute_result"
    }
   ],
   "source": [
    "len(a)"
   ]
  },
  {
   "cell_type": "code",
   "execution_count": 17,
   "metadata": {},
   "outputs": [
    {
     "data": {
      "text/plain": [
       "0.9733333333333334"
      ]
     },
     "execution_count": 17,
     "metadata": {},
     "output_type": "execute_result"
    }
   ],
   "source": [
    "np.count_nonzero(a) / len(a)"
   ]
  },
  {
   "cell_type": "code",
   "execution_count": 18,
   "metadata": {},
   "outputs": [],
   "source": [
    "X,Y = data_train,label_train"
   ]
  },
  {
   "cell_type": "code",
   "execution_count": 21,
   "metadata": {},
   "outputs": [],
   "source": [
    "P = RMmodel(6,X)"
   ]
  },
  {
   "cell_type": "code",
   "execution_count": 30,
   "metadata": {},
   "outputs": [],
   "source": [
    "mk_n = X[Y!=0].shape[0]"
   ]
  },
  {
   "cell_type": "code",
   "execution_count": 25,
   "metadata": {},
   "outputs": [],
   "source": [
    "mk_p = X[Y==0].shape[0]"
   ]
  },
  {
   "cell_type": "code",
   "execution_count": 26,
   "metadata": {},
   "outputs": [],
   "source": [
    "mk_n = X[Y!=0]"
   ]
  },
  {
   "cell_type": "code",
   "execution_count": 29,
   "metadata": {},
   "outputs": [
    {
     "data": {
      "text/plain": [
       "50"
      ]
     },
     "execution_count": 29,
     "metadata": {},
     "output_type": "execute_result"
    }
   ],
   "source": [
    "mk_n.shape[0]"
   ]
  },
  {
   "cell_type": "code",
   "execution_count": 31,
   "metadata": {},
   "outputs": [],
   "source": [
    "w_n = 1/mk_n"
   ]
  },
  {
   "cell_type": "code",
   "execution_count": 32,
   "metadata": {},
   "outputs": [
    {
     "data": {
      "text/plain": [
       "0.02"
      ]
     },
     "execution_count": 32,
     "metadata": {},
     "output_type": "execute_result"
    }
   ],
   "source": [
    "w_n"
   ]
  },
  {
   "cell_type": "code",
   "execution_count": 33,
   "metadata": {},
   "outputs": [],
   "source": [
    "w_n = 1/mk_n\n",
    "w_p = 1/mk_p"
   ]
  },
  {
   "cell_type": "code",
   "execution_count": 42,
   "metadata": {},
   "outputs": [
    {
     "data": {
      "text/plain": [
       "array([[50,  0],\n",
       "       [ 0, 50]])"
      ]
     },
     "execution_count": 42,
     "metadata": {},
     "output_type": "execute_result"
    }
   ],
   "source": [
    "np.diag((mk_n,mk_n))"
   ]
  },
  {
   "cell_type": "code",
   "execution_count": 47,
   "metadata": {},
   "outputs": [
    {
     "ename": "NameError",
     "evalue": "name 'ones' is not defined",
     "output_type": "error",
     "traceback": [
      "\u001b[1;31m---------------------------------------------------------------------------\u001b[0m",
      "\u001b[1;31mNameError\u001b[0m                                 Traceback (most recent call last)",
      "\u001b[1;32m<ipython-input-47-369269a439b8>\u001b[0m in \u001b[0;36m<module>\u001b[1;34m()\u001b[0m\n\u001b[1;32m----> 1\u001b[1;33m \u001b[0mnp\u001b[0m\u001b[1;33m.\u001b[0m\u001b[0mfill_diagonal\u001b[0m\u001b[1;33m(\u001b[0m\u001b[0mones\u001b[0m\u001b[1;33m,\u001b[0m\u001b[1;36m5\u001b[0m\u001b[1;33m)\u001b[0m\u001b[1;33m\u001b[0m\u001b[0m\n\u001b[0m",
      "\u001b[1;31mNameError\u001b[0m: name 'ones' is not defined"
     ]
    }
   ],
   "source": [
    "np.fill_diagonal(ones,5)"
   ]
  },
  {
   "cell_type": "code",
   "execution_count": 45,
   "metadata": {},
   "outputs": [
    {
     "data": {
      "text/plain": [
       "50"
      ]
     },
     "execution_count": 45,
     "metadata": {},
     "output_type": "execute_result"
    }
   ],
   "source": [
    "mk_n"
   ]
  },
  {
   "cell_type": "code",
   "execution_count": 53,
   "metadata": {},
   "outputs": [],
   "source": [
    "a = np.zeros((len(Y), len(Y)), float)"
   ]
  },
  {
   "cell_type": "code",
   "execution_count": 57,
   "metadata": {},
   "outputs": [],
   "source": [
    "np.fill_diagonal(a,np.ones(len(Y)))"
   ]
  },
  {
   "cell_type": "code",
   "execution_count": 58,
   "metadata": {},
   "outputs": [
    {
     "data": {
      "text/plain": [
       "array([[1., 0., 0., ..., 0., 0., 0.],\n",
       "       [0., 1., 0., ..., 0., 0., 0.],\n",
       "       [0., 0., 1., ..., 0., 0., 0.],\n",
       "       ...,\n",
       "       [0., 0., 0., ..., 1., 0., 0.],\n",
       "       [0., 0., 0., ..., 0., 1., 0.],\n",
       "       [0., 0., 0., ..., 0., 0., 1.]])"
      ]
     },
     "execution_count": 58,
     "metadata": {},
     "output_type": "execute_result"
    }
   ],
   "source": [
    "a"
   ]
  },
  {
   "cell_type": "code",
   "execution_count": 55,
   "metadata": {},
   "outputs": [
    {
     "data": {
      "text/plain": [
       "75"
      ]
     },
     "execution_count": 55,
     "metadata": {},
     "output_type": "execute_result"
    }
   ],
   "source": [
    "len(Y)"
   ]
  },
  {
   "cell_type": "code",
   "execution_count": 60,
   "metadata": {},
   "outputs": [
    {
     "data": {
      "text/plain": [
       "array([0.02, 0.02, 0.02, 0.02, 0.02, 0.02, 0.02, 0.02, 0.02, 0.02, 0.02,\n",
       "       0.02, 0.02, 0.02, 0.02, 0.02, 0.02, 0.02, 0.02, 0.02, 0.02, 0.02,\n",
       "       0.02, 0.02, 0.02, 0.02, 0.02, 0.02, 0.02, 0.02, 0.02, 0.02, 0.02,\n",
       "       0.02, 0.02, 0.02, 0.02, 0.02, 0.02, 0.02, 0.02, 0.02, 0.02, 0.02,\n",
       "       0.02, 0.02, 0.02, 0.02, 0.02, 0.02])"
      ]
     },
     "execution_count": 60,
     "metadata": {},
     "output_type": "execute_result"
    }
   ],
   "source": [
    "np.ones(mk_n)*(1/mk_n)"
   ]
  },
  {
   "cell_type": "code",
   "execution_count": 61,
   "metadata": {},
   "outputs": [
    {
     "data": {
      "text/plain": [
       "array([0.04, 0.04, 0.04, 0.04, 0.04, 0.04, 0.04, 0.04, 0.04, 0.04, 0.04,\n",
       "       0.04, 0.04, 0.04, 0.04, 0.04, 0.04, 0.04, 0.04, 0.04, 0.04, 0.04,\n",
       "       0.04, 0.04, 0.04])"
      ]
     },
     "execution_count": 61,
     "metadata": {},
     "output_type": "execute_result"
    }
   ],
   "source": [
    "np.ones(mk_p)*(1/mk_p)"
   ]
  },
  {
   "cell_type": "code",
   "execution_count": 64,
   "metadata": {},
   "outputs": [
    {
     "data": {
      "text/plain": [
       "array([0.02, 0.02, 0.02, 0.02, 0.02, 0.02, 0.02, 0.02, 0.02, 0.02, 0.02,\n",
       "       0.02, 0.02, 0.02, 0.02, 0.02, 0.02, 0.02, 0.02, 0.02, 0.02, 0.02,\n",
       "       0.02, 0.02, 0.02, 0.02, 0.02, 0.02, 0.02, 0.02, 0.02, 0.02, 0.02,\n",
       "       0.02, 0.02, 0.02, 0.02, 0.02, 0.02, 0.02, 0.02, 0.02, 0.02, 0.02,\n",
       "       0.02, 0.02, 0.02, 0.02, 0.02, 0.02, 0.04, 0.04, 0.04, 0.04, 0.04,\n",
       "       0.04, 0.04, 0.04, 0.04, 0.04, 0.04, 0.04, 0.04, 0.04, 0.04, 0.04,\n",
       "       0.04, 0.04, 0.04, 0.04, 0.04, 0.04, 0.04, 0.04, 0.04])"
      ]
     },
     "execution_count": 64,
     "metadata": {},
     "output_type": "execute_result"
    }
   ],
   "source": [
    "np.concatenate((np.ones(mk_n)*(1/mk_n),np.ones(mk_p)*(1/mk_p)))"
   ]
  },
  {
   "cell_type": "code",
   "execution_count": 65,
   "metadata": {},
   "outputs": [],
   "source": [
    "\n",
    "ones_mkn = np.ones(mk_n)*w_n\n",
    "ones_mkp = np.ones(mk_p)*w_p\n",
    "#np.concatenate((ones_mkn,ones_mkp))\n",
    "\n",
    "W = np.zeros((len(Y), len(Y)), float)\n",
    "np.fill_diagonal(W,np.concatenate((ones_mkn,ones_mkp)))"
   ]
  },
  {
   "cell_type": "code",
   "execution_count": 66,
   "metadata": {},
   "outputs": [
    {
     "data": {
      "text/plain": [
       "array([[0.02, 0.  , 0.  , ..., 0.  , 0.  , 0.  ],\n",
       "       [0.  , 0.02, 0.  , ..., 0.  , 0.  , 0.  ],\n",
       "       [0.  , 0.  , 0.02, ..., 0.  , 0.  , 0.  ],\n",
       "       ...,\n",
       "       [0.  , 0.  , 0.  , ..., 0.04, 0.  , 0.  ],\n",
       "       [0.  , 0.  , 0.  , ..., 0.  , 0.04, 0.  ],\n",
       "       [0.  , 0.  , 0.  , ..., 0.  , 0.  , 0.04]])"
      ]
     },
     "execution_count": 66,
     "metadata": {},
     "output_type": "execute_result"
    }
   ],
   "source": [
    "W"
   ]
  },
  {
   "cell_type": "code",
   "execution_count": 72,
   "metadata": {},
   "outputs": [],
   "source": [
    "yk = np.concatenate(((r-n)*ones_mkn,(r+n)*ones_mkp)).T"
   ]
  },
  {
   "cell_type": "code",
   "execution_count": 68,
   "metadata": {},
   "outputs": [],
   "source": [
    "r,n = 0.1,0.2"
   ]
  },
  {
   "cell_type": "code",
   "execution_count": 74,
   "metadata": {},
   "outputs": [],
   "source": [
    "ak = (P.T).dot(W).dot(P)"
   ]
  },
  {
   "cell_type": "code",
   "execution_count": 75,
   "metadata": {},
   "outputs": [],
   "source": [
    "ak = (P.T).dot(W).dot(P).T.dot(P.T).dot(W).dot(yk)"
   ]
  },
  {
   "cell_type": "code",
   "execution_count": 76,
   "metadata": {},
   "outputs": [
    {
     "data": {
      "text/plain": [
       "array([2.31994249e+13, 1.54421980e+14, 1.54421980e+14, 1.54421980e+14,\n",
       "       1.54421980e+14, 1.54421980e+14, 1.54421980e+14, 6.96261831e+13,\n",
       "       6.96261831e+13, 6.96261831e+13, 6.96261831e+13, 6.96261831e+13,\n",
       "       6.96261831e+13, 1.27417913e+14, 1.27417913e+14, 1.27417913e+14,\n",
       "       1.27417913e+14, 1.27417913e+14, 1.27417913e+14, 4.47305322e+13,\n",
       "       4.47305322e+13, 4.47305322e+13, 4.47305322e+13, 4.47305322e+13,\n",
       "       4.47305322e+13, 1.03802231e+15, 1.03802231e+15, 1.03802231e+15,\n",
       "       1.03802231e+15, 1.03802231e+15, 1.03802231e+15, 2.11460569e+14,\n",
       "       2.11460569e+14, 2.11460569e+14, 2.11460569e+14, 2.11460569e+14,\n",
       "       2.11460569e+14, 7.19067231e+14, 7.19067231e+14, 7.19067231e+14,\n",
       "       7.19067231e+14, 7.19067231e+14, 7.19067231e+14, 9.02594339e+13,\n",
       "       9.02594339e+13, 9.02594339e+13, 9.02594339e+13, 9.02594339e+13,\n",
       "       9.02594339e+13, 7.04216986e+15, 7.04216986e+15, 7.04216986e+15,\n",
       "       7.04216986e+15, 7.04216986e+15, 7.04216986e+15, 6.49485120e+14,\n",
       "       6.49485120e+14, 6.49485120e+14, 6.49485120e+14, 6.49485120e+14,\n",
       "       6.49485120e+14, 4.13634224e+15, 4.13634224e+15, 4.13634224e+15,\n",
       "       4.13634224e+15, 4.13634224e+15, 4.13634224e+15, 1.87463226e+14,\n",
       "       1.87463226e+14, 1.87463226e+14, 1.87463226e+14, 1.87463226e+14,\n",
       "       1.87463226e+14, 4.81899959e+16, 4.81899959e+16, 4.81899959e+16,\n",
       "       4.81899959e+16, 4.81899959e+16, 4.81899959e+16, 2.01615884e+15,\n",
       "       2.01615884e+15, 2.01615884e+15, 2.01615884e+15, 2.01615884e+15,\n",
       "       2.01615884e+15, 2.41800565e+16, 2.41800565e+16, 2.41800565e+16,\n",
       "       2.41800565e+16, 2.41800565e+16, 2.41800565e+16, 3.98346993e+14,\n",
       "       3.98346993e+14, 3.98346993e+14, 3.98346993e+14, 3.98346993e+14,\n",
       "       3.98346993e+14, 3.32443336e+17, 3.32443336e+17, 3.32443336e+17,\n",
       "       3.32443336e+17, 3.32443336e+17, 3.32443336e+17, 6.32186172e+15,\n",
       "       6.32186172e+15, 6.32186172e+15, 6.32186172e+15, 6.32186172e+15,\n",
       "       6.32186172e+15, 1.43411424e+17, 1.43411424e+17, 1.43411424e+17,\n",
       "       1.43411424e+17, 1.43411424e+17, 1.43411424e+17, 8.62564652e+14,\n",
       "       8.62564652e+14, 8.62564652e+14, 8.62564652e+14, 8.62564652e+14,\n",
       "       8.62564652e+14, 2.31078510e+18, 2.31078510e+18, 2.31078510e+18,\n",
       "       2.31078510e+18, 2.31078510e+18, 2.31078510e+18, 2.00123649e+16,\n",
       "       2.00123649e+16, 2.00123649e+16, 2.00123649e+16, 2.00123649e+16,\n",
       "       2.00123649e+16, 8.61921644e+17, 8.61921644e+17, 8.61921644e+17,\n",
       "       8.61921644e+17, 8.61921644e+17, 8.61921644e+17, 1.89740150e+15,\n",
       "       1.89740150e+15, 1.89740150e+15, 1.89740150e+15, 1.89740150e+15,\n",
       "       1.89740150e+15, 3.96196608e+14, 6.85089932e+15, 1.19736803e+17,\n",
       "       2.11237361e+18, 3.75765728e+19, 6.73425325e+20, 2.66369762e+15,\n",
       "       2.66369762e+15, 2.66369762e+15, 2.66369762e+15, 2.66369762e+15,\n",
       "       1.19366849e+15, 1.19366849e+15, 1.19366849e+15, 1.19366849e+15,\n",
       "       1.19366849e+15, 2.21408025e+15, 2.21408025e+15, 2.21408025e+15,\n",
       "       2.21408025e+15, 2.21408025e+15, 7.79452963e+14, 7.79452963e+14,\n",
       "       7.79452963e+14, 7.79452963e+14, 7.79452963e+14, 4.64712042e+16,\n",
       "       4.64712042e+16, 4.64712042e+16, 4.64712042e+16, 4.64712042e+16,\n",
       "       2.07159740e+16, 2.07159740e+16, 2.07159740e+16, 2.07159740e+16,\n",
       "       2.07159740e+16, 3.88460822e+16, 3.88460822e+16, 3.88460822e+16,\n",
       "       3.88460822e+16, 3.88460822e+16, 1.37035424e+16, 1.37035424e+16,\n",
       "       1.37035424e+16, 1.37035424e+16, 1.37035424e+16, 8.18734664e+17,\n",
       "       8.18734664e+17, 8.18734664e+17, 8.18734664e+17, 8.18734664e+17,\n",
       "       3.63263421e+17, 3.63263421e+17, 3.63263421e+17, 3.63263421e+17,\n",
       "       3.63263421e+17, 6.87495250e+17, 6.87495250e+17, 6.87495250e+17,\n",
       "       6.87495250e+17, 6.87495250e+17, 2.42880275e+17, 2.42880275e+17,\n",
       "       2.42880275e+17, 2.42880275e+17, 2.42880275e+17, 1.45495030e+19,\n",
       "       1.45495030e+19, 1.45495030e+19, 1.45495030e+19, 1.45495030e+19,\n",
       "       6.42726338e+18, 6.42726338e+18, 6.42726338e+18, 6.42726338e+18,\n",
       "       6.42726338e+18, 1.22630638e+19, 1.22630638e+19, 1.22630638e+19,\n",
       "       1.22630638e+19, 1.22630638e+19, 4.33674264e+18, 4.33674264e+18,\n",
       "       4.33674264e+18, 4.33674264e+18, 4.33674264e+18, 2.60546087e+20,\n",
       "       2.60546087e+20, 2.60546087e+20, 2.60546087e+20, 2.60546087e+20,\n",
       "       1.14617672e+20, 1.14617672e+20, 1.14617672e+20, 1.14617672e+20,\n",
       "       1.14617672e+20, 2.20301613e+20, 2.20301613e+20, 2.20301613e+20,\n",
       "       2.20301613e+20, 2.20301613e+20, 7.79599520e+19, 7.79599520e+19,\n",
       "       7.79599520e+19, 7.79599520e+19, 7.79599520e+19])"
      ]
     },
     "execution_count": 76,
     "metadata": {},
     "output_type": "execute_result"
    }
   ],
   "source": [
    "ak"
   ]
  },
  {
   "cell_type": "code",
   "execution_count": 77,
   "metadata": {},
   "outputs": [
    {
     "data": {
      "text/plain": [
       "(251,)"
      ]
     },
     "execution_count": 77,
     "metadata": {},
     "output_type": "execute_result"
    }
   ],
   "source": [
    "ak.shape"
   ]
  },
  {
   "cell_type": "code",
   "execution_count": 78,
   "metadata": {},
   "outputs": [
    {
     "data": {
      "text/plain": [
       "(75,)"
      ]
     },
     "execution_count": 78,
     "metadata": {},
     "output_type": "execute_result"
    }
   ],
   "source": [
    "yk.shape"
   ]
  },
  {
   "cell_type": "code",
   "execution_count": 79,
   "metadata": {},
   "outputs": [
    {
     "data": {
      "text/plain": [
       "(75, 251)"
      ]
     },
     "execution_count": 79,
     "metadata": {},
     "output_type": "execute_result"
    }
   ],
   "source": [
    "P.shape"
   ]
  },
  {
   "cell_type": "code",
   "execution_count": 80,
   "metadata": {},
   "outputs": [],
   "source": [
    "P_t = RMmodel(6,data_test)"
   ]
  },
  {
   "cell_type": "code",
   "execution_count": 81,
   "metadata": {},
   "outputs": [
    {
     "data": {
      "text/plain": [
       "(75, 251)"
      ]
     },
     "execution_count": 81,
     "metadata": {},
     "output_type": "execute_result"
    }
   ],
   "source": [
    "P_t.shape"
   ]
  },
  {
   "cell_type": "code",
   "execution_count": 82,
   "metadata": {},
   "outputs": [],
   "source": [
    "yt = P_t.dot(ak)"
   ]
  },
  {
   "cell_type": "code",
   "execution_count": 87,
   "metadata": {},
   "outputs": [
    {
     "data": {
      "text/plain": [
       "array([8.40454781e+26, 2.38695342e+27, 1.90292294e+27, 2.50939860e+27,\n",
       "       4.95950534e+27, 2.95701526e+27, 2.01766528e+27, 3.48170199e+27,\n",
       "       3.67187226e+27, 1.89479495e+27, 8.43423929e+26, 1.41684881e+27,\n",
       "       1.51595291e+27, 1.16491385e+27, 3.32863235e+27, 2.51943293e+27,\n",
       "       2.14261215e+27, 1.16881485e+27, 1.25492699e+27, 2.55784609e+27,\n",
       "       1.59660296e+27, 2.68228228e+27, 1.90878886e+27, 1.79623561e+27,\n",
       "       3.29689872e+27, 3.30853168e+28, 2.71342247e+28, 1.07574683e+28,\n",
       "       1.71449276e+28, 7.51492988e+27, 2.10586814e+28, 1.79360985e+28,\n",
       "       2.00933469e+28, 2.26734441e+28, 8.60858366e+27, 2.49684271e+28,\n",
       "       1.84693746e+28, 1.44823297e+28, 3.97167956e+27, 4.15120757e+27,\n",
       "       1.32700989e+28, 1.32803552e+28, 2.43109386e+28, 1.07821568e+28,\n",
       "       4.13578337e+27, 2.00517053e+28, 1.12407003e+28, 3.29306261e+28,\n",
       "       2.27812606e+28, 9.74175186e+27, 4.81108440e+28, 2.42714790e+28,\n",
       "       1.21109806e+29, 6.03510119e+28, 4.32778385e+28, 2.60929179e+28,\n",
       "       4.04811597e+28, 1.11316869e+29, 4.66795134e+28, 5.07639602e+28,\n",
       "       3.53103064e+28, 5.30524534e+28, 3.79476485e+28, 8.56384676e+28,\n",
       "       3.91582018e+28, 2.32556890e+28, 4.63994818e+28, 5.82091208e+28,\n",
       "       8.21663190e+28, 4.43402235e+28, 5.93873762e+28, 2.53317418e+28,\n",
       "       2.88274821e+28, 6.20188506e+28, 2.52986964e+28])"
      ]
     },
     "execution_count": 87,
     "metadata": {},
     "output_type": "execute_result"
    }
   ],
   "source": [
    "yt"
   ]
  },
  {
   "cell_type": "code",
   "execution_count": 102,
   "metadata": {},
   "outputs": [],
   "source": [
    "def TERmodel_new(rank,r,n,X,Y):\n",
    "    \n",
    "    alpha = []\n",
    "    for k in list(set(Y)):\n",
    "        P = RMmodel(rank,X)\n",
    "        mk_n = X[Y!=k].shape[0]\n",
    "        mk_p = X[Y==k].shape[0]\n",
    "\n",
    "        w_n = 1/mk_n\n",
    "        w_p = 1/mk_p\n",
    "\n",
    "        ones_mkn = np.ones(mk_n)*w_n\n",
    "        ones_mkp = np.ones(mk_p)*w_p\n",
    "\n",
    "        W = np.zeros((len(Y), len(Y)), float)\n",
    "        np.fill_diagonal(W,np.concatenate((ones_mkn,ones_mkp)))\n",
    "        yk = np.concatenate(((r-n)*ones_mkn,(r+n)*ones_mkp)).T\n",
    "        ak = ((P.T).dot(W).dot(P)).T.dot(P.T).dot(W).dot(yk)\n",
    "\n",
    "        alpha.append(ak)\n",
    "    return(np.array(alpha).T)"
   ]
  },
  {
   "cell_type": "code",
   "execution_count": 103,
   "metadata": {},
   "outputs": [],
   "source": [
    "alpha = TERmodel_new(6,0.5,0.5,data_train,label_train)"
   ]
  },
  {
   "cell_type": "code",
   "execution_count": 105,
   "metadata": {},
   "outputs": [],
   "source": [
    "P_t = RMmodel(6,data_test)\n",
    "yt = P_t.dot(alpha)\n",
    "yt1 = np.argmax(yt,axis=1)"
   ]
  },
  {
   "cell_type": "code",
   "execution_count": 107,
   "metadata": {},
   "outputs": [
    {
     "data": {
      "text/plain": [
       "array([0, 0, 0, 0, 0, 0, 0, 0, 0, 0, 0, 0, 0, 0, 0, 0, 0, 0, 0, 0, 0, 0,\n",
       "       0, 0, 0, 0, 0, 0, 0, 0, 0, 0, 0, 0, 0, 0, 0, 0, 0, 0, 0, 0, 0, 0,\n",
       "       0, 0, 0, 0, 0, 0, 0, 0, 0, 0, 0, 0, 0, 0, 0, 0, 0, 0, 0, 0, 0, 0,\n",
       "       0, 0, 0, 0, 0, 0, 0, 0, 0], dtype=int64)"
      ]
     },
     "execution_count": 107,
     "metadata": {},
     "output_type": "execute_result"
    }
   ],
   "source": [
    "yt1"
   ]
  },
  {
   "cell_type": "code",
   "execution_count": 99,
   "metadata": {},
   "outputs": [
    {
     "data": {
      "text/plain": [
       "(75, 3)"
      ]
     },
     "execution_count": 99,
     "metadata": {},
     "output_type": "execute_result"
    }
   ],
   "source": [
    "yt.shape"
   ]
  },
  {
   "cell_type": "code",
   "execution_count": 100,
   "metadata": {},
   "outputs": [
    {
     "data": {
      "text/plain": [
       "array([2.89828925e+27, 2.89828925e+27, 2.89828925e+27])"
      ]
     },
     "execution_count": 100,
     "metadata": {},
     "output_type": "execute_result"
    }
   ],
   "source": [
    "yt[0]"
   ]
  },
  {
   "cell_type": "code",
   "execution_count": 108,
   "metadata": {},
   "outputs": [],
   "source": [
    "\n",
    "def TERmodel_new(rank,r,n,X,Y):\n",
    "    alpha = []\n",
    "    for k in list(set(Y)):\n",
    "        P = RMmodel(rank,X)\n",
    "        mk_n = X[Y!=k].shape[0]\n",
    "        mk_p = X[Y==k].shape[0]\n",
    "\n",
    "        w_n = 1/mk_n\n",
    "        w_p = 1/mk_p\n",
    "\n",
    "        ones_mkn = np.ones(mk_n)*w_n\n",
    "        ones_mkp = np.ones(mk_p)*w_p\n",
    "\n",
    "        W = np.zeros((len(Y), len(Y)), float)\n",
    "        np.fill_diagonal(W,np.concatenate((ones_mkn,ones_mkp)))\n",
    "        yk = np.concatenate(((r-n)*ones_mkn,(r+n)*ones_mkp)).T\n",
    "        ak = (P.T).dot(W).dot(P).T.dot(P.T).dot(W).dot(yk)\n",
    "\n",
    "        alpha.append(ak)\n",
    "    return(np.array(alpha).T)"
   ]
  },
  {
   "cell_type": "code",
   "execution_count": 123,
   "metadata": {},
   "outputs": [],
   "source": [
    "alpha = TERmodel_new(6,0.5,0.5,data_train,label_train)\n",
    "\n",
    "P_t = RMmodel(6,data_test)\n",
    "yt = P_t.dot(alpha)\n",
    "yt1 = np.argmax(yt,axis=1)"
   ]
  },
  {
   "cell_type": "code",
   "execution_count": 124,
   "metadata": {},
   "outputs": [
    {
     "data": {
      "text/plain": [
       "array([0.00345241, 0.00345241, 0.00345241])"
      ]
     },
     "execution_count": 124,
     "metadata": {},
     "output_type": "execute_result"
    }
   ],
   "source": [
    "yt[0]"
   ]
  },
  {
   "cell_type": "code",
   "execution_count": 119,
   "metadata": {},
   "outputs": [],
   "source": [
    "def TERmodel_new(rank,r,n,X,Y):\n",
    "    alpha = []\n",
    "    for k in list(set(Y)):\n",
    "        P = RMmodel(rank,X)\n",
    "        mk_n = X[Y!=k].shape[0]\n",
    "        mk_p = X[Y==k].shape[0]\n",
    "\n",
    "        w_n = 1/mk_n\n",
    "        w_p = 1/mk_p\n",
    "\n",
    "        ones_mkn = np.ones(mk_n)*w_n\n",
    "        ones_mkp = np.ones(mk_p)*w_p\n",
    "\n",
    "        W = np.zeros((len(Y), len(Y)), float)\n",
    "        np.fill_diagonal(W,np.concatenate((ones_mkn,ones_mkp)))\n",
    "        yk = np.concatenate(((r-n)*ones_mkn,(r+n)*ones_mkp)).T\n",
    "        ak = np.linalg.pinv((P.T).dot(W).dot(P)).dot(P.T).dot(W).dot(yk)\n",
    "\n",
    "        alpha.append(ak)\n",
    "    return(np.array(alpha).T)"
   ]
  },
  {
   "cell_type": "code",
   "execution_count": 122,
   "metadata": {},
   "outputs": [
    {
     "data": {
      "text/plain": [
       "array([0, 0, 0, 0, 0, 0, 0, 0, 0, 0, 0, 0, 0, 0, 0, 0, 0, 0, 0, 0, 0, 0,\n",
       "       0, 0, 0, 0, 0, 0, 0, 0, 0, 0, 0, 0, 0, 0, 0, 0, 0, 0, 0, 0, 0, 0,\n",
       "       0, 0, 0, 0, 0, 0, 0, 0, 0, 0, 0, 0, 0, 0, 0, 0, 0, 0, 0, 0, 0, 0,\n",
       "       0, 0, 0, 0, 0, 0, 0, 0, 0], dtype=int64)"
      ]
     },
     "execution_count": 122,
     "metadata": {},
     "output_type": "execute_result"
    }
   ],
   "source": [
    "yt1"
   ]
  },
  {
   "cell_type": "code",
   "execution_count": 125,
   "metadata": {},
   "outputs": [],
   "source": [
    "def TERmodel_new(rank,r,n,X,Y):\n",
    "    alpha = []\n",
    "    for k in list(set(Y)):\n",
    "        P = RMmodel(rank,X)\n",
    "        mk_n = X[Y!=k].shape[0]\n",
    "        mk_p = X[Y==k].shape[0]\n",
    "\n",
    "        w_n = 1/mk_n\n",
    "        w_p = 1/mk_p\n",
    "\n",
    "        ones_mkn = np.ones(mk_n)*w_n\n",
    "        ones_mkp = np.ones(mk_p)*w_p\n",
    "\n",
    "        W = np.zeros((len(Y), len(Y)), float)\n",
    "        np.fill_diagonal(W,np.concatenate((ones_mkn,ones_mkp)))\n",
    "        yk = np.concatenate(((r-n)*ones_mkn,(r+n)*ones_mkp)).T\n",
    "        ak = np.linalg.pinv((P.T).dot(W).dot(P)).dot(P.T).dot(W).dot(yk)\n",
    "\n",
    "        alpha.append(ak)\n",
    "    return(np.array(alpha).T)"
   ]
  },
  {
   "cell_type": "code",
   "execution_count": 126,
   "metadata": {},
   "outputs": [],
   "source": [
    "alpha = TERmodel(6,0.5,0.5,data_train,label_train)\n",
    "\n",
    "P_t = RMmodel(6,data_test)\n",
    "yt = P_t.dot(alpha)\n",
    "yt1 = np.argmax(yt,axis=1)"
   ]
  },
  {
   "cell_type": "code",
   "execution_count": 127,
   "metadata": {},
   "outputs": [
    {
     "data": {
      "text/plain": [
       "array([0, 0, 0, 0, 2, 0, 0, 0, 0, 0, 0, 0, 0, 0, 0, 0, 0, 0, 0, 0, 0, 0,\n",
       "       0, 0, 0, 1, 1, 1, 1, 1, 1, 1, 1, 1, 1, 2, 1, 1, 1, 1, 1, 1, 1, 1,\n",
       "       1, 1, 1, 1, 1, 1, 2, 2, 2, 2, 2, 2, 2, 2, 2, 2, 2, 2, 2, 2, 2, 2,\n",
       "       2, 2, 2, 2, 2, 2, 2, 2, 2], dtype=int64)"
      ]
     },
     "execution_count": 127,
     "metadata": {},
     "output_type": "execute_result"
    }
   ],
   "source": [
    "yt1"
   ]
  },
  {
   "cell_type": "code",
   "execution_count": 128,
   "metadata": {},
   "outputs": [],
   "source": [
    "rank_acc = pd.DataFrame()\n",
    "\n",
    "alpha = TERmodel(6,0.5,0.5,data_train,label_train)\n",
    "\n",
    "P_t = RMmodel(6,data_test)\n",
    "yt = P_t.dot(alpha)\n",
    "yt1 = np.argmax(yt,axis=1)\n",
    "# plt.plot(yt1)\n",
    "\n",
    "pred_true = np.equal(label_test,yt1)\n",
    "acc = np.count_nonzero(pred_true) / len(pred_true)"
   ]
  },
  {
   "cell_type": "code",
   "execution_count": 129,
   "metadata": {},
   "outputs": [
    {
     "data": {
      "text/plain": [
       "0.9733333333333334"
      ]
     },
     "execution_count": 129,
     "metadata": {},
     "output_type": "execute_result"
    }
   ],
   "source": [
    "acc"
   ]
  },
  {
   "cell_type": "code",
   "execution_count": 130,
   "metadata": {},
   "outputs": [],
   "source": [
    "alpha = TERmodel_new(6,0.5,0.5,data_train,label_train)\n",
    "\n",
    "P_t = RMmodel(6,data_test)\n",
    "yt = P_t.dot(alpha)\n",
    "yt1 = np.argmax(yt,axis=1)\n",
    "# plt.plot(yt1)"
   ]
  },
  {
   "cell_type": "code",
   "execution_count": 131,
   "metadata": {},
   "outputs": [
    {
     "data": {
      "text/plain": [
       "array([0, 0, 0, 0, 0, 0, 0, 0, 0, 0, 0, 0, 0, 0, 0, 0, 0, 0, 0, 0, 0, 0,\n",
       "       0, 0, 0, 0, 0, 0, 0, 0, 0, 0, 0, 0, 0, 0, 0, 0, 0, 0, 0, 0, 0, 0,\n",
       "       0, 0, 0, 0, 0, 0, 0, 0, 0, 0, 0, 0, 0, 0, 0, 0, 0, 0, 0, 0, 0, 0,\n",
       "       0, 0, 0, 0, 0, 0, 0, 0, 0], dtype=int64)"
      ]
     },
     "execution_count": 131,
     "metadata": {},
     "output_type": "execute_result"
    }
   ],
   "source": [
    "yt1"
   ]
  },
  {
   "cell_type": "code",
   "execution_count": 132,
   "metadata": {},
   "outputs": [],
   "source": [
    "rank,r,n,X,Y = 6,0.5,0.5,data_train,label_train"
   ]
  },
  {
   "cell_type": "code",
   "execution_count": 133,
   "metadata": {},
   "outputs": [],
   "source": [
    "k=1"
   ]
  },
  {
   "cell_type": "code",
   "execution_count": 134,
   "metadata": {},
   "outputs": [],
   "source": [
    "        P = RMmodel(rank,X)\n",
    "        mk_n = X[Y!=k].shape[0]\n",
    "        mk_p = X[Y==k].shape[0]\n",
    "\n",
    "        w_n = 1/mk_n\n",
    "        w_p = 1/mk_p\n",
    "\n",
    "        ones_mkn = np.ones(mk_n)*w_n\n",
    "        ones_mkp = np.ones(mk_p)*w_p\n",
    "\n",
    "        W = np.zeros((len(Y), len(Y)), float)\n",
    "        np.fill_diagonal(W,np.concatenate((ones_mkn,ones_mkp)))\n",
    "        yk = np.concatenate(((r-n)*ones_mkn,(r+n)*ones_mkp)).T\n",
    "        ak = np.linalg.pinv((P.T).dot(W).dot(P)).dot(P.T).dot(W).dot(yk)"
   ]
  },
  {
   "cell_type": "code",
   "execution_count": 136,
   "metadata": {},
   "outputs": [
    {
     "data": {
      "text/plain": [
       "(50,)"
      ]
     },
     "execution_count": 136,
     "metadata": {},
     "output_type": "execute_result"
    }
   ],
   "source": [
    "ones_mkn.shape"
   ]
  },
  {
   "cell_type": "code",
   "execution_count": 137,
   "metadata": {},
   "outputs": [
    {
     "data": {
      "text/plain": [
       "50"
      ]
     },
     "execution_count": 137,
     "metadata": {},
     "output_type": "execute_result"
    }
   ],
   "source": [
    "mk_n"
   ]
  },
  {
   "cell_type": "code",
   "execution_count": 138,
   "metadata": {},
   "outputs": [
    {
     "data": {
      "text/plain": [
       "25"
      ]
     },
     "execution_count": 138,
     "metadata": {},
     "output_type": "execute_result"
    }
   ],
   "source": [
    "mk_p"
   ]
  },
  {
   "cell_type": "code",
   "execution_count": 139,
   "metadata": {},
   "outputs": [
    {
     "data": {
      "text/plain": [
       "array([0., 0., 0., 0., 0., 0., 0., 0., 0., 0., 0., 0., 0., 0., 0., 0., 0.,\n",
       "       0., 0., 0., 0., 0., 0., 0., 0., 1., 1., 1., 1., 1., 1., 1., 1., 1.,\n",
       "       1., 1., 1., 1., 1., 1., 1., 1., 1., 1., 1., 1., 1., 1., 1., 1., 2.,\n",
       "       2., 2., 2., 2., 2., 2., 2., 2., 2., 2., 2., 2., 2., 2., 2., 2., 2.,\n",
       "       2., 2., 2., 2., 2., 2., 2.])"
      ]
     },
     "execution_count": 139,
     "metadata": {},
     "output_type": "execute_result"
    }
   ],
   "source": [
    "Y"
   ]
  },
  {
   "cell_type": "code",
   "execution_count": 140,
   "metadata": {},
   "outputs": [
    {
     "data": {
      "text/plain": [
       "array([0.02, 0.02, 0.02, 0.02, 0.02, 0.02, 0.02, 0.02, 0.02, 0.02, 0.02,\n",
       "       0.02, 0.02, 0.02, 0.02, 0.02, 0.02, 0.02, 0.02, 0.02, 0.02, 0.02,\n",
       "       0.02, 0.02, 0.02, 0.02, 0.02, 0.02, 0.02, 0.02, 0.02, 0.02, 0.02,\n",
       "       0.02, 0.02, 0.02, 0.02, 0.02, 0.02, 0.02, 0.02, 0.02, 0.02, 0.02,\n",
       "       0.02, 0.02, 0.02, 0.02, 0.02, 0.02])"
      ]
     },
     "execution_count": 140,
     "metadata": {},
     "output_type": "execute_result"
    }
   ],
   "source": [
    "ones_mkn"
   ]
  },
  {
   "cell_type": "code",
   "execution_count": 141,
   "metadata": {},
   "outputs": [
    {
     "data": {
      "text/plain": [
       "array([0.04, 0.04, 0.04, 0.04, 0.04, 0.04, 0.04, 0.04, 0.04, 0.04, 0.04,\n",
       "       0.04, 0.04, 0.04, 0.04, 0.04, 0.04, 0.04, 0.04, 0.04, 0.04, 0.04,\n",
       "       0.04, 0.04, 0.04])"
      ]
     },
     "execution_count": 141,
     "metadata": {},
     "output_type": "execute_result"
    }
   ],
   "source": [
    "ones_mkp"
   ]
  },
  {
   "cell_type": "code",
   "execution_count": 142,
   "metadata": {},
   "outputs": [
    {
     "data": {
      "text/plain": [
       "array([[0.02, 0.  , 0.  , ..., 0.  , 0.  , 0.  ],\n",
       "       [0.  , 0.02, 0.  , ..., 0.  , 0.  , 0.  ],\n",
       "       [0.  , 0.  , 0.02, ..., 0.  , 0.  , 0.  ],\n",
       "       ...,\n",
       "       [0.  , 0.  , 0.  , ..., 0.04, 0.  , 0.  ],\n",
       "       [0.  , 0.  , 0.  , ..., 0.  , 0.04, 0.  ],\n",
       "       [0.  , 0.  , 0.  , ..., 0.  , 0.  , 0.04]])"
      ]
     },
     "execution_count": 142,
     "metadata": {},
     "output_type": "execute_result"
    }
   ],
   "source": [
    "W"
   ]
  },
  {
   "cell_type": "code",
   "execution_count": 143,
   "metadata": {},
   "outputs": [
    {
     "data": {
      "text/plain": [
       "array([0.  , 0.  , 0.  , 0.  , 0.  , 0.  , 0.  , 0.  , 0.  , 0.  , 0.  ,\n",
       "       0.  , 0.  , 0.  , 0.  , 0.  , 0.  , 0.  , 0.  , 0.  , 0.  , 0.  ,\n",
       "       0.  , 0.  , 0.  , 0.  , 0.  , 0.  , 0.  , 0.  , 0.  , 0.  , 0.  ,\n",
       "       0.  , 0.  , 0.  , 0.  , 0.  , 0.  , 0.  , 0.  , 0.  , 0.  , 0.  ,\n",
       "       0.  , 0.  , 0.  , 0.  , 0.  , 0.  , 0.04, 0.04, 0.04, 0.04, 0.04,\n",
       "       0.04, 0.04, 0.04, 0.04, 0.04, 0.04, 0.04, 0.04, 0.04, 0.04, 0.04,\n",
       "       0.04, 0.04, 0.04, 0.04, 0.04, 0.04, 0.04, 0.04, 0.04])"
      ]
     },
     "execution_count": 143,
     "metadata": {},
     "output_type": "execute_result"
    }
   ],
   "source": [
    "yk"
   ]
  },
  {
   "cell_type": "code",
   "execution_count": null,
   "metadata": {},
   "outputs": [],
   "source": []
  }
 ],
 "metadata": {
  "kernelspec": {
   "display_name": "Python 3",
   "language": "python",
   "name": "python3"
  },
  "language_info": {
   "codemirror_mode": {
    "name": "ipython",
    "version": 3
   },
   "file_extension": ".py",
   "mimetype": "text/x-python",
   "name": "python",
   "nbconvert_exporter": "python",
   "pygments_lexer": "ipython3",
   "version": "3.6.4"
  }
 },
 "nbformat": 4,
 "nbformat_minor": 2
}
