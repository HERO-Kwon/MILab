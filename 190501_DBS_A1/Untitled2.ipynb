{
 "cells": [
  {
   "cell_type": "code",
   "execution_count": 1,
   "metadata": {},
   "outputs": [],
   "source": [
    "import os\n",
    "import numpy as np\n",
    "import pandas as pd\n",
    "import matplotlib.pyplot as plt"
   ]
  },
  {
   "cell_type": "code",
   "execution_count": 2,
   "metadata": {},
   "outputs": [],
   "source": [
    "import skimage.data as data\n",
    "import skimage.feature as feature\n",
    "import skimage.transform as transform"
   ]
  },
  {
   "cell_type": "code",
   "execution_count": 3,
   "metadata": {},
   "outputs": [],
   "source": [
    "path_img = 'D:\\\\Data\\\\AnimalsOnTheWeb\\\\'"
   ]
  },
  {
   "cell_type": "code",
   "execution_count": 4,
   "metadata": {},
   "outputs": [],
   "source": [
    "lbp_df = pd.DataFrame()"
   ]
  },
  {
   "cell_type": "code",
   "execution_count": 5,
   "metadata": {},
   "outputs": [],
   "source": [
    "list_folder = os.listdir(path_img)\n",
    "list_folder = [f for f in list_folder if not 'other' in f]\n",
    "foldername = list_folder[1]"
   ]
  },
  {
   "cell_type": "code",
   "execution_count": 6,
   "metadata": {
    "scrolled": true
   },
   "outputs": [],
   "source": [
    "list_files = os.listdir(path_img+foldername+'\\\\')\n",
    "list_files = [f for f in list_files if 'pic' in f]\n",
    "filename = list_files[0]"
   ]
  },
  {
   "cell_type": "code",
   "execution_count": 7,
   "metadata": {},
   "outputs": [],
   "source": [
    "img_arr = data.load(path_img + foldername+'\\\\'+filename,as_grey=True)\n",
    "lbp = feature.local_binary_pattern(img_arr, 8, 2, \"uniform\")\n",
    "brickCount = int(lbp.max() + 1)\n",
    "lbp_hist, _ = np.histogram(lbp, normed = True, bins = brickCount, range = (0, brickCount))"
   ]
  },
  {
   "cell_type": "code",
   "execution_count": 8,
   "metadata": {},
   "outputs": [
    {
     "data": {
      "text/plain": [
       "[<matplotlib.lines.Line2D at 0x1d0d8d27668>]"
      ]
     },
     "execution_count": 8,
     "metadata": {},
     "output_type": "execute_result"
    },
    {
     "data": {
      "image/png": "[encoded data removed]",
      "text/plain": [
       "<Figure size 432x288 with 1 Axes>"
      ]
     },
     "metadata": {},
     "output_type": "display_data"
    }
   ],
   "source": [
    "plt.plot(lbp_hist)"
   ]
  },
  {
   "cell_type": "code",
   "execution_count": 9,
   "metadata": {},
   "outputs": [],
   "source": [
    "lbp_ser = pd.Series([foldername,filename,\\\n",
    "                lbp_hist[0],lbp_hist[1],lbp_hist[2],lbp_hist[3],lbp_hist[4],\\\n",
    "                lbp_hist[5],lbp_hist[6],lbp_hist[7],lbp_hist[8],lbp_hist[9]\\\n",
    "               ],index=['Animal','File','LBP0','LBP1','LBP2','LBP3','LBP4',\\\n",
    "                        'LBP5','LBP6','LBP7','LBP8','LBP9'])"
   ]
  },
  {
   "cell_type": "code",
   "execution_count": 10,
   "metadata": {},
   "outputs": [
    {
     "data": {
      "text/html": [
       "<div>\n",
       "<style scoped>\n",
       "    .dataframe tbody tr th:only-of-type {\n",
       "        vertical-align: middle;\n",
       "    }\n",
       "\n",
       "    .dataframe tbody tr th {\n",
       "        vertical-align: top;\n",
       "    }\n",
       "\n",
       "    .dataframe thead th {\n",
       "        text-align: right;\n",
       "    }\n",
       "</style>\n",
       "<table border=\"1\" class=\"dataframe\">\n",
       "  <thead>\n",
       "    <tr style=\"text-align: right;\">\n",
       "      <th></th>\n",
       "      <th>Animal</th>\n",
       "      <th>File</th>\n",
       "      <th>LBP0</th>\n",
       "      <th>LBP1</th>\n",
       "      <th>LBP2</th>\n",
       "      <th>LBP3</th>\n",
       "      <th>LBP4</th>\n",
       "      <th>LBP5</th>\n",
       "      <th>LBP6</th>\n",
       "      <th>LBP7</th>\n",
       "      <th>LBP8</th>\n",
       "      <th>LBP9</th>\n",
       "    </tr>\n",
       "  </thead>\n",
       "  <tbody>\n",
       "    <tr>\n",
       "      <th>0</th>\n",
       "      <td>ant</td>\n",
       "      <td>pic100_Lniger (9).jpg</td>\n",
       "      <td>0.040441</td>\n",
       "      <td>0.050721</td>\n",
       "      <td>0.073365</td>\n",
       "      <td>0.148711</td>\n",
       "      <td>0.24974</td>\n",
       "      <td>0.153434</td>\n",
       "      <td>0.0766</td>\n",
       "      <td>0.052775</td>\n",
       "      <td>0.045437</td>\n",
       "      <td>0.108776</td>\n",
       "    </tr>\n",
       "  </tbody>\n",
       "</table>\n",
       "</div>"
      ],
      "text/plain": [
       "  Animal                   File      LBP0      LBP1      LBP2      LBP3  \\\n",
       "0    ant  pic100_Lniger (9).jpg  0.040441  0.050721  0.073365  0.148711   \n",
       "\n",
       "      LBP4      LBP5    LBP6      LBP7      LBP8      LBP9  \n",
       "0  0.24974  0.153434  0.0766  0.052775  0.045437  0.108776  "
      ]
     },
     "execution_count": 10,
     "metadata": {},
     "output_type": "execute_result"
    }
   ],
   "source": [
    "lbp_df.append(lbp_ser,ignore_index=True)"
   ]
  },
  {
   "cell_type": "code",
   "execution_count": 11,
   "metadata": {},
   "outputs": [],
   "source": [
    "# HOG\n",
    "filename = list_files[2]\n",
    "img_arr = data.load(path_img + foldername+'\\\\'+filename,as_grey=True)"
   ]
  },
  {
   "cell_type": "code",
   "execution_count": 12,
   "metadata": {},
   "outputs": [],
   "source": [
    "descs, descs_img = feature.daisy(img_arr, step=1000, radius=58, rings=2, histograms=6,\n",
    "                         orientations=8, visualize=True)"
   ]
  },
  {
   "cell_type": "code",
   "execution_count": 13,
   "metadata": {},
   "outputs": [
    {
     "data": {
      "text/plain": [
       "(1, 1, 104)"
      ]
     },
     "execution_count": 13,
     "metadata": {},
     "output_type": "execute_result"
    }
   ],
   "source": [
    "descs.shape"
   ]
  },
  {
   "cell_type": "code",
   "execution_count": 14,
   "metadata": {},
   "outputs": [
    {
     "data": {
      "text/plain": [
       "(661, 504, 3)"
      ]
     },
     "execution_count": 14,
     "metadata": {},
     "output_type": "execute_result"
    }
   ],
   "source": [
    "descs_img.shape"
   ]
  },
  {
   "cell_type": "code",
   "execution_count": 15,
   "metadata": {},
   "outputs": [
    {
     "data": {
      "image/png": "[encoded data removed]",
      "text/plain": [
       "<Figure size 432x288 with 1 Axes>"
      ]
     },
     "metadata": {},
     "output_type": "display_data"
    }
   ],
   "source": [
    "fig, ax = plt.subplots()\n",
    "ax.axis('off')\n",
    "ax.imshow(descs_img)\n",
    "descs_num = descs.shape[0] * descs.shape[1]\n",
    "ax.set_title('%i DAISY descriptors extracted:' % descs_num)\n",
    "plt.show()"
   ]
  },
  {
   "cell_type": "code",
   "execution_count": 16,
   "metadata": {},
   "outputs": [
    {
     "data": {
      "text/plain": [
       "array([[[0.00046583, 0.00170573, 0.00343055, 0.00164135, 0.00032396,\n",
       "         0.00021722, 0.00035996, 0.00027973, 0.00034023, 0.00176367,\n",
       "         0.00367996, 0.00175241, 0.00032998, 0.00023661, 0.00038821,\n",
       "         0.0002293 , 0.00376363, 0.01880968, 0.03913951, 0.01859742,\n",
       "         0.00329969, 0.00172207, 0.00278791, 0.00193508, 0.01360603,\n",
       "         0.01843855, 0.02848146, 0.01401916, 0.00399109, 0.00215384,\n",
       "         0.00288024, 0.00655711, 0.00082706, 0.00100493, 0.00213716,\n",
       "         0.00639609, 0.01243671, 0.00593865, 0.0011402 , 0.00053844,\n",
       "         0.00292401, 0.00146535, 0.00096819, 0.00104476, 0.0021901 ,\n",
       "         0.00595097, 0.01117813, 0.00615698, 0.00117348, 0.0006098 ,\n",
       "         0.00091067, 0.0005632 , 0.00109078, 0.00614294, 0.01289962,\n",
       "         0.0061687 , 0.00798803, 0.01239381, 0.01760372, 0.0095057 ,\n",
       "         0.00693291, 0.01148015, 0.0132856 , 0.00804118, 0.00504504,\n",
       "         0.01028059, 0.0184026 , 0.00901071, 0.00237797, 0.00139224,\n",
       "         0.00186251, 0.0025711 , 0.01811113, 0.01223993, 0.01139198,\n",
       "         0.01810839, 0.03073014, 0.01484282, 0.0043394 , 0.00896765,\n",
       "         0.00495456, 0.00385302, 0.00678694, 0.02440062, 0.04927701,\n",
       "         0.02631951, 0.01070746, 0.00564936, 0.01009038, 0.00502911,\n",
       "         0.0051101 , 0.01515429, 0.03241701, 0.0359347 , 0.04867652,\n",
       "         0.02510368, 0.00975764, 0.00790186, 0.00832729, 0.00532037,\n",
       "         0.00832297, 0.02807111, 0.05090081, 0.02584428]]])"
      ]
     },
     "execution_count": 16,
     "metadata": {},
     "output_type": "execute_result"
    }
   ],
   "source": [
    "descs"
   ]
  },
  {
   "cell_type": "code",
   "execution_count": null,
   "metadata": {},
   "outputs": [],
   "source": []
  },
  {
   "cell_type": "code",
   "execution_count": null,
   "metadata": {},
   "outputs": [],
   "source": []
  }
 ],
 "metadata": {
  "kernelspec": {
   "display_name": "Python 3",
   "language": "python",
   "name": "python3"
  },
  "language_info": {
   "codemirror_mode": {
    "name": "ipython",
    "version": 3
   },
   "file_extension": ".py",
   "mimetype": "text/x-python",
   "name": "python",
   "nbconvert_exporter": "python",
   "pygments_lexer": "ipython3",
   "version": "3.6.5"
  }
 },
 "nbformat": 4,
 "nbformat_minor": 2
}
