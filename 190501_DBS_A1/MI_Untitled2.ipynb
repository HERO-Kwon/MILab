{
 "cells": [
  {
   "cell_type": "code",
   "execution_count": 1,
   "metadata": {},
   "outputs": [
    {
     "name": "stdout",
     "output_type": "stream",
     "text": [
      "alligator\n",
      "ant\n",
      "bear\n",
      "beaver\n",
      "dolphin\n",
      "frog\n",
      "giraffe\n",
      "leopard\n",
      "monkey\n",
      "penguin\n"
     ]
    }
   ],
   "source": [
    "import os\n",
    "import numpy as np\n",
    "import pandas as pd\n",
    "import matplotlib.pyplot as plt\n",
    "\n",
    "import skimage.data as data\n",
    "import skimage.feature as feature\n",
    "import skimage.transform as transform\n",
    "\n",
    "# for truncated img files\n",
    "from PIL import ImageFile\n",
    "ImageFile.LOAD_TRUNCATED_IMAGES = True\n",
    "\n",
    "#image path\n",
    "path_img = 'D:\\\\Data\\\\AnimalsOnTheWeb_v1\\\\'\n",
    "\n",
    "#df to aggregate results\n",
    "lbp_df = pd.DataFrame()\n",
    "\n",
    "list_folder = os.listdir(path_img)\n",
    "list_folder = [f for f in list_folder if not 'other' in f]\n",
    "\n",
    "for foldername in list_folder:\n",
    "    print(foldername)\n",
    "    list_files = os.listdir(path_img+foldername+'\\\\')\n",
    "    list_files = [f for f in list_files if 'pic' in f]\n",
    "\n",
    "    for filename in list_files:\n",
    "        try:\n",
    "            img_arr = data.load(path_img + foldername+'\\\\'+filename,as_grey=True)\n",
    "        \n",
    "            lbp = feature.local_binary_pattern(img_arr, 8, 2, \"uniform\") #image, P, R, method\n",
    "            brickCount = 10#int(lbp.max() + 1)\n",
    "            lbp_hist, _ = np.histogram(lbp, normed = True, bins = brickCount, range = (0, brickCount))\n",
    "        except:\n",
    "            lbp_hist = np.array([0.0,0.0,0.0,0.0,0.0,0.0,0.0,0.0,0.0,0.0])\n",
    "\n",
    "        # Result\n",
    "        lbp_ser = pd.Series([foldername,filename,\\\n",
    "                lbp_hist[0],lbp_hist[1],lbp_hist[2],lbp_hist[3],lbp_hist[4],\\\n",
    "                lbp_hist[5],lbp_hist[6],lbp_hist[7],lbp_hist[8],lbp_hist[9]],\\\n",
    "                index=['Animal','File','LBP0','LBP1','LBP2','LBP3','LBP4',\\\n",
    "                        'LBP5','LBP6','LBP7','LBP8','LBP9'])\n",
    "        # Aggregate result\n",
    "        lbp_df = lbp_df.append(lbp_ser,ignore_index=True)\n",
    "\n",
    "\n",
    "lbp_df.to_csv('Res_LBP.csv')"
   ]
  },
  {
   "cell_type": "code",
   "execution_count": null,
   "metadata": {},
   "outputs": [],
   "source": []
  }
 ],
 "metadata": {
  "kernelspec": {
   "display_name": "Python 3",
   "language": "python",
   "name": "python3"
  },
  "language_info": {
   "codemirror_mode": {
    "name": "ipython",
    "version": 3
   },
   "file_extension": ".py",
   "mimetype": "text/x-python",
   "name": "python",
   "nbconvert_exporter": "python",
   "pygments_lexer": "ipython3",
   "version": "3.6.5"
  }
 },
 "nbformat": 4,
 "nbformat_minor": 2
}
