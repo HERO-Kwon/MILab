{
 "cells": [
  {
   "cell_type": "markdown",
   "metadata": {},
   "source": [
    "### 1. Py. SP: Import Library "
   ]
  },
  {
   "cell_type": "code",
   "execution_count": 1,
   "metadata": {},
   "outputs": [],
   "source": [
    "# Import Library\n",
    "# Python\n",
    "import random\n",
    "import os\n",
    "import numpy as np\n",
    "import pandas as pd # for data manipulation\n",
    "import matplotlib.pyplot as plt # for graph\n",
    "\n",
    "# SPARK\n",
    "import pyspark\n",
    "import findspark # to find location where spark installed\n",
    "findspark.init()\n",
    "from pyspark.context import SparkContext\n",
    "from pyspark.sql.session import SparkSession"
   ]
  },
  {
   "cell_type": "markdown",
   "metadata": {},
   "source": [
    "### 2. Py.SP: Make Session"
   ]
  },
  {
   "cell_type": "code",
   "execution_count": 2,
   "metadata": {},
   "outputs": [],
   "source": [
    "# SPARK: Make Session\n",
    "sc = SparkContext()\n",
    "spark = SparkSession(sc)"
   ]
  },
  {
   "cell_type": "code",
   "execution_count": 3,
   "metadata": {},
   "outputs": [],
   "source": [
    "# Set Target Animal\n",
    "target_animal = 'alligator'"
   ]
  },
  {
   "cell_type": "markdown",
   "metadata": {},
   "source": [
    "### 3. Py.SP: Make LBP Features From Images"
   ]
  },
  {
   "cell_type": "code",
   "execution_count": 4,
   "metadata": {},
   "outputs": [
    {
     "name": "stdout",
     "output_type": "stream",
     "text": [
      "root\n",
      " |-- image: struct (nullable = true)\n",
      " |    |-- origin: string (nullable = true)\n",
      " |    |-- height: integer (nullable = true)\n",
      " |    |-- width: integer (nullable = true)\n",
      " |    |-- nChannels: integer (nullable = true)\n",
      " |    |-- mode: integer (nullable = true)\n",
      " |    |-- data: binary (nullable = true)\n",
      "\n"
     ]
    }
   ],
   "source": [
    "# SPARK: read image files in directory and make it to dataframe\n",
    "img_dir = \"D:\\\\Data\\\\AnimalsOnTheWeb\\\\\" + target_animal\n",
    "imgs = spark.read.format(\"image\").load(img_dir)\n",
    "imgs.printSchema()"
   ]
  },
  {
   "cell_type": "code",
   "execution_count": 5,
   "metadata": {},
   "outputs": [],
   "source": [
    "# Python: Make Features from Images and save it to CSV file\n",
    "#!python lbp.py"
   ]
  },
  {
   "cell_type": "code",
   "execution_count": 6,
   "metadata": {},
   "outputs": [
    {
     "name": "stdout",
     "output_type": "stream",
     "text": [
      "root\n",
      " |-- ind: integer (nullable = true)\n",
      " |-- Animal: string (nullable = true)\n",
      " |-- File: string (nullable = true)\n",
      " |-- ID: string (nullable = true)\n",
      " |-- LBP0: float (nullable = true)\n",
      " |-- LBP1: float (nullable = true)\n",
      " |-- LBP2: float (nullable = true)\n",
      " |-- LBP3: float (nullable = true)\n",
      " |-- LBP4: float (nullable = true)\n",
      " |-- LBP5: float (nullable = true)\n",
      " |-- LBP6: float (nullable = true)\n",
      " |-- LBP7: float (nullable = true)\n",
      " |-- LBP8: float (nullable = true)\n",
      " |-- LBP9: float (nullable = true)\n",
      "\n"
     ]
    }
   ],
   "source": [
    "# SPARK: Read Feature CSV file and make DataFrame\n",
    "import pyspark.sql.types as typ\n",
    "res_lbp = spark.read.csv('Res_LBP.csv',header=True)\n",
    "labels =[\n",
    "    ('ind',typ.IntegerType()), # index\n",
    "    ('Animal',typ.StringType()), # Class of animals\n",
    "    ('File',typ.StringType()), # filename\n",
    "    ('ID',typ.StringType()), # picture ID\n",
    "    ('LBP0',typ.FloatType()), # LBP features\n",
    "    ('LBP1',typ.FloatType()),\n",
    "    ('LBP2',typ.FloatType()),\n",
    "    ('LBP3',typ.FloatType()),\n",
    "    ('LBP4',typ.FloatType()),\n",
    "    ('LBP5',typ.FloatType()),\n",
    "    ('LBP6',typ.FloatType()),\n",
    "    ('LBP7',typ.FloatType()),\n",
    "    ('LBP8',typ.FloatType()),\n",
    "    ('LBP9',typ.FloatType()),\n",
    "]\n",
    "# Define Schema\n",
    "schema = typ.StructType([\n",
    "    typ.StructField(e[0],e[1],False) for e in labels\n",
    "])\n",
    "\n",
    "# CSV read\n",
    "res_lbp = spark.read.csv('Res_LBP.csv',header=True,schema=schema)\n",
    "# Select Target Animal\n",
    "target_lbp = res_lbp.where(res_lbp.Animal.isin(target_animal))\n",
    "target_lbp.printSchema()"
   ]
  },
  {
   "cell_type": "code",
   "execution_count": 7,
   "metadata": {
    "scrolled": true
   },
   "outputs": [
    {
     "data": {
      "text/plain": [
       "Row(ind=0, Animal='alligator', File='pic1000_Mayart5a.gif', ID='pic1000', LBP0=0.05400621145963669, LBP1=0.09041149169206619, LBP2=0.02454192563891411, LBP3=0.03751552850008011, LBP4=0.05066770315170288, LBP5=0.0609627328813076, LBP6=0.03319099545478821, LBP7=0.0975077673792839, LBP8=0.19192546606063843, LBP9=0.3592701852321625)"
      ]
     },
     "execution_count": 7,
     "metadata": {},
     "output_type": "execute_result"
    }
   ],
   "source": [
    "target_lbp.head() #show 1st row"
   ]
  },
  {
   "cell_type": "code",
   "execution_count": 8,
   "metadata": {},
   "outputs": [
    {
     "name": "stdout",
     "output_type": "stream",
     "text": [
      "+---+---------+--------------------+-------+-----------+-----------+-----------+-----------+-----------+-----------+-----------+-----------+-----------+-----------+\n",
      "|ind|   Animal|                File|     ID|       LBP0|       LBP1|       LBP2|       LBP3|       LBP4|       LBP5|       LBP6|       LBP7|       LBP8|       LBP9|\n",
      "+---+---------+--------------------+-------+-----------+-----------+-----------+-----------+-----------+-----------+-----------+-----------+-----------+-----------+\n",
      "|  0|alligator|pic1000_Mayart5a.gif|pic1000| 0.05400621| 0.09041149|0.024541926| 0.03751553|0.050667703|0.060962733|0.033190995| 0.09750777| 0.19192547|  0.3592702|\n",
      "|  1|alligator|pic1001_Mayart5f.gif|pic1001|0.110507585|0.095817834|0.031439807|0.032135498| 0.03360715|0.071495466|0.038075615| 0.08607818| 0.22409226|  0.2767506|\n",
      "|  2|alligator|pic1002_cajun.14.jpg|pic1002| 0.04896794|0.049928635| 0.02091568|0.035518225| 0.04894049|0.103672594|0.030769654|  0.0590964| 0.45443565| 0.14775471|\n",
      "|  3|alligator|pic1003_embitec20...|pic1003|   0.012288|    0.02336|   0.011776|   0.029568|    0.04608|   0.121856|   0.031424|   0.062464|   0.469376|   0.191808|\n",
      "|  4|alligator|pic1004_120x146_1...|pic1004|0.004452055|0.018949771|0.007191781|0.040810503| 0.07351598| 0.18710046|0.022488585|0.028253425| 0.54423517|0.073002286|\n",
      "|  5|alligator|pic1005_DU1107_DU...|pic1005|    0.03295|   0.035525|    0.01355|    0.01935|    0.02625|    0.03245|    0.01505|     0.0367|     0.7032|   0.084975|\n",
      "|  6|alligator|pic1006_DU1922_DU...|pic1006|   0.047232|   0.053504|   0.025856|   0.040512|   0.056768|   0.066304|   0.029696|   0.046912|   0.496704|   0.136512|\n",
      "|  7|alligator|  pic1007_DU1928.jpg|pic1007|   0.056064|   0.062592|   0.031808|    0.03936|   0.056384|    0.03936|   0.026112|      0.056|   0.484416|   0.147904|\n",
      "|  8|alligator|pic1008_DU1945_DU...|pic1008|    0.06304|   0.069312|   0.047168|    0.07552|   0.099584|   0.077248|   0.039296|    0.06624|   0.289856|   0.172736|\n",
      "|  9|alligator|pic1009_wish_list...|pic1009|  0.0211758|0.056164384|0.013184932|0.021689499| 0.03584475| 0.04349315|0.010559361|0.018550228|  0.6514269| 0.12791096|\n",
      "| 10|alligator|pic100_AlligZydec...| pic100| 0.06276366|0.056120247|0.020013288|0.030592926| 0.04122239|0.033349942|0.015462548| 0.03223717| 0.56741405| 0.14082378|\n",
      "| 11|alligator| pic1010_picture.jpg|pic1010|0.097198494|  0.0985028| 0.06448057| 0.06815468|0.083585925| 0.06725452| 0.05757325| 0.09727198|0.111600995| 0.25437677|\n",
      "| 12|alligator|    pic1011_logo.jpg|pic1011|0.031721443|0.037334025|0.011874941| 0.02191355| 0.04797062| 0.06567003|0.023731047| 0.05320652|  0.5948253| 0.11175252|\n",
      "| 13|alligator|   pic1012_mcbox.jpg|pic1012|   0.017792|   0.024192|   0.014592|   0.035456|   0.017664|   0.140928|   0.034048|   0.047104|    0.60448|   0.063744|\n",
      "| 14|alligator| pic1013_mcbrins.jpg|pic1013|      0.024|   0.025216|   0.021184|   0.042688|    0.07872|   0.035456|   0.016768|   0.020928|   0.673024|   0.062016|\n",
      "| 15|alligator|pic1014_mcfilpig.jpg|pic1014|   0.070784|   0.094336|    0.06432|   0.092928|   0.121472|   0.107584|   0.058816|    0.08512|    0.08672|    0.21792|\n",
      "| 16|alligator|pic1015_mcincase.jpg|pic1015|   0.087488|   0.091968|    0.05408|   0.071552|   0.107456|   0.071872|    0.04576|   0.072448|    0.17888|   0.218496|\n",
      "| 17|alligator| pic1016_mcpsl69.jpg|pic1016|   0.056576|    0.07616|    0.07296|   0.105088|    0.11008|   0.117888|   0.063744|   0.075584|   0.165888|   0.156032|\n",
      "| 18|alligator|pic1017_mcraphon.jpg|pic1017|   0.053312|   0.061504|   0.066752|   0.112704|   0.162368|   0.106432|     0.0592|   0.048512|    0.20352|   0.125696|\n",
      "| 19|alligator| pic1018_mcspoon.jpg|pic1018|   0.043584|    0.06336|    0.04096|   0.064256|   0.090816|    0.07232|   0.029504|   0.057024|   0.402176|      0.136|\n",
      "+---+---------+--------------------+-------+-----------+-----------+-----------+-----------+-----------+-----------+-----------+-----------+-----------+-----------+\n",
      "only showing top 20 rows\n",
      "\n"
     ]
    }
   ],
   "source": [
    "target_lbp.show() # show 20 row"
   ]
  },
  {
   "cell_type": "markdown",
   "metadata": {},
   "source": [
    "### 4. Py.SP: Make Ground Truth"
   ]
  },
  {
   "cell_type": "code",
   "execution_count": 9,
   "metadata": {},
   "outputs": [
    {
     "data": {
      "text/html": [
       "<div>\n",
       "<style scoped>\n",
       "    .dataframe tbody tr th:only-of-type {\n",
       "        vertical-align: middle;\n",
       "    }\n",
       "\n",
       "    .dataframe tbody tr th {\n",
       "        vertical-align: top;\n",
       "    }\n",
       "\n",
       "    .dataframe thead th {\n",
       "        text-align: right;\n",
       "    }\n",
       "</style>\n",
       "<table border=\"1\" class=\"dataframe\">\n",
       "  <thead>\n",
       "    <tr style=\"text-align: right;\">\n",
       "      <th></th>\n",
       "      <th>name</th>\n",
       "      <th>truth</th>\n",
       "      <th>ID</th>\n",
       "    </tr>\n",
       "  </thead>\n",
       "  <tbody>\n",
       "    <tr>\n",
       "      <th>0</th>\n",
       "      <td>alligator/pic1_low_left.jpg</td>\n",
       "      <td>0</td>\n",
       "      <td>pic1</td>\n",
       "    </tr>\n",
       "    <tr>\n",
       "      <th>1</th>\n",
       "      <td>alligator/pic2_low_right.jpg</td>\n",
       "      <td>0</td>\n",
       "      <td>pic2</td>\n",
       "    </tr>\n",
       "    <tr>\n",
       "      <th>2</th>\n",
       "      <td>alligator/pic3_csm-amis.gif</td>\n",
       "      <td>0</td>\n",
       "      <td>pic3</td>\n",
       "    </tr>\n",
       "    <tr>\n",
       "      <th>3</th>\n",
       "      <td>alligator/pic4_csm-asin.gif</td>\n",
       "      <td>0</td>\n",
       "      <td>pic4</td>\n",
       "    </tr>\n",
       "    <tr>\n",
       "      <th>4</th>\n",
       "      <td>alligator/pic5_greenal.gif</td>\n",
       "      <td>0</td>\n",
       "      <td>pic5</td>\n",
       "    </tr>\n",
       "  </tbody>\n",
       "</table>\n",
       "</div>"
      ],
      "text/plain": [
       "                           name  truth    ID\n",
       "0   alligator/pic1_low_left.jpg      0  pic1\n",
       "1  alligator/pic2_low_right.jpg      0  pic2\n",
       "2   alligator/pic3_csm-amis.gif      0  pic3\n",
       "3   alligator/pic4_csm-asin.gif      0  pic4\n",
       "4    alligator/pic5_greenal.gif      0  pic5"
      ]
     },
     "execution_count": 9,
     "metadata": {},
     "output_type": "execute_result"
    }
   ],
   "source": [
    "# Python: Read .mat file\n",
    "import scipy.io as sio # Library for .mat files\n",
    "import re # Library for Regular Expression\n",
    "file_path = 'D:\\\\Data\\\\AnimalsOnTheWeb\\\\' + target_animal + '\\\\'\n",
    "file = 'animaldata_'+ target_animal + '.mat'\n",
    "# Read from .mat files\n",
    "data_read = sio.loadmat(os.path.join(file_path,file))\n",
    "\n",
    "# truth table (1 or 0)\n",
    "truth_tbl = list(data_read['gt'][0]) \n",
    "\n",
    "# get picture ID and save it to 'name' column\n",
    "truth_nameread = list(data_read['imgnames'][0])\n",
    "truth_name = [t[0] for t in truth_nameread]\n",
    "truth_lists = pd.DataFrame({'name': truth_name,'truth': truth_tbl})\n",
    "truth_lists['name'] = truth_lists['name'].astype('str')\n",
    "re_picid = re.compile('pic\\d+')\n",
    "truth_lists['ID'] = [re_picid.findall(r)[0] for r in truth_lists['name']]\n",
    "truth_lists.head()"
   ]
  },
  {
   "cell_type": "code",
   "execution_count": 10,
   "metadata": {},
   "outputs": [
    {
     "name": "stdout",
     "output_type": "stream",
     "text": [
      "root\n",
      " |-- name: string (nullable = true)\n",
      " |-- truth: long (nullable = true)\n",
      " |-- ID: string (nullable = true)\n",
      "\n"
     ]
    }
   ],
   "source": [
    "# SPARK: convert pandas DF to Spark DF\n",
    "df_truth = spark.createDataFrame(truth_lists)\n",
    "df_truth.printSchema()"
   ]
  },
  {
   "cell_type": "code",
   "execution_count": 11,
   "metadata": {},
   "outputs": [
    {
     "name": "stdout",
     "output_type": "stream",
     "text": [
      "root\n",
      " |-- name: string (nullable = true)\n",
      " |-- truth: long (nullable = true)\n",
      " |-- ID: string (nullable = true)\n",
      " |-- truth_int: integer (nullable = true)\n",
      "\n"
     ]
    }
   ],
   "source": [
    "# Cast Truth column to integer\n",
    "df_truth = df_truth.withColumn('truth_int',df_truth['truth'].cast(typ.IntegerType()))\n",
    "df_truth.printSchema()"
   ]
  },
  {
   "cell_type": "code",
   "execution_count": 12,
   "metadata": {},
   "outputs": [
    {
     "name": "stdout",
     "output_type": "stream",
     "text": [
      "+--------------------+-----+----+---------+\n",
      "|                name|truth|  ID|truth_int|\n",
      "+--------------------+-----+----+---------+\n",
      "|alligator/pic1_lo...|    0|pic1|        0|\n",
      "|alligator/pic2_lo...|    0|pic2|        0|\n",
      "|alligator/pic3_cs...|    0|pic3|        0|\n",
      "|alligator/pic4_cs...|    0|pic4|        0|\n",
      "|alligator/pic5_gr...|    0|pic5|        0|\n",
      "+--------------------+-----+----+---------+\n",
      "only showing top 5 rows\n",
      "\n"
     ]
    }
   ],
   "source": [
    "#show 5 row\n",
    "df_truth.show(5)"
   ]
  },
  {
   "cell_type": "markdown",
   "metadata": {},
   "source": [
    "### 5. SP: join  features and Grd Truth dataframe"
   ]
  },
  {
   "cell_type": "code",
   "execution_count": 13,
   "metadata": {},
   "outputs": [
    {
     "data": {
      "text/plain": [
       "[Row(ID='pic1', name='alligator/pic1_low_left.jpg', truth=0, truth_int=0, ind=556, Animal='alligator', File='pic1_low_left.jpg', LBP0=0.08529064059257507, LBP1=0.0923176109790802, LBP2=0.034361232072114944, LBP3=0.07235414534807205, LBP4=0.1361340880393982, LBP5=0.08859997987747192, LBP6=0.032899968326091766, LBP7=0.09792628884315491, LBP8=0.12302567809820175, LBP9=0.2370903640985489),\n",
       " Row(ID='pic2', name='alligator/pic2_low_right.jpg', truth=0, truth_int=0, ind=667, Animal='alligator', File='pic2_low_right.jpg', LBP0=0.09944067895412445, LBP1=0.09836162626743317, LBP2=0.04460723698139191, LBP3=0.06056526303291321, LBP4=0.09713409096002579, LBP5=0.0673365369439125, LBP6=0.044231053441762924, LBP7=0.10398455709218979, LBP8=0.11735881119966507, LBP9=0.2669801414012909),\n",
       " Row(ID='pic3', name='alligator/pic3_csm-amis.gif', truth=0, truth_int=0, ind=778, Animal='alligator', File='pic3_csm-amis.gif', LBP0=0.01336000021547079, LBP1=0.02879999950528145, LBP2=0.012240000069141388, LBP3=0.03235999867320061, LBP4=0.033720001578330994, LBP5=0.15308000147342682, LBP6=0.03643999993801117, LBP7=0.09984000027179718, LBP8=0.39500001072883606, LBP9=0.19516000151634216),\n",
       " Row(ID='pic4', name='alligator/pic4_csm-asin.gif', truth=0, truth_int=0, ind=889, Animal='alligator', File='pic4_csm-asin.gif', LBP0=0.012160000391304493, LBP1=0.028519999235868454, LBP2=0.010320000350475311, LBP3=0.029039999470114708, LBP4=0.03060000017285347, LBP5=0.16035999357700348, LBP6=0.028359999880194664, LBP7=0.08795999735593796, LBP8=0.4378800094127655, LBP9=0.17479999363422394),\n",
       " Row(ID='pic5', name='alligator/pic5_greenal.gif', truth=0, truth_int=0, ind=1000, Animal='alligator', File='pic5_greenal.gif', LBP0=0.005221018102020025, LBP1=0.011943286284804344, LBP2=0.0068807341158390045, LBP3=0.02834862470626831, LBP4=0.08780650794506073, LBP5=0.12346956133842468, LBP6=0.019332777708768845, LBP7=0.03569641336798668, LBP8=0.631351113319397, LBP9=0.04994995892047882)]"
      ]
     },
     "execution_count": 13,
     "metadata": {},
     "output_type": "execute_result"
    }
   ],
   "source": [
    "df_ml = df_truth.join(target_lbp,on='ID')\n",
    "df_ml.head(5)"
   ]
  },
  {
   "cell_type": "code",
   "execution_count": 14,
   "metadata": {},
   "outputs": [
    {
     "name": "stdout",
     "output_type": "stream",
     "text": [
      "+---------+-----------+-----------+-----------+-----------+----------+----------+-----------+-----------+----------+----------+\n",
      "|truth_int|       LBP0|       LBP1|       LBP2|       LBP3|      LBP4|      LBP5|       LBP6|       LBP7|      LBP8|      LBP9|\n",
      "+---------+-----------+-----------+-----------+-----------+----------+----------+-----------+-----------+----------+----------+\n",
      "|        0| 0.08529064| 0.09231761|0.034361232|0.072354145|0.13613409|0.08859998| 0.03289997| 0.09792629|0.12302568|0.23709036|\n",
      "|        0| 0.09944068|0.098361626|0.044607237|0.060565263|0.09713409|0.06733654|0.044231053| 0.10398456|0.11735881|0.26698014|\n",
      "|        0|    0.01336|     0.0288|    0.01224|    0.03236|   0.03372|   0.15308|    0.03644|    0.09984|     0.395|   0.19516|\n",
      "|        0|    0.01216|    0.02852|    0.01032|    0.02904|    0.0306|   0.16036|    0.02836|    0.08796|   0.43788|    0.1748|\n",
      "|        0|0.005221018|0.011943286|0.006880734|0.028348625|0.08780651|0.12346956|0.019332778|0.035696413| 0.6313511|0.04994996|\n",
      "+---------+-----------+-----------+-----------+-----------+----------+----------+-----------+-----------+----------+----------+\n",
      "only showing top 5 rows\n",
      "\n"
     ]
    }
   ],
   "source": [
    "# Select columns from dataframe\n",
    "df_ml1 = df_ml.select([c for c in df_ml.columns if c in ['truth_int','LBP0','LBP1','LBP2','LBP3','LBP4','LBP5','LBP6','LBP7','LBP8','LBP9']])\n",
    "df_ml1.show(5)"
   ]
  },
  {
   "cell_type": "markdown",
   "metadata": {},
   "source": [
    "### 6. SP: Machine Learning"
   ]
  },
  {
   "cell_type": "markdown",
   "metadata": {},
   "source": [
    "##### 6.1. Feature Creator"
   ]
  },
  {
   "cell_type": "code",
   "execution_count": 15,
   "metadata": {},
   "outputs": [],
   "source": [
    "# make Feature column\n",
    "import pyspark.ml.feature as ft\n",
    "labels_feat =[\n",
    "    ('LBP0',typ.FloatType()),\n",
    "    ('LBP1',typ.FloatType()),\n",
    "    ('LBP2',typ.FloatType()),\n",
    "    ('LBP3',typ.FloatType()),\n",
    "    ('LBP4',typ.FloatType()),\n",
    "    ('LBP5',typ.FloatType()),\n",
    "    ('LBP6',typ.FloatType()),\n",
    "    ('LBP7',typ.FloatType()),\n",
    "    ('LBP8',typ.FloatType()),\n",
    "    ('LBP9',typ.FloatType()),\n",
    "]\n",
    "featuresCreator = ft.VectorAssembler(\n",
    "    inputCols=[col[0] for col in labels_feat[0:]],outputCol='features'\n",
    ")"
   ]
  },
  {
   "cell_type": "markdown",
   "metadata": {},
   "source": [
    "##### 6.2. Make Classification Model"
   ]
  },
  {
   "cell_type": "code",
   "execution_count": 16,
   "metadata": {},
   "outputs": [],
   "source": [
    "# make model\n",
    "import pyspark.ml.classification as cl\n",
    "logistic = cl.LogisticRegression(maxIter=10,regParam=0.01,labelCol='truth_int')"
   ]
  },
  {
   "cell_type": "markdown",
   "metadata": {},
   "source": [
    "##### 6.3. Pipeline"
   ]
  },
  {
   "cell_type": "code",
   "execution_count": 17,
   "metadata": {},
   "outputs": [],
   "source": [
    "# make pipeline\n",
    "from pyspark.ml import Pipeline\n",
    "pipeline = Pipeline(stages=[featuresCreator,logistic])"
   ]
  },
  {
   "cell_type": "code",
   "execution_count": 18,
   "metadata": {},
   "outputs": [
    {
     "data": {
      "text/plain": [
       "[Row(truth_int=0, LBP0=1.4100000043981709e-05, LBP1=0.0004844740033149719, LBP2=0.0002408639993518591, LBP3=0.004776970017701387, LBP4=0.007476892787963152, LBP5=0.032398831099271774, LBP6=0.007372186053544283, LBP7=0.014115380123257637, LBP8=0.9286929965019226, LBP9=0.004427279811352491, features=DenseVector([0.0, 0.0005, 0.0002, 0.0048, 0.0075, 0.0324, 0.0074, 0.0141, 0.9287, 0.0044]), rawPrediction=DenseVector([2.4751, -2.4751]), probability=DenseVector([0.9224, 0.0776]), prediction=0.0)]"
      ]
     },
     "execution_count": 18,
     "metadata": {},
     "output_type": "execute_result"
    }
   ],
   "source": [
    "# Separate training and test data\n",
    "lbp_train, lbp_test = df_ml1.randomSplit([0.7,0.3],seed=100)\n",
    "# Train model\n",
    "model = pipeline.fit(lbp_train)\n",
    "# Test\n",
    "test_model = model.transform(lbp_test) # get results on test dataset\n",
    "test_model.take(1)"
   ]
  },
  {
   "cell_type": "markdown",
   "metadata": {},
   "source": [
    "### 7. SP: Evaluation"
   ]
  },
  {
   "cell_type": "code",
   "execution_count": 19,
   "metadata": {
    "scrolled": true
   },
   "outputs": [
    {
     "name": "stdout",
     "output_type": "stream",
     "text": [
      "Area Under ROC: 0.8395751991254099\n"
     ]
    }
   ],
   "source": [
    "# Evaluation\n",
    "import pyspark.ml.evaluation as ev\n",
    "evaluator = ev.BinaryClassificationEvaluator(rawPredictionCol='probability',labelCol='truth_int')\n",
    "print('Area Under ROC: ' + str(evaluator.evaluate(test_model, {evaluator.metricName:'areaUnderROC'})))"
   ]
  },
  {
   "cell_type": "markdown",
   "metadata": {},
   "source": [
    "### 8. SP: K-means Clustering"
   ]
  },
  {
   "cell_type": "code",
   "execution_count": 20,
   "metadata": {},
   "outputs": [],
   "source": [
    "# K-Means clustering"
   ]
  },
  {
   "cell_type": "code",
   "execution_count": 21,
   "metadata": {},
   "outputs": [],
   "source": [
    "import pyspark.ml.clustering as clus\n",
    "kmeans = clus.KMeans(k=10, featuresCol='features')"
   ]
  },
  {
   "cell_type": "code",
   "execution_count": 22,
   "metadata": {},
   "outputs": [],
   "source": [
    "# make pipeline\n",
    "pipeline = Pipeline(stages=[featuresCreator,kmeans])"
   ]
  },
  {
   "cell_type": "code",
   "execution_count": 23,
   "metadata": {},
   "outputs": [
    {
     "name": "stdout",
     "output_type": "stream",
     "text": [
      "+-----------+-----------+-----------+-----------+-----------+-----------+-----------+-----------+----------+-----------+\n",
      "|       LBP0|       LBP1|       LBP2|       LBP3|       LBP4|       LBP5|       LBP6|       LBP7|      LBP8|       LBP9|\n",
      "+-----------+-----------+-----------+-----------+-----------+-----------+-----------+-----------+----------+-----------+\n",
      "| 0.05400621| 0.09041149|0.024541926| 0.03751553|0.050667703|0.060962733|0.033190995| 0.09750777|0.19192547|  0.3592702|\n",
      "|0.110507585|0.095817834|0.031439807|0.032135498| 0.03360715|0.071495466|0.038075615| 0.08607818|0.22409226|  0.2767506|\n",
      "| 0.04896794|0.049928635| 0.02091568|0.035518225| 0.04894049|0.103672594|0.030769654|  0.0590964|0.45443565| 0.14775471|\n",
      "|   0.012288|    0.02336|   0.011776|   0.029568|    0.04608|   0.121856|   0.031424|   0.062464|  0.469376|   0.191808|\n",
      "|0.004452055|0.018949771|0.007191781|0.040810503| 0.07351598| 0.18710046|0.022488585|0.028253425|0.54423517|0.073002286|\n",
      "+-----------+-----------+-----------+-----------+-----------+-----------+-----------+-----------+----------+-----------+\n",
      "only showing top 5 rows\n",
      "\n"
     ]
    }
   ],
   "source": [
    "# Get All class data\n",
    "df_km = res_lbp.select([c for c in df_ml.columns if c in ['LBP0','LBP1','LBP2','LBP3','LBP4','LBP5','LBP6','LBP7','LBP8','LBP9']])\n",
    "df_km.show(5)"
   ]
  },
  {
   "cell_type": "code",
   "execution_count": 24,
   "metadata": {},
   "outputs": [],
   "source": [
    "# Separate training and test data\n",
    "km_train, km_test = df_km.randomSplit([0.7,0.3],seed=100)"
   ]
  },
  {
   "cell_type": "code",
   "execution_count": 25,
   "metadata": {},
   "outputs": [],
   "source": [
    "model_km = pipeline.fit(km_train)\n",
    "test_km = model_km.transform(km_test)"
   ]
  },
  {
   "cell_type": "code",
   "execution_count": 26,
   "metadata": {},
   "outputs": [
    {
     "data": {
      "text/plain": [
       "[Row(prediction=1, avg(LBP1)=0.005757329775375201, avg(LBP0)=0.003384214574995974, count(1)=206),\n",
       " Row(prediction=6, avg(LBP1)=0.06796377788520577, avg(LBP0)=0.051969669750504016, count(1)=531),\n",
       " Row(prediction=3, avg(LBP1)=0.0, avg(LBP0)=0.0, count(1)=92),\n",
       " Row(prediction=5, avg(LBP1)=0.028686339081703895, avg(LBP0)=0.01982155360940119, count(1)=328),\n",
       " Row(prediction=9, avg(LBP1)=0.04732494459435274, avg(LBP0)=0.035339908024555104, count(1)=428),\n",
       " Row(prediction=4, avg(LBP1)=0.016077543828599813, avg(LBP0)=0.011307594850847152, count(1)=303),\n",
       " Row(prediction=8, avg(LBP1)=0.07297128103308784, avg(LBP0)=0.060812290055194805, count(1)=332),\n",
       " Row(prediction=7, avg(LBP1)=0.10414538718692722, avg(LBP0)=0.10344831760692803, count(1)=692),\n",
       " Row(prediction=2, avg(LBP1)=0.05497169015126307, avg(LBP0)=0.04073618994007429, count(1)=471),\n",
       " Row(prediction=0, avg(LBP1)=0.08898658450206985, avg(LBP0)=0.0775589849119601, count(1)=1150)]"
      ]
     },
     "execution_count": 26,
     "metadata": {},
     "output_type": "execute_result"
    }
   ],
   "source": [
    "# Show Results\n",
    "test_km.groupBy('prediction').agg({'*':'count','LBP0':'avg','LBP1':'avg'}).collect()"
   ]
  },
  {
   "cell_type": "code",
   "execution_count": null,
   "metadata": {},
   "outputs": [],
   "source": []
  }
 ],
 "metadata": {
  "kernelspec": {
   "display_name": "Python 3",
   "language": "python",
   "name": "python3"
  },
  "language_info": {
   "codemirror_mode": {
    "name": "ipython",
    "version": 3
   },
   "file_extension": ".py",
   "mimetype": "text/x-python",
   "name": "python",
   "nbconvert_exporter": "python",
   "pygments_lexer": "ipython3",
   "version": "3.6.5"
  }
 },
 "nbformat": 4,
 "nbformat_minor": 2
}
