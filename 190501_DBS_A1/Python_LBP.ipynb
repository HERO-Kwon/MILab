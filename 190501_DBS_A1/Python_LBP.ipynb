{
 "cells": [
  {
   "cell_type": "code",
   "execution_count": 1,
   "metadata": {},
   "outputs": [],
   "source": [
    "#import"
   ]
  },
  {
   "cell_type": "code",
   "execution_count": 2,
   "metadata": {},
   "outputs": [],
   "source": [
    "# python library\n",
    "import os\n",
    "import numpy as np\n",
    "import pandas as pd\n",
    "import matplotlib.pyplot as plt\n",
    "# for LBP feature extraction\n",
    "import skimage.data as data\n",
    "import skimage.feature as feature\n",
    "import skimage.transform as transform"
   ]
  },
  {
   "cell_type": "code",
   "execution_count": 3,
   "metadata": {},
   "outputs": [],
   "source": [
    "# Read Images"
   ]
  },
  {
   "cell_type": "code",
   "execution_count": 5,
   "metadata": {},
   "outputs": [],
   "source": [
    "path_img = 'D:\\\\Data\\\\AnimalsOnTheWeb\\\\'\n",
    "list_folder = os.listdir(path_img)\n",
    "list_folder = [f for f in list_folder if not 'other' in f]"
   ]
  },
  {
   "cell_type": "code",
   "execution_count": 6,
   "metadata": {},
   "outputs": [],
   "source": [
    "# Iteration"
   ]
  },
  {
   "cell_type": "code",
   "execution_count": 7,
   "metadata": {},
   "outputs": [
    {
     "name": "stdout",
     "output_type": "stream",
     "text": [
      "alligator\n",
      "ant\n",
      "bear\n",
      "beaver\n",
      "dolphin\n",
      "frog\n",
      "giraffe\n",
      "leopard\n",
      "monkey\n",
      "penguin\n"
     ]
    }
   ],
   "source": [
    "lbp_df = pd.DataFrame() #df to aggregate results\n",
    "for foldername in list_folder:\n",
    "    print(foldername)\n",
    "    list_files = os.listdir(path_img+foldername+'\\\\')\n",
    "    list_files = [f for f in list_files if 'pic' in f] # choose files that contains 'pic' in its name\n",
    "\n",
    "    for filename in list_files:\n",
    "        try:\n",
    "            img_arr = data.load(path_img + foldername+'\\\\'+filename,as_grey=True) # Load Images\n",
    "        \n",
    "            lbp = feature.local_binary_pattern(img_arr, 8, 2, \"uniform\") #image, P, R, method\n",
    "            brickCount = 10 #int(lbp.max() + 1)\n",
    "            lbp_hist, _ = np.histogram(lbp, normed = True, bins = brickCount, range = (0, brickCount)) # Extract 10 LBP features\n",
    "        except:\n",
    "            lbp_hist = np.array([0.0,0.0,0.0,0.0,0.0,0.0,0.0,0.0,0.0,0.0]) # for truncated images\n",
    "\n",
    "        # Aggregate Result\n",
    "        lbp_ser = pd.Series([foldername,filename,\\\n",
    "                lbp_hist[0],lbp_hist[1],lbp_hist[2],lbp_hist[3],lbp_hist[4],\\\n",
    "                lbp_hist[5],lbp_hist[6],lbp_hist[7],lbp_hist[8],lbp_hist[9]],\\\n",
    "                index=['Animal','File','LBP0','LBP1','LBP2','LBP3','LBP4',\\\n",
    "                        'LBP5','LBP6','LBP7','LBP8','LBP9'])\n",
    "        # Save it to result Dataframe\n",
    "        lbp_df.append(lbp_ser,ignore_index=True)\n",
    "\n",
    "# write it to csv file\n",
    "lbp_df.to_csv('Res_LBP1.csv')"
   ]
  },
  {
   "cell_type": "code",
   "execution_count": null,
   "metadata": {},
   "outputs": [],
   "source": []
  }
 ],
 "metadata": {
  "kernelspec": {
   "display_name": "Python 3",
   "language": "python",
   "name": "python3"
  },
  "language_info": {
   "codemirror_mode": {
    "name": "ipython",
    "version": 3
   },
   "file_extension": ".py",
   "mimetype": "text/x-python",
   "name": "python",
   "nbconvert_exporter": "python",
   "pygments_lexer": "ipython3",
   "version": "3.6.5"
  }
 },
 "nbformat": 4,
 "nbformat_minor": 2
}
