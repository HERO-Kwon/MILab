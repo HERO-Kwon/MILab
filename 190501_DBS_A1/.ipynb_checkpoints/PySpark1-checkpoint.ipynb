{
 "cells": [
  {
   "cell_type": "markdown",
   "metadata": {},
   "source": [
    "### 1. Py. SP: Import Library "
   ]
  },
  {
   "cell_type": "code",
   "execution_count": 1,
   "metadata": {},
   "outputs": [],
   "source": [
    "# Import Library\n",
    "# Python\n",
    "import random\n",
    "import os\n",
    "import numpy as np\n",
    "import pandas as pd # for data manipulation\n",
    "import matplotlib.pyplot as plt # for graph\n",
    "\n",
    "# SPARK\n",
    "import pyspark\n",
    "import findspark # to find location where spark installed\n",
    "findspark.init()\n",
    "from pyspark.context import SparkContext\n",
    "from pyspark.sql.session import SparkSession"
   ]
  },
  {
   "cell_type": "markdown",
   "metadata": {},
   "source": [
    "### 2. Py.SP: Make Session"
   ]
  },
  {
   "cell_type": "code",
   "execution_count": 2,
   "metadata": {},
   "outputs": [],
   "source": [
    "# SPARK: Make Session\n",
    "sc = SparkContext()\n",
    "spark = SparkSession(sc)"
   ]
  },
  {
   "cell_type": "code",
   "execution_count": 3,
   "metadata": {},
   "outputs": [],
   "source": [
    "# Set Target Animal\n",
    "target_animal = 'monkey'"
   ]
  },
  {
   "cell_type": "markdown",
   "metadata": {},
   "source": [
    "### 3. Py.SP: Make LBP Features From Images"
   ]
  },
  {
   "cell_type": "code",
   "execution_count": 5,
   "metadata": {},
   "outputs": [
    {
     "name": "stdout",
     "output_type": "stream",
     "text": [
      "root\n",
      " |-- image: struct (nullable = true)\n",
      " |    |-- origin: string (nullable = true)\n",
      " |    |-- height: integer (nullable = true)\n",
      " |    |-- width: integer (nullable = true)\n",
      " |    |-- nChannels: integer (nullable = true)\n",
      " |    |-- mode: integer (nullable = true)\n",
      " |    |-- data: binary (nullable = true)\n",
      "\n"
     ]
    }
   ],
   "source": [
    "# SPARK: read image files in directory and make it to dataframe\n",
    "img_dir = \"D:\\\\Data\\\\AnimalsOnTheWeb\\\\\" + target_animal\n",
    "imgs = spark.read.format(\"image\").load(img_dir)\n",
    "imgs.printSchema()"
   ]
  },
  {
   "cell_type": "code",
   "execution_count": 6,
   "metadata": {},
   "outputs": [],
   "source": [
    "# Python: Make Features from Images and save it to CSV file"
   ]
  },
  {
   "cell_type": "code",
   "execution_count": 7,
   "metadata": {},
   "outputs": [],
   "source": [
    "#!python lbp.py"
   ]
  },
  {
   "cell_type": "code",
   "execution_count": 40,
   "metadata": {},
   "outputs": [
    {
     "name": "stdout",
     "output_type": "stream",
     "text": [
      "root\n",
      " |-- ind: integer (nullable = true)\n",
      " |-- Animal: string (nullable = true)\n",
      " |-- File: string (nullable = true)\n",
      " |-- ID: string (nullable = true)\n",
      " |-- LBP0: float (nullable = true)\n",
      " |-- LBP1: float (nullable = true)\n",
      " |-- LBP2: float (nullable = true)\n",
      " |-- LBP3: float (nullable = true)\n",
      " |-- LBP4: float (nullable = true)\n",
      " |-- LBP5: float (nullable = true)\n",
      " |-- LBP6: float (nullable = true)\n",
      " |-- LBP7: float (nullable = true)\n",
      " |-- LBP8: float (nullable = true)\n",
      " |-- LBP9: float (nullable = true)\n",
      "\n"
     ]
    }
   ],
   "source": [
    "# SPARK: Read Feature CSV file and make DataFrame\n",
    "import pyspark.sql.types as typ\n",
    "res_lbp = spark.read.csv('Res_LBP.csv',header=True)\n",
    "labels =[\n",
    "    ('ind',typ.IntegerType()), # index\n",
    "    ('Animal',typ.StringType()), # Class of animals\n",
    "    ('File',typ.StringType()), # filename\n",
    "    ('ID',typ.StringType()), # picture ID\n",
    "    ('LBP0',typ.FloatType()), # LBP features\n",
    "    ('LBP1',typ.FloatType()),\n",
    "    ('LBP2',typ.FloatType()),\n",
    "    ('LBP3',typ.FloatType()),\n",
    "    ('LBP4',typ.FloatType()),\n",
    "    ('LBP5',typ.FloatType()),\n",
    "    ('LBP6',typ.FloatType()),\n",
    "    ('LBP7',typ.FloatType()),\n",
    "    ('LBP8',typ.FloatType()),\n",
    "    ('LBP9',typ.FloatType()),\n",
    "]\n",
    "# Define Schema\n",
    "schema = typ.StructType([\n",
    "    typ.StructField(e[0],e[1],False) for e in labels\n",
    "])\n",
    "\n",
    "# CSV read\n",
    "res_lbp = spark.read.csv('Res_LBP.csv',header=True,schema=schema)\n",
    "# Select Target Animal\n",
    "target_lbp = res_lbp.where(res_lbp.Animal.isin(target_animal))\n",
    "target_lbp.printSchema()"
   ]
  },
  {
   "cell_type": "code",
   "execution_count": 41,
   "metadata": {
    "scrolled": true
   },
   "outputs": [
    {
     "data": {
      "text/plain": [
       "Row(ind=12500, Animal='monkey', File='pic1000_8472370_B_store.jpg', ID='pic1000', LBP0=0.0281333327293396, LBP1=0.03457777947187424, LBP2=0.011955556459724903, LBP3=0.047066666185855865, LBP4=0.09573332965373993, LBP5=0.169155552983284, LBP6=0.04497777670621872, LBP7=0.07631111145019531, LBP8=0.3548888862133026, LBP9=0.1371999979019165)"
      ]
     },
     "execution_count": 41,
     "metadata": {},
     "output_type": "execute_result"
    }
   ],
   "source": [
    "target_lbp.head() #show 1st row"
   ]
  },
  {
   "cell_type": "code",
   "execution_count": 42,
   "metadata": {},
   "outputs": [
    {
     "name": "stdout",
     "output_type": "stream",
     "text": [
      "+-----+------+--------------------+-------+-----------+-----------+-----------+-----------+-----------+-----------+-----------+-----------+-----------+----------+\n",
      "|  ind|Animal|                File|     ID|       LBP0|       LBP1|       LBP2|       LBP3|       LBP4|       LBP5|       LBP6|       LBP7|       LBP8|      LBP9|\n",
      "+-----+------+--------------------+-------+-----------+-----------+-----------+-----------+-----------+-----------+-----------+-----------+-----------+----------+\n",
      "|12500|monkey|pic1000_8472370_B...|pic1000|0.028133333| 0.03457778|0.011955556|0.047066666| 0.09573333| 0.16915555|0.044977777| 0.07631111|  0.3548889|    0.1372|\n",
      "|12501|monkey|pic1001_8472385_B...|pic1001|0.013377778|     0.0216|0.017111111|0.053644445|0.116177775| 0.14786667|0.025066666|0.033822224| 0.49857777|0.07275555|\n",
      "|12502|monkey|pic1002_8472390_B...|pic1002|     0.0272|0.042933334|0.015333333|     0.0416| 0.08764444|0.120355554|0.032444444|0.060222223| 0.44226667|      0.13|\n",
      "|12503|monkey|pic1003_8472407_F...|pic1003|0.047244444|0.043555558|0.014533333|0.038533334| 0.06911111|     0.2348|0.033244442| 0.06888889| 0.28973332|0.16035555|\n",
      "|12504|monkey|pic1004_8472423_F...|pic1004| 0.06662222| 0.09706667|     0.0196|0.057822224| 0.10435556| 0.10693333|0.033955555|0.088133335| 0.18128888|0.24422222|\n",
      "|12505|monkey|pic1005_8472428_F...|pic1005|      0.048| 0.04853333|0.014577778| 0.03768889|      0.052| 0.16453333|     0.0368| 0.07186667| 0.35444444|0.17155555|\n",
      "|12506|monkey|pic1006_8472449_F...|pic1006|0.015244444|0.028133333| 0.01648889| 0.03648889| 0.08968889| 0.11542222|0.033066668|     0.0524| 0.49675557|0.11631111|\n",
      "|12507|monkey|pic1007_8472468_F...|pic1007|0.007111111| 0.01991111|0.005288889|0.011555556|0.014844444|      0.116|0.012577778|0.033866666| 0.61626667|0.16257778|\n",
      "|12508|monkey|pic1008_8472896_F...|pic1008|0.012666667|0.025644444|0.007288889|     0.0176|0.026933333|     0.1292|     0.0176|0.039866667| 0.55817777|0.16502222|\n",
      "|12509|monkey|pic1009_8473033_F...|pic1009|0.011422222|0.023022221|0.006133333|0.017111111|0.022222223| 0.14306666|0.016622221|0.033733334|  0.5633778|0.16328889|\n",
      "|12510|monkey| pic100_msample2.gif| pic100|0.033172302|0.050080515|0.024449812| 0.03067633|0.028207192| 0.11988728| 0.03459474| 0.06320451| 0.26038647|0.35534084|\n",
      "|12511|monkey|pic1010_8473039_F...|pic1010| 0.05008889|0.061022222|0.033466667|     0.0604| 0.11884444| 0.14293334|0.049066667| 0.07253333| 0.25342223|0.15822223|\n",
      "|12512|monkey|pic1011_8473052_F...|pic1011|0.043022223| 0.05293333|0.025911111|0.055244446| 0.10137778|     0.1316| 0.03248889| 0.06457778|  0.3334222|0.15942222|\n",
      "|12513|monkey|   pic1012_gifts.jpg|pic1012| 0.06337967|0.077296965|0.030090043| 0.05371099| 0.07208672| 0.12420666| 0.04381502| 0.08229741| 0.22484483|0.22827171|\n",
      "|12514|monkey|pic1013_monkeats.jpg|pic1013|0.118219376| 0.10062642| 0.05511129| 0.05757697|0.093229376| 0.06084233| 0.05137945| 0.09269626|  0.1020925|0.26822606|\n",
      "|12515|monkey|pic1014_primatest...|pic1014|0.058580644| 0.07993548|0.044258066| 0.08709677| 0.13903226| 0.12774193|0.048709676| 0.07696774| 0.14225806|0.19541936|\n",
      "|12516|monkey|pic1015_apr-03-23...|pic1015|0.064307116|0.082378276| 0.06715356| 0.09696629| 0.14312734| 0.09956929| 0.06440075| 0.08138577| 0.12593633|0.17477529|\n",
      "|12517|monkey|pic1016_apr-03-23...|pic1016| 0.06265212|0.076327726| 0.07063685| 0.10933478| 0.18476948| 0.11157611|  0.0668371|0.071267225|0.085030384|0.16156822|\n",
      "|12518|monkey|pic1017_apr-03-24...|pic1017| 0.10778903| 0.10347857| 0.05603602| 0.06218598|0.091672845|0.068500675|0.052933585| 0.09447327|0.102380365|0.26054966|\n",
      "|12519|monkey|pic1018_apr-03-24...|pic1018| 0.08270534| 0.08547032|0.060260233|0.094957985| 0.15603144| 0.08736785| 0.05811873|  0.0840065| 0.08595826|0.20512334|\n",
      "+-----+------+--------------------+-------+-----------+-----------+-----------+-----------+-----------+-----------+-----------+-----------+-----------+----------+\n",
      "only showing top 20 rows\n",
      "\n"
     ]
    }
   ],
   "source": [
    "target_lbp.show() # show 20 row"
   ]
  },
  {
   "cell_type": "markdown",
   "metadata": {},
   "source": [
    "### 4. Py.SP: Make Ground Truth"
   ]
  },
  {
   "cell_type": "code",
   "execution_count": 14,
   "metadata": {},
   "outputs": [
    {
     "data": {
      "text/html": [
       "<div>\n",
       "<style scoped>\n",
       "    .dataframe tbody tr th:only-of-type {\n",
       "        vertical-align: middle;\n",
       "    }\n",
       "\n",
       "    .dataframe tbody tr th {\n",
       "        vertical-align: top;\n",
       "    }\n",
       "\n",
       "    .dataframe thead th {\n",
       "        text-align: right;\n",
       "    }\n",
       "</style>\n",
       "<table border=\"1\" class=\"dataframe\">\n",
       "  <thead>\n",
       "    <tr style=\"text-align: right;\">\n",
       "      <th></th>\n",
       "      <th>name</th>\n",
       "      <th>truth</th>\n",
       "      <th>ID</th>\n",
       "    </tr>\n",
       "  </thead>\n",
       "  <tbody>\n",
       "    <tr>\n",
       "      <th>0</th>\n",
       "      <td>monkey/pic1_monkey_white2.gif</td>\n",
       "      <td>0</td>\n",
       "      <td>pic1</td>\n",
       "    </tr>\n",
       "    <tr>\n",
       "      <th>1</th>\n",
       "      <td>monkey/pic2_logotrans200.gif</td>\n",
       "      <td>0</td>\n",
       "      <td>pic2</td>\n",
       "    </tr>\n",
       "    <tr>\n",
       "      <th>2</th>\n",
       "      <td>monkey/pic3_DesignSurvey.gif</td>\n",
       "      <td>0</td>\n",
       "      <td>pic3</td>\n",
       "    </tr>\n",
       "    <tr>\n",
       "      <th>3</th>\n",
       "      <td>monkey/pic4_Popup.gif</td>\n",
       "      <td>0</td>\n",
       "      <td>pic4</td>\n",
       "    </tr>\n",
       "    <tr>\n",
       "      <th>4</th>\n",
       "      <td>monkey/pic5_Results.gif</td>\n",
       "      <td>0</td>\n",
       "      <td>pic5</td>\n",
       "    </tr>\n",
       "  </tbody>\n",
       "</table>\n",
       "</div>"
      ],
      "text/plain": [
       "                            name  truth    ID\n",
       "0  monkey/pic1_monkey_white2.gif      0  pic1\n",
       "1   monkey/pic2_logotrans200.gif      0  pic2\n",
       "2   monkey/pic3_DesignSurvey.gif      0  pic3\n",
       "3          monkey/pic4_Popup.gif      0  pic4\n",
       "4        monkey/pic5_Results.gif      0  pic5"
      ]
     },
     "execution_count": 14,
     "metadata": {},
     "output_type": "execute_result"
    }
   ],
   "source": [
    "# Python: Read .mat file\n",
    "import scipy.io as sio # Library for .mat files\n",
    "import re # Library for Regular Expression\n",
    "file_path = 'D:\\\\Data\\\\AnimalsOnTheWeb\\\\' + target_animal + '\\\\'\n",
    "file = 'animaldata_'+ target_animal + '.mat'\n",
    "# Read from .mat files\n",
    "data_read = sio.loadmat(os.path.join(file_path,file))\n",
    "\n",
    "# truth table (1 or 0)\n",
    "truth_tbl = list(data_read['gt'][0]) \n",
    "\n",
    "# get picture ID and save it to 'name' column\n",
    "truth_nameread = list(data_read['imgnames'][0])\n",
    "truth_name = [t[0] for t in truth_nameread]\n",
    "truth_lists = pd.DataFrame({'name': truth_name,'truth': truth_tbl})\n",
    "truth_lists['name'] = truth_lists['name'].astype('str')\n",
    "re_picid = re.compile('pic\\d+')\n",
    "truth_lists['ID'] = [re_picid.findall(r)[0] for r in truth_lists['name']]\n",
    "truth_lists.head()"
   ]
  },
  {
   "cell_type": "code",
   "execution_count": 17,
   "metadata": {},
   "outputs": [
    {
     "name": "stdout",
     "output_type": "stream",
     "text": [
      "root\n",
      " |-- name: string (nullable = true)\n",
      " |-- truth: long (nullable = true)\n",
      " |-- ID: string (nullable = true)\n",
      "\n"
     ]
    }
   ],
   "source": [
    "# SPARK: convert pandas DF to Spark DF\n",
    "df_truth = spark.createDataFrame(truth_lists)\n",
    "df_truth.printSchema()"
   ]
  },
  {
   "cell_type": "code",
   "execution_count": 18,
   "metadata": {},
   "outputs": [
    {
     "name": "stdout",
     "output_type": "stream",
     "text": [
      "root\n",
      " |-- name: string (nullable = true)\n",
      " |-- truth: long (nullable = true)\n",
      " |-- ID: string (nullable = true)\n",
      " |-- truth_int: integer (nullable = true)\n",
      "\n"
     ]
    }
   ],
   "source": [
    "# Cast Truth column to integer\n",
    "df_truth = df_truth.withColumn('truth_int',df_truth['truth'].cast(typ.IntegerType()))\n",
    "df_truth.printSchema()"
   ]
  },
  {
   "cell_type": "code",
   "execution_count": 19,
   "metadata": {},
   "outputs": [
    {
     "name": "stdout",
     "output_type": "stream",
     "text": [
      "+--------------------+-----+----+---------+\n",
      "|                name|truth|  ID|truth_int|\n",
      "+--------------------+-----+----+---------+\n",
      "|monkey/pic1_monke...|    0|pic1|        0|\n",
      "|monkey/pic2_logot...|    0|pic2|        0|\n",
      "|monkey/pic3_Desig...|    0|pic3|        0|\n",
      "|monkey/pic4_Popup...|    0|pic4|        0|\n",
      "|monkey/pic5_Resul...|    0|pic5|        0|\n",
      "+--------------------+-----+----+---------+\n",
      "only showing top 5 rows\n",
      "\n"
     ]
    }
   ],
   "source": [
    "#show 5 row\n",
    "df_truth.show(5)"
   ]
  },
  {
   "cell_type": "markdown",
   "metadata": {},
   "source": [
    "### 5. SP: join  features and Grd Truth dataframe"
   ]
  },
  {
   "cell_type": "code",
   "execution_count": 21,
   "metadata": {},
   "outputs": [
    {
     "data": {
      "text/plain": [
       "[Row(ID='pic1', name='monkey/pic1_monkey_white2.gif', truth=0, truth_int=0, ind=13282, Animal='monkey', File='pic1_monkey_white2.gif', LBP0=0.007415606174618006, LBP1=0.018317654728889465, LBP2=0.011344769969582558, LBP3=0.024017708376049995, LBP4=0.08184836804866791, LBP5=0.1346430480480194, LBP6=0.025013834238052368, LBP7=0.044714998453855515, LBP8=0.5885445475578308, LBP9=0.0641394555568695),\n",
       " Row(ID='pic2', name='monkey/pic2_logotrans200.gif', truth=0, truth_int=0, ind=13393, Animal='monkey', File='pic2_logotrans200.gif', LBP0=0.0019064750522375107, LBP1=0.012661870568990707, LBP2=0.00949640292674303, LBP3=0.02928057685494423, LBP4=0.062266185879707336, LBP5=0.11478417366743088, LBP6=0.026978416368365288, LBP7=0.046726617962121964, LBP8=0.6552157998085022, LBP9=0.040683452039957047),\n",
       " Row(ID='pic3', name='monkey/pic3_DesignSurvey.gif', truth=0, truth_int=0, ind=13504, Animal='monkey', File='pic3_DesignSurvey.gif', LBP0=0.012463700957596302, LBP1=0.01831400953233242, LBP2=0.004112172871828079, LBP3=0.007864002138376236, LBP4=0.007567246910184622, LBP5=0.16688217222690582, LBP6=0.011573435738682747, LBP7=0.026941094547510147, LBP8=0.5995506048202515, LBP9=0.1447315365076065),\n",
       " Row(ID='pic4', name='monkey/pic4_Popup.gif', truth=0, truth_int=0, ind=13615, Animal='monkey', File='pic4_Popup.gif', LBP0=0.013060036115348339, LBP1=0.026299282908439636, LBP2=0.0015680999495089054, LBP3=0.010013440623879433, LBP4=0.014672938734292984, LBP5=0.1564292162656784, LBP6=0.021572580561041832, LBP7=0.04475806653499603, LBP8=0.5680107474327087, LBP9=0.14361558854579926),\n",
       " Row(ID='pic5', name='monkey/pic5_Results.gif', truth=0, truth_int=0, ind=13726, Animal='monkey', File='pic5_Results.gif', LBP0=0.01258152723312378, LBP1=0.01734091341495514, LBP2=0.00149832502938807, LBP3=0.021108761429786682, LBP4=0.011171338148415089, LBP5=0.2381896674633026, LBP6=0.02150537632405758, LBP7=0.04550061747431755, LBP8=0.3698660433292389, LBP9=0.2612374424934387)]"
      ]
     },
     "execution_count": 21,
     "metadata": {},
     "output_type": "execute_result"
    }
   ],
   "source": [
    "df_ml = df_truth.join(target_lbp,on='ID')\n",
    "df_ml.head(5)"
   ]
  },
  {
   "cell_type": "code",
   "execution_count": 22,
   "metadata": {},
   "outputs": [
    {
     "name": "stdout",
     "output_type": "stream",
     "text": [
      "+---------+-----------+-----------+-----------+-----------+-----------+----------+-----------+-----------+----------+-----------+\n",
      "|truth_int|       LBP0|       LBP1|       LBP2|       LBP3|       LBP4|      LBP5|       LBP6|       LBP7|      LBP8|       LBP9|\n",
      "+---------+-----------+-----------+-----------+-----------+-----------+----------+-----------+-----------+----------+-----------+\n",
      "|        0|0.007415606|0.018317655| 0.01134477|0.024017708| 0.08184837|0.13464305|0.025013834|   0.044715|0.58854455|0.064139456|\n",
      "|        0|0.001906475|0.012661871|0.009496403|0.029280577|0.062266186|0.11478417|0.026978416|0.046726618| 0.6552158|0.040683452|\n",
      "|        0|0.012463701| 0.01831401|0.004112173|0.007864002|0.007567247|0.16688217|0.011573436|0.026941095| 0.5995506| 0.14473154|\n",
      "|        0|0.013060036|0.026299283|  0.0015681|0.010013441|0.014672939|0.15642922| 0.02157258|0.044758067|0.56801075| 0.14361559|\n",
      "|        0|0.012581527|0.017340913|0.001498325|0.021108761|0.011171338|0.23818967|0.021505376|0.045500617|0.36986604| 0.26123744|\n",
      "+---------+-----------+-----------+-----------+-----------+-----------+----------+-----------+-----------+----------+-----------+\n",
      "only showing top 5 rows\n",
      "\n"
     ]
    }
   ],
   "source": [
    "# Select columns from dataframe\n",
    "df_ml1 = df_ml.select([c for c in df_ml.columns if c in ['truth_int','LBP0','LBP1','LBP2','LBP3','LBP4','LBP5','LBP6','LBP7','LBP8','LBP9']])\n",
    "df_ml1.show(5)"
   ]
  },
  {
   "cell_type": "markdown",
   "metadata": {},
   "source": [
    "### 6. SP: Machine Learning"
   ]
  },
  {
   "cell_type": "markdown",
   "metadata": {},
   "source": [
    "##### 6.1. Feature Creator"
   ]
  },
  {
   "cell_type": "code",
   "execution_count": 24,
   "metadata": {},
   "outputs": [],
   "source": [
    "# make Feature column\n",
    "import pyspark.ml.feature as ft\n",
    "labels_feat =[\n",
    "    ('LBP0',typ.FloatType()),\n",
    "    ('LBP1',typ.FloatType()),\n",
    "    ('LBP2',typ.FloatType()),\n",
    "    ('LBP3',typ.FloatType()),\n",
    "    ('LBP4',typ.FloatType()),\n",
    "    ('LBP5',typ.FloatType()),\n",
    "    ('LBP6',typ.FloatType()),\n",
    "    ('LBP7',typ.FloatType()),\n",
    "    ('LBP8',typ.FloatType()),\n",
    "    ('LBP9',typ.FloatType()),\n",
    "]\n",
    "featuresCreator = ft.VectorAssembler(\n",
    "    inputCols=[col[0] for col in labels_feat[0:]],outputCol='features'\n",
    ")"
   ]
  },
  {
   "cell_type": "markdown",
   "metadata": {},
   "source": [
    "##### 6.2. Make Classification Model"
   ]
  },
  {
   "cell_type": "code",
   "execution_count": 25,
   "metadata": {},
   "outputs": [],
   "source": [
    "# make model\n",
    "import pyspark.ml.classification as cl\n",
    "logistic = cl.LogisticRegression(maxIter=10,regParam=0.01,labelCol='truth_int')"
   ]
  },
  {
   "cell_type": "markdown",
   "metadata": {},
   "source": [
    "##### 6.3. Pipeline"
   ]
  },
  {
   "cell_type": "code",
   "execution_count": 26,
   "metadata": {},
   "outputs": [],
   "source": [
    "# make pipeline\n",
    "from pyspark.ml import Pipeline\n",
    "pipeline = Pipeline(stages=[featuresCreator,logistic])"
   ]
  },
  {
   "cell_type": "code",
   "execution_count": 27,
   "metadata": {},
   "outputs": [
    {
     "data": {
      "text/plain": [
       "[Row(truth_int=0, LBP0=0.0, LBP1=0.0, LBP2=0.0, LBP3=0.0, LBP4=0.0, LBP5=0.0, LBP6=0.0, LBP7=0.0, LBP8=0.0, LBP9=0.0, features=SparseVector(10, {}), rawPrediction=DenseVector([2.4983, -2.4983]), probability=DenseVector([0.924, 0.076]), prediction=0.0)]"
      ]
     },
     "execution_count": 27,
     "metadata": {},
     "output_type": "execute_result"
    }
   ],
   "source": [
    "# Separate training and test data\n",
    "lbp_train, lbp_test = df_ml1.randomSplit([0.7,0.3],seed=100)\n",
    "# Train model\n",
    "model = pipeline.fit(lbp_train)\n",
    "# Test\n",
    "test_model = model.transform(lbp_test) # get results on test dataset\n",
    "test_model.take(1)"
   ]
  },
  {
   "cell_type": "markdown",
   "metadata": {},
   "source": [
    "### 7. SP: Evaluation"
   ]
  },
  {
   "cell_type": "code",
   "execution_count": 28,
   "metadata": {
    "scrolled": true
   },
   "outputs": [
    {
     "name": "stdout",
     "output_type": "stream",
     "text": [
      "Area under ROC curve: 0.8494523973784068\n"
     ]
    }
   ],
   "source": [
    "# Evaluation\n",
    "import pyspark.ml.evaluation as ev\n",
    "evaluator = ev.BinaryClassificationEvaluator(rawPredictionCol='probability',labelCol='truth_int')\n",
    "print('Area under ROC curve: ' + str(evaluator.evaluate(test_model, {evaluator.metricName:'areaUnderROC'})))"
   ]
  },
  {
   "cell_type": "markdown",
   "metadata": {},
   "source": [
    "### 8. SP: K-means Clustering"
   ]
  },
  {
   "cell_type": "code",
   "execution_count": 29,
   "metadata": {},
   "outputs": [],
   "source": [
    "# K-Means clustering"
   ]
  },
  {
   "cell_type": "code",
   "execution_count": 30,
   "metadata": {},
   "outputs": [],
   "source": [
    "import pyspark.ml.clustering as clus\n",
    "kmeans = clus.KMeans(k=10, featuresCol='features')"
   ]
  },
  {
   "cell_type": "code",
   "execution_count": 31,
   "metadata": {},
   "outputs": [],
   "source": [
    "# make pipeline\n",
    "pipeline = Pipeline(stages=[featuresCreator,kmeans])"
   ]
  },
  {
   "cell_type": "code",
   "execution_count": 38,
   "metadata": {},
   "outputs": [
    {
     "name": "stdout",
     "output_type": "stream",
     "text": [
      "+-----------+-----------+-----------+-----------+-----------+-----------+-----------+-----------+----------+-----------+\n",
      "|       LBP0|       LBP1|       LBP2|       LBP3|       LBP4|       LBP5|       LBP6|       LBP7|      LBP8|       LBP9|\n",
      "+-----------+-----------+-----------+-----------+-----------+-----------+-----------+-----------+----------+-----------+\n",
      "| 0.05400621| 0.09041149|0.024541926| 0.03751553|0.050667703|0.060962733|0.033190995| 0.09750777|0.19192547|  0.3592702|\n",
      "|0.110507585|0.095817834|0.031439807|0.032135498| 0.03360715|0.071495466|0.038075615| 0.08607818|0.22409226|  0.2767506|\n",
      "| 0.04896794|0.049928635| 0.02091568|0.035518225| 0.04894049|0.103672594|0.030769654|  0.0590964|0.45443565| 0.14775471|\n",
      "|   0.012288|    0.02336|   0.011776|   0.029568|    0.04608|   0.121856|   0.031424|   0.062464|  0.469376|   0.191808|\n",
      "|0.004452055|0.018949771|0.007191781|0.040810503| 0.07351598| 0.18710046|0.022488585|0.028253425|0.54423517|0.073002286|\n",
      "+-----------+-----------+-----------+-----------+-----------+-----------+-----------+-----------+----------+-----------+\n",
      "only showing top 5 rows\n",
      "\n"
     ]
    }
   ],
   "source": [
    "# Get All class data\n",
    "df_km = res_lbp.select([c for c in df_ml.columns if c in ['LBP0','LBP1','LBP2','LBP3','LBP4','LBP5','LBP6','LBP7','LBP8','LBP9']])\n",
    "df_km.show(5)"
   ]
  },
  {
   "cell_type": "code",
   "execution_count": 33,
   "metadata": {},
   "outputs": [],
   "source": [
    "# Separate training and test data\n",
    "km_train, km_test = df_km.randomSplit([0.7,0.3],seed=100)"
   ]
  },
  {
   "cell_type": "code",
   "execution_count": 34,
   "metadata": {},
   "outputs": [],
   "source": [
    "model_km = pipeline.fit(km_train)\n",
    "test_km = model_km.transform(km_test)"
   ]
  },
  {
   "cell_type": "code",
   "execution_count": 35,
   "metadata": {},
   "outputs": [
    {
     "data": {
      "text/plain": [
       "[Row(prediction=1, avg(LBP1)=0.0, avg(LBP0)=0.0, count(1)=92),\n",
       " Row(prediction=6, avg(LBP1)=0.08458137746277936, avg(LBP0)=0.0707300516842136, count(1)=826),\n",
       " Row(prediction=3, avg(LBP1)=0.04393933544139808, avg(LBP0)=0.03294809934934775, count(1)=483),\n",
       " Row(prediction=5, avg(LBP1)=0.00845794432736707, avg(LBP0)=0.005356709053097502, count(1)=316),\n",
       " Row(prediction=9, avg(LBP1)=0.06777245327148859, avg(LBP0)=0.05411297094145017, count(1)=205),\n",
       " Row(prediction=4, avg(LBP1)=0.09728791872609635, avg(LBP0)=0.09108109149634162, count(1)=882),\n",
       " Row(prediction=8, avg(LBP1)=0.05811804454805779, avg(LBP0)=0.04432795576887719, count(1)=580),\n",
       " Row(prediction=7, avg(LBP1)=0.06424826767611626, avg(LBP0)=0.048250739314236644, count(1)=389),\n",
       " Row(prediction=2, avg(LBP1)=0.10460108523554307, avg(LBP0)=0.10597452507736473, count(1)=329),\n",
       " Row(prediction=0, avg(LBP1)=0.02263585915924736, avg(LBP0)=0.015545153876867784, count(1)=431)]"
      ]
     },
     "execution_count": 35,
     "metadata": {},
     "output_type": "execute_result"
    }
   ],
   "source": [
    "# Show Results\n",
    "test_km.groupBy('prediction').agg({'*':'count','LBP0':'avg','LBP1':'avg'}).collect()"
   ]
  },
  {
   "cell_type": "code",
   "execution_count": null,
   "metadata": {},
   "outputs": [],
   "source": []
  }
 ],
 "metadata": {
  "kernelspec": {
   "display_name": "Python 3",
   "language": "python",
   "name": "python3"
  },
  "language_info": {
   "codemirror_mode": {
    "name": "ipython",
    "version": 3
   },
   "file_extension": ".py",
   "mimetype": "text/x-python",
   "name": "python",
   "nbconvert_exporter": "python",
   "pygments_lexer": "ipython3",
   "version": "3.6.5"
  }
 },
 "nbformat": 4,
 "nbformat_minor": 2
}
