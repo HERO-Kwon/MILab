{
 "cells": [
  {
   "cell_type": "code",
   "execution_count": 1,
   "metadata": {},
   "outputs": [],
   "source": [
    "import findspark\n",
    "findspark.init()\n",
    "import pyspark\n",
    "import random\n",
    "import os"
   ]
  },
  {
   "cell_type": "code",
   "execution_count": 2,
   "metadata": {},
   "outputs": [],
   "source": [
    "from pyspark.context import SparkContext\n",
    "from pyspark.sql.session import SparkSession\n",
    "sc = SparkContext()\n",
    "spark = SparkSession(sc)"
   ]
  },
  {
   "cell_type": "code",
   "execution_count": 3,
   "metadata": {},
   "outputs": [],
   "source": [
    "img_dir = \"D:\\\\Data\\\\AnimalsOnTheWeb\\\\alligator\""
   ]
  },
  {
   "cell_type": "code",
   "execution_count": 4,
   "metadata": {},
   "outputs": [],
   "source": [
    "imgs = spark.read.format(\"image\").load(img_dir)"
   ]
  },
  {
   "cell_type": "code",
   "execution_count": 5,
   "metadata": {},
   "outputs": [
    {
     "name": "stdout",
     "output_type": "stream",
     "text": [
      "+--------------------+\n",
      "|               image|\n",
      "+--------------------+\n",
      "|[file:///D:/Data/...|\n",
      "|[file:///D:/Data/...|\n",
      "|[file:///D:/Data/...|\n",
      "|[file:///D:/Data/...|\n",
      "|[file:///D:/Data/...|\n",
      "|[file:///D:/Data/...|\n",
      "|[file:///D:/Data/...|\n",
      "|[file:///D:/Data/...|\n",
      "|[file:///D:/Data/...|\n",
      "|[file:///D:/Data/...|\n",
      "|[file:///D:/Data/...|\n",
      "|[file:///D:/Data/...|\n",
      "|[file:///D:/Data/...|\n",
      "|[file:///D:/Data/...|\n",
      "|[file:///D:/Data/...|\n",
      "|[file:///D:/Data/...|\n",
      "|[file:///D:/Data/...|\n",
      "|[file:///D:/Data/...|\n",
      "|[file:///D:/Data/...|\n",
      "|[file:///D:/Data/...|\n",
      "+--------------------+\n",
      "only showing top 20 rows\n",
      "\n"
     ]
    }
   ],
   "source": [
    "imgs.show()"
   ]
  },
  {
   "cell_type": "code",
   "execution_count": 6,
   "metadata": {
    "scrolled": true
   },
   "outputs": [
    {
     "name": "stdout",
     "output_type": "stream",
     "text": [
      "root\n",
      " |-- image: struct (nullable = true)\n",
      " |    |-- origin: string (nullable = true)\n",
      " |    |-- height: integer (nullable = true)\n",
      " |    |-- width: integer (nullable = true)\n",
      " |    |-- nChannels: integer (nullable = true)\n",
      " |    |-- mode: integer (nullable = true)\n",
      " |    |-- data: binary (nullable = true)\n",
      "\n"
     ]
    }
   ],
   "source": [
    "imgs.printSchema()"
   ]
  },
  {
   "cell_type": "code",
   "execution_count": 7,
   "metadata": {},
   "outputs": [],
   "source": [
    "import pyspark.sql.types as typ"
   ]
  },
  {
   "cell_type": "code",
   "execution_count": 8,
   "metadata": {},
   "outputs": [],
   "source": [
    "res_lbp = spark.read.csv('Res_LBP.csv',header=True)\n",
    "labels =[\n",
    "    ('ind',typ.IntegerType()),\n",
    "    ('Animal',typ.StringType()),\n",
    "    ('File',typ.StringType()),\n",
    "    ('ID',typ.StringType()),\n",
    "    ('LBP0',typ.FloatType()),\n",
    "    ('LBP1',typ.FloatType()),\n",
    "    ('LBP2',typ.FloatType()),\n",
    "    ('LBP3',typ.FloatType()),\n",
    "    ('LBP4',typ.FloatType()),\n",
    "    ('LBP5',typ.FloatType()),\n",
    "    ('LBP6',typ.FloatType()),\n",
    "    ('LBP7',typ.FloatType()),\n",
    "    ('LBP8',typ.FloatType()),\n",
    "    ('LBP9',typ.FloatType()),\n",
    "]\n",
    "schema = typ.StructType([\n",
    "    typ.StructField(e[0],e[1],False) for e in labels\n",
    "])"
   ]
  },
  {
   "cell_type": "code",
   "execution_count": 9,
   "metadata": {
    "scrolled": false
   },
   "outputs": [
    {
     "name": "stdout",
     "output_type": "stream",
     "text": [
      "root\n",
      " |-- ind: integer (nullable = true)\n",
      " |-- Animal: string (nullable = true)\n",
      " |-- File: string (nullable = true)\n",
      " |-- ID: string (nullable = true)\n",
      " |-- LBP0: float (nullable = true)\n",
      " |-- LBP1: float (nullable = true)\n",
      " |-- LBP2: float (nullable = true)\n",
      " |-- LBP3: float (nullable = true)\n",
      " |-- LBP4: float (nullable = true)\n",
      " |-- LBP5: float (nullable = true)\n",
      " |-- LBP6: float (nullable = true)\n",
      " |-- LBP7: float (nullable = true)\n",
      " |-- LBP8: float (nullable = true)\n",
      " |-- LBP9: float (nullable = true)\n",
      "\n"
     ]
    }
   ],
   "source": [
    "res_lbp = spark.read.csv('Res_LBP.csv',header=True,schema=schema)\n",
    "res_lbp.printSchema()"
   ]
  },
  {
   "cell_type": "code",
   "execution_count": 10,
   "metadata": {},
   "outputs": [],
   "source": [
    "# include only records with these scores in list l\n",
    "res_lbp = res_lbp.where(res_lbp.Animal.isin('alligator'))\n",
    "# expected: (1,10), (1,20), (3,18), (3,18), (3,18)"
   ]
  },
  {
   "cell_type": "code",
   "execution_count": 11,
   "metadata": {},
   "outputs": [
    {
     "data": {
      "text/plain": [
       "1445"
      ]
     },
     "execution_count": 11,
     "metadata": {},
     "output_type": "execute_result"
    }
   ],
   "source": [
    "res_lbp.count()"
   ]
  },
  {
   "cell_type": "code",
   "execution_count": 94,
   "metadata": {},
   "outputs": [],
   "source": [
    "import scipy.io as sio\n",
    "file_path = 'D:\\\\Data\\\\AnimalsOnTheWeb\\\\alligator\\\\'\n",
    "file = 'animaldata_alligator.mat'\n",
    "data_read = sio.loadmat(os.path.join(file_path,file))"
   ]
  },
  {
   "cell_type": "code",
   "execution_count": 95,
   "metadata": {},
   "outputs": [],
   "source": [
    "import numpy as np\n",
    "import pandas as pd\n",
    "import re"
   ]
  },
  {
   "cell_type": "code",
   "execution_count": 96,
   "metadata": {},
   "outputs": [],
   "source": [
    "#aa = truth_name"
   ]
  },
  {
   "cell_type": "code",
   "execution_count": 97,
   "metadata": {
    "scrolled": true
   },
   "outputs": [],
   "source": [
    "truth_tbl = list(data_read['gt'][0])\n",
    "truth_nameread = list(data_read['imgnames'][0])\n",
    "truth_name = [t[0] for t in truth_nameread]"
   ]
  },
  {
   "cell_type": "code",
   "execution_count": 98,
   "metadata": {},
   "outputs": [],
   "source": [
    "truth_lists = pd.DataFrame({'name': truth_name,'truth': truth_tbl})\n",
    "#truth_lists = pd.DataFrame({'truth': truth_tbl})\n",
    "truth_lists['name'] = truth_lists['name'].astype('str')"
   ]
  },
  {
   "cell_type": "code",
   "execution_count": 99,
   "metadata": {},
   "outputs": [],
   "source": [
    "re_picid = re.compile('pic\\d+')\n",
    "aa = re_picid.findall(truth_lists['name'][0])\n",
    "truth_lists['ID'] = [re_picid.findall(r)[0] for r in truth_lists['name']]"
   ]
  },
  {
   "cell_type": "code",
   "execution_count": 100,
   "metadata": {},
   "outputs": [
    {
     "data": {
      "text/html": [
       "<div>\n",
       "<style scoped>\n",
       "    .dataframe tbody tr th:only-of-type {\n",
       "        vertical-align: middle;\n",
       "    }\n",
       "\n",
       "    .dataframe tbody tr th {\n",
       "        vertical-align: top;\n",
       "    }\n",
       "\n",
       "    .dataframe thead th {\n",
       "        text-align: right;\n",
       "    }\n",
       "</style>\n",
       "<table border=\"1\" class=\"dataframe\">\n",
       "  <thead>\n",
       "    <tr style=\"text-align: right;\">\n",
       "      <th></th>\n",
       "      <th>name</th>\n",
       "      <th>truth</th>\n",
       "      <th>ID</th>\n",
       "    </tr>\n",
       "  </thead>\n",
       "  <tbody>\n",
       "    <tr>\n",
       "      <th>0</th>\n",
       "      <td>alligator/pic1_low_left.jpg</td>\n",
       "      <td>0</td>\n",
       "      <td>pic1</td>\n",
       "    </tr>\n",
       "    <tr>\n",
       "      <th>1</th>\n",
       "      <td>alligator/pic2_low_right.jpg</td>\n",
       "      <td>0</td>\n",
       "      <td>pic2</td>\n",
       "    </tr>\n",
       "    <tr>\n",
       "      <th>2</th>\n",
       "      <td>alligator/pic3_csm-amis.gif</td>\n",
       "      <td>0</td>\n",
       "      <td>pic3</td>\n",
       "    </tr>\n",
       "    <tr>\n",
       "      <th>3</th>\n",
       "      <td>alligator/pic4_csm-asin.gif</td>\n",
       "      <td>0</td>\n",
       "      <td>pic4</td>\n",
       "    </tr>\n",
       "    <tr>\n",
       "      <th>4</th>\n",
       "      <td>alligator/pic5_greenal.gif</td>\n",
       "      <td>0</td>\n",
       "      <td>pic5</td>\n",
       "    </tr>\n",
       "  </tbody>\n",
       "</table>\n",
       "</div>"
      ],
      "text/plain": [
       "                           name  truth    ID\n",
       "0   alligator/pic1_low_left.jpg      0  pic1\n",
       "1  alligator/pic2_low_right.jpg      0  pic2\n",
       "2   alligator/pic3_csm-amis.gif      0  pic3\n",
       "3   alligator/pic4_csm-asin.gif      0  pic4\n",
       "4    alligator/pic5_greenal.gif      0  pic5"
      ]
     },
     "execution_count": 100,
     "metadata": {},
     "output_type": "execute_result"
    }
   ],
   "source": [
    "truth_lists.head()"
   ]
  },
  {
   "cell_type": "code",
   "execution_count": 101,
   "metadata": {
    "scrolled": false
   },
   "outputs": [
    {
     "name": "stdout",
     "output_type": "stream",
     "text": [
      "root\n",
      " |-- name: string (nullable = true)\n",
      " |-- truth: long (nullable = true)\n",
      " |-- ID: string (nullable = true)\n",
      "\n"
     ]
    },
    {
     "data": {
      "text/plain": [
       "[Row(name='alligator/pic1_low_left.jpg', truth=0, ID='pic1'),\n",
       " Row(name='alligator/pic2_low_right.jpg', truth=0, ID='pic2'),\n",
       " Row(name='alligator/pic3_csm-amis.gif', truth=0, ID='pic3'),\n",
       " Row(name='alligator/pic4_csm-asin.gif', truth=0, ID='pic4'),\n",
       " Row(name='alligator/pic5_greenal.gif', truth=0, ID='pic5')]"
      ]
     },
     "execution_count": 101,
     "metadata": {},
     "output_type": "execute_result"
    }
   ],
   "source": [
    "df_truth = spark.createDataFrame(truth_lists)#,schema=schema1)\n",
    "df_truth.printSchema()\n",
    "df_truth.head(5)"
   ]
  },
  {
   "cell_type": "code",
   "execution_count": 102,
   "metadata": {
    "scrolled": true
   },
   "outputs": [],
   "source": [
    "#aa = df_truth.filter(df_truth.name.rlike('pic\\d+_'))\n",
    "#aa.head(15)"
   ]
  },
  {
   "cell_type": "code",
   "execution_count": 103,
   "metadata": {},
   "outputs": [],
   "source": [
    "#split_col = pyspark.sql.functions.split(df_truth['name'], '\\d')\n",
    "#df_truth = df_truth.withColumn('NAME1', split_col.getItem(0))"
   ]
  },
  {
   "cell_type": "code",
   "execution_count": 106,
   "metadata": {},
   "outputs": [
    {
     "data": {
      "text/plain": [
       "DataFrame[ID: string, name: string, truth: bigint, ind: int, Animal: string, File: string, LBP0: float, LBP1: float, LBP2: float, LBP3: float, LBP4: float, LBP5: float, LBP6: float, LBP7: float, LBP8: float, LBP9: float]"
      ]
     },
     "execution_count": 106,
     "metadata": {},
     "output_type": "execute_result"
    }
   ],
   "source": [
    "df_ml = df_truth.join(res_lbp,on='ID')\n",
    "df_ml"
   ]
  },
  {
   "cell_type": "code",
   "execution_count": 120,
   "metadata": {},
   "outputs": [
    {
     "data": {
      "text/plain": [
       "[Row(ID='pic1', name='alligator/pic1_low_left.jpg', truth=0, ind=556, Animal='alligator', File='pic1_low_left.jpg', LBP0=0.08529064059257507, LBP1=0.0923176109790802, LBP2=0.034361232072114944, LBP3=0.07235414534807205, LBP4=0.1361340880393982, LBP5=0.08859997987747192, LBP6=0.032899968326091766, LBP7=0.09792628884315491, LBP8=0.12302567809820175, LBP9=0.2370903640985489)]"
      ]
     },
     "execution_count": 120,
     "metadata": {},
     "output_type": "execute_result"
    }
   ],
   "source": [
    "df_ml.head(1)"
   ]
  },
  {
   "cell_type": "code",
   "execution_count": 131,
   "metadata": {},
   "outputs": [],
   "source": [
    "df_ml1 = df_ml.select([c for c in df_ml.columns if c in ['truth','LBP0','LBP1','LBP2','LBP3','LBP4','LBP5','LBP6','LBP7','LBP8','LBP9']])"
   ]
  },
  {
   "cell_type": "code",
   "execution_count": 140,
   "metadata": {},
   "outputs": [],
   "source": [
    "import pyspark.ml.feature as ft"
   ]
  },
  {
   "cell_type": "code",
   "execution_count": 158,
   "metadata": {},
   "outputs": [],
   "source": [
    "labels1 =[\n",
    "    ('truth',typ.IntegerType()),\n",
    "    ('LBP0',typ.FloatType()),\n",
    "    ('LBP1',typ.FloatType()),\n",
    "    ('LBP2',typ.FloatType()),\n",
    "    ('LBP3',typ.FloatType()),\n",
    "    ('LBP4',typ.FloatType()),\n",
    "    ('LBP5',typ.FloatType()),\n",
    "    ('LBP6',typ.FloatType()),\n",
    "    ('LBP7',typ.FloatType()),\n",
    "    ('LBP8',typ.FloatType()),\n",
    "    ('LBP9',typ.FloatType()),\n",
    "]"
   ]
  },
  {
   "cell_type": "code",
   "execution_count": 159,
   "metadata": {},
   "outputs": [],
   "source": [
    "featuresCreator = ft.VectorAssembler(\n",
    "    inputCols=[col[0] for col in labels1[0:]],outputCol='features'\n",
    ")"
   ]
  },
  {
   "cell_type": "code",
   "execution_count": 160,
   "metadata": {},
   "outputs": [],
   "source": [
    "import pyspark.ml.classification as cl"
   ]
  },
  {
   "cell_type": "code",
   "execution_count": 161,
   "metadata": {},
   "outputs": [],
   "source": [
    "logistic = cl.LogisticRegression(maxIter=10,regParam=0.01,labelCol='truth')"
   ]
  },
  {
   "cell_type": "code",
   "execution_count": 162,
   "metadata": {},
   "outputs": [],
   "source": [
    "from pyspark.ml import Pipeline"
   ]
  },
  {
   "cell_type": "code",
   "execution_count": 163,
   "metadata": {},
   "outputs": [],
   "source": [
    "pipeline = Pipeline(stages=[featuresCreator,logistic])"
   ]
  },
  {
   "cell_type": "code",
   "execution_count": 166,
   "metadata": {},
   "outputs": [],
   "source": [
    "lbp_train, lbp_test = df_ml1.randomSplit([0.7,0.3],seed=1)"
   ]
  },
  {
   "cell_type": "code",
   "execution_count": 167,
   "metadata": {},
   "outputs": [],
   "source": [
    "model = pipeline.fit(lbp_train)"
   ]
  },
  {
   "cell_type": "code",
   "execution_count": null,
   "metadata": {},
   "outputs": [],
   "source": []
  },
  {
   "cell_type": "code",
   "execution_count": null,
   "metadata": {},
   "outputs": [],
   "source": []
  },
  {
   "cell_type": "code",
   "execution_count": null,
   "metadata": {},
   "outputs": [],
   "source": []
  },
  {
   "cell_type": "code",
   "execution_count": null,
   "metadata": {},
   "outputs": [],
   "source": []
  },
  {
   "cell_type": "code",
   "execution_count": null,
   "metadata": {},
   "outputs": [],
   "source": []
  },
  {
   "cell_type": "code",
   "execution_count": null,
   "metadata": {},
   "outputs": [],
   "source": []
  }
 ],
 "metadata": {
  "kernelspec": {
   "display_name": "Python 3",
   "language": "python",
   "name": "python3"
  },
  "language_info": {
   "codemirror_mode": {
    "name": "ipython",
    "version": 3
   },
   "file_extension": ".py",
   "mimetype": "text/x-python",
   "name": "python",
   "nbconvert_exporter": "python",
   "pygments_lexer": "ipython3",
   "version": "3.6.5"
  }
 },
 "nbformat": 4,
 "nbformat_minor": 2
}
