{
 "cells": [
  {
   "cell_type": "code",
   "execution_count": 13,
   "metadata": {},
   "outputs": [],
   "source": [
    "import findspark\n",
    "findspark.init()\n",
    "import pyspark\n",
    "import random\n",
    "import os\n",
    "import scipy.io as sio\n",
    "import re\n",
    "import numpy as np\n",
    "import pandas as pd\n",
    "import matplotlib.pyplot as plt"
   ]
  },
  {
   "cell_type": "code",
   "execution_count": 2,
   "metadata": {},
   "outputs": [],
   "source": [
    "file_path = 'D:\\\\Data\\\\AnimalsOnTheWeb\\\\alligator\\\\'\n",
    "file = 'animaldata_alligator.mat'\n",
    "data_read = sio.loadmat(os.path.join(file_path,file))"
   ]
  },
  {
   "cell_type": "code",
   "execution_count": 12,
   "metadata": {},
   "outputs": [
    {
     "data": {
      "text/plain": [
       "1445"
      ]
     },
     "execution_count": 12,
     "metadata": {},
     "output_type": "execute_result"
    }
   ],
   "source": [
    "truth_tbl = data_read['gt'][0]\n",
    "len(truth_tbl)"
   ]
  },
  {
   "cell_type": "code",
   "execution_count": 14,
   "metadata": {},
   "outputs": [],
   "source": [
    "from pyspark.context import SparkContext\n",
    "from pyspark.sql.session import SparkSession\n",
    "sc = SparkContext('local')\n",
    "spark = SparkSession(sc)"
   ]
  },
  {
   "cell_type": "code",
   "execution_count": 16,
   "metadata": {},
   "outputs": [
    {
     "name": "stdout",
     "output_type": "stream",
     "text": [
      "+--------------------+\n",
      "|               image|\n",
      "+--------------------+\n",
      "|[file:///D:/Data/...|\n",
      "|[file:///D:/Data/...|\n",
      "|[file:///D:/Data/...|\n",
      "|[file:///D:/Data/...|\n",
      "|[file:///D:/Data/...|\n",
      "|[file:///D:/Data/...|\n",
      "|[file:///D:/Data/...|\n",
      "|[file:///D:/Data/...|\n",
      "|[file:///D:/Data/...|\n",
      "|[file:///D:/Data/...|\n",
      "|[file:///D:/Data/...|\n",
      "|[file:///D:/Data/...|\n",
      "|[file:///D:/Data/...|\n",
      "|[file:///D:/Data/...|\n",
      "|[file:///D:/Data/...|\n",
      "|[file:///D:/Data/...|\n",
      "|[file:///D:/Data/...|\n",
      "|[file:///D:/Data/...|\n",
      "|[file:///D:/Data/...|\n",
      "|[file:///D:/Data/...|\n",
      "+--------------------+\n",
      "only showing top 20 rows\n",
      "\n"
     ]
    }
   ],
   "source": [
    "img_dir = \"D:\\\\Data\\\\AnimalsOnTheWeb\\\\alligator\"\n",
    "imgs = spark.read.format(\"image\").load(img_dir)\n",
    "imgs.show()"
   ]
  },
  {
   "cell_type": "code",
   "execution_count": null,
   "metadata": {},
   "outputs": [],
   "source": []
  }
 ],
 "metadata": {
  "kernelspec": {
   "display_name": "Python 3",
   "language": "python",
   "name": "python3"
  },
  "language_info": {
   "codemirror_mode": {
    "name": "ipython",
    "version": 3
   },
   "file_extension": ".py",
   "mimetype": "text/x-python",
   "name": "python",
   "nbconvert_exporter": "python",
   "pygments_lexer": "ipython3",
   "version": "3.6.5"
  }
 },
 "nbformat": 4,
 "nbformat_minor": 2
}
