{
 "cells": [
  {
   "cell_type": "code",
   "execution_count": null,
   "metadata": {},
   "outputs": [],
   "source": [
    "import os\n",
    "import pandas as pd"
   ]
  },
  {
   "cell_type": "code",
   "execution_count": null,
   "metadata": {},
   "outputs": [],
   "source": [
    "data_path = 'D:\\\\Matlab_Drive\\\\Data\\\\Severance\\\\H4010'\n",
    "label_path = 'D:\\\\Matlab_Drive\\\\Data\\\\Severance\\\\label'"
   ]
  },
  {
   "cell_type": "code",
   "execution_count": null,
   "metadata": {},
   "outputs": [],
   "source": [
    "list_files = []\n",
    "for root, dirs, files in os.walk(data_path):\n",
    "    for fname in files:\n",
    "        full_fname = os.path.join(root, fname)\n",
    "        list_files.append(full_fname)\n",
    "        print(full_fname)"
   ]
  },
  {
   "cell_type": "code",
   "execution_count": null,
   "metadata": {},
   "outputs": [],
   "source": [
    "label = pd.read_csv(label_path + '\\\\H4010.csv')"
   ]
  },
  {
   "cell_type": "code",
   "execution_count": null,
   "metadata": {},
   "outputs": [],
   "source": [
    "label_path + '\\\\H4010.csv'"
   ]
  },
  {
   "cell_type": "code",
   "execution_count": null,
   "metadata": {},
   "outputs": [],
   "source": [
    "label"
   ]
  },
  {
   "cell_type": "code",
   "execution_count": null,
   "metadata": {},
   "outputs": [],
   "source": [
    "list_files"
   ]
  },
  {
   "cell_type": "code",
   "execution_count": null,
   "metadata": {},
   "outputs": [],
   "source": [
    "file_list = []\n",
    "for root, dirs, files in os.walk(data_path):\n",
    "    for fname in files:\n",
    "        full_fname = os.path.join(root, fname)\n",
    "        list_files.append(full_fname)\n",
    "        print(full_fname)\n",
    "file_list = [s for s in file_list if \".jpg\" in s]\n"
   ]
  },
  {
   "cell_type": "code",
   "execution_count": null,
   "metadata": {},
   "outputs": [],
   "source": [
    "file_list"
   ]
  },
  {
   "cell_type": "code",
   "execution_count": null,
   "metadata": {},
   "outputs": [],
   "source": [
    "file_list = []\n",
    "for root, dirs, files in os.walk(data_path):\n",
    "    for fname in files:\n",
    "        full_fname = os.path.join(root, fname)\n",
    "        file_list.append(full_fname)\n",
    "        #print(full_fname)\n",
    "file_list = [s for s in file_list if \".jpg\" in s]\n"
   ]
  },
  {
   "cell_type": "code",
   "execution_count": null,
   "metadata": {},
   "outputs": [],
   "source": [
    "file_list"
   ]
  },
  {
   "cell_type": "code",
   "execution_count": null,
   "metadata": {},
   "outputs": [],
   "source": [
    "for root, dirs, files in os.walk(data_path):\n",
    "    print(root)\n",
    "    for fname in files:\n",
    "        full_fname = os.path.join(root, fname)"
   ]
  },
  {
   "cell_type": "code",
   "execution_count": null,
   "metadata": {},
   "outputs": [],
   "source": [
    "file_list"
   ]
  },
  {
   "cell_type": "code",
   "execution_count": null,
   "metadata": {},
   "outputs": [],
   "source": [
    "file_list[0]"
   ]
  },
  {
   "cell_type": "code",
   "execution_count": null,
   "metadata": {},
   "outputs": [],
   "source": [
    "import pil"
   ]
  },
  {
   "cell_type": "code",
   "execution_count": null,
   "metadata": {},
   "outputs": [],
   "source": [
    "from PIL import Image"
   ]
  },
  {
   "cell_type": "code",
   "execution_count": null,
   "metadata": {},
   "outputs": [],
   "source": [
    "im = Image.open(file_list[3])"
   ]
  },
  {
   "cell_type": "code",
   "execution_count": null,
   "metadata": {},
   "outputs": [],
   "source": [
    "print(im.size)"
   ]
  },
  {
   "cell_type": "code",
   "execution_count": null,
   "metadata": {},
   "outputs": [],
   "source": [
    "file_list[0]"
   ]
  },
  {
   "cell_type": "code",
   "execution_count": null,
   "metadata": {},
   "outputs": [],
   "source": [
    "file_list[1]"
   ]
  },
  {
   "cell_type": "code",
   "execution_count": null,
   "metadata": {},
   "outputs": [],
   "source": [
    "print(im.size)"
   ]
  },
  {
   "cell_type": "code",
   "execution_count": null,
   "metadata": {},
   "outputs": [],
   "source": [
    "import numpy as np"
   ]
  },
  {
   "cell_type": "code",
   "execution_count": null,
   "metadata": {},
   "outputs": [],
   "source": [
    "np.mean(im)"
   ]
  },
  {
   "cell_type": "code",
   "execution_count": null,
   "metadata": {},
   "outputs": [],
   "source": [
    "np.mean(im)"
   ]
  },
  {
   "cell_type": "code",
   "execution_count": null,
   "metadata": {},
   "outputs": [],
   "source": [
    "np.mean(im)"
   ]
  },
  {
   "cell_type": "code",
   "execution_count": null,
   "metadata": {},
   "outputs": [],
   "source": [
    "file_list[2]"
   ]
  },
  {
   "cell_type": "code",
   "execution_count": null,
   "metadata": {},
   "outputs": [],
   "source": [
    "np.mean(im)"
   ]
  },
  {
   "cell_type": "code",
   "execution_count": null,
   "metadata": {},
   "outputs": [],
   "source": [
    "file_list[3]"
   ]
  },
  {
   "cell_type": "code",
   "execution_count": null,
   "metadata": {},
   "outputs": [],
   "source": [
    "for root, dirs, files in os.walk(data_path):\n",
    "    jpg_files = [s for s in files if \".jpg\" in s]\n",
    "    if(jpg_files): print(os.path.basename(root))"
   ]
  },
  {
   "cell_type": "code",
   "execution_count": null,
   "metadata": {},
   "outputs": [],
   "source": [
    "a = '170208'"
   ]
  },
  {
   "cell_type": "code",
   "execution_count": null,
   "metadata": {},
   "outputs": [],
   "source": [
    "label['진료일'].values"
   ]
  },
  {
   "cell_type": "code",
   "execution_count": null,
   "metadata": {},
   "outputs": [],
   "source": [
    "if (a in label['진료일'].values):\n",
    "    print(1)"
   ]
  },
  {
   "cell_type": "code",
   "execution_count": null,
   "metadata": {},
   "outputs": [],
   "source": [
    "list(label['진료일'].values)"
   ]
  },
  {
   "cell_type": "code",
   "execution_count": null,
   "metadata": {},
   "outputs": [],
   "source": [
    "a"
   ]
  },
  {
   "cell_type": "code",
   "execution_count": null,
   "metadata": {},
   "outputs": [],
   "source": [
    "a = 170208"
   ]
  },
  {
   "cell_type": "code",
   "execution_count": null,
   "metadata": {},
   "outputs": [],
   "source": [
    "label"
   ]
  },
  {
   "cell_type": "code",
   "execution_count": null,
   "metadata": {},
   "outputs": [],
   "source": [
    "label[label['진료일']==a]"
   ]
  },
  {
   "cell_type": "code",
   "execution_count": null,
   "metadata": {},
   "outputs": [],
   "source": [
    "root"
   ]
  },
  {
   "cell_type": "code",
   "execution_count": null,
   "metadata": {},
   "outputs": [],
   "source": [
    "root[:-8]"
   ]
  },
  {
   "cell_type": "code",
   "execution_count": null,
   "metadata": {},
   "outputs": [],
   "source": [
    "os.path.basename(root[:-8])"
   ]
  },
  {
   "cell_type": "code",
   "execution_count": null,
   "metadata": {},
   "outputs": [],
   "source": [
    "date = os.path.basename(root)\n",
    "num = os.path.basename(root[:-8])"
   ]
  },
  {
   "cell_type": "code",
   "execution_count": null,
   "metadata": {},
   "outputs": [],
   "source": [
    "if ((int(date) in label['진료일'].values)):\n",
    "    print(1)"
   ]
  },
  {
   "cell_type": "code",
   "execution_count": null,
   "metadata": {},
   "outputs": [],
   "source": [
    "date"
   ]
  },
  {
   "cell_type": "code",
   "execution_count": null,
   "metadata": {},
   "outputs": [],
   "source": [
    "num"
   ]
  },
  {
   "cell_type": "code",
   "execution_count": null,
   "metadata": {},
   "outputs": [],
   "source": [
    "label['진료일'][0]"
   ]
  },
  {
   "cell_type": "code",
   "execution_count": null,
   "metadata": {},
   "outputs": [],
   "source": [
    "int(date)"
   ]
  },
  {
   "cell_type": "code",
   "execution_count": null,
   "metadata": {},
   "outputs": [],
   "source": [
    "label[label['등록번호']==int(num)]"
   ]
  },
  {
   "cell_type": "code",
   "execution_count": null,
   "metadata": {},
   "outputs": [],
   "source": [
    "label"
   ]
  },
  {
   "cell_type": "code",
   "execution_count": null,
   "metadata": {},
   "outputs": [],
   "source": [
    "label = pd.read_csv(label_path + '\\\\H4010.csv',dtype=object)"
   ]
  },
  {
   "cell_type": "code",
   "execution_count": null,
   "metadata": {},
   "outputs": [],
   "source": [
    "label"
   ]
  },
  {
   "cell_type": "code",
   "execution_count": null,
   "metadata": {},
   "outputs": [],
   "source": [
    "label[(label['진료일']==date) & (label['등록번호']==num)]"
   ]
  },
  {
   "cell_type": "code",
   "execution_count": null,
   "metadata": {},
   "outputs": [],
   "source": [
    "a = label[(label['진료일']==date) & (label['등록번호']==num)]"
   ]
  },
  {
   "cell_type": "code",
   "execution_count": null,
   "metadata": {},
   "outputs": [],
   "source": [
    "a"
   ]
  },
  {
   "cell_type": "code",
   "execution_count": null,
   "metadata": {},
   "outputs": [],
   "source": [
    "if(a.empty):\n",
    "    print(1)"
   ]
  },
  {
   "cell_type": "code",
   "execution_count": null,
   "metadata": {},
   "outputs": [],
   "source": [
    "date = '161207'"
   ]
  },
  {
   "cell_type": "code",
   "execution_count": null,
   "metadata": {},
   "outputs": [],
   "source": [
    "num = '00001384'"
   ]
  },
  {
   "cell_type": "code",
   "execution_count": null,
   "metadata": {},
   "outputs": [],
   "source": [
    "a = label[(label['진료일']==date) & (label['등록번호']==num)]"
   ]
  },
  {
   "cell_type": "code",
   "execution_count": null,
   "metadata": {},
   "outputs": [],
   "source": [
    "a"
   ]
  },
  {
   "cell_type": "code",
   "execution_count": null,
   "metadata": {},
   "outputs": [],
   "source": [
    "res_df = pd.DataFrame()"
   ]
  },
  {
   "cell_type": "code",
   "execution_count": null,
   "metadata": {},
   "outputs": [],
   "source": [
    "res_df = pd.DataFrame()\n",
    "for root, dirs, files in os.walk(data_path):\n",
    "    jpg_files = [s for s in files if \".jpg\" in s]\n",
    "    if(jpg_files):  \n",
    "        print(os.path.basename(root))\n",
    "\n",
    "        date = os.path.basename(root)\n",
    "        num = os.path.basename(root[:-8])\n",
    "\n",
    "        values = label[(label['진료일']==date) & (label['등록번호']==num)]\n",
    "        res_df = res_df.append(values,ignore_index=True)"
   ]
  },
  {
   "cell_type": "code",
   "execution_count": null,
   "metadata": {},
   "outputs": [],
   "source": [
    "res_df"
   ]
  },
  {
   "cell_type": "code",
   "execution_count": null,
   "metadata": {},
   "outputs": [],
   "source": [
    "res_df = pd.DataFrame()\n",
    "for root, dirs, files in os.walk(data_path):\n",
    "    jpg_files = [s for s in files if \".jpg\" in s]\n",
    "    if(jpg_files):  \n",
    "\n",
    "        date = os.path.basename(root)\n",
    "        num = os.path.basename(root[:-8])\n",
    "\n",
    "        values = label[(label['진료일']==date) & (label['등록번호']==num)]\n",
    "        res_df = res_df.append(values,ignore_index=True)"
   ]
  },
  {
   "cell_type": "code",
   "execution_count": null,
   "metadata": {},
   "outputs": [],
   "source": [
    "values"
   ]
  },
  {
   "cell_type": "code",
   "execution_count": null,
   "metadata": {},
   "outputs": [],
   "source": [
    "values"
   ]
  },
  {
   "cell_type": "code",
   "execution_count": null,
   "metadata": {},
   "outputs": [],
   "source": [
    "date"
   ]
  },
  {
   "cell_type": "code",
   "execution_count": null,
   "metadata": {},
   "outputs": [],
   "source": [
    "num"
   ]
  },
  {
   "cell_type": "code",
   "execution_count": null,
   "metadata": {},
   "outputs": [],
   "source": [
    "type(values)"
   ]
  },
  {
   "cell_type": "code",
   "execution_count": null,
   "metadata": {},
   "outputs": [],
   "source": [
    "date = '161207'"
   ]
  },
  {
   "cell_type": "code",
   "execution_count": null,
   "metadata": {},
   "outputs": [],
   "source": [
    "num = '00001384'"
   ]
  },
  {
   "cell_type": "code",
   "execution_count": null,
   "metadata": {},
   "outputs": [],
   "source": [
    "        values = label[(label['진료일']==date) & (label['등록번호']==num)]\n",
    "        res_df = res_df.append(values,ignore_index=True)"
   ]
  },
  {
   "cell_type": "code",
   "execution_count": null,
   "metadata": {},
   "outputs": [],
   "source": [
    "res_df"
   ]
  },
  {
   "cell_type": "code",
   "execution_count": null,
   "metadata": {},
   "outputs": [],
   "source": [
    "res_df = pd.DataFrame()\n",
    "for root, dirs, files in os.walk(data_path):\n",
    "    jpg_files = [s for s in files if \".jpg\" in s]\n",
    "    if(jpg_files):  \n",
    "\n",
    "        date = os.path.basename(root)\n",
    "        num = os.path.basename(root[:-7])\n",
    "\n",
    "        values = label[(label['진료일']==date) & (label['등록번호']==num)]\n",
    "        res_df = res_df.append(values,ignore_index=True)"
   ]
  },
  {
   "cell_type": "code",
   "execution_count": null,
   "metadata": {},
   "outputs": [],
   "source": [
    "root"
   ]
  },
  {
   "cell_type": "code",
   "execution_count": null,
   "metadata": {},
   "outputs": [],
   "source": [
    "os.path.basename(root[:-7])"
   ]
  },
  {
   "cell_type": "code",
   "execution_count": null,
   "metadata": {},
   "outputs": [],
   "source": [
    "res_df.columns"
   ]
  },
  {
   "cell_type": "code",
   "execution_count": null,
   "metadata": {},
   "outputs": [],
   "source": [
    "a = res_df['S&O'][0]"
   ]
  },
  {
   "cell_type": "code",
   "execution_count": null,
   "metadata": {},
   "outputs": [],
   "source": [
    "a"
   ]
  },
  {
   "cell_type": "code",
   "execution_count": null,
   "metadata": {},
   "outputs": [],
   "source": [
    "import re"
   ]
  },
  {
   "cell_type": "code",
   "execution_count": null,
   "metadata": {},
   "outputs": [],
   "source": [
    "'\\nvod: \\d.\\d'"
   ]
  },
  {
   "cell_type": "code",
   "execution_count": null,
   "metadata": {},
   "outputs": [],
   "source": [
    "re.findall('\\\\nvod:',a)"
   ]
  },
  {
   "cell_type": "code",
   "execution_count": null,
   "metadata": {},
   "outputs": [],
   "source": [
    "nolabel_path = 'D:\\Matlab_Drive\\Data\\Severance\\data_nolabel'\n",
    "withlabel_path = 'D:\\Matlab_Drive\\Data\\Severance\\data_withlabel'"
   ]
  },
  {
   "cell_type": "code",
   "execution_count": null,
   "metadata": {},
   "outputs": [],
   "source": [
    "import shutil"
   ]
  },
  {
   "cell_type": "code",
   "execution_count": null,
   "metadata": {},
   "outputs": [],
   "source": [
    "root"
   ]
  },
  {
   "cell_type": "code",
   "execution_count": null,
   "metadata": {},
   "outputs": [],
   "source": [
    "dirs"
   ]
  },
  {
   "cell_type": "code",
   "execution_count": null,
   "metadata": {},
   "outputs": [],
   "source": [
    "files.sort()"
   ]
  },
  {
   "cell_type": "code",
   "execution_count": null,
   "metadata": {},
   "outputs": [],
   "source": [
    "files"
   ]
  },
  {
   "cell_type": "code",
   "execution_count": null,
   "metadata": {},
   "outputs": [],
   "source": [
    "len(files)"
   ]
  },
  {
   "cell_type": "code",
   "execution_count": null,
   "metadata": {},
   "outputs": [],
   "source": [
    "files[0]"
   ]
  },
  {
   "cell_type": "code",
   "execution_count": null,
   "metadata": {},
   "outputs": [],
   "source": [
    "files[3]"
   ]
  },
  {
   "cell_type": "code",
   "execution_count": 1,
   "metadata": {},
   "outputs": [],
   "source": [
    "import os\n",
    "import pandas as pd\n",
    "import shutil\n",
    "\n",
    "# For Windows\n",
    "data_path = 'D:\\\\Matlab_Drive\\\\Data\\\\Severance\\\\H4010'\n",
    "label_path = 'D:\\\\Matlab_Drive\\\\Data\\\\Severance\\\\label'\n",
    "\n",
    "nolabel_path = 'D:\\Matlab_Drive\\Data\\Severance\\data_nolabel'\n",
    "withlabel_path = 'D:\\Matlab_Drive\\Data\\Severance\\data_withlabel'\n",
    "\n",
    "label = pd.read_csv(label_path + '\\\\H4010.csv',dtype=object)\n",
    "\n",
    "res_df = pd.DataFrame(columns=['num','date','so','files'])\n",
    "for root, dirs, files in os.walk(data_path):\n",
    "    jpg_files = [s for s in files if \".jpg\" in s]\n",
    "    if(jpg_files):  \n",
    "\n",
    "        date = os.path.basename(root)\n",
    "        num = os.path.basename(root[:-7])\n",
    "\n",
    "        values = label[(label['진료일']==date) & (label['등록번호']==num)]\n",
    "        if(values.empty):\n",
    "            for fname in files:\n",
    "                full_fname = os.path.join(root, fname)\n",
    "                shutil.copy2(full_fname,nolabel_path)\n",
    "        else:\n",
    "            if (len(files)==6):\n",
    "                files.sort()\n",
    "                fnames = [files[0],files[3]]\n",
    "                for fname in fnames:\n",
    "                    full_fname = os.path.join(root, fname)\n",
    "                    shutil.copy2(full_fname,withlabel_path)\n",
    "            else:\n",
    "                fnames = files\n",
    "                for fname in fnames:\n",
    "                    full_fname = os.path.join(root, fname)\n",
    "                    shutil.copy2(full_fname,withlabel_path)\n",
    "            so = values['S&O'].values\n",
    "            res_val = pd.Series()\n",
    "            res_val['num']=num\n",
    "            res_val['date']=date\n",
    "            res_val['so']=so\n",
    "            res_val['files']=fnames\n",
    "            res_df = res_df.append(res_val,ignore_index=True)"
   ]
  },
  {
   "cell_type": "code",
   "execution_count": null,
   "metadata": {},
   "outputs": [],
   "source": [
    "full_fname"
   ]
  },
  {
   "cell_type": "code",
   "execution_count": null,
   "metadata": {},
   "outputs": [],
   "source": [
    "values"
   ]
  },
  {
   "cell_type": "code",
   "execution_count": null,
   "metadata": {},
   "outputs": [],
   "source": [
    "res_df.to_csv('res_df.csv')"
   ]
  },
  {
   "cell_type": "code",
   "execution_count": null,
   "metadata": {},
   "outputs": [],
   "source": [
    "values['S&O'].values"
   ]
  },
  {
   "cell_type": "code",
   "execution_count": null,
   "metadata": {},
   "outputs": [],
   "source": [
    "['aaa','bbb']"
   ]
  },
  {
   "cell_type": "code",
   "execution_count": null,
   "metadata": {},
   "outputs": [],
   "source": [
    "num"
   ]
  },
  {
   "cell_type": "code",
   "execution_count": null,
   "metadata": {},
   "outputs": [],
   "source": [
    "aa = pd.Series(\"Num\",num)"
   ]
  },
  {
   "cell_type": "code",
   "execution_count": 2,
   "metadata": {},
   "outputs": [
    {
     "data": {
      "text/html": [
       "<div>\n",
       "<style scoped>\n",
       "    .dataframe tbody tr th:only-of-type {\n",
       "        vertical-align: middle;\n",
       "    }\n",
       "\n",
       "    .dataframe tbody tr th {\n",
       "        vertical-align: top;\n",
       "    }\n",
       "\n",
       "    .dataframe thead th {\n",
       "        text-align: right;\n",
       "    }\n",
       "</style>\n",
       "<table border=\"1\" class=\"dataframe\">\n",
       "  <thead>\n",
       "    <tr style=\"text-align: right;\">\n",
       "      <th></th>\n",
       "      <th>num</th>\n",
       "      <th>date</th>\n",
       "      <th>so</th>\n",
       "      <th>files</th>\n",
       "    </tr>\n",
       "  </thead>\n",
       "  <tbody>\n",
       "    <tr>\n",
       "      <th>0</th>\n",
       "      <td>00297937</td>\n",
       "      <td>170208</td>\n",
       "      <td>[ \\nvod: 0.7\\nvos: 0.7\\nTn: 17/15\\n\\nAR: R) -0...</td>\n",
       "      <td>[00297937-228602.jpg, 00297937-228605.jpg]</td>\n",
       "    </tr>\n",
       "    <tr>\n",
       "      <th>1</th>\n",
       "      <td>00297937</td>\n",
       "      <td>170626</td>\n",
       "      <td>[DM(+) po medication으로 조절 비교적 되는 편\\n2014-11-17...</td>\n",
       "      <td>[00297937-244940.jpg]</td>\n",
       "    </tr>\n",
       "    <tr>\n",
       "      <th>2</th>\n",
       "      <td>00297937</td>\n",
       "      <td>170306</td>\n",
       "      <td>[ \\nvod:0.7\\nvos:0.6\\nTn:13/13\\n\\nAR: R) -0.75...</td>\n",
       "      <td>[00297937-231385.jpg, 00297937-231388.jpg]</td>\n",
       "    </tr>\n",
       "    <tr>\n",
       "      <th>3</th>\n",
       "      <td>00297937</td>\n",
       "      <td>161123</td>\n",
       "      <td>[ \\nvod: 0.7\\nvos: 0.8\\nTn: 12/15\\n\\ncat op 원하...</td>\n",
       "      <td>[00297937-219077.jpg, 00297937-219080.jpg]</td>\n",
       "    </tr>\n",
       "    <tr>\n",
       "      <th>4</th>\n",
       "      <td>00297937</td>\n",
       "      <td>170525</td>\n",
       "      <td>[ \\nDM(+) po medication으로 조절 비교적 되는 편\\n2014-11...</td>\n",
       "      <td>[00297937-241036.jpg]</td>\n",
       "    </tr>\n",
       "    <tr>\n",
       "      <th>5</th>\n",
       "      <td>00276519</td>\n",
       "      <td>160425</td>\n",
       "      <td>[ \\nvod:0.9\\nvos:0.8\\nTn:10/13\\n당뇨는 경계수치, 약을 먹...</td>\n",
       "      <td>[00276519-192429.jpg, 00276519-192431.jpg]</td>\n",
       "    </tr>\n",
       "    <tr>\n",
       "      <th>6</th>\n",
       "      <td>00276519</td>\n",
       "      <td>160615</td>\n",
       "      <td>[ \\nvod:0.7\\nvos:0.7\\nTn:10/10\\n\\nTa 12/13 (09...</td>\n",
       "      <td>[00276519-199146.jpg, 00276519-199149.jpg]</td>\n",
       "    </tr>\n",
       "    <tr>\n",
       "      <th>7</th>\n",
       "      <td>00276519</td>\n",
       "      <td>160323</td>\n",
       "      <td>[ \\nvod:0.7\\nvos:0.9\\nTn:9/9\\n\\n'우안이 더 침침하다'\\n...</td>\n",
       "      <td>[00276519-187485.jpg, 00276519-187490.jpg]</td>\n",
       "    </tr>\n",
       "    <tr>\n",
       "      <th>8</th>\n",
       "      <td>00276519</td>\n",
       "      <td>170424</td>\n",
       "      <td>[HTN(+) PO med: 동네병원\\n당뇨수치는 정상 2016-6 HbA1C&lt;6....</td>\n",
       "      <td>[00276519-237475.jpg, 00276519-237476.jpg]</td>\n",
       "    </tr>\n",
       "    <tr>\n",
       "      <th>9</th>\n",
       "      <td>00276519</td>\n",
       "      <td>170308</td>\n",
       "      <td>[ \\nVod: 0.7\\nVos: 0.8\\nTn:11 / 12\\n\\nTa 13/13...</td>\n",
       "      <td>[00276519-231592.jpg, 00276519-231595.jpg]</td>\n",
       "    </tr>\n",
       "    <tr>\n",
       "      <th>10</th>\n",
       "      <td>00301294</td>\n",
       "      <td>160108</td>\n",
       "      <td>[ \\nvod:0.9\\nvos:0.5\\nTn:18/16\\n\\n2013년 녹내장 진료...</td>\n",
       "      <td>[00301294-177631.jpg, 00301294-177634.jpg]</td>\n",
       "    </tr>\n",
       "    <tr>\n",
       "      <th>11</th>\n",
       "      <td>00301294</td>\n",
       "      <td>160115</td>\n",
       "      <td>[vod:1.0\\nvos:0.8\\nTn:16/17\\n\\n\\nlid:B) MGD \\n...</td>\n",
       "      <td>[00301294-178617.jpg, 00301294-178621.jpg]</td>\n",
       "    </tr>\n",
       "    <tr>\n",
       "      <th>12</th>\n",
       "      <td>00300172</td>\n",
       "      <td>160615</td>\n",
       "      <td>[ \\nvod:0.5\\nvos:0.6\\nTn:12/17\\n\\nTa 16/16 (11...</td>\n",
       "      <td>[00300172-199247.jpg, 00300172-199250.jpg]</td>\n",
       "    </tr>\n",
       "    <tr>\n",
       "      <th>13</th>\n",
       "      <td>00300172</td>\n",
       "      <td>170125</td>\n",
       "      <td>[ \\nvod:0.6\\nvos:0.7\\nTn:19/16\\n\\nTa 18/20 (12...</td>\n",
       "      <td>[00300172-227022.jpg, 00300172-227024.jpg, 003...</td>\n",
       "    </tr>\n",
       "    <tr>\n",
       "      <th>14</th>\n",
       "      <td>00300172</td>\n",
       "      <td>160623</td>\n",
       "      <td>[ \\nHTN:+ po(10ya)\\nDM: + po(10ya)\\nop:-\\n----...</td>\n",
       "      <td>[00300172-200136.jpg, 00300172-200134.jpg]</td>\n",
       "    </tr>\n",
       "    <tr>\n",
       "      <th>15</th>\n",
       "      <td>00300172</td>\n",
       "      <td>170405</td>\n",
       "      <td>[vod:0.6\\nvos:0.9\\nTn:10/11\\n\\nTa 10/12 (10:19...</td>\n",
       "      <td>[00300172-235140.jpg, 00300172-235141.jpg, 003...</td>\n",
       "    </tr>\n",
       "    <tr>\n",
       "      <th>16</th>\n",
       "      <td>00300172</td>\n",
       "      <td>161222</td>\n",
       "      <td>[ \\nHTN:+ po(10ya)\\nDM: + po(10ya)\\nL) small S...</td>\n",
       "      <td>[00300172-222666.jpg, 00300172-222665.jpg, 003...</td>\n",
       "    </tr>\n",
       "    <tr>\n",
       "      <th>17</th>\n",
       "      <td>00283413</td>\n",
       "      <td>160824</td>\n",
       "      <td>[Vod:0.7\\nVos:0.7\\nTn:17/15\\n\\nAR: R) +2.50s \\...</td>\n",
       "      <td>[00283413-207555.jpg, 00283413-207558.jpg]</td>\n",
       "    </tr>\n",
       "    <tr>\n",
       "      <th>18</th>\n",
       "      <td>00283413</td>\n",
       "      <td>150130</td>\n",
       "      <td>[ \\nvod:0.7\\nvos:0.7\\nTn:12/17\\n\\n**황춘하 선생님 어머...</td>\n",
       "      <td>[00283413-140280.jpg, 00283413-140284.jpg]</td>\n",
       "    </tr>\n",
       "    <tr>\n",
       "      <th>19</th>\n",
       "      <td>00274084</td>\n",
       "      <td>141117</td>\n",
       "      <td>[ \\n20130318 L) periorbital contusion\\n-------...</td>\n",
       "      <td>[00274084-128671.jpg, 00274084-128666.jpg, 002...</td>\n",
       "    </tr>\n",
       "    <tr>\n",
       "      <th>20</th>\n",
       "      <td>00274084</td>\n",
       "      <td>160608</td>\n",
       "      <td>[Vod:0.8\\nVos:0.9\\nTn:8/10\\n\\nAR: R) +0.75s -1...</td>\n",
       "      <td>[00274084-198281.jpg, 00274084-198285.jpg]</td>\n",
       "    </tr>\n",
       "    <tr>\n",
       "      <th>21</th>\n",
       "      <td>00274084</td>\n",
       "      <td>160427</td>\n",
       "      <td>[ \\nVod:0.6\\nVos:0.8\\nTn:13/12\\n\\nHT\\n\\nAR: R)...</td>\n",
       "      <td>[00274084-193026.jpg, 00274084-193030.jpg]</td>\n",
       "    </tr>\n",
       "    <tr>\n",
       "      <th>22</th>\n",
       "      <td>00274084</td>\n",
       "      <td>150406</td>\n",
       "      <td>[ \\nvod:0.7\\nvos:0.5\\n Tn:16/7\\n\\n수술원하심, 좌안이 더...</td>\n",
       "      <td>[00274084-149338.jpg, 00274084-149342.jpg]</td>\n",
       "    </tr>\n",
       "    <tr>\n",
       "      <th>23</th>\n",
       "      <td>00289466</td>\n",
       "      <td>160601</td>\n",
       "      <td>[Vod:0.5\\nVos:1.0\\nTn:17/20\\n\\nTa 15/15 (14:26...</td>\n",
       "      <td>[00289466-197514.jpg, 00289466-197519.jpg]</td>\n",
       "    </tr>\n",
       "    <tr>\n",
       "      <th>24</th>\n",
       "      <td>00289466</td>\n",
       "      <td>160905</td>\n",
       "      <td>[Vod:0.4\\nVos:1.0\\nTn:14/15\\n\\nR) (0.9) (+1.25...</td>\n",
       "      <td>[00289466-209311.jpg, 00289466-209315.jpg]</td>\n",
       "    </tr>\n",
       "    <tr>\n",
       "      <th>25</th>\n",
       "      <td>00296912</td>\n",
       "      <td>140305</td>\n",
       "      <td>[vod:0.7\\nvos:F.C10cm\\nTn:22/14\\n\\nTa 17/18 (1...</td>\n",
       "      <td>[00296912-93328.jpg, 00296912-93330.jpg, 00296...</td>\n",
       "    </tr>\n",
       "    <tr>\n",
       "      <th>26</th>\n",
       "      <td>00296912</td>\n",
       "      <td>170424</td>\n",
       "      <td>[vod: 1.0\\nvos: FC 10cm\\nTn: 18/13\\n\\nTa 18/15...</td>\n",
       "      <td>[00296912-237614.jpg, 00296912-237623.jpg]</td>\n",
       "    </tr>\n",
       "    <tr>\n",
       "      <th>27</th>\n",
       "      <td>00278854</td>\n",
       "      <td>161214</td>\n",
       "      <td>[vod: 0.7\\nvos: 0.5\\nTn: 13/13\\n\\nTa 15/16 (10...</td>\n",
       "      <td>[00278854-221673.jpg, 00278854-221677.jpg]</td>\n",
       "    </tr>\n",
       "    <tr>\n",
       "      <th>28</th>\n",
       "      <td>00278854</td>\n",
       "      <td>141112</td>\n",
       "      <td>[ \\nvod:0.6\\nvos:0.6\\n Tn:13/14\\n\\nTa 11/15 (1...</td>\n",
       "      <td>[00278854-127836.jpg, 00278854-127835.jpg, 002...</td>\n",
       "    </tr>\n",
       "    <tr>\n",
       "      <th>29</th>\n",
       "      <td>00278854</td>\n",
       "      <td>140730</td>\n",
       "      <td>[ \\nvod:0.4\\nvos:0.6\\nTn:13/13\\n\\nCo B) clear\\...</td>\n",
       "      <td>[00278854-113516.jpg, 00278854-113520.jpg]</td>\n",
       "    </tr>\n",
       "    <tr>\n",
       "      <th>...</th>\n",
       "      <td>...</td>\n",
       "      <td>...</td>\n",
       "      <td>...</td>\n",
       "      <td>...</td>\n",
       "    </tr>\n",
       "    <tr>\n",
       "      <th>292</th>\n",
       "      <td>00042739</td>\n",
       "      <td>140620</td>\n",
       "      <td>[vod:(1.0)\\nvos:(1.0)\\nTn:12/12\\n\\nB) R&amp;C (1.0...</td>\n",
       "      <td>[00042739-107682.jpg, 00042739-107685.jpg]</td>\n",
       "    </tr>\n",
       "    <tr>\n",
       "      <th>293</th>\n",
       "      <td>00121547</td>\n",
       "      <td>160608</td>\n",
       "      <td>[ \\nVod:(0.2)/0.2\\nVos:(0.3)/0.3\\nTn:19/17\\n\\n...</td>\n",
       "      <td>[00121547-198345.jpg, 00121547-198356.jpg]</td>\n",
       "    </tr>\n",
       "    <tr>\n",
       "      <th>294</th>\n",
       "      <td>00121547</td>\n",
       "      <td>150422</td>\n",
       "      <td>[vod:(0.4)\\nvos;(0.4)\\n Tn:18/18\\nAR R) -5.00s...</td>\n",
       "      <td>[00121547-151662.jpg, 00121547-151661.jpg]</td>\n",
       "    </tr>\n",
       "    <tr>\n",
       "      <th>295</th>\n",
       "      <td>00093125</td>\n",
       "      <td>151118</td>\n",
       "      <td>[ \\nvod: -\\nvos: (0.9)\\nTn: -/19\\n\\nDM, HT, AM...</td>\n",
       "      <td>[00093125-171940.jpg, 00093125-171941.jpg, 000...</td>\n",
       "    </tr>\n",
       "    <tr>\n",
       "      <th>296</th>\n",
       "      <td>00093125</td>\n",
       "      <td>160415</td>\n",
       "      <td>[ \\nvod:의안\\nvos:(0.6)\\nTn:-/20\\n\\nDM, HT, AMI\\...</td>\n",
       "      <td>[00093125-191036.jpg, 00093125-191040.jpg, 000...</td>\n",
       "    </tr>\n",
       "    <tr>\n",
       "      <th>297</th>\n",
       "      <td>00093125</td>\n",
       "      <td>160713</td>\n",
       "      <td>[ \\nVod:의안\\nVos:(0.1)\\nTn:-/19\\n\\nAR: L) +0.75...</td>\n",
       "      <td>[00093125-202691.jpg, 00093125-202690.jpg, 000...</td>\n",
       "    </tr>\n",
       "    <tr>\n",
       "      <th>298</th>\n",
       "      <td>00093125</td>\n",
       "      <td>150508</td>\n",
       "      <td>[ \\n\\nvos:(1.0)\\n Tn:18\\n\\nDM, HT, AMI\\nTos 20...</td>\n",
       "      <td>[00093125-153443.jpg, 00093125-153444.jpg, 000...</td>\n",
       "    </tr>\n",
       "    <tr>\n",
       "      <th>299</th>\n",
       "      <td>00012397</td>\n",
       "      <td>150302</td>\n",
       "      <td>[ \\nvod:(1.0)\\nvos:(1.0)\\n Tn:13/12\\n\\n파란 안약 거...</td>\n",
       "      <td>[00012397-144374.jpg, 00012397-144377.jpg]</td>\n",
       "    </tr>\n",
       "    <tr>\n",
       "      <th>300</th>\n",
       "      <td>00012397</td>\n",
       "      <td>131223</td>\n",
       "      <td>[ \\nvod:(1.0)\\nvos:(1.0)\\nTn:14/11\\n\\nTa 13/12...</td>\n",
       "      <td>[00012397-82342.jpg, 00012397-82346.jpg]</td>\n",
       "    </tr>\n",
       "    <tr>\n",
       "      <th>301</th>\n",
       "      <td>00012397</td>\n",
       "      <td>140730</td>\n",
       "      <td>[ \\nvod:(0.9)\\nvos:(1.0)\\nTn:14/26\\n\\n2개월 간 녹내...</td>\n",
       "      <td>[00012397-113320.jpg, 00012397-113325.jpg]</td>\n",
       "    </tr>\n",
       "    <tr>\n",
       "      <th>302</th>\n",
       "      <td>00123622</td>\n",
       "      <td>160627</td>\n",
       "      <td>[ \\nVod:0.5\\nVos:0.4\\nTn:14/12\\n\\nTa 13/15 (16...</td>\n",
       "      <td>[00123622-200640.jpg, 00123622-200643.jpg]</td>\n",
       "    </tr>\n",
       "    <tr>\n",
       "      <th>303</th>\n",
       "      <td>00123622</td>\n",
       "      <td>150817</td>\n",
       "      <td>[ \\nvod:0.5\\nvos:0.6\\nTn:12/11\\n\\nTa 11/13 (16...</td>\n",
       "      <td>[00123622-161376.jpg, 00123622-161380.jpg]</td>\n",
       "    </tr>\n",
       "    <tr>\n",
       "      <th>304</th>\n",
       "      <td>00123622</td>\n",
       "      <td>150413</td>\n",
       "      <td>[ \\nvod:0.4\\nvos:0.5\\n Tn:10/9\\n\\nTa 12/13 (16...</td>\n",
       "      <td>[00123622-150504.jpg, 00123622-150507.jpg]</td>\n",
       "    </tr>\n",
       "    <tr>\n",
       "      <th>305</th>\n",
       "      <td>00123622</td>\n",
       "      <td>160125</td>\n",
       "      <td>[ \\nvod:0.3\\nvos:0.2\\nTn:11/12\\n\\nTa 12/14 (17...</td>\n",
       "      <td>[00123622-179836.jpg, 00123622-179839.jpg]</td>\n",
       "    </tr>\n",
       "    <tr>\n",
       "      <th>306</th>\n",
       "      <td>00024636</td>\n",
       "      <td>160711</td>\n",
       "      <td>[ \\nVod:0.4\\nVos:0.2\\nTn:17/14\\n\\nHT\\n20164.11...</td>\n",
       "      <td>[00024636-202256.jpg, 00024636-202260.jpg]</td>\n",
       "    </tr>\n",
       "    <tr>\n",
       "      <th>307</th>\n",
       "      <td>00024636</td>\n",
       "      <td>160411</td>\n",
       "      <td>[Vod: 0.6\\nVos: 0.2\\nTn 16/18\\n\\nAR R) -2.00s ...</td>\n",
       "      <td>[00024636-190549.jpg, 00024636-190557.jpg]</td>\n",
       "    </tr>\n",
       "    <tr>\n",
       "      <th>308</th>\n",
       "      <td>00020321</td>\n",
       "      <td>160725</td>\n",
       "      <td>[ \\nvod:0.9\\nvos:0.8\\nTn:16/19\\n\\nTa 16/16 (13...</td>\n",
       "      <td>[00020321-203909.jpg, 00020321-203912.jpg]</td>\n",
       "    </tr>\n",
       "    <tr>\n",
       "      <th>309</th>\n",
       "      <td>00020321</td>\n",
       "      <td>160113</td>\n",
       "      <td>[ \\nvod: 0.8\\nvos: 0.5\\nTn: 17/18\\n\\nTa 16/18 ...</td>\n",
       "      <td>[00020321-178246.jpg, 00020321-178249.jpg]</td>\n",
       "    </tr>\n",
       "    <tr>\n",
       "      <th>310</th>\n",
       "      <td>00020321</td>\n",
       "      <td>160516</td>\n",
       "      <td>[ \\nVod:0.7\\nVos:0.8\\nTn:17/17\\n\\n'Cosopt-S 너무...</td>\n",
       "      <td>[00020321-194986.jpg, 00020321-194989.jpg]</td>\n",
       "    </tr>\n",
       "    <tr>\n",
       "      <th>311</th>\n",
       "      <td>00004139</td>\n",
       "      <td>150817</td>\n",
       "      <td>[ \\nvod:1.0\\nvos:1.0\\nTn:10/13\\n\\n2013.7 &amp; 201...</td>\n",
       "      <td>[00004139-161293.jpg, 00004139-161297.jpg]</td>\n",
       "    </tr>\n",
       "    <tr>\n",
       "      <th>312</th>\n",
       "      <td>00004139</td>\n",
       "      <td>160701</td>\n",
       "      <td>[ \\nVod:1.0\\nVos:0.5\\nTn:10/12\\n\\nTa 11/15 (11...</td>\n",
       "      <td>[00004139-201312.jpg, 00004139-201315.jpg]</td>\n",
       "    </tr>\n",
       "    <tr>\n",
       "      <th>313</th>\n",
       "      <td>00043128</td>\n",
       "      <td>160526</td>\n",
       "      <td>[vod: 0.7\\nvos: 1.0\\ntn: 15/15\\n\\nAR: R) -1.25...</td>\n",
       "      <td>[00043128-196698.jpg, 00043128-196701.jpg]</td>\n",
       "    </tr>\n",
       "    <tr>\n",
       "      <th>314</th>\n",
       "      <td>00034968</td>\n",
       "      <td>150429</td>\n",
       "      <td>[ \\nvod:(0.6)\\nvos:(0.7)\\n Tn:13/13\\n\\n2012.10...</td>\n",
       "      <td>[00034968-152259.jpg, 00034968-152263.jpg]</td>\n",
       "    </tr>\n",
       "    <tr>\n",
       "      <th>315</th>\n",
       "      <td>00034968</td>\n",
       "      <td>151102</td>\n",
       "      <td>[ \\nvod: (0.5)\\nvos: (0.9)\\nTn: 19/21\\n\\n2012....</td>\n",
       "      <td>[00034968-170191.jpg, 00034968-170194.jpg]</td>\n",
       "    </tr>\n",
       "    <tr>\n",
       "      <th>316</th>\n",
       "      <td>00034968</td>\n",
       "      <td>141022</td>\n",
       "      <td>[ \\nvod:0.2\\nvos:0.3\\nTn:15/15\\n\\nB) (0.8/0.8)...</td>\n",
       "      <td>[00034968-124838.jpg, 00034968-124842.jpg]</td>\n",
       "    </tr>\n",
       "    <tr>\n",
       "      <th>317</th>\n",
       "      <td>00109842</td>\n",
       "      <td>151127</td>\n",
       "      <td>[ \\nvod: (0.5)\\nvos: (0.7)\\nTn: 13/18\\n\\n2012....</td>\n",
       "      <td>[00109842-172871.jpg, 00109842-172874.jpg]</td>\n",
       "    </tr>\n",
       "    <tr>\n",
       "      <th>318</th>\n",
       "      <td>00109842</td>\n",
       "      <td>160527</td>\n",
       "      <td>[Vod:(0.5)\\nVos:(0.7)\\nTn:15/15\\n\\nTa 15/15 (1...</td>\n",
       "      <td>[00109842-196829.jpg, 00109842-196832.jpg]</td>\n",
       "    </tr>\n",
       "    <tr>\n",
       "      <th>319</th>\n",
       "      <td>00109842</td>\n",
       "      <td>141231</td>\n",
       "      <td>[ \\nvod:(0.7)\\nvos:(0.7)\\n Tn:13/19\\n\\n2013.3....</td>\n",
       "      <td>[00109842-135024.jpg, 00109842-135027.jpg]</td>\n",
       "    </tr>\n",
       "    <tr>\n",
       "      <th>320</th>\n",
       "      <td>00109842</td>\n",
       "      <td>150529</td>\n",
       "      <td>[ \\nvod:(0.7)\\nvos:(1.0)\\n Tn:17/21\\n\\n2013.3....</td>\n",
       "      <td>[00109842-156404.jpg, 00109842-156406.jpg, 001...</td>\n",
       "    </tr>\n",
       "    <tr>\n",
       "      <th>321</th>\n",
       "      <td>00109842</td>\n",
       "      <td>140822</td>\n",
       "      <td>[ \\nvod:0.9\\nvos:1.0\\nTn:13/19\\n\\n오늘 OCT 못하심\\n...</td>\n",
       "      <td>[00109842-116816.jpg, 00109842-116821.jpg]</td>\n",
       "    </tr>\n",
       "  </tbody>\n",
       "</table>\n",
       "<p>322 rows × 4 columns</p>\n",
       "</div>"
      ],
      "text/plain": [
       "          num    date                                                 so  \\\n",
       "0    00297937  170208  [ \\nvod: 0.7\\nvos: 0.7\\nTn: 17/15\\n\\nAR: R) -0...   \n",
       "1    00297937  170626  [DM(+) po medication으로 조절 비교적 되는 편\\n2014-11-17...   \n",
       "2    00297937  170306  [ \\nvod:0.7\\nvos:0.6\\nTn:13/13\\n\\nAR: R) -0.75...   \n",
       "3    00297937  161123  [ \\nvod: 0.7\\nvos: 0.8\\nTn: 12/15\\n\\ncat op 원하...   \n",
       "4    00297937  170525  [ \\nDM(+) po medication으로 조절 비교적 되는 편\\n2014-11...   \n",
       "5    00276519  160425  [ \\nvod:0.9\\nvos:0.8\\nTn:10/13\\n당뇨는 경계수치, 약을 먹...   \n",
       "6    00276519  160615  [ \\nvod:0.7\\nvos:0.7\\nTn:10/10\\n\\nTa 12/13 (09...   \n",
       "7    00276519  160323  [ \\nvod:0.7\\nvos:0.9\\nTn:9/9\\n\\n'우안이 더 침침하다'\\n...   \n",
       "8    00276519  170424  [HTN(+) PO med: 동네병원\\n당뇨수치는 정상 2016-6 HbA1C<6....   \n",
       "9    00276519  170308  [ \\nVod: 0.7\\nVos: 0.8\\nTn:11 / 12\\n\\nTa 13/13...   \n",
       "10   00301294  160108  [ \\nvod:0.9\\nvos:0.5\\nTn:18/16\\n\\n2013년 녹내장 진료...   \n",
       "11   00301294  160115  [vod:1.0\\nvos:0.8\\nTn:16/17\\n\\n\\nlid:B) MGD \\n...   \n",
       "12   00300172  160615  [ \\nvod:0.5\\nvos:0.6\\nTn:12/17\\n\\nTa 16/16 (11...   \n",
       "13   00300172  170125  [ \\nvod:0.6\\nvos:0.7\\nTn:19/16\\n\\nTa 18/20 (12...   \n",
       "14   00300172  160623  [ \\nHTN:+ po(10ya)\\nDM: + po(10ya)\\nop:-\\n----...   \n",
       "15   00300172  170405  [vod:0.6\\nvos:0.9\\nTn:10/11\\n\\nTa 10/12 (10:19...   \n",
       "16   00300172  161222  [ \\nHTN:+ po(10ya)\\nDM: + po(10ya)\\nL) small S...   \n",
       "17   00283413  160824  [Vod:0.7\\nVos:0.7\\nTn:17/15\\n\\nAR: R) +2.50s \\...   \n",
       "18   00283413  150130  [ \\nvod:0.7\\nvos:0.7\\nTn:12/17\\n\\n**황춘하 선생님 어머...   \n",
       "19   00274084  141117  [ \\n20130318 L) periorbital contusion\\n-------...   \n",
       "20   00274084  160608  [Vod:0.8\\nVos:0.9\\nTn:8/10\\n\\nAR: R) +0.75s -1...   \n",
       "21   00274084  160427  [ \\nVod:0.6\\nVos:0.8\\nTn:13/12\\n\\nHT\\n\\nAR: R)...   \n",
       "22   00274084  150406  [ \\nvod:0.7\\nvos:0.5\\n Tn:16/7\\n\\n수술원하심, 좌안이 더...   \n",
       "23   00289466  160601  [Vod:0.5\\nVos:1.0\\nTn:17/20\\n\\nTa 15/15 (14:26...   \n",
       "24   00289466  160905  [Vod:0.4\\nVos:1.0\\nTn:14/15\\n\\nR) (0.9) (+1.25...   \n",
       "25   00296912  140305  [vod:0.7\\nvos:F.C10cm\\nTn:22/14\\n\\nTa 17/18 (1...   \n",
       "26   00296912  170424  [vod: 1.0\\nvos: FC 10cm\\nTn: 18/13\\n\\nTa 18/15...   \n",
       "27   00278854  161214  [vod: 0.7\\nvos: 0.5\\nTn: 13/13\\n\\nTa 15/16 (10...   \n",
       "28   00278854  141112  [ \\nvod:0.6\\nvos:0.6\\n Tn:13/14\\n\\nTa 11/15 (1...   \n",
       "29   00278854  140730  [ \\nvod:0.4\\nvos:0.6\\nTn:13/13\\n\\nCo B) clear\\...   \n",
       "..        ...     ...                                                ...   \n",
       "292  00042739  140620  [vod:(1.0)\\nvos:(1.0)\\nTn:12/12\\n\\nB) R&C (1.0...   \n",
       "293  00121547  160608  [ \\nVod:(0.2)/0.2\\nVos:(0.3)/0.3\\nTn:19/17\\n\\n...   \n",
       "294  00121547  150422  [vod:(0.4)\\nvos;(0.4)\\n Tn:18/18\\nAR R) -5.00s...   \n",
       "295  00093125  151118  [ \\nvod: -\\nvos: (0.9)\\nTn: -/19\\n\\nDM, HT, AM...   \n",
       "296  00093125  160415  [ \\nvod:의안\\nvos:(0.6)\\nTn:-/20\\n\\nDM, HT, AMI\\...   \n",
       "297  00093125  160713  [ \\nVod:의안\\nVos:(0.1)\\nTn:-/19\\n\\nAR: L) +0.75...   \n",
       "298  00093125  150508  [ \\n\\nvos:(1.0)\\n Tn:18\\n\\nDM, HT, AMI\\nTos 20...   \n",
       "299  00012397  150302  [ \\nvod:(1.0)\\nvos:(1.0)\\n Tn:13/12\\n\\n파란 안약 거...   \n",
       "300  00012397  131223  [ \\nvod:(1.0)\\nvos:(1.0)\\nTn:14/11\\n\\nTa 13/12...   \n",
       "301  00012397  140730  [ \\nvod:(0.9)\\nvos:(1.0)\\nTn:14/26\\n\\n2개월 간 녹내...   \n",
       "302  00123622  160627  [ \\nVod:0.5\\nVos:0.4\\nTn:14/12\\n\\nTa 13/15 (16...   \n",
       "303  00123622  150817  [ \\nvod:0.5\\nvos:0.6\\nTn:12/11\\n\\nTa 11/13 (16...   \n",
       "304  00123622  150413  [ \\nvod:0.4\\nvos:0.5\\n Tn:10/9\\n\\nTa 12/13 (16...   \n",
       "305  00123622  160125  [ \\nvod:0.3\\nvos:0.2\\nTn:11/12\\n\\nTa 12/14 (17...   \n",
       "306  00024636  160711  [ \\nVod:0.4\\nVos:0.2\\nTn:17/14\\n\\nHT\\n20164.11...   \n",
       "307  00024636  160411  [Vod: 0.6\\nVos: 0.2\\nTn 16/18\\n\\nAR R) -2.00s ...   \n",
       "308  00020321  160725  [ \\nvod:0.9\\nvos:0.8\\nTn:16/19\\n\\nTa 16/16 (13...   \n",
       "309  00020321  160113  [ \\nvod: 0.8\\nvos: 0.5\\nTn: 17/18\\n\\nTa 16/18 ...   \n",
       "310  00020321  160516  [ \\nVod:0.7\\nVos:0.8\\nTn:17/17\\n\\n'Cosopt-S 너무...   \n",
       "311  00004139  150817  [ \\nvod:1.0\\nvos:1.0\\nTn:10/13\\n\\n2013.7 & 201...   \n",
       "312  00004139  160701  [ \\nVod:1.0\\nVos:0.5\\nTn:10/12\\n\\nTa 11/15 (11...   \n",
       "313  00043128  160526  [vod: 0.7\\nvos: 1.0\\ntn: 15/15\\n\\nAR: R) -1.25...   \n",
       "314  00034968  150429  [ \\nvod:(0.6)\\nvos:(0.7)\\n Tn:13/13\\n\\n2012.10...   \n",
       "315  00034968  151102  [ \\nvod: (0.5)\\nvos: (0.9)\\nTn: 19/21\\n\\n2012....   \n",
       "316  00034968  141022  [ \\nvod:0.2\\nvos:0.3\\nTn:15/15\\n\\nB) (0.8/0.8)...   \n",
       "317  00109842  151127  [ \\nvod: (0.5)\\nvos: (0.7)\\nTn: 13/18\\n\\n2012....   \n",
       "318  00109842  160527  [Vod:(0.5)\\nVos:(0.7)\\nTn:15/15\\n\\nTa 15/15 (1...   \n",
       "319  00109842  141231  [ \\nvod:(0.7)\\nvos:(0.7)\\n Tn:13/19\\n\\n2013.3....   \n",
       "320  00109842  150529  [ \\nvod:(0.7)\\nvos:(1.0)\\n Tn:17/21\\n\\n2013.3....   \n",
       "321  00109842  140822  [ \\nvod:0.9\\nvos:1.0\\nTn:13/19\\n\\n오늘 OCT 못하심\\n...   \n",
       "\n",
       "                                                 files  \n",
       "0           [00297937-228602.jpg, 00297937-228605.jpg]  \n",
       "1                                [00297937-244940.jpg]  \n",
       "2           [00297937-231385.jpg, 00297937-231388.jpg]  \n",
       "3           [00297937-219077.jpg, 00297937-219080.jpg]  \n",
       "4                                [00297937-241036.jpg]  \n",
       "5           [00276519-192429.jpg, 00276519-192431.jpg]  \n",
       "6           [00276519-199146.jpg, 00276519-199149.jpg]  \n",
       "7           [00276519-187485.jpg, 00276519-187490.jpg]  \n",
       "8           [00276519-237475.jpg, 00276519-237476.jpg]  \n",
       "9           [00276519-231592.jpg, 00276519-231595.jpg]  \n",
       "10          [00301294-177631.jpg, 00301294-177634.jpg]  \n",
       "11          [00301294-178617.jpg, 00301294-178621.jpg]  \n",
       "12          [00300172-199247.jpg, 00300172-199250.jpg]  \n",
       "13   [00300172-227022.jpg, 00300172-227024.jpg, 003...  \n",
       "14          [00300172-200136.jpg, 00300172-200134.jpg]  \n",
       "15   [00300172-235140.jpg, 00300172-235141.jpg, 003...  \n",
       "16   [00300172-222666.jpg, 00300172-222665.jpg, 003...  \n",
       "17          [00283413-207555.jpg, 00283413-207558.jpg]  \n",
       "18          [00283413-140280.jpg, 00283413-140284.jpg]  \n",
       "19   [00274084-128671.jpg, 00274084-128666.jpg, 002...  \n",
       "20          [00274084-198281.jpg, 00274084-198285.jpg]  \n",
       "21          [00274084-193026.jpg, 00274084-193030.jpg]  \n",
       "22          [00274084-149338.jpg, 00274084-149342.jpg]  \n",
       "23          [00289466-197514.jpg, 00289466-197519.jpg]  \n",
       "24          [00289466-209311.jpg, 00289466-209315.jpg]  \n",
       "25   [00296912-93328.jpg, 00296912-93330.jpg, 00296...  \n",
       "26          [00296912-237614.jpg, 00296912-237623.jpg]  \n",
       "27          [00278854-221673.jpg, 00278854-221677.jpg]  \n",
       "28   [00278854-127836.jpg, 00278854-127835.jpg, 002...  \n",
       "29          [00278854-113516.jpg, 00278854-113520.jpg]  \n",
       "..                                                 ...  \n",
       "292         [00042739-107682.jpg, 00042739-107685.jpg]  \n",
       "293         [00121547-198345.jpg, 00121547-198356.jpg]  \n",
       "294         [00121547-151662.jpg, 00121547-151661.jpg]  \n",
       "295  [00093125-171940.jpg, 00093125-171941.jpg, 000...  \n",
       "296  [00093125-191036.jpg, 00093125-191040.jpg, 000...  \n",
       "297  [00093125-202691.jpg, 00093125-202690.jpg, 000...  \n",
       "298  [00093125-153443.jpg, 00093125-153444.jpg, 000...  \n",
       "299         [00012397-144374.jpg, 00012397-144377.jpg]  \n",
       "300           [00012397-82342.jpg, 00012397-82346.jpg]  \n",
       "301         [00012397-113320.jpg, 00012397-113325.jpg]  \n",
       "302         [00123622-200640.jpg, 00123622-200643.jpg]  \n",
       "303         [00123622-161376.jpg, 00123622-161380.jpg]  \n",
       "304         [00123622-150504.jpg, 00123622-150507.jpg]  \n",
       "305         [00123622-179836.jpg, 00123622-179839.jpg]  \n",
       "306         [00024636-202256.jpg, 00024636-202260.jpg]  \n",
       "307         [00024636-190549.jpg, 00024636-190557.jpg]  \n",
       "308         [00020321-203909.jpg, 00020321-203912.jpg]  \n",
       "309         [00020321-178246.jpg, 00020321-178249.jpg]  \n",
       "310         [00020321-194986.jpg, 00020321-194989.jpg]  \n",
       "311         [00004139-161293.jpg, 00004139-161297.jpg]  \n",
       "312         [00004139-201312.jpg, 00004139-201315.jpg]  \n",
       "313         [00043128-196698.jpg, 00043128-196701.jpg]  \n",
       "314         [00034968-152259.jpg, 00034968-152263.jpg]  \n",
       "315         [00034968-170191.jpg, 00034968-170194.jpg]  \n",
       "316         [00034968-124838.jpg, 00034968-124842.jpg]  \n",
       "317         [00109842-172871.jpg, 00109842-172874.jpg]  \n",
       "318         [00109842-196829.jpg, 00109842-196832.jpg]  \n",
       "319         [00109842-135024.jpg, 00109842-135027.jpg]  \n",
       "320  [00109842-156404.jpg, 00109842-156406.jpg, 001...  \n",
       "321         [00109842-116816.jpg, 00109842-116821.jpg]  \n",
       "\n",
       "[322 rows x 4 columns]"
      ]
     },
     "execution_count": 2,
     "metadata": {},
     "output_type": "execute_result"
    }
   ],
   "source": [
    "res_df"
   ]
  },
  {
   "cell_type": "code",
   "execution_count": 3,
   "metadata": {},
   "outputs": [],
   "source": [
    "res_df.to_csv('res_df.csv')"
   ]
  },
  {
   "cell_type": "code",
   "execution_count": 4,
   "metadata": {},
   "outputs": [
    {
     "ename": "NameError",
     "evalue": "name 'aa' is not defined",
     "output_type": "error",
     "traceback": [
      "\u001b[1;31m---------------------------------------------------------------------------\u001b[0m",
      "\u001b[1;31mNameError\u001b[0m                                 Traceback (most recent call last)",
      "\u001b[1;32m<ipython-input-4-312382290f4f>\u001b[0m in \u001b[0;36m<module>\u001b[1;34m()\u001b[0m\n\u001b[1;32m----> 1\u001b[1;33m \u001b[0maa\u001b[0m\u001b[1;33m\u001b[0m\u001b[0m\n\u001b[0m",
      "\u001b[1;31mNameError\u001b[0m: name 'aa' is not defined"
     ]
    }
   ],
   "source": [
    "aa"
   ]
  },
  {
   "cell_type": "code",
   "execution_count": 5,
   "metadata": {},
   "outputs": [
    {
     "ename": "NameError",
     "evalue": "name 'a' is not defined",
     "output_type": "error",
     "traceback": [
      "\u001b[1;31m---------------------------------------------------------------------------\u001b[0m",
      "\u001b[1;31mNameError\u001b[0m                                 Traceback (most recent call last)",
      "\u001b[1;32m<ipython-input-5-3f786850e387>\u001b[0m in \u001b[0;36m<module>\u001b[1;34m()\u001b[0m\n\u001b[1;32m----> 1\u001b[1;33m \u001b[0ma\u001b[0m\u001b[1;33m\u001b[0m\u001b[0m\n\u001b[0m",
      "\u001b[1;31mNameError\u001b[0m: name 'a' is not defined"
     ]
    }
   ],
   "source": [
    "a"
   ]
  },
  {
   "cell_type": "code",
   "execution_count": 6,
   "metadata": {},
   "outputs": [],
   "source": [
    "a = res_df.so[0]"
   ]
  },
  {
   "cell_type": "code",
   "execution_count": 7,
   "metadata": {},
   "outputs": [
    {
     "data": {
      "text/plain": [
       "array([\" \\nvod: 0.7\\nvos: 0.7\\nTn: 17/15\\n\\nAR: R) -0.75s -1.50c 46a\\n      L) +1.75s -1.50c 114a\\nR&C: R) 1.0 -0.75s -1.50c 50a\\n        L) 0.7 plano\\nNear 0.4 /0.4\\n\\nB) 0.8 +2.00s\\n\\n'수술한 눈 좋다, 차이가 나서 좌안 수술할까말까 고민중'\\n\\nR) cat op (2017.1) by Dr 경\\nDM\\n2016.3.28 DSP B) PPA, C/D ratio HIGH\\n2016.3.28 rOCT B) 87 / 89 um, B) PM thin\\n2016.3.28 mOCT B) non-specific\\n2016.11.23 OCT B) 88 / 89 um, B) PM thin\\n\\nOCT B) 92 / 88 um, B) PM thin\\nDSP B) stationary\\n\\nR) IOL in situ L) C3N2(diffuse)\\nDisc B) PPA, C/D ratio HIGH\\n\\nAngle B) PAC > 1/4 CT\\nBUT = 9 sec     \"],\n",
       "      dtype=object)"
      ]
     },
     "execution_count": 7,
     "metadata": {},
     "output_type": "execute_result"
    }
   ],
   "source": [
    "a"
   ]
  },
  {
   "cell_type": "code",
   "execution_count": 29,
   "metadata": {},
   "outputs": [],
   "source": [
    "aa = re.search('.*[vV][oO][dD].*(\\d+\\.*\\d+).*',list(a)[0])"
   ]
  },
  {
   "cell_type": "code",
   "execution_count": 15,
   "metadata": {},
   "outputs": [
    {
     "data": {
      "text/plain": [
       "\" \\nvod: 0.7\\nvos: 0.7\\nTn: 17/15\\n\\nAR: R) -0.75s -1.50c 46a\\n      L) +1.75s -1.50c 114a\\nR&C: R) 1.0 -0.75s -1.50c 50a\\n        L) 0.7 plano\\nNear 0.4 /0.4\\n\\nB) 0.8 +2.00s\\n\\n'수술한 눈 좋다, 차이가 나서 좌안 수술할까말까 고민중'\\n\\nR) cat op (2017.1) by Dr 경\\nDM\\n2016.3.28 DSP B) PPA, C/D ratio HIGH\\n2016.3.28 rOCT B) 87 / 89 um, B) PM thin\\n2016.3.28 mOCT B) non-specific\\n2016.11.23 OCT B) 88 / 89 um, B) PM thin\\n\\nOCT B) 92 / 88 um, B) PM thin\\nDSP B) stationary\\n\\nR) IOL in situ L) C3N2(diffuse)\\nDisc B) PPA, C/D ratio HIGH\\n\\nAngle B) PAC > 1/4 CT\\nBUT = 9 sec     \""
      ]
     },
     "execution_count": 15,
     "metadata": {},
     "output_type": "execute_result"
    }
   ],
   "source": [
    "list(a)[0]"
   ]
  },
  {
   "cell_type": "code",
   "execution_count": 23,
   "metadata": {},
   "outputs": [
    {
     "data": {
      "text/plain": [
       "<_sre.SRE_Match object; span=(0, 11), match=' \\nvod: 0.7\\n'>"
      ]
     },
     "execution_count": 23,
     "metadata": {},
     "output_type": "execute_result"
    }
   ],
   "source": [
    "aa"
   ]
  },
  {
   "cell_type": "code",
   "execution_count": 28,
   "metadata": {},
   "outputs": [
    {
     "data": {
      "text/plain": [
       "'0.7'"
      ]
     },
     "execution_count": 28,
     "metadata": {},
     "output_type": "execute_result"
    }
   ],
   "source": [
    "aa.group(1)"
   ]
  },
  {
   "cell_type": "code",
   "execution_count": 31,
   "metadata": {},
   "outputs": [
    {
     "data": {
      "text/plain": [
       "'0.7'"
      ]
     },
     "execution_count": 31,
     "metadata": {},
     "output_type": "execute_result"
    }
   ],
   "source": []
  },
  {
   "cell_type": "code",
   "execution_count": 175,
   "metadata": {},
   "outputs": [],
   "source": [
    "rex_vod = '[vV][oO][dD]\\D*(\\d+\\.*\\d+).*'"
   ]
  },
  {
   "cell_type": "code",
   "execution_count": 176,
   "metadata": {},
   "outputs": [],
   "source": [
    "rex_vos = '[vV][oO][sS]\\D*(\\d+\\.*\\d+).*'"
   ]
  },
  {
   "cell_type": "code",
   "execution_count": 177,
   "metadata": {},
   "outputs": [],
   "source": [
    "rex_tn = '[tT].*[nN]\\D*(\\d+.\\d+)'"
   ]
  },
  {
   "cell_type": "code",
   "execution_count": 178,
   "metadata": {},
   "outputs": [],
   "source": [
    "aa = re.search(rex_tn,list(a)[0])"
   ]
  },
  {
   "cell_type": "code",
   "execution_count": 179,
   "metadata": {},
   "outputs": [
    {
     "data": {
      "text/plain": [
       "'Tn: 17/15'"
      ]
     },
     "execution_count": 179,
     "metadata": {},
     "output_type": "execute_result"
    }
   ],
   "source": [
    "aa.group(0)"
   ]
  },
  {
   "cell_type": "code",
   "execution_count": 180,
   "metadata": {},
   "outputs": [
    {
     "data": {
      "text/plain": [
       "'17/15'"
      ]
     },
     "execution_count": 180,
     "metadata": {},
     "output_type": "execute_result"
    }
   ],
   "source": [
    "aa.group(1)"
   ]
  },
  {
   "cell_type": "raw",
   "metadata": {},
   "source": []
  },
  {
   "cell_type": "markdown",
   "metadata": {},
   "source": []
  }
 ],
 "metadata": {
  "kernelspec": {
   "display_name": "Python 3",
   "language": "python",
   "name": "python3"
  },
  "language_info": {
   "codemirror_mode": {
    "name": "ipython",
    "version": 3
   },
   "file_extension": ".py",
   "mimetype": "text/x-python",
   "name": "python",
   "nbconvert_exporter": "python",
   "pygments_lexer": "ipython3",
   "version": "3.6.4"
  }
 },
 "nbformat": 4,
 "nbformat_minor": 2
}
