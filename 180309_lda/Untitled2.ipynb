{
 "cells": [
  {
   "cell_type": "code",
   "execution_count": 1,
   "metadata": {
    "collapsed": true
   },
   "outputs": [],
   "source": [
    "##########################################\n",
    "## Made by : HERO Kwon\n",
    "## Title : LDA \n",
    "## Date : 2018.03.09.\n",
    "## Description : LDA\n",
    "##########################################\n",
    "\n",
    "\n",
    "# packages\n",
    "\n",
    "import numpy as np\n",
    "import pandas as pd\n",
    "import scipy as sp\n",
    "import os\n",
    "import re\n",
    "import imageio\n",
    "\n",
    "# import ORLDB\n",
    "\n",
    "file_path = 'D:\\Data\\ORLDB'\n",
    "im1 = imageio.imread(os.path.join(file_path,'orl0101.bmp'),flatten=0)\n",
    "\n",
    "file_list = os.listdir(file_path)\n",
    "file_list = [s for s in file_list if \".bmp\" in s]\n",
    "\n",
    "image_data = pd.DataFrame(columns = ['data','person','person_num'])\n",
    "\n",
    "for file in file_list:\n",
    "    image_read = imageio.imread(os.path.join(file_path,file),flatten=True)\n",
    "    [person,person_num] = re.findall('\\d\\d',file)\n",
    "\n",
    "    data_read = {'data':image_read,'person':person,'person_num':person_num}\n",
    "    image_data = image_data.append(data_read,ignore_index=True)\n"
   ]
  },
  {
   "cell_type": "code",
   "execution_count": null,
   "metadata": {
    "collapsed": true
   },
   "outputs": [],
   "source": []
  }
 ],
 "metadata": {
  "kernelspec": {
   "display_name": "Python 3",
   "language": "python",
   "name": "python3"
  },
  "language_info": {
   "codemirror_mode": {
    "name": "ipython",
    "version": 3
   },
   "file_extension": ".py",
   "mimetype": "text/x-python",
   "name": "python",
   "nbconvert_exporter": "python",
   "pygments_lexer": "ipython3",
   "version": "3.6.3"
  }
 },
 "nbformat": 4,
 "nbformat_minor": 2
}
