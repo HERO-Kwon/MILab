{
 "cells": [
  {
   "cell_type": "code",
   "execution_count": 1,
   "metadata": {
    "collapsed": true
   },
   "outputs": [],
   "source": [
    "# packages\n",
    "\n",
    "import numpy as np\n",
    "import pandas as pd\n",
    "import scipy as sp"
   ]
  },
  {
   "cell_type": "code",
   "execution_count": 2,
   "metadata": {},
   "outputs": [
    {
     "name": "stderr",
     "output_type": "stream",
     "text": [
      "'ls' is not recognized as an internal or external command,\n",
      "operable program or batch file.\n"
     ]
    }
   ],
   "source": [
    "!ls"
   ]
  },
  {
   "cell_type": "code",
   "execution_count": 3,
   "metadata": {},
   "outputs": [
    {
     "name": "stdout",
     "output_type": "stream",
     "text": [
      "\n",
      "Usage:   \n",
      "  pip <command> [options]\n",
      "\n",
      "Commands:\n",
      "  install                     Install packages.\n",
      "  download                    Download packages.\n",
      "  uninstall                   Uninstall packages.\n",
      "  freeze                      Output installed packages in requirements format.\n",
      "  list                        List installed packages.\n",
      "  show                        Show information about installed packages.\n",
      "  check                       Verify installed packages have compatible dependencies.\n",
      "  search                      Search PyPI for packages.\n",
      "  wheel                       Build wheels from your requirements.\n",
      "  hash                        Compute hashes of package archives.\n",
      "  completion                  A helper command used for command completion.\n",
      "  help                        Show help for commands.\n",
      "\n",
      "General Options:\n",
      "  -h, --help                  Show help.\n",
      "  --isolated                  Run pip in an isolated mode, ignoring\n",
      "                              environment variables and user configuration.\n",
      "  -v, --verbose               Give more output. Option is additive, and can be\n",
      "                              used up to 3 times.\n",
      "  -V, --version               Show version and exit.\n",
      "  -q, --quiet                 Give less output. Option is additive, and can be\n",
      "                              used up to 3 times (corresponding to WARNING,\n",
      "                              ERROR, and CRITICAL logging levels).\n",
      "  --log <path>                Path to a verbose appending log.\n",
      "  --proxy <proxy>             Specify a proxy in the form\n",
      "                              [user:passwd@]proxy.server:port.\n",
      "  --retries <retries>         Maximum number of retries each connection should\n",
      "                              attempt (default 5 times).\n",
      "  --timeout <sec>             Set the socket timeout (default 15 seconds).\n",
      "  --exists-action <action>    Default action when a path already exists:\n",
      "                              (s)witch, (i)gnore, (w)ipe, (b)ackup, (a)bort.\n",
      "  --trusted-host <hostname>   Mark this host as trusted, even though it does\n",
      "                              not have valid or any HTTPS.\n",
      "  --cert <path>               Path to alternate CA bundle.\n",
      "  --client-cert <path>        Path to SSL client certificate, a single file\n",
      "                              containing the private key and the certificate\n",
      "                              in PEM format.\n",
      "  --cache-dir <dir>           Store the cache data in <dir>.\n",
      "  --no-cache-dir              Disable the cache.\n",
      "  --disable-pip-version-check\n",
      "                              Don't periodically check PyPI to determine\n",
      "                              whether a new version of pip is available for\n",
      "                              download. Implied with --no-index.\n"
     ]
    }
   ],
   "source": [
    "!pip"
   ]
  },
  {
   "cell_type": "code",
   "execution_count": 4,
   "metadata": {},
   "outputs": [
    {
     "ename": "AttributeError",
     "evalue": "module 'scipy' has no attribute 'misc'",
     "output_type": "error",
     "traceback": [
      "\u001b[1;31m---------------------------------------------------------------------------\u001b[0m",
      "\u001b[1;31mAttributeError\u001b[0m                            Traceback (most recent call last)",
      "\u001b[1;32m<ipython-input-4-70353921d0f8>\u001b[0m in \u001b[0;36m<module>\u001b[1;34m()\u001b[0m\n\u001b[1;32m----> 1\u001b[1;33m \u001b[0msp\u001b[0m\u001b[1;33m.\u001b[0m\u001b[0mmisc\u001b[0m\u001b[1;33m\u001b[0m\u001b[0m\n\u001b[0m",
      "\u001b[1;31mAttributeError\u001b[0m: module 'scipy' has no attribute 'misc'"
     ]
    }
   ],
   "source": [
    "sp.misc"
   ]
  },
  {
   "cell_type": "code",
   "execution_count": 5,
   "metadata": {
    "collapsed": true
   },
   "outputs": [],
   "source": [
    "from scipy import misc"
   ]
  },
  {
   "cell_type": "code",
   "execution_count": 6,
   "metadata": {},
   "outputs": [
    {
     "data": {
      "text/plain": [
       "array([[[121, 112, 131],\n",
       "        [138, 129, 148],\n",
       "        [153, 144, 165],\n",
       "        ..., \n",
       "        [119, 126,  74],\n",
       "        [131, 136,  82],\n",
       "        [139, 144,  90]],\n",
       "\n",
       "       [[ 89,  82, 100],\n",
       "        [110, 103, 121],\n",
       "        [130, 122, 143],\n",
       "        ..., \n",
       "        [118, 125,  71],\n",
       "        [134, 141,  87],\n",
       "        [146, 153,  99]],\n",
       "\n",
       "       [[ 73,  66,  84],\n",
       "        [ 94,  87, 105],\n",
       "        [115, 108, 126],\n",
       "        ..., \n",
       "        [117, 126,  71],\n",
       "        [133, 142,  87],\n",
       "        [144, 153,  98]],\n",
       "\n",
       "       ..., \n",
       "       [[ 87, 106,  76],\n",
       "        [ 94, 110,  81],\n",
       "        [107, 124,  92],\n",
       "        ..., \n",
       "        [120, 158,  97],\n",
       "        [119, 157,  96],\n",
       "        [119, 158,  95]],\n",
       "\n",
       "       [[ 85, 101,  72],\n",
       "        [ 95, 111,  82],\n",
       "        [112, 127,  96],\n",
       "        ..., \n",
       "        [121, 157,  96],\n",
       "        [120, 156,  94],\n",
       "        [120, 156,  94]],\n",
       "\n",
       "       [[ 85, 101,  74],\n",
       "        [ 97, 113,  84],\n",
       "        [111, 126,  97],\n",
       "        ..., \n",
       "        [120, 156,  95],\n",
       "        [119, 155,  93],\n",
       "        [118, 154,  92]]], dtype=uint8)"
      ]
     },
     "execution_count": 6,
     "metadata": {},
     "output_type": "execute_result"
    }
   ],
   "source": [
    "misc.face()"
   ]
  },
  {
   "cell_type": "code",
   "execution_count": 7,
   "metadata": {
    "collapsed": true
   },
   "outputs": [],
   "source": [
    "file_path = 'D:\\Data\\ORLDB'"
   ]
  },
  {
   "cell_type": "code",
   "execution_count": 10,
   "metadata": {},
   "outputs": [],
   "source": [
    "im1 = misc.imread(os.path.join(file_path,'orl0101.bmp'),flatten=0)"
   ]
  },
  {
   "cell_type": "code",
   "execution_count": 9,
   "metadata": {
    "collapsed": true
   },
   "outputs": [],
   "source": [
    "import os"
   ]
  },
  {
   "cell_type": "code",
   "execution_count": 11,
   "metadata": {},
   "outputs": [
    {
     "data": {
      "text/plain": [
       "array([[52, 46, 45, ..., 51, 52, 51],\n",
       "       [46, 47, 47, ..., 31, 43, 51],\n",
       "       [45, 51, 35, ..., 33, 43, 53],\n",
       "       ..., \n",
       "       [47, 47, 50, ..., 42, 41, 49],\n",
       "       [48, 46, 47, ..., 46, 45, 46],\n",
       "       [51, 45, 50, ..., 42, 47, 46]], dtype=uint8)"
      ]
     },
     "execution_count": 11,
     "metadata": {},
     "output_type": "execute_result"
    }
   ],
   "source": [
    "im1"
   ]
  },
  {
   "cell_type": "code",
   "execution_count": 12,
   "metadata": {},
   "outputs": [
    {
     "ename": "NameError",
     "evalue": "name 'names' is not defined",
     "output_type": "error",
     "traceback": [
      "\u001b[1;31m---------------------------------------------------------------------------\u001b[0m",
      "\u001b[1;31mNameError\u001b[0m                                 Traceback (most recent call last)",
      "\u001b[1;32m<ipython-input-12-54bb48308e83>\u001b[0m in \u001b[0;36m<module>\u001b[1;34m()\u001b[0m\n\u001b[1;32m----> 1\u001b[1;33m \u001b[0mnames\u001b[0m\u001b[1;33m(\u001b[0m\u001b[0mim1\u001b[0m\u001b[1;33m)\u001b[0m\u001b[1;33m\u001b[0m\u001b[0m\n\u001b[0m",
      "\u001b[1;31mNameError\u001b[0m: name 'names' is not defined"
     ]
    }
   ],
   "source": [
    "names(im1)"
   ]
  },
  {
   "cell_type": "code",
   "execution_count": 13,
   "metadata": {
    "collapsed": true
   },
   "outputs": [
    {
     "ename": "AttributeError",
     "evalue": "type object 'list' has no attribute 'files'",
     "output_type": "error",
     "traceback": [
      "\u001b[1;31m---------------------------------------------------------------------------\u001b[0m",
      "\u001b[1;31mAttributeError\u001b[0m                            Traceback (most recent call last)",
      "\u001b[1;32m<ipython-input-13-c2b72604355f>\u001b[0m in \u001b[0;36m<module>\u001b[1;34m()\u001b[0m\n\u001b[1;32m----> 1\u001b[1;33m \u001b[0mlist\u001b[0m\u001b[1;33m.\u001b[0m\u001b[0mfiles\u001b[0m\u001b[1;33m(\u001b[0m\u001b[1;33m)\u001b[0m\u001b[1;33m\u001b[0m\u001b[0m\n\u001b[0m",
      "\u001b[1;31mAttributeError\u001b[0m: type object 'list' has no attribute 'files'"
     ]
    }
   ],
   "source": []
  },
  {
   "cell_type": "code",
   "execution_count": 14,
   "metadata": {},
   "outputs": [
    {
     "data": {
      "text/plain": [
       "<function nt.listdir>"
      ]
     },
     "execution_count": 14,
     "metadata": {},
     "output_type": "execute_result"
    }
   ],
   "source": [
    "os.listdir"
   ]
  },
  {
   "cell_type": "code",
   "execution_count": 15,
   "metadata": {},
   "outputs": [
    {
     "data": {
      "text/plain": [
       "['.ipynb_checkpoints', 'lda.ipynb', 'lda1.py', 'Untitled.ipynb']"
      ]
     },
     "execution_count": 15,
     "metadata": {},
     "output_type": "execute_result"
    }
   ],
   "source": [
    "os.listdir()"
   ]
  },
  {
   "cell_type": "code",
   "execution_count": 16,
   "metadata": {
    "collapsed": true
   },
   "outputs": [
    {
     "data": {
      "text/plain": [
       "['orl0101.bmp',\n",
       " 'orl0102.bmp',\n",
       " 'orl0103.bmp',\n",
       " 'orl0104.bmp',\n",
       " 'orl0105.bmp',\n",
       " 'orl0106.bmp',\n",
       " 'orl0107.bmp',\n",
       " 'orl0108.bmp',\n",
       " 'orl0109.bmp',\n",
       " 'orl0110.bmp',\n",
       " 'orl0201.bmp',\n",
       " 'orl0202.bmp',\n",
       " 'orl0203.bmp',\n",
       " 'orl0204.bmp',\n",
       " 'orl0205.bmp',\n",
       " 'orl0206.bmp',\n",
       " 'orl0207.bmp',\n",
       " 'orl0208.bmp',\n",
       " 'orl0209.bmp',\n",
       " 'orl0210.bmp',\n",
       " 'orl0301.bmp',\n",
       " 'orl0302.bmp',\n",
       " 'orl0303.bmp',\n",
       " 'orl0304.bmp',\n",
       " 'orl0305.bmp',\n",
       " 'orl0306.bmp',\n",
       " 'orl0307.bmp',\n",
       " 'orl0308.bmp',\n",
       " 'orl0309.bmp',\n",
       " 'orl0310.bmp',\n",
       " 'orl0401.bmp',\n",
       " 'orl0402.bmp',\n",
       " 'orl0403.bmp',\n",
       " 'orl0404.bmp',\n",
       " 'orl0405.bmp',\n",
       " 'orl0406.bmp',\n",
       " 'orl0407.bmp',\n",
       " 'orl0408.bmp',\n",
       " 'orl0409.bmp',\n",
       " 'orl0410.bmp',\n",
       " 'orl0501.bmp',\n",
       " 'orl0502.bmp',\n",
       " 'orl0503.bmp',\n",
       " 'orl0504.bmp',\n",
       " 'orl0505.bmp',\n",
       " 'orl0506.bmp',\n",
       " 'orl0507.bmp',\n",
       " 'orl0508.bmp',\n",
       " 'orl0509.bmp',\n",
       " 'orl0510.bmp',\n",
       " 'orl0601.bmp',\n",
       " 'orl0602.bmp',\n",
       " 'orl0603.bmp',\n",
       " 'orl0604.bmp',\n",
       " 'orl0605.bmp',\n",
       " 'orl0606.bmp',\n",
       " 'orl0607.bmp',\n",
       " 'orl0608.bmp',\n",
       " 'orl0609.bmp',\n",
       " 'orl0610.bmp',\n",
       " 'orl0701.bmp',\n",
       " 'orl0702.bmp',\n",
       " 'orl0703.bmp',\n",
       " 'orl0704.bmp',\n",
       " 'orl0705.bmp',\n",
       " 'orl0706.bmp',\n",
       " 'orl0707.bmp',\n",
       " 'orl0708.bmp',\n",
       " 'orl0709.bmp',\n",
       " 'orl0710.bmp',\n",
       " 'orl0801.bmp',\n",
       " 'orl0802.bmp',\n",
       " 'orl0803.bmp',\n",
       " 'orl0804.bmp',\n",
       " 'orl0805.bmp',\n",
       " 'orl0806.bmp',\n",
       " 'orl0807.bmp',\n",
       " 'orl0808.bmp',\n",
       " 'orl0809.bmp',\n",
       " 'orl0810.bmp',\n",
       " 'orl0901.bmp',\n",
       " 'orl0902.bmp',\n",
       " 'orl0903.bmp',\n",
       " 'orl0904.bmp',\n",
       " 'orl0905.bmp',\n",
       " 'orl0906.bmp',\n",
       " 'orl0907.bmp',\n",
       " 'orl0908.bmp',\n",
       " 'orl0909.bmp',\n",
       " 'orl0910.bmp',\n",
       " 'orl1001.bmp',\n",
       " 'orl1002.bmp',\n",
       " 'orl1003.bmp',\n",
       " 'orl1004.bmp',\n",
       " 'orl1005.bmp',\n",
       " 'orl1006.bmp',\n",
       " 'orl1007.bmp',\n",
       " 'orl1008.bmp',\n",
       " 'orl1009.bmp',\n",
       " 'orl1010.bmp',\n",
       " 'orl1101.bmp',\n",
       " 'orl1102.bmp',\n",
       " 'orl1103.bmp',\n",
       " 'orl1104.bmp',\n",
       " 'orl1105.bmp',\n",
       " 'orl1106.bmp',\n",
       " 'orl1107.bmp',\n",
       " 'orl1108.bmp',\n",
       " 'orl1109.bmp',\n",
       " 'orl1110.bmp',\n",
       " 'orl1201.bmp',\n",
       " 'orl1202.bmp',\n",
       " 'orl1203.bmp',\n",
       " 'orl1204.bmp',\n",
       " 'orl1205.bmp',\n",
       " 'orl1206.bmp',\n",
       " 'orl1207.bmp',\n",
       " 'orl1208.bmp',\n",
       " 'orl1209.bmp',\n",
       " 'orl1210.bmp',\n",
       " 'orl1301.bmp',\n",
       " 'orl1302.bmp',\n",
       " 'orl1303.bmp',\n",
       " 'orl1304.bmp',\n",
       " 'orl1305.bmp',\n",
       " 'orl1306.bmp',\n",
       " 'orl1307.bmp',\n",
       " 'orl1308.bmp',\n",
       " 'orl1309.bmp',\n",
       " 'orl1310.bmp',\n",
       " 'orl1401.bmp',\n",
       " 'orl1402.bmp',\n",
       " 'orl1403.bmp',\n",
       " 'orl1404.bmp',\n",
       " 'orl1405.bmp',\n",
       " 'orl1406.bmp',\n",
       " 'orl1407.bmp',\n",
       " 'orl1408.bmp',\n",
       " 'orl1409.bmp',\n",
       " 'orl1410.bmp',\n",
       " 'orl1501.bmp',\n",
       " 'orl1502.bmp',\n",
       " 'orl1503.bmp',\n",
       " 'orl1504.bmp',\n",
       " 'orl1505.bmp',\n",
       " 'orl1506.bmp',\n",
       " 'orl1507.bmp',\n",
       " 'orl1508.bmp',\n",
       " 'orl1509.bmp',\n",
       " 'orl1510.bmp',\n",
       " 'orl1601.bmp',\n",
       " 'orl1602.bmp',\n",
       " 'orl1603.bmp',\n",
       " 'orl1604.bmp',\n",
       " 'orl1605.bmp',\n",
       " 'orl1606.bmp',\n",
       " 'orl1607.bmp',\n",
       " 'orl1608.bmp',\n",
       " 'orl1609.bmp',\n",
       " 'orl1610.bmp',\n",
       " 'orl1701.bmp',\n",
       " 'orl1702.bmp',\n",
       " 'orl1703.bmp',\n",
       " 'orl1704.bmp',\n",
       " 'orl1705.bmp',\n",
       " 'orl1706.bmp',\n",
       " 'orl1707.bmp',\n",
       " 'orl1708.bmp',\n",
       " 'orl1709.bmp',\n",
       " 'orl1710.bmp',\n",
       " 'orl1801.bmp',\n",
       " 'orl1802.bmp',\n",
       " 'orl1803.bmp',\n",
       " 'orl1804.bmp',\n",
       " 'orl1805.bmp',\n",
       " 'orl1806.bmp',\n",
       " 'orl1807.bmp',\n",
       " 'orl1808.bmp',\n",
       " 'orl1809.bmp',\n",
       " 'orl1810.bmp',\n",
       " 'orl1901.bmp',\n",
       " 'orl1902.bmp',\n",
       " 'orl1903.bmp',\n",
       " 'orl1904.bmp',\n",
       " 'orl1905.bmp',\n",
       " 'orl1906.bmp',\n",
       " 'orl1907.bmp',\n",
       " 'orl1908.bmp',\n",
       " 'orl1909.bmp',\n",
       " 'orl1910.bmp',\n",
       " 'orl2001.bmp',\n",
       " 'orl2002.bmp',\n",
       " 'orl2003.bmp',\n",
       " 'orl2004.bmp',\n",
       " 'orl2005.bmp',\n",
       " 'orl2006.bmp',\n",
       " 'orl2007.bmp',\n",
       " 'orl2008.bmp',\n",
       " 'orl2009.bmp',\n",
       " 'orl2010.bmp',\n",
       " 'orl2101.bmp',\n",
       " 'orl2102.bmp',\n",
       " 'orl2103.bmp',\n",
       " 'orl2104.bmp',\n",
       " 'orl2105.bmp',\n",
       " 'orl2106.bmp',\n",
       " 'orl2107.bmp',\n",
       " 'orl2108.bmp',\n",
       " 'orl2109.bmp',\n",
       " 'orl2110.bmp',\n",
       " 'orl2201.bmp',\n",
       " 'orl2202.bmp',\n",
       " 'orl2203.bmp',\n",
       " 'orl2204.bmp',\n",
       " 'orl2205.bmp',\n",
       " 'orl2206.bmp',\n",
       " 'orl2207.bmp',\n",
       " 'orl2208.bmp',\n",
       " 'orl2209.bmp',\n",
       " 'orl2210.bmp',\n",
       " 'orl2301.bmp',\n",
       " 'orl2302.bmp',\n",
       " 'orl2303.bmp',\n",
       " 'orl2304.bmp',\n",
       " 'orl2305.bmp',\n",
       " 'orl2306.bmp',\n",
       " 'orl2307.bmp',\n",
       " 'orl2308.bmp',\n",
       " 'orl2309.bmp',\n",
       " 'orl2310.bmp',\n",
       " 'orl2401.bmp',\n",
       " 'orl2402.bmp',\n",
       " 'orl2403.bmp',\n",
       " 'orl2404.bmp',\n",
       " 'orl2405.bmp',\n",
       " 'orl2406.bmp',\n",
       " 'orl2407.bmp',\n",
       " 'orl2408.bmp',\n",
       " 'orl2409.bmp',\n",
       " 'orl2410.bmp',\n",
       " 'orl2501.bmp',\n",
       " 'orl2502.bmp',\n",
       " 'orl2503.bmp',\n",
       " 'orl2504.bmp',\n",
       " 'orl2505.bmp',\n",
       " 'orl2506.bmp',\n",
       " 'orl2507.bmp',\n",
       " 'orl2508.bmp',\n",
       " 'orl2509.bmp',\n",
       " 'orl2510.bmp',\n",
       " 'orl2601.bmp',\n",
       " 'orl2602.bmp',\n",
       " 'orl2603.bmp',\n",
       " 'orl2604.bmp',\n",
       " 'orl2605.bmp',\n",
       " 'orl2606.bmp',\n",
       " 'orl2607.bmp',\n",
       " 'orl2608.bmp',\n",
       " 'orl2609.bmp',\n",
       " 'orl2610.bmp',\n",
       " 'orl2701.bmp',\n",
       " 'orl2702.bmp',\n",
       " 'orl2703.bmp',\n",
       " 'orl2704.bmp',\n",
       " 'orl2705.bmp',\n",
       " 'orl2706.bmp',\n",
       " 'orl2707.bmp',\n",
       " 'orl2708.bmp',\n",
       " 'orl2709.bmp',\n",
       " 'orl2710.bmp',\n",
       " 'orl2801.bmp',\n",
       " 'orl2802.bmp',\n",
       " 'orl2803.bmp',\n",
       " 'orl2804.bmp',\n",
       " 'orl2805.bmp',\n",
       " 'orl2806.bmp',\n",
       " 'orl2807.bmp',\n",
       " 'orl2808.bmp',\n",
       " 'orl2809.bmp',\n",
       " 'orl2810.bmp',\n",
       " 'orl2901.bmp',\n",
       " 'orl2902.bmp',\n",
       " 'orl2903.bmp',\n",
       " 'orl2904.bmp',\n",
       " 'orl2905.bmp',\n",
       " 'orl2906.bmp',\n",
       " 'orl2907.bmp',\n",
       " 'orl2908.bmp',\n",
       " 'orl2909.bmp',\n",
       " 'orl2910.bmp',\n",
       " 'orl3001.bmp',\n",
       " 'orl3002.bmp',\n",
       " 'orl3003.bmp',\n",
       " 'orl3004.bmp',\n",
       " 'orl3005.bmp',\n",
       " 'orl3006.bmp',\n",
       " 'orl3007.bmp',\n",
       " 'orl3008.bmp',\n",
       " 'orl3009.bmp',\n",
       " 'orl3010.bmp',\n",
       " 'orl3101.bmp',\n",
       " 'orl3102.bmp',\n",
       " 'orl3103.bmp',\n",
       " 'orl3104.bmp',\n",
       " 'orl3105.bmp',\n",
       " 'orl3106.bmp',\n",
       " 'orl3107.bmp',\n",
       " 'orl3108.bmp',\n",
       " 'orl3109.bmp',\n",
       " 'orl3110.bmp',\n",
       " 'orl3201.bmp',\n",
       " 'orl3202.bmp',\n",
       " 'orl3203.bmp',\n",
       " 'orl3204.bmp',\n",
       " 'orl3205.bmp',\n",
       " 'orl3206.bmp',\n",
       " 'orl3207.bmp',\n",
       " 'orl3208.bmp',\n",
       " 'orl3209.bmp',\n",
       " 'orl3210.bmp',\n",
       " 'orl3301.bmp',\n",
       " 'orl3302.bmp',\n",
       " 'orl3303.bmp',\n",
       " 'orl3304.bmp',\n",
       " 'orl3305.bmp',\n",
       " 'orl3306.bmp',\n",
       " 'orl3307.bmp',\n",
       " 'orl3308.bmp',\n",
       " 'orl3309.bmp',\n",
       " 'orl3310.bmp',\n",
       " 'orl3401.bmp',\n",
       " 'orl3402.bmp',\n",
       " 'orl3403.bmp',\n",
       " 'orl3404.bmp',\n",
       " 'orl3405.bmp',\n",
       " 'orl3406.bmp',\n",
       " 'orl3407.bmp',\n",
       " 'orl3408.bmp',\n",
       " 'orl3409.bmp',\n",
       " 'orl3410.bmp',\n",
       " 'orl3501.bmp',\n",
       " 'orl3502.bmp',\n",
       " 'orl3503.bmp',\n",
       " 'orl3504.bmp',\n",
       " 'orl3505.bmp',\n",
       " 'orl3506.bmp',\n",
       " 'orl3507.bmp',\n",
       " 'orl3508.bmp',\n",
       " 'orl3509.bmp',\n",
       " 'orl3510.bmp',\n",
       " 'orl3601.bmp',\n",
       " 'orl3602.bmp',\n",
       " 'orl3603.bmp',\n",
       " 'orl3604.bmp',\n",
       " 'orl3605.bmp',\n",
       " 'orl3606.bmp',\n",
       " 'orl3607.bmp',\n",
       " 'orl3608.bmp',\n",
       " 'orl3609.bmp',\n",
       " 'orl3610.bmp',\n",
       " 'orl3701.bmp',\n",
       " 'orl3702.bmp',\n",
       " 'orl3703.bmp',\n",
       " 'orl3704.bmp',\n",
       " 'orl3705.bmp',\n",
       " 'orl3706.bmp',\n",
       " 'orl3707.bmp',\n",
       " 'orl3708.bmp',\n",
       " 'orl3709.bmp',\n",
       " 'orl3710.bmp',\n",
       " 'orl3801.bmp',\n",
       " 'orl3802.bmp',\n",
       " 'orl3803.bmp',\n",
       " 'orl3804.bmp',\n",
       " 'orl3805.bmp',\n",
       " 'orl3806.bmp',\n",
       " 'orl3807.bmp',\n",
       " 'orl3808.bmp',\n",
       " 'orl3809.bmp',\n",
       " 'orl3810.bmp',\n",
       " 'orl3901.bmp',\n",
       " 'orl3902.bmp',\n",
       " 'orl3903.bmp',\n",
       " 'orl3904.bmp',\n",
       " 'orl3905.bmp',\n",
       " 'orl3906.bmp',\n",
       " 'orl3907.bmp',\n",
       " 'orl3908.bmp',\n",
       " 'orl3909.bmp',\n",
       " 'orl3910.bmp',\n",
       " 'orl4001.bmp',\n",
       " 'orl4002.bmp',\n",
       " 'orl4003.bmp',\n",
       " 'orl4004.bmp',\n",
       " 'orl4005.bmp',\n",
       " 'orl4006.bmp',\n",
       " 'orl4007.bmp',\n",
       " 'orl4008.bmp',\n",
       " 'orl4009.bmp',\n",
       " 'orl4010.bmp',\n",
       " 'Thumbs.db']"
      ]
     },
     "execution_count": 16,
     "metadata": {},
     "output_type": "execute_result"
    }
   ],
   "source": [
    "os.listdir(file_path)"
   ]
  },
  {
   "cell_type": "code",
   "execution_count": 17,
   "metadata": {},
   "outputs": [
    {
     "ename": "NameError",
     "evalue": "name 'file_list' is not defined",
     "output_type": "error",
     "traceback": [
      "\u001b[1;31m---------------------------------------------------------------------------\u001b[0m",
      "\u001b[1;31mNameError\u001b[0m                                 Traceback (most recent call last)",
      "\u001b[1;32m<ipython-input-17-04f8cd08db26>\u001b[0m in \u001b[0;36m<module>\u001b[1;34m()\u001b[0m\n\u001b[1;32m----> 1\u001b[1;33m \u001b[0mfile_list\u001b[0m\u001b[1;33m.\u001b[0m\u001b[0mendswith\u001b[0m\u001b[1;33m\u001b[0m\u001b[0m\n\u001b[0m",
      "\u001b[1;31mNameError\u001b[0m: name 'file_list' is not defined"
     ]
    }
   ],
   "source": [
    "file_list.endswith"
   ]
  },
  {
   "cell_type": "code",
   "execution_count": 18,
   "metadata": {
    "collapsed": true
   },
   "outputs": [],
   "source": [
    "file_list = os.listdir(file_path)"
   ]
  },
  {
   "cell_type": "code",
   "execution_count": 19,
   "metadata": {},
   "outputs": [
    {
     "ename": "AttributeError",
     "evalue": "'list' object has no attribute 'endswith'",
     "output_type": "error",
     "traceback": [
      "\u001b[1;31m---------------------------------------------------------------------------\u001b[0m",
      "\u001b[1;31mAttributeError\u001b[0m                            Traceback (most recent call last)",
      "\u001b[1;32m<ipython-input-19-04f8cd08db26>\u001b[0m in \u001b[0;36m<module>\u001b[1;34m()\u001b[0m\n\u001b[1;32m----> 1\u001b[1;33m \u001b[0mfile_list\u001b[0m\u001b[1;33m.\u001b[0m\u001b[0mendswith\u001b[0m\u001b[1;33m\u001b[0m\u001b[0m\n\u001b[0m",
      "\u001b[1;31mAttributeError\u001b[0m: 'list' object has no attribute 'endswith'"
     ]
    }
   ],
   "source": [
    "file_list.endswith"
   ]
  },
  {
   "cell_type": "code",
   "execution_count": 20,
   "metadata": {
    "collapsed": true
   },
   "outputs": [],
   "source": [
    " file_list = [s for s in file_list if \".bmp\" in s]"
   ]
  },
  {
   "cell_type": "code",
   "execution_count": 21,
   "metadata": {},
   "outputs": [
    {
     "ename": "NameError",
     "evalue": "name 'array' is not defined",
     "output_type": "error",
     "traceback": [
      "\u001b[1;31m---------------------------------------------------------------------------\u001b[0m",
      "\u001b[1;31mNameError\u001b[0m                                 Traceback (most recent call last)",
      "\u001b[1;32m<ipython-input-21-81d9e56a5698>\u001b[0m in \u001b[0;36m<module>\u001b[1;34m()\u001b[0m\n\u001b[1;32m----> 1\u001b[1;33m \u001b[0ma\u001b[0m \u001b[1;33m=\u001b[0m \u001b[0marray\u001b[0m\u001b[1;33m\u001b[0m\u001b[0m\n\u001b[0m",
      "\u001b[1;31mNameError\u001b[0m: name 'array' is not defined"
     ]
    }
   ],
   "source": [
    "a = array"
   ]
  },
  {
   "cell_type": "code",
   "execution_count": 22,
   "metadata": {},
   "outputs": [
    {
     "ename": "NameError",
     "evalue": "name 'array' is not defined",
     "output_type": "error",
     "traceback": [
      "\u001b[1;31m---------------------------------------------------------------------------\u001b[0m",
      "\u001b[1;31mNameError\u001b[0m                                 Traceback (most recent call last)",
      "\u001b[1;32m<ipython-input-22-ecd2a7b7a429>\u001b[0m in \u001b[0;36m<module>\u001b[1;34m()\u001b[0m\n\u001b[1;32m----> 1\u001b[1;33m \u001b[0ma\u001b[0m \u001b[1;33m=\u001b[0m \u001b[0marray\u001b[0m\u001b[1;33m(\u001b[0m\u001b[1;33m)\u001b[0m\u001b[1;33m\u001b[0m\u001b[0m\n\u001b[0m",
      "\u001b[1;31mNameError\u001b[0m: name 'array' is not defined"
     ]
    }
   ],
   "source": [
    "a = array()"
   ]
  },
  {
   "cell_type": "code",
   "execution_count": 25,
   "metadata": {},
   "outputs": [
    {
     "ename": "TypeError",
     "evalue": "Required argument 'object' (pos 1) not found",
     "output_type": "error",
     "traceback": [
      "\u001b[1;31m---------------------------------------------------------------------------\u001b[0m",
      "\u001b[1;31mTypeError\u001b[0m                                 Traceback (most recent call last)",
      "\u001b[1;32m<ipython-input-25-e82994c6a167>\u001b[0m in \u001b[0;36m<module>\u001b[1;34m()\u001b[0m\n\u001b[1;32m----> 1\u001b[1;33m \u001b[0ma\u001b[0m \u001b[1;33m=\u001b[0m \u001b[0mnp\u001b[0m\u001b[1;33m.\u001b[0m\u001b[0marray\u001b[0m\u001b[1;33m(\u001b[0m\u001b[1;33m)\u001b[0m\u001b[1;33m\u001b[0m\u001b[0m\n\u001b[0m",
      "\u001b[1;31mTypeError\u001b[0m: Required argument 'object' (pos 1) not found"
     ]
    }
   ],
   "source": [
    "a = np.array()"
   ]
  },
  {
   "cell_type": "code",
   "execution_count": 26,
   "metadata": {},
   "outputs": [
    {
     "ename": "NameError",
     "evalue": "name 'TRUE' is not defined",
     "output_type": "error",
     "traceback": [
      "\u001b[1;31m---------------------------------------------------------------------------\u001b[0m",
      "\u001b[1;31mNameError\u001b[0m                                 Traceback (most recent call last)",
      "\u001b[1;32m<ipython-input-26-3456d3f07fcf>\u001b[0m in \u001b[0;36m<module>\u001b[1;34m()\u001b[0m\n\u001b[0;32m      1\u001b[0m \u001b[1;32mfor\u001b[0m \u001b[0mfile\u001b[0m \u001b[1;32min\u001b[0m \u001b[0mfile_list\u001b[0m\u001b[1;33m:\u001b[0m\u001b[1;33m\u001b[0m\u001b[0m\n\u001b[1;32m----> 2\u001b[1;33m     \u001b[0mimage_read\u001b[0m \u001b[1;33m=\u001b[0m \u001b[0mmisc\u001b[0m\u001b[1;33m.\u001b[0m\u001b[0mimread\u001b[0m\u001b[1;33m(\u001b[0m\u001b[0mos\u001b[0m\u001b[1;33m.\u001b[0m\u001b[0mpath\u001b[0m\u001b[1;33m.\u001b[0m\u001b[0mjoin\u001b[0m\u001b[1;33m(\u001b[0m\u001b[0mfile_path\u001b[0m\u001b[1;33m,\u001b[0m\u001b[0mfile\u001b[0m\u001b[1;33m)\u001b[0m\u001b[1;33m,\u001b[0m\u001b[0mflatten\u001b[0m\u001b[1;33m=\u001b[0m\u001b[0mTRUE\u001b[0m\u001b[1;33m)\u001b[0m\u001b[1;33m\u001b[0m\u001b[0m\n\u001b[0m",
      "\u001b[1;31mNameError\u001b[0m: name 'TRUE' is not defined"
     ]
    }
   ],
   "source": [
    "for file in file_list:\n",
    "    image_read = misc.imread(os.path.join(file_path,file),flatten=TRUE)\n"
   ]
  },
  {
   "cell_type": "code",
   "execution_count": 27,
   "metadata": {
    "collapsed": true
   },
   "outputs": [],
   "source": [
    "for file in file_list:\n",
    "    image_read = misc.imread(os.path.join(file_path,file),flatten=True)"
   ]
  },
  {
   "cell_type": "code",
   "execution_count": 28,
   "metadata": {},
   "outputs": [
    {
     "data": {
      "text/plain": [
       "array([[ 125.,  125.,  123., ...,  116.,  118.,  115.],\n",
       "       [ 126.,  125.,  123., ...,  121.,  117.,  113.],\n",
       "       [ 128.,  126.,  124., ...,  116.,  116.,  118.],\n",
       "       ..., \n",
       "       [  94.,   91.,   91., ...,   32.,   33.,   33.],\n",
       "       [  91.,   94.,   91., ...,   32.,   32.,   35.],\n",
       "       [  89.,   92.,   93., ...,   27.,   36.,   34.]], dtype=float32)"
      ]
     },
     "execution_count": 28,
     "metadata": {},
     "output_type": "execute_result"
    }
   ],
   "source": [
    "image_read"
   ]
  },
  {
   "cell_type": "code",
   "execution_count": 29,
   "metadata": {},
   "outputs": [
    {
     "data": {
      "text/plain": [
       "'orl4010.bmp'"
      ]
     },
     "execution_count": 29,
     "metadata": {},
     "output_type": "execute_result"
    }
   ],
   "source": [
    "file"
   ]
  },
  {
   "cell_type": "code",
   "execution_count": 30,
   "metadata": {},
   "outputs": [
    {
     "data": {
      "text/plain": [
       "'orl4010.bmp'"
      ]
     },
     "execution_count": 30,
     "metadata": {},
     "output_type": "execute_result"
    }
   ],
   "source": [
    "file"
   ]
  },
  {
   "cell_type": "code",
   "execution_count": 31,
   "metadata": {
    "collapsed": true
   },
   "outputs": [],
   "source": [
    "import re"
   ]
  },
  {
   "cell_type": "code",
   "execution_count": 38,
   "metadata": {},
   "outputs": [
    {
     "data": {
      "text/plain": [
       "['40', '10']"
      ]
     },
     "execution_count": 38,
     "metadata": {},
     "output_type": "execute_result"
    }
   ],
   "source": [
    "re.findall('\\d\\d',file)"
   ]
  },
  {
   "cell_type": "code",
   "execution_count": 39,
   "metadata": {
    "collapsed": true
   },
   "outputs": [],
   "source": [
    "[person,person_num] = re.findall('\\d\\d',file)"
   ]
  },
  {
   "cell_type": "code",
   "execution_count": 40,
   "metadata": {},
   "outputs": [
    {
     "data": {
      "text/plain": [
       "'40'"
      ]
     },
     "execution_count": 40,
     "metadata": {},
     "output_type": "execute_result"
    }
   ],
   "source": [
    "person"
   ]
  },
  {
   "cell_type": "code",
   "execution_count": 41,
   "metadata": {},
   "outputs": [
    {
     "data": {
      "text/plain": [
       "'10'"
      ]
     },
     "execution_count": 41,
     "metadata": {},
     "output_type": "execute_result"
    }
   ],
   "source": [
    "person_num"
   ]
  },
  {
   "cell_type": "code",
   "execution_count": 46,
   "metadata": {},
   "outputs": [],
   "source": [
    "data_columns = ['data','person','person_num']"
   ]
  },
  {
   "cell_type": "code",
   "execution_count": 43,
   "metadata": {},
   "outputs": [
    {
     "data": {
      "text/html": [
       "<div>\n",
       "<style>\n",
       "    .dataframe thead tr:only-child th {\n",
       "        text-align: right;\n",
       "    }\n",
       "\n",
       "    .dataframe thead th {\n",
       "        text-align: left;\n",
       "    }\n",
       "\n",
       "    .dataframe tbody tr th {\n",
       "        vertical-align: top;\n",
       "    }\n",
       "</style>\n",
       "<table border=\"1\" class=\"dataframe\">\n",
       "  <thead>\n",
       "    <tr style=\"text-align: right;\">\n",
       "      <th></th>\n",
       "    </tr>\n",
       "  </thead>\n",
       "  <tbody>\n",
       "  </tbody>\n",
       "</table>\n",
       "</div>"
      ],
      "text/plain": [
       "Empty DataFrame\n",
       "Columns: []\n",
       "Index: []"
      ]
     },
     "execution_count": 43,
     "metadata": {},
     "output_type": "execute_result"
    }
   ],
   "source": [
    "image_data"
   ]
  },
  {
   "cell_type": "code",
   "execution_count": 48,
   "metadata": {},
   "outputs": [],
   "source": [
    "image_data = pd.DataFrame(columns=data_columns)"
   ]
  },
  {
   "cell_type": "code",
   "execution_count": 49,
   "metadata": {},
   "outputs": [
    {
     "data": {
      "text/html": [
       "<div>\n",
       "<style>\n",
       "    .dataframe thead tr:only-child th {\n",
       "        text-align: right;\n",
       "    }\n",
       "\n",
       "    .dataframe thead th {\n",
       "        text-align: left;\n",
       "    }\n",
       "\n",
       "    .dataframe tbody tr th {\n",
       "        vertical-align: top;\n",
       "    }\n",
       "</style>\n",
       "<table border=\"1\" class=\"dataframe\">\n",
       "  <thead>\n",
       "    <tr style=\"text-align: right;\">\n",
       "      <th></th>\n",
       "      <th>data</th>\n",
       "      <th>person</th>\n",
       "      <th>person_num</th>\n",
       "    </tr>\n",
       "  </thead>\n",
       "  <tbody>\n",
       "  </tbody>\n",
       "</table>\n",
       "</div>"
      ],
      "text/plain": [
       "Empty DataFrame\n",
       "Columns: [data, person, person_num]\n",
       "Index: []"
      ]
     },
     "execution_count": 49,
     "metadata": {},
     "output_type": "execute_result"
    }
   ],
   "source": [
    "image_data"
   ]
  },
  {
   "cell_type": "code",
   "execution_count": 50,
   "metadata": {
    "collapsed": true
   },
   "outputs": [],
   "source": [
    "image_data = pd.DataFrame(columns = ['data','person','person_num'])"
   ]
  },
  {
   "cell_type": "code",
   "execution_count": 51,
   "metadata": {
    "collapsed": true
   },
   "outputs": [],
   "source": [
    "a = [image_data,person,person_num]"
   ]
  },
  {
   "cell_type": "code",
   "execution_count": 52,
   "metadata": {},
   "outputs": [
    {
     "ename": "TypeError",
     "evalue": "cannot concatenate a non-NDFrame object",
     "output_type": "error",
     "traceback": [
      "\u001b[1;31m---------------------------------------------------------------------------\u001b[0m",
      "\u001b[1;31mTypeError\u001b[0m                                 Traceback (most recent call last)",
      "\u001b[1;32m<ipython-input-52-08b6fe50a8da>\u001b[0m in \u001b[0;36m<module>\u001b[1;34m()\u001b[0m\n\u001b[1;32m----> 1\u001b[1;33m \u001b[0mimage_data\u001b[0m\u001b[1;33m.\u001b[0m\u001b[0mappend\u001b[0m\u001b[1;33m(\u001b[0m\u001b[0ma\u001b[0m\u001b[1;33m,\u001b[0m\u001b[1;33m)\u001b[0m\u001b[1;33m\u001b[0m\u001b[0m\n\u001b[0m",
      "\u001b[1;32m~\\Anaconda3\\lib\\site-packages\\pandas\\core\\frame.py\u001b[0m in \u001b[0;36mappend\u001b[1;34m(self, other, ignore_index, verify_integrity)\u001b[0m\n\u001b[0;32m   4545\u001b[0m             \u001b[0mto_concat\u001b[0m \u001b[1;33m=\u001b[0m \u001b[1;33m[\u001b[0m\u001b[0mself\u001b[0m\u001b[1;33m,\u001b[0m \u001b[0mother\u001b[0m\u001b[1;33m]\u001b[0m\u001b[1;33m\u001b[0m\u001b[0m\n\u001b[0;32m   4546\u001b[0m         return concat(to_concat, ignore_index=ignore_index,\n\u001b[1;32m-> 4547\u001b[1;33m                       verify_integrity=verify_integrity)\n\u001b[0m\u001b[0;32m   4548\u001b[0m \u001b[1;33m\u001b[0m\u001b[0m\n\u001b[0;32m   4549\u001b[0m     def join(self, other, on=None, how='left', lsuffix='', rsuffix='',\n",
      "\u001b[1;32m~\\Anaconda3\\lib\\site-packages\\pandas\\core\\reshape\\concat.py\u001b[0m in \u001b[0;36mconcat\u001b[1;34m(objs, axis, join, join_axes, ignore_index, keys, levels, names, verify_integrity, copy)\u001b[0m\n\u001b[0;32m    204\u001b[0m                        \u001b[0mkeys\u001b[0m\u001b[1;33m=\u001b[0m\u001b[0mkeys\u001b[0m\u001b[1;33m,\u001b[0m \u001b[0mlevels\u001b[0m\u001b[1;33m=\u001b[0m\u001b[0mlevels\u001b[0m\u001b[1;33m,\u001b[0m \u001b[0mnames\u001b[0m\u001b[1;33m=\u001b[0m\u001b[0mnames\u001b[0m\u001b[1;33m,\u001b[0m\u001b[1;33m\u001b[0m\u001b[0m\n\u001b[0;32m    205\u001b[0m                        \u001b[0mverify_integrity\u001b[0m\u001b[1;33m=\u001b[0m\u001b[0mverify_integrity\u001b[0m\u001b[1;33m,\u001b[0m\u001b[1;33m\u001b[0m\u001b[0m\n\u001b[1;32m--> 206\u001b[1;33m                        copy=copy)\n\u001b[0m\u001b[0;32m    207\u001b[0m     \u001b[1;32mreturn\u001b[0m \u001b[0mop\u001b[0m\u001b[1;33m.\u001b[0m\u001b[0mget_result\u001b[0m\u001b[1;33m(\u001b[0m\u001b[1;33m)\u001b[0m\u001b[1;33m\u001b[0m\u001b[0m\n\u001b[0;32m    208\u001b[0m \u001b[1;33m\u001b[0m\u001b[0m\n",
      "\u001b[1;32m~\\Anaconda3\\lib\\site-packages\\pandas\\core\\reshape\\concat.py\u001b[0m in \u001b[0;36m__init__\u001b[1;34m(self, objs, axis, join, join_axes, keys, levels, names, ignore_index, verify_integrity, copy)\u001b[0m\n\u001b[0;32m    261\u001b[0m         \u001b[1;32mfor\u001b[0m \u001b[0mobj\u001b[0m \u001b[1;32min\u001b[0m \u001b[0mobjs\u001b[0m\u001b[1;33m:\u001b[0m\u001b[1;33m\u001b[0m\u001b[0m\n\u001b[0;32m    262\u001b[0m             \u001b[1;32mif\u001b[0m \u001b[1;32mnot\u001b[0m \u001b[0misinstance\u001b[0m\u001b[1;33m(\u001b[0m\u001b[0mobj\u001b[0m\u001b[1;33m,\u001b[0m \u001b[0mNDFrame\u001b[0m\u001b[1;33m)\u001b[0m\u001b[1;33m:\u001b[0m\u001b[1;33m\u001b[0m\u001b[0m\n\u001b[1;32m--> 263\u001b[1;33m                 \u001b[1;32mraise\u001b[0m \u001b[0mTypeError\u001b[0m\u001b[1;33m(\u001b[0m\u001b[1;34m\"cannot concatenate a non-NDFrame object\"\u001b[0m\u001b[1;33m)\u001b[0m\u001b[1;33m\u001b[0m\u001b[0m\n\u001b[0m\u001b[0;32m    264\u001b[0m \u001b[1;33m\u001b[0m\u001b[0m\n\u001b[0;32m    265\u001b[0m             \u001b[1;31m# consolidate\u001b[0m\u001b[1;33m\u001b[0m\u001b[1;33m\u001b[0m\u001b[0m\n",
      "\u001b[1;31mTypeError\u001b[0m: cannot concatenate a non-NDFrame object"
     ]
    }
   ],
   "source": [
    "image_data.append(a,)"
   ]
  },
  {
   "cell_type": "code",
   "execution_count": 54,
   "metadata": {},
   "outputs": [
    {
     "data": {
      "text/plain": [
       "list"
      ]
     },
     "execution_count": 54,
     "metadata": {},
     "output_type": "execute_result"
    }
   ],
   "source": [
    "type(a)"
   ]
  },
  {
   "cell_type": "code",
   "execution_count": 55,
   "metadata": {},
   "outputs": [
    {
     "ename": "SyntaxError",
     "evalue": "invalid syntax (<ipython-input-55-b2403ac151c4>, line 1)",
     "output_type": "error",
     "traceback": [
      "\u001b[1;36m  File \u001b[1;32m\"<ipython-input-55-b2403ac151c4>\"\u001b[1;36m, line \u001b[1;32m1\u001b[0m\n\u001b[1;33m    data_read = {'data'=image_read,'person'=person,'person_num'=person_num}\u001b[0m\n\u001b[1;37m                       ^\u001b[0m\n\u001b[1;31mSyntaxError\u001b[0m\u001b[1;31m:\u001b[0m invalid syntax\n"
     ]
    }
   ],
   "source": [
    "data_read = {'data'=image_read,'person'=person,'person_num'=person_num}"
   ]
  },
  {
   "cell_type": "code",
   "execution_count": 56,
   "metadata": {
    "collapsed": true
   },
   "outputs": [],
   "source": [
    "data_read = {'data':image_read,'person':person,'person_num':person_num}"
   ]
  },
  {
   "cell_type": "code",
   "execution_count": 57,
   "metadata": {},
   "outputs": [
    {
     "data": {
      "text/plain": [
       "{'data': array([[ 125.,  125.,  123., ...,  116.,  118.,  115.],\n",
       "        [ 126.,  125.,  123., ...,  121.,  117.,  113.],\n",
       "        [ 128.,  126.,  124., ...,  116.,  116.,  118.],\n",
       "        ..., \n",
       "        [  94.,   91.,   91., ...,   32.,   33.,   33.],\n",
       "        [  91.,   94.,   91., ...,   32.,   32.,   35.],\n",
       "        [  89.,   92.,   93., ...,   27.,   36.,   34.]], dtype=float32),\n",
       " 'person': '40',\n",
       " 'person_num': '10'}"
      ]
     },
     "execution_count": 57,
     "metadata": {},
     "output_type": "execute_result"
    }
   ],
   "source": [
    "data_read"
   ]
  },
  {
   "cell_type": "code",
   "execution_count": 62,
   "metadata": {},
   "outputs": [
    {
     "data": {
      "text/html": [
       "<div>\n",
       "<style>\n",
       "    .dataframe thead tr:only-child th {\n",
       "        text-align: right;\n",
       "    }\n",
       "\n",
       "    .dataframe thead th {\n",
       "        text-align: left;\n",
       "    }\n",
       "\n",
       "    .dataframe tbody tr th {\n",
       "        vertical-align: top;\n",
       "    }\n",
       "</style>\n",
       "<table border=\"1\" class=\"dataframe\">\n",
       "  <thead>\n",
       "    <tr style=\"text-align: right;\">\n",
       "      <th></th>\n",
       "      <th>data</th>\n",
       "      <th>person</th>\n",
       "      <th>person_num</th>\n",
       "    </tr>\n",
       "  </thead>\n",
       "  <tbody>\n",
       "    <tr>\n",
       "      <th>0</th>\n",
       "      <td>[[125.0, 125.0, 123.0, 122.0, 122.0, 123.0, 12...</td>\n",
       "      <td>40</td>\n",
       "      <td>10</td>\n",
       "    </tr>\n",
       "  </tbody>\n",
       "</table>\n",
       "</div>"
      ],
      "text/plain": [
       "                                                data person person_num\n",
       "0  [[125.0, 125.0, 123.0, 122.0, 122.0, 123.0, 12...     40         10"
      ]
     },
     "execution_count": 62,
     "metadata": {},
     "output_type": "execute_result"
    }
   ],
   "source": [
    "image_data.append(data_read,ignore_index=True)"
   ]
  },
  {
   "cell_type": "code",
   "execution_count": 60,
   "metadata": {
    "collapsed": true
   },
   "outputs": [],
   "source": [
    "\n",
    "for file in file_list:\n",
    "    image_read = misc.imread(os.path.join(file_path,file),flatten=True)\n",
    "    [person,person_num] = re.findall('\\d\\d',file)\n",
    "\n",
    "    data_read = {'data':image_read,'person':person,'person_num':person_num}\n",
    "\n",
    "    image_data.append(data_read,ignore_index=True)"
   ]
  },
  {
   "cell_type": "code",
   "execution_count": 61,
   "metadata": {},
   "outputs": [
    {
     "data": {
      "text/html": [
       "<div>\n",
       "<style>\n",
       "    .dataframe thead tr:only-child th {\n",
       "        text-align: right;\n",
       "    }\n",
       "\n",
       "    .dataframe thead th {\n",
       "        text-align: left;\n",
       "    }\n",
       "\n",
       "    .dataframe tbody tr th {\n",
       "        vertical-align: top;\n",
       "    }\n",
       "</style>\n",
       "<table border=\"1\" class=\"dataframe\">\n",
       "  <thead>\n",
       "    <tr style=\"text-align: right;\">\n",
       "      <th></th>\n",
       "      <th>data</th>\n",
       "      <th>person</th>\n",
       "      <th>person_num</th>\n",
       "    </tr>\n",
       "  </thead>\n",
       "  <tbody>\n",
       "  </tbody>\n",
       "</table>\n",
       "</div>"
      ],
      "text/plain": [
       "Empty DataFrame\n",
       "Columns: [data, person, person_num]\n",
       "Index: []"
      ]
     },
     "execution_count": 61,
     "metadata": {},
     "output_type": "execute_result"
    }
   ],
   "source": [
    "image_data"
   ]
  },
  {
   "cell_type": "code",
   "execution_count": 63,
   "metadata": {
    "collapsed": true
   },
   "outputs": [],
   "source": [
    "for file in file_list:\n",
    "    image_read = misc.imread(os.path.join(file_path,file),flatten=True)\n",
    "    [person,person_num] = re.findall('\\d\\d',file)\n",
    "\n",
    "    data_read = {'data':image_read,'person':person,'person_num':person_num}\n",
    "\n",
    "    image_data.append(data_read,ignore_index=True)\n",
    "    "
   ]
  },
  {
   "cell_type": "code",
   "execution_count": 64,
   "metadata": {},
   "outputs": [
    {
     "data": {
      "text/html": [
       "<div>\n",
       "<style>\n",
       "    .dataframe thead tr:only-child th {\n",
       "        text-align: right;\n",
       "    }\n",
       "\n",
       "    .dataframe thead th {\n",
       "        text-align: left;\n",
       "    }\n",
       "\n",
       "    .dataframe tbody tr th {\n",
       "        vertical-align: top;\n",
       "    }\n",
       "</style>\n",
       "<table border=\"1\" class=\"dataframe\">\n",
       "  <thead>\n",
       "    <tr style=\"text-align: right;\">\n",
       "      <th></th>\n",
       "      <th>data</th>\n",
       "      <th>person</th>\n",
       "      <th>person_num</th>\n",
       "    </tr>\n",
       "  </thead>\n",
       "  <tbody>\n",
       "  </tbody>\n",
       "</table>\n",
       "</div>"
      ],
      "text/plain": [
       "Empty DataFrame\n",
       "Columns: [data, person, person_num]\n",
       "Index: []"
      ]
     },
     "execution_count": 64,
     "metadata": {},
     "output_type": "execute_result"
    }
   ],
   "source": [
    "image_data"
   ]
  },
  {
   "cell_type": "code",
   "execution_count": 65,
   "metadata": {},
   "outputs": [
    {
     "data": {
      "text/html": [
       "<div>\n",
       "<style>\n",
       "    .dataframe thead tr:only-child th {\n",
       "        text-align: right;\n",
       "    }\n",
       "\n",
       "    .dataframe thead th {\n",
       "        text-align: left;\n",
       "    }\n",
       "\n",
       "    .dataframe tbody tr th {\n",
       "        vertical-align: top;\n",
       "    }\n",
       "</style>\n",
       "<table border=\"1\" class=\"dataframe\">\n",
       "  <thead>\n",
       "    <tr style=\"text-align: right;\">\n",
       "      <th></th>\n",
       "      <th>data</th>\n",
       "      <th>person</th>\n",
       "      <th>person_num</th>\n",
       "    </tr>\n",
       "  </thead>\n",
       "  <tbody>\n",
       "    <tr>\n",
       "      <th>0</th>\n",
       "      <td>[[125.0, 125.0, 123.0, 122.0, 122.0, 123.0, 12...</td>\n",
       "      <td>40</td>\n",
       "      <td>10</td>\n",
       "    </tr>\n",
       "  </tbody>\n",
       "</table>\n",
       "</div>"
      ],
      "text/plain": [
       "                                                data person person_num\n",
       "0  [[125.0, 125.0, 123.0, 122.0, 122.0, 123.0, 12...     40         10"
      ]
     },
     "execution_count": 65,
     "metadata": {},
     "output_type": "execute_result"
    }
   ],
   "source": [
    "image_data.append(data_read,ignore_index=True)"
   ]
  },
  {
   "cell_type": "code",
   "execution_count": 66,
   "metadata": {},
   "outputs": [
    {
     "data": {
      "text/plain": [
       "'orl4010.bmp'"
      ]
     },
     "execution_count": 66,
     "metadata": {},
     "output_type": "execute_result"
    }
   ],
   "source": [
    "file"
   ]
  },
  {
   "cell_type": "code",
   "execution_count": 67,
   "metadata": {
    "collapsed": true
   },
   "outputs": [
    {
     "name": "stdout",
     "output_type": "stream",
     "text": [
      "orl0101.bmp\n",
      "orl0102.bmp\n",
      "orl0103.bmp\n",
      "orl0104.bmp\n",
      "orl0105.bmp\n",
      "orl0106.bmp\n",
      "orl0107.bmp\n",
      "orl0108.bmp\n",
      "orl0109.bmp\n",
      "orl0110.bmp\n",
      "orl0201.bmp\n",
      "orl0202.bmp\n",
      "orl0203.bmp\n",
      "orl0204.bmp\n",
      "orl0205.bmp\n",
      "orl0206.bmp\n",
      "orl0207.bmp\n",
      "orl0208.bmp\n",
      "orl0209.bmp\n",
      "orl0210.bmp\n",
      "orl0301.bmp\n",
      "orl0302.bmp\n",
      "orl0303.bmp\n",
      "orl0304.bmp\n",
      "orl0305.bmp\n",
      "orl0306.bmp\n",
      "orl0307.bmp\n",
      "orl0308.bmp\n",
      "orl0309.bmp\n",
      "orl0310.bmp\n",
      "orl0401.bmp\n",
      "orl0402.bmp\n",
      "orl0403.bmp\n",
      "orl0404.bmp\n",
      "orl0405.bmp\n",
      "orl0406.bmp\n",
      "orl0407.bmp\n",
      "orl0408.bmp\n",
      "orl0409.bmp\n",
      "orl0410.bmp\n",
      "orl0501.bmp\n",
      "orl0502.bmp\n",
      "orl0503.bmp\n",
      "orl0504.bmp\n",
      "orl0505.bmp\n",
      "orl0506.bmp\n",
      "orl0507.bmp\n",
      "orl0508.bmp\n",
      "orl0509.bmp\n",
      "orl0510.bmp\n",
      "orl0601.bmp\n",
      "orl0602.bmp\n",
      "orl0603.bmp\n",
      "orl0604.bmp\n",
      "orl0605.bmp\n",
      "orl0606.bmp\n",
      "orl0607.bmp\n",
      "orl0608.bmp\n",
      "orl0609.bmp\n",
      "orl0610.bmp\n",
      "orl0701.bmp\n",
      "orl0702.bmp\n",
      "orl0703.bmp\n",
      "orl0704.bmp\n",
      "orl0705.bmp\n",
      "orl0706.bmp\n",
      "orl0707.bmp\n",
      "orl0708.bmp\n",
      "orl0709.bmp\n",
      "orl0710.bmp\n",
      "orl0801.bmp\n",
      "orl0802.bmp\n",
      "orl0803.bmp\n",
      "orl0804.bmp\n",
      "orl0805.bmp\n",
      "orl0806.bmp\n",
      "orl0807.bmp\n",
      "orl0808.bmp\n",
      "orl0809.bmp\n",
      "orl0810.bmp\n",
      "orl0901.bmp\n",
      "orl0902.bmp\n",
      "orl0903.bmp\n",
      "orl0904.bmp\n",
      "orl0905.bmp\n",
      "orl0906.bmp\n",
      "orl0907.bmp\n",
      "orl0908.bmp\n",
      "orl0909.bmp\n",
      "orl0910.bmp\n",
      "orl1001.bmp\n",
      "orl1002.bmp\n",
      "orl1003.bmp\n",
      "orl1004.bmp\n",
      "orl1005.bmp\n",
      "orl1006.bmp\n",
      "orl1007.bmp\n",
      "orl1008.bmp\n",
      "orl1009.bmp\n",
      "orl1010.bmp\n",
      "orl1101.bmp\n",
      "orl1102.bmp\n",
      "orl1103.bmp\n",
      "orl1104.bmp\n",
      "orl1105.bmp\n",
      "orl1106.bmp\n",
      "orl1107.bmp\n",
      "orl1108.bmp\n",
      "orl1109.bmp\n",
      "orl1110.bmp\n",
      "orl1201.bmp\n",
      "orl1202.bmp\n",
      "orl1203.bmp\n",
      "orl1204.bmp\n",
      "orl1205.bmp\n",
      "orl1206.bmp\n",
      "orl1207.bmp\n",
      "orl1208.bmp\n",
      "orl1209.bmp\n",
      "orl1210.bmp\n",
      "orl1301.bmp\n",
      "orl1302.bmp\n",
      "orl1303.bmp\n",
      "orl1304.bmp\n",
      "orl1305.bmp\n",
      "orl1306.bmp\n",
      "orl1307.bmp\n",
      "orl1308.bmp\n",
      "orl1309.bmp\n",
      "orl1310.bmp\n",
      "orl1401.bmp\n",
      "orl1402.bmp\n",
      "orl1403.bmp\n",
      "orl1404.bmp\n",
      "orl1405.bmp\n",
      "orl1406.bmp\n",
      "orl1407.bmp\n",
      "orl1408.bmp\n",
      "orl1409.bmp\n",
      "orl1410.bmp\n",
      "orl1501.bmp\n",
      "orl1502.bmp\n",
      "orl1503.bmp\n",
      "orl1504.bmp\n",
      "orl1505.bmp\n",
      "orl1506.bmp\n",
      "orl1507.bmp\n",
      "orl1508.bmp\n",
      "orl1509.bmp\n",
      "orl1510.bmp\n",
      "orl1601.bmp\n",
      "orl1602.bmp\n",
      "orl1603.bmp\n",
      "orl1604.bmp\n",
      "orl1605.bmp\n",
      "orl1606.bmp\n",
      "orl1607.bmp\n",
      "orl1608.bmp\n",
      "orl1609.bmp\n",
      "orl1610.bmp\n",
      "orl1701.bmp\n",
      "orl1702.bmp\n",
      "orl1703.bmp\n",
      "orl1704.bmp\n",
      "orl1705.bmp\n",
      "orl1706.bmp\n",
      "orl1707.bmp\n",
      "orl1708.bmp\n",
      "orl1709.bmp\n",
      "orl1710.bmp\n",
      "orl1801.bmp\n",
      "orl1802.bmp\n",
      "orl1803.bmp\n",
      "orl1804.bmp\n",
      "orl1805.bmp\n",
      "orl1806.bmp\n",
      "orl1807.bmp\n",
      "orl1808.bmp\n",
      "orl1809.bmp\n",
      "orl1810.bmp\n",
      "orl1901.bmp\n",
      "orl1902.bmp\n",
      "orl1903.bmp\n",
      "orl1904.bmp\n",
      "orl1905.bmp\n",
      "orl1906.bmp\n",
      "orl1907.bmp\n",
      "orl1908.bmp\n",
      "orl1909.bmp\n",
      "orl1910.bmp\n",
      "orl2001.bmp\n",
      "orl2002.bmp\n",
      "orl2003.bmp\n",
      "orl2004.bmp\n",
      "orl2005.bmp\n",
      "orl2006.bmp\n",
      "orl2007.bmp\n",
      "orl2008.bmp\n",
      "orl2009.bmp\n",
      "orl2010.bmp\n",
      "orl2101.bmp\n",
      "orl2102.bmp\n",
      "orl2103.bmp\n",
      "orl2104.bmp\n",
      "orl2105.bmp\n",
      "orl2106.bmp\n",
      "orl2107.bmp\n",
      "orl2108.bmp\n",
      "orl2109.bmp\n",
      "orl2110.bmp\n",
      "orl2201.bmp\n",
      "orl2202.bmp\n",
      "orl2203.bmp\n",
      "orl2204.bmp\n",
      "orl2205.bmp\n",
      "orl2206.bmp\n",
      "orl2207.bmp\n",
      "orl2208.bmp\n",
      "orl2209.bmp\n",
      "orl2210.bmp\n",
      "orl2301.bmp\n",
      "orl2302.bmp\n",
      "orl2303.bmp\n",
      "orl2304.bmp\n",
      "orl2305.bmp\n",
      "orl2306.bmp\n",
      "orl2307.bmp\n",
      "orl2308.bmp\n",
      "orl2309.bmp\n",
      "orl2310.bmp\n",
      "orl2401.bmp\n",
      "orl2402.bmp\n",
      "orl2403.bmp\n",
      "orl2404.bmp\n",
      "orl2405.bmp\n",
      "orl2406.bmp\n",
      "orl2407.bmp\n",
      "orl2408.bmp\n",
      "orl2409.bmp\n",
      "orl2410.bmp\n",
      "orl2501.bmp\n",
      "orl2502.bmp\n",
      "orl2503.bmp\n",
      "orl2504.bmp\n",
      "orl2505.bmp\n",
      "orl2506.bmp\n",
      "orl2507.bmp\n",
      "orl2508.bmp\n",
      "orl2509.bmp\n",
      "orl2510.bmp\n",
      "orl2601.bmp\n",
      "orl2602.bmp\n",
      "orl2603.bmp\n",
      "orl2604.bmp\n",
      "orl2605.bmp\n",
      "orl2606.bmp\n",
      "orl2607.bmp\n",
      "orl2608.bmp\n",
      "orl2609.bmp\n",
      "orl2610.bmp\n",
      "orl2701.bmp\n",
      "orl2702.bmp\n",
      "orl2703.bmp\n",
      "orl2704.bmp\n",
      "orl2705.bmp\n",
      "orl2706.bmp\n",
      "orl2707.bmp\n",
      "orl2708.bmp\n",
      "orl2709.bmp\n",
      "orl2710.bmp\n",
      "orl2801.bmp\n",
      "orl2802.bmp\n",
      "orl2803.bmp\n",
      "orl2804.bmp\n",
      "orl2805.bmp\n",
      "orl2806.bmp\n",
      "orl2807.bmp\n",
      "orl2808.bmp\n",
      "orl2809.bmp\n",
      "orl2810.bmp\n",
      "orl2901.bmp\n",
      "orl2902.bmp\n",
      "orl2903.bmp\n",
      "orl2904.bmp\n",
      "orl2905.bmp\n",
      "orl2906.bmp\n",
      "orl2907.bmp\n",
      "orl2908.bmp\n",
      "orl2909.bmp\n",
      "orl2910.bmp\n",
      "orl3001.bmp\n",
      "orl3002.bmp\n",
      "orl3003.bmp\n",
      "orl3004.bmp\n",
      "orl3005.bmp\n",
      "orl3006.bmp\n",
      "orl3007.bmp\n",
      "orl3008.bmp\n",
      "orl3009.bmp\n",
      "orl3010.bmp\n",
      "orl3101.bmp\n",
      "orl3102.bmp\n",
      "orl3103.bmp\n",
      "orl3104.bmp\n",
      "orl3105.bmp\n",
      "orl3106.bmp\n",
      "orl3107.bmp\n",
      "orl3108.bmp\n",
      "orl3109.bmp\n",
      "orl3110.bmp\n",
      "orl3201.bmp\n",
      "orl3202.bmp\n",
      "orl3203.bmp\n",
      "orl3204.bmp\n",
      "orl3205.bmp\n",
      "orl3206.bmp\n",
      "orl3207.bmp\n",
      "orl3208.bmp\n",
      "orl3209.bmp\n",
      "orl3210.bmp\n",
      "orl3301.bmp\n",
      "orl3302.bmp\n",
      "orl3303.bmp\n",
      "orl3304.bmp\n",
      "orl3305.bmp\n",
      "orl3306.bmp\n",
      "orl3307.bmp\n",
      "orl3308.bmp\n",
      "orl3309.bmp\n",
      "orl3310.bmp\n",
      "orl3401.bmp\n",
      "orl3402.bmp\n",
      "orl3403.bmp\n",
      "orl3404.bmp\n",
      "orl3405.bmp\n",
      "orl3406.bmp\n",
      "orl3407.bmp\n",
      "orl3408.bmp\n",
      "orl3409.bmp\n",
      "orl3410.bmp\n",
      "orl3501.bmp\n",
      "orl3502.bmp\n",
      "orl3503.bmp\n",
      "orl3504.bmp\n",
      "orl3505.bmp\n",
      "orl3506.bmp\n",
      "orl3507.bmp\n",
      "orl3508.bmp\n",
      "orl3509.bmp\n",
      "orl3510.bmp\n",
      "orl3601.bmp\n",
      "orl3602.bmp\n",
      "orl3603.bmp\n",
      "orl3604.bmp\n",
      "orl3605.bmp\n",
      "orl3606.bmp\n",
      "orl3607.bmp\n",
      "orl3608.bmp\n",
      "orl3609.bmp\n",
      "orl3610.bmp\n",
      "orl3701.bmp\n",
      "orl3702.bmp\n",
      "orl3703.bmp\n",
      "orl3704.bmp\n",
      "orl3705.bmp\n",
      "orl3706.bmp\n",
      "orl3707.bmp\n",
      "orl3708.bmp\n",
      "orl3709.bmp\n",
      "orl3710.bmp\n",
      "orl3801.bmp\n",
      "orl3802.bmp\n",
      "orl3803.bmp\n",
      "orl3804.bmp\n",
      "orl3805.bmp\n",
      "orl3806.bmp\n",
      "orl3807.bmp\n",
      "orl3808.bmp\n",
      "orl3809.bmp\n",
      "orl3810.bmp\n",
      "orl3901.bmp\n",
      "orl3902.bmp\n",
      "orl3903.bmp\n",
      "orl3904.bmp\n",
      "orl3905.bmp\n",
      "orl3906.bmp\n",
      "orl3907.bmp\n",
      "orl3908.bmp\n",
      "orl3909.bmp\n",
      "orl3910.bmp\n",
      "orl4001.bmp\n",
      "orl4002.bmp\n",
      "orl4003.bmp\n",
      "orl4004.bmp\n",
      "orl4005.bmp\n",
      "orl4006.bmp\n",
      "orl4007.bmp\n",
      "orl4008.bmp\n",
      "orl4009.bmp\n",
      "orl4010.bmp\n"
     ]
    }
   ],
   "source": [
    "for file in file_list:\n",
    "    image_read = misc.imread(os.path.join(file_path,file),flatten=True)\n",
    "    [person,person_num] = re.findall('\\d\\d',file)\n",
    "\n",
    "    data_read = {'data':image_read,'person':person,'person_num':person_num}\n",
    "\n",
    "    image_data.append(data_read,ignore_index=True)\n",
    "    \n",
    "    print(file)\n"
   ]
  },
  {
   "cell_type": "code",
   "execution_count": 68,
   "metadata": {},
   "outputs": [
    {
     "data": {
      "text/html": [
       "<div>\n",
       "<style>\n",
       "    .dataframe thead tr:only-child th {\n",
       "        text-align: right;\n",
       "    }\n",
       "\n",
       "    .dataframe thead th {\n",
       "        text-align: left;\n",
       "    }\n",
       "\n",
       "    .dataframe tbody tr th {\n",
       "        vertical-align: top;\n",
       "    }\n",
       "</style>\n",
       "<table border=\"1\" class=\"dataframe\">\n",
       "  <thead>\n",
       "    <tr style=\"text-align: right;\">\n",
       "      <th></th>\n",
       "      <th>data</th>\n",
       "      <th>person</th>\n",
       "      <th>person_num</th>\n",
       "    </tr>\n",
       "  </thead>\n",
       "  <tbody>\n",
       "  </tbody>\n",
       "</table>\n",
       "</div>"
      ],
      "text/plain": [
       "Empty DataFrame\n",
       "Columns: [data, person, person_num]\n",
       "Index: []"
      ]
     },
     "execution_count": 68,
     "metadata": {},
     "output_type": "execute_result"
    }
   ],
   "source": [
    "image_data"
   ]
  },
  {
   "cell_type": "code",
   "execution_count": 69,
   "metadata": {
    "collapsed": true
   },
   "outputs": [],
   "source": [
    "for file in file_list:\n",
    "    image_read = misc.imread(os.path.join(file_path,file),flatten=True)\n",
    "    [person,person_num] = re.findall('\\d\\d',file)\n",
    "\n",
    "    data_read = {'data':image_read,'person':person,'person_num':person_num}\n",
    "\n",
    "    image_data = image_data.append(data_read,ignore_index=True)"
   ]
  },
  {
   "cell_type": "code",
   "execution_count": 70,
   "metadata": {},
   "outputs": [
    {
     "data": {
      "text/html": [
       "<div>\n",
       "<style>\n",
       "    .dataframe thead tr:only-child th {\n",
       "        text-align: right;\n",
       "    }\n",
       "\n",
       "    .dataframe thead th {\n",
       "        text-align: left;\n",
       "    }\n",
       "\n",
       "    .dataframe tbody tr th {\n",
       "        vertical-align: top;\n",
       "    }\n",
       "</style>\n",
       "<table border=\"1\" class=\"dataframe\">\n",
       "  <thead>\n",
       "    <tr style=\"text-align: right;\">\n",
       "      <th></th>\n",
       "      <th>data</th>\n",
       "      <th>person</th>\n",
       "      <th>person_num</th>\n",
       "    </tr>\n",
       "  </thead>\n",
       "  <tbody>\n",
       "    <tr>\n",
       "      <th>0</th>\n",
       "      <td>[[52.0, 46.0, 45.0, 47.0, 40.0, 50.0, 69.0, 67...</td>\n",
       "      <td>01</td>\n",
       "      <td>01</td>\n",
       "    </tr>\n",
       "    <tr>\n",
       "      <th>1</th>\n",
       "      <td>[[73.0, 63.0, 69.0, 61.0, 69.0, 85.0, 91.0, 86...</td>\n",
       "      <td>01</td>\n",
       "      <td>02</td>\n",
       "    </tr>\n",
       "    <tr>\n",
       "      <th>2</th>\n",
       "      <td>[[44.0, 51.0, 50.0, 43.0, 40.0, 53.0, 76.0, 87...</td>\n",
       "      <td>01</td>\n",
       "      <td>03</td>\n",
       "    </tr>\n",
       "    <tr>\n",
       "      <th>3</th>\n",
       "      <td>[[48.0, 41.0, 29.0, 34.0, 46.0, 63.0, 75.0, 91...</td>\n",
       "      <td>01</td>\n",
       "      <td>04</td>\n",
       "    </tr>\n",
       "    <tr>\n",
       "      <th>4</th>\n",
       "      <td>[[61.0, 58.0, 78.0, 69.0, 62.0, 48.0, 47.0, 46...</td>\n",
       "      <td>01</td>\n",
       "      <td>05</td>\n",
       "    </tr>\n",
       "    <tr>\n",
       "      <th>5</th>\n",
       "      <td>[[53.0, 62.0, 67.0, 52.0, 77.0, 83.0, 84.0, 56...</td>\n",
       "      <td>01</td>\n",
       "      <td>06</td>\n",
       "    </tr>\n",
       "    <tr>\n",
       "      <th>6</th>\n",
       "      <td>[[43.0, 43.0, 46.0, 35.0, 49.0, 66.0, 48.0, 88...</td>\n",
       "      <td>01</td>\n",
       "      <td>07</td>\n",
       "    </tr>\n",
       "    <tr>\n",
       "      <th>7</th>\n",
       "      <td>[[38.0, 29.0, 36.0, 33.0, 57.0, 42.0, 36.0, 32...</td>\n",
       "      <td>01</td>\n",
       "      <td>08</td>\n",
       "    </tr>\n",
       "    <tr>\n",
       "      <th>8</th>\n",
       "      <td>[[41.0, 42.0, 34.0, 35.0, 47.0, 63.0, 45.0, 37...</td>\n",
       "      <td>01</td>\n",
       "      <td>09</td>\n",
       "    </tr>\n",
       "    <tr>\n",
       "      <th>9</th>\n",
       "      <td>[[30.0, 37.0, 38.0, 40.0, 55.0, 57.0, 72.0, 64...</td>\n",
       "      <td>01</td>\n",
       "      <td>10</td>\n",
       "    </tr>\n",
       "    <tr>\n",
       "      <th>10</th>\n",
       "      <td>[[35.0, 38.0, 32.0, 39.0, 35.0, 35.0, 37.0, 39...</td>\n",
       "      <td>02</td>\n",
       "      <td>01</td>\n",
       "    </tr>\n",
       "    <tr>\n",
       "      <th>11</th>\n",
       "      <td>[[36.0, 37.0, 37.0, 40.0, 38.0, 36.0, 38.0, 39...</td>\n",
       "      <td>02</td>\n",
       "      <td>02</td>\n",
       "    </tr>\n",
       "    <tr>\n",
       "      <th>12</th>\n",
       "      <td>[[38.0, 35.0, 33.0, 35.0, 35.0, 34.0, 36.0, 35...</td>\n",
       "      <td>02</td>\n",
       "      <td>03</td>\n",
       "    </tr>\n",
       "    <tr>\n",
       "      <th>13</th>\n",
       "      <td>[[34.0, 38.0, 38.0, 36.0, 38.0, 37.0, 33.0, 37...</td>\n",
       "      <td>02</td>\n",
       "      <td>04</td>\n",
       "    </tr>\n",
       "    <tr>\n",
       "      <th>14</th>\n",
       "      <td>[[30.0, 34.0, 35.0, 35.0, 37.0, 35.0, 33.0, 40...</td>\n",
       "      <td>02</td>\n",
       "      <td>05</td>\n",
       "    </tr>\n",
       "    <tr>\n",
       "      <th>15</th>\n",
       "      <td>[[35.0, 41.0, 38.0, 38.0, 35.0, 36.0, 38.0, 37...</td>\n",
       "      <td>02</td>\n",
       "      <td>06</td>\n",
       "    </tr>\n",
       "    <tr>\n",
       "      <th>16</th>\n",
       "      <td>[[39.0, 38.0, 38.0, 37.0, 39.0, 40.0, 37.0, 38...</td>\n",
       "      <td>02</td>\n",
       "      <td>07</td>\n",
       "    </tr>\n",
       "    <tr>\n",
       "      <th>17</th>\n",
       "      <td>[[35.0, 39.0, 37.0, 37.0, 40.0, 40.0, 39.0, 40...</td>\n",
       "      <td>02</td>\n",
       "      <td>08</td>\n",
       "    </tr>\n",
       "    <tr>\n",
       "      <th>18</th>\n",
       "      <td>[[39.0, 35.0, 37.0, 39.0, 39.0, 40.0, 41.0, 37...</td>\n",
       "      <td>02</td>\n",
       "      <td>09</td>\n",
       "    </tr>\n",
       "    <tr>\n",
       "      <th>19</th>\n",
       "      <td>[[39.0, 36.0, 35.0, 36.0, 39.0, 39.0, 37.0, 38...</td>\n",
       "      <td>02</td>\n",
       "      <td>10</td>\n",
       "    </tr>\n",
       "    <tr>\n",
       "      <th>20</th>\n",
       "      <td>[[106.0, 104.0, 103.0, 107.0, 106.0, 110.0, 11...</td>\n",
       "      <td>03</td>\n",
       "      <td>01</td>\n",
       "    </tr>\n",
       "    <tr>\n",
       "      <th>21</th>\n",
       "      <td>[[100.0, 102.0, 98.0, 101.0, 103.0, 108.0, 106...</td>\n",
       "      <td>03</td>\n",
       "      <td>02</td>\n",
       "    </tr>\n",
       "    <tr>\n",
       "      <th>22</th>\n",
       "      <td>[[104.0, 106.0, 104.0, 108.0, 106.0, 108.0, 10...</td>\n",
       "      <td>03</td>\n",
       "      <td>03</td>\n",
       "    </tr>\n",
       "    <tr>\n",
       "      <th>23</th>\n",
       "      <td>[[103.0, 104.0, 104.0, 107.0, 108.0, 107.0, 10...</td>\n",
       "      <td>03</td>\n",
       "      <td>04</td>\n",
       "    </tr>\n",
       "    <tr>\n",
       "      <th>24</th>\n",
       "      <td>[[101.0, 100.0, 105.0, 103.0, 104.0, 103.0, 10...</td>\n",
       "      <td>03</td>\n",
       "      <td>05</td>\n",
       "    </tr>\n",
       "    <tr>\n",
       "      <th>25</th>\n",
       "      <td>[[107.0, 110.0, 110.0, 107.0, 108.0, 106.0, 10...</td>\n",
       "      <td>03</td>\n",
       "      <td>06</td>\n",
       "    </tr>\n",
       "    <tr>\n",
       "      <th>26</th>\n",
       "      <td>[[106.0, 109.0, 108.0, 109.0, 113.0, 112.0, 11...</td>\n",
       "      <td>03</td>\n",
       "      <td>07</td>\n",
       "    </tr>\n",
       "    <tr>\n",
       "      <th>27</th>\n",
       "      <td>[[106.0, 105.0, 107.0, 107.0, 108.0, 111.0, 10...</td>\n",
       "      <td>03</td>\n",
       "      <td>08</td>\n",
       "    </tr>\n",
       "    <tr>\n",
       "      <th>28</th>\n",
       "      <td>[[108.0, 108.0, 109.0, 109.0, 108.0, 112.0, 11...</td>\n",
       "      <td>03</td>\n",
       "      <td>09</td>\n",
       "    </tr>\n",
       "    <tr>\n",
       "      <th>29</th>\n",
       "      <td>[[106.0, 107.0, 108.0, 107.0, 111.0, 112.0, 11...</td>\n",
       "      <td>03</td>\n",
       "      <td>10</td>\n",
       "    </tr>\n",
       "    <tr>\n",
       "      <th>...</th>\n",
       "      <td>...</td>\n",
       "      <td>...</td>\n",
       "      <td>...</td>\n",
       "    </tr>\n",
       "    <tr>\n",
       "      <th>370</th>\n",
       "      <td>[[112.0, 111.0, 112.0, 114.0, 114.0, 111.0, 11...</td>\n",
       "      <td>38</td>\n",
       "      <td>01</td>\n",
       "    </tr>\n",
       "    <tr>\n",
       "      <th>371</th>\n",
       "      <td>[[106.0, 108.0, 102.0, 107.0, 103.0, 108.0, 10...</td>\n",
       "      <td>38</td>\n",
       "      <td>02</td>\n",
       "    </tr>\n",
       "    <tr>\n",
       "      <th>372</th>\n",
       "      <td>[[109.0, 107.0, 101.0, 109.0, 108.0, 104.0, 10...</td>\n",
       "      <td>38</td>\n",
       "      <td>03</td>\n",
       "    </tr>\n",
       "    <tr>\n",
       "      <th>373</th>\n",
       "      <td>[[112.0, 110.0, 108.0, 112.0, 112.0, 109.0, 11...</td>\n",
       "      <td>38</td>\n",
       "      <td>04</td>\n",
       "    </tr>\n",
       "    <tr>\n",
       "      <th>374</th>\n",
       "      <td>[[102.0, 103.0, 105.0, 107.0, 103.0, 105.0, 10...</td>\n",
       "      <td>38</td>\n",
       "      <td>05</td>\n",
       "    </tr>\n",
       "    <tr>\n",
       "      <th>375</th>\n",
       "      <td>[[115.0, 112.0, 111.0, 110.0, 110.0, 112.0, 11...</td>\n",
       "      <td>38</td>\n",
       "      <td>06</td>\n",
       "    </tr>\n",
       "    <tr>\n",
       "      <th>376</th>\n",
       "      <td>[[106.0, 106.0, 103.0, 104.0, 107.0, 105.0, 10...</td>\n",
       "      <td>38</td>\n",
       "      <td>07</td>\n",
       "    </tr>\n",
       "    <tr>\n",
       "      <th>377</th>\n",
       "      <td>[[111.0, 110.0, 110.0, 112.0, 111.0, 110.0, 10...</td>\n",
       "      <td>38</td>\n",
       "      <td>08</td>\n",
       "    </tr>\n",
       "    <tr>\n",
       "      <th>378</th>\n",
       "      <td>[[111.0, 112.0, 112.0, 116.0, 113.0, 111.0, 11...</td>\n",
       "      <td>38</td>\n",
       "      <td>09</td>\n",
       "    </tr>\n",
       "    <tr>\n",
       "      <th>379</th>\n",
       "      <td>[[102.0, 103.0, 105.0, 107.0, 104.0, 104.0, 10...</td>\n",
       "      <td>38</td>\n",
       "      <td>10</td>\n",
       "    </tr>\n",
       "    <tr>\n",
       "      <th>380</th>\n",
       "      <td>[[84.0, 86.0, 84.0, 86.0, 60.0, 41.0, 44.0, 57...</td>\n",
       "      <td>39</td>\n",
       "      <td>01</td>\n",
       "    </tr>\n",
       "    <tr>\n",
       "      <th>381</th>\n",
       "      <td>[[74.0, 75.0, 75.0, 79.0, 59.0, 41.0, 40.0, 46...</td>\n",
       "      <td>39</td>\n",
       "      <td>02</td>\n",
       "    </tr>\n",
       "    <tr>\n",
       "      <th>382</th>\n",
       "      <td>[[75.0, 77.0, 76.0, 78.0, 56.0, 45.0, 36.0, 57...</td>\n",
       "      <td>39</td>\n",
       "      <td>03</td>\n",
       "    </tr>\n",
       "    <tr>\n",
       "      <th>383</th>\n",
       "      <td>[[76.0, 72.0, 67.0, 56.0, 62.0, 60.0, 41.0, 45...</td>\n",
       "      <td>39</td>\n",
       "      <td>04</td>\n",
       "    </tr>\n",
       "    <tr>\n",
       "      <th>384</th>\n",
       "      <td>[[91.0, 89.0, 89.0, 90.0, 88.0, 88.0, 92.0, 92...</td>\n",
       "      <td>39</td>\n",
       "      <td>05</td>\n",
       "    </tr>\n",
       "    <tr>\n",
       "      <th>385</th>\n",
       "      <td>[[92.0, 92.0, 91.0, 90.0, 91.0, 90.0, 81.0, 82...</td>\n",
       "      <td>39</td>\n",
       "      <td>06</td>\n",
       "    </tr>\n",
       "    <tr>\n",
       "      <th>386</th>\n",
       "      <td>[[89.0, 89.0, 84.0, 91.0, 92.0, 90.0, 88.0, 87...</td>\n",
       "      <td>39</td>\n",
       "      <td>07</td>\n",
       "    </tr>\n",
       "    <tr>\n",
       "      <th>387</th>\n",
       "      <td>[[88.0, 86.0, 87.0, 90.0, 94.0, 89.0, 93.0, 89...</td>\n",
       "      <td>39</td>\n",
       "      <td>08</td>\n",
       "    </tr>\n",
       "    <tr>\n",
       "      <th>388</th>\n",
       "      <td>[[88.0, 89.0, 85.0, 91.0, 88.0, 88.0, 90.0, 90...</td>\n",
       "      <td>39</td>\n",
       "      <td>09</td>\n",
       "    </tr>\n",
       "    <tr>\n",
       "      <th>389</th>\n",
       "      <td>[[87.0, 90.0, 86.0, 88.0, 87.0, 87.0, 98.0, 78...</td>\n",
       "      <td>39</td>\n",
       "      <td>10</td>\n",
       "    </tr>\n",
       "    <tr>\n",
       "      <th>390</th>\n",
       "      <td>[[123.0, 124.0, 125.0, 121.0, 122.0, 121.0, 12...</td>\n",
       "      <td>40</td>\n",
       "      <td>01</td>\n",
       "    </tr>\n",
       "    <tr>\n",
       "      <th>391</th>\n",
       "      <td>[[126.0, 132.0, 129.0, 127.0, 126.0, 126.0, 12...</td>\n",
       "      <td>40</td>\n",
       "      <td>02</td>\n",
       "    </tr>\n",
       "    <tr>\n",
       "      <th>392</th>\n",
       "      <td>[[128.0, 128.0, 124.0, 128.0, 126.0, 123.0, 12...</td>\n",
       "      <td>40</td>\n",
       "      <td>03</td>\n",
       "    </tr>\n",
       "    <tr>\n",
       "      <th>393</th>\n",
       "      <td>[[130.0, 126.0, 123.0, 125.0, 128.0, 128.0, 12...</td>\n",
       "      <td>40</td>\n",
       "      <td>04</td>\n",
       "    </tr>\n",
       "    <tr>\n",
       "      <th>394</th>\n",
       "      <td>[[127.0, 128.0, 129.0, 131.0, 126.0, 128.0, 12...</td>\n",
       "      <td>40</td>\n",
       "      <td>05</td>\n",
       "    </tr>\n",
       "    <tr>\n",
       "      <th>395</th>\n",
       "      <td>[[123.0, 126.0, 123.0, 121.0, 120.0, 124.0, 12...</td>\n",
       "      <td>40</td>\n",
       "      <td>06</td>\n",
       "    </tr>\n",
       "    <tr>\n",
       "      <th>396</th>\n",
       "      <td>[[128.0, 128.0, 123.0, 128.0, 128.0, 126.0, 13...</td>\n",
       "      <td>40</td>\n",
       "      <td>07</td>\n",
       "    </tr>\n",
       "    <tr>\n",
       "      <th>397</th>\n",
       "      <td>[[124.0, 126.0, 125.0, 121.0, 124.0, 123.0, 12...</td>\n",
       "      <td>40</td>\n",
       "      <td>08</td>\n",
       "    </tr>\n",
       "    <tr>\n",
       "      <th>398</th>\n",
       "      <td>[[121.0, 116.0, 121.0, 117.0, 120.0, 121.0, 12...</td>\n",
       "      <td>40</td>\n",
       "      <td>09</td>\n",
       "    </tr>\n",
       "    <tr>\n",
       "      <th>399</th>\n",
       "      <td>[[125.0, 125.0, 123.0, 122.0, 122.0, 123.0, 12...</td>\n",
       "      <td>40</td>\n",
       "      <td>10</td>\n",
       "    </tr>\n",
       "  </tbody>\n",
       "</table>\n",
       "<p>400 rows × 3 columns</p>\n",
       "</div>"
      ],
      "text/plain": [
       "                                                  data person person_num\n",
       "0    [[52.0, 46.0, 45.0, 47.0, 40.0, 50.0, 69.0, 67...     01         01\n",
       "1    [[73.0, 63.0, 69.0, 61.0, 69.0, 85.0, 91.0, 86...     01         02\n",
       "2    [[44.0, 51.0, 50.0, 43.0, 40.0, 53.0, 76.0, 87...     01         03\n",
       "3    [[48.0, 41.0, 29.0, 34.0, 46.0, 63.0, 75.0, 91...     01         04\n",
       "4    [[61.0, 58.0, 78.0, 69.0, 62.0, 48.0, 47.0, 46...     01         05\n",
       "5    [[53.0, 62.0, 67.0, 52.0, 77.0, 83.0, 84.0, 56...     01         06\n",
       "6    [[43.0, 43.0, 46.0, 35.0, 49.0, 66.0, 48.0, 88...     01         07\n",
       "7    [[38.0, 29.0, 36.0, 33.0, 57.0, 42.0, 36.0, 32...     01         08\n",
       "8    [[41.0, 42.0, 34.0, 35.0, 47.0, 63.0, 45.0, 37...     01         09\n",
       "9    [[30.0, 37.0, 38.0, 40.0, 55.0, 57.0, 72.0, 64...     01         10\n",
       "10   [[35.0, 38.0, 32.0, 39.0, 35.0, 35.0, 37.0, 39...     02         01\n",
       "11   [[36.0, 37.0, 37.0, 40.0, 38.0, 36.0, 38.0, 39...     02         02\n",
       "12   [[38.0, 35.0, 33.0, 35.0, 35.0, 34.0, 36.0, 35...     02         03\n",
       "13   [[34.0, 38.0, 38.0, 36.0, 38.0, 37.0, 33.0, 37...     02         04\n",
       "14   [[30.0, 34.0, 35.0, 35.0, 37.0, 35.0, 33.0, 40...     02         05\n",
       "15   [[35.0, 41.0, 38.0, 38.0, 35.0, 36.0, 38.0, 37...     02         06\n",
       "16   [[39.0, 38.0, 38.0, 37.0, 39.0, 40.0, 37.0, 38...     02         07\n",
       "17   [[35.0, 39.0, 37.0, 37.0, 40.0, 40.0, 39.0, 40...     02         08\n",
       "18   [[39.0, 35.0, 37.0, 39.0, 39.0, 40.0, 41.0, 37...     02         09\n",
       "19   [[39.0, 36.0, 35.0, 36.0, 39.0, 39.0, 37.0, 38...     02         10\n",
       "20   [[106.0, 104.0, 103.0, 107.0, 106.0, 110.0, 11...     03         01\n",
       "21   [[100.0, 102.0, 98.0, 101.0, 103.0, 108.0, 106...     03         02\n",
       "22   [[104.0, 106.0, 104.0, 108.0, 106.0, 108.0, 10...     03         03\n",
       "23   [[103.0, 104.0, 104.0, 107.0, 108.0, 107.0, 10...     03         04\n",
       "24   [[101.0, 100.0, 105.0, 103.0, 104.0, 103.0, 10...     03         05\n",
       "25   [[107.0, 110.0, 110.0, 107.0, 108.0, 106.0, 10...     03         06\n",
       "26   [[106.0, 109.0, 108.0, 109.0, 113.0, 112.0, 11...     03         07\n",
       "27   [[106.0, 105.0, 107.0, 107.0, 108.0, 111.0, 10...     03         08\n",
       "28   [[108.0, 108.0, 109.0, 109.0, 108.0, 112.0, 11...     03         09\n",
       "29   [[106.0, 107.0, 108.0, 107.0, 111.0, 112.0, 11...     03         10\n",
       "..                                                 ...    ...        ...\n",
       "370  [[112.0, 111.0, 112.0, 114.0, 114.0, 111.0, 11...     38         01\n",
       "371  [[106.0, 108.0, 102.0, 107.0, 103.0, 108.0, 10...     38         02\n",
       "372  [[109.0, 107.0, 101.0, 109.0, 108.0, 104.0, 10...     38         03\n",
       "373  [[112.0, 110.0, 108.0, 112.0, 112.0, 109.0, 11...     38         04\n",
       "374  [[102.0, 103.0, 105.0, 107.0, 103.0, 105.0, 10...     38         05\n",
       "375  [[115.0, 112.0, 111.0, 110.0, 110.0, 112.0, 11...     38         06\n",
       "376  [[106.0, 106.0, 103.0, 104.0, 107.0, 105.0, 10...     38         07\n",
       "377  [[111.0, 110.0, 110.0, 112.0, 111.0, 110.0, 10...     38         08\n",
       "378  [[111.0, 112.0, 112.0, 116.0, 113.0, 111.0, 11...     38         09\n",
       "379  [[102.0, 103.0, 105.0, 107.0, 104.0, 104.0, 10...     38         10\n",
       "380  [[84.0, 86.0, 84.0, 86.0, 60.0, 41.0, 44.0, 57...     39         01\n",
       "381  [[74.0, 75.0, 75.0, 79.0, 59.0, 41.0, 40.0, 46...     39         02\n",
       "382  [[75.0, 77.0, 76.0, 78.0, 56.0, 45.0, 36.0, 57...     39         03\n",
       "383  [[76.0, 72.0, 67.0, 56.0, 62.0, 60.0, 41.0, 45...     39         04\n",
       "384  [[91.0, 89.0, 89.0, 90.0, 88.0, 88.0, 92.0, 92...     39         05\n",
       "385  [[92.0, 92.0, 91.0, 90.0, 91.0, 90.0, 81.0, 82...     39         06\n",
       "386  [[89.0, 89.0, 84.0, 91.0, 92.0, 90.0, 88.0, 87...     39         07\n",
       "387  [[88.0, 86.0, 87.0, 90.0, 94.0, 89.0, 93.0, 89...     39         08\n",
       "388  [[88.0, 89.0, 85.0, 91.0, 88.0, 88.0, 90.0, 90...     39         09\n",
       "389  [[87.0, 90.0, 86.0, 88.0, 87.0, 87.0, 98.0, 78...     39         10\n",
       "390  [[123.0, 124.0, 125.0, 121.0, 122.0, 121.0, 12...     40         01\n",
       "391  [[126.0, 132.0, 129.0, 127.0, 126.0, 126.0, 12...     40         02\n",
       "392  [[128.0, 128.0, 124.0, 128.0, 126.0, 123.0, 12...     40         03\n",
       "393  [[130.0, 126.0, 123.0, 125.0, 128.0, 128.0, 12...     40         04\n",
       "394  [[127.0, 128.0, 129.0, 131.0, 126.0, 128.0, 12...     40         05\n",
       "395  [[123.0, 126.0, 123.0, 121.0, 120.0, 124.0, 12...     40         06\n",
       "396  [[128.0, 128.0, 123.0, 128.0, 128.0, 126.0, 13...     40         07\n",
       "397  [[124.0, 126.0, 125.0, 121.0, 124.0, 123.0, 12...     40         08\n",
       "398  [[121.0, 116.0, 121.0, 117.0, 120.0, 121.0, 12...     40         09\n",
       "399  [[125.0, 125.0, 123.0, 122.0, 122.0, 123.0, 12...     40         10\n",
       "\n",
       "[400 rows x 3 columns]"
      ]
     },
     "execution_count": 70,
     "metadata": {},
     "output_type": "execute_result"
    }
   ],
   "source": [
    "image_data"
   ]
  },
  {
   "cell_type": "code",
   "execution_count": 71,
   "metadata": {},
   "outputs": [
    {
     "ename": "TypeError",
     "evalue": "cannot concatenate a non-NDFrame object",
     "output_type": "error",
     "traceback": [
      "\u001b[1;31m---------------------------------------------------------------------------\u001b[0m",
      "\u001b[1;31mTypeError\u001b[0m                                 Traceback (most recent call last)",
      "\u001b[1;32m<ipython-input-71-d310026c559f>\u001b[0m in \u001b[0;36m<module>\u001b[1;34m()\u001b[0m\n\u001b[0;32m      6\u001b[0m     \u001b[0mdata_read\u001b[0m \u001b[1;33m=\u001b[0m \u001b[1;33m{\u001b[0m\u001b[1;34m'data'\u001b[0m\u001b[1;33m:\u001b[0m\u001b[0mimage_read\u001b[0m\u001b[1;33m,\u001b[0m\u001b[1;34m'person'\u001b[0m\u001b[1;33m:\u001b[0m\u001b[0mperson\u001b[0m\u001b[1;33m,\u001b[0m\u001b[1;34m'person_num'\u001b[0m\u001b[1;33m:\u001b[0m\u001b[0mperson_num\u001b[0m\u001b[1;33m}\u001b[0m\u001b[1;33m\u001b[0m\u001b[0m\n\u001b[0;32m      7\u001b[0m \u001b[1;33m\u001b[0m\u001b[0m\n\u001b[1;32m----> 8\u001b[1;33m     \u001b[0mimage_data\u001b[0m \u001b[1;33m=\u001b[0m \u001b[0mpd\u001b[0m\u001b[1;33m.\u001b[0m\u001b[0mconcat\u001b[0m\u001b[1;33m(\u001b[0m\u001b[1;33m[\u001b[0m\u001b[0mimage_data\u001b[0m\u001b[1;33m,\u001b[0m\u001b[0mdata_read\u001b[0m\u001b[1;33m]\u001b[0m\u001b[1;33m,\u001b[0m\u001b[0mignore_index\u001b[0m\u001b[1;33m=\u001b[0m\u001b[1;32mTrue\u001b[0m\u001b[1;33m)\u001b[0m\u001b[1;33m\u001b[0m\u001b[0m\n\u001b[0m\u001b[0;32m      9\u001b[0m \u001b[1;33m\u001b[0m\u001b[0m\n",
      "\u001b[1;32m~\\Anaconda3\\lib\\site-packages\\pandas\\core\\reshape\\concat.py\u001b[0m in \u001b[0;36mconcat\u001b[1;34m(objs, axis, join, join_axes, ignore_index, keys, levels, names, verify_integrity, copy)\u001b[0m\n\u001b[0;32m    204\u001b[0m                        \u001b[0mkeys\u001b[0m\u001b[1;33m=\u001b[0m\u001b[0mkeys\u001b[0m\u001b[1;33m,\u001b[0m \u001b[0mlevels\u001b[0m\u001b[1;33m=\u001b[0m\u001b[0mlevels\u001b[0m\u001b[1;33m,\u001b[0m \u001b[0mnames\u001b[0m\u001b[1;33m=\u001b[0m\u001b[0mnames\u001b[0m\u001b[1;33m,\u001b[0m\u001b[1;33m\u001b[0m\u001b[0m\n\u001b[0;32m    205\u001b[0m                        \u001b[0mverify_integrity\u001b[0m\u001b[1;33m=\u001b[0m\u001b[0mverify_integrity\u001b[0m\u001b[1;33m,\u001b[0m\u001b[1;33m\u001b[0m\u001b[0m\n\u001b[1;32m--> 206\u001b[1;33m                        copy=copy)\n\u001b[0m\u001b[0;32m    207\u001b[0m     \u001b[1;32mreturn\u001b[0m \u001b[0mop\u001b[0m\u001b[1;33m.\u001b[0m\u001b[0mget_result\u001b[0m\u001b[1;33m(\u001b[0m\u001b[1;33m)\u001b[0m\u001b[1;33m\u001b[0m\u001b[0m\n\u001b[0;32m    208\u001b[0m \u001b[1;33m\u001b[0m\u001b[0m\n",
      "\u001b[1;32m~\\Anaconda3\\lib\\site-packages\\pandas\\core\\reshape\\concat.py\u001b[0m in \u001b[0;36m__init__\u001b[1;34m(self, objs, axis, join, join_axes, keys, levels, names, ignore_index, verify_integrity, copy)\u001b[0m\n\u001b[0;32m    261\u001b[0m         \u001b[1;32mfor\u001b[0m \u001b[0mobj\u001b[0m \u001b[1;32min\u001b[0m \u001b[0mobjs\u001b[0m\u001b[1;33m:\u001b[0m\u001b[1;33m\u001b[0m\u001b[0m\n\u001b[0;32m    262\u001b[0m             \u001b[1;32mif\u001b[0m \u001b[1;32mnot\u001b[0m \u001b[0misinstance\u001b[0m\u001b[1;33m(\u001b[0m\u001b[0mobj\u001b[0m\u001b[1;33m,\u001b[0m \u001b[0mNDFrame\u001b[0m\u001b[1;33m)\u001b[0m\u001b[1;33m:\u001b[0m\u001b[1;33m\u001b[0m\u001b[0m\n\u001b[1;32m--> 263\u001b[1;33m                 \u001b[1;32mraise\u001b[0m \u001b[0mTypeError\u001b[0m\u001b[1;33m(\u001b[0m\u001b[1;34m\"cannot concatenate a non-NDFrame object\"\u001b[0m\u001b[1;33m)\u001b[0m\u001b[1;33m\u001b[0m\u001b[0m\n\u001b[0m\u001b[0;32m    264\u001b[0m \u001b[1;33m\u001b[0m\u001b[0m\n\u001b[0;32m    265\u001b[0m             \u001b[1;31m# consolidate\u001b[0m\u001b[1;33m\u001b[0m\u001b[1;33m\u001b[0m\u001b[0m\n",
      "\u001b[1;31mTypeError\u001b[0m: cannot concatenate a non-NDFrame object"
     ]
    }
   ],
   "source": [
    "\n",
    "for file in file_list:\n",
    "    image_read = misc.imread(os.path.join(file_path,file),flatten=True)\n",
    "    [person,person_num] = re.findall('\\d\\d',file)\n",
    "\n",
    "    data_read = {'data':image_read,'person':person,'person_num':person_num}\n",
    "\n",
    "    image_data = pd.concat([image_data,data_read],ignore_index=True)\n",
    "    "
   ]
  },
  {
   "cell_type": "code",
   "execution_count": null,
   "metadata": {
    "collapsed": true
   },
   "outputs": [],
   "source": []
  },
  {
   "cell_type": "code",
   "execution_count": 72,
   "metadata": {},
   "outputs": [
    {
     "ename": "TypeError",
     "evalue": "cannot concatenate a non-NDFrame object",
     "output_type": "error",
     "traceback": [
      "\u001b[1;31m---------------------------------------------------------------------------\u001b[0m",
      "\u001b[1;31mTypeError\u001b[0m                                 Traceback (most recent call last)",
      "\u001b[1;32m<ipython-input-72-75b24719c3b7>\u001b[0m in \u001b[0;36m<module>\u001b[1;34m()\u001b[0m\n\u001b[1;32m----> 1\u001b[1;33m \u001b[0ma\u001b[0m \u001b[1;33m=\u001b[0m \u001b[0mpd\u001b[0m\u001b[1;33m.\u001b[0m\u001b[0mconcat\u001b[0m\u001b[1;33m(\u001b[0m\u001b[1;33m[\u001b[0m\u001b[0mimage_data\u001b[0m\u001b[1;33m,\u001b[0m\u001b[0mdata_read\u001b[0m\u001b[1;33m]\u001b[0m\u001b[1;33m,\u001b[0m\u001b[0mignore_index\u001b[0m\u001b[1;33m=\u001b[0m\u001b[1;32mTrue\u001b[0m\u001b[1;33m)\u001b[0m\u001b[1;33m\u001b[0m\u001b[0m\n\u001b[0m",
      "\u001b[1;32m~\\Anaconda3\\lib\\site-packages\\pandas\\core\\reshape\\concat.py\u001b[0m in \u001b[0;36mconcat\u001b[1;34m(objs, axis, join, join_axes, ignore_index, keys, levels, names, verify_integrity, copy)\u001b[0m\n\u001b[0;32m    204\u001b[0m                        \u001b[0mkeys\u001b[0m\u001b[1;33m=\u001b[0m\u001b[0mkeys\u001b[0m\u001b[1;33m,\u001b[0m \u001b[0mlevels\u001b[0m\u001b[1;33m=\u001b[0m\u001b[0mlevels\u001b[0m\u001b[1;33m,\u001b[0m \u001b[0mnames\u001b[0m\u001b[1;33m=\u001b[0m\u001b[0mnames\u001b[0m\u001b[1;33m,\u001b[0m\u001b[1;33m\u001b[0m\u001b[0m\n\u001b[0;32m    205\u001b[0m                        \u001b[0mverify_integrity\u001b[0m\u001b[1;33m=\u001b[0m\u001b[0mverify_integrity\u001b[0m\u001b[1;33m,\u001b[0m\u001b[1;33m\u001b[0m\u001b[0m\n\u001b[1;32m--> 206\u001b[1;33m                        copy=copy)\n\u001b[0m\u001b[0;32m    207\u001b[0m     \u001b[1;32mreturn\u001b[0m \u001b[0mop\u001b[0m\u001b[1;33m.\u001b[0m\u001b[0mget_result\u001b[0m\u001b[1;33m(\u001b[0m\u001b[1;33m)\u001b[0m\u001b[1;33m\u001b[0m\u001b[0m\n\u001b[0;32m    208\u001b[0m \u001b[1;33m\u001b[0m\u001b[0m\n",
      "\u001b[1;32m~\\Anaconda3\\lib\\site-packages\\pandas\\core\\reshape\\concat.py\u001b[0m in \u001b[0;36m__init__\u001b[1;34m(self, objs, axis, join, join_axes, keys, levels, names, ignore_index, verify_integrity, copy)\u001b[0m\n\u001b[0;32m    261\u001b[0m         \u001b[1;32mfor\u001b[0m \u001b[0mobj\u001b[0m \u001b[1;32min\u001b[0m \u001b[0mobjs\u001b[0m\u001b[1;33m:\u001b[0m\u001b[1;33m\u001b[0m\u001b[0m\n\u001b[0;32m    262\u001b[0m             \u001b[1;32mif\u001b[0m \u001b[1;32mnot\u001b[0m \u001b[0misinstance\u001b[0m\u001b[1;33m(\u001b[0m\u001b[0mobj\u001b[0m\u001b[1;33m,\u001b[0m \u001b[0mNDFrame\u001b[0m\u001b[1;33m)\u001b[0m\u001b[1;33m:\u001b[0m\u001b[1;33m\u001b[0m\u001b[0m\n\u001b[1;32m--> 263\u001b[1;33m                 \u001b[1;32mraise\u001b[0m \u001b[0mTypeError\u001b[0m\u001b[1;33m(\u001b[0m\u001b[1;34m\"cannot concatenate a non-NDFrame object\"\u001b[0m\u001b[1;33m)\u001b[0m\u001b[1;33m\u001b[0m\u001b[0m\n\u001b[0m\u001b[0;32m    264\u001b[0m \u001b[1;33m\u001b[0m\u001b[0m\n\u001b[0;32m    265\u001b[0m             \u001b[1;31m# consolidate\u001b[0m\u001b[1;33m\u001b[0m\u001b[1;33m\u001b[0m\u001b[0m\n",
      "\u001b[1;31mTypeError\u001b[0m: cannot concatenate a non-NDFrame object"
     ]
    }
   ],
   "source": [
    "a = pd.concat([image_data,data_read],ignore_index=True)"
   ]
  },
  {
   "cell_type": "code",
   "execution_count": null,
   "metadata": {
    "collapsed": true
   },
   "outputs": [],
   "source": [
    "  "
   ]
  }
 ],
 "metadata": {
  "kernelspec": {
   "display_name": "Python 3",
   "language": "python",
   "name": "python3"
  },
  "language_info": {
   "codemirror_mode": {
    "name": "ipython",
    "version": 3
   },
   "file_extension": ".py",
   "mimetype": "text/x-python",
   "name": "python",
   "nbconvert_exporter": "python",
   "pygments_lexer": "ipython3",
   "version": "3.6.3"
  }
 },
 "nbformat": 4,
 "nbformat_minor": 2
}
