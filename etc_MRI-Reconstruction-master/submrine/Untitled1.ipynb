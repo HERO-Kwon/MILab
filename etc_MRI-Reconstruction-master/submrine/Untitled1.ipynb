{
 "cells": [
  {
   "cell_type": "code",
   "execution_count": 5,
   "metadata": {},
   "outputs": [
    {
     "ename": "ValueError",
     "evalue": "attempted relative import beyond top-level package",
     "output_type": "error",
     "traceback": [
      "\u001b[0;31m---------------------------------------------------------------------------\u001b[0m",
      "\u001b[0;31mValueError\u001b[0m                                Traceback (most recent call last)",
      "\u001b[0;32m<ipython-input-5-c883055b5a2e>\u001b[0m in \u001b[0;36m<module>\u001b[0;34m()\u001b[0m\n\u001b[0;32m----> 1\u001b[0;31m \u001b[0;32mfrom\u001b[0m \u001b[0mtrain\u001b[0m \u001b[0;32mimport\u001b[0m \u001b[0mtrain_net\u001b[0m\u001b[0;34m\u001b[0m\u001b[0m\n\u001b[0m\u001b[1;32m      2\u001b[0m \u001b[0;32mfrom\u001b[0m \u001b[0meval\u001b[0m \u001b[0;32mimport\u001b[0m \u001b[0meval_net\u001b[0m\u001b[0;34m\u001b[0m\u001b[0m\n",
      "\u001b[0;32m~/OneDrive/4_Sources/Python3/MRI-Reconstruction-master/submrine/train/train_net.py\u001b[0m in \u001b[0;36m<module>\u001b[0;34m()\u001b[0m\n\u001b[1;32m      4\u001b[0m \u001b[0;32mimport\u001b[0m \u001b[0mnumpy\u001b[0m \u001b[0;32mas\u001b[0m \u001b[0mnp\u001b[0m\u001b[0;34m\u001b[0m\u001b[0m\n\u001b[1;32m      5\u001b[0m \u001b[0;34m\u001b[0m\u001b[0m\n\u001b[0;32m----> 6\u001b[0;31m \u001b[0;32mfrom\u001b[0m \u001b[0;34m.\u001b[0m\u001b[0;34m.\u001b[0m\u001b[0mutils\u001b[0m \u001b[0;32mimport\u001b[0m \u001b[0msubsample\u001b[0m\u001b[0;34m,\u001b[0m \u001b[0mload_image_data\u001b[0m\u001b[0;34m,\u001b[0m \u001b[0mmulti_gpu_model\u001b[0m\u001b[0;34m,\u001b[0m \u001b[0mget_image_file_paths\u001b[0m\u001b[0;34m,\u001b[0m \u001b[0mcreate_output_dir\u001b[0m\u001b[0;34m\u001b[0m\u001b[0m\n\u001b[0m\u001b[1;32m      7\u001b[0m \u001b[0;32mfrom\u001b[0m \u001b[0;34m.\u001b[0m\u001b[0;34m.\u001b[0m\u001b[0mutils\u001b[0m\u001b[0;34m.\u001b[0m\u001b[0mconstants\u001b[0m \u001b[0;32mimport\u001b[0m \u001b[0mSLICE_WIDTH\u001b[0m\u001b[0;34m,\u001b[0m \u001b[0mSLICE_HEIGHT\u001b[0m\u001b[0;34m\u001b[0m\u001b[0m\n\u001b[1;32m      8\u001b[0m \u001b[0;34m\u001b[0m\u001b[0m\n",
      "\u001b[0;31mValueError\u001b[0m: attempted relative import beyond top-level package"
     ]
    }
   ],
   "source": [
    "from train import train_net\n",
    "from eval import eval_net"
   ]
  },
  {
   "cell_type": "code",
   "execution_count": 3,
   "metadata": {},
   "outputs": [
    {
     "name": "stdout",
     "output_type": "stream",
     "text": [
      "LICENSE.txt\t VERSION.txt  setup.py\t\t test\t    utils\r\n",
      "Untitled.ipynb\t eval\t      submrine\t\t test_file\r\n",
      "Untitled1.ipynb  oasis\t      submrine.egg-info  train\r\n"
     ]
    }
   ],
   "source": [
    "!ls"
   ]
  },
  {
   "cell_type": "code",
   "execution_count": 6,
   "metadata": {},
   "outputs": [
    {
     "name": "stdout",
     "output_type": "stream",
     "text": [
      "LICENSE.txt\t VERSION.txt  setup.py\t\t test\t    utils\r\n",
      "Untitled.ipynb\t eval\t      submrine\t\t test_file\r\n",
      "Untitled1.ipynb  oasis\t      submrine.egg-info  train\r\n"
     ]
    }
   ],
   "source": [
    "!ls"
   ]
  },
  {
   "cell_type": "code",
   "execution_count": 7,
   "metadata": {},
   "outputs": [
    {
     "name": "stdout",
     "output_type": "stream",
     "text": [
      "usage: setup.py [global_opts] cmd1 [cmd1_opts] [cmd2 [cmd2_opts] ...]\r\n",
      "   or: setup.py --help [cmd1 cmd2 ...]\r\n",
      "   or: setup.py --help-commands\r\n",
      "   or: setup.py cmd --help\r\n",
      "\r\n",
      "error: no commands supplied\r\n"
     ]
    }
   ],
   "source": [
    "!python setup.py"
   ]
  },
  {
   "cell_type": "code",
   "execution_count": 9,
   "metadata": {},
   "outputs": [
    {
     "name": "stdout",
     "output_type": "stream",
     "text": [
      "Common commands: (see '--help-commands' for more)\r\n",
      "\r\n",
      "  setup.py build      will build the package underneath 'build/'\r\n",
      "  setup.py install    will install the package\r\n",
      "\r\n",
      "Global options:\r\n",
      "  --verbose (-v)      run verbosely (default)\r\n",
      "  --quiet (-q)        run quietly (turns verbosity off)\r\n",
      "  --dry-run (-n)      don't actually do anything\r\n",
      "  --help (-h)         show detailed help message\r\n",
      "  --no-user-cfg       ignore pydistutils.cfg in your home directory\r\n",
      "  --command-packages  list of packages that provide distutils commands\r\n",
      "\r\n",
      "Information display options (just display information, ignore any commands)\r\n",
      "  --help-commands     list all available commands\r\n",
      "  --name              print package name\r\n",
      "  --version (-V)      print package version\r\n",
      "  --fullname          print <package name>-<version>\r\n",
      "  --author            print the author's name\r\n",
      "  --author-email      print the author's email address\r\n",
      "  --maintainer        print the maintainer's name\r\n",
      "  --maintainer-email  print the maintainer's email address\r\n",
      "  --contact           print the maintainer's name if known, else the author's\r\n",
      "  --contact-email     print the maintainer's email address if known, else the\r\n",
      "                      author's\r\n",
      "  --url               print the URL for this package\r\n",
      "  --license           print the license of the package\r\n",
      "  --licence           alias for --license\r\n",
      "  --description       print the package description\r\n",
      "  --long-description  print the long package description\r\n",
      "  --platforms         print the list of platforms\r\n",
      "  --classifiers       print the list of classifiers\r\n",
      "  --keywords          print the list of keywords\r\n",
      "  --provides          print the list of packages/modules provided\r\n",
      "  --requires          print the list of packages/modules required\r\n",
      "  --obsoletes         print the list of packages/modules made obsolete\r\n",
      "\r\n",
      "usage: setup.py [global_opts] cmd1 [cmd1_opts] [cmd2 [cmd2_opts] ...]\r\n",
      "   or: setup.py --help [cmd1 cmd2 ...]\r\n",
      "   or: setup.py --help-commands\r\n",
      "   or: setup.py cmd --help\r\n",
      "\r\n"
     ]
    }
   ],
   "source": [
    "!python setup.py --help"
   ]
  },
  {
   "cell_type": "code",
   "execution_count": 10,
   "metadata": {},
   "outputs": [
    {
     "name": "stdout",
     "output_type": "stream",
     "text": [
      "running build\r\n",
      "running build_py\r\n",
      "creating build\r\n",
      "creating build/lib\r\n",
      "creating build/lib/submrine\r\n",
      "copying submrine/__init__.py -> build/lib/submrine\r\n",
      "creating build/lib/submrine/utils\r\n",
      "copying submrine/utils/correction.py -> build/lib/submrine/utils\r\n",
      "copying submrine/utils/__init__.py -> build/lib/submrine/utils\r\n",
      "copying submrine/utils/subsampling.py -> build/lib/submrine/utils\r\n",
      "copying submrine/utils/output.py -> build/lib/submrine/utils\r\n",
      "copying submrine/utils/constants.py -> build/lib/submrine/utils\r\n",
      "copying submrine/utils/analyze_loader.py -> build/lib/submrine/utils\r\n",
      "copying submrine/utils/keras_parallel.py -> build/lib/submrine/utils\r\n",
      "creating build/lib/submrine/train\r\n",
      "copying submrine/train/__init__.py -> build/lib/submrine/train\r\n",
      "copying submrine/train/__main__.py -> build/lib/submrine/train\r\n",
      "copying submrine/train/train_net.py -> build/lib/submrine/train\r\n",
      "creating build/lib/submrine/eval\r\n",
      "copying submrine/eval/__init__.py -> build/lib/submrine/eval\r\n",
      "copying submrine/eval/eval_net.py -> build/lib/submrine/eval\r\n",
      "copying submrine/eval/__main__.py -> build/lib/submrine/eval\r\n"
     ]
    }
   ],
   "source": [
    "!python setup.py build"
   ]
  },
  {
   "cell_type": "code",
   "execution_count": 11,
   "metadata": {},
   "outputs": [
    {
     "name": "stdout",
     "output_type": "stream",
     "text": [
      "running install\n",
      "running bdist_egg\n",
      "running egg_info\n",
      "writing submrine.egg-info/PKG-INFO\n",
      "writing dependency_links to submrine.egg-info/dependency_links.txt\n",
      "writing entry points to submrine.egg-info/entry_points.txt\n",
      "writing requirements to submrine.egg-info/requires.txt\n",
      "writing top-level names to submrine.egg-info/top_level.txt\n",
      "reading manifest file 'submrine.egg-info/SOURCES.txt'\n",
      "writing manifest file 'submrine.egg-info/SOURCES.txt'\n",
      "installing library code to build/bdist.linux-x86_64/egg\n",
      "running install_lib\n",
      "running build_py\n",
      "creating build/bdist.linux-x86_64\n",
      "creating build/bdist.linux-x86_64/egg\n",
      "creating build/bdist.linux-x86_64/egg/submrine\n",
      "copying build/lib/submrine/__init__.py -> build/bdist.linux-x86_64/egg/submrine\n",
      "creating build/bdist.linux-x86_64/egg/submrine/eval\n",
      "copying build/lib/submrine/eval/__init__.py -> build/bdist.linux-x86_64/egg/submrine/eval\n",
      "copying build/lib/submrine/eval/eval_net.py -> build/bdist.linux-x86_64/egg/submrine/eval\n",
      "copying build/lib/submrine/eval/__main__.py -> build/bdist.linux-x86_64/egg/submrine/eval\n",
      "creating build/bdist.linux-x86_64/egg/submrine/utils\n",
      "copying build/lib/submrine/utils/correction.py -> build/bdist.linux-x86_64/egg/submrine/utils\n",
      "copying build/lib/submrine/utils/__init__.py -> build/bdist.linux-x86_64/egg/submrine/utils\n",
      "copying build/lib/submrine/utils/subsampling.py -> build/bdist.linux-x86_64/egg/submrine/utils\n",
      "copying build/lib/submrine/utils/output.py -> build/bdist.linux-x86_64/egg/submrine/utils\n",
      "copying build/lib/submrine/utils/constants.py -> build/bdist.linux-x86_64/egg/submrine/utils\n",
      "copying build/lib/submrine/utils/analyze_loader.py -> build/bdist.linux-x86_64/egg/submrine/utils\n",
      "copying build/lib/submrine/utils/keras_parallel.py -> build/bdist.linux-x86_64/egg/submrine/utils\n",
      "creating build/bdist.linux-x86_64/egg/submrine/train\n",
      "copying build/lib/submrine/train/__init__.py -> build/bdist.linux-x86_64/egg/submrine/train\n",
      "copying build/lib/submrine/train/__main__.py -> build/bdist.linux-x86_64/egg/submrine/train\n",
      "copying build/lib/submrine/train/train_net.py -> build/bdist.linux-x86_64/egg/submrine/train\n",
      "byte-compiling build/bdist.linux-x86_64/egg/submrine/__init__.py to __init__.cpython-36.pyc\n",
      "byte-compiling build/bdist.linux-x86_64/egg/submrine/eval/__init__.py to __init__.cpython-36.pyc\n",
      "byte-compiling build/bdist.linux-x86_64/egg/submrine/eval/eval_net.py to eval_net.cpython-36.pyc\n",
      "byte-compiling build/bdist.linux-x86_64/egg/submrine/eval/__main__.py to __main__.cpython-36.pyc\n",
      "byte-compiling build/bdist.linux-x86_64/egg/submrine/utils/correction.py to correction.cpython-36.pyc\n",
      "byte-compiling build/bdist.linux-x86_64/egg/submrine/utils/__init__.py to __init__.cpython-36.pyc\n",
      "byte-compiling build/bdist.linux-x86_64/egg/submrine/utils/subsampling.py to subsampling.cpython-36.pyc\n",
      "byte-compiling build/bdist.linux-x86_64/egg/submrine/utils/output.py to output.cpython-36.pyc\n",
      "byte-compiling build/bdist.linux-x86_64/egg/submrine/utils/constants.py to constants.cpython-36.pyc\n",
      "byte-compiling build/bdist.linux-x86_64/egg/submrine/utils/analyze_loader.py to analyze_loader.cpython-36.pyc\n",
      "byte-compiling build/bdist.linux-x86_64/egg/submrine/utils/keras_parallel.py to keras_parallel.cpython-36.pyc\n",
      "byte-compiling build/bdist.linux-x86_64/egg/submrine/train/__init__.py to __init__.cpython-36.pyc\n",
      "byte-compiling build/bdist.linux-x86_64/egg/submrine/train/__main__.py to __main__.cpython-36.pyc\n",
      "byte-compiling build/bdist.linux-x86_64/egg/submrine/train/train_net.py to train_net.cpython-36.pyc\n",
      "creating build/bdist.linux-x86_64/egg/EGG-INFO\n",
      "copying submrine.egg-info/PKG-INFO -> build/bdist.linux-x86_64/egg/EGG-INFO\n",
      "copying submrine.egg-info/SOURCES.txt -> build/bdist.linux-x86_64/egg/EGG-INFO\n",
      "copying submrine.egg-info/dependency_links.txt -> build/bdist.linux-x86_64/egg/EGG-INFO\n",
      "copying submrine.egg-info/entry_points.txt -> build/bdist.linux-x86_64/egg/EGG-INFO\n",
      "copying submrine.egg-info/requires.txt -> build/bdist.linux-x86_64/egg/EGG-INFO\n",
      "copying submrine.egg-info/top_level.txt -> build/bdist.linux-x86_64/egg/EGG-INFO\n",
      "zip_safe flag not set; analyzing archive contents...\n",
      "creating dist\n",
      "creating 'dist/submrine-1.0-py3.6.egg' and adding 'build/bdist.linux-x86_64/egg' to it\n",
      "removing 'build/bdist.linux-x86_64/egg' (and everything under it)\n",
      "Processing submrine-1.0-py3.6.egg\n",
      "Copying submrine-1.0-py3.6.egg to /home/hero/anaconda3/lib/python3.6/site-packages\n",
      "Removing submrine 1.0 from easy-install.pth file\n",
      "Adding submrine 1.0 to easy-install.pth file\n",
      "Installing submrine-eval script to /home/hero/anaconda3/bin\n",
      "Installing submrine-test script to /home/hero/anaconda3/bin\n",
      "Installing submrine-train script to /home/hero/anaconda3/bin\n",
      "\n",
      "Installed /home/hero/anaconda3/lib/python3.6/site-packages/submrine-1.0-py3.6.egg\n",
      "Processing dependencies for submrine==1.0\n",
      "Searching for scikit-image==0.13.1\n",
      "Best match: scikit-image 0.13.1\n",
      "Adding scikit-image 0.13.1 to easy-install.pth file\n",
      "Installing skivi script to /home/hero/anaconda3/bin\n",
      "\n",
      "Using /home/hero/anaconda3/lib/python3.6/site-packages\n",
      "Searching for Keras==2.1.5\n",
      "Best match: Keras 2.1.5\n",
      "Adding Keras 2.1.5 to easy-install.pth file\n",
      "\n",
      "Using /home/hero/anaconda3/lib/python3.6/site-packages\n",
      "Searching for matplotlib==2.1.2\n",
      "Best match: matplotlib 2.1.2\n",
      "Adding matplotlib 2.1.2 to easy-install.pth file\n",
      "\n",
      "Using /home/hero/anaconda3/lib/python3.6/site-packages\n",
      "Searching for nibabel==2.2.1\n",
      "Best match: nibabel 2.2.1\n",
      "Adding nibabel 2.2.1 to easy-install.pth file\n",
      "\n",
      "Using /home/hero/anaconda3/lib/python3.6/site-packages\n",
      "Searching for numpy==1.14.0\n",
      "Best match: numpy 1.14.0\n",
      "Adding numpy 1.14.0 to easy-install.pth file\n",
      "\n",
      "Using /home/hero/anaconda3/lib/python3.6/site-packages\n",
      "Searching for PyWavelets==0.5.2\n",
      "Best match: PyWavelets 0.5.2\n",
      "Adding PyWavelets 0.5.2 to easy-install.pth file\n",
      "\n",
      "Using /home/hero/anaconda3/lib/python3.6/site-packages\n",
      "Searching for Pillow==5.0.0\n",
      "Best match: Pillow 5.0.0\n",
      "Adding Pillow 5.0.0 to easy-install.pth file\n",
      "\n",
      "Using /home/hero/anaconda3/lib/python3.6/site-packages\n",
      "Searching for networkx==2.1\n",
      "Best match: networkx 2.1\n",
      "Adding networkx 2.1 to easy-install.pth file\n",
      "\n",
      "Using /home/hero/anaconda3/lib/python3.6/site-packages\n",
      "Searching for six==1.11.0\n",
      "Best match: six 1.11.0\n",
      "Adding six 1.11.0 to easy-install.pth file\n",
      "\n",
      "Using /home/hero/anaconda3/lib/python3.6/site-packages\n",
      "Searching for scipy==1.0.0\n",
      "Best match: scipy 1.0.0\n",
      "Adding scipy 1.0.0 to easy-install.pth file\n",
      "\n",
      "Using /home/hero/anaconda3/lib/python3.6/site-packages\n",
      "Searching for PyYAML==3.12\n",
      "Best match: PyYAML 3.12\n",
      "Adding PyYAML 3.12 to easy-install.pth file\n",
      "\n",
      "Using /home/hero/anaconda3/lib/python3.6/site-packages\n",
      "Searching for pyparsing==2.2.0\n",
      "Best match: pyparsing 2.2.0\n",
      "Adding pyparsing 2.2.0 to easy-install.pth file\n",
      "\n",
      "Using /home/hero/anaconda3/lib/python3.6/site-packages\n",
      "Searching for cycler==0.10.0\n",
      "Best match: cycler 0.10.0\n",
      "Adding cycler 0.10.0 to easy-install.pth file\n",
      "\n",
      "Using /home/hero/anaconda3/lib/python3.6/site-packages\n",
      "Searching for pytz==2017.3\n",
      "Best match: pytz 2017.3\n",
      "Adding pytz 2017.3 to easy-install.pth file\n",
      "\n",
      "Using /home/hero/anaconda3/lib/python3.6/site-packages\n",
      "Searching for python-dateutil==2.6.1\n",
      "Best match: python-dateutil 2.6.1\n",
      "Adding python-dateutil 2.6.1 to easy-install.pth file\n",
      "\n",
      "Using /home/hero/anaconda3/lib/python3.6/site-packages\n",
      "Searching for decorator==4.2.1\n",
      "Best match: decorator 4.2.1\n",
      "Adding decorator 4.2.1 to easy-install.pth file\n",
      "\n",
      "Using /home/hero/anaconda3/lib/python3.6/site-packages\n",
      "Finished processing dependencies for submrine==1.0\n"
     ]
    }
   ],
   "source": [
    "!python setup.py install"
   ]
  },
  {
   "cell_type": "code",
   "execution_count": 15,
   "metadata": {},
   "outputs": [
    {
     "name": "stdout",
     "output_type": "stream",
     "text": [
      "Traceback (most recent call last):\r\n",
      "  File \"/home/hero/anaconda3/bin/submrine-test\", line 11, in <module>\r\n",
      "    load_entry_point('submrine==1.0', 'console_scripts', 'submrine-test')()\r\n",
      "  File \"/home/hero/anaconda3/lib/python3.6/site-packages/pkg_resources/__init__.py\", line 572, in load_entry_point\r\n",
      "    return get_distribution(dist).load_entry_point(group, name)\r\n",
      "  File \"/home/hero/anaconda3/lib/python3.6/site-packages/pkg_resources/__init__.py\", line 2755, in load_entry_point\r\n",
      "    return ep.load()\r\n",
      "  File \"/home/hero/anaconda3/lib/python3.6/site-packages/pkg_resources/__init__.py\", line 2408, in load\r\n",
      "    return self.resolve()\r\n",
      "  File \"/home/hero/anaconda3/lib/python3.6/site-packages/pkg_resources/__init__.py\", line 2414, in resolve\r\n",
      "    module = __import__(self.module_name, fromlist=['__name__'], level=0)\r\n",
      "  File \"/home/hero/anaconda3/lib/python3.6/site-packages/submrine-1.0-py3.6.egg/submrine/__init__.py\", line 1, in <module>\r\n",
      "ModuleNotFoundError: No module named 'train'\r\n"
     ]
    }
   ],
   "source": [
    "!submrine-test -n /home/hero/OneDrive/4_Sources/Python3/MRI-Reconstruction-master/pretrained_nets/oasis -i /home/hero/OneDrive/4_Sources/Python3/MRI-Reconstruction-master -r /home/hero/OneDrive/4_Sources/Python3 -s 4 -f .04"
   ]
  },
  {
   "cell_type": "code",
   "execution_count": 16,
   "metadata": {},
   "outputs": [
    {
     "ename": "ValueError",
     "evalue": "attempted relative import beyond top-level package",
     "output_type": "error",
     "traceback": [
      "\u001b[0;31m---------------------------------------------------------------------------\u001b[0m",
      "\u001b[0;31mValueError\u001b[0m                                Traceback (most recent call last)",
      "\u001b[0;32m<ipython-input-16-78d596cae4da>\u001b[0m in \u001b[0;36m<module>\u001b[0;34m()\u001b[0m\n\u001b[0;32m----> 1\u001b[0;31m \u001b[0;32mfrom\u001b[0m \u001b[0mtrain\u001b[0m \u001b[0;32mimport\u001b[0m \u001b[0mtrain_net\u001b[0m\u001b[0;34m\u001b[0m\u001b[0m\n\u001b[0m",
      "\u001b[0;32m~/OneDrive/4_Sources/Python3/MRI-Reconstruction-master/submrine/train/train_net.py\u001b[0m in \u001b[0;36m<module>\u001b[0;34m()\u001b[0m\n\u001b[1;32m      4\u001b[0m \u001b[0;32mimport\u001b[0m \u001b[0mnumpy\u001b[0m \u001b[0;32mas\u001b[0m \u001b[0mnp\u001b[0m\u001b[0;34m\u001b[0m\u001b[0m\n\u001b[1;32m      5\u001b[0m \u001b[0;34m\u001b[0m\u001b[0m\n\u001b[0;32m----> 6\u001b[0;31m \u001b[0;32mfrom\u001b[0m \u001b[0;34m.\u001b[0m\u001b[0;34m.\u001b[0m\u001b[0mutils\u001b[0m \u001b[0;32mimport\u001b[0m \u001b[0msubsample\u001b[0m\u001b[0;34m,\u001b[0m \u001b[0mload_image_data\u001b[0m\u001b[0;34m,\u001b[0m \u001b[0mmulti_gpu_model\u001b[0m\u001b[0;34m,\u001b[0m \u001b[0mget_image_file_paths\u001b[0m\u001b[0;34m,\u001b[0m \u001b[0mcreate_output_dir\u001b[0m\u001b[0;34m\u001b[0m\u001b[0m\n\u001b[0m\u001b[1;32m      7\u001b[0m \u001b[0;32mfrom\u001b[0m \u001b[0;34m.\u001b[0m\u001b[0;34m.\u001b[0m\u001b[0mutils\u001b[0m\u001b[0;34m.\u001b[0m\u001b[0mconstants\u001b[0m \u001b[0;32mimport\u001b[0m \u001b[0mSLICE_WIDTH\u001b[0m\u001b[0;34m,\u001b[0m \u001b[0mSLICE_HEIGHT\u001b[0m\u001b[0;34m\u001b[0m\u001b[0m\n\u001b[1;32m      8\u001b[0m \u001b[0;34m\u001b[0m\u001b[0m\n",
      "\u001b[0;31mValueError\u001b[0m: attempted relative import beyond top-level package"
     ]
    }
   ],
   "source": [
    "from train import train_net"
   ]
  },
  {
   "cell_type": "code",
   "execution_count": 17,
   "metadata": {},
   "outputs": [
    {
     "ename": "ValueError",
     "evalue": "attempted relative import beyond top-level package",
     "output_type": "error",
     "traceback": [
      "\u001b[0;31m---------------------------------------------------------------------------\u001b[0m",
      "\u001b[0;31mValueError\u001b[0m                                Traceback (most recent call last)",
      "\u001b[0;32m<ipython-input-17-f0a4c882a649>\u001b[0m in \u001b[0;36m<module>\u001b[0;34m()\u001b[0m\n\u001b[0;32m----> 1\u001b[0;31m \u001b[0;32mimport\u001b[0m \u001b[0msubmrine\u001b[0m\u001b[0;34m\u001b[0m\u001b[0m\n\u001b[0m",
      "\u001b[0;32m~/OneDrive/4_Sources/Python3/MRI-Reconstruction-master/submrine/submrine/__init__.py\u001b[0m in \u001b[0;36m<module>\u001b[0;34m()\u001b[0m\n\u001b[0;32m----> 1\u001b[0;31m \u001b[0;32mfrom\u001b[0m \u001b[0mtrain\u001b[0m \u001b[0;32mimport\u001b[0m \u001b[0mtrain_net\u001b[0m\u001b[0;34m\u001b[0m\u001b[0m\n\u001b[0m\u001b[1;32m      2\u001b[0m \u001b[0;32mfrom\u001b[0m \u001b[0meval\u001b[0m \u001b[0;32mimport\u001b[0m \u001b[0meval_net\u001b[0m\u001b[0;34m\u001b[0m\u001b[0m\n",
      "\u001b[0;32m~/OneDrive/4_Sources/Python3/MRI-Reconstruction-master/submrine/train/train_net.py\u001b[0m in \u001b[0;36m<module>\u001b[0;34m()\u001b[0m\n\u001b[1;32m      4\u001b[0m \u001b[0;32mimport\u001b[0m \u001b[0mnumpy\u001b[0m \u001b[0;32mas\u001b[0m \u001b[0mnp\u001b[0m\u001b[0;34m\u001b[0m\u001b[0m\n\u001b[1;32m      5\u001b[0m \u001b[0;34m\u001b[0m\u001b[0m\n\u001b[0;32m----> 6\u001b[0;31m \u001b[0;32mfrom\u001b[0m \u001b[0;34m.\u001b[0m\u001b[0;34m.\u001b[0m\u001b[0mutils\u001b[0m \u001b[0;32mimport\u001b[0m \u001b[0msubsample\u001b[0m\u001b[0;34m,\u001b[0m \u001b[0mload_image_data\u001b[0m\u001b[0;34m,\u001b[0m \u001b[0mmulti_gpu_model\u001b[0m\u001b[0;34m,\u001b[0m \u001b[0mget_image_file_paths\u001b[0m\u001b[0;34m,\u001b[0m \u001b[0mcreate_output_dir\u001b[0m\u001b[0;34m\u001b[0m\u001b[0m\n\u001b[0m\u001b[1;32m      7\u001b[0m \u001b[0;32mfrom\u001b[0m \u001b[0;34m.\u001b[0m\u001b[0;34m.\u001b[0m\u001b[0mutils\u001b[0m\u001b[0;34m.\u001b[0m\u001b[0mconstants\u001b[0m \u001b[0;32mimport\u001b[0m \u001b[0mSLICE_WIDTH\u001b[0m\u001b[0;34m,\u001b[0m \u001b[0mSLICE_HEIGHT\u001b[0m\u001b[0;34m\u001b[0m\u001b[0m\n\u001b[1;32m      8\u001b[0m \u001b[0;34m\u001b[0m\u001b[0m\n",
      "\u001b[0;31mValueError\u001b[0m: attempted relative import beyond top-level package"
     ]
    }
   ],
   "source": [
    "import submrine"
   ]
  },
  {
   "cell_type": "code",
   "execution_count": 18,
   "metadata": {},
   "outputs": [
    {
     "ename": "ValueError",
     "evalue": "attempted relative import beyond top-level package",
     "output_type": "error",
     "traceback": [
      "\u001b[0;31m---------------------------------------------------------------------------\u001b[0m",
      "\u001b[0;31mValueError\u001b[0m                                Traceback (most recent call last)",
      "\u001b[0;32m<ipython-input-18-5b4deb4bfe93>\u001b[0m in \u001b[0;36m<module>\u001b[0;34m()\u001b[0m\n\u001b[0;32m----> 1\u001b[0;31m \u001b[0;32mfrom\u001b[0m \u001b[0msubmrine\u001b[0m \u001b[0;32mimport\u001b[0m \u001b[0mtrain_net\u001b[0m\u001b[0;34m\u001b[0m\u001b[0m\n\u001b[0m",
      "\u001b[0;32m~/OneDrive/4_Sources/Python3/MRI-Reconstruction-master/submrine/submrine/__init__.py\u001b[0m in \u001b[0;36m<module>\u001b[0;34m()\u001b[0m\n\u001b[0;32m----> 1\u001b[0;31m \u001b[0;32mfrom\u001b[0m \u001b[0mtrain\u001b[0m \u001b[0;32mimport\u001b[0m \u001b[0mtrain_net\u001b[0m\u001b[0;34m\u001b[0m\u001b[0m\n\u001b[0m\u001b[1;32m      2\u001b[0m \u001b[0;32mfrom\u001b[0m \u001b[0meval\u001b[0m \u001b[0;32mimport\u001b[0m \u001b[0meval_net\u001b[0m\u001b[0;34m\u001b[0m\u001b[0m\n",
      "\u001b[0;32m~/OneDrive/4_Sources/Python3/MRI-Reconstruction-master/submrine/train/train_net.py\u001b[0m in \u001b[0;36m<module>\u001b[0;34m()\u001b[0m\n\u001b[1;32m      4\u001b[0m \u001b[0;32mimport\u001b[0m \u001b[0mnumpy\u001b[0m \u001b[0;32mas\u001b[0m \u001b[0mnp\u001b[0m\u001b[0;34m\u001b[0m\u001b[0m\n\u001b[1;32m      5\u001b[0m \u001b[0;34m\u001b[0m\u001b[0m\n\u001b[0;32m----> 6\u001b[0;31m \u001b[0;32mfrom\u001b[0m \u001b[0;34m.\u001b[0m\u001b[0;34m.\u001b[0m\u001b[0mutils\u001b[0m \u001b[0;32mimport\u001b[0m \u001b[0msubsample\u001b[0m\u001b[0;34m,\u001b[0m \u001b[0mload_image_data\u001b[0m\u001b[0;34m,\u001b[0m \u001b[0mmulti_gpu_model\u001b[0m\u001b[0;34m,\u001b[0m \u001b[0mget_image_file_paths\u001b[0m\u001b[0;34m,\u001b[0m \u001b[0mcreate_output_dir\u001b[0m\u001b[0;34m\u001b[0m\u001b[0m\n\u001b[0m\u001b[1;32m      7\u001b[0m \u001b[0;32mfrom\u001b[0m \u001b[0;34m.\u001b[0m\u001b[0;34m.\u001b[0m\u001b[0mutils\u001b[0m\u001b[0;34m.\u001b[0m\u001b[0mconstants\u001b[0m \u001b[0;32mimport\u001b[0m \u001b[0mSLICE_WIDTH\u001b[0m\u001b[0;34m,\u001b[0m \u001b[0mSLICE_HEIGHT\u001b[0m\u001b[0;34m\u001b[0m\u001b[0m\n\u001b[1;32m      8\u001b[0m \u001b[0;34m\u001b[0m\u001b[0m\n",
      "\u001b[0;31mValueError\u001b[0m: attempted relative import beyond top-level package"
     ]
    }
   ],
   "source": [
    "from submrine import train_net"
   ]
  },
  {
   "cell_type": "code",
   "execution_count": 19,
   "metadata": {},
   "outputs": [
    {
     "ename": "NameError",
     "evalue": "name 'submrine' is not defined",
     "output_type": "error",
     "traceback": [
      "\u001b[0;31m---------------------------------------------------------------------------\u001b[0m",
      "\u001b[0;31mNameError\u001b[0m                                 Traceback (most recent call last)",
      "\u001b[0;32m<ipython-input-19-3b0eaea6b576>\u001b[0m in \u001b[0;36m<module>\u001b[0;34m()\u001b[0m\n\u001b[0;32m----> 1\u001b[0;31m \u001b[0msubmrine\u001b[0m\u001b[0;34m\u001b[0m\u001b[0m\n\u001b[0m",
      "\u001b[0;31mNameError\u001b[0m: name 'submrine' is not defined"
     ]
    }
   ],
   "source": [
    "submrine"
   ]
  },
  {
   "cell_type": "code",
   "execution_count": 20,
   "metadata": {},
   "outputs": [
    {
     "name": "stdout",
     "output_type": "stream",
     "text": [
      "Traceback (most recent call last):\r\n",
      "  File \"/home/hero/anaconda3/bin/submrine-test\", line 11, in <module>\r\n",
      "    load_entry_point('submrine==1.0', 'console_scripts', 'submrine-test')()\r\n",
      "  File \"/home/hero/anaconda3/lib/python3.6/site-packages/pkg_resources/__init__.py\", line 572, in load_entry_point\r\n",
      "    return get_distribution(dist).load_entry_point(group, name)\r\n",
      "  File \"/home/hero/anaconda3/lib/python3.6/site-packages/pkg_resources/__init__.py\", line 2755, in load_entry_point\r\n",
      "    return ep.load()\r\n",
      "  File \"/home/hero/anaconda3/lib/python3.6/site-packages/pkg_resources/__init__.py\", line 2408, in load\r\n",
      "    return self.resolve()\r\n",
      "  File \"/home/hero/anaconda3/lib/python3.6/site-packages/pkg_resources/__init__.py\", line 2414, in resolve\r\n",
      "    module = __import__(self.module_name, fromlist=['__name__'], level=0)\r\n",
      "  File \"/home/hero/anaconda3/lib/python3.6/site-packages/submrine-1.0-py3.6.egg/submrine/__init__.py\", line 1, in <module>\r\n",
      "ModuleNotFoundError: No module named 'train'\r\n"
     ]
    }
   ],
   "source": [
    "!submrine-test"
   ]
  },
  {
   "cell_type": "code",
   "execution_count": 21,
   "metadata": {},
   "outputs": [
    {
     "name": "stdout",
     "output_type": "stream",
     "text": [
      "Traceback (most recent call last):\r\n",
      "  File \"/home/hero/anaconda3/bin/submrine-test\", line 11, in <module>\r\n",
      "    load_entry_point('submrine==1.0', 'console_scripts', 'submrine-test')()\r\n",
      "  File \"/home/hero/anaconda3/lib/python3.6/site-packages/pkg_resources/__init__.py\", line 572, in load_entry_point\r\n",
      "    return get_distribution(dist).load_entry_point(group, name)\r\n",
      "  File \"/home/hero/anaconda3/lib/python3.6/site-packages/pkg_resources/__init__.py\", line 2755, in load_entry_point\r\n",
      "    return ep.load()\r\n",
      "  File \"/home/hero/anaconda3/lib/python3.6/site-packages/pkg_resources/__init__.py\", line 2408, in load\r\n",
      "    return self.resolve()\r\n",
      "  File \"/home/hero/anaconda3/lib/python3.6/site-packages/pkg_resources/__init__.py\", line 2414, in resolve\r\n",
      "    module = __import__(self.module_name, fromlist=['__name__'], level=0)\r\n",
      "  File \"/home/hero/anaconda3/lib/python3.6/site-packages/submrine-1.0-py3.6.egg/submrine/__init__.py\", line 1, in <module>\r\n",
      "ModuleNotFoundError: No module named 'train'\r\n"
     ]
    }
   ],
   "source": [
    "\n",
    "\n",
    "!submrine-test -n /home/hero/OneDrive/4_Sources/Python3/MRI-Reconstruction-master/pretrained_nets/oasis"
   ]
  },
  {
   "cell_type": "code",
   "execution_count": 22,
   "metadata": {},
   "outputs": [
    {
     "ename": "ValueError",
     "evalue": "attempted relative import beyond top-level package",
     "output_type": "error",
     "traceback": [
      "\u001b[0;31m---------------------------------------------------------------------------\u001b[0m",
      "\u001b[0;31mValueError\u001b[0m                                Traceback (most recent call last)",
      "\u001b[0;32m<ipython-input-22-54b8c3479b69>\u001b[0m in \u001b[0;36m<module>\u001b[0;34m()\u001b[0m\n\u001b[0;32m----> 1\u001b[0;31m \u001b[0;32mfrom\u001b[0m \u001b[0msubmrine\u001b[0m \u001b[0;32mimport\u001b[0m \u001b[0mtrain\u001b[0m\u001b[0;34m\u001b[0m\u001b[0m\n\u001b[0m",
      "\u001b[0;32m~/OneDrive/4_Sources/Python3/MRI-Reconstruction-master/submrine/submrine/__init__.py\u001b[0m in \u001b[0;36m<module>\u001b[0;34m()\u001b[0m\n\u001b[0;32m----> 1\u001b[0;31m \u001b[0;32mfrom\u001b[0m \u001b[0mtrain\u001b[0m \u001b[0;32mimport\u001b[0m \u001b[0mtrain_net\u001b[0m\u001b[0;34m\u001b[0m\u001b[0m\n\u001b[0m\u001b[1;32m      2\u001b[0m \u001b[0;32mfrom\u001b[0m \u001b[0meval\u001b[0m \u001b[0;32mimport\u001b[0m \u001b[0meval_net\u001b[0m\u001b[0;34m\u001b[0m\u001b[0m\n",
      "\u001b[0;32m~/OneDrive/4_Sources/Python3/MRI-Reconstruction-master/submrine/train/train_net.py\u001b[0m in \u001b[0;36m<module>\u001b[0;34m()\u001b[0m\n\u001b[1;32m      4\u001b[0m \u001b[0;32mimport\u001b[0m \u001b[0mnumpy\u001b[0m \u001b[0;32mas\u001b[0m \u001b[0mnp\u001b[0m\u001b[0;34m\u001b[0m\u001b[0m\n\u001b[1;32m      5\u001b[0m \u001b[0;34m\u001b[0m\u001b[0m\n\u001b[0;32m----> 6\u001b[0;31m \u001b[0;32mfrom\u001b[0m \u001b[0;34m.\u001b[0m\u001b[0;34m.\u001b[0m\u001b[0mutils\u001b[0m \u001b[0;32mimport\u001b[0m \u001b[0msubsample\u001b[0m\u001b[0;34m,\u001b[0m \u001b[0mload_image_data\u001b[0m\u001b[0;34m,\u001b[0m \u001b[0mmulti_gpu_model\u001b[0m\u001b[0;34m,\u001b[0m \u001b[0mget_image_file_paths\u001b[0m\u001b[0;34m,\u001b[0m \u001b[0mcreate_output_dir\u001b[0m\u001b[0;34m\u001b[0m\u001b[0m\n\u001b[0m\u001b[1;32m      7\u001b[0m \u001b[0;32mfrom\u001b[0m \u001b[0;34m.\u001b[0m\u001b[0;34m.\u001b[0m\u001b[0mutils\u001b[0m\u001b[0;34m.\u001b[0m\u001b[0mconstants\u001b[0m \u001b[0;32mimport\u001b[0m \u001b[0mSLICE_WIDTH\u001b[0m\u001b[0;34m,\u001b[0m \u001b[0mSLICE_HEIGHT\u001b[0m\u001b[0;34m\u001b[0m\u001b[0m\n\u001b[1;32m      8\u001b[0m \u001b[0;34m\u001b[0m\u001b[0m\n",
      "\u001b[0;31mValueError\u001b[0m: attempted relative import beyond top-level package"
     ]
    }
   ],
   "source": [
    "from submrine import train"
   ]
  },
  {
   "cell_type": "code",
   "execution_count": 23,
   "metadata": {},
   "outputs": [
    {
     "name": "stdout",
     "output_type": "stream",
     "text": [
      "LICENSE.txt\t VERSION.txt  eval\tsubmrine\t   test_file\r\n",
      "Untitled.ipynb\t build\t      oasis\tsubmrine.egg-info  train\r\n",
      "Untitled1.ipynb  dist\t      setup.py\ttest\t\t   utils\r\n"
     ]
    }
   ],
   "source": [
    "!ls"
   ]
  },
  {
   "cell_type": "code",
   "execution_count": 24,
   "metadata": {},
   "outputs": [
    {
     "name": "stdout",
     "output_type": "stream",
     "text": [
      "LICENSE.txt\t VERSION.txt  dist   setup.py\t\ttest\t   utils\r\n",
      "Untitled.ipynb\t __main__.py  eval   submrine\t\ttest_file\r\n",
      "Untitled1.ipynb  build\t      oasis  submrine.egg-info\ttrain\r\n"
     ]
    }
   ],
   "source": [
    "!ls"
   ]
  },
  {
   "cell_type": "code",
   "execution_count": 26,
   "metadata": {},
   "outputs": [
    {
     "name": "stdout",
     "output_type": "stream",
     "text": [
      "Traceback (most recent call last):\r\n",
      "  File \"__main__.py\", line 1, in <module>\r\n",
      "    from .train_net import main\r\n",
      "ModuleNotFoundError: No module named '__main__.train_net'; '__main__' is not a package\r\n"
     ]
    }
   ],
   "source": [
    "!python __main__.py"
   ]
  },
  {
   "cell_type": "code",
   "execution_count": null,
   "metadata": {},
   "outputs": [],
   "source": []
  }
 ],
 "metadata": {
  "kernelspec": {
   "display_name": "Python 3",
   "language": "python",
   "name": "python3"
  },
  "language_info": {
   "codemirror_mode": {
    "name": "ipython",
    "version": 3
   },
   "file_extension": ".py",
   "mimetype": "text/x-python",
   "name": "python",
   "nbconvert_exporter": "python",
   "pygments_lexer": "ipython3",
   "version": "3.6.4"
  }
 },
 "nbformat": 4,
 "nbformat_minor": 2
}
