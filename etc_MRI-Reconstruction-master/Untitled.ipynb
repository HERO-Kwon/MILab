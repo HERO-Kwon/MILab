{
 "cells": [
  {
   "cell_type": "code",
   "execution_count": 2,
   "metadata": {},
   "outputs": [
    {
     "name": "stdout",
     "output_type": "stream",
     "text": [
      "Obtaining file:///home/hero/OneDrive/4_Sources/Python3/MRI-Reconstruction-master/submrine\n",
      "Requirement already satisfied: numpy>=1.13.1 in /home/hero/anaconda3/lib/python3.6/site-packages (from submrine==1.0) (1.14.0)\n",
      "Requirement already satisfied: nibabel>=2.2.0 in /home/hero/anaconda3/lib/python3.6/site-packages (from submrine==1.0) (2.2.1)\n",
      "Requirement already satisfied: matplotlib>=2.0.2 in /home/hero/anaconda3/lib/python3.6/site-packages (from submrine==1.0) (2.1.2)\n",
      "Requirement already satisfied: keras>=2.0.6 in /home/hero/anaconda3/lib/python3.6/site-packages (from submrine==1.0) (2.1.5)\n",
      "Requirement already satisfied: scikit-image>=0.13.1 in /home/hero/anaconda3/lib/python3.6/site-packages (from submrine==1.0) (0.13.1)\n",
      "Requirement already satisfied: six>=1.10 in /home/hero/anaconda3/lib/python3.6/site-packages (from matplotlib>=2.0.2->submrine==1.0) (1.11.0)\n",
      "Requirement already satisfied: python-dateutil>=2.1 in /home/hero/anaconda3/lib/python3.6/site-packages (from matplotlib>=2.0.2->submrine==1.0) (2.6.1)\n",
      "Requirement already satisfied: pytz in /home/hero/anaconda3/lib/python3.6/site-packages (from matplotlib>=2.0.2->submrine==1.0) (2017.3)\n",
      "Requirement already satisfied: cycler>=0.10 in /home/hero/anaconda3/lib/python3.6/site-packages (from matplotlib>=2.0.2->submrine==1.0) (0.10.0)\n",
      "Requirement already satisfied: pyparsing!=2.0.4,!=2.1.2,!=2.1.6,>=2.0.1 in /home/hero/anaconda3/lib/python3.6/site-packages (from matplotlib>=2.0.2->submrine==1.0) (2.2.0)\n",
      "Requirement already satisfied: pyyaml in /home/hero/anaconda3/lib/python3.6/site-packages (from keras>=2.0.6->submrine==1.0) (3.12)\n",
      "Requirement already satisfied: scipy>=0.14 in /home/hero/anaconda3/lib/python3.6/site-packages (from keras>=2.0.6->submrine==1.0) (1.0.0)\n",
      "Requirement already satisfied: networkx>=1.8 in /home/hero/anaconda3/lib/python3.6/site-packages (from scikit-image>=0.13.1->submrine==1.0) (2.1)\n",
      "Requirement already satisfied: pillow>=2.1.0 in /home/hero/anaconda3/lib/python3.6/site-packages (from scikit-image>=0.13.1->submrine==1.0) (5.0.0)\n",
      "Requirement already satisfied: PyWavelets>=0.4.0 in /home/hero/anaconda3/lib/python3.6/site-packages (from scikit-image>=0.13.1->submrine==1.0) (0.5.2)\n",
      "Requirement already satisfied: decorator>=4.1.0 in /home/hero/anaconda3/lib/python3.6/site-packages (from networkx>=1.8->scikit-image>=0.13.1->submrine==1.0) (4.2.1)\n",
      "Installing collected packages: submrine\n",
      "  Running setup.py develop for submrine\n",
      "Successfully installed submrine\n"
     ]
    }
   ],
   "source": [
    "!pip install -e submrine"
   ]
  },
  {
   "cell_type": "code",
   "execution_count": 4,
   "metadata": {},
   "outputs": [
    {
     "ename": "SyntaxError",
     "evalue": "invalid token (<ipython-input-4-356af923606b>, line 1)",
     "output_type": "error",
     "traceback": [
      "\u001b[0;36m  File \u001b[0;32m\"<ipython-input-4-356af923606b>\"\u001b[0;36m, line \u001b[0;32m1\u001b[0m\n\u001b[0;31m    submrine-test -n /home/hero/OneDrive/4_Sources/Python3/MRI-Reconstruction-master/pretrained_nets/oasis/ -i /home/hero/Matlab_Drive/Data/MedAI/MAI_Project1/Train_image_input/ -r /home/hero/OneDrive/4_Sources/Python3/ -s 4 -f .04\u001b[0m\n\u001b[0m                                          ^\u001b[0m\n\u001b[0;31mSyntaxError\u001b[0m\u001b[0;31m:\u001b[0m invalid token\n"
     ]
    }
   ],
   "source": [
    "submrine-test -n /home/hero/OneDrive/4_Sources/Python3/MRI-Reconstruction-master/pretrained_nets/oasis/ -i /home/hero/Matlab_Drive/Data/MedAI/MAI_Project1/Train_image_input/ -r /home/hero/OneDrive/4_Sources/Python3/ -s 4 -f .04"
   ]
  },
  {
   "cell_type": "code",
   "execution_count": 15,
   "metadata": {},
   "outputs": [
    {
     "name": "stdout",
     "output_type": "stream",
     "text": [
      "Traceback (most recent call last):\n",
      "  File \"/home/hero/anaconda3/bin/submrine-test\", line 11, in <module>\n",
      "    load_entry_point('submrine', 'console_scripts', 'submrine-test')()\n",
      "  File \"/home/hero/anaconda3/lib/python3.6/site-packages/pkg_resources/__init__.py\", line 572, in load_entry_point\n",
      "    return get_distribution(dist).load_entry_point(group, name)\n",
      "  File \"/home/hero/anaconda3/lib/python3.6/site-packages/pkg_resources/__init__.py\", line 2755, in load_entry_point\n",
      "    return ep.load()\n",
      "  File \"/home/hero/anaconda3/lib/python3.6/site-packages/pkg_resources/__init__.py\", line 2408, in load\n",
      "    return self.resolve()\n",
      "  File \"/home/hero/anaconda3/lib/python3.6/site-packages/pkg_resources/__init__.py\", line 2414, in resolve\n",
      "    module = __import__(self.module_name, fromlist=['__name__'], level=0)\n",
      "  File \"/home/hero/OneDrive/4_Sources/Python3/MRI-Reconstruction-master/submrine/submrine/__init__.py\", line 1, in <module>\n",
      "    from train import train_net\n",
      "ModuleNotFoundError: No module named 'train'\n"
     ]
    }
   ],
   "source": [
    "!submrine-test -n /home/hero/OneDrive/4_Sources/Python3/MRI-Reconstruction-master/pretrained_nets/oasis -i /home/hero/OneDrive/4_Sources/Python3/MRI-Reconstruction-master -r /home/hero/OneDrive/4_Sources/Python3 -s 4 -f .04"
   ]
  },
  {
   "cell_type": "code",
   "execution_count": 16,
   "metadata": {},
   "outputs": [
    {
     "ename": "ModuleNotFoundError",
     "evalue": "No module named 'train'",
     "output_type": "error",
     "traceback": [
      "\u001b[0;31m---------------------------------------------------------------------------\u001b[0m",
      "\u001b[0;31mModuleNotFoundError\u001b[0m                       Traceback (most recent call last)",
      "\u001b[0;32m<ipython-input-16-c883055b5a2e>\u001b[0m in \u001b[0;36m<module>\u001b[0;34m()\u001b[0m\n\u001b[0;32m----> 1\u001b[0;31m \u001b[0;32mfrom\u001b[0m \u001b[0mtrain\u001b[0m \u001b[0;32mimport\u001b[0m \u001b[0mtrain_net\u001b[0m\u001b[0;34m\u001b[0m\u001b[0m\n\u001b[0m\u001b[1;32m      2\u001b[0m \u001b[0;32mfrom\u001b[0m \u001b[0meval\u001b[0m \u001b[0;32mimport\u001b[0m \u001b[0meval_net\u001b[0m\u001b[0;34m\u001b[0m\u001b[0m\n",
      "\u001b[0;31mModuleNotFoundError\u001b[0m: No module named 'train'"
     ]
    }
   ],
   "source": [
    "from train import train_net\n",
    "from eval import eval_net"
   ]
  },
  {
   "cell_type": "code",
   "execution_count": 17,
   "metadata": {},
   "outputs": [
    {
     "name": "stdout",
     "output_type": "stream",
     "text": [
      "README.md  Untitled.ipynb  images  pretrained_nets  submrine\r\n"
     ]
    }
   ],
   "source": [
    "!ls"
   ]
  },
  {
   "cell_type": "code",
   "execution_count": null,
   "metadata": {},
   "outputs": [],
   "source": []
  }
 ],
 "metadata": {
  "kernelspec": {
   "display_name": "Python 3",
   "language": "python",
   "name": "python3"
  },
  "language_info": {
   "codemirror_mode": {
    "name": "ipython",
    "version": 3
   },
   "file_extension": ".py",
   "mimetype": "text/x-python",
   "name": "python",
   "nbconvert_exporter": "python",
   "pygments_lexer": "ipython3",
   "version": "3.6.4"
  }
 },
 "nbformat": 4,
 "nbformat_minor": 2
}
