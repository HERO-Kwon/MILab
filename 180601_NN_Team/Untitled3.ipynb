{
 "cells": [
  {
   "cell_type": "code",
   "execution_count": 1,
   "metadata": {},
   "outputs": [
    {
     "name": "stderr",
     "output_type": "stream",
     "text": [
      "C:\\Users\\herok\\Anaconda3\\lib\\site-packages\\h5py\\__init__.py:36: FutureWarning: Conversion of the second argument of issubdtype from `float` to `np.floating` is deprecated. In future, it will be treated as `np.float64 == np.dtype(float).type`.\n",
      "  from ._conv import register_converters as _register_converters\n"
     ]
    }
   ],
   "source": [
    "import numpy as np\n",
    "import tensorflow as tf\n",
    "import os\n",
    "from sklearn.model_selection import train_test_split\n",
    "\n",
    "try:\n",
    "# For Windows\n",
    "    file_path = 'D:\\\\Matlab_Drive\\\\Data\\\\WIFI\\\\180_100_DCout'\n",
    "    file_list = os.listdir(file_path)\n",
    "except:\n",
    "# For Linux\n",
    "    file_path = '/home/herokwon/data/WIFI/180_100_DCout'\n",
    "    file_list = os.listdir(file_path)\n",
    "\n",
    "file_list_data = [os.path.join(file_path,s) for s in file_list if not \"_idx.npy\" in s]\n",
    "file_list_idx = [os.path.join(file_path,s) for s in file_list if \"_idx.npy\" in s]\n",
    "\n",
    "x_train,x_test,y_train,y_test = train_test_split(file_list_data,file_list_idx,test_size=0.2,random_state=33)\n",
    "data_train = (x_train,y_train)\n",
    "data_test = (x_test,y_test)"
   ]
  },
  {
   "cell_type": "code",
   "execution_count": 2,
   "metadata": {},
   "outputs": [],
   "source": [
    "import numpy as np\n",
    "import tensorflow as tf\n",
    "import os\n",
    "from sklearn.model_selection import train_test_split\n",
    "\n",
    "try:\n",
    "# For Windows\n",
    "    file_path = 'D:\\\\Matlab_Drive\\\\Data\\\\WIFI\\\\180_100_DCout'\n",
    "    file_list = os.listdir(file_path)\n",
    "except:\n",
    "# For Linux\n",
    "    file_path = '/home/herokwon/data/WIFI/180_100_DCout'\n",
    "    file_list = os.listdir(file_path)\n",
    "\n",
    "file_list_data = [os.path.join(file_path,s) for s in file_list if not \"_idx.npy\" in s]\n",
    "file_list_idx = [os.path.join(file_path,s) for s in file_list if \"_idx.npy\" in s]\n"
   ]
  },
  {
   "cell_type": "code",
   "execution_count": 3,
   "metadata": {},
   "outputs": [
    {
     "data": {
      "text/plain": [
       "['D:\\\\Matlab_Drive\\\\Data\\\\WIFI\\\\180_100_DCout\\\\Dataset_1.npy',\n",
       " 'D:\\\\Matlab_Drive\\\\Data\\\\WIFI\\\\180_100_DCout\\\\Dataset_2.npy',\n",
       " 'D:\\\\Matlab_Drive\\\\Data\\\\WIFI\\\\180_100_DCout\\\\Dataset_3.npy',\n",
       " 'D:\\\\Matlab_Drive\\\\Data\\\\WIFI\\\\180_100_DCout\\\\Dataset_4.npy',\n",
       " 'D:\\\\Matlab_Drive\\\\Data\\\\WIFI\\\\180_100_DCout\\\\Dataset_5.npy',\n",
       " 'D:\\\\Matlab_Drive\\\\Data\\\\WIFI\\\\180_100_DCout\\\\Dataset_6.npy',\n",
       " 'D:\\\\Matlab_Drive\\\\Data\\\\WIFI\\\\180_100_DCout\\\\Dataset_7.npy',\n",
       " 'D:\\\\Matlab_Drive\\\\Data\\\\WIFI\\\\180_100_DCout\\\\Dataset_8.npy']"
      ]
     },
     "execution_count": 3,
     "metadata": {},
     "output_type": "execute_result"
    }
   ],
   "source": [
    "file_list_data"
   ]
  },
  {
   "cell_type": "code",
   "execution_count": null,
   "metadata": {},
   "outputs": [],
   "source": []
  }
 ],
 "metadata": {
  "kernelspec": {
   "display_name": "Python 3",
   "language": "python",
   "name": "python3"
  },
  "language_info": {
   "codemirror_mode": {
    "name": "ipython",
    "version": 3
   },
   "file_extension": ".py",
   "mimetype": "text/x-python",
   "name": "python",
   "nbconvert_exporter": "python",
   "pygments_lexer": "ipython3",
   "version": "3.6.4"
  }
 },
 "nbformat": 4,
 "nbformat_minor": 2
}
