{
 "cells": [
  {
   "cell_type": "code",
   "execution_count": 2,
   "metadata": {},
   "outputs": [],
   "source": [
    "import numpy as np\n",
    "import tensorflow as tf\n",
    "import os\n",
    "from sklearn.model_selection import train_test_split\n",
    "\n",
    "os.environ[\"CUDA_VISIBLE_DEVICES\"]=\"-1\"    \n",
    "try:\n",
    "# For Windows\n",
    "    file_path = 'D:\\\\Matlab_Drive\\\\Data\\\\WIFI\\\\180_100_DCout'\n",
    "    file_list = os.listdir(file_path)\n",
    "except:\n",
    "# For Linux\n",
    "    file_path = '/home/herokwon/data/WIFI/180_100_DCout'\n",
    "    file_list = os.listdir(file_path)\n",
    "\n",
    "file_list_data = [os.path.join(file_path,s) for s in file_list if not \"_idx.npy\" in s]\n",
    "file_list_idx = [os.path.join(file_path,s) for s in file_list if \"_idx.npy\" in s]\n",
    "\n",
    "#x_train,x_test,y_train,y_test = train_test_split(file_list_data,file_list_idx,test_size=0.2,random_state=33)\n",
    "#data_train = (x_train,y_train)\n",
    "#data_test = (x_test,y_test)\n",
    "\n",
    "def gen_readnpy(files_data,train_size,test_size):\n",
    "    for i in range(len(files_data[0])):\n",
    "        data_read = np.load(files_data[0][i]).astype('float32')\n",
    "        label_read = np.load(files_data[1][i]).astype('int32')\n",
    "\n",
    "        x_train,x_test,y_train,y_test = train_test_split(data_read,label_read,test_size=0.2,random_state=33)\n",
    "        minibatch_num = int(1000 / (train_size + test_size))\n",
    "        \n",
    "        for j in range(minibatch_num):\n",
    "            train_x_give = x_train[train_size*j:train_size*(j+1)]\n",
    "            train_y_give = y_train[train_size*j:train_size*(j+1)]\n",
    "            test_x_give = x_test[test_size*j:test_size*(j+1)]\n",
    "            test_y_give = y_test[test_size*j:test_size*(j+1)]\n",
    "            yield train_x_give,train_y_give,test_x_give,test_y_give\n",
    "            #yield train_x_give,train_y_give,train_x_give[0:20],train_y_give[0:20]\n",
    "\n",
    "#iter = gen_readnpy((file_list_data,file_list_idx))\n",
    "#iter_test = gen_readnpy(data_test)\n",
    "\n",
    "tf.reset_default_graph()\n",
    "## Network\n",
    "learning_rate = 0.1\n",
    "train_batch_size = 80\n",
    "test_batch_size = 20\n",
    "\n",
    "n_input = 6*30\n",
    "n_step  = 500\n",
    "n_class = 110\n",
    "total_batch = int(8000 / (train_batch_size+test_batch_size))\n",
    "n_hidden = 128\n",
    "\n",
    "iter = gen_readnpy((file_list_data,file_list_idx),train_batch_size,test_batch_size)\n",
    "\n",
    "X = tf.placeholder(tf.float32,[None,n_step,n_input])\n",
    "Y = tf.placeholder(tf.int32,[None,n_class])\n",
    "\n",
    "W = tf.Variable(tf.random_normal([n_hidden,n_class]))\n",
    "b = tf.Variable(tf.random_normal([n_class]))\n",
    "\n",
    "cell = tf.nn.rnn_cell.BasicLSTMCell(n_hidden)\n",
    "\n",
    "outputs, states = tf.nn.dynamic_rnn(cell,X,dtype=tf.float32)\n",
    "\n",
    "outputs = tf.transpose(outputs,[1,0,2])\n",
    "outputs = outputs[-1]\n",
    "\n",
    "model = tf.matmul(outputs,W) + b\n",
    "\n",
    "cost = tf.reduce_mean(tf.nn.softmax_cross_entropy_with_logits_v2(\n",
    "    logits=model,labels=Y))\n",
    "\n",
    "optimizer = tf.train.AdamOptimizer(learning_rate).minimize(cost)\n",
    "# Accuracy\n",
    "is_correct = tf.equal(tf.argmax(model,1),tf.argmax(Y,1))\n",
    "accuracy = tf.reduce_mean(tf.cast(is_correct,tf.float32))\n"
   ]
  },
  {
   "cell_type": "code",
   "execution_count": 3,
   "metadata": {},
   "outputs": [],
   "source": [
    "sess = tf.Session()"
   ]
  },
  {
   "cell_type": "code",
   "execution_count": 4,
   "metadata": {},
   "outputs": [],
   "source": [
    "sess.run(tf.global_variables_initializer())"
   ]
  },
  {
   "cell_type": "code",
   "execution_count": 5,
   "metadata": {},
   "outputs": [],
   "source": [
    "batch_xs,batch_ys,batch_xst,batch_yst = next(iter)"
   ]
  },
  {
   "cell_type": "code",
   "execution_count": 6,
   "metadata": {},
   "outputs": [
    {
     "data": {
      "text/plain": [
       "(80, 6, 30, 500)"
      ]
     },
     "execution_count": 6,
     "metadata": {},
     "output_type": "execute_result"
    }
   ],
   "source": [
    "batch_xs.shape"
   ]
  },
  {
   "cell_type": "code",
   "execution_count": 7,
   "metadata": {},
   "outputs": [
    {
     "data": {
      "text/plain": [
       "(80, 1)"
      ]
     },
     "execution_count": 7,
     "metadata": {},
     "output_type": "execute_result"
    }
   ],
   "source": [
    "batch_ys.shape"
   ]
  },
  {
   "cell_type": "code",
   "execution_count": 8,
   "metadata": {},
   "outputs": [],
   "source": [
    "            batch_xs = batch_xs.reshape((train_batch_size,n_input,n_step))\n",
    "            batch_xs = np.transpose(batch_xs,[0,2,1])\n",
    "            batch_ys = np.eye(n_class)[batch_ys].squeeze(1)"
   ]
  },
  {
   "cell_type": "code",
   "execution_count": null,
   "metadata": {},
   "outputs": [],
   "source": []
  },
  {
   "cell_type": "code",
   "execution_count": 9,
   "metadata": {},
   "outputs": [
    {
     "data": {
      "text/plain": [
       "(80, 500, 180)"
      ]
     },
     "execution_count": 9,
     "metadata": {},
     "output_type": "execute_result"
    }
   ],
   "source": [
    "batch_xs.shape"
   ]
  },
  {
   "cell_type": "code",
   "execution_count": 10,
   "metadata": {},
   "outputs": [
    {
     "data": {
      "text/plain": [
       "[None, 7.2316437]"
      ]
     },
     "execution_count": 10,
     "metadata": {},
     "output_type": "execute_result"
    }
   ],
   "source": [
    "sess.run([optimizer,cost],\n",
    "            feed_dict = {X:batch_xs,Y:batch_ys})"
   ]
  },
  {
   "cell_type": "code",
   "execution_count": 50,
   "metadata": {},
   "outputs": [
    {
     "data": {
      "text/plain": [
       "array([ 52,  93,  11,  96,  52,  89,  96,  49,  11,  32,  11,  11,  75,\n",
       "        25,  75,   6,  68, 101,  15,  11,  52,  11,  54,  68,  99,  11,\n",
       "        97,  32,  27,  75,  11,  11,  11,  40,  40,  77,  10,  76,  52,\n",
       "        11, 101,  52,  40,  11,  11,  89,  60,  48,  11,  11,  97,  52,\n",
       "        89,  47,  11,  48,  11,  95, 108,  89,  12,  24,  52,  11,  49,\n",
       "        40,  52,  11,  75,  11,  48,  40,  52,  15,  80,  86,  99,  52,\n",
       "        11,  11], dtype=int64)"
      ]
     },
     "execution_count": 50,
     "metadata": {},
     "output_type": "execute_result"
    }
   ],
   "source": [
    "sess.run(tf.argmax(model,1),feed_dict = {X:batch_xs,Y:batch_ys})"
   ]
  },
  {
   "cell_type": "code",
   "execution_count": 51,
   "metadata": {},
   "outputs": [
    {
     "data": {
      "text/plain": [
       "array([40, 64, 38, 17,  9,  6, 15, 13, 26, 57, 36, 78, 64, 23, 18, 18, 39,\n",
       "        6, 38, 53,  9, 57, 53, 58, 61, 13,  2, 17, 35,  6, 17,  8, 27, 41,\n",
       "       61,  7, 56,  1, 36,  7, 38, 64, 36,  3,  7, 13, 53, 53,  2, 64,  0,\n",
       "       64, 41,  2, 27, 17, 70, 18, 18, 67, 46, 27, 27,  6,  9, 18, 35, 18,\n",
       "       27, 18, 26, 76, 63, 18, 57, 18, 41, 35, 27,  7, 27,  6, 53, 64,  9,\n",
       "       39, 75, 18,  3,  5, 35, 13, 37,  1, 33, 57,  6, 26, 18, 14, 35, 17,\n",
       "       28, 27, 73, 75, 35, 27, 58, 27], dtype=int64)"
      ]
     },
     "execution_count": 51,
     "metadata": {},
     "output_type": "execute_result"
    }
   ],
   "source": [
    "sess.run(tf.argmax(model,0),feed_dict = {X:batch_xs,Y:batch_ys})"
   ]
  },
  {
   "cell_type": "code",
   "execution_count": 52,
   "metadata": {},
   "outputs": [
    {
     "data": {
      "text/plain": [
       "array([ 23,   3,  43,  29,  47,  50,  98,   9,  19,  32,  73,  92,  75,\n",
       "        45,  12,   6,  54,   3,  15,  87,  89, 100,  54,  24,  16,  65,\n",
       "        97,  32,   6,  75,  66,  54,  74,  94,  76,   9,  10,  33,   2,\n",
       "        19,  18,  52,  30,  25,  88,  80,  18,  81,  37,  85,   6,  50,\n",
       "        50,   9,  60,  48,  97,   8,  23,  20,  12,  29,  68,  19,   1,\n",
       "        49,  71,  50,  58,  76,   7,  63,  72,  15,  40,  19,  37,  89,\n",
       "        11,  33], dtype=int64)"
      ]
     },
     "execution_count": 52,
     "metadata": {},
     "output_type": "execute_result"
    }
   ],
   "source": [
    "sess.run(tf.argmax(Y,1),feed_dict = {X:batch_xs,Y:batch_ys})"
   ]
  },
  {
   "cell_type": "code",
   "execution_count": 53,
   "metadata": {},
   "outputs": [
    {
     "data": {
      "text/plain": [
       "array([ 0, 64, 38,  1,  0,  0, 15, 70, 57,  7, 36, 78, 14,  0,  0, 18, 24,\n",
       "        0, 40,  8, 59,  0,  0,  0, 23, 43,  0,  0,  0,  3, 42,  0,  9, 37,\n",
       "        0,  0,  0, 48,  0,  0, 74,  0,  0,  2,  0, 13,  0,  4, 55, 65,  5,\n",
       "        0, 41,  0, 16,  0,  0,  0, 68,  0, 54,  0,  0, 71,  0, 25, 30,  0,\n",
       "       62,  0,  0, 66, 72, 10, 32, 12, 34,  0,  0,  0, 45, 47,  0,  0,  0,\n",
       "       49,  0, 19, 44, 20,  0,  0, 11,  0, 33,  0,  0, 26,  6,  0, 21,  0,\n",
       "        0,  0,  0,  0,  0,  0,  0,  0], dtype=int64)"
      ]
     },
     "execution_count": 53,
     "metadata": {},
     "output_type": "execute_result"
    }
   ],
   "source": [
    "sess.run(tf.argmax(Y,0),feed_dict = {X:batch_xs,Y:batch_ys})"
   ]
  },
  {
   "cell_type": "code",
   "execution_count": 56,
   "metadata": {},
   "outputs": [
    {
     "data": {
      "text/plain": [
       "array([0., 0., 0., 1., 0., 0., 0., 0., 0., 0., 0., 0., 0., 0., 0., 0., 0.,\n",
       "       0., 0., 0., 0., 0., 0., 0., 0., 0., 0., 0., 0., 0., 0., 0., 0., 0.,\n",
       "       0., 0., 0., 0., 0., 0., 0., 0., 0., 0., 0., 0., 0., 0., 0., 0., 0.,\n",
       "       0., 0., 0., 0., 0., 0., 0., 0., 0., 0., 0., 0., 0., 0., 0., 0., 0.,\n",
       "       0., 0., 0., 0., 0., 0., 0., 0., 0., 0., 0., 0., 0., 0., 0., 0., 0.,\n",
       "       0., 0., 0., 0., 0., 0., 0., 0., 0., 0., 0., 0., 0., 0., 0., 0., 0.,\n",
       "       0., 0., 0., 0., 0., 0., 0., 0.])"
      ]
     },
     "execution_count": 56,
     "metadata": {},
     "output_type": "execute_result"
    }
   ],
   "source": [
    "batch_ys[1]"
   ]
  },
  {
   "cell_type": "code",
   "execution_count": 58,
   "metadata": {},
   "outputs": [],
   "source": [
    "a = sess.run(model,feed_dict = {X:batch_xs,Y:batch_ys})"
   ]
  },
  {
   "cell_type": "code",
   "execution_count": 59,
   "metadata": {},
   "outputs": [
    {
     "data": {
      "text/plain": [
       "(80, 110)"
      ]
     },
     "execution_count": 59,
     "metadata": {},
     "output_type": "execute_result"
    }
   ],
   "source": [
    "a.shape"
   ]
  },
  {
   "cell_type": "code",
   "execution_count": 60,
   "metadata": {},
   "outputs": [
    {
     "data": {
      "text/plain": [
       "array([-4.8415294 , -0.78726184,  1.1875112 ,  1.7281266 , -3.6410387 ,\n",
       "       -0.08857   , -5.9726105 , -0.1352359 ,  3.675872  ,  2.9023352 ,\n",
       "       -3.4347086 ,  9.1046505 ,  0.11783755,  0.12506664, -0.72511625,\n",
       "        0.02103913,  3.8430076 ,  3.5527067 ,  1.4929217 , -1.1902844 ,\n",
       "        2.279029  , -5.483029  , -6.218196  ,  0.09862357,  6.494483  ,\n",
       "       -1.14462   ,  2.6145265 , -4.217497  , -1.5848749 , -2.4082303 ,\n",
       "        0.7926787 ,  4.7689605 , -7.883393  , -1.1275276 , -2.8279278 ,\n",
       "        0.88098073, -0.3380128 , -0.76947683, -3.8957562 , -7.6777716 ,\n",
       "        5.7663155 , -0.09414703,  5.027512  ,  1.104957  , -3.3626142 ,\n",
       "        0.84067476, -0.57693034, -2.016649  ,  6.2038856 ,  0.6910533 ,\n",
       "        8.932434  , -6.351075  ,  9.80212   ,  2.3050375 , -3.0300894 ,\n",
       "       -1.9651577 ,  0.513273  ,  1.7570096 , -3.6051536 , -0.38810933,\n",
       "        5.159661  , -3.654144  , -7.3313417 , -2.0973108 , -1.7042792 ,\n",
       "       -2.2532399 , -4.404416  , -0.15728092,  8.746478  , -1.2183448 ,\n",
       "       -1.8246524 ,  0.23787808,  0.9973309 ,  1.3851357 ,  2.6462474 ,\n",
       "        4.349777  ,  4.476911  , -0.5555054 ,  0.08707003, -1.9648688 ,\n",
       "        2.8100142 , -5.3125257 , -4.5557084 , -2.3800385 ,  0.80730116,\n",
       "        2.412197  , -0.20145765, -1.1769062 , -2.9567266 ,  4.8551707 ,\n",
       "       -4.9766264 , -8.17542   , -3.6301985 , -2.3493156 ,  1.2710929 ,\n",
       "       -0.23748179,  2.2363956 ,  4.9496994 , -6.9382186 ,  1.3653915 ,\n",
       "       -3.0466847 , -0.8760052 , -1.9288139 , -7.698854  , -9.014314  ,\n",
       "       -0.4324019 , -6.8956604 , -3.670497  ,  3.6441388 ,  1.63272   ],\n",
       "      dtype=float32)"
      ]
     },
     "execution_count": 60,
     "metadata": {},
     "output_type": "execute_result"
    }
   ],
   "source": [
    "a[0]"
   ]
  },
  {
   "cell_type": "code",
   "execution_count": 63,
   "metadata": {},
   "outputs": [
    {
     "data": {
      "text/plain": [
       "9.80212"
      ]
     },
     "execution_count": 63,
     "metadata": {},
     "output_type": "execute_result"
    }
   ],
   "source": [
    "np.max(a[0])"
   ]
  },
  {
   "cell_type": "code",
   "execution_count": 64,
   "metadata": {},
   "outputs": [
    {
     "name": "stdout",
     "output_type": "stream",
     "text": [
      "Epoch: 0001 Avg.cost =  7.575 cost_t =  16.919094 Acc =  0.0\n",
      "Epoch: 0002 Avg.cost =  15.529 cost_t =  13.715799 Acc =  0.0\n",
      "Epoch: 0003 Avg.cost =  14.009 cost_t =  9.127572 Acc =  0.0\n",
      "Epoch: 0004 Avg.cost =  15.722 cost_t =  12.983557 Acc =  0.0\n",
      "Epoch: 0005 Avg.cost =  11.444 cost_t =  9.159189 Acc =  0.0\n",
      "Epoch: 0006 Avg.cost =  10.864 cost_t =  10.914895 Acc =  0.0\n",
      "Epoch: 0007 Avg.cost =  10.929 cost_t =  10.963301 Acc =  0.0\n",
      "Epoch: 0008 Avg.cost =  8.543 cost_t =  10.161664 Acc =  0.0\n",
      "Epoch: 0009 Avg.cost =  10.486 cost_t =  10.561976 Acc =  0.0\n",
      "Epoch: 0010 Avg.cost =  10.531 cost_t =  10.045057 Acc =  0.0\n",
      "Epoch: 0011 Avg.cost =  9.632 cost_t =  10.280188 Acc =  0.0\n",
      "Epoch: 0012 Avg.cost =  8.989 cost_t =  8.461498 Acc =  0.0\n"
     ]
    },
    {
     "ename": "KeyboardInterrupt",
     "evalue": "",
     "output_type": "error",
     "traceback": [
      "\u001b[1;31m---------------------------------------------------------------------------\u001b[0m",
      "\u001b[1;31mKeyboardInterrupt\u001b[0m                         Traceback (most recent call last)",
      "\u001b[1;32m<ipython-input-64-4471dd553114>\u001b[0m in \u001b[0;36m<module>\u001b[1;34m()\u001b[0m\n\u001b[0;32m     98\u001b[0m             \u001b[0mbatch_yst\u001b[0m \u001b[1;33m=\u001b[0m \u001b[0mnp\u001b[0m\u001b[1;33m.\u001b[0m\u001b[0meye\u001b[0m\u001b[1;33m(\u001b[0m\u001b[0mn_class\u001b[0m\u001b[1;33m)\u001b[0m\u001b[1;33m[\u001b[0m\u001b[0mbatch_yst\u001b[0m\u001b[1;33m]\u001b[0m\u001b[1;33m.\u001b[0m\u001b[0msqueeze\u001b[0m\u001b[1;33m(\u001b[0m\u001b[1;36m1\u001b[0m\u001b[1;33m)\u001b[0m\u001b[1;33m\u001b[0m\u001b[0m\n\u001b[0;32m     99\u001b[0m \u001b[1;33m\u001b[0m\u001b[0m\n\u001b[1;32m--> 100\u001b[1;33m             \u001b[0macc_t\u001b[0m\u001b[1;33m,\u001b[0m\u001b[0mcost_val_t\u001b[0m \u001b[1;33m=\u001b[0m \u001b[0msess\u001b[0m\u001b[1;33m.\u001b[0m\u001b[0mrun\u001b[0m\u001b[1;33m(\u001b[0m\u001b[1;33m[\u001b[0m\u001b[0maccuracy\u001b[0m\u001b[1;33m,\u001b[0m\u001b[0mcost\u001b[0m\u001b[1;33m]\u001b[0m\u001b[1;33m,\u001b[0m\u001b[0mfeed_dict\u001b[0m \u001b[1;33m=\u001b[0m \u001b[1;33m{\u001b[0m\u001b[0mX\u001b[0m\u001b[1;33m:\u001b[0m\u001b[0mbatch_xst\u001b[0m\u001b[1;33m,\u001b[0m\u001b[0mY\u001b[0m\u001b[1;33m:\u001b[0m\u001b[0mbatch_yst\u001b[0m\u001b[1;33m}\u001b[0m\u001b[1;33m)\u001b[0m\u001b[1;33m\u001b[0m\u001b[0m\n\u001b[0m\u001b[0;32m    101\u001b[0m \u001b[1;33m\u001b[0m\u001b[0m\n\u001b[0;32m    102\u001b[0m             \u001b[1;31m# Accuracy\u001b[0m\u001b[1;33m\u001b[0m\u001b[1;33m\u001b[0m\u001b[0m\n",
      "\u001b[1;32m~\\Anaconda3\\lib\\site-packages\\tensorflow\\python\\client\\session.py\u001b[0m in \u001b[0;36mrun\u001b[1;34m(self, fetches, feed_dict, options, run_metadata)\u001b[0m\n\u001b[0;32m    898\u001b[0m     \u001b[1;32mtry\u001b[0m\u001b[1;33m:\u001b[0m\u001b[1;33m\u001b[0m\u001b[0m\n\u001b[0;32m    899\u001b[0m       result = self._run(None, fetches, feed_dict, options_ptr,\n\u001b[1;32m--> 900\u001b[1;33m                          run_metadata_ptr)\n\u001b[0m\u001b[0;32m    901\u001b[0m       \u001b[1;32mif\u001b[0m \u001b[0mrun_metadata\u001b[0m\u001b[1;33m:\u001b[0m\u001b[1;33m\u001b[0m\u001b[0m\n\u001b[0;32m    902\u001b[0m         \u001b[0mproto_data\u001b[0m \u001b[1;33m=\u001b[0m \u001b[0mtf_session\u001b[0m\u001b[1;33m.\u001b[0m\u001b[0mTF_GetBuffer\u001b[0m\u001b[1;33m(\u001b[0m\u001b[0mrun_metadata_ptr\u001b[0m\u001b[1;33m)\u001b[0m\u001b[1;33m\u001b[0m\u001b[0m\n",
      "\u001b[1;32m~\\Anaconda3\\lib\\site-packages\\tensorflow\\python\\client\\session.py\u001b[0m in \u001b[0;36m_run\u001b[1;34m(self, handle, fetches, feed_dict, options, run_metadata)\u001b[0m\n\u001b[0;32m   1133\u001b[0m     \u001b[1;32mif\u001b[0m \u001b[0mfinal_fetches\u001b[0m \u001b[1;32mor\u001b[0m \u001b[0mfinal_targets\u001b[0m \u001b[1;32mor\u001b[0m \u001b[1;33m(\u001b[0m\u001b[0mhandle\u001b[0m \u001b[1;32mand\u001b[0m \u001b[0mfeed_dict_tensor\u001b[0m\u001b[1;33m)\u001b[0m\u001b[1;33m:\u001b[0m\u001b[1;33m\u001b[0m\u001b[0m\n\u001b[0;32m   1134\u001b[0m       results = self._do_run(handle, final_targets, final_fetches,\n\u001b[1;32m-> 1135\u001b[1;33m                              feed_dict_tensor, options, run_metadata)\n\u001b[0m\u001b[0;32m   1136\u001b[0m     \u001b[1;32melse\u001b[0m\u001b[1;33m:\u001b[0m\u001b[1;33m\u001b[0m\u001b[0m\n\u001b[0;32m   1137\u001b[0m       \u001b[0mresults\u001b[0m \u001b[1;33m=\u001b[0m \u001b[1;33m[\u001b[0m\u001b[1;33m]\u001b[0m\u001b[1;33m\u001b[0m\u001b[0m\n",
      "\u001b[1;32m~\\Anaconda3\\lib\\site-packages\\tensorflow\\python\\client\\session.py\u001b[0m in \u001b[0;36m_do_run\u001b[1;34m(self, handle, target_list, fetch_list, feed_dict, options, run_metadata)\u001b[0m\n\u001b[0;32m   1314\u001b[0m     \u001b[1;32mif\u001b[0m \u001b[0mhandle\u001b[0m \u001b[1;32mis\u001b[0m \u001b[1;32mNone\u001b[0m\u001b[1;33m:\u001b[0m\u001b[1;33m\u001b[0m\u001b[0m\n\u001b[0;32m   1315\u001b[0m       return self._do_call(_run_fn, feeds, fetches, targets, options,\n\u001b[1;32m-> 1316\u001b[1;33m                            run_metadata)\n\u001b[0m\u001b[0;32m   1317\u001b[0m     \u001b[1;32melse\u001b[0m\u001b[1;33m:\u001b[0m\u001b[1;33m\u001b[0m\u001b[0m\n\u001b[0;32m   1318\u001b[0m       \u001b[1;32mreturn\u001b[0m \u001b[0mself\u001b[0m\u001b[1;33m.\u001b[0m\u001b[0m_do_call\u001b[0m\u001b[1;33m(\u001b[0m\u001b[0m_prun_fn\u001b[0m\u001b[1;33m,\u001b[0m \u001b[0mhandle\u001b[0m\u001b[1;33m,\u001b[0m \u001b[0mfeeds\u001b[0m\u001b[1;33m,\u001b[0m \u001b[0mfetches\u001b[0m\u001b[1;33m)\u001b[0m\u001b[1;33m\u001b[0m\u001b[0m\n",
      "\u001b[1;32m~\\Anaconda3\\lib\\site-packages\\tensorflow\\python\\client\\session.py\u001b[0m in \u001b[0;36m_do_call\u001b[1;34m(self, fn, *args)\u001b[0m\n\u001b[0;32m   1320\u001b[0m   \u001b[1;32mdef\u001b[0m \u001b[0m_do_call\u001b[0m\u001b[1;33m(\u001b[0m\u001b[0mself\u001b[0m\u001b[1;33m,\u001b[0m \u001b[0mfn\u001b[0m\u001b[1;33m,\u001b[0m \u001b[1;33m*\u001b[0m\u001b[0margs\u001b[0m\u001b[1;33m)\u001b[0m\u001b[1;33m:\u001b[0m\u001b[1;33m\u001b[0m\u001b[0m\n\u001b[0;32m   1321\u001b[0m     \u001b[1;32mtry\u001b[0m\u001b[1;33m:\u001b[0m\u001b[1;33m\u001b[0m\u001b[0m\n\u001b[1;32m-> 1322\u001b[1;33m       \u001b[1;32mreturn\u001b[0m \u001b[0mfn\u001b[0m\u001b[1;33m(\u001b[0m\u001b[1;33m*\u001b[0m\u001b[0margs\u001b[0m\u001b[1;33m)\u001b[0m\u001b[1;33m\u001b[0m\u001b[0m\n\u001b[0m\u001b[0;32m   1323\u001b[0m     \u001b[1;32mexcept\u001b[0m \u001b[0merrors\u001b[0m\u001b[1;33m.\u001b[0m\u001b[0mOpError\u001b[0m \u001b[1;32mas\u001b[0m \u001b[0me\u001b[0m\u001b[1;33m:\u001b[0m\u001b[1;33m\u001b[0m\u001b[0m\n\u001b[0;32m   1324\u001b[0m       \u001b[0mmessage\u001b[0m \u001b[1;33m=\u001b[0m \u001b[0mcompat\u001b[0m\u001b[1;33m.\u001b[0m\u001b[0mas_text\u001b[0m\u001b[1;33m(\u001b[0m\u001b[0me\u001b[0m\u001b[1;33m.\u001b[0m\u001b[0mmessage\u001b[0m\u001b[1;33m)\u001b[0m\u001b[1;33m\u001b[0m\u001b[0m\n",
      "\u001b[1;32m~\\Anaconda3\\lib\\site-packages\\tensorflow\\python\\client\\session.py\u001b[0m in \u001b[0;36m_run_fn\u001b[1;34m(feed_dict, fetch_list, target_list, options, run_metadata)\u001b[0m\n\u001b[0;32m   1305\u001b[0m       \u001b[0mself\u001b[0m\u001b[1;33m.\u001b[0m\u001b[0m_extend_graph\u001b[0m\u001b[1;33m(\u001b[0m\u001b[1;33m)\u001b[0m\u001b[1;33m\u001b[0m\u001b[0m\n\u001b[0;32m   1306\u001b[0m       return self._call_tf_sessionrun(\n\u001b[1;32m-> 1307\u001b[1;33m           options, feed_dict, fetch_list, target_list, run_metadata)\n\u001b[0m\u001b[0;32m   1308\u001b[0m \u001b[1;33m\u001b[0m\u001b[0m\n\u001b[0;32m   1309\u001b[0m     \u001b[1;32mdef\u001b[0m \u001b[0m_prun_fn\u001b[0m\u001b[1;33m(\u001b[0m\u001b[0mhandle\u001b[0m\u001b[1;33m,\u001b[0m \u001b[0mfeed_dict\u001b[0m\u001b[1;33m,\u001b[0m \u001b[0mfetch_list\u001b[0m\u001b[1;33m)\u001b[0m\u001b[1;33m:\u001b[0m\u001b[1;33m\u001b[0m\u001b[0m\n",
      "\u001b[1;32m~\\Anaconda3\\lib\\site-packages\\tensorflow\\python\\client\\session.py\u001b[0m in \u001b[0;36m_call_tf_sessionrun\u001b[1;34m(self, options, feed_dict, fetch_list, target_list, run_metadata)\u001b[0m\n\u001b[0;32m   1407\u001b[0m       return tf_session.TF_SessionRun_wrapper(\n\u001b[0;32m   1408\u001b[0m           \u001b[0mself\u001b[0m\u001b[1;33m.\u001b[0m\u001b[0m_session\u001b[0m\u001b[1;33m,\u001b[0m \u001b[0moptions\u001b[0m\u001b[1;33m,\u001b[0m \u001b[0mfeed_dict\u001b[0m\u001b[1;33m,\u001b[0m \u001b[0mfetch_list\u001b[0m\u001b[1;33m,\u001b[0m \u001b[0mtarget_list\u001b[0m\u001b[1;33m,\u001b[0m\u001b[1;33m\u001b[0m\u001b[0m\n\u001b[1;32m-> 1409\u001b[1;33m           run_metadata)\n\u001b[0m\u001b[0;32m   1410\u001b[0m     \u001b[1;32melse\u001b[0m\u001b[1;33m:\u001b[0m\u001b[1;33m\u001b[0m\u001b[0m\n\u001b[0;32m   1411\u001b[0m       \u001b[1;32mwith\u001b[0m \u001b[0merrors\u001b[0m\u001b[1;33m.\u001b[0m\u001b[0mraise_exception_on_not_ok_status\u001b[0m\u001b[1;33m(\u001b[0m\u001b[1;33m)\u001b[0m \u001b[1;32mas\u001b[0m \u001b[0mstatus\u001b[0m\u001b[1;33m:\u001b[0m\u001b[1;33m\u001b[0m\u001b[0m\n",
      "\u001b[1;31mKeyboardInterrupt\u001b[0m: "
     ]
    }
   ],
   "source": [
    "import numpy as np\n",
    "import tensorflow as tf\n",
    "import os\n",
    "from sklearn.model_selection import train_test_split\n",
    "\n",
    "os.environ[\"CUDA_VISIBLE_DEVICES\"]=\"-1\"    \n",
    "try:\n",
    "# For Windows\n",
    "    file_path = 'D:\\\\Matlab_Drive\\\\Data\\\\WIFI\\\\180_100_DCout'\n",
    "    file_list = os.listdir(file_path)\n",
    "except:\n",
    "# For Linux\n",
    "    file_path = '/home/herokwon/data/WIFI/180_100_DCout'\n",
    "    file_list = os.listdir(file_path)\n",
    "\n",
    "file_list_data = [os.path.join(file_path,s) for s in file_list if not \"_idx.npy\" in s]\n",
    "file_list_idx = [os.path.join(file_path,s) for s in file_list if \"_idx.npy\" in s]\n",
    "\n",
    "#x_train,x_test,y_train,y_test = train_test_split(file_list_data,file_list_idx,test_size=0.2,random_state=33)\n",
    "#data_train = (x_train,y_train)\n",
    "#data_test = (x_test,y_test)\n",
    "\n",
    "def gen_readnpy(files_data,train_size,test_size):\n",
    "    for i in range(len(files_data[0])):\n",
    "        data_read = np.load(files_data[0][i]).astype('float32')\n",
    "        label_read = np.load(files_data[1][i]).astype('int32')\n",
    "\n",
    "        x_train,x_test,y_train,y_test = train_test_split(data_read,label_read,test_size=0.2,shuffle=False)\n",
    "        minibatch_num = int(1000 / (train_size + test_size))\n",
    "        \n",
    "        for j in range(minibatch_num):\n",
    "            train_x_give = x_train[train_size*j:train_size*(j+1)]\n",
    "            train_y_give = y_train[train_size*j:train_size*(j+1)]\n",
    "            test_x_give = x_test[test_size*j:test_size*(j+1)]\n",
    "            test_y_give = y_test[test_size*j:test_size*(j+1)]\n",
    "            yield train_x_give,train_y_give,test_x_give,test_y_give\n",
    "            #yield train_x_give,train_y_give,train_x_give[0:20],train_y_give[0:20]\n",
    "\n",
    "#iter = gen_readnpy((file_list_data,file_list_idx))\n",
    "#iter_test = gen_readnpy(data_test)\n",
    "\n",
    "tf.reset_default_graph()\n",
    "## Network\n",
    "learning_rate = 0.1\n",
    "train_batch_size = 80\n",
    "test_batch_size = 20\n",
    "\n",
    "n_input = 6*30\n",
    "n_step  = 500\n",
    "n_class = 110\n",
    "total_batch = int(8000 / (train_batch_size+test_batch_size))\n",
    "n_hidden = 128\n",
    "\n",
    "iter = gen_readnpy((file_list_data,file_list_idx),train_batch_size,test_batch_size)\n",
    "\n",
    "X = tf.placeholder(tf.float32,[None,n_step,n_input])\n",
    "Y = tf.placeholder(tf.int32,[None,n_class])\n",
    "\n",
    "W = tf.Variable(tf.random_normal([n_hidden,n_class]))\n",
    "b = tf.Variable(tf.random_normal([n_class]))\n",
    "\n",
    "cell = tf.nn.rnn_cell.BasicLSTMCell(n_hidden)\n",
    "\n",
    "outputs, states = tf.nn.dynamic_rnn(cell,X,dtype=tf.float32)\n",
    "\n",
    "outputs = tf.transpose(outputs,[1,0,2])\n",
    "outputs = outputs[-1]\n",
    "\n",
    "model = tf.matmul(outputs,W) + b\n",
    "\n",
    "cost = tf.reduce_mean(tf.nn.softmax_cross_entropy_with_logits(\n",
    "    logits=model,labels=Y))\n",
    "\n",
    "optimizer = tf.train.AdamOptimizer(learning_rate).minimize(cost)\n",
    "# Accuracy\n",
    "is_correct = tf.equal(tf.argmax(model,1),tf.argmax(Y,1))\n",
    "accuracy = tf.reduce_mean(tf.cast(is_correct,tf.float32))\n",
    "\n",
    "#tf.reset_default_graph()\n",
    "\n",
    "with tf.Session() as sess:\n",
    "    sess.run(tf.global_variables_initializer())\n",
    "    total_cost = 0\n",
    "\n",
    "    for i in range(total_batch):\n",
    "        try:\n",
    "            batch_xs,batch_ys,batch_xst,batch_yst = next(iter)\n",
    "\n",
    "            batch_xs = batch_xs.reshape((train_batch_size,n_input,n_step))\n",
    "            batch_xs = np.transpose(batch_xs,[0,2,1])\n",
    "            batch_ys = np.eye(n_class)[batch_ys].squeeze(1)\n",
    "            \n",
    "            _,cost_val = sess.run([optimizer,cost],\n",
    "            feed_dict = {X:batch_xs,Y:batch_ys})\n",
    "            \n",
    "            batch_xst = batch_xst.reshape((test_batch_size,n_input,n_step))\n",
    "            batch_xst = np.transpose(batch_xst,[0,2,1])\n",
    "            batch_yst = np.eye(n_class)[batch_yst].squeeze(1)\n",
    "\n",
    "            acc_t,cost_val_t = sess.run([accuracy,cost],feed_dict = {X:batch_xst,Y:batch_yst})\n",
    "\n",
    "            # Accuracy\n",
    "            #is_correct = tf.equal(tf.argmax(model,1),tf.argmax(Y,1))\n",
    "            #accuracy = tf.reduce_mean(tf.cast(is_correct,tf.float32))\n",
    "\n",
    "            #acc_t = sess.run(accuracy,feed_dict = {X:batch_xst,Y:batch_yst})\n",
    "\n",
    "            total_cost += cost_val\n",
    "\n",
    "        except tf.errors.OutOfRangeError:\n",
    "            print(\"End of Dataset\")\n",
    "        \n",
    "        print('Epoch:','%04d' % (i+1),\n",
    "        'Avg.cost = ','{:.3f}'.format(cost_val),'cost_t = ',cost_val_t,'Acc = ',acc_t)\n",
    "\n"
   ]
  },
  {
   "cell_type": "code",
   "execution_count": null,
   "metadata": {},
   "outputs": [],
   "source": [
    "1"
   ]
  },
  {
   "cell_type": "code",
   "execution_count": null,
   "metadata": {},
   "outputs": [],
   "source": []
  }
 ],
 "metadata": {
  "kernelspec": {
   "display_name": "Python 3",
   "language": "python",
   "name": "python3"
  },
  "language_info": {
   "codemirror_mode": {
    "name": "ipython",
    "version": 3
   },
   "file_extension": ".py",
   "mimetype": "text/x-python",
   "name": "python",
   "nbconvert_exporter": "python",
   "pygments_lexer": "ipython3",
   "version": "3.6.4"
  }
 },
 "nbformat": 4,
 "nbformat_minor": 2
}
