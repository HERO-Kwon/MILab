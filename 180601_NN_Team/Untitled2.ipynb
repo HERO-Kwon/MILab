{
 "cells": [
  {
   "cell_type": "code",
   "execution_count": null,
   "metadata": {},
   "outputs": [],
   "source": [
    "import numpy as np\n",
    "import tensorflow as tf\n",
    "import os\n",
    "from sklearn.model_selection import train_test_split"
   ]
  },
  {
   "cell_type": "code",
   "execution_count": null,
   "metadata": {},
   "outputs": [],
   "source": [
    "# For Windows\n",
    "file_path = 'D:\\\\Matlab_Drive\\\\Data\\\\WIFI\\\\180_100_DCout'"
   ]
  },
  {
   "cell_type": "code",
   "execution_count": null,
   "metadata": {},
   "outputs": [],
   "source": [
    "\n",
    "file_list = os.listdir(file_path)\n",
    "file_list_data = [os.path.join(file_path,s) for s in file_list if not \"_idx.npy\" in s]\n",
    "file_list_idx = [os.path.join(file_path,s) for s in file_list if \"_idx.npy\" in s]"
   ]
  },
  {
   "cell_type": "code",
   "execution_count": null,
   "metadata": {},
   "outputs": [],
   "source": [
    "x_train,x_test,y_train,y_test = train_test_split(file_list_data,file_list_idx,test_size=0.2,random_state=33)\n"
   ]
  },
  {
   "cell_type": "code",
   "execution_count": null,
   "metadata": {},
   "outputs": [],
   "source": [
    "x_train"
   ]
  },
  {
   "cell_type": "code",
   "execution_count": null,
   "metadata": {},
   "outputs": [],
   "source": [
    "x_train"
   ]
  },
  {
   "cell_type": "code",
   "execution_count": null,
   "metadata": {},
   "outputs": [],
   "source": [
    "a = x_train,y_train"
   ]
  },
  {
   "cell_type": "code",
   "execution_count": null,
   "metadata": {},
   "outputs": [],
   "source": [
    "a[0][0],a[1][0]"
   ]
  },
  {
   "cell_type": "code",
   "execution_count": null,
   "metadata": {},
   "outputs": [],
   "source": [
    "data_train = (x_train,y_train)"
   ]
  },
  {
   "cell_type": "code",
   "execution_count": null,
   "metadata": {},
   "outputs": [],
   "source": [
    "data_train[0][0]"
   ]
  },
  {
   "cell_type": "code",
   "execution_count": null,
   "metadata": {},
   "outputs": [],
   "source": [
    "data_train[1][0]"
   ]
  },
  {
   "cell_type": "code",
   "execution_count": null,
   "metadata": {},
   "outputs": [],
   "source": [
    "def gen_readnpy(files_data):\n",
    "    for i in range(len(files_data)):\n",
    "        data_read = np.float32(np.load(data[0][i]))\n",
    "        label_read = np.float32(np.load(data[1][i]))\n",
    "\n",
    "        yield data_read,label_read"
   ]
  },
  {
   "cell_type": "code",
   "execution_count": null,
   "metadata": {},
   "outputs": [],
   "source": [
    "a,b = gen_readnpy(data_train)"
   ]
  },
  {
   "cell_type": "code",
   "execution_count": null,
   "metadata": {},
   "outputs": [],
   "source": [
    "def gen_readnpy(files_data):\n",
    "    for i in range(len(files_data)):\n",
    "        data_read = np.float32(np.load(files_data[0][i]))\n",
    "        label_read = np.float32(np.load(files_data[1][i]))\n",
    "\n",
    "        yield data_read,label_read"
   ]
  },
  {
   "cell_type": "code",
   "execution_count": null,
   "metadata": {},
   "outputs": [],
   "source": [
    "train = gen_readnpy(data_train)"
   ]
  },
  {
   "cell_type": "code",
   "execution_count": null,
   "metadata": {},
   "outputs": [],
   "source": [
    "a,b = next(train)"
   ]
  },
  {
   "cell_type": "code",
   "execution_count": null,
   "metadata": {},
   "outputs": [],
   "source": [
    "a.shape"
   ]
  },
  {
   "cell_type": "code",
   "execution_count": null,
   "metadata": {},
   "outputs": [],
   "source": [
    "b.shape"
   ]
  },
  {
   "cell_type": "code",
   "execution_count": null,
   "metadata": {},
   "outputs": [],
   "source": [
    "type(b[0].item())"
   ]
  },
  {
   "cell_type": "code",
   "execution_count": null,
   "metadata": {},
   "outputs": [],
   "source": [
    "b[0].item()"
   ]
  },
  {
   "cell_type": "code",
   "execution_count": null,
   "metadata": {},
   "outputs": [],
   "source": [
    "import sys"
   ]
  },
  {
   "cell_type": "code",
   "execution_count": null,
   "metadata": {},
   "outputs": [],
   "source": [
    "sys.float_info(b[0].item())"
   ]
  },
  {
   "cell_type": "code",
   "execution_count": null,
   "metadata": {},
   "outputs": [],
   "source": [
    "import numpy as np\n",
    "import tensorflow as tf\n",
    "import os\n",
    "from sklearn.model_selection import train_test_split\n",
    "\n",
    "\n",
    "# For Windows\n",
    "file_path = 'D:\\\\Matlab_Drive\\\\Data\\\\WIFI\\\\180_100_DCout'\n",
    "\n",
    "# For Linux\n",
    "# file_path = '/home/hero/Matlab_Drive/Data/ORLDB'\n",
    "\n",
    "file_list = os.listdir(file_path)\n",
    "file_list_data = [os.path.join(file_path,s) for s in file_list if not \"_idx.npy\" in s]\n",
    "file_list_idx = [os.path.join(file_path,s) for s in file_list if \"_idx.npy\" in s]\n",
    "\n",
    "x_train,x_test,y_train,y_test = train_test_split(file_list_data,file_list_idx,test_size=0.2,random_state=33)\n",
    "data_train = (x_train,y_train)\n",
    "data_test = (x_test,y_test)\n",
    "\n",
    "def gen_readnpy(files_data):\n",
    "    for i in range(len(files_data)):\n",
    "        data_read = np.float32(np.load(files_data[0][i]))\n",
    "        label_read = np.float32(np.load(files_data[1][i]))\n",
    "\n",
    "        yield data_read,label_read\n",
    "\n",
    "iter_train = gen_readnpy(data_train)\n",
    "iter_test = gen_readnpy(data_test)\n"
   ]
  },
  {
   "cell_type": "code",
   "execution_count": null,
   "metadata": {},
   "outputs": [],
   "source": [
    "## Network\n",
    "learning_rate = 0.001\n",
    "n_input = 6*30\n",
    "n_step  = 500\n",
    "n_class = 100\n",
    "total_batch = 6\n",
    "n_hidden = 128\n",
    "batch_size = 1000\n",
    "\n",
    "X = tf.placeholder(tf.float32,[None,n_step,n_input])\n",
    "Y = tf.placeholder(tf.float32,[None,n_class])\n",
    "\n",
    "W = tf.Variable(tf.random_normal([n_hidden,n_class]))\n",
    "b = tf.Variable(tf.random_normal([n_class]))\n",
    "\n",
    "cell = tf.nn.rnn_cell.BasicRNNCell(n_hidden)\n",
    "\n",
    "outputs, states = tf.nn.dynamic_rnn(cell,X,dtype=tf.float32)\n",
    "\n",
    "outputs = tf.transpose(outputs,[1,0,2])\n",
    "outputs = outputs[-1]\n",
    "\n",
    "model = tf.matmul(outputs,W) + b\n",
    "\n",
    "cost = tf.reduce_mean(tf.nn.softmax_cross_entropy_with_logits(\n",
    "    logits=model,labels=Y))\n",
    "\n",
    "optimizer = tf.train.AdamOptimizer(learning_rate).minimize(cost)"
   ]
  },
  {
   "cell_type": "code",
   "execution_count": null,
   "metadata": {},
   "outputs": [],
   "source": [
    "with tf.Session() as sess:\n",
    "    sess.run(tf.global_variables_initializer())\n",
    "    total_cost = 0\n",
    "    for i in range(total_batch):\n",
    "        try:\n",
    "            batch_xs,batch_ys = next(iter_train)\n",
    "            batch_xs = tf.reshape(batch_xs,(batch_size,n_step,n_input))\n",
    "            _,cost_val = sess.run([optimizer,cost],\n",
    "            feed_dict = {X:batch_xs,Y:batch_ys})\n",
    "\n",
    "            total_cost += cost_val\n",
    "    \n",
    "            \n",
    "            #value = sess.run(next_element)\n",
    "            #print(f\"{value[1].shape}\", end=\" \")\n",
    "        except tf.errors.OutOfRangeError:\n",
    "            print(\"End of Dataset\")\n",
    "        print('Epoch:','%04d' % (epoch+1),\n",
    "        'Avg.cost = ',':.3f'.format(total_cost / total_batch))"
   ]
  },
  {
   "cell_type": "code",
   "execution_count": null,
   "metadata": {},
   "outputs": [],
   "source": [
    "batch_xs,batch_ys = next(iter_train)"
   ]
  },
  {
   "cell_type": "code",
   "execution_count": null,
   "metadata": {},
   "outputs": [],
   "source": [
    "batch_ys"
   ]
  },
  {
   "cell_type": "code",
   "execution_count": null,
   "metadata": {},
   "outputs": [],
   "source": [
    "batch_xs = batch_xs.reshape((batch_size,n_step,n_input))"
   ]
  },
  {
   "cell_type": "code",
   "execution_count": null,
   "metadata": {},
   "outputs": [],
   "source": [
    "with tf.Session() as sess:\n",
    "    sess.run(tf.global_variables_initializer())\n",
    "    total_cost = 0\n",
    "    for i in range(total_batch):\n",
    "        try:\n",
    "            batch_xs,batch_ys = next(iter_train)\n",
    "            batch_xs = batch_xs.reshape((batch_size,n_step,n_input))\n",
    "            _,cost_val = sess.run([optimizer,cost],\n",
    "            feed_dict = {X:batch_xs,Y:batch_ys})\n",
    "\n",
    "            total_cost += cost_val\n",
    "    \n",
    "            \n",
    "            #value = sess.run(next_element)\n",
    "            #print(f\"{value[1].shape}\", end=\" \")\n",
    "        except tf.errors.OutOfRangeError:\n",
    "            print(\"End of Dataset\")\n",
    "        print('Epoch:','%04d' % (epoch+1),\n",
    "        'Avg.cost = ',':.3f'.format(total_cost / total_batch))"
   ]
  },
  {
   "cell_type": "code",
   "execution_count": null,
   "metadata": {},
   "outputs": [],
   "source": [
    "import numpy as np\n",
    "import tensorflow as tf\n",
    "import os\n",
    "from sklearn.model_selection import train_test_split\n",
    "\n",
    "\n",
    "# For Windows\n",
    "file_path = 'D:\\\\Matlab_Drive\\\\Data\\\\WIFI\\\\180_100_DCout'\n",
    "\n",
    "# For Linux\n",
    "# file_path = '/home/hero/Matlab_Drive/Data/ORLDB'\n",
    "\n",
    "file_list = os.listdir(file_path)\n",
    "file_list_data = [os.path.join(file_path,s) for s in file_list if not \"_idx.npy\" in s]\n",
    "file_list_idx = [os.path.join(file_path,s) for s in file_list if \"_idx.npy\" in s]\n",
    "\n",
    "x_train,x_test,y_train,y_test = train_test_split(file_list_data,file_list_idx,test_size=0.2,random_state=33)\n",
    "data_train = (x_train,y_train)\n",
    "data_test = (x_test,y_test)\n",
    "\n",
    "def gen_readnpy(files_data):\n",
    "    for i in range(len(files_data)):\n",
    "        data_read = np.float32(np.load(files_data[0][i]))\n",
    "        label_read = np.float32(np.load(files_data[1][i]))\n",
    "\n",
    "        yield data_read,label_read\n",
    "\n",
    "iter_train = gen_readnpy(data_train)\n",
    "iter_test = gen_readnpy(data_test)\n",
    "\n",
    "## Network\n",
    "learning_rate = 0.001\n",
    "n_input = 6*30\n",
    "n_step  = 500\n",
    "n_class = 100\n",
    "total_batch = 6\n",
    "n_hidden = 128\n",
    "batch_size = 1000\n",
    "\n",
    "X = tf.placeholder(tf.float32,[None,n_step,n_input])\n",
    "Y = tf.placeholder(tf.float32,[None,n_class])\n",
    "\n",
    "W = tf.Variable(tf.random_normal([n_hidden,n_class]))\n",
    "b = tf.Variable(tf.random_normal([n_class]))\n",
    "\n",
    "cell = tf.nn.rnn_cell.BasicRNNCell(n_hidden)\n",
    "\n",
    "outputs, states = tf.nn.dynamic_rnn(cell,X,dtype=tf.float32)\n",
    "\n",
    "outputs = tf.transpose(outputs,[1,0,2])\n",
    "outputs = outputs[-1]\n",
    "\n",
    "model = tf.matmul(outputs,W) + b\n",
    "\n",
    "cost = tf.reduce_mean(tf.nn.softmax_cross_entropy_with_logits(\n",
    "    logits=model,labels=Y))\n",
    "\n",
    "optimizer = tf.train.AdamOptimizer(learning_rate).minimize(cost)\n",
    "\n",
    "#tf.reset_default_graph()\n",
    "\n",
    "with tf.Session() as sess:\n",
    "    sess.run(tf.global_variables_initializer())\n",
    "    total_cost = 0\n",
    "    for i in range(total_batch):\n",
    "        try:\n",
    "            batch_xs,batch_ys = next(iter_train)\n",
    "            batch_xs = batch_xs.reshape((batch_size,n_step,n_input))\n",
    "            _,cost_val = sess.run([optimizer,cost],\n",
    "            feed_dict = {X:batch_xs,Y:batch_ys})\n",
    "\n",
    "            total_cost += cost_val\n",
    "    \n",
    "            \n",
    "            #value = sess.run(next_element)\n",
    "            #print(f\"{value[1].shape}\", end=\" \")\n",
    "        except tf.errors.OutOfRangeError:\n",
    "            print(\"End of Dataset\")\n",
    "        print('Epoch:','%04d' % (epoch+1),\n",
    "        'Avg.cost = ',':.3f'.format(total_cost / total_batch))"
   ]
  },
  {
   "cell_type": "code",
   "execution_count": null,
   "metadata": {},
   "outputs": [],
   "source": [
    "sklearn.preprocessing.OneHotEncoder"
   ]
  },
  {
   "cell_type": "code",
   "execution_count": null,
   "metadata": {},
   "outputs": [],
   "source": [
    "import sklearn.preprocessing"
   ]
  },
  {
   "cell_type": "code",
   "execution_count": null,
   "metadata": {},
   "outputs": [],
   "source": [
    "from sklearn.preprocessing import OneHotEncoder"
   ]
  },
  {
   "cell_type": "code",
   "execution_count": null,
   "metadata": {},
   "outputs": [],
   "source": [
    "aa = OneHotEncoder(batch_ys)"
   ]
  },
  {
   "cell_type": "code",
   "execution_count": null,
   "metadata": {},
   "outputs": [],
   "source": [
    "a"
   ]
  },
  {
   "cell_type": "code",
   "execution_count": null,
   "metadata": {},
   "outputs": [],
   "source": []
  },
  {
   "cell_type": "code",
   "execution_count": null,
   "metadata": {},
   "outputs": [],
   "source": [
    "aa.fit(batch_ys.T)"
   ]
  },
  {
   "cell_type": "code",
   "execution_count": null,
   "metadata": {},
   "outputs": [],
   "source": [
    "## Network\n",
    "learning_rate = 0.001\n",
    "n_input = 6*30\n",
    "n_step  = 500\n",
    "n_class = 100\n",
    "total_batch = 6\n",
    "n_hidden = 128\n",
    "batch_size = 1000\n",
    "\n",
    "X = tf.placeholder(tf.float32,[None,n_step,n_input])\n",
    "Y = tf.placeholder(tf.float32,[None])\n",
    "\n",
    "Y = tf.one_hot(Y,depth=n_class)\n",
    "\n",
    "W = tf.Variable(tf.random_normal([n_hidden,n_class]))\n",
    "b = tf.Variable(tf.random_normal([n_class]))\n",
    "\n",
    "cell = tf.nn.rnn_cell.BasicRNNCell(n_hidden)\n",
    "\n",
    "outputs, states = tf.nn.dynamic_rnn(cell,X,dtype=tf.float32)\n",
    "\n",
    "outputs = tf.transpose(outputs,[1,0,2])\n",
    "outputs = outputs[-1]\n",
    "\n",
    "model = tf.matmul(outputs,W) + b\n",
    "\n",
    "cost = tf.reduce_mean(tf.nn.softmax_cross_entropy_with_logits(\n",
    "    logits=model,labels=Y))\n",
    "\n",
    "optimizer = tf.train.AdamOptimizer(learning_rate).minimize(cost)"
   ]
  },
  {
   "cell_type": "code",
   "execution_count": null,
   "metadata": {},
   "outputs": [],
   "source": [
    "## Network\n",
    "learning_rate = 0.001\n",
    "n_input = 6*30\n",
    "n_step  = 500\n",
    "n_class = 100\n",
    "total_batch = 6\n",
    "n_hidden = 128\n",
    "batch_size = 1000\n",
    "\n",
    "X = tf.placeholder(tf.float32,[None,n_step,n_input])\n",
    "Y = tf.placeholder(tf.int32,[None])\n",
    "\n",
    "Y = tf.one_hot(Y,depth=n_class)\n",
    "\n",
    "W = tf.Variable(tf.random_normal([n_hidden,n_class]))\n",
    "b = tf.Variable(tf.random_normal([n_class]))\n",
    "\n",
    "cell = tf.nn.rnn_cell.BasicRNNCell(n_hidden)\n",
    "\n",
    "outputs, states = tf.nn.dynamic_rnn(cell,X,dtype=tf.float32)\n",
    "\n",
    "outputs = tf.transpose(outputs,[1,0,2])\n",
    "outputs = outputs[-1]\n",
    "\n",
    "model = tf.matmul(outputs,W) + b\n",
    "\n",
    "cost = tf.reduce_mean(tf.nn.softmax_cross_entropy_with_logits(\n",
    "    logits=model,labels=Y))\n",
    "\n",
    "optimizer = tf.train.AdamOptimizer(learning_rate).minimize(cost)"
   ]
  },
  {
   "cell_type": "code",
   "execution_count": null,
   "metadata": {},
   "outputs": [],
   "source": [
    "tf.reset_default_graph()\n",
    "## Network\n",
    "learning_rate = 0.001\n",
    "n_input = 6*30\n",
    "n_step  = 500\n",
    "n_class = 100\n",
    "total_batch = 6\n",
    "n_hidden = 128\n",
    "batch_size = 1000\n",
    "\n",
    "X = tf.placeholder(tf.float32,[None,n_step,n_input])\n",
    "Y = tf.placeholder(tf.int32,[None])\n",
    "\n",
    "Y = tf.one_hot(Y,depth=n_class)\n",
    "\n",
    "W = tf.Variable(tf.random_normal([n_hidden,n_class]))\n",
    "b = tf.Variable(tf.random_normal([n_class]))\n",
    "\n",
    "cell = tf.nn.rnn_cell.BasicRNNCell(n_hidden)\n",
    "\n",
    "outputs, states = tf.nn.dynamic_rnn(cell,X,dtype=tf.float32)\n",
    "\n",
    "outputs = tf.transpose(outputs,[1,0,2])\n",
    "outputs = outputs[-1]\n",
    "\n",
    "model = tf.matmul(outputs,W) + b\n",
    "\n",
    "cost = tf.reduce_mean(tf.nn.softmax_cross_entropy_with_logits(\n",
    "    logits=model,labels=Y))\n",
    "\n",
    "optimizer = tf.train.AdamOptimizer(learning_rate).minimize(cost)"
   ]
  },
  {
   "cell_type": "code",
   "execution_count": null,
   "metadata": {},
   "outputs": [],
   "source": [
    "with tf.Session() as sess:\n",
    "    sess.run(tf.global_variables_initializer())\n",
    "    total_cost = 0\n",
    "    for i in range(total_batch):\n",
    "        try:\n",
    "            batch_xs,batch_ys = next(iter_train)\n",
    "            batch_xs = batch_xs.reshape((batch_size,n_step,n_input))\n",
    "            _,cost_val = sess.run([optimizer,cost],\n",
    "            feed_dict = {X:batch_xs,Y:batch_ys})\n",
    "\n",
    "            total_cost += cost_val\n",
    "    \n",
    "            \n",
    "            #value = sess.run(next_element)\n",
    "            #print(f\"{value[1].shape}\", end=\" \")\n",
    "        except tf.errors.OutOfRangeError:\n",
    "            print(\"End of Dataset\")\n",
    "        print('Epoch:','%04d' % (epoch+1),\n",
    "        'Avg.cost = ',':.3f'.format(total_cost / total_batch))"
   ]
  },
  {
   "cell_type": "code",
   "execution_count": null,
   "metadata": {},
   "outputs": [],
   "source": [
    "file_list = os.listdir(file_path)\n",
    "file_list_data = [os.path.join(file_path,s) for s in file_list if not \"_idx.npy\" in s]\n",
    "file_list_idx = [os.path.join(file_path,s) for s in file_list if \"_idx.npy\" in s]\n",
    "\n",
    "x_train,x_test,y_train,y_test = train_test_split(file_list_data,file_list_idx,test_size=0.2,random_state=33)\n",
    "data_train = (x_train,y_train)\n",
    "data_test = (x_test,y_test)\n",
    "\n",
    "def gen_readnpy(files_data):\n",
    "    for i in range(len(files_data)):\n",
    "        data_read = np.load(files_data[0][i]).astype('float32')\n",
    "        label_read = np.load(files_data[1][i]).astype('int32')\n",
    "\n",
    "        yield data_read,label_read\n",
    "\n",
    "iter_train = gen_readnpy(data_train)\n",
    "iter_test = gen_readnpy(data_test)"
   ]
  },
  {
   "cell_type": "code",
   "execution_count": null,
   "metadata": {},
   "outputs": [],
   "source": [
    "tf.reset_default_graph()"
   ]
  },
  {
   "cell_type": "code",
   "execution_count": null,
   "metadata": {},
   "outputs": [],
   "source": [
    "## Network\n",
    "learning_rate = 0.001\n",
    "n_input = 6*30\n",
    "n_step  = 500\n",
    "n_class = 100\n",
    "total_batch = 6\n",
    "n_hidden = 128\n",
    "batch_size = 1000\n",
    "\n",
    "X = tf.placeholder(tf.float32,[None,n_step,n_input])\n",
    "Y = tf.placeholder(tf.int32,[None,1])\n",
    "\n",
    "Y = tf.one_hot(Y,depth=n_class)\n",
    "\n",
    "W = tf.Variable(tf.random_normal([n_hidden,n_class]))\n",
    "b = tf.Variable(tf.random_normal([n_class]))\n",
    "\n",
    "cell = tf.nn.rnn_cell.BasicRNNCell(n_hidden)\n",
    "\n",
    "outputs, states = tf.nn.dynamic_rnn(cell,X,dtype=tf.float32)\n",
    "\n",
    "outputs = tf.transpose(outputs,[1,0,2])\n",
    "outputs = outputs[-1]\n",
    "\n",
    "model = tf.matmul(outputs,W) + b\n",
    "\n",
    "cost = tf.reduce_mean(tf.nn.softmax_cross_entropy_with_logits(\n",
    "    logits=model,labels=Y))\n",
    "\n",
    "optimizer = tf.train.AdamOptimizer(learning_rate).minimize(cost)"
   ]
  },
  {
   "cell_type": "code",
   "execution_count": null,
   "metadata": {},
   "outputs": [],
   "source": [
    "with tf.Session() as sess:\n",
    "    sess.run(tf.global_variables_initializer())\n",
    "    total_cost = 0\n",
    "    for i in range(total_batch):\n",
    "        try:\n",
    "            batch_xs,batch_ys = next(iter_train)\n",
    "            batch_xs = batch_xs.reshape((batch_size,n_step,n_input))\n",
    "            _,cost_val = sess.run([optimizer,cost],\n",
    "            feed_dict = {X:batch_xs,Y:batch_ys})\n",
    "\n",
    "            total_cost += cost_val\n",
    "    \n",
    "            \n",
    "            #value = sess.run(next_element)\n",
    "            #print(f\"{value[1].shape}\", end=\" \")\n",
    "        except tf.errors.OutOfRangeError:\n",
    "            print(\"End of Dataset\")\n",
    "        print('Epoch:','%04d' % (epoch+1),\n",
    "        'Avg.cost = ',':.3f'.format(total_cost / total_batch))"
   ]
  },
  {
   "cell_type": "code",
   "execution_count": null,
   "metadata": {},
   "outputs": [],
   "source": [
    "batch_ys.shape"
   ]
  },
  {
   "cell_type": "code",
   "execution_count": 1,
   "metadata": {},
   "outputs": [
    {
     "name": "stderr",
     "output_type": "stream",
     "text": [
      "C:\\Users\\herok\\Anaconda3\\lib\\site-packages\\h5py\\__init__.py:36: FutureWarning: Conversion of the second argument of issubdtype from `float` to `np.floating` is deprecated. In future, it will be treated as `np.float64 == np.dtype(float).type`.\n",
      "  from ._conv import register_converters as _register_converters\n"
     ]
    },
    {
     "name": "stdout",
     "output_type": "stream",
     "text": [
      "WARNING:tensorflow:From <ipython-input-1-5dfe7b8df0a9>:59: softmax_cross_entropy_with_logits (from tensorflow.python.ops.nn_ops) is deprecated and will be removed in a future version.\n",
      "Instructions for updating:\n",
      "\n",
      "Future major versions of TensorFlow will allow gradients to flow\n",
      "into the labels input on backprop by default.\n",
      "\n",
      "See @{tf.nn.softmax_cross_entropy_with_logits_v2}.\n",
      "\n"
     ]
    }
   ],
   "source": [
    "import numpy as np\n",
    "import tensorflow as tf\n",
    "import os\n",
    "from sklearn.model_selection import train_test_split\n",
    "\n",
    "\n",
    "# For Windows\n",
    "file_path = 'D:\\\\Matlab_Drive\\\\Data\\\\WIFI\\\\180_100_DCout'\n",
    "\n",
    "# For Linux\n",
    "# file_path = '/home/hero/Matlab_Drive/Data/ORLDB'\n",
    "\n",
    "file_list = os.listdir(file_path)\n",
    "file_list_data = [os.path.join(file_path,s) for s in file_list if not \"_idx.npy\" in s]\n",
    "file_list_idx = [os.path.join(file_path,s) for s in file_list if \"_idx.npy\" in s]\n",
    "\n",
    "x_train,x_test,y_train,y_test = train_test_split(file_list_data,file_list_idx,test_size=0.2,random_state=33)\n",
    "data_train = (x_train,y_train)\n",
    "data_test = (x_test,y_test)\n",
    "\n",
    "def gen_readnpy(files_data):\n",
    "    for i in range(len(files_data)):\n",
    "        data_read = np.load(files_data[0][i]).astype('float32')\n",
    "        label_read = np.load(files_data[1][i]).astype('int32')\n",
    "\n",
    "        yield data_read,label_read\n",
    "\n",
    "iter_train = gen_readnpy(data_train)\n",
    "iter_test = gen_readnpy(data_test)\n",
    "\n",
    "tf.reset_default_graph()\n",
    "## Network\n",
    "learning_rate = 0.001\n",
    "n_input = 6*30\n",
    "n_step  = 500\n",
    "n_class = 100\n",
    "total_batch = 6\n",
    "n_hidden = 128\n",
    "batch_size = 1000\n",
    "\n",
    "X = tf.placeholder(tf.float32,[None,n_step,n_input])\n",
    "Y = tf.placeholder(tf.int32,[None,1])\n",
    "\n",
    "Y = tf.one_hot(Y,depth=n_class)\n",
    "\n",
    "W = tf.Variable(tf.random_normal([n_hidden,n_class]))\n",
    "b = tf.Variable(tf.random_normal([n_class]))\n",
    "\n",
    "cell = tf.nn.rnn_cell.BasicRNNCell(n_hidden)\n",
    "\n",
    "outputs, states = tf.nn.dynamic_rnn(cell,X,dtype=tf.float32)\n",
    "\n",
    "outputs = tf.transpose(outputs,[1,0,2])\n",
    "outputs = outputs[-1]\n",
    "\n",
    "model = tf.matmul(outputs,W) + b\n",
    "\n",
    "cost = tf.reduce_mean(tf.nn.softmax_cross_entropy_with_logits(\n",
    "    logits=model,labels=Y))\n",
    "\n",
    "optimizer = tf.train.AdamOptimizer(learning_rate).minimize(cost)"
   ]
  },
  {
   "cell_type": "code",
   "execution_count": 2,
   "metadata": {},
   "outputs": [
    {
     "ename": "ValueError",
     "evalue": "Cannot feed value of shape (1000, 1) for Tensor 'one_hot:0', which has shape '(?, 1, 100)'",
     "output_type": "error",
     "traceback": [
      "\u001b[1;31m---------------------------------------------------------------------------\u001b[0m",
      "\u001b[1;31mValueError\u001b[0m                                Traceback (most recent call last)",
      "\u001b[1;32m<ipython-input-2-5d9455034b19>\u001b[0m in \u001b[0;36m<module>\u001b[1;34m()\u001b[0m\n\u001b[0;32m      7\u001b[0m             \u001b[0mbatch_xs\u001b[0m \u001b[1;33m=\u001b[0m \u001b[0mbatch_xs\u001b[0m\u001b[1;33m.\u001b[0m\u001b[0mreshape\u001b[0m\u001b[1;33m(\u001b[0m\u001b[1;33m(\u001b[0m\u001b[0mbatch_size\u001b[0m\u001b[1;33m,\u001b[0m\u001b[0mn_step\u001b[0m\u001b[1;33m,\u001b[0m\u001b[0mn_input\u001b[0m\u001b[1;33m)\u001b[0m\u001b[1;33m)\u001b[0m\u001b[1;33m\u001b[0m\u001b[0m\n\u001b[0;32m      8\u001b[0m             _,cost_val = sess.run([optimizer,cost],\n\u001b[1;32m----> 9\u001b[1;33m             feed_dict = {X:batch_xs,Y:batch_ys})\n\u001b[0m\u001b[0;32m     10\u001b[0m \u001b[1;33m\u001b[0m\u001b[0m\n\u001b[0;32m     11\u001b[0m             \u001b[0mtotal_cost\u001b[0m \u001b[1;33m+=\u001b[0m \u001b[0mcost_val\u001b[0m\u001b[1;33m\u001b[0m\u001b[0m\n",
      "\u001b[1;32m~\\Anaconda3\\lib\\site-packages\\tensorflow\\python\\client\\session.py\u001b[0m in \u001b[0;36mrun\u001b[1;34m(self, fetches, feed_dict, options, run_metadata)\u001b[0m\n\u001b[0;32m    898\u001b[0m     \u001b[1;32mtry\u001b[0m\u001b[1;33m:\u001b[0m\u001b[1;33m\u001b[0m\u001b[0m\n\u001b[0;32m    899\u001b[0m       result = self._run(None, fetches, feed_dict, options_ptr,\n\u001b[1;32m--> 900\u001b[1;33m                          run_metadata_ptr)\n\u001b[0m\u001b[0;32m    901\u001b[0m       \u001b[1;32mif\u001b[0m \u001b[0mrun_metadata\u001b[0m\u001b[1;33m:\u001b[0m\u001b[1;33m\u001b[0m\u001b[0m\n\u001b[0;32m    902\u001b[0m         \u001b[0mproto_data\u001b[0m \u001b[1;33m=\u001b[0m \u001b[0mtf_session\u001b[0m\u001b[1;33m.\u001b[0m\u001b[0mTF_GetBuffer\u001b[0m\u001b[1;33m(\u001b[0m\u001b[0mrun_metadata_ptr\u001b[0m\u001b[1;33m)\u001b[0m\u001b[1;33m\u001b[0m\u001b[0m\n",
      "\u001b[1;32m~\\Anaconda3\\lib\\site-packages\\tensorflow\\python\\client\\session.py\u001b[0m in \u001b[0;36m_run\u001b[1;34m(self, handle, fetches, feed_dict, options, run_metadata)\u001b[0m\n\u001b[0;32m   1109\u001b[0m                              \u001b[1;34m'which has shape %r'\u001b[0m \u001b[1;33m%\u001b[0m\u001b[1;33m\u001b[0m\u001b[0m\n\u001b[0;32m   1110\u001b[0m                              (np_val.shape, subfeed_t.name,\n\u001b[1;32m-> 1111\u001b[1;33m                               str(subfeed_t.get_shape())))\n\u001b[0m\u001b[0;32m   1112\u001b[0m           \u001b[1;32mif\u001b[0m \u001b[1;32mnot\u001b[0m \u001b[0mself\u001b[0m\u001b[1;33m.\u001b[0m\u001b[0mgraph\u001b[0m\u001b[1;33m.\u001b[0m\u001b[0mis_feedable\u001b[0m\u001b[1;33m(\u001b[0m\u001b[0msubfeed_t\u001b[0m\u001b[1;33m)\u001b[0m\u001b[1;33m:\u001b[0m\u001b[1;33m\u001b[0m\u001b[0m\n\u001b[0;32m   1113\u001b[0m             \u001b[1;32mraise\u001b[0m \u001b[0mValueError\u001b[0m\u001b[1;33m(\u001b[0m\u001b[1;34m'Tensor %s may not be fed.'\u001b[0m \u001b[1;33m%\u001b[0m \u001b[0msubfeed_t\u001b[0m\u001b[1;33m)\u001b[0m\u001b[1;33m\u001b[0m\u001b[0m\n",
      "\u001b[1;31mValueError\u001b[0m: Cannot feed value of shape (1000, 1) for Tensor 'one_hot:0', which has shape '(?, 1, 100)'"
     ]
    }
   ],
   "source": [
    "with tf.Session() as sess:\n",
    "    sess.run(tf.global_variables_initializer())\n",
    "    total_cost = 0\n",
    "    for i in range(total_batch):\n",
    "        try:\n",
    "            batch_xs,batch_ys = next(iter_train)\n",
    "            batch_xs = batch_xs.reshape((batch_size,n_step,n_input))\n",
    "            _,cost_val = sess.run([optimizer,cost],\n",
    "            feed_dict = {X:batch_xs,Y:batch_ys})\n",
    "\n",
    "            total_cost += cost_val\n",
    "    \n",
    "            \n",
    "            #value = sess.run(next_element)\n",
    "            #print(f\"{value[1].shape}\", end=\" \")\n",
    "        except tf.errors.OutOfRangeError:\n",
    "            print(\"End of Dataset\")\n",
    "        print('Epoch:','%04d' % (epoch+1),\n",
    "        'Avg.cost = ',':.3f'.format(total_cost / total_batch))"
   ]
  },
  {
   "cell_type": "code",
   "execution_count": 5,
   "metadata": {},
   "outputs": [],
   "source": [
    "## Network\n",
    "learning_rate = 0.001\n",
    "n_input = 6*30\n",
    "n_step  = 500\n",
    "n_class = 100\n",
    "total_batch = 6\n",
    "n_hidden = 128\n",
    "batch_size = 1000\n",
    "\n",
    "X = tf.placeholder(tf.float32,[None,n_step,n_input])\n",
    "Y = tf.placeholder(tf.int32,[None])\n",
    "\n",
    "Y = tf.one_hot(Y,depth=n_class)\n",
    "\n",
    "W = tf.Variable(tf.random_normal([n_hidden,n_class]))\n",
    "b = tf.Variable(tf.random_normal([n_class]))\n",
    "\n",
    "cell = tf.nn.rnn_cell.BasicRNNCell(n_hidden)\n",
    "\n",
    "outputs, states = tf.nn.dynamic_rnn(cell,X,dtype=tf.float32)\n",
    "\n",
    "outputs = tf.transpose(outputs,[1,0,2])\n",
    "outputs = outputs[-1]\n",
    "\n",
    "model = tf.matmul(outputs,W) + b\n",
    "\n",
    "cost = tf.reduce_mean(tf.nn.softmax_cross_entropy_with_logits(\n",
    "    logits=model,labels=Y))\n",
    "\n",
    "optimizer = tf.train.AdamOptimizer(learning_rate).minimize(cost)"
   ]
  },
  {
   "cell_type": "code",
   "execution_count": 4,
   "metadata": {},
   "outputs": [],
   "source": [
    "tf.reset_default_graph()"
   ]
  },
  {
   "cell_type": "code",
   "execution_count": 6,
   "metadata": {},
   "outputs": [
    {
     "ename": "ValueError",
     "evalue": "Cannot feed value of shape (1000, 1) for Tensor 'one_hot:0', which has shape '(?, 100)'",
     "output_type": "error",
     "traceback": [
      "\u001b[1;31m---------------------------------------------------------------------------\u001b[0m",
      "\u001b[1;31mValueError\u001b[0m                                Traceback (most recent call last)",
      "\u001b[1;32m<ipython-input-6-5d9455034b19>\u001b[0m in \u001b[0;36m<module>\u001b[1;34m()\u001b[0m\n\u001b[0;32m      7\u001b[0m             \u001b[0mbatch_xs\u001b[0m \u001b[1;33m=\u001b[0m \u001b[0mbatch_xs\u001b[0m\u001b[1;33m.\u001b[0m\u001b[0mreshape\u001b[0m\u001b[1;33m(\u001b[0m\u001b[1;33m(\u001b[0m\u001b[0mbatch_size\u001b[0m\u001b[1;33m,\u001b[0m\u001b[0mn_step\u001b[0m\u001b[1;33m,\u001b[0m\u001b[0mn_input\u001b[0m\u001b[1;33m)\u001b[0m\u001b[1;33m)\u001b[0m\u001b[1;33m\u001b[0m\u001b[0m\n\u001b[0;32m      8\u001b[0m             _,cost_val = sess.run([optimizer,cost],\n\u001b[1;32m----> 9\u001b[1;33m             feed_dict = {X:batch_xs,Y:batch_ys})\n\u001b[0m\u001b[0;32m     10\u001b[0m \u001b[1;33m\u001b[0m\u001b[0m\n\u001b[0;32m     11\u001b[0m             \u001b[0mtotal_cost\u001b[0m \u001b[1;33m+=\u001b[0m \u001b[0mcost_val\u001b[0m\u001b[1;33m\u001b[0m\u001b[0m\n",
      "\u001b[1;32m~\\Anaconda3\\lib\\site-packages\\tensorflow\\python\\client\\session.py\u001b[0m in \u001b[0;36mrun\u001b[1;34m(self, fetches, feed_dict, options, run_metadata)\u001b[0m\n\u001b[0;32m    898\u001b[0m     \u001b[1;32mtry\u001b[0m\u001b[1;33m:\u001b[0m\u001b[1;33m\u001b[0m\u001b[0m\n\u001b[0;32m    899\u001b[0m       result = self._run(None, fetches, feed_dict, options_ptr,\n\u001b[1;32m--> 900\u001b[1;33m                          run_metadata_ptr)\n\u001b[0m\u001b[0;32m    901\u001b[0m       \u001b[1;32mif\u001b[0m \u001b[0mrun_metadata\u001b[0m\u001b[1;33m:\u001b[0m\u001b[1;33m\u001b[0m\u001b[0m\n\u001b[0;32m    902\u001b[0m         \u001b[0mproto_data\u001b[0m \u001b[1;33m=\u001b[0m \u001b[0mtf_session\u001b[0m\u001b[1;33m.\u001b[0m\u001b[0mTF_GetBuffer\u001b[0m\u001b[1;33m(\u001b[0m\u001b[0mrun_metadata_ptr\u001b[0m\u001b[1;33m)\u001b[0m\u001b[1;33m\u001b[0m\u001b[0m\n",
      "\u001b[1;32m~\\Anaconda3\\lib\\site-packages\\tensorflow\\python\\client\\session.py\u001b[0m in \u001b[0;36m_run\u001b[1;34m(self, handle, fetches, feed_dict, options, run_metadata)\u001b[0m\n\u001b[0;32m   1109\u001b[0m                              \u001b[1;34m'which has shape %r'\u001b[0m \u001b[1;33m%\u001b[0m\u001b[1;33m\u001b[0m\u001b[0m\n\u001b[0;32m   1110\u001b[0m                              (np_val.shape, subfeed_t.name,\n\u001b[1;32m-> 1111\u001b[1;33m                               str(subfeed_t.get_shape())))\n\u001b[0m\u001b[0;32m   1112\u001b[0m           \u001b[1;32mif\u001b[0m \u001b[1;32mnot\u001b[0m \u001b[0mself\u001b[0m\u001b[1;33m.\u001b[0m\u001b[0mgraph\u001b[0m\u001b[1;33m.\u001b[0m\u001b[0mis_feedable\u001b[0m\u001b[1;33m(\u001b[0m\u001b[0msubfeed_t\u001b[0m\u001b[1;33m)\u001b[0m\u001b[1;33m:\u001b[0m\u001b[1;33m\u001b[0m\u001b[0m\n\u001b[0;32m   1113\u001b[0m             \u001b[1;32mraise\u001b[0m \u001b[0mValueError\u001b[0m\u001b[1;33m(\u001b[0m\u001b[1;34m'Tensor %s may not be fed.'\u001b[0m \u001b[1;33m%\u001b[0m \u001b[0msubfeed_t\u001b[0m\u001b[1;33m)\u001b[0m\u001b[1;33m\u001b[0m\u001b[0m\n",
      "\u001b[1;31mValueError\u001b[0m: Cannot feed value of shape (1000, 1) for Tensor 'one_hot:0', which has shape '(?, 100)'"
     ]
    }
   ],
   "source": [
    "with tf.Session() as sess:\n",
    "    sess.run(tf.global_variables_initializer())\n",
    "    total_cost = 0\n",
    "    for i in range(total_batch):\n",
    "        try:\n",
    "            batch_xs,batch_ys = next(iter_train)\n",
    "            batch_xs = batch_xs.reshape((batch_size,n_step,n_input))\n",
    "            _,cost_val = sess.run([optimizer,cost],\n",
    "            feed_dict = {X:batch_xs,Y:batch_ys})\n",
    "\n",
    "            total_cost += cost_val\n",
    "    \n",
    "            \n",
    "            #value = sess.run(next_element)\n",
    "            #print(f\"{value[1].shape}\", end=\" \")\n",
    "        except tf.errors.OutOfRangeError:\n",
    "            print(\"End of Dataset\")\n",
    "        print('Epoch:','%04d' % (epoch+1),\n",
    "        'Avg.cost = ',':.3f'.format(total_cost / total_batch))"
   ]
  },
  {
   "cell_type": "code",
   "execution_count": 7,
   "metadata": {},
   "outputs": [
    {
     "ename": "AttributeError",
     "evalue": "'Tensor' object has no attribute 'T'",
     "output_type": "error",
     "traceback": [
      "\u001b[1;31m---------------------------------------------------------------------------\u001b[0m",
      "\u001b[1;31mAttributeError\u001b[0m                            Traceback (most recent call last)",
      "\u001b[1;32m<ipython-input-7-8eac90b57069>\u001b[0m in \u001b[0;36m<module>\u001b[1;34m()\u001b[0m\n\u001b[0;32m     12\u001b[0m \u001b[0mY\u001b[0m \u001b[1;33m=\u001b[0m \u001b[0mtf\u001b[0m\u001b[1;33m.\u001b[0m\u001b[0mplaceholder\u001b[0m\u001b[1;33m(\u001b[0m\u001b[0mtf\u001b[0m\u001b[1;33m.\u001b[0m\u001b[0mint32\u001b[0m\u001b[1;33m,\u001b[0m\u001b[1;33m[\u001b[0m\u001b[1;32mNone\u001b[0m\u001b[1;33m]\u001b[0m\u001b[1;33m)\u001b[0m\u001b[1;33m\u001b[0m\u001b[0m\n\u001b[0;32m     13\u001b[0m \u001b[1;33m\u001b[0m\u001b[0m\n\u001b[1;32m---> 14\u001b[1;33m \u001b[0mY\u001b[0m \u001b[1;33m=\u001b[0m \u001b[0mtf\u001b[0m\u001b[1;33m.\u001b[0m\u001b[0mone_hot\u001b[0m\u001b[1;33m(\u001b[0m\u001b[0mY\u001b[0m\u001b[1;33m.\u001b[0m\u001b[0mT\u001b[0m\u001b[1;33m,\u001b[0m\u001b[0mdepth\u001b[0m\u001b[1;33m=\u001b[0m\u001b[0mn_class\u001b[0m\u001b[1;33m)\u001b[0m\u001b[1;33m\u001b[0m\u001b[0m\n\u001b[0m\u001b[0;32m     15\u001b[0m \u001b[1;33m\u001b[0m\u001b[0m\n\u001b[0;32m     16\u001b[0m \u001b[0mW\u001b[0m \u001b[1;33m=\u001b[0m \u001b[0mtf\u001b[0m\u001b[1;33m.\u001b[0m\u001b[0mVariable\u001b[0m\u001b[1;33m(\u001b[0m\u001b[0mtf\u001b[0m\u001b[1;33m.\u001b[0m\u001b[0mrandom_normal\u001b[0m\u001b[1;33m(\u001b[0m\u001b[1;33m[\u001b[0m\u001b[0mn_hidden\u001b[0m\u001b[1;33m,\u001b[0m\u001b[0mn_class\u001b[0m\u001b[1;33m]\u001b[0m\u001b[1;33m)\u001b[0m\u001b[1;33m)\u001b[0m\u001b[1;33m\u001b[0m\u001b[0m\n",
      "\u001b[1;31mAttributeError\u001b[0m: 'Tensor' object has no attribute 'T'"
     ]
    }
   ],
   "source": [
    "tf.reset_default_graph()\n",
    "## Network\n",
    "learning_rate = 0.001\n",
    "n_input = 6*30\n",
    "n_step  = 500\n",
    "n_class = 100\n",
    "total_batch = 6\n",
    "n_hidden = 128\n",
    "batch_size = 1000\n",
    "\n",
    "X = tf.placeholder(tf.float32,[None,n_step,n_input])\n",
    "Y = tf.placeholder(tf.int32,[None])\n",
    "\n",
    "Y = tf.one_hot(Y.T,depth=n_class)\n",
    "\n",
    "W = tf.Variable(tf.random_normal([n_hidden,n_class]))\n",
    "b = tf.Variable(tf.random_normal([n_class]))\n",
    "\n",
    "cell = tf.nn.rnn_cell.BasicRNNCell(n_hidden)\n",
    "\n",
    "outputs, states = tf.nn.dynamic_rnn(cell,X,dtype=tf.float32)\n",
    "\n",
    "outputs = tf.transpose(outputs,[1,0,2])\n",
    "outputs = outputs[-1]\n",
    "\n",
    "model = tf.matmul(outputs,W) + b\n",
    "\n",
    "cost = tf.reduce_mean(tf.nn.softmax_cross_entropy_with_logits(\n",
    "    logits=model,labels=Y))\n",
    "\n",
    "optimizer = tf.train.AdamOptimizer(learning_rate).minimize(cost)"
   ]
  },
  {
   "cell_type": "code",
   "execution_count": 8,
   "metadata": {},
   "outputs": [],
   "source": [
    "tf.reset_default_graph()\n",
    "## Network\n",
    "learning_rate = 0.001\n",
    "n_input = 6*30\n",
    "n_step  = 500\n",
    "n_class = 100\n",
    "total_batch = 6\n",
    "n_hidden = 128\n",
    "batch_size = 1000\n",
    "\n",
    "X = tf.placeholder(tf.float32,[None,n_step,n_input])\n",
    "Y = tf.placeholder(tf.int32,[None])\n",
    "Y = tf.transpose(Y)\n",
    "Y = tf.one_hot(Y,depth=n_class)\n",
    "\n",
    "W = tf.Variable(tf.random_normal([n_hidden,n_class]))\n",
    "b = tf.Variable(tf.random_normal([n_class]))\n",
    "\n",
    "cell = tf.nn.rnn_cell.BasicRNNCell(n_hidden)\n",
    "\n",
    "outputs, states = tf.nn.dynamic_rnn(cell,X,dtype=tf.float32)\n",
    "\n",
    "outputs = tf.transpose(outputs,[1,0,2])\n",
    "outputs = outputs[-1]\n",
    "\n",
    "model = tf.matmul(outputs,W) + b\n",
    "\n",
    "cost = tf.reduce_mean(tf.nn.softmax_cross_entropy_with_logits(\n",
    "    logits=model,labels=Y))\n",
    "\n",
    "optimizer = tf.train.AdamOptimizer(learning_rate).minimize(cost)"
   ]
  },
  {
   "cell_type": "code",
   "execution_count": 9,
   "metadata": {},
   "outputs": [
    {
     "ename": "StopIteration",
     "evalue": "",
     "output_type": "error",
     "traceback": [
      "\u001b[1;31m---------------------------------------------------------------------------\u001b[0m",
      "\u001b[1;31mStopIteration\u001b[0m                             Traceback (most recent call last)",
      "\u001b[1;32m<ipython-input-9-5d9455034b19>\u001b[0m in \u001b[0;36m<module>\u001b[1;34m()\u001b[0m\n\u001b[0;32m      4\u001b[0m     \u001b[1;32mfor\u001b[0m \u001b[0mi\u001b[0m \u001b[1;32min\u001b[0m \u001b[0mrange\u001b[0m\u001b[1;33m(\u001b[0m\u001b[0mtotal_batch\u001b[0m\u001b[1;33m)\u001b[0m\u001b[1;33m:\u001b[0m\u001b[1;33m\u001b[0m\u001b[0m\n\u001b[0;32m      5\u001b[0m         \u001b[1;32mtry\u001b[0m\u001b[1;33m:\u001b[0m\u001b[1;33m\u001b[0m\u001b[0m\n\u001b[1;32m----> 6\u001b[1;33m             \u001b[0mbatch_xs\u001b[0m\u001b[1;33m,\u001b[0m\u001b[0mbatch_ys\u001b[0m \u001b[1;33m=\u001b[0m \u001b[0mnext\u001b[0m\u001b[1;33m(\u001b[0m\u001b[0miter_train\u001b[0m\u001b[1;33m)\u001b[0m\u001b[1;33m\u001b[0m\u001b[0m\n\u001b[0m\u001b[0;32m      7\u001b[0m             \u001b[0mbatch_xs\u001b[0m \u001b[1;33m=\u001b[0m \u001b[0mbatch_xs\u001b[0m\u001b[1;33m.\u001b[0m\u001b[0mreshape\u001b[0m\u001b[1;33m(\u001b[0m\u001b[1;33m(\u001b[0m\u001b[0mbatch_size\u001b[0m\u001b[1;33m,\u001b[0m\u001b[0mn_step\u001b[0m\u001b[1;33m,\u001b[0m\u001b[0mn_input\u001b[0m\u001b[1;33m)\u001b[0m\u001b[1;33m)\u001b[0m\u001b[1;33m\u001b[0m\u001b[0m\n\u001b[0;32m      8\u001b[0m             _,cost_val = sess.run([optimizer,cost],\n",
      "\u001b[1;31mStopIteration\u001b[0m: "
     ]
    }
   ],
   "source": [
    "with tf.Session() as sess:\n",
    "    sess.run(tf.global_variables_initializer())\n",
    "    total_cost = 0\n",
    "    for i in range(total_batch):\n",
    "        try:\n",
    "            batch_xs,batch_ys = next(iter_train)\n",
    "            batch_xs = batch_xs.reshape((batch_size,n_step,n_input))\n",
    "            _,cost_val = sess.run([optimizer,cost],\n",
    "            feed_dict = {X:batch_xs,Y:batch_ys})\n",
    "\n",
    "            total_cost += cost_val\n",
    "    \n",
    "            \n",
    "            #value = sess.run(next_element)\n",
    "            #print(f\"{value[1].shape}\", end=\" \")\n",
    "        except tf.errors.OutOfRangeError:\n",
    "            print(\"End of Dataset\")\n",
    "        print('Epoch:','%04d' % (epoch+1),\n",
    "        'Avg.cost = ',':.3f'.format(total_cost / total_batch))"
   ]
  },
  {
   "cell_type": "code",
   "execution_count": 12,
   "metadata": {},
   "outputs": [
    {
     "ename": "IndexError",
     "evalue": "index 101 is out of bounds for axis 0 with size 101",
     "output_type": "error",
     "traceback": [
      "\u001b[1;31m---------------------------------------------------------------------------\u001b[0m",
      "\u001b[1;31mIndexError\u001b[0m                                Traceback (most recent call last)",
      "\u001b[1;32m<ipython-input-12-cfa896507037>\u001b[0m in \u001b[0;36m<module>\u001b[1;34m()\u001b[0m\n\u001b[1;32m----> 1\u001b[1;33m \u001b[0ma\u001b[0m \u001b[1;33m=\u001b[0m \u001b[0mnp\u001b[0m\u001b[1;33m.\u001b[0m\u001b[0meye\u001b[0m\u001b[1;33m(\u001b[0m\u001b[1;36m101\u001b[0m\u001b[1;33m)\u001b[0m\u001b[1;33m[\u001b[0m\u001b[0mbatch_ys\u001b[0m\u001b[1;33m]\u001b[0m\u001b[1;33m\u001b[0m\u001b[0m\n\u001b[0m",
      "\u001b[1;31mIndexError\u001b[0m: index 101 is out of bounds for axis 0 with size 101"
     ]
    }
   ],
   "source": [
    "a = np.eye(101)[batch_ys]"
   ]
  },
  {
   "cell_type": "code",
   "execution_count": 22,
   "metadata": {},
   "outputs": [
    {
     "data": {
      "text/plain": [
       "100"
      ]
     },
     "execution_count": 22,
     "metadata": {},
     "output_type": "execute_result"
    }
   ],
   "source": [
    "len(np.unique(batch_ys))"
   ]
  },
  {
   "cell_type": "code",
   "execution_count": 34,
   "metadata": {},
   "outputs": [
    {
     "data": {
      "text/plain": [
       "(1000, 104)"
      ]
     },
     "execution_count": 34,
     "metadata": {},
     "output_type": "execute_result"
    }
   ],
   "source": [
    "np.eye(104)[batch_ys].squeeze(1).shape"
   ]
  },
  {
   "cell_type": "code",
   "execution_count": 29,
   "metadata": {},
   "outputs": [
    {
     "data": {
      "text/plain": [
       "array([  1,   2,   3,   4,   5,   6,   7,   8,   9,  10,  11,  12,  13,\n",
       "        14,  15,  16,  17,  18,  19,  20,  21,  22,  23,  24,  25,  26,\n",
       "        27,  28,  29,  30,  31,  32,  33,  34,  35,  36,  37,  38,  39,\n",
       "        40,  41,  42,  43,  44,  45,  46,  47,  48,  49,  50,  51,  52,\n",
       "        54,  55,  57,  58,  59,  60,  61,  62,  63,  64,  65,  66,  67,\n",
       "        68,  69,  70,  71,  72,  73,  74,  75,  76,  77,  78,  79,  80,\n",
       "        81,  82,  83,  84,  85,  86,  87,  88,  89,  90,  91,  92,  93,\n",
       "        94,  95,  97,  98,  99, 100, 101, 102, 103])"
      ]
     },
     "execution_count": 29,
     "metadata": {},
     "output_type": "execute_result"
    }
   ],
   "source": [
    "np.unique(batch_ys.T)"
   ]
  },
  {
   "cell_type": "code",
   "execution_count": 35,
   "metadata": {},
   "outputs": [
    {
     "name": "stdout",
     "output_type": "stream",
     "text": [
      "22.100645065307617\n",
      "42.76255798339844\n"
     ]
    },
    {
     "ename": "StopIteration",
     "evalue": "",
     "output_type": "error",
     "traceback": [
      "\u001b[1;31m---------------------------------------------------------------------------\u001b[0m",
      "\u001b[1;31mStopIteration\u001b[0m                             Traceback (most recent call last)",
      "\u001b[1;32m<ipython-input-35-e3e918c8a56f>\u001b[0m in \u001b[0;36m<module>\u001b[1;34m()\u001b[0m\n\u001b[0;32m     66\u001b[0m     \u001b[1;32mfor\u001b[0m \u001b[0mi\u001b[0m \u001b[1;32min\u001b[0m \u001b[0mrange\u001b[0m\u001b[1;33m(\u001b[0m\u001b[0mtotal_batch\u001b[0m\u001b[1;33m)\u001b[0m\u001b[1;33m:\u001b[0m\u001b[1;33m\u001b[0m\u001b[0m\n\u001b[0;32m     67\u001b[0m         \u001b[1;32mtry\u001b[0m\u001b[1;33m:\u001b[0m\u001b[1;33m\u001b[0m\u001b[0m\n\u001b[1;32m---> 68\u001b[1;33m             \u001b[0mbatch_xs\u001b[0m\u001b[1;33m,\u001b[0m\u001b[0mbatch_ys\u001b[0m \u001b[1;33m=\u001b[0m \u001b[0mnext\u001b[0m\u001b[1;33m(\u001b[0m\u001b[0miter_train\u001b[0m\u001b[1;33m)\u001b[0m\u001b[1;33m\u001b[0m\u001b[0m\n\u001b[0m\u001b[0;32m     69\u001b[0m             \u001b[0mbatch_ys\u001b[0m \u001b[1;33m=\u001b[0m \u001b[0mnp\u001b[0m\u001b[1;33m.\u001b[0m\u001b[0meye\u001b[0m\u001b[1;33m(\u001b[0m\u001b[0mn_class\u001b[0m\u001b[1;33m)\u001b[0m\u001b[1;33m[\u001b[0m\u001b[0mbatch_ys\u001b[0m\u001b[1;33m]\u001b[0m\u001b[1;33m.\u001b[0m\u001b[0msqueeze\u001b[0m\u001b[1;33m(\u001b[0m\u001b[1;36m1\u001b[0m\u001b[1;33m)\u001b[0m\u001b[1;33m\u001b[0m\u001b[0m\n\u001b[0;32m     70\u001b[0m             \u001b[0mbatch_xs\u001b[0m \u001b[1;33m=\u001b[0m \u001b[0mbatch_xs\u001b[0m\u001b[1;33m.\u001b[0m\u001b[0mreshape\u001b[0m\u001b[1;33m(\u001b[0m\u001b[1;33m(\u001b[0m\u001b[0mbatch_size\u001b[0m\u001b[1;33m,\u001b[0m\u001b[0mn_step\u001b[0m\u001b[1;33m,\u001b[0m\u001b[0mn_input\u001b[0m\u001b[1;33m)\u001b[0m\u001b[1;33m)\u001b[0m\u001b[1;33m\u001b[0m\u001b[0m\n",
      "\u001b[1;31mStopIteration\u001b[0m: "
     ]
    }
   ],
   "source": [
    "import numpy as np\n",
    "import tensorflow as tf\n",
    "import os\n",
    "from sklearn.model_selection import train_test_split\n",
    "\n",
    "\n",
    "# For Windows\n",
    "file_path = 'D:\\\\Matlab_Drive\\\\Data\\\\WIFI\\\\180_100_DCout'\n",
    "\n",
    "# For Linux\n",
    "# file_path = '/home/hero/Matlab_Drive/Data/ORLDB'\n",
    "\n",
    "file_list = os.listdir(file_path)\n",
    "file_list_data = [os.path.join(file_path,s) for s in file_list if not \"_idx.npy\" in s]\n",
    "file_list_idx = [os.path.join(file_path,s) for s in file_list if \"_idx.npy\" in s]\n",
    "\n",
    "x_train,x_test,y_train,y_test = train_test_split(file_list_data,file_list_idx,test_size=0.2,random_state=33)\n",
    "data_train = (x_train,y_train)\n",
    "data_test = (x_test,y_test)\n",
    "\n",
    "def gen_readnpy(files_data):\n",
    "    for i in range(len(files_data)):\n",
    "        data_read = np.load(files_data[0][i]).astype('float32')\n",
    "        label_read = np.load(files_data[1][i]).astype('int32')\n",
    "\n",
    "        yield data_read,label_read\n",
    "\n",
    "iter_train = gen_readnpy(data_train)\n",
    "iter_test = gen_readnpy(data_test)\n",
    "\n",
    "tf.reset_default_graph()\n",
    "## Network\n",
    "learning_rate = 0.001\n",
    "n_input = 6*30\n",
    "n_step  = 500\n",
    "n_class = 104\n",
    "total_batch = 6\n",
    "n_hidden = 128\n",
    "batch_size = 1000\n",
    "\n",
    "X = tf.placeholder(tf.float32,[None,n_step,n_input])\n",
    "Y = tf.placeholder(tf.int32,[None,n_class])\n",
    "\n",
    "W = tf.Variable(tf.random_normal([n_hidden,n_class]))\n",
    "b = tf.Variable(tf.random_normal([n_class]))\n",
    "\n",
    "cell = tf.nn.rnn_cell.BasicRNNCell(n_hidden)\n",
    "\n",
    "outputs, states = tf.nn.dynamic_rnn(cell,X,dtype=tf.float32)\n",
    "\n",
    "outputs = tf.transpose(outputs,[1,0,2])\n",
    "outputs = outputs[-1]\n",
    "\n",
    "model = tf.matmul(outputs,W) + b\n",
    "\n",
    "cost = tf.reduce_mean(tf.nn.softmax_cross_entropy_with_logits(\n",
    "    logits=model,labels=Y))\n",
    "\n",
    "optimizer = tf.train.AdamOptimizer(learning_rate).minimize(cost)\n",
    "\n",
    "#tf.reset_default_graph()\n",
    "\n",
    "with tf.Session() as sess:\n",
    "    sess.run(tf.global_variables_initializer())\n",
    "    total_cost = 0\n",
    "    for i in range(total_batch):\n",
    "        try:\n",
    "            batch_xs,batch_ys = next(iter_train)\n",
    "            batch_ys = np.eye(n_class)[batch_ys].squeeze(1)\n",
    "            batch_xs = batch_xs.reshape((batch_size,n_step,n_input))\n",
    "            _,cost_val = sess.run([optimizer,cost],\n",
    "            feed_dict = {X:batch_xs,Y:batch_ys})\n",
    "\n",
    "            total_cost += cost_val\n",
    "            print(total_cost)\n",
    "            \n",
    "            #value = sess.run(next_element)\n",
    "            #print(f\"{value[1].shape}\", end=\" \")\n",
    "        except tf.errors.OutOfRangeError:\n",
    "            print(\"End of Dataset\")\n",
    "        #print('Epoch:','%04d' % (epoch+1),\n",
    "        #'Avg.cost = ',':.3f'.format(total_cost / total_batch))"
   ]
  },
  {
   "cell_type": "code",
   "execution_count": 38,
   "metadata": {},
   "outputs": [
    {
     "ename": "StopIteration",
     "evalue": "",
     "output_type": "error",
     "traceback": [
      "\u001b[1;31m---------------------------------------------------------------------------\u001b[0m",
      "\u001b[1;31mStopIteration\u001b[0m                             Traceback (most recent call last)",
      "\u001b[1;32m<ipython-input-38-139d3ae0a1e1>\u001b[0m in \u001b[0;36m<module>\u001b[1;34m()\u001b[0m\n\u001b[1;32m----> 1\u001b[1;33m \u001b[0ma\u001b[0m\u001b[1;33m,\u001b[0m\u001b[0mb\u001b[0m \u001b[1;33m=\u001b[0m \u001b[0mnext\u001b[0m\u001b[1;33m(\u001b[0m\u001b[0miter_train\u001b[0m\u001b[1;33m)\u001b[0m\u001b[1;33m\u001b[0m\u001b[0m\n\u001b[0m",
      "\u001b[1;31mStopIteration\u001b[0m: "
     ]
    }
   ],
   "source": [
    "a,b = next(iter_train)"
   ]
  },
  {
   "cell_type": "code",
   "execution_count": 41,
   "metadata": {},
   "outputs": [
    {
     "data": {
      "text/plain": [
       "6"
      ]
     },
     "execution_count": 41,
     "metadata": {},
     "output_type": "execute_result"
    }
   ],
   "source": [
    "len(data_train[0])"
   ]
  },
  {
   "cell_type": "code",
   "execution_count": null,
   "metadata": {},
   "outputs": [],
   "source": []
  }
 ],
 "metadata": {
  "kernelspec": {
   "display_name": "Python 3",
   "language": "python",
   "name": "python3"
  },
  "language_info": {
   "codemirror_mode": {
    "name": "ipython",
    "version": 3
   },
   "file_extension": ".py",
   "mimetype": "text/x-python",
   "name": "python",
   "nbconvert_exporter": "python",
   "pygments_lexer": "ipython3",
   "version": "3.6.4"
  }
 },
 "nbformat": 4,
 "nbformat_minor": 2
}
