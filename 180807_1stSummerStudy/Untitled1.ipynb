{
 "cells": [
  {
   "cell_type": "code",
   "execution_count": 1,
   "metadata": {},
   "outputs": [
    {
     "ename": "NameError",
     "evalue": "name 'train_set_x_orig' is not defined",
     "output_type": "error",
     "traceback": [
      "\u001b[1;31m---------------------------------------------------------------------------\u001b[0m",
      "\u001b[1;31mNameError\u001b[0m                                 Traceback (most recent call last)",
      "\u001b[1;32m<ipython-input-1-580c92ec9c0e>\u001b[0m in \u001b[0;36m<module>\u001b[1;34m()\u001b[0m\n\u001b[1;32m----> 1\u001b[1;33m \u001b[0mX\u001b[0m \u001b[1;33m=\u001b[0m \u001b[0mtrain_set_x_orig\u001b[0m\u001b[1;33m.\u001b[0m\u001b[0mreshape\u001b[0m\u001b[1;33m(\u001b[0m\u001b[0mtrain_set_x_orig\u001b[0m\u001b[1;33m.\u001b[0m\u001b[0mshape\u001b[0m\u001b[1;33m[\u001b[0m\u001b[1;36m0\u001b[0m\u001b[1;33m]\u001b[0m\u001b[1;33m,\u001b[0m\u001b[1;33m-\u001b[0m\u001b[1;36m1\u001b[0m\u001b[1;33m)\u001b[0m\u001b[1;33m.\u001b[0m\u001b[0mT\u001b[0m\u001b[1;33m/\u001b[0m\u001b[1;36m255\u001b[0m\u001b[1;33m\u001b[0m\u001b[0m\n\u001b[0m\u001b[0;32m      2\u001b[0m \u001b[0mY\u001b[0m \u001b[1;33m=\u001b[0m \u001b[0mtrain_set_y\u001b[0m\u001b[1;33m\u001b[0m\u001b[0m\n\u001b[0;32m      3\u001b[0m \u001b[1;31m#w = np.random.rand(X.shape[0],1)\u001b[0m\u001b[1;33m\u001b[0m\u001b[1;33m\u001b[0m\u001b[0m\n\u001b[0;32m      4\u001b[0m \u001b[1;31m#b = np.random.rand(1)\u001b[0m\u001b[1;33m\u001b[0m\u001b[1;33m\u001b[0m\u001b[0m\n\u001b[0;32m      5\u001b[0m \u001b[0mw\u001b[0m \u001b[1;33m=\u001b[0m \u001b[0mnp\u001b[0m\u001b[1;33m.\u001b[0m\u001b[0mzeros\u001b[0m\u001b[1;33m(\u001b[0m\u001b[1;33m(\u001b[0m\u001b[0mX\u001b[0m\u001b[1;33m.\u001b[0m\u001b[0mshape\u001b[0m\u001b[1;33m[\u001b[0m\u001b[1;36m0\u001b[0m\u001b[1;33m]\u001b[0m\u001b[1;33m,\u001b[0m\u001b[1;36m1\u001b[0m\u001b[1;33m)\u001b[0m\u001b[1;33m)\u001b[0m\u001b[1;33m\u001b[0m\u001b[0m\n",
      "\u001b[1;31mNameError\u001b[0m: name 'train_set_x_orig' is not defined"
     ]
    }
   ],
   "source": [
    "X = train_set_x_orig.reshape(train_set_x_orig.shape[0],-1).T/255\n",
    "Y = train_set_y\n",
    "#w = np.random.rand(X.shape[0],1)\n",
    "#b = np.random.rand(1)\n",
    "w = np.zeros((X.shape[0],1))\n",
    "b = 0\n",
    "\n",
    "m = train_set_x_orig.shape[0]\n",
    "alpha = 0.001\n",
    "\n",
    "import math\n",
    "\n",
    "def sigmoid(x):\n",
    "  return 1 / (1 + 1/np.exp(x))\n",
    "\n",
    "\n",
    "for i in range(X.shape[1]):\n",
    "    \n",
    "    Z = np.dot(w.T,X)+b\n",
    "    A = sigmoid(Z)\n",
    "    cost = -1/m*np.sum(*np.log(A)+(1-Y)*np.log(1-A)) \n",
    "\n",
    "    dz = A-Y\n",
    "    dw = (1/m)*np.dot(X,dz.T)\n",
    "    db = (1/m)*np.sum(dz)\n",
    "\n",
    "    w = w - alpha*dw\n",
    "    b = b - alpha*db\n",
    "    print(cost)\n",
    "# test\n",
    "\n",
    "X_test = test_set_x_orig.reshape(test_set_x_orig.shape[0],-1).T/255\n",
    "y_hat = sigmoid(np.dot(w.T,X_test)+b)"
   ]
  },
  {
   "cell_type": "code",
   "execution_count": 2,
   "metadata": {},
   "outputs": [
    {
     "name": "stderr",
     "output_type": "stream",
     "text": [
      "C:\\Users\\herok\\Anaconda3\\lib\\site-packages\\h5py\\__init__.py:36: FutureWarning: Conversion of the second argument of issubdtype from `float` to `np.floating` is deprecated. In future, it will be treated as `np.float64 == np.dtype(float).type`.\n",
      "  from ._conv import register_converters as _register_converters\n"
     ]
    },
    {
     "name": "stdout",
     "output_type": "stream",
     "text": [
      "1.1475068156638328\n",
      "1.2200981687187042\n",
      "1.2657096789996782\n",
      "1.2898216261487727\n",
      "1.3020581219859422\n",
      "1.3081577031020595\n",
      "1.3111459298165238\n",
      "1.3125695536617719\n",
      "1.313211158386436\n",
      "1.3134649735327237\n",
      "1.3135291307721553\n",
      "1.3135030295404186\n",
      "1.313436433105865\n",
      "1.3133541731147866\n",
      "1.3132685666964794\n",
      "1.3131856534578497\n",
      "1.3131083268747916\n",
      "1.3130379059230084\n",
      "1.3129749236277943\n",
      "1.312919522578694\n",
      "1.3128716532232279\n",
      "1.3128311732181228\n",
      "1.3127978971527012\n",
      "1.3127716213849348\n",
      "1.3127521363999541\n",
      "1.3127392329147125\n",
      "1.312732704849613\n",
      "1.3127323507317616\n",
      "1.3127379743142042\n",
      "1.3127493848042775\n",
      "1.312766396898092\n",
      "1.312788830719842\n",
      "1.3128165117153805\n",
      "1.3128492705247952\n",
      "1.3128869428463523\n",
      "1.3129293692979638\n",
      "1.3129763952792444\n",
      "1.3130278708356482\n",
      "1.3130836505254018\n",
      "1.3131435932895632\n",
      "1.3132075623253354\n",
      "1.3132754249626586\n",
      "1.3133470525440718\n",
      "1.3134223203077922\n",
      "1.3135011072739573\n",
      "1.3135832961339706\n",
      "1.3136687731428827\n",
      "1.313757428014739\n",
      "1.3138491538208337\n",
      "1.3139438468907927\n",
      "1.3140414067164305\n",
      "1.3141417358583047\n",
      "1.3142447398549084\n",
      "1.3143503271344343\n",
      "1.3144584089290463\n",
      "1.3145688991915963\n",
      "1.3146817145147216\n",
      "1.3147967740522686\n",
      "1.3149139994429722\n",
      "1.3150333147363413\n",
      "1.3151546463206882\n",
      "1.3152779228532443\n",
      "1.3154030751923096\n",
      "1.3155300363313758\n",
      "1.315658741335179\n",
      "1.3157891272776159\n",
      "1.3159211331814853\n",
      "1.3160546999599965\n",
      "1.3161897703599996\n",
      "1.3163262889068867\n",
      "1.3164642018511192\n",
      "1.316603457116337\n",
      "1.316744004248999\n",
      "1.316885794369519\n",
      "1.3170287801248488\n",
      "1.317172915642468\n",
      "1.3173181564857466\n",
      "1.3174644596106262\n",
      "1.3176117833236012\n",
      "1.3177600872409436\n",
      "1.317909332249151\n",
      "1.318059480466568\n",
      "1.3182104952061608\n",
      "1.318362340939398\n",
      "1.3185149832612175\n",
      "1.3186683888560347\n",
      "1.318822525464775\n",
      "1.3189773618528877\n",
      "1.3191328677793241\n",
      "1.3192890139664388\n",
      "1.3194457720707984\n",
      "1.3196031146548641\n",
      "1.319761015159522\n",
      "1.3199194478774412\n",
      "1.3200783879272286\n",
      "1.3202378112283606\n",
      "1.3203976944768663\n",
      "1.320558015121744\n",
      "1.3207187513420824\n",
      "1.32087988202487\n",
      "1.3210413867434736\n",
      "1.3212032457367575\n",
      "1.3213654398888381\n",
      "1.3215279507094388\n",
      "1.32169076031484\n",
      "1.3218538514093994\n",
      "1.3220172072676284\n",
      "1.322180811716807\n",
      "1.3223446491201192\n",
      "1.3225087043602977\n",
      "1.3226729628237575\n",
      "1.3228374103852083\n",
      "1.3230020333927268\n",
      "1.3231668186532792\n",
      "1.3233317534186768\n",
      "1.323496825371956\n",
      "1.3236620226141624\n",
      "1.3238273336515392\n",
      "1.3239927473830908\n",
      "1.3241582530885283\n",
      "1.3243238404165736\n",
      "1.3244894993736107\n",
      "1.3246552203126856\n",
      "1.324820993922828\n",
      "1.3249868112186989\n",
      "1.3251526635305488\n",
      "1.3253185424944722\n",
      "1.3254844400429613\n",
      "1.3256503483957374\n",
      "1.3258162600508603\n",
      "1.3259821677761041\n",
      "1.3261480646005905\n",
      "1.326313943806675\n",
      "1.326479798922075\n",
      "1.3266456237122328\n",
      "1.3268114121729122\n",
      "1.3269771585230115\n",
      "1.3271428571975958\n",
      "1.3273085028411387\n",
      "1.327474090300962\n",
      "1.3276396146208795\n",
      "1.3278050710350247\n",
      "1.3279704549618665\n",
      "1.3281357619984073\n",
      "1.3283009879145495\n",
      "1.328466128647635\n",
      "1.3286311802971482\n",
      "1.3287961391195764\n",
      "1.328961001523427\n",
      "1.3291257640643914\n",
      "1.3292904234406566\n",
      "1.329454976488357\n",
      "1.3296194201771616\n",
      "1.3297837516059972\n",
      "1.329947967998895\n",
      "1.3301120667009678\n",
      "1.3302760451745035\n",
      "1.3304399009951793\n",
      "1.3306036318483898\n",
      "1.330767235525681\n",
      "1.3309307099213015\n",
      "1.331094053028846\n",
      "1.3312572629380084\n",
      "1.3314203378314304\n",
      "1.3315832759816442\n",
      "1.3317460757481074\n",
      "1.3319087355743326\n",
      "1.3320712539850943\n",
      "1.3322336295837296\n",
      "1.3323958610495155\n",
      "1.332557947135126\n",
      "1.3327198866641703\n",
      "1.3328816785287976\n",
      "1.3330433216873852\n",
      "1.3332048151622868\n",
      "1.3333661580376575\n",
      "1.3335273494573379\n",
      "1.3336883886228086\n",
      "1.3338492747912034\n",
      "1.334010007273384\n",
      "1.3341705854320751\n",
      "1.334331008680053\n",
      "1.334491276478395\n",
      "1.3346513883347764\n",
      "1.3348113438018228\n",
      "1.3349711424755155\n",
      "1.3351307839936413\n",
      "1.3352902680342906\n",
      "1.3354495943144074\n",
      "1.3356087625883752\n",
      "1.335767772646655\n",
      "1.3359266243144592\n",
      "1.3360853174504703\n",
      "1.336243851945598\n",
      "1.336402227721775\n",
      "1.3365604447307906\n",
      "1.3367185029531607\n",
      "1.3368764023970328\n",
      "1.3370341430971233\n",
      "1.337191725113695\n",
      "1.3373491485315563\n",
      "1.337506413459101\n",
      "1.3376635200273748\n",
      "1.3378204683891692\n",
      "1.3379772587181469\n",
      "1.3381338912079963\n",
      "1.3382903660716072\n",
      "1.3384466835402802\n",
      "1.3386028438629531\n"
     ]
    }
   ],
   "source": [
    "import numpy as np\n",
    "import matplotlib.pyplot as plt\n",
    "import h5py\n",
    "import scipy\n",
    "from PIL import Image\n",
    "from scipy import ndimage\n",
    "#from lr_utils import load_dataset\n",
    "\n",
    "%matplotlib inline\n",
    "\n",
    "#lr_utils.py\n",
    "import h5py\n",
    "    \n",
    "    \n",
    "def load_dataset():\n",
    "    train_dataset = h5py.File('D:\\\\Matlab_Drive\\\\Data\\\\Study_1stsummer\\\\datasets\\\\train_catvnoncat.h5', \"r\")\n",
    "    train_set_x_orig = np.array(train_dataset[\"train_set_x\"][:]) # your train set features\n",
    "    train_set_y_orig = np.array(train_dataset[\"train_set_y\"][:]) # your train set labels\n",
    "\n",
    "    test_dataset = h5py.File('D:\\\\Matlab_Drive\\\\Data\\\\Study_1stsummer\\\\datasets\\\\test_catvnoncat.h5', \"r\")\n",
    "    test_set_x_orig = np.array(test_dataset[\"test_set_x\"][:]) # your test set features\n",
    "    test_set_y_orig = np.array(test_dataset[\"test_set_y\"][:]) # your test set labels\n",
    "\n",
    "    classes = np.array(test_dataset[\"list_classes\"][:]) # the list of classes\n",
    "    \n",
    "    train_set_y_orig = train_set_y_orig.reshape((1, train_set_y_orig.shape[0]))\n",
    "    test_set_y_orig = test_set_y_orig.reshape((1, test_set_y_orig.shape[0]))\n",
    "    \n",
    "    return train_set_x_orig, train_set_y_orig, test_set_x_orig, test_set_y_orig, classes\n",
    "\n",
    "# Loading the data (cat/non-cat)\n",
    "train_set_x_orig, train_set_y, test_set_x_orig, test_set_y, classes = load_dataset()\n",
    "\n",
    "# linear reg\n",
    "\n",
    "X = train_set_x_orig.reshape(train_set_x_orig.shape[0],-1).T/255\n",
    "Y = train_set_y\n",
    "#w = np.random.rand(X.shape[0],1)\n",
    "#b = np.random.rand(1)\n",
    "w = np.zeros((X.shape[0],1))\n",
    "b = 0\n",
    "\n",
    "m = train_set_x_orig.shape[0]\n",
    "alpha = 0.001\n",
    "\n",
    "import math\n",
    "\n",
    "def sigmoid(x):\n",
    "  return 1 / (1 + 1/np.exp(x))\n",
    "\n",
    "\n",
    "for i in range(X.shape[1]):\n",
    "    \n",
    "    Z = np.dot(w.T,X)+b\n",
    "    A = sigmoid(Z)\n",
    "    cost = -1/m*np.sum(*np.log(A)+(1-Y)*np.log(1-A)) \n",
    "\n",
    "    dz = A-Y\n",
    "    dw = (1/m)*np.dot(X,dz.T)\n",
    "    db = (1/m)*np.sum(dz)\n",
    "\n",
    "    w = w - alpha*dw\n",
    "    b = b - alpha*db\n",
    "    print(cost)\n",
    "# test\n",
    "\n",
    "X_test = test_set_x_orig.reshape(test_set_x_orig.shape[0],-1).T/255\n",
    "y_hat = sigmoid(np.dot(w.T,X_test)+b)"
   ]
  },
  {
   "cell_type": "code",
   "execution_count": 4,
   "metadata": {},
   "outputs": [
    {
     "data": {
      "text/plain": [
       "array([[0.47925914, 0.51039884, 0.44051242, 0.47729098, 0.34824711,\n",
       "        0.44024225, 0.27665692, 0.49439408, 0.4867756 , 0.47053695,\n",
       "        0.3730549 , 0.42833054, 0.47480591, 0.51947761, 0.26537358,\n",
       "        0.47937491, 0.28831208, 0.39388552, 0.25830119, 0.26535807,\n",
       "        0.417069  , 0.26694359, 0.21579506, 0.37759005, 0.53421591,\n",
       "        0.49876437, 0.36157545, 0.29349842, 0.38554725, 0.49295567,\n",
       "        0.38176808, 0.39216304, 0.33966924, 0.38739802, 0.42104057,\n",
       "        0.21382008, 0.30390746, 0.4738849 , 0.44408629, 0.24171375,\n",
       "        0.3828537 , 0.52236505, 0.38289365, 0.29273987, 0.49840342,\n",
       "        0.31355932, 0.34512321, 0.64982214, 0.4077697 , 0.27572653]])"
      ]
     },
     "execution_count": 4,
     "metadata": {},
     "output_type": "execute_result"
    }
   ],
   "source": [
    "y_hat"
   ]
  },
  {
   "cell_type": "code",
   "execution_count": 5,
   "metadata": {},
   "outputs": [],
   "source": [
    "X = train_set_x_orig.reshape(train_set_x_orig.shape[0],-1).T/255\n",
    "Y = train_set_y\n",
    "#w = np.random.rand(X.shape[0],1)\n",
    "#b = np.random.rand(1)\n",
    "w = np.zeros((X.shape[0],1))\n",
    "b = 0\n",
    "\n",
    "m = train_set_x_orig.shape[0]\n",
    "alpha = 0.001\n",
    "\n",
    "def sigmoid(x):\n",
    "  return 1 / (1 + 1/np.exp(x))\n",
    "\n",
    "\n",
    "for i in range(100):\n",
    "    \n",
    "    Z = np.dot(w.T,X)+b\n",
    "    A = sigmoid(Z)\n",
    "    cost = -1/m*np.sum(*np.log(A)+(1-Y)*np.log(1-A)) \n",
    "\n",
    "    dz = A-Y\n",
    "    dw = (1/m)*np.dot(X,dz.T)\n",
    "    db = (1/m)*np.sum(dz)\n",
    "\n",
    "    w = w - alpha*dw\n",
    "    b = b - alpha*db\n",
    "# test\n",
    "\n",
    "X_test = test_set_x_orig.reshape(test_set_x_orig.shape[0],-1).T/255\n",
    "y_hat = sigmoid(np.dot(w.T,X_test)+b)"
   ]
  },
  {
   "cell_type": "code",
   "execution_count": 6,
   "metadata": {},
   "outputs": [
    {
     "data": {
      "text/plain": [
       "array([[0.42436487, 0.45132304, 0.37884582, 0.4197221 , 0.31043366,\n",
       "        0.43144166, 0.29690258, 0.4335754 , 0.42299298, 0.43703055,\n",
       "        0.36736158, 0.40412878, 0.44223408, 0.47353636, 0.3050957 ,\n",
       "        0.42592501, 0.32617778, 0.36373068, 0.2783681 , 0.29071973,\n",
       "        0.39529032, 0.31175687, 0.27410818, 0.38759842, 0.47664235,\n",
       "        0.44325587, 0.34604397, 0.33671572, 0.39899861, 0.43291214,\n",
       "        0.3805293 , 0.36256207, 0.30802262, 0.38224756, 0.395692  ,\n",
       "        0.25335083, 0.3210883 , 0.42377344, 0.41601543, 0.28979217,\n",
       "        0.37695918, 0.45229597, 0.3719475 , 0.33061501, 0.45770903,\n",
       "        0.34315193, 0.34552784, 0.55223662, 0.40396006, 0.30270403]])"
      ]
     },
     "execution_count": 6,
     "metadata": {},
     "output_type": "execute_result"
    }
   ],
   "source": [
    "y_hat"
   ]
  },
  {
   "cell_type": "code",
   "execution_count": 18,
   "metadata": {},
   "outputs": [
    {
     "data": {
      "text/plain": [
       "array([[0, 0, 0, 0, 0, 0, 0, 0, 0, 0, 0, 0, 0, 0, 0, 0, 0, 0, 0, 0, 0, 0,\n",
       "        0, 0, 0, 0, 0, 0, 0, 0, 0, 0, 0, 0, 0, 0, 0, 0, 0, 0, 0, 0, 0, 0,\n",
       "        0, 0, 0, 1, 0, 0]])"
      ]
     },
     "execution_count": 18,
     "metadata": {},
     "output_type": "execute_result"
    }
   ],
   "source": [
    "(y_hat >= 0.5)*1"
   ]
  },
  {
   "cell_type": "code",
   "execution_count": 19,
   "metadata": {},
   "outputs": [
    {
     "data": {
      "text/plain": [
       "array([[1, 1, 1, 1, 1, 0, 1, 1, 1, 1, 1, 1, 1, 0, 0, 1, 0, 1, 1, 1, 1, 0,\n",
       "        0, 1, 1, 1, 1, 0, 1, 0, 1, 1, 1, 1, 0, 0, 0, 1, 0, 0, 1, 1, 1, 0,\n",
       "        0, 0, 1, 1, 1, 0]], dtype=int64)"
      ]
     },
     "execution_count": 19,
     "metadata": {},
     "output_type": "execute_result"
    }
   ],
   "source": [
    "test_set_y"
   ]
  },
  {
   "cell_type": "code",
   "execution_count": 24,
   "metadata": {},
   "outputs": [
    {
     "data": {
      "text/plain": [
       "array([[ 0.41829701,  0.33131152, -0.59337761,  0.19881199,  0.30960854,\n",
       "         0.39104353,  0.32258005, -0.5794503 ,  0.33488495,  0.33787394,\n",
       "         0.37553091, -0.6569925 ,  0.39623649, -0.69746722, -0.70707578,\n",
       "         0.33011222,  0.27084668,  0.20540256,  0.32765737, -0.50495778,\n",
       "         0.27837241,  0.30098499,  0.29415984,  0.35291213, -0.62846438,\n",
       "        -0.55467069,  0.27942132, -0.65188752,  0.30727371, -0.70954216,\n",
       "         0.33152945,  0.43657178,  0.44308053,  0.38966321,  0.25188337,\n",
       "         0.45278371,  0.29677783,  0.31413342, -0.51005086,  0.42651804,\n",
       "         0.27038087, -0.67517522, -0.59876319,  0.29855367,  0.27345917,\n",
       "         0.40366736,  0.35709561, -0.55609853,  0.18599984,  0.37564678,\n",
       "        -0.64611198,  0.37238446,  0.30981499,  0.37749163, -0.60566361,\n",
       "         0.26858632, -0.53453862, -0.63251261,  0.38673134, -0.52767906,\n",
       "        -0.50153234, -0.63019295,  0.26347746,  0.32061759,  0.34680428,\n",
       "         0.37991758,  0.42852558,  0.32736275, -0.6331858 ,  0.30460032,\n",
       "         0.37702619, -0.51761281,  0.34518194,  0.46367701,  0.39074627,\n",
       "         0.37243561,  0.2186325 ,  0.32439519,  0.27850258,  0.37283354,\n",
       "         0.20724633,  0.34940544,  0.35042267, -0.52311652, -0.60785664,\n",
       "         0.27014088,  0.32492183,  0.37159457, -0.57545933,  0.36432558,\n",
       "         0.37615596,  0.45162042, -0.74050003, -0.55977374, -0.58717566,\n",
       "         0.27813915,  0.3070715 , -0.59259357,  0.25804875,  0.28184327,\n",
       "         0.38026543,  0.3218266 , -0.71321436,  0.38706505, -0.51320353,\n",
       "         0.34074224, -0.48647071, -0.62548361, -0.58348031, -0.66923618,\n",
       "        -0.62493876, -0.54383951,  0.32759871,  0.31876669,  0.30764324,\n",
       "         0.31033792,  0.42648422, -0.58384759,  0.33114689,  0.48819686,\n",
       "         0.33850805, -0.61064197,  0.42686946,  0.21836544, -0.57746337,\n",
       "         0.22569277, -0.61654906,  0.46226074, -0.65691923, -0.46969736,\n",
       "         0.35652847,  0.34143294,  0.33392147, -0.53914062, -0.5731756 ,\n",
       "        -0.68042028, -0.63023975, -0.62388163,  0.31612173,  0.37785367,\n",
       "         0.34346296,  0.37025967, -0.51322364,  0.29637324, -0.6400671 ,\n",
       "        -0.57507703, -0.63657972,  0.36223574, -0.59023459, -0.63269913,\n",
       "         0.32978752,  0.32206517,  0.28403245, -0.56145787,  0.29503101,\n",
       "         0.40437622, -0.68089908,  0.23522909,  0.28286287,  0.34572593,\n",
       "         0.23452655,  0.34802306, -0.64697578,  0.48295981, -0.64931069,\n",
       "         0.30965991, -0.56470917,  0.42580462,  0.35158309, -0.69531646,\n",
       "        -0.60115717, -0.5512591 ,  0.38141237,  0.29507574, -0.57005322,\n",
       "        -0.60767146,  0.3530837 , -0.58361525,  0.35982789, -0.65007738,\n",
       "         0.2845757 ,  0.30360946,  0.29351971,  0.30880518,  0.21824033,\n",
       "        -0.65542299,  0.29025161,  0.28689779, -0.57216042,  0.27149142,\n",
       "         0.26639381,  0.34755663, -0.61863551,  0.33098012,  0.23268949,\n",
       "         0.51423037,  0.37277531, -0.59804779,  0.36044754,  0.28418974,\n",
       "        -0.5960475 ,  0.33249458,  0.38643997,  0.24885121,  0.340413  ,\n",
       "         0.40721074,  0.36298507,  0.40225897,  0.39289203]])"
      ]
     },
     "execution_count": 24,
     "metadata": {},
     "output_type": "execute_result"
    }
   ],
   "source": [
    "A-Y"
   ]
  },
  {
   "cell_type": "code",
   "execution_count": 25,
   "metadata": {},
   "outputs": [
    {
     "data": {
      "text/plain": [
       "array([[1, 1, 1, 1, 1, 1, 1, 1, 1, 1, 1, 1, 1, 1, 0, 1, 0, 1, 1, 1, 1, 0,\n",
       "        0, 1, 1, 1, 1, 0, 1, 1, 1, 1, 1, 1, 1, 0, 1, 1, 1, 0, 1, 1, 1, 0,\n",
       "        1, 1, 1, 1, 1, 1]])"
      ]
     },
     "execution_count": 25,
     "metadata": {},
     "output_type": "execute_result"
    }
   ],
   "source": [
    "X = train_set_x_orig.reshape(train_set_x_orig.shape[0],-1).T/255\n",
    "Y = train_set_y\n",
    "#w = np.random.rand(X.shape[0],1)\n",
    "#b = np.random.rand(1)\n",
    "w = np.zeros((X.shape[0],1))\n",
    "b = 0\n",
    "\n",
    "m = train_set_x_orig.shape[0]\n",
    "alpha = 0.01\n",
    "\n",
    "def sigmoid(x):\n",
    "  return 1 / (1 + 1/np.exp(x))\n",
    "\n",
    "\n",
    "for i in range(100):\n",
    "    \n",
    "    Z = np.dot(w.T,X)+b\n",
    "    A = sigmoid(Z)\n",
    "    cost = -1/m*np.sum(*np.log(A)+(1-Y)*np.log(1-A)) \n",
    "\n",
    "    dz = A-Y\n",
    "    dw = (1/m)*np.dot(X,dz.T)\n",
    "    db = (1/m)*np.sum(dz)\n",
    "\n",
    "    w = w - alpha*dw\n",
    "    b = b - alpha*db\n",
    "# test\n",
    "\n",
    "X_test = test_set_x_orig.reshape(test_set_x_orig.shape[0],-1).T/255\n",
    "y_hat = sigmoid(np.dot(w.T,X_test)+b)\n",
    "(y_hat >= 0.5)*1"
   ]
  },
  {
   "cell_type": "code",
   "execution_count": 27,
   "metadata": {},
   "outputs": [
    {
     "data": {
      "text/plain": [
       "array([[1, 1, 1, 1, 1, 0, 1, 1, 1, 1, 1, 1, 1, 0, 0, 1, 0, 1, 1, 1, 1, 0,\n",
       "        0, 1, 1, 1, 1, 0, 1, 0, 1, 1, 1, 1, 0, 0, 0, 1, 0, 0, 1, 1, 1, 0,\n",
       "        0, 0, 1, 1, 1, 0]], dtype=int64)"
      ]
     },
     "execution_count": 27,
     "metadata": {},
     "output_type": "execute_result"
    }
   ],
   "source": [
    "test_set_y"
   ]
  },
  {
   "cell_type": "code",
   "execution_count": 32,
   "metadata": {},
   "outputs": [
    {
     "data": {
      "text/plain": [
       "9"
      ]
     },
     "execution_count": 32,
     "metadata": {},
     "output_type": "execute_result"
    }
   ],
   "source": [
    "np.sum((y_hat >= 0.5)*1 - test_set_y)"
   ]
  },
  {
   "cell_type": "code",
   "execution_count": 33,
   "metadata": {},
   "outputs": [
    {
     "data": {
      "text/plain": [
       "6.564820216519541"
      ]
     },
     "execution_count": 33,
     "metadata": {},
     "output_type": "execute_result"
    }
   ],
   "source": [
    "np.sum(y_hat - test_set_y)"
   ]
  },
  {
   "cell_type": "code",
   "execution_count": 36,
   "metadata": {},
   "outputs": [
    {
     "data": {
      "text/plain": [
       "50"
      ]
     },
     "execution_count": 36,
     "metadata": {},
     "output_type": "execute_result"
    }
   ],
   "source": [
    "X_test.shape[1]"
   ]
  },
  {
   "cell_type": "code",
   "execution_count": 37,
   "metadata": {},
   "outputs": [],
   "source": [
    "acc = 1 - np.sum(y_hat - test_set_y) / X_test.shape[1]"
   ]
  },
  {
   "cell_type": "code",
   "execution_count": 38,
   "metadata": {},
   "outputs": [
    {
     "data": {
      "text/plain": [
       "0.8687035956696092"
      ]
     },
     "execution_count": 38,
     "metadata": {},
     "output_type": "execute_result"
    }
   ],
   "source": [
    "acc"
   ]
  },
  {
   "cell_type": "code",
   "execution_count": 40,
   "metadata": {},
   "outputs": [
    {
     "name": "stdout",
     "output_type": "stream",
     "text": [
      "1.6400000000000001\n"
     ]
    }
   ],
   "source": [
    "X = train_set_x_orig.reshape(train_set_x_orig.shape[0],-1).T/255\n",
    "Y = train_set_y\n",
    "#w = np.random.rand(X.shape[0],1)\n",
    "#b = np.random.rand(1)\n",
    "w = np.zeros((X.shape[0],1))\n",
    "b = 0\n",
    "\n",
    "m = train_set_x_orig.shape[0]\n",
    "alpha = 0.001\n",
    "\n",
    "def sigmoid(x):\n",
    "  return 1 / (1 + 1/np.exp(x))\n",
    "\n",
    "\n",
    "for i in range(100):\n",
    "    \n",
    "    Z = np.dot(w.T,X)+b\n",
    "    A = sigmoid(Z)\n",
    "    cost = -1/m*np.sum(*np.log(A)+(1-Y)*np.log(1-A)) \n",
    "\n",
    "    dz = A-Y\n",
    "    dw = (1/m)*np.dot(X,dz.T)\n",
    "    db = (1/m)*np.sum(dz)\n",
    "\n",
    "    w = w - alpha*dw\n",
    "    b = b - alpha*db\n",
    "# test\n",
    "\n",
    "X_test = test_set_x_orig.reshape(test_set_x_orig.shape[0],-1).T/255\n",
    "y_hat = 1*(sigmoid(np.dot(w.T,X_test)+b) >= 0.5)\n",
    "\n",
    "\n",
    "acc = 1 - np.sum(y_hat - test_set_y) / X_test.shape[1]\n",
    "print(acc)"
   ]
  },
  {
   "cell_type": "code",
   "execution_count": 43,
   "metadata": {},
   "outputs": [
    {
     "data": {
      "text/plain": [
       "0.64"
      ]
     },
     "execution_count": 43,
     "metadata": {},
     "output_type": "execute_result"
    }
   ],
   "source": [
    "np.sum(np.abs(y_hat - test_set_y)) / X_test.shape[1]"
   ]
  },
  {
   "cell_type": "code",
   "execution_count": 44,
   "metadata": {},
   "outputs": [
    {
     "data": {
      "text/plain": [
       "-32"
      ]
     },
     "execution_count": 44,
     "metadata": {},
     "output_type": "execute_result"
    }
   ],
   "source": [
    "np.sum(y_hat - test_set_y)"
   ]
  },
  {
   "cell_type": "code",
   "execution_count": 49,
   "metadata": {},
   "outputs": [
    {
     "name": "stdout",
     "output_type": "stream",
     "text": [
      "0.8200000000000001\n"
     ]
    }
   ],
   "source": [
    "X = train_set_x_orig.reshape(train_set_x_orig.shape[0],-1).T/255\n",
    "Y = train_set_y\n",
    "#w = np.random.rand(X.shape[0],1)\n",
    "#b = np.random.rand(1)\n",
    "w = np.zeros((X.shape[0],1))\n",
    "b = 0\n",
    "\n",
    "m = train_set_x_orig.shape[0]\n",
    "alpha = 0.01\n",
    "\n",
    "def sigmoid(x):\n",
    "  return 1 / (1 + 1/np.exp(x))\n",
    "\n",
    "\n",
    "for i in range(100):\n",
    "    \n",
    "    Z = np.dot(w.T,X)+b\n",
    "    A = sigmoid(Z)\n",
    "    cost = -1/m*np.sum(*np.log(A)+(1-Y)*np.log(1-A)) \n",
    "\n",
    "    dz = A-Y\n",
    "    dw = (1/m)*np.dot(X,dz.T)\n",
    "    db = (1/m)*np.sum(dz)\n",
    "\n",
    "    w = w - alpha*dw\n",
    "    b = b - alpha*db\n",
    "# test\n",
    "\n",
    "X_test = test_set_x_orig.reshape(test_set_x_orig.shape[0],-1).T/255\n",
    "y_hat = 1*(sigmoid(np.dot(w.T,X_test)+b) >= 0.5)\n",
    "\n",
    "\n",
    "acc = 1 - np.sum(np.abs(y_hat - test_set_y)) / X_test.shape[1]\n",
    "print(acc)"
   ]
  },
  {
   "cell_type": "code",
   "execution_count": 50,
   "metadata": {},
   "outputs": [
    {
     "data": {
      "text/plain": [
       "2.1067147327681246"
      ]
     },
     "execution_count": 50,
     "metadata": {},
     "output_type": "execute_result"
    }
   ],
   "source": [
    "cost"
   ]
  },
  {
   "cell_type": "code",
   "execution_count": 51,
   "metadata": {},
   "outputs": [],
   "source": [
    "costs = []"
   ]
  },
  {
   "cell_type": "code",
   "execution_count": 52,
   "metadata": {},
   "outputs": [],
   "source": [
    "costs = costs.append(cost)"
   ]
  },
  {
   "cell_type": "code",
   "execution_count": 53,
   "metadata": {},
   "outputs": [
    {
     "ename": "AttributeError",
     "evalue": "'NoneType' object has no attribute 'append'",
     "output_type": "error",
     "traceback": [
      "\u001b[1;31m---------------------------------------------------------------------------\u001b[0m",
      "\u001b[1;31mAttributeError\u001b[0m                            Traceback (most recent call last)",
      "\u001b[1;32m<ipython-input-53-c8818810bc94>\u001b[0m in \u001b[0;36m<module>\u001b[1;34m()\u001b[0m\n\u001b[0;32m     27\u001b[0m     \u001b[0mb\u001b[0m \u001b[1;33m=\u001b[0m \u001b[0mb\u001b[0m \u001b[1;33m-\u001b[0m \u001b[0malpha\u001b[0m\u001b[1;33m*\u001b[0m\u001b[0mdb\u001b[0m\u001b[1;33m\u001b[0m\u001b[0m\n\u001b[0;32m     28\u001b[0m \u001b[1;33m\u001b[0m\u001b[0m\n\u001b[1;32m---> 29\u001b[1;33m     \u001b[0mcosts\u001b[0m \u001b[1;33m=\u001b[0m \u001b[0mcosts\u001b[0m\u001b[1;33m.\u001b[0m\u001b[0mappend\u001b[0m\u001b[1;33m(\u001b[0m\u001b[0mcost\u001b[0m\u001b[1;33m)\u001b[0m\u001b[1;33m\u001b[0m\u001b[0m\n\u001b[0m\u001b[0;32m     30\u001b[0m \u001b[1;31m# test\u001b[0m\u001b[1;33m\u001b[0m\u001b[1;33m\u001b[0m\u001b[0m\n\u001b[0;32m     31\u001b[0m \u001b[1;33m\u001b[0m\u001b[0m\n",
      "\u001b[1;31mAttributeError\u001b[0m: 'NoneType' object has no attribute 'append'"
     ]
    }
   ],
   "source": [
    "X = train_set_x_orig.reshape(train_set_x_orig.shape[0],-1).T/255\n",
    "Y = train_set_y\n",
    "#w = np.random.rand(X.shape[0],1)\n",
    "#b = np.random.rand(1)\n",
    "w = np.zeros((X.shape[0],1))\n",
    "b = 0\n",
    "\n",
    "m = train_set_x_orig.shape[0]\n",
    "alpha = 0.01\n",
    "\n",
    "def sigmoid(x):\n",
    "  return 1 / (1 + 1/np.exp(x))\n",
    "\n",
    "costs = []\n",
    "\n",
    "for i in range(100):\n",
    "    \n",
    "    Z = np.dot(w.T,X)+b\n",
    "    A = sigmoid(Z)\n",
    "    cost = -1/m*np.sum(*np.log(A)+(1-Y)*np.log(1-A)) \n",
    "\n",
    "    dz = A-Y\n",
    "    dw = (1/m)*np.dot(X,dz.T)\n",
    "    db = (1/m)*np.sum(dz)\n",
    "\n",
    "    w = w - alpha*dw\n",
    "    b = b - alpha*db\n",
    "    \n",
    "    costs = costs.append(cost)\n",
    "# test\n",
    "\n",
    "X_test = test_set_x_orig.reshape(test_set_x_orig.shape[0],-1).T/255\n",
    "y_hat = 1*(sigmoid(np.dot(w.T,X_test)+b) >= 0.5)\n",
    "\n",
    "\n",
    "acc = 1 - np.sum(np.abs(y_hat - test_set_y)) / X_test.shape[1]\n",
    "print(acc)"
   ]
  },
  {
   "cell_type": "code",
   "execution_count": 54,
   "metadata": {},
   "outputs": [
    {
     "data": {
      "text/plain": [
       "3.1198354286640515"
      ]
     },
     "execution_count": 54,
     "metadata": {},
     "output_type": "execute_result"
    }
   ],
   "source": [
    "cost"
   ]
  },
  {
   "cell_type": "code",
   "execution_count": 55,
   "metadata": {},
   "outputs": [
    {
     "ename": "AttributeError",
     "evalue": "'NoneType' object has no attribute 'append'",
     "output_type": "error",
     "traceback": [
      "\u001b[1;31m---------------------------------------------------------------------------\u001b[0m",
      "\u001b[1;31mAttributeError\u001b[0m                            Traceback (most recent call last)",
      "\u001b[1;32m<ipython-input-55-19955e451203>\u001b[0m in \u001b[0;36m<module>\u001b[1;34m()\u001b[0m\n\u001b[1;32m----> 1\u001b[1;33m \u001b[0mcosts\u001b[0m\u001b[1;33m.\u001b[0m\u001b[0mappend\u001b[0m\u001b[1;33m(\u001b[0m\u001b[0mcost\u001b[0m\u001b[1;33m)\u001b[0m\u001b[1;33m\u001b[0m\u001b[0m\n\u001b[0m",
      "\u001b[1;31mAttributeError\u001b[0m: 'NoneType' object has no attribute 'append'"
     ]
    }
   ],
   "source": [
    "costs.append(cost)"
   ]
  },
  {
   "cell_type": "code",
   "execution_count": 56,
   "metadata": {},
   "outputs": [],
   "source": [
    "costs = []"
   ]
  },
  {
   "cell_type": "code",
   "execution_count": 57,
   "metadata": {},
   "outputs": [],
   "source": [
    "costs.append(cost)"
   ]
  },
  {
   "cell_type": "code",
   "execution_count": 58,
   "metadata": {},
   "outputs": [
    {
     "ename": "AttributeError",
     "evalue": "'NoneType' object has no attribute 'append'",
     "output_type": "error",
     "traceback": [
      "\u001b[1;31m---------------------------------------------------------------------------\u001b[0m",
      "\u001b[1;31mAttributeError\u001b[0m                            Traceback (most recent call last)",
      "\u001b[1;32m<ipython-input-58-4ae0aacad37a>\u001b[0m in \u001b[0;36m<module>\u001b[1;34m()\u001b[0m\n\u001b[0;32m     22\u001b[0m     \u001b[0mb\u001b[0m \u001b[1;33m=\u001b[0m \u001b[0mb\u001b[0m \u001b[1;33m-\u001b[0m \u001b[0malpha\u001b[0m\u001b[1;33m*\u001b[0m\u001b[0mdb\u001b[0m\u001b[1;33m\u001b[0m\u001b[0m\n\u001b[0;32m     23\u001b[0m \u001b[1;33m\u001b[0m\u001b[0m\n\u001b[1;32m---> 24\u001b[1;33m     \u001b[0mcosts\u001b[0m \u001b[1;33m=\u001b[0m \u001b[0mcosts\u001b[0m\u001b[1;33m.\u001b[0m\u001b[0mappend\u001b[0m\u001b[1;33m(\u001b[0m\u001b[0mcost\u001b[0m\u001b[1;33m)\u001b[0m\u001b[1;33m\u001b[0m\u001b[0m\n\u001b[0m\u001b[0;32m     25\u001b[0m \u001b[1;31m# test\u001b[0m\u001b[1;33m\u001b[0m\u001b[1;33m\u001b[0m\u001b[0m\n\u001b[0;32m     26\u001b[0m \u001b[1;33m\u001b[0m\u001b[0m\n",
      "\u001b[1;31mAttributeError\u001b[0m: 'NoneType' object has no attribute 'append'"
     ]
    }
   ],
   "source": [
    "w = np.zeros((X.shape[0],1))\n",
    "b = 0\n",
    "\n",
    "m = train_set_x_orig.shape[0]\n",
    "alpha = 0.01\n",
    "\n",
    "def sigmoid(x):\n",
    "  return 1 / (1 + 1/np.exp(x))\n",
    "\n",
    "costs = []\n",
    "\n",
    "for i in range(100):\n",
    "    Z = np.dot(w.T,X)+b\n",
    "    A = sigmoid(Z)\n",
    "    cost = -1/m*np.sum(*np.log(A)+(1-Y)*np.log(1-A)) \n",
    "\n",
    "    dz = A-Y\n",
    "    dw = (1/m)*np.dot(X,dz.T)\n",
    "    db = (1/m)*np.sum(dz)\n",
    "\n",
    "    w = w - alpha*dw\n",
    "    b = b - alpha*db\n",
    "    \n",
    "    costs = costs.append(cost)\n",
    "# test\n",
    "\n",
    "X_test = test_set_x_orig.reshape(test_set_x_orig.shape[0],-1).T/255\n",
    "y_hat = 1*(sigmoid(np.dot(w.T,X_test)+b) >= 0.5)\n",
    "\n",
    "\n",
    "acc = 1 - np.sum(np.abs(y_hat - test_set_y)) / X_test.shape[1]\n",
    "print(acc)"
   ]
  },
  {
   "cell_type": "code",
   "execution_count": 59,
   "metadata": {},
   "outputs": [
    {
     "name": "stdout",
     "output_type": "stream",
     "text": [
      "0.8200000000000001\n"
     ]
    }
   ],
   "source": [
    "X = train_set_x_orig.reshape(train_set_x_orig.shape[0],-1).T/255\n",
    "Y = train_set_y\n",
    "#w = np.random.rand(X.shape[0],1)\n",
    "#b = np.random.rand(1)\n",
    "w = np.zeros((X.shape[0],1))\n",
    "b = 0\n",
    "\n",
    "m = train_set_x_orig.shape[0]\n",
    "alpha = 0.01\n",
    "\n",
    "def sigmoid(x):\n",
    "  return 1 / (1 + 1/np.exp(x))\n",
    "\n",
    "costs = []\n",
    "\n",
    "for i in range(100):\n",
    "    Z = np.dot(w.T,X)+b\n",
    "    A = sigmoid(Z)\n",
    "    cost = -1/m*np.sum(*np.log(A)+(1-Y)*np.log(1-A)) \n",
    "\n",
    "    dz = A-Y\n",
    "    dw = (1/m)*np.dot(X,dz.T)\n",
    "    db = (1/m)*np.sum(dz)\n",
    "\n",
    "    w = w - alpha*dw\n",
    "    b = b - alpha*db\n",
    "    \n",
    "    costs.append(cost)\n",
    "# test\n",
    "\n",
    "X_test = test_set_x_orig.reshape(test_set_x_orig.shape[0],-1).T/255\n",
    "y_hat = 1*(sigmoid(np.dot(w.T,X_test)+b) >= 0.5)\n",
    "\n",
    "\n",
    "acc = 1 - np.sum(np.abs(y_hat - test_set_y)) / X_test.shape[1]\n",
    "print(acc)"
   ]
  },
  {
   "cell_type": "code",
   "execution_count": 61,
   "metadata": {},
   "outputs": [],
   "source": [
    "costs = np.array(costs)"
   ]
  },
  {
   "cell_type": "code",
   "execution_count": 63,
   "metadata": {},
   "outputs": [
    {
     "data": {
      "text/plain": [
       "[<matplotlib.lines.Line2D at 0x19a1d6172b0>]"
      ]
     },
     "execution_count": 63,
     "metadata": {},
     "output_type": "execute_result"
    },
    {
     "data": {
      "image/png": "[encoded data removed]",
      "text/plain": [
       "<Figure size 432x288 with 1 Axes>"
      ]
     },
     "metadata": {},
     "output_type": "display_data"
    }
   ],
   "source": [
    "plt.plot(np.array(costs))"
   ]
  },
  {
   "cell_type": "code",
   "execution_count": 64,
   "metadata": {},
   "outputs": [
    {
     "name": "stdout",
     "output_type": "stream",
     "text": [
      "0.36\n"
     ]
    },
    {
     "data": {
      "text/plain": [
       "[<matplotlib.lines.Line2D at 0x19a1d69b9b0>]"
      ]
     },
     "execution_count": 64,
     "metadata": {},
     "output_type": "execute_result"
    },
    {
     "data": {
      "image/png": "[encoded data removed]",
      "text/plain": [
       "<Figure size 432x288 with 1 Axes>"
      ]
     },
     "metadata": {},
     "output_type": "display_data"
    }
   ],
   "source": [
    "X = train_set_x_orig.reshape(train_set_x_orig.shape[0],-1).T/255\n",
    "Y = train_set_y\n",
    "#w = np.random.rand(X.shape[0],1)\n",
    "#b = np.random.rand(1)\n",
    "w = np.zeros((X.shape[0],1))\n",
    "b = 0\n",
    "\n",
    "m = train_set_x_orig.shape[0]\n",
    "alpha = 0.001\n",
    "\n",
    "def sigmoid(x):\n",
    "  return 1 / (1 + 1/np.exp(x))\n",
    "\n",
    "costs = []\n",
    "\n",
    "for i in range(100):\n",
    "    Z = np.dot(w.T,X)+b\n",
    "    A = sigmoid(Z)\n",
    "    cost = -1/m*np.sum(*np.log(A)+(1-Y)*np.log(1-A)) \n",
    "\n",
    "    dz = A-Y\n",
    "    dw = (1/m)*np.dot(X,dz.T)\n",
    "    db = (1/m)*np.sum(dz)\n",
    "\n",
    "    w = w - alpha*dw\n",
    "    b = b - alpha*db\n",
    "    \n",
    "    costs.append(cost)\n",
    "# test\n",
    "\n",
    "X_test = test_set_x_orig.reshape(test_set_x_orig.shape[0],-1).T/255\n",
    "y_hat = 1*(sigmoid(np.dot(w.T,X_test)+b) >= 0.5)\n",
    "\n",
    "\n",
    "acc = 1 - np.sum(np.abs(y_hat - test_set_y)) / X_test.shape[1]\n",
    "print(acc)\n",
    "plt.plot(np.array(costs))"
   ]
  },
  {
   "cell_type": "code",
   "execution_count": 68,
   "metadata": {},
   "outputs": [
    {
     "name": "stdout",
     "output_type": "stream",
     "text": [
      "0.7\n"
     ]
    },
    {
     "data": {
      "text/plain": [
       "[<matplotlib.lines.Line2D at 0x19a1da50c18>]"
      ]
     },
     "execution_count": 68,
     "metadata": {},
     "output_type": "execute_result"
    },
    {
     "data": {
      "image/png": "[encoded data removed]",
      "text/plain": [
       "<Figure size 432x288 with 1 Axes>"
      ]
     },
     "metadata": {},
     "output_type": "display_data"
    }
   ],
   "source": [
    "\n",
    "# linear reg\n",
    "\n",
    "X = train_set_x_orig.reshape(train_set_x_orig.shape[0],-1).T/255\n",
    "Y = train_set_y\n",
    "w = np.zeros((X.shape[0],1))\n",
    "b = 0\n",
    "\n",
    "m = train_set_x_orig.shape[0]\n",
    "alpha = 0.01\n",
    "\n",
    "def sigmoid(x):\n",
    "  return 1 / (1 + 1/np.exp(x))\n",
    "\n",
    "costs = []\n",
    "\n",
    "for i in range(1000):\n",
    "    Z = np.dot(w.T,X)+b\n",
    "    A = sigmoid(Z)\n",
    "    cost = -1/m*np.sum(*np.log(A)+(1-Y)*np.log(1-A)) \n",
    "\n",
    "    dz = A-Y\n",
    "    dw = (1/m)*np.dot(X,dz.T)\n",
    "    db = (1/m)*np.sum(dz)\n",
    "\n",
    "    w = w - alpha*dw\n",
    "    b = b - alpha*db\n",
    "    \n",
    "    costs.append(cost)\n",
    "# test\n",
    "\n",
    "X_test = test_set_x_orig.reshape(test_set_x_orig.shape[0],-1).T/255\n",
    "y_hat = 1*(sigmoid(np.dot(w.T,X_test)+b) >= 0.5)\n",
    "\n",
    "\n",
    "acc = 1 - np.sum(np.abs(y_hat - test_set_y)) / X_test.shape[1]\n",
    "print(acc)\n",
    "plt.plot(np.array(costs))"
   ]
  },
  {
   "cell_type": "code",
   "execution_count": 67,
   "metadata": {},
   "outputs": [
    {
     "ename": "TypeError",
     "evalue": "convolve() missing 1 required positional argument: 'v'",
     "output_type": "error",
     "traceback": [
      "\u001b[1;31m---------------------------------------------------------------------------\u001b[0m",
      "\u001b[1;31mTypeError\u001b[0m                                 Traceback (most recent call last)",
      "\u001b[1;32m<ipython-input-67-94f5a6d8c4d2>\u001b[0m in \u001b[0;36m<module>\u001b[1;34m()\u001b[0m\n\u001b[1;32m----> 1\u001b[1;33m \u001b[0mnp\u001b[0m\u001b[1;33m.\u001b[0m\u001b[0mconvolve\u001b[0m\u001b[1;33m(\u001b[0m\u001b[0mnp\u001b[0m\u001b[1;33m.\u001b[0m\u001b[0marray\u001b[0m\u001b[1;33m(\u001b[0m\u001b[0mcosts\u001b[0m\u001b[1;33m)\u001b[0m\u001b[1;33m)\u001b[0m\u001b[1;33m\u001b[0m\u001b[0m\n\u001b[0m",
      "\u001b[1;31mTypeError\u001b[0m: convolve() missing 1 required positional argument: 'v'"
     ]
    }
   ],
   "source": [
    "np.convolve(np.array(costs))"
   ]
  },
  {
   "cell_type": "code",
   "execution_count": null,
   "metadata": {},
   "outputs": [],
   "source": []
  }
 ],
 "metadata": {
  "kernelspec": {
   "display_name": "Python 3",
   "language": "python",
   "name": "python3"
  },
  "language_info": {
   "codemirror_mode": {
    "name": "ipython",
    "version": 3
   },
   "file_extension": ".py",
   "mimetype": "text/x-python",
   "name": "python",
   "nbconvert_exporter": "python",
   "pygments_lexer": "ipython3",
   "version": "3.6.5"
  }
 },
 "nbformat": 4,
 "nbformat_minor": 2
}
