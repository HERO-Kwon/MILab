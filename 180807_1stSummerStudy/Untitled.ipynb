{
 "cells": [
  {
   "cell_type": "code",
   "execution_count": null,
   "metadata": {},
   "outputs": [],
   "source": [
    "import numpy as np\n",
    "import matplotlib.pyplot as plt\n",
    "import h5py\n",
    "import scipy\n",
    "from PIL import Image\n",
    "from scipy import ndimage\n",
    "#from lr_utils import load_dataset\n",
    "import lr_utils\n",
    "%matplotlib inline"
   ]
  },
  {
   "cell_type": "code",
   "execution_count": null,
   "metadata": {},
   "outputs": [],
   "source": [
    "import h5py\n",
    "    \n",
    "    \n",
    "def load_dataset():\n",
    "    train_dataset = h5py.File('datasets/train_catvnoncat.h5', \"r\")\n",
    "    train_set_x_orig = np.array(train_dataset[\"train_set_x\"][:]) # your train set features\n",
    "    train_set_y_orig = np.array(train_dataset[\"train_set_y\"][:]) # your train set labels\n",
    "\n",
    "    test_dataset = h5py.File('datasets/test_catvnoncat.h5', \"r\")\n",
    "    test_set_x_orig = np.array(test_dataset[\"test_set_x\"][:]) # your test set features\n",
    "    test_set_y_orig = np.array(test_dataset[\"test_set_y\"][:]) # your test set labels\n",
    "\n",
    "    classes = np.array(test_dataset[\"list_classes\"][:]) # the list of classes\n",
    "    \n",
    "    train_set_y_orig = train_set_y_orig.reshape((1, train_set_y_orig.shape[0]))\n",
    "    test_set_y_orig = test_set_y_orig.reshape((1, test_set_y_orig.shape[0]))\n",
    "    \n",
    "    return train_set_x_orig, train_set_y_orig, test_set_x_orig, test_set_y_orig, classes"
   ]
  },
  {
   "cell_type": "code",
   "execution_count": null,
   "metadata": {},
   "outputs": [],
   "source": [
    "!python -m pip install --upgrade pip"
   ]
  },
  {
   "cell_type": "code",
   "execution_count": null,
   "metadata": {},
   "outputs": [],
   "source": [
    "!pip install msgpack"
   ]
  },
  {
   "cell_type": "code",
   "execution_count": null,
   "metadata": {},
   "outputs": [],
   "source": [
    "import numpy as np\n",
    "import matplotlib.pyplot as plt\n",
    "import h5py\n",
    "import scipy\n",
    "from PIL import Image\n",
    "from scipy import ndimage\n",
    "#from lr_utils import load_dataset\n",
    "\n",
    "%matplotlib inline\n",
    "\n",
    "#lr_utils.py\n",
    "import h5py\n",
    "    \n",
    "    \n",
    "def load_dataset():\n",
    "    train_dataset = h5py.File('D:\\\\Matlab_Drive\\\\Data\\\\Study_1stsummer\\\\datasets\\\\train_catvnoncat.h5', \"r\")\n",
    "    train_set_x_orig = np.array(train_dataset[\"train_set_x\"][:]) # your train set features\n",
    "    train_set_y_orig = np.array(train_dataset[\"train_set_y\"][:]) # your train set labels\n",
    "\n",
    "    test_dataset = h5py.File('D:\\\\Matlab_Drive\\\\Data\\\\Study_1stsummer\\\\datasets\\\\test_catvnoncat.h5', \"r\")\n",
    "    test_set_x_orig = np.array(test_dataset[\"test_set_x\"][:]) # your test set features\n",
    "    test_set_y_orig = np.array(test_dataset[\"test_set_y\"][:]) # your test set labels\n",
    "\n",
    "    classes = np.array(test_dataset[\"list_classes\"][:]) # the list of classes\n",
    "    \n",
    "    train_set_y_orig = train_set_y_orig.reshape((1, train_set_y_orig.shape[0]))\n",
    "    test_set_y_orig = test_set_y_orig.reshape((1, test_set_y_orig.shape[0]))\n",
    "    \n",
    "    return train_set_x_orig, train_set_y_orig, test_set_x_orig, test_set_y_orig, classes\n",
    "\n",
    "# Loading the data (cat/non-cat)\n",
    "train_set_x_orig, train_set_y, test_set_x_orig, test_set_y, classes = load_dataset()"
   ]
  },
  {
   "cell_type": "code",
   "execution_count": null,
   "metadata": {},
   "outputs": [],
   "source": [
    "train_set_x_orig.shape"
   ]
  },
  {
   "cell_type": "code",
   "execution_count": null,
   "metadata": {},
   "outputs": [],
   "source": [
    "# Example of a picture\n",
    "index = 1\n",
    "plt.imshow(train_set_x_orig[index])\n",
    "print (\"y = \" + str(train_set_y[:, index]) + \", it's a '\" + classes[np.squeeze(train_set_y[:, index])].decode(\"utf-8\") +  \"' picture.\")"
   ]
  },
  {
   "cell_type": "code",
   "execution_count": null,
   "metadata": {},
   "outputs": [],
   "source": [
    "aa = train_set_x_orig.reshape()"
   ]
  },
  {
   "cell_type": "code",
   "execution_count": null,
   "metadata": {},
   "outputs": [],
   "source": [
    "X = train_set_x_orig.reshape(train_set_x_orig.shape[0],-1)"
   ]
  },
  {
   "cell_type": "code",
   "execution_count": null,
   "metadata": {},
   "outputs": [],
   "source": [
    "train_set_x_orig.shape"
   ]
  },
  {
   "cell_type": "code",
   "execution_count": null,
   "metadata": {},
   "outputs": [],
   "source": [
    "aa.shape"
   ]
  },
  {
   "cell_type": "code",
   "execution_count": null,
   "metadata": {},
   "outputs": [],
   "source": [
    "aa[0]"
   ]
  },
  {
   "cell_type": "code",
   "execution_count": null,
   "metadata": {},
   "outputs": [],
   "source": [
    "train_set_y.shape"
   ]
  },
  {
   "cell_type": "code",
   "execution_count": null,
   "metadata": {},
   "outputs": [],
   "source": [
    "X.shape"
   ]
  },
  {
   "cell_type": "code",
   "execution_count": null,
   "metadata": {},
   "outputs": [],
   "source": [
    "w = np.random.normal([1,12288])"
   ]
  },
  {
   "cell_type": "code",
   "execution_count": null,
   "metadata": {},
   "outputs": [],
   "source": [
    "w"
   ]
  },
  {
   "cell_type": "code",
   "execution_count": null,
   "metadata": {},
   "outputs": [],
   "source": [
    "w = np.random.rand(X.shape[0],1)"
   ]
  },
  {
   "cell_type": "code",
   "execution_count": null,
   "metadata": {},
   "outputs": [],
   "source": [
    "w.shape"
   ]
  },
  {
   "cell_type": "code",
   "execution_count": null,
   "metadata": {},
   "outputs": [],
   "source": [
    "a = np.dot(w,X.T)"
   ]
  },
  {
   "cell_type": "code",
   "execution_count": null,
   "metadata": {},
   "outputs": [],
   "source": [
    "a.shape"
   ]
  },
  {
   "cell_type": "code",
   "execution_count": null,
   "metadata": {},
   "outputs": [],
   "source": [
    "X = train_set_x_orig.reshape(train_set_x_orig.shape[0],-1).T"
   ]
  },
  {
   "cell_type": "code",
   "execution_count": null,
   "metadata": {},
   "outputs": [],
   "source": [
    "X.shape"
   ]
  },
  {
   "cell_type": "code",
   "execution_count": null,
   "metadata": {},
   "outputs": [],
   "source": [
    "a = np.dot(w.T,X)"
   ]
  },
  {
   "cell_type": "code",
   "execution_count": null,
   "metadata": {},
   "outputs": [],
   "source": [
    "b = np.random.rand(1,X.shape[1])"
   ]
  },
  {
   "cell_type": "code",
   "execution_count": null,
   "metadata": {},
   "outputs": [],
   "source": [
    "b.shape"
   ]
  },
  {
   "cell_type": "code",
   "execution_count": null,
   "metadata": {},
   "outputs": [],
   "source": [
    "a.shape"
   ]
  },
  {
   "cell_type": "code",
   "execution_count": null,
   "metadata": {},
   "outputs": [],
   "source": [
    "Z = np.dot(w.T,X)+b"
   ]
  },
  {
   "cell_type": "code",
   "execution_count": null,
   "metadata": {},
   "outputs": [],
   "source": [
    "import math"
   ]
  },
  {
   "cell_type": "code",
   "execution_count": null,
   "metadata": {},
   "outputs": [],
   "source": [
    "import math\n",
    "\n",
    "def sigmoid(x):\n",
    "  return 1 / (1 + math.exp(-x))"
   ]
  },
  {
   "cell_type": "code",
   "execution_count": null,
   "metadata": {},
   "outputs": [],
   "source": [
    "A = sigmoid(Z)"
   ]
  },
  {
   "cell_type": "code",
   "execution_count": null,
   "metadata": {},
   "outputs": [],
   "source": [
    "xx = X[:,0]"
   ]
  },
  {
   "cell_type": "code",
   "execution_count": null,
   "metadata": {},
   "outputs": [],
   "source": [
    "ww = w[:,0]"
   ]
  },
  {
   "cell_type": "code",
   "execution_count": null,
   "metadata": {},
   "outputs": [],
   "source": [
    "bb = b[0]"
   ]
  },
  {
   "cell_type": "code",
   "execution_count": null,
   "metadata": {},
   "outputs": [],
   "source": [
    "zz = np.dot(ww.T,xx)+bb"
   ]
  },
  {
   "cell_type": "code",
   "execution_count": null,
   "metadata": {},
   "outputs": [],
   "source": [
    "xx.shape"
   ]
  },
  {
   "cell_type": "code",
   "execution_count": null,
   "metadata": {},
   "outputs": [],
   "source": [
    "zz.shape"
   ]
  },
  {
   "cell_type": "code",
   "execution_count": null,
   "metadata": {},
   "outputs": [],
   "source": [
    "aa = sigmoid(zz)"
   ]
  },
  {
   "cell_type": "code",
   "execution_count": null,
   "metadata": {},
   "outputs": [],
   "source": [
    "yy=train_set_y[:,0]"
   ]
  },
  {
   "cell_type": "code",
   "execution_count": null,
   "metadata": {},
   "outputs": [],
   "source": [
    "yy"
   ]
  },
  {
   "cell_type": "code",
   "execution_count": null,
   "metadata": {},
   "outputs": [],
   "source": [
    "dz = aa-yy"
   ]
  },
  {
   "cell_type": "code",
   "execution_count": null,
   "metadata": {},
   "outputs": [],
   "source": [
    "dz"
   ]
  },
  {
   "cell_type": "code",
   "execution_count": null,
   "metadata": {},
   "outputs": [],
   "source": [
    "aa"
   ]
  },
  {
   "cell_type": "code",
   "execution_count": null,
   "metadata": {},
   "outputs": [],
   "source": [
    "yy[0]"
   ]
  },
  {
   "cell_type": "code",
   "execution_count": null,
   "metadata": {},
   "outputs": [],
   "source": [
    "dz = aa-yy[0]"
   ]
  },
  {
   "cell_type": "code",
   "execution_count": null,
   "metadata": {},
   "outputs": [],
   "source": [
    "m = train_set_x_orig.shape[0]"
   ]
  },
  {
   "cell_type": "code",
   "execution_count": null,
   "metadata": {},
   "outputs": [],
   "source": [
    "m"
   ]
  },
  {
   "cell_type": "code",
   "execution_count": null,
   "metadata": {},
   "outputs": [],
   "source": [
    "dw = (1/m)*xx*dz.T"
   ]
  },
  {
   "cell_type": "code",
   "execution_count": null,
   "metadata": {},
   "outputs": [],
   "source": [
    "xx.shape"
   ]
  },
  {
   "cell_type": "code",
   "execution_count": null,
   "metadata": {},
   "outputs": [],
   "source": [
    "db = (1/m)*np.sum(dz)"
   ]
  },
  {
   "cell_type": "code",
   "execution_count": null,
   "metadata": {},
   "outputs": [],
   "source": [
    "alpha = 0.01"
   ]
  },
  {
   "cell_type": "code",
   "execution_count": null,
   "metadata": {},
   "outputs": [],
   "source": [
    "w.shape"
   ]
  },
  {
   "cell_type": "code",
   "execution_count": null,
   "metadata": {},
   "outputs": [],
   "source": [
    "ww"
   ]
  },
  {
   "cell_type": "code",
   "execution_count": null,
   "metadata": {},
   "outputs": [],
   "source": [
    "ww.shape"
   ]
  },
  {
   "cell_type": "code",
   "execution_count": null,
   "metadata": {},
   "outputs": [],
   "source": [
    "zz = np.dot(w.T,xx)+b"
   ]
  },
  {
   "cell_type": "code",
   "execution_count": null,
   "metadata": {},
   "outputs": [],
   "source": [
    "Z = np.dot(w.T,xx)+b\n",
    "A = sigmoid(Z)"
   ]
  },
  {
   "cell_type": "code",
   "execution_count": null,
   "metadata": {},
   "outputs": [],
   "source": [
    "Z.shape"
   ]
  },
  {
   "cell_type": "code",
   "execution_count": null,
   "metadata": {},
   "outputs": [],
   "source": [
    "Z.shape"
   ]
  },
  {
   "cell_type": "code",
   "execution_count": null,
   "metadata": {},
   "outputs": [],
   "source": [
    "w.shape"
   ]
  },
  {
   "cell_type": "code",
   "execution_count": null,
   "metadata": {},
   "outputs": [],
   "source": [
    "b.shape"
   ]
  },
  {
   "cell_type": "code",
   "execution_count": null,
   "metadata": {},
   "outputs": [],
   "source": [
    "b = np.random.rand(1)"
   ]
  },
  {
   "cell_type": "code",
   "execution_count": null,
   "metadata": {},
   "outputs": [],
   "source": [
    "b"
   ]
  },
  {
   "cell_type": "code",
   "execution_count": null,
   "metadata": {},
   "outputs": [],
   "source": [
    "Z = np.dot(w.T,xx)+b"
   ]
  },
  {
   "cell_type": "code",
   "execution_count": null,
   "metadata": {},
   "outputs": [],
   "source": [
    "Z.shape"
   ]
  },
  {
   "cell_type": "code",
   "execution_count": null,
   "metadata": {},
   "outputs": [],
   "source": [
    "A = sigmoid(Z)"
   ]
  },
  {
   "cell_type": "code",
   "execution_count": null,
   "metadata": {},
   "outputs": [],
   "source": [
    "yy=train_set_y[:,0]"
   ]
  },
  {
   "cell_type": "code",
   "execution_count": null,
   "metadata": {},
   "outputs": [],
   "source": [
    "dz = A-yy[0]"
   ]
  },
  {
   "cell_type": "code",
   "execution_count": null,
   "metadata": {},
   "outputs": [],
   "source": [
    "dw = (1/m)*xx*dz.T\n",
    "db = (1/m)*np.sum(dz)"
   ]
  },
  {
   "cell_type": "code",
   "execution_count": null,
   "metadata": {},
   "outputs": [],
   "source": [
    "w = w - alpha*dw\n",
    "b = b - alpha*db"
   ]
  },
  {
   "cell_type": "code",
   "execution_count": null,
   "metadata": {},
   "outputs": [],
   "source": [
    "X.shape,train_set_y.shape"
   ]
  },
  {
   "cell_type": "code",
   "execution_count": null,
   "metadata": {},
   "outputs": [],
   "source": [
    "len(train_set_y)"
   ]
  },
  {
   "cell_type": "code",
   "execution_count": null,
   "metadata": {},
   "outputs": [],
   "source": [
    "for i in range(X.shape[1]):\n",
    "    xx = X[:,i]\n",
    "    Z = np.dot(w.T,xx)+b\n",
    "    A = sigmoid(Z)\n",
    "    yy=train_set_y[:,i]\n",
    "\n",
    "    dz = A-yy[0]\n",
    "    dw = (1/m)*xx*dz.T\n",
    "    db = (1/m)*np.sum(dz)\n",
    "\n",
    "    w = w - alpha*dw\n",
    "    b = b - alpha*db"
   ]
  },
  {
   "cell_type": "code",
   "execution_count": null,
   "metadata": {},
   "outputs": [],
   "source": [
    "A.shape"
   ]
  },
  {
   "cell_type": "code",
   "execution_count": null,
   "metadata": {},
   "outputs": [],
   "source": [
    "i"
   ]
  },
  {
   "cell_type": "code",
   "execution_count": null,
   "metadata": {},
   "outputs": [],
   "source": [
    "i = 0"
   ]
  },
  {
   "cell_type": "code",
   "execution_count": null,
   "metadata": {},
   "outputs": [],
   "source": [
    "    xx = X[:,i]\n",
    "    Z = np.dot(w.T,xx)+b\n",
    "    A = sigmoid(Z)\n",
    "    yy=train_set_y[:,i]\n"
   ]
  },
  {
   "cell_type": "code",
   "execution_count": null,
   "metadata": {},
   "outputs": [],
   "source": [
    "Z.shape"
   ]
  },
  {
   "cell_type": "code",
   "execution_count": null,
   "metadata": {},
   "outputs": [],
   "source": [
    "xx.shape"
   ]
  },
  {
   "cell_type": "code",
   "execution_count": null,
   "metadata": {},
   "outputs": [],
   "source": [
    "X[:,0].shape"
   ]
  },
  {
   "cell_type": "code",
   "execution_count": null,
   "metadata": {},
   "outputs": [],
   "source": [
    "X = train_set_x_orig.reshape(train_set_x_orig.shape[0],-1).T\n",
    "w = np.random.rand(X.shape[0],1)\n",
    "#b = np.random.rand(1,X.shape[1])\n",
    "b = np.random.rand(1)\n"
   ]
  },
  {
   "cell_type": "code",
   "execution_count": null,
   "metadata": {},
   "outputs": [],
   "source": [
    "for i in range(X.shape[1]):\n",
    "    xx = X[:,i]\n",
    "    Z = np.dot(w.T,xx)+b\n",
    "    A = sigmoid(Z)\n",
    "    yy=train_set_y[:,i]\n",
    "\n",
    "    dz = A-yy[0]\n",
    "    dw = (1/m)*xx*dz.T\n",
    "    db = (1/m)*np.sum(dz)\n",
    "\n",
    "    w = w - alpha*dw\n",
    "    b = b - alpha*db"
   ]
  },
  {
   "cell_type": "code",
   "execution_count": null,
   "metadata": {},
   "outputs": [],
   "source": [
    "np.dot(w.T,xx).shape"
   ]
  },
  {
   "cell_type": "code",
   "execution_count": null,
   "metadata": {},
   "outputs": [],
   "source": [
    "w.shape"
   ]
  },
  {
   "cell_type": "code",
   "execution_count": null,
   "metadata": {},
   "outputs": [],
   "source": [
    "w = np.random.rand(X.shape[1],1)"
   ]
  },
  {
   "cell_type": "code",
   "execution_count": null,
   "metadata": {},
   "outputs": [],
   "source": [
    "X = train_set_x_orig.reshape(train_set_x_orig.shape[0],-1).T\n",
    "w = np.random.rand(X.shape[0],1)\n",
    "#b = np.random.rand(1,X.shape[1])\n",
    "b = np.random.rand(1)"
   ]
  },
  {
   "cell_type": "code",
   "execution_count": null,
   "metadata": {},
   "outputs": [],
   "source": [
    "    xx = X[:,i]\n",
    "    Z = np.dot(w.T,xx)+b"
   ]
  },
  {
   "cell_type": "code",
   "execution_count": null,
   "metadata": {},
   "outputs": [],
   "source": [
    "Z.shape"
   ]
  },
  {
   "cell_type": "code",
   "execution_count": null,
   "metadata": {},
   "outputs": [],
   "source": [
    "A = sigmoid(Z)"
   ]
  },
  {
   "cell_type": "code",
   "execution_count": null,
   "metadata": {},
   "outputs": [],
   "source": [
    "X = train_set_x_orig.reshape(train_set_x_orig.shape[0],-1).T\n",
    "w = np.random.rand(X.shape[0],1)\n",
    "#b = np.random.rand(1,X.shape[1])\n",
    "b = np.random.rand(1)\n",
    "\n",
    "m = train_set_x_orig.shape[0]\n",
    "alpha = 0.01\n",
    "import math\n",
    "\n",
    "def sigmoid(x):\n",
    "  return 1 / (1 + math.exp(-x))\n",
    "\n",
    "\n",
    "for i in range(X.shape[1]):\n",
    "    xx = X[:,i]\n",
    "    Z = np.dot(w.T,xx)+b\n",
    "    A = sigmoid(Z)\n",
    "    yy=train_set_y[:,i]\n",
    "\n",
    "    dz = A-yy[0]\n",
    "    dw = (1/m)*xx*dz.T\n",
    "    db = (1/m)*np.sum(dz)\n",
    "\n",
    "    w = w - alpha*dw\n",
    "    b = b - alpha*db"
   ]
  },
  {
   "cell_type": "code",
   "execution_count": null,
   "metadata": {},
   "outputs": [],
   "source": [
    "Z.shape"
   ]
  },
  {
   "cell_type": "code",
   "execution_count": null,
   "metadata": {},
   "outputs": [],
   "source": [
    "X = train_set_x_orig.reshape(train_set_x_orig.shape[0],-1).T\n",
    "w = np.random.rand(X.shape[0],1)\n",
    "#b = np.random.rand(1,X.shape[1])\n",
    "b = np.random.rand(1)\n",
    "\n",
    "m = train_set_x_orig.shape[0]\n",
    "alpha = 0.01\n",
    "import math\n",
    "\n",
    "def sigmoid(x):\n",
    "  return 1 / (1 + math.exp(-x))"
   ]
  },
  {
   "cell_type": "code",
   "execution_count": null,
   "metadata": {},
   "outputs": [],
   "source": [
    "w.shape"
   ]
  },
  {
   "cell_type": "code",
   "execution_count": null,
   "metadata": {},
   "outputs": [],
   "source": [
    "    xx = X[:,i]\n",
    "    Z = np.dot(w.T,xx)+b\n",
    "    A = sigmoid(Z)\n",
    "    yy=train_set_y[:,i]\n",
    "\n",
    "    dz = A-yy\n",
    "    dw = (1/m)*xx*dz.T\n",
    "    db = (1/m)*np.sum(dz)"
   ]
  },
  {
   "cell_type": "code",
   "execution_count": null,
   "metadata": {},
   "outputs": [],
   "source": [
    "w = w - alpha*dw"
   ]
  },
  {
   "cell_type": "code",
   "execution_count": null,
   "metadata": {},
   "outputs": [],
   "source": [
    "w.shape"
   ]
  },
  {
   "cell_type": "code",
   "execution_count": null,
   "metadata": {},
   "outputs": [],
   "source": [
    "dz.shape"
   ]
  },
  {
   "cell_type": "code",
   "execution_count": null,
   "metadata": {},
   "outputs": [],
   "source": [
    "dz = A-yy"
   ]
  },
  {
   "cell_type": "code",
   "execution_count": null,
   "metadata": {},
   "outputs": [],
   "source": [
    "dz.shape"
   ]
  },
  {
   "cell_type": "code",
   "execution_count": null,
   "metadata": {},
   "outputs": [],
   "source": [
    "dw = (1/m)*xx*dz.T"
   ]
  },
  {
   "cell_type": "code",
   "execution_count": null,
   "metadata": {},
   "outputs": [],
   "source": [
    "dw.shape"
   ]
  },
  {
   "cell_type": "code",
   "execution_count": null,
   "metadata": {},
   "outputs": [],
   "source": [
    "X = train_set_x_orig.reshape(train_set_x_orig.shape[0],-1).T\n",
    "w = np.random.rand(X.shape[0],1)\n",
    "#b = np.random.rand(1,X.shape[1])\n",
    "b = np.random.rand(1)\n",
    "\n",
    "m = train_set_x_orig.shape[0]\n",
    "alpha = 0.01\n",
    "import math\n",
    "\n",
    "def sigmoid(x):\n",
    "  return 1 / (1 + math.exp(-x))\n",
    "\n",
    "\n",
    "for i in range(X.shape[1]):\n",
    "    xx = X[:,i]\n",
    "    Z = np.dot(w.T,xx)+b\n",
    "    A = sigmoid(Z)\n",
    "    yy=train_set_y[:,i]\n",
    "\n",
    "    dz = A-yy\n",
    "    dw = (1/m)*xx*dz.T\n",
    "    db = (1/m)*np.sum(dz)\n",
    "\n",
    "    w = w - alpha*dw\n",
    "    b = b - alpha*db"
   ]
  },
  {
   "cell_type": "code",
   "execution_count": null,
   "metadata": {},
   "outputs": [],
   "source": [
    "dw.shape"
   ]
  },
  {
   "cell_type": "code",
   "execution_count": null,
   "metadata": {},
   "outputs": [],
   "source": [
    "w.shape"
   ]
  },
  {
   "cell_type": "code",
   "execution_count": null,
   "metadata": {},
   "outputs": [],
   "source": [
    "w = np.random.rand(X.shape[0],1)"
   ]
  },
  {
   "cell_type": "code",
   "execution_count": null,
   "metadata": {},
   "outputs": [],
   "source": [
    "w.shape"
   ]
  },
  {
   "cell_type": "code",
   "execution_count": null,
   "metadata": {},
   "outputs": [],
   "source": [
    "dd = A-yy"
   ]
  },
  {
   "cell_type": "code",
   "execution_count": null,
   "metadata": {},
   "outputs": [],
   "source": [
    "dd.shape"
   ]
  },
  {
   "cell_type": "code",
   "execution_count": null,
   "metadata": {},
   "outputs": [],
   "source": [
    "dd.T"
   ]
  },
  {
   "cell_type": "code",
   "execution_count": null,
   "metadata": {},
   "outputs": [],
   "source": [
    "xx.shape"
   ]
  },
  {
   "cell_type": "code",
   "execution_count": null,
   "metadata": {},
   "outputs": [],
   "source": [
    "w.T.shape"
   ]
  },
  {
   "cell_type": "code",
   "execution_count": null,
   "metadata": {},
   "outputs": [],
   "source": [
    "xx.shape"
   ]
  },
  {
   "cell_type": "code",
   "execution_count": null,
   "metadata": {},
   "outputs": [],
   "source": [
    "np.dot(w.T,xx).shape"
   ]
  },
  {
   "cell_type": "code",
   "execution_count": null,
   "metadata": {},
   "outputs": [],
   "source": [
    "b.shape"
   ]
  },
  {
   "cell_type": "code",
   "execution_count": null,
   "metadata": {},
   "outputs": [],
   "source": [
    "Z = np.dot(w.T,xx)+b"
   ]
  },
  {
   "cell_type": "code",
   "execution_count": null,
   "metadata": {},
   "outputs": [],
   "source": [
    "Z.shape"
   ]
  },
  {
   "cell_type": "code",
   "execution_count": null,
   "metadata": {},
   "outputs": [],
   "source": [
    "A = sigmoid(Z)"
   ]
  },
  {
   "cell_type": "code",
   "execution_count": null,
   "metadata": {},
   "outputs": [],
   "source": [
    "A"
   ]
  },
  {
   "cell_type": "code",
   "execution_count": null,
   "metadata": {},
   "outputs": [],
   "source": [
    "X = train_set_x_orig.reshape(train_set_x_orig.shape[0],-1).T\n",
    "w = np.random.rand(X.shape[0],1)\n",
    "#b = np.random.rand(1,X.shape[1])\n",
    "b = np.random.rand(1)\n",
    "\n",
    "m = train_set_x_orig.shape[0]\n",
    "alpha = 0.01\n",
    "import math\n",
    "\n",
    "def sigmoid(x):\n",
    "  return 1 / (1 + math.exp(-x))"
   ]
  },
  {
   "cell_type": "code",
   "execution_count": null,
   "metadata": {},
   "outputs": [],
   "source": [
    "i = 0"
   ]
  },
  {
   "cell_type": "code",
   "execution_count": null,
   "metadata": {},
   "outputs": [],
   "source": [
    "    xx = X[:,i]\n",
    "    Z = np.dot(w.T,xx)+b\n",
    "    A = sigmoid(Z)\n",
    "    yy=train_set_y[:,i]\n",
    "\n",
    "    dz = A-yy\n",
    "    dw = (1/m)*xx*dz.T\n",
    "    db = (1/m)*np.sum(dz)\n",
    "\n",
    "    w = w - alpha*dw\n",
    "    b = b - alpha*db"
   ]
  },
  {
   "cell_type": "code",
   "execution_count": null,
   "metadata": {},
   "outputs": [],
   "source": [
    "i = 1"
   ]
  },
  {
   "cell_type": "code",
   "execution_count": null,
   "metadata": {},
   "outputs": [],
   "source": [
    "w.shape"
   ]
  },
  {
   "cell_type": "code",
   "execution_count": null,
   "metadata": {},
   "outputs": [],
   "source": [
    "dw.shape"
   ]
  },
  {
   "cell_type": "code",
   "execution_count": null,
   "metadata": {},
   "outputs": [],
   "source": [
    "w = np.random.rand(X.shape[0],1)"
   ]
  },
  {
   "cell_type": "code",
   "execution_count": null,
   "metadata": {},
   "outputs": [],
   "source": [
    "w.shape"
   ]
  },
  {
   "cell_type": "code",
   "execution_count": null,
   "metadata": {},
   "outputs": [],
   "source": [
    "(w - dw).shape"
   ]
  },
  {
   "cell_type": "code",
   "execution_count": null,
   "metadata": {},
   "outputs": [],
   "source": []
  },
  {
   "cell_type": "code",
   "execution_count": null,
   "metadata": {},
   "outputs": [],
   "source": [
    "dz.shape"
   ]
  },
  {
   "cell_type": "code",
   "execution_count": null,
   "metadata": {},
   "outputs": [],
   "source": [
    "X = train_set_x_orig.reshape(train_set_x_orig.shape[0],-1).T\n",
    "w = np.random.rand(X.shape[0],1)\n",
    "#b = np.random.rand(1,X.shape[1])\n",
    "b = np.random.rand(1)\n",
    "\n",
    "m = train_set_x_orig.shape[0]\n",
    "alpha = 0.01\n",
    "import math\n",
    "\n",
    "def sigmoid(x):\n",
    "  return 1 / (1 + math.exp(-x))\n",
    "\n",
    "\n",
    "for i in range(X.shape[1]):\n",
    "    xx = X[:,i]\n",
    "    Z = np.dot(w.T,xx)+b\n",
    "    A = sigmoid(Z)\n",
    "    yy=train_set_y[:,i]\n",
    "\n",
    "    dz = A-yy\n",
    "    dw = (1/m)*dz.T\n",
    "    db = (1/m)*np.sum(dz)\n",
    "\n",
    "    w = w - alpha*dw\n",
    "    b = b - alpha*db"
   ]
  },
  {
   "cell_type": "code",
   "execution_count": null,
   "metadata": {},
   "outputs": [],
   "source": [
    "X_test = test_set_x_orig.reshape(test_set_x_orig.shape[0],-1)"
   ]
  },
  {
   "cell_type": "code",
   "execution_count": null,
   "metadata": {},
   "outputs": [],
   "source": [
    "X_test.shape"
   ]
  },
  {
   "cell_type": "code",
   "execution_count": null,
   "metadata": {},
   "outputs": [],
   "source": [
    "w.shape"
   ]
  },
  {
   "cell_type": "code",
   "execution_count": null,
   "metadata": {},
   "outputs": [],
   "source": [
    "y_hat = np.dot(w,X_test)+b"
   ]
  },
  {
   "cell_type": "code",
   "execution_count": null,
   "metadata": {},
   "outputs": [],
   "source": [
    "w.T.shape"
   ]
  },
  {
   "cell_type": "code",
   "execution_count": null,
   "metadata": {},
   "outputs": [],
   "source": [
    "X_test.shape"
   ]
  },
  {
   "cell_type": "code",
   "execution_count": null,
   "metadata": {},
   "outputs": [],
   "source": [
    "X_test = test_set_x_orig.reshape(test_set_x_orig.shape[0],-1).T"
   ]
  },
  {
   "cell_type": "code",
   "execution_count": null,
   "metadata": {},
   "outputs": [],
   "source": [
    "y_hat = np.dot(w.T,X_test)+b"
   ]
  },
  {
   "cell_type": "code",
   "execution_count": null,
   "metadata": {},
   "outputs": [],
   "source": [
    "y_hat.shape"
   ]
  },
  {
   "cell_type": "code",
   "execution_count": null,
   "metadata": {},
   "outputs": [],
   "source": [
    "np.unique(y_hat)"
   ]
  },
  {
   "cell_type": "code",
   "execution_count": null,
   "metadata": {},
   "outputs": [],
   "source": [
    "y_hat.shape"
   ]
  },
  {
   "cell_type": "code",
   "execution_count": null,
   "metadata": {},
   "outputs": [],
   "source": [
    "X = train_set_x_orig.reshape(train_set_x_orig.shape[0],-1).T\n",
    "w = np.random.rand(X.shape[0],1)\n",
    "b = np.random.rand(1)\n",
    "\n",
    "m = train_set_x_orig.shape[0]\n",
    "alpha = 0.01\n",
    "import math\n",
    "\n",
    "def sigmoid(x):\n",
    "  return 1 / (1 + math.exp(-x))\n",
    "\n",
    "\n",
    "for i in range(X.shape[1]):\n",
    "    xx = X[:,i]\n",
    "    Z = np.dot(w.T,xx)+b\n",
    "    A = sigmoid(Z)\n",
    "    yy=train_set_y[:,i]\n",
    "\n",
    "    dz = A-yy\n",
    "    dw = (1/m)*dz.T\n",
    "    db = (1/m)*np.sum(dz)\n",
    "\n",
    "    w = w - alpha*dw\n",
    "    b = b - alpha*db"
   ]
  },
  {
   "cell_type": "code",
   "execution_count": null,
   "metadata": {},
   "outputs": [],
   "source": [
    "w"
   ]
  },
  {
   "cell_type": "code",
   "execution_count": null,
   "metadata": {},
   "outputs": [],
   "source": [
    "X_test = test_set_x_orig.reshape(test_set_x_orig.shape[0],-1).T\n",
    "y_hat = np.dot(w.T,X_test)+b"
   ]
  },
  {
   "cell_type": "code",
   "execution_count": null,
   "metadata": {},
   "outputs": [],
   "source": [
    "y_hat"
   ]
  },
  {
   "cell_type": "code",
   "execution_count": null,
   "metadata": {},
   "outputs": [],
   "source": [
    "dw"
   ]
  },
  {
   "cell_type": "code",
   "execution_count": null,
   "metadata": {},
   "outputs": [],
   "source": [
    "w"
   ]
  },
  {
   "cell_type": "code",
   "execution_count": 1,
   "metadata": {},
   "outputs": [
    {
     "name": "stderr",
     "output_type": "stream",
     "text": [
      "C:\\Users\\herok\\Anaconda3\\lib\\site-packages\\h5py\\__init__.py:36: FutureWarning: Conversion of the second argument of issubdtype from `float` to `np.floating` is deprecated. In future, it will be treated as `np.float64 == np.dtype(float).type`.\n",
      "  from ._conv import register_converters as _register_converters\n"
     ]
    }
   ],
   "source": [
    "import numpy as np\n",
    "import matplotlib.pyplot as plt\n",
    "import h5py\n",
    "import scipy\n",
    "from PIL import Image\n",
    "from scipy import ndimage\n",
    "#from lr_utils import load_dataset\n",
    "\n",
    "%matplotlib inline\n",
    "\n",
    "#lr_utils.py\n",
    "import h5py\n",
    "    \n",
    "    \n",
    "def load_dataset():\n",
    "    train_dataset = h5py.File('D:\\\\Matlab_Drive\\\\Data\\\\Study_1stsummer\\\\datasets\\\\train_catvnoncat.h5', \"r\")\n",
    "    train_set_x_orig = np.array(train_dataset[\"train_set_x\"][:]) # your train set features\n",
    "    train_set_y_orig = np.array(train_dataset[\"train_set_y\"][:]) # your train set labels\n",
    "\n",
    "    test_dataset = h5py.File('D:\\\\Matlab_Drive\\\\Data\\\\Study_1stsummer\\\\datasets\\\\test_catvnoncat.h5', \"r\")\n",
    "    test_set_x_orig = np.array(test_dataset[\"test_set_x\"][:]) # your test set features\n",
    "    test_set_y_orig = np.array(test_dataset[\"test_set_y\"][:]) # your test set labels\n",
    "\n",
    "    classes = np.array(test_dataset[\"list_classes\"][:]) # the list of classes\n",
    "    \n",
    "    train_set_y_orig = train_set_y_orig.reshape((1, train_set_y_orig.shape[0]))\n",
    "    test_set_y_orig = test_set_y_orig.reshape((1, test_set_y_orig.shape[0]))\n",
    "    \n",
    "    return train_set_x_orig, train_set_y_orig, test_set_x_orig, test_set_y_orig, classes\n",
    "\n",
    "# Loading the data (cat/non-cat)\n",
    "train_set_x_orig, train_set_y, test_set_x_orig, test_set_y, classes = load_dataset()\n",
    "\n",
    "# linear reg\n",
    "\n",
    "X = train_set_x_orig.reshape(train_set_x_orig.shape[0],-1).T\n",
    "w = np.random.rand(X.shape[0],1)\n",
    "b = np.random.rand(1)\n",
    "\n",
    "m = train_set_x_orig.shape[0]\n",
    "alpha = 0.01\n",
    "import math\n",
    "\n",
    "def sigmoid(x):\n",
    "  return 1 / (1 + math.exp(-x))\n",
    "\n",
    "\n",
    "for i in range(X.shape[1]):\n",
    "    xx = X[:,i]\n",
    "    Z = np.dot(w.T,xx)+b\n",
    "    A = sigmoid(Z)\n",
    "    yy=train_set_y[:,i]\n",
    "\n",
    "    dz = A-yy\n",
    "    dw = (1/m)*dz.T\n",
    "    db = (1/m)*np.sum(dz)\n",
    "\n",
    "    w = w - alpha*dw\n",
    "    b = b - alpha*db\n",
    "\n",
    "# test\n",
    "\n",
    "X_test = test_set_x_orig.reshape(test_set_x_orig.shape[0],-1).T\n",
    "y_hat = np.dot(w.T,X_test)+b"
   ]
  },
  {
   "cell_type": "code",
   "execution_count": 3,
   "metadata": {},
   "outputs": [
    {
     "data": {
      "text/plain": [
       "(1, 50)"
      ]
     },
     "execution_count": 3,
     "metadata": {},
     "output_type": "execute_result"
    }
   ],
   "source": [
    "y_hat.shape"
   ]
  },
  {
   "cell_type": "code",
   "execution_count": 7,
   "metadata": {},
   "outputs": [
    {
     "data": {
      "text/plain": [
       "array([[0.90893708],\n",
       "       [0.37554054],\n",
       "       [0.66481326],\n",
       "       ...,\n",
       "       [0.80414551],\n",
       "       [0.25061182],\n",
       "       [0.97968814]])"
      ]
     },
     "execution_count": 7,
     "metadata": {},
     "output_type": "execute_result"
    }
   ],
   "source": [
    "w"
   ]
  },
  {
   "cell_type": "code",
   "execution_count": 8,
   "metadata": {},
   "outputs": [
    {
     "data": {
      "text/plain": [
       "(1, 12288)"
      ]
     },
     "execution_count": 8,
     "metadata": {},
     "output_type": "execute_result"
    }
   ],
   "source": [
    "w.T.shape"
   ]
  },
  {
   "cell_type": "code",
   "execution_count": 9,
   "metadata": {},
   "outputs": [
    {
     "data": {
      "text/plain": [
       "(12288, 50)"
      ]
     },
     "execution_count": 9,
     "metadata": {},
     "output_type": "execute_result"
    }
   ],
   "source": [
    "X_test.shape"
   ]
  },
  {
   "cell_type": "code",
   "execution_count": 10,
   "metadata": {},
   "outputs": [
    {
     "data": {
      "text/plain": [
       "(1,)"
      ]
     },
     "execution_count": 10,
     "metadata": {},
     "output_type": "execute_result"
    }
   ],
   "source": [
    "b.shape"
   ]
  },
  {
   "cell_type": "code",
   "execution_count": 11,
   "metadata": {},
   "outputs": [
    {
     "data": {
      "text/plain": [
       "array([0.14119888])"
      ]
     },
     "execution_count": 11,
     "metadata": {},
     "output_type": "execute_result"
    }
   ],
   "source": [
    "b"
   ]
  },
  {
   "cell_type": "code",
   "execution_count": 12,
   "metadata": {},
   "outputs": [
    {
     "data": {
      "text/plain": [
       "0.004784688995215311"
      ]
     },
     "execution_count": 12,
     "metadata": {},
     "output_type": "execute_result"
    }
   ],
   "source": [
    "db"
   ]
  },
  {
   "cell_type": "code",
   "execution_count": 13,
   "metadata": {},
   "outputs": [
    {
     "data": {
      "text/plain": [
       "(1,)"
      ]
     },
     "execution_count": 13,
     "metadata": {},
     "output_type": "execute_result"
    }
   ],
   "source": [
    "dw.shape"
   ]
  },
  {
   "cell_type": "code",
   "execution_count": 14,
   "metadata": {},
   "outputs": [
    {
     "data": {
      "text/plain": [
       "array([0.00478469])"
      ]
     },
     "execution_count": 14,
     "metadata": {},
     "output_type": "execute_result"
    }
   ],
   "source": [
    "dw"
   ]
  },
  {
   "cell_type": "code",
   "execution_count": 19,
   "metadata": {},
   "outputs": [],
   "source": [
    "a = (1/m)*xx*dz.T"
   ]
  },
  {
   "cell_type": "code",
   "execution_count": 20,
   "metadata": {},
   "outputs": [
    {
     "data": {
      "text/plain": [
       "(12288,)"
      ]
     },
     "execution_count": 20,
     "metadata": {},
     "output_type": "execute_result"
    }
   ],
   "source": [
    "a.shape"
   ]
  },
  {
   "cell_type": "code",
   "execution_count": 21,
   "metadata": {},
   "outputs": [
    {
     "data": {
      "text/plain": [
       "array([0.03827751, 0.13397129, 0.25358852, ..., 0.        , 0.        ,\n",
       "       0.        ])"
      ]
     },
     "execution_count": 21,
     "metadata": {},
     "output_type": "execute_result"
    }
   ],
   "source": [
    "a"
   ]
  },
  {
   "cell_type": "code",
   "execution_count": 22,
   "metadata": {},
   "outputs": [
    {
     "data": {
      "text/plain": [
       "12288"
      ]
     },
     "execution_count": 22,
     "metadata": {},
     "output_type": "execute_result"
    }
   ],
   "source": [
    "len(a)"
   ]
  },
  {
   "cell_type": "code",
   "execution_count": 23,
   "metadata": {},
   "outputs": [
    {
     "data": {
      "text/plain": [
       "1"
      ]
     },
     "execution_count": 23,
     "metadata": {},
     "output_type": "execute_result"
    }
   ],
   "source": [
    "len(dw)"
   ]
  },
  {
   "cell_type": "code",
   "execution_count": 24,
   "metadata": {},
   "outputs": [
    {
     "data": {
      "text/plain": [
       "12288"
      ]
     },
     "execution_count": 24,
     "metadata": {},
     "output_type": "execute_result"
    }
   ],
   "source": [
    "len(w)"
   ]
  },
  {
   "cell_type": "code",
   "execution_count": 25,
   "metadata": {},
   "outputs": [
    {
     "ename": "TypeError",
     "evalue": "only size-1 arrays can be converted to Python scalars",
     "output_type": "error",
     "traceback": [
      "\u001b[1;31m---------------------------------------------------------------------------\u001b[0m",
      "\u001b[1;31mTypeError\u001b[0m                                 Traceback (most recent call last)",
      "\u001b[1;32m<ipython-input-25-db2fb766f527>\u001b[0m in \u001b[0;36m<module>\u001b[1;34m()\u001b[0m\n\u001b[0;32m     14\u001b[0m     \u001b[0mxx\u001b[0m \u001b[1;33m=\u001b[0m \u001b[0mX\u001b[0m\u001b[1;33m[\u001b[0m\u001b[1;33m:\u001b[0m\u001b[1;33m,\u001b[0m\u001b[0mi\u001b[0m\u001b[1;33m]\u001b[0m\u001b[1;33m\u001b[0m\u001b[0m\n\u001b[0;32m     15\u001b[0m     \u001b[0mZ\u001b[0m \u001b[1;33m=\u001b[0m \u001b[0mnp\u001b[0m\u001b[1;33m.\u001b[0m\u001b[0mdot\u001b[0m\u001b[1;33m(\u001b[0m\u001b[0mw\u001b[0m\u001b[1;33m.\u001b[0m\u001b[0mT\u001b[0m\u001b[1;33m,\u001b[0m\u001b[0mxx\u001b[0m\u001b[1;33m)\u001b[0m\u001b[1;33m+\u001b[0m\u001b[0mb\u001b[0m\u001b[1;33m\u001b[0m\u001b[0m\n\u001b[1;32m---> 16\u001b[1;33m     \u001b[0mA\u001b[0m \u001b[1;33m=\u001b[0m \u001b[0msigmoid\u001b[0m\u001b[1;33m(\u001b[0m\u001b[0mZ\u001b[0m\u001b[1;33m)\u001b[0m\u001b[1;33m\u001b[0m\u001b[0m\n\u001b[0m\u001b[0;32m     17\u001b[0m     \u001b[0myy\u001b[0m\u001b[1;33m=\u001b[0m\u001b[0mtrain_set_y\u001b[0m\u001b[1;33m[\u001b[0m\u001b[1;33m:\u001b[0m\u001b[1;33m,\u001b[0m\u001b[0mi\u001b[0m\u001b[1;33m]\u001b[0m\u001b[1;33m\u001b[0m\u001b[0m\n\u001b[0;32m     18\u001b[0m \u001b[1;33m\u001b[0m\u001b[0m\n",
      "\u001b[1;32m<ipython-input-25-db2fb766f527>\u001b[0m in \u001b[0;36msigmoid\u001b[1;34m(x)\u001b[0m\n\u001b[0;32m      8\u001b[0m \u001b[1;33m\u001b[0m\u001b[0m\n\u001b[0;32m      9\u001b[0m \u001b[1;32mdef\u001b[0m \u001b[0msigmoid\u001b[0m\u001b[1;33m(\u001b[0m\u001b[0mx\u001b[0m\u001b[1;33m)\u001b[0m\u001b[1;33m:\u001b[0m\u001b[1;33m\u001b[0m\u001b[0m\n\u001b[1;32m---> 10\u001b[1;33m   \u001b[1;32mreturn\u001b[0m \u001b[1;36m1\u001b[0m \u001b[1;33m/\u001b[0m \u001b[1;33m(\u001b[0m\u001b[1;36m1\u001b[0m \u001b[1;33m+\u001b[0m \u001b[0mmath\u001b[0m\u001b[1;33m.\u001b[0m\u001b[0mexp\u001b[0m\u001b[1;33m(\u001b[0m\u001b[1;33m-\u001b[0m\u001b[0mx\u001b[0m\u001b[1;33m)\u001b[0m\u001b[1;33m)\u001b[0m\u001b[1;33m\u001b[0m\u001b[0m\n\u001b[0m\u001b[0;32m     11\u001b[0m \u001b[1;33m\u001b[0m\u001b[0m\n\u001b[0;32m     12\u001b[0m \u001b[1;33m\u001b[0m\u001b[0m\n",
      "\u001b[1;31mTypeError\u001b[0m: only size-1 arrays can be converted to Python scalars"
     ]
    }
   ],
   "source": [
    "X = train_set_x_orig.reshape(train_set_x_orig.shape[0],-1).T\n",
    "w = np.random.rand(X.shape[0],1)\n",
    "b = np.random.rand(1)\n",
    "\n",
    "m = train_set_x_orig.shape[0]\n",
    "alpha = 0.01\n",
    "import math\n",
    "\n",
    "def sigmoid(x):\n",
    "  return 1 / (1 + math.exp(-x))\n",
    "\n",
    "\n",
    "for i in range(X.shape[1]):\n",
    "    xx = X[:,i]\n",
    "    Z = np.dot(w.T,xx)+b\n",
    "    A = sigmoid(Z)\n",
    "    yy=train_set_y[:,i]\n",
    "\n",
    "    dz = A-yy\n",
    "    dw = (1/m)*xx*dz.T\n",
    "    db = (1/m)*np.sum(dz)\n",
    "\n",
    "    w = w - alpha*dw\n",
    "    b = b - alpha*db\n"
   ]
  },
  {
   "cell_type": "code",
   "execution_count": 26,
   "metadata": {},
   "outputs": [
    {
     "data": {
      "text/plain": [
       "1"
      ]
     },
     "execution_count": 26,
     "metadata": {},
     "output_type": "execute_result"
    }
   ],
   "source": [
    "i"
   ]
  },
  {
   "cell_type": "code",
   "execution_count": 27,
   "metadata": {},
   "outputs": [
    {
     "data": {
      "text/plain": [
       "array([0.08133971, 0.14832536, 0.26794258, ..., 0.        , 0.        ,\n",
       "       0.        ])"
      ]
     },
     "execution_count": 27,
     "metadata": {},
     "output_type": "execute_result"
    }
   ],
   "source": [
    "dw"
   ]
  },
  {
   "cell_type": "code",
   "execution_count": 28,
   "metadata": {},
   "outputs": [
    {
     "data": {
      "text/plain": [
       "(12288,)"
      ]
     },
     "execution_count": 28,
     "metadata": {},
     "output_type": "execute_result"
    }
   ],
   "source": [
    "dw.shape"
   ]
  },
  {
   "cell_type": "code",
   "execution_count": 29,
   "metadata": {},
   "outputs": [
    {
     "data": {
      "text/plain": [
       "(12288, 12288)"
      ]
     },
     "execution_count": 29,
     "metadata": {},
     "output_type": "execute_result"
    }
   ],
   "source": [
    "w.shape"
   ]
  },
  {
   "cell_type": "code",
   "execution_count": 30,
   "metadata": {},
   "outputs": [],
   "source": [
    "X = train_set_x_orig.reshape(train_set_x_orig.shape[0],-1).T\n",
    "w = np.random.rand(X.shape[0],1)\n",
    "b = np.random.rand(1)\n",
    "\n",
    "m = train_set_x_orig.shape[0]\n",
    "alpha = 0.01\n",
    "import math"
   ]
  },
  {
   "cell_type": "code",
   "execution_count": 31,
   "metadata": {},
   "outputs": [
    {
     "data": {
      "text/plain": [
       "(12288, 1)"
      ]
     },
     "execution_count": 31,
     "metadata": {},
     "output_type": "execute_result"
    }
   ],
   "source": [
    "w.shape"
   ]
  },
  {
   "cell_type": "code",
   "execution_count": 32,
   "metadata": {},
   "outputs": [],
   "source": [
    "w = np.random.rand(X.shape[0])"
   ]
  },
  {
   "cell_type": "code",
   "execution_count": 33,
   "metadata": {},
   "outputs": [
    {
     "data": {
      "text/plain": [
       "(12288,)"
      ]
     },
     "execution_count": 33,
     "metadata": {},
     "output_type": "execute_result"
    }
   ],
   "source": [
    "w.shape"
   ]
  },
  {
   "cell_type": "code",
   "execution_count": 34,
   "metadata": {},
   "outputs": [
    {
     "ename": "OverflowError",
     "evalue": "math range error",
     "output_type": "error",
     "traceback": [
      "\u001b[1;31m---------------------------------------------------------------------------\u001b[0m",
      "\u001b[1;31mOverflowError\u001b[0m                             Traceback (most recent call last)",
      "\u001b[1;32m<ipython-input-34-41e2e5895b5a>\u001b[0m in \u001b[0;36m<module>\u001b[1;34m()\u001b[0m\n\u001b[0;32m     14\u001b[0m     \u001b[0mxx\u001b[0m \u001b[1;33m=\u001b[0m \u001b[0mX\u001b[0m\u001b[1;33m[\u001b[0m\u001b[1;33m:\u001b[0m\u001b[1;33m,\u001b[0m\u001b[0mi\u001b[0m\u001b[1;33m]\u001b[0m\u001b[1;33m\u001b[0m\u001b[0m\n\u001b[0;32m     15\u001b[0m     \u001b[0mZ\u001b[0m \u001b[1;33m=\u001b[0m \u001b[0mnp\u001b[0m\u001b[1;33m.\u001b[0m\u001b[0mdot\u001b[0m\u001b[1;33m(\u001b[0m\u001b[0mw\u001b[0m\u001b[1;33m.\u001b[0m\u001b[0mT\u001b[0m\u001b[1;33m,\u001b[0m\u001b[0mxx\u001b[0m\u001b[1;33m)\u001b[0m\u001b[1;33m+\u001b[0m\u001b[0mb\u001b[0m\u001b[1;33m\u001b[0m\u001b[0m\n\u001b[1;32m---> 16\u001b[1;33m     \u001b[0mA\u001b[0m \u001b[1;33m=\u001b[0m \u001b[0msigmoid\u001b[0m\u001b[1;33m(\u001b[0m\u001b[0mZ\u001b[0m\u001b[1;33m)\u001b[0m\u001b[1;33m\u001b[0m\u001b[0m\n\u001b[0m\u001b[0;32m     17\u001b[0m     \u001b[0myy\u001b[0m\u001b[1;33m=\u001b[0m\u001b[0mtrain_set_y\u001b[0m\u001b[1;33m[\u001b[0m\u001b[1;33m:\u001b[0m\u001b[1;33m,\u001b[0m\u001b[0mi\u001b[0m\u001b[1;33m]\u001b[0m\u001b[1;33m\u001b[0m\u001b[0m\n\u001b[0;32m     18\u001b[0m \u001b[1;33m\u001b[0m\u001b[0m\n",
      "\u001b[1;32m<ipython-input-34-41e2e5895b5a>\u001b[0m in \u001b[0;36msigmoid\u001b[1;34m(x)\u001b[0m\n\u001b[0;32m      8\u001b[0m \u001b[1;33m\u001b[0m\u001b[0m\n\u001b[0;32m      9\u001b[0m \u001b[1;32mdef\u001b[0m \u001b[0msigmoid\u001b[0m\u001b[1;33m(\u001b[0m\u001b[0mx\u001b[0m\u001b[1;33m)\u001b[0m\u001b[1;33m:\u001b[0m\u001b[1;33m\u001b[0m\u001b[0m\n\u001b[1;32m---> 10\u001b[1;33m   \u001b[1;32mreturn\u001b[0m \u001b[1;36m1\u001b[0m \u001b[1;33m/\u001b[0m \u001b[1;33m(\u001b[0m\u001b[1;36m1\u001b[0m \u001b[1;33m+\u001b[0m \u001b[0mmath\u001b[0m\u001b[1;33m.\u001b[0m\u001b[0mexp\u001b[0m\u001b[1;33m(\u001b[0m\u001b[1;33m-\u001b[0m\u001b[0mx\u001b[0m\u001b[1;33m)\u001b[0m\u001b[1;33m)\u001b[0m\u001b[1;33m\u001b[0m\u001b[0m\n\u001b[0m\u001b[0;32m     11\u001b[0m \u001b[1;33m\u001b[0m\u001b[0m\n\u001b[0;32m     12\u001b[0m \u001b[1;33m\u001b[0m\u001b[0m\n",
      "\u001b[1;31mOverflowError\u001b[0m: math range error"
     ]
    }
   ],
   "source": [
    "X = train_set_x_orig.reshape(train_set_x_orig.shape[0],-1).T\n",
    "w = np.random.rand(X.shape[0])\n",
    "b = np.random.rand(1)\n",
    "\n",
    "m = train_set_x_orig.shape[0]\n",
    "alpha = 0.01\n",
    "import math\n",
    "\n",
    "def sigmoid(x):\n",
    "  return 1 / (1 + math.exp(-x))\n",
    "\n",
    "\n",
    "for i in range(X.shape[1]):\n",
    "    xx = X[:,i]\n",
    "    Z = np.dot(w.T,xx)+b\n",
    "    A = sigmoid(Z)\n",
    "    yy=train_set_y[:,i]\n",
    "\n",
    "    dz = A-yy\n",
    "    dw = (1/m)*xx*dz.T\n",
    "    db = (1/m)*np.sum(dz)\n",
    "\n",
    "    w = w - alpha*dw\n",
    "    b = b - alpha*db\n"
   ]
  },
  {
   "cell_type": "code",
   "execution_count": 35,
   "metadata": {},
   "outputs": [
    {
     "data": {
      "text/plain": [
       "array([0., 0., 0., ..., 0., 0., 0.])"
      ]
     },
     "execution_count": 35,
     "metadata": {},
     "output_type": "execute_result"
    }
   ],
   "source": [
    "dw"
   ]
  },
  {
   "cell_type": "code",
   "execution_count": 36,
   "metadata": {},
   "outputs": [
    {
     "data": {
      "text/plain": [
       "array([-0.04205502, -0.41844867,  0.50337286, ...,  0.24459135,\n",
       "        0.1184121 ,  0.40072357])"
      ]
     },
     "execution_count": 36,
     "metadata": {},
     "output_type": "execute_result"
    }
   ],
   "source": [
    "w"
   ]
  },
  {
   "cell_type": "code",
   "execution_count": 37,
   "metadata": {},
   "outputs": [
    {
     "data": {
      "text/plain": [
       "157"
      ]
     },
     "execution_count": 37,
     "metadata": {},
     "output_type": "execute_result"
    }
   ],
   "source": [
    "i"
   ]
  },
  {
   "cell_type": "code",
   "execution_count": 38,
   "metadata": {},
   "outputs": [
    {
     "data": {
      "text/plain": [
       "(12288, 209)"
      ]
     },
     "execution_count": 38,
     "metadata": {},
     "output_type": "execute_result"
    }
   ],
   "source": [
    "X.shape"
   ]
  },
  {
   "cell_type": "code",
   "execution_count": 39,
   "metadata": {},
   "outputs": [
    {
     "data": {
      "text/plain": [
       "array([-20941.84979381])"
      ]
     },
     "execution_count": 39,
     "metadata": {},
     "output_type": "execute_result"
    }
   ],
   "source": [
    "Z"
   ]
  },
  {
   "cell_type": "code",
   "execution_count": 40,
   "metadata": {},
   "outputs": [],
   "source": [
    "X = train_set_x_orig.reshape(train_set_x_orig.shape[0],-1).T\n",
    "w = np.random.rand(X.shape[0])\n",
    "b = np.random.rand(1)\n",
    "\n",
    "m = train_set_x_orig.shape[0]\n",
    "alpha = 0.01\n",
    "import math"
   ]
  },
  {
   "cell_type": "code",
   "execution_count": 41,
   "metadata": {},
   "outputs": [
    {
     "data": {
      "text/plain": [
       "(12288,)"
      ]
     },
     "execution_count": 41,
     "metadata": {},
     "output_type": "execute_result"
    }
   ],
   "source": [
    "w.T.shape"
   ]
  },
  {
   "cell_type": "code",
   "execution_count": 42,
   "metadata": {},
   "outputs": [
    {
     "data": {
      "text/plain": [
       "(12288,)"
      ]
     },
     "execution_count": 42,
     "metadata": {},
     "output_type": "execute_result"
    }
   ],
   "source": [
    "xx.shape"
   ]
  },
  {
   "cell_type": "code",
   "execution_count": 43,
   "metadata": {},
   "outputs": [
    {
     "data": {
      "text/plain": [
       "(12288,)"
      ]
     },
     "execution_count": 43,
     "metadata": {},
     "output_type": "execute_result"
    }
   ],
   "source": [
    "w.shape"
   ]
  },
  {
   "cell_type": "code",
   "execution_count": 44,
   "metadata": {},
   "outputs": [
    {
     "data": {
      "text/plain": [
       "(12288,)"
      ]
     },
     "execution_count": 44,
     "metadata": {},
     "output_type": "execute_result"
    }
   ],
   "source": [
    "xx.shape"
   ]
  },
  {
   "cell_type": "code",
   "execution_count": 45,
   "metadata": {},
   "outputs": [
    {
     "data": {
      "text/plain": [
       "numpy.ndarray"
      ]
     },
     "execution_count": 45,
     "metadata": {},
     "output_type": "execute_result"
    }
   ],
   "source": [
    "type(xx)"
   ]
  },
  {
   "cell_type": "code",
   "execution_count": 46,
   "metadata": {},
   "outputs": [
    {
     "data": {
      "text/plain": [
       "(12288, 209)"
      ]
     },
     "execution_count": 46,
     "metadata": {},
     "output_type": "execute_result"
    }
   ],
   "source": [
    "X.shape"
   ]
  },
  {
   "cell_type": "code",
   "execution_count": 47,
   "metadata": {},
   "outputs": [],
   "source": [
    "X = train_set_x_orig.reshape(train_set_x_orig.shape[0],-1).T\n",
    "w = np.random.rand(X.shape[0],1)\n",
    "b = np.random.rand(1)\n",
    "\n",
    "m = train_set_x_orig.shape[0]\n",
    "alpha = 0.01\n",
    "import math"
   ]
  },
  {
   "cell_type": "code",
   "execution_count": 48,
   "metadata": {},
   "outputs": [
    {
     "data": {
      "text/plain": [
       "(12288, 1)"
      ]
     },
     "execution_count": 48,
     "metadata": {},
     "output_type": "execute_result"
    }
   ],
   "source": [
    "w.shape"
   ]
  },
  {
   "cell_type": "code",
   "execution_count": 52,
   "metadata": {},
   "outputs": [
    {
     "data": {
      "text/plain": [
       "(12288, 1)"
      ]
     },
     "execution_count": 52,
     "metadata": {},
     "output_type": "execute_result"
    }
   ],
   "source": [
    "xx.shape"
   ]
  },
  {
   "cell_type": "code",
   "execution_count": 53,
   "metadata": {},
   "outputs": [
    {
     "ename": "OverflowError",
     "evalue": "math range error",
     "output_type": "error",
     "traceback": [
      "\u001b[1;31m---------------------------------------------------------------------------\u001b[0m",
      "\u001b[1;31mOverflowError\u001b[0m                             Traceback (most recent call last)",
      "\u001b[1;32m<ipython-input-53-1d1a173846f0>\u001b[0m in \u001b[0;36m<module>\u001b[1;34m()\u001b[0m\n\u001b[0;32m      2\u001b[0m     \u001b[0mxx\u001b[0m \u001b[1;33m=\u001b[0m \u001b[0mX\u001b[0m\u001b[1;33m[\u001b[0m\u001b[1;33m:\u001b[0m\u001b[1;33m,\u001b[0m\u001b[0mi\u001b[0m\u001b[1;33m]\u001b[0m\u001b[1;33m.\u001b[0m\u001b[0mreshape\u001b[0m\u001b[1;33m(\u001b[0m\u001b[1;33m-\u001b[0m\u001b[1;36m1\u001b[0m\u001b[1;33m,\u001b[0m\u001b[1;36m1\u001b[0m\u001b[1;33m)\u001b[0m\u001b[1;33m\u001b[0m\u001b[0m\n\u001b[0;32m      3\u001b[0m     \u001b[0mZ\u001b[0m \u001b[1;33m=\u001b[0m \u001b[0mnp\u001b[0m\u001b[1;33m.\u001b[0m\u001b[0mdot\u001b[0m\u001b[1;33m(\u001b[0m\u001b[0mw\u001b[0m\u001b[1;33m.\u001b[0m\u001b[0mT\u001b[0m\u001b[1;33m,\u001b[0m\u001b[0mxx\u001b[0m\u001b[1;33m)\u001b[0m\u001b[1;33m+\u001b[0m\u001b[0mb\u001b[0m\u001b[1;33m\u001b[0m\u001b[0m\n\u001b[1;32m----> 4\u001b[1;33m     \u001b[0mA\u001b[0m \u001b[1;33m=\u001b[0m \u001b[0msigmoid\u001b[0m\u001b[1;33m(\u001b[0m\u001b[0mZ\u001b[0m\u001b[1;33m)\u001b[0m\u001b[1;33m\u001b[0m\u001b[0m\n\u001b[0m\u001b[0;32m      5\u001b[0m     \u001b[0myy\u001b[0m\u001b[1;33m=\u001b[0m\u001b[0mtrain_set_y\u001b[0m\u001b[1;33m[\u001b[0m\u001b[1;33m:\u001b[0m\u001b[1;33m,\u001b[0m\u001b[0mi\u001b[0m\u001b[1;33m]\u001b[0m\u001b[1;33m\u001b[0m\u001b[0m\n\u001b[0;32m      6\u001b[0m \u001b[1;33m\u001b[0m\u001b[0m\n",
      "\u001b[1;32m<ipython-input-34-41e2e5895b5a>\u001b[0m in \u001b[0;36msigmoid\u001b[1;34m(x)\u001b[0m\n\u001b[0;32m      8\u001b[0m \u001b[1;33m\u001b[0m\u001b[0m\n\u001b[0;32m      9\u001b[0m \u001b[1;32mdef\u001b[0m \u001b[0msigmoid\u001b[0m\u001b[1;33m(\u001b[0m\u001b[0mx\u001b[0m\u001b[1;33m)\u001b[0m\u001b[1;33m:\u001b[0m\u001b[1;33m\u001b[0m\u001b[0m\n\u001b[1;32m---> 10\u001b[1;33m   \u001b[1;32mreturn\u001b[0m \u001b[1;36m1\u001b[0m \u001b[1;33m/\u001b[0m \u001b[1;33m(\u001b[0m\u001b[1;36m1\u001b[0m \u001b[1;33m+\u001b[0m \u001b[0mmath\u001b[0m\u001b[1;33m.\u001b[0m\u001b[0mexp\u001b[0m\u001b[1;33m(\u001b[0m\u001b[1;33m-\u001b[0m\u001b[0mx\u001b[0m\u001b[1;33m)\u001b[0m\u001b[1;33m)\u001b[0m\u001b[1;33m\u001b[0m\u001b[0m\n\u001b[0m\u001b[0;32m     11\u001b[0m \u001b[1;33m\u001b[0m\u001b[0m\n\u001b[0;32m     12\u001b[0m \u001b[1;33m\u001b[0m\u001b[0m\n",
      "\u001b[1;31mOverflowError\u001b[0m: math range error"
     ]
    }
   ],
   "source": [
    "for i in range(X.shape[1]):\n",
    "    xx = X[:,i].reshape(-1,1)\n",
    "    Z = np.dot(w.T,xx)+b\n",
    "    A = sigmoid(Z)\n",
    "    yy=train_set_y[:,i]\n",
    "\n",
    "    dz = A-yy\n",
    "    dw = (1/m)*xx*dz.T\n",
    "    db = (1/m)*np.sum(dz)\n",
    "\n",
    "    w = w - alpha*dw\n",
    "    b = b - alpha*db"
   ]
  },
  {
   "cell_type": "code",
   "execution_count": 54,
   "metadata": {},
   "outputs": [
    {
     "data": {
      "text/plain": [
       "array([[-19246.53124678]])"
      ]
     },
     "execution_count": 54,
     "metadata": {},
     "output_type": "execute_result"
    }
   ],
   "source": [
    "Z"
   ]
  },
  {
   "cell_type": "code",
   "execution_count": 55,
   "metadata": {},
   "outputs": [
    {
     "data": {
      "text/plain": [
       "array([0.24383031])"
      ]
     },
     "execution_count": 55,
     "metadata": {},
     "output_type": "execute_result"
    }
   ],
   "source": [
    "b"
   ]
  },
  {
   "cell_type": "code",
   "execution_count": 57,
   "metadata": {},
   "outputs": [
    {
     "data": {
      "text/plain": [
       "(1, 1)"
      ]
     },
     "execution_count": 57,
     "metadata": {},
     "output_type": "execute_result"
    }
   ],
   "source": [
    "np.dot(w.T,xx).shape"
   ]
  },
  {
   "cell_type": "code",
   "execution_count": 58,
   "metadata": {},
   "outputs": [
    {
     "ename": "AttributeError",
     "evalue": "'float' object has no attribute 'shape'",
     "output_type": "error",
     "traceback": [
      "\u001b[1;31m---------------------------------------------------------------------------\u001b[0m",
      "\u001b[1;31mAttributeError\u001b[0m                            Traceback (most recent call last)",
      "\u001b[1;32m<ipython-input-58-d5a4efdcb733>\u001b[0m in \u001b[0;36m<module>\u001b[1;34m()\u001b[0m\n\u001b[1;32m----> 1\u001b[1;33m \u001b[0mA\u001b[0m\u001b[1;33m.\u001b[0m\u001b[0mshape\u001b[0m\u001b[1;33m\u001b[0m\u001b[0m\n\u001b[0m",
      "\u001b[1;31mAttributeError\u001b[0m: 'float' object has no attribute 'shape'"
     ]
    }
   ],
   "source": [
    "A.shape"
   ]
  },
  {
   "cell_type": "code",
   "execution_count": 59,
   "metadata": {},
   "outputs": [
    {
     "ename": "OverflowError",
     "evalue": "math range error",
     "output_type": "error",
     "traceback": [
      "\u001b[1;31m---------------------------------------------------------------------------\u001b[0m",
      "\u001b[1;31mOverflowError\u001b[0m                             Traceback (most recent call last)",
      "\u001b[1;32m<ipython-input-59-499fdc1d7608>\u001b[0m in \u001b[0;36m<module>\u001b[1;34m()\u001b[0m\n\u001b[0;32m     14\u001b[0m     \u001b[0mxx\u001b[0m \u001b[1;33m=\u001b[0m \u001b[0mX\u001b[0m\u001b[1;33m[\u001b[0m\u001b[1;33m:\u001b[0m\u001b[1;33m,\u001b[0m\u001b[0mi\u001b[0m\u001b[1;33m]\u001b[0m\u001b[1;33m.\u001b[0m\u001b[0mreshape\u001b[0m\u001b[1;33m(\u001b[0m\u001b[1;33m-\u001b[0m\u001b[1;36m1\u001b[0m\u001b[1;33m,\u001b[0m\u001b[1;36m1\u001b[0m\u001b[1;33m)\u001b[0m\u001b[1;33m\u001b[0m\u001b[0m\n\u001b[0;32m     15\u001b[0m     \u001b[0mZ\u001b[0m \u001b[1;33m=\u001b[0m \u001b[0mnp\u001b[0m\u001b[1;33m.\u001b[0m\u001b[0mdot\u001b[0m\u001b[1;33m(\u001b[0m\u001b[0mw\u001b[0m\u001b[1;33m.\u001b[0m\u001b[0mT\u001b[0m\u001b[1;33m,\u001b[0m\u001b[0mxx\u001b[0m\u001b[1;33m)\u001b[0m\u001b[1;33m+\u001b[0m\u001b[0mb\u001b[0m\u001b[1;33m\u001b[0m\u001b[0m\n\u001b[1;32m---> 16\u001b[1;33m     \u001b[0mA\u001b[0m \u001b[1;33m=\u001b[0m \u001b[0msigmoid\u001b[0m\u001b[1;33m(\u001b[0m\u001b[0mZ\u001b[0m\u001b[1;33m)\u001b[0m\u001b[1;33m\u001b[0m\u001b[0m\n\u001b[0m\u001b[0;32m     17\u001b[0m     \u001b[0myy\u001b[0m\u001b[1;33m=\u001b[0m\u001b[0mtrain_set_y\u001b[0m\u001b[1;33m[\u001b[0m\u001b[1;33m:\u001b[0m\u001b[1;33m,\u001b[0m\u001b[0mi\u001b[0m\u001b[1;33m]\u001b[0m\u001b[1;33m.\u001b[0m\u001b[0mreshape\u001b[0m\u001b[1;33m(\u001b[0m\u001b[1;33m-\u001b[0m\u001b[1;36m1\u001b[0m\u001b[1;33m,\u001b[0m\u001b[1;36m1\u001b[0m\u001b[1;33m)\u001b[0m\u001b[1;33m\u001b[0m\u001b[0m\n\u001b[0;32m     18\u001b[0m \u001b[1;33m\u001b[0m\u001b[0m\n",
      "\u001b[1;32m<ipython-input-59-499fdc1d7608>\u001b[0m in \u001b[0;36msigmoid\u001b[1;34m(x)\u001b[0m\n\u001b[0;32m      8\u001b[0m \u001b[1;33m\u001b[0m\u001b[0m\n\u001b[0;32m      9\u001b[0m \u001b[1;32mdef\u001b[0m \u001b[0msigmoid\u001b[0m\u001b[1;33m(\u001b[0m\u001b[0mx\u001b[0m\u001b[1;33m)\u001b[0m\u001b[1;33m:\u001b[0m\u001b[1;33m\u001b[0m\u001b[0m\n\u001b[1;32m---> 10\u001b[1;33m   \u001b[1;32mreturn\u001b[0m \u001b[1;36m1\u001b[0m \u001b[1;33m/\u001b[0m \u001b[1;33m(\u001b[0m\u001b[1;36m1\u001b[0m \u001b[1;33m+\u001b[0m \u001b[0mmath\u001b[0m\u001b[1;33m.\u001b[0m\u001b[0mexp\u001b[0m\u001b[1;33m(\u001b[0m\u001b[1;33m-\u001b[0m\u001b[0mx\u001b[0m\u001b[1;33m)\u001b[0m\u001b[1;33m)\u001b[0m\u001b[1;33m\u001b[0m\u001b[0m\n\u001b[0m\u001b[0;32m     11\u001b[0m \u001b[1;33m\u001b[0m\u001b[0m\n\u001b[0;32m     12\u001b[0m \u001b[1;33m\u001b[0m\u001b[0m\n",
      "\u001b[1;31mOverflowError\u001b[0m: math range error"
     ]
    }
   ],
   "source": [
    "X = train_set_x_orig.reshape(train_set_x_orig.shape[0],-1).T\n",
    "w = np.random.rand(X.shape[0],1)\n",
    "b = np.random.rand(1)\n",
    "\n",
    "m = train_set_x_orig.shape[0]\n",
    "alpha = 0.01\n",
    "import math\n",
    "\n",
    "def sigmoid(x):\n",
    "  return 1 / (1 + math.exp(-x))\n",
    "\n",
    "\n",
    "for i in range(X.shape[1]):\n",
    "    xx = X[:,i].reshape(-1,1)\n",
    "    Z = np.dot(w.T,xx)+b\n",
    "    A = sigmoid(Z)\n",
    "    yy=train_set_y[:,i].reshape(-1,1)\n",
    "\n",
    "    dz = A-yy\n",
    "    dw = (1/m)*xx*dz.T\n",
    "    db = (1/m)*np.sum(dz)\n",
    "\n",
    "    w = w - alpha*dw\n",
    "    b = b - alpha*db"
   ]
  },
  {
   "cell_type": "code",
   "execution_count": 60,
   "metadata": {},
   "outputs": [
    {
     "data": {
      "text/plain": [
       "1.0"
      ]
     },
     "execution_count": 60,
     "metadata": {},
     "output_type": "execute_result"
    }
   ],
   "source": [
    "A"
   ]
  },
  {
   "cell_type": "code",
   "execution_count": 61,
   "metadata": {},
   "outputs": [
    {
     "data": {
      "text/plain": [
       "array([[-1071.93035274]])"
      ]
     },
     "execution_count": 61,
     "metadata": {},
     "output_type": "execute_result"
    }
   ],
   "source": [
    "Z"
   ]
  },
  {
   "cell_type": "code",
   "execution_count": 63,
   "metadata": {},
   "outputs": [
    {
     "data": {
      "text/plain": [
       "array([[-1071.93035274]])"
      ]
     },
     "execution_count": 63,
     "metadata": {},
     "output_type": "execute_result"
    }
   ],
   "source": [
    "Z"
   ]
  },
  {
   "cell_type": "code",
   "execution_count": 65,
   "metadata": {},
   "outputs": [
    {
     "ename": "OverflowError",
     "evalue": "math range error",
     "output_type": "error",
     "traceback": [
      "\u001b[1;31m---------------------------------------------------------------------------\u001b[0m",
      "\u001b[1;31mOverflowError\u001b[0m                             Traceback (most recent call last)",
      "\u001b[1;32m<ipython-input-65-02d89f8726fc>\u001b[0m in \u001b[0;36m<module>\u001b[1;34m()\u001b[0m\n\u001b[1;32m----> 1\u001b[1;33m \u001b[0msigmoid\u001b[0m\u001b[1;33m(\u001b[0m\u001b[0mZ\u001b[0m\u001b[1;33m[\u001b[0m\u001b[1;36m0\u001b[0m\u001b[1;33m]\u001b[0m\u001b[1;33m[\u001b[0m\u001b[1;36m0\u001b[0m\u001b[1;33m]\u001b[0m\u001b[1;33m)\u001b[0m\u001b[1;33m\u001b[0m\u001b[0m\n\u001b[0m",
      "\u001b[1;32m<ipython-input-59-499fdc1d7608>\u001b[0m in \u001b[0;36msigmoid\u001b[1;34m(x)\u001b[0m\n\u001b[0;32m      8\u001b[0m \u001b[1;33m\u001b[0m\u001b[0m\n\u001b[0;32m      9\u001b[0m \u001b[1;32mdef\u001b[0m \u001b[0msigmoid\u001b[0m\u001b[1;33m(\u001b[0m\u001b[0mx\u001b[0m\u001b[1;33m)\u001b[0m\u001b[1;33m:\u001b[0m\u001b[1;33m\u001b[0m\u001b[0m\n\u001b[1;32m---> 10\u001b[1;33m   \u001b[1;32mreturn\u001b[0m \u001b[1;36m1\u001b[0m \u001b[1;33m/\u001b[0m \u001b[1;33m(\u001b[0m\u001b[1;36m1\u001b[0m \u001b[1;33m+\u001b[0m \u001b[0mmath\u001b[0m\u001b[1;33m.\u001b[0m\u001b[0mexp\u001b[0m\u001b[1;33m(\u001b[0m\u001b[1;33m-\u001b[0m\u001b[0mx\u001b[0m\u001b[1;33m)\u001b[0m\u001b[1;33m)\u001b[0m\u001b[1;33m\u001b[0m\u001b[0m\n\u001b[0m\u001b[0;32m     11\u001b[0m \u001b[1;33m\u001b[0m\u001b[0m\n\u001b[0;32m     12\u001b[0m \u001b[1;33m\u001b[0m\u001b[0m\n",
      "\u001b[1;31mOverflowError\u001b[0m: math range error"
     ]
    }
   ],
   "source": [
    "sigmoid(Z[0][0])"
   ]
  },
  {
   "cell_type": "code",
   "execution_count": 66,
   "metadata": {},
   "outputs": [],
   "source": [
    "X = train_set_x_orig.reshape(train_set_x_orig.shape[0],-1).T\n",
    "w = np.random.rand(X.shape[0],1)\n",
    "b = np.random.rand(1)\n",
    "\n",
    "m = train_set_x_orig.shape[0]\n",
    "alpha = 0.01\n",
    "import math\n",
    "\n",
    "def sigmoid(x):\n",
    "  return 1 / (1 + math.exp(-x))"
   ]
  },
  {
   "cell_type": "code",
   "execution_count": 67,
   "metadata": {},
   "outputs": [],
   "source": [
    "i = 0"
   ]
  },
  {
   "cell_type": "code",
   "execution_count": 68,
   "metadata": {},
   "outputs": [],
   "source": [
    "    xx = X[:,i].reshape(-1,1)\n",
    "    Z = np.dot(w.T,xx)+b\n",
    "    A = sigmoid(Z)\n",
    "    yy=train_set_y[:,i].reshape(-1,1)\n",
    "\n",
    "    dz = A-yy\n",
    "    dw = (1/m)*xx*dz.T\n",
    "    db = (1/m)*np.sum(dz)\n",
    "\n",
    "    w = w - alpha*dw\n",
    "    b = b - alpha*db"
   ]
  },
  {
   "cell_type": "code",
   "execution_count": 69,
   "metadata": {},
   "outputs": [
    {
     "data": {
      "text/plain": [
       "1.0"
      ]
     },
     "execution_count": 69,
     "metadata": {},
     "output_type": "execute_result"
    }
   ],
   "source": [
    "A"
   ]
  },
  {
   "cell_type": "code",
   "execution_count": 70,
   "metadata": {},
   "outputs": [
    {
     "data": {
      "text/plain": [
       "array([[417677.92673364]])"
      ]
     },
     "execution_count": 70,
     "metadata": {},
     "output_type": "execute_result"
    }
   ],
   "source": [
    "Z"
   ]
  },
  {
   "cell_type": "code",
   "execution_count": 72,
   "metadata": {},
   "outputs": [
    {
     "data": {
      "text/plain": [
       "(1, 12288)"
      ]
     },
     "execution_count": 72,
     "metadata": {},
     "output_type": "execute_result"
    }
   ],
   "source": [
    "w.T.shape"
   ]
  },
  {
   "cell_type": "code",
   "execution_count": 73,
   "metadata": {},
   "outputs": [
    {
     "data": {
      "text/plain": [
       "(12288, 1)"
      ]
     },
     "execution_count": 73,
     "metadata": {},
     "output_type": "execute_result"
    }
   ],
   "source": [
    "xx.shape"
   ]
  },
  {
   "cell_type": "code",
   "execution_count": 75,
   "metadata": {},
   "outputs": [
    {
     "data": {
      "text/plain": [
       "array([[17],\n",
       "       [31],\n",
       "       [56],\n",
       "       ...,\n",
       "       [ 0],\n",
       "       [ 0],\n",
       "       [ 0]], dtype=uint8)"
      ]
     },
     "execution_count": 75,
     "metadata": {},
     "output_type": "execute_result"
    }
   ],
   "source": [
    "xx"
   ]
  },
  {
   "cell_type": "code",
   "execution_count": 76,
   "metadata": {},
   "outputs": [],
   "source": [
    "\n",
    "X = train_set_x_orig.reshape(train_set_x_orig.shape[0],-1).T\n",
    "w = np.random.rand(X.shape[0],1)\n",
    "b = np.random.rand(1)\n",
    "\n",
    "m = train_set_x_orig.shape[0]\n",
    "alpha = 0.0001\n",
    "import math\n",
    "\n",
    "def sigmoid(x):\n",
    "  return 1 / (1 + math.exp(-x))\n",
    "\n",
    "\n",
    "for i in range(X.shape[1]):\n",
    "    xx = X[:,i].reshape(-1,1)\n",
    "    Z = np.dot(w.T,xx)+b\n",
    "    A = sigmoid(Z)\n",
    "    yy=train_set_y[:,i].reshape(-1,1)\n",
    "\n",
    "    dz = A-yy\n",
    "    dw = (1/m)*xx*dz.T\n",
    "    db = (1/m)*np.sum(dz)\n",
    "\n",
    "    w = w - alpha*dw\n",
    "    b = b - alpha*db"
   ]
  },
  {
   "cell_type": "code",
   "execution_count": 77,
   "metadata": {},
   "outputs": [],
   "source": [
    "X_test = test_set_x_orig.reshape(test_set_x_orig.shape[0],-1).T\n",
    "y_hat = np.dot(w.T,X_test)+b"
   ]
  },
  {
   "cell_type": "code",
   "execution_count": 79,
   "metadata": {},
   "outputs": [
    {
     "data": {
      "text/plain": [
       "array([[0.06199129],\n",
       "       [0.39721246],\n",
       "       [0.15219858],\n",
       "       ...,\n",
       "       [0.77190004],\n",
       "       [0.71948257],\n",
       "       [0.54185864]])"
      ]
     },
     "execution_count": 79,
     "metadata": {},
     "output_type": "execute_result"
    }
   ],
   "source": [
    "w"
   ]
  },
  {
   "cell_type": "code",
   "execution_count": 80,
   "metadata": {},
   "outputs": [
    {
     "data": {
      "text/plain": [
       "array([0.96047101])"
      ]
     },
     "execution_count": 80,
     "metadata": {},
     "output_type": "execute_result"
    }
   ],
   "source": [
    "b"
   ]
  },
  {
   "cell_type": "code",
   "execution_count": 81,
   "metadata": {},
   "outputs": [
    {
     "data": {
      "text/plain": [
       "array([[158, 115, 255, ...,  41,  18, 133],\n",
       "       [104, 110, 253, ...,  47,  18, 163],\n",
       "       [ 83, 111, 254, ...,  84,  16,  75],\n",
       "       ...,\n",
       "       [173, 171, 133, ..., 183, 144,   5],\n",
       "       [128, 176, 101, ..., 141, 137,  22],\n",
       "       [110, 186, 121, ..., 116, 108,   5]], dtype=uint8)"
      ]
     },
     "execution_count": 81,
     "metadata": {},
     "output_type": "execute_result"
    }
   ],
   "source": [
    "X_test"
   ]
  },
  {
   "cell_type": "code",
   "execution_count": 82,
   "metadata": {},
   "outputs": [],
   "source": [
    "X = train_set_x_orig.reshape(train_set_x_orig.shape[0],-1).T\n",
    "w = 0.01 * np.random.rand(X.shape[0],1)\n",
    "b = 0.01 * np.random.rand(1)\n",
    "\n",
    "m = train_set_x_orig.shape[0]\n",
    "alpha = 0.0001\n",
    "import math\n",
    "\n",
    "def sigmoid(x):\n",
    "  return 1 / (1 + math.exp(-x))\n",
    "\n",
    "\n",
    "for i in range(X.shape[1]):\n",
    "    xx = X[:,i].reshape(-1,1)\n",
    "    Z = np.dot(w.T,xx)+b\n",
    "    A = sigmoid(Z)\n",
    "    yy=train_set_y[:,i].reshape(-1,1)\n",
    "\n",
    "    dz = A-yy\n",
    "    dw = (1/m)*xx*dz.T\n",
    "    db = (1/m)*np.sum(dz)\n",
    "\n",
    "    w = w - alpha*dw\n",
    "    b = b - alpha*db\n",
    "\n",
    "# test\n",
    "\n",
    "X_test = test_set_x_orig.reshape(test_set_x_orig.shape[0],-1).T\n",
    "y_hat = np.dot(w.T,X_test)+b"
   ]
  },
  {
   "cell_type": "code",
   "execution_count": 83,
   "metadata": {},
   "outputs": [
    {
     "data": {
      "text/plain": [
       "array([[-111.69369819,   84.24073543, -136.80031913, -154.90576897,\n",
       "        -164.85990972,   -2.72064262, -180.79797564,    3.76537172,\n",
       "         -63.26226797,  -77.68360241,  -68.31278872, -167.41807481,\n",
       "          -5.75007867,   62.74555974, -207.56127709, -106.67785696,\n",
       "        -158.39987539, -178.31043838, -418.17131825, -298.82707312,\n",
       "        -125.70955329, -225.62241145, -188.10330079, -114.77504308,\n",
       "         -30.65247661, -152.33525864, -240.78564912, -161.082861  ,\n",
       "         -71.95519351, -266.76284702,  -46.04247869, -107.23048944,\n",
       "        -147.25713467,  -84.91301837, -100.04976519, -336.62787069,\n",
       "        -122.54992604,  -69.51242224,  -49.02445585, -268.6060647 ,\n",
       "        -246.06348161,   91.43349217,  -79.24846124, -242.34759593,\n",
       "          43.5713877 , -140.98099663, -156.20886491,   11.11255314,\n",
       "         -43.84271141, -191.36347325]])"
      ]
     },
     "execution_count": 83,
     "metadata": {},
     "output_type": "execute_result"
    }
   ],
   "source": [
    "y_hat"
   ]
  },
  {
   "cell_type": "code",
   "execution_count": 87,
   "metadata": {},
   "outputs": [
    {
     "data": {
      "text/plain": [
       "array([[0.],\n",
       "       [0.],\n",
       "       [0.],\n",
       "       ...,\n",
       "       [0.],\n",
       "       [0.],\n",
       "       [0.]])"
      ]
     },
     "execution_count": 87,
     "metadata": {},
     "output_type": "execute_result"
    }
   ],
   "source": [
    "np.zeros((X.shape[0],1))"
   ]
  },
  {
   "cell_type": "code",
   "execution_count": 88,
   "metadata": {},
   "outputs": [],
   "source": [
    "X = train_set_x_orig.reshape(train_set_x_orig.shape[0],-1).T\n",
    "#w = np.random.rand(X.shape[0],1)\n",
    "#b = np.random.rand(1)\n",
    "w = np.zeros((X.shape[0],1))\n",
    "b = 0\n",
    "\n",
    "m = train_set_x_orig.shape[0]\n",
    "alpha = 0.0001\n",
    "import math\n",
    "\n",
    "def sigmoid(x):\n",
    "  return 1 / (1 + math.exp(-x))\n",
    "\n",
    "\n",
    "for i in range(X.shape[1]):\n",
    "    xx = X[:,i].reshape(-1,1)\n",
    "    Z = np.dot(w.T,xx)+b\n",
    "    A = sigmoid(Z)\n",
    "    yy=train_set_y[:,i].reshape(-1,1)\n",
    "\n",
    "    dz = A-yy\n",
    "    dw = (1/m)*xx*dz.T\n",
    "    db = (1/m)*np.sum(dz)\n",
    "\n",
    "    w = w - alpha*dw\n",
    "    b = b - alpha*db"
   ]
  },
  {
   "cell_type": "code",
   "execution_count": 89,
   "metadata": {},
   "outputs": [],
   "source": [
    "X_test = test_set_x_orig.reshape(test_set_x_orig.shape[0],-1).T\n",
    "y_hat = np.dot(w.T,X_test)+b\n"
   ]
  },
  {
   "cell_type": "code",
   "execution_count": 90,
   "metadata": {},
   "outputs": [
    {
     "data": {
      "text/plain": [
       "array([[-16.79211665, -19.55034897, -27.33776592, -10.030996  ,\n",
       "        -34.68497635, -19.00754079, -37.04147185, -12.12810426,\n",
       "        -22.36635253,  -1.92810818, -37.46706356, -20.56577399,\n",
       "        -19.96444644,  -4.6276895 , -29.68314277, -10.82459736,\n",
       "        -31.6501523 , -25.61293102, -32.35164518, -33.65521436,\n",
       "        -32.98203526, -31.57765733, -33.03414744, -31.4460218 ,\n",
       "         -9.33390631,  -0.47126589, -33.93442476, -37.08644455,\n",
       "        -17.76266878, -11.61712094, -36.38475318, -20.36514929,\n",
       "        -33.02125707, -14.756824  , -27.39271398, -46.16597732,\n",
       "        -35.9824477 , -18.0863183 , -15.16016304, -42.19892814,\n",
       "         -6.54151022, -10.79782487, -34.24355148, -27.97585808,\n",
       "         -6.65436438, -20.99912572, -27.84253123,  15.92467777,\n",
       "        -31.18565014, -43.30471025]])"
      ]
     },
     "execution_count": 90,
     "metadata": {},
     "output_type": "execute_result"
    }
   ],
   "source": [
    "y_hat"
   ]
  },
  {
   "cell_type": "code",
   "execution_count": 91,
   "metadata": {},
   "outputs": [
    {
     "ename": "OverflowError",
     "evalue": "math range error",
     "output_type": "error",
     "traceback": [
      "\u001b[1;31m---------------------------------------------------------------------------\u001b[0m",
      "\u001b[1;31mOverflowError\u001b[0m                             Traceback (most recent call last)",
      "\u001b[1;32m<ipython-input-91-215dd157d04a>\u001b[0m in \u001b[0;36m<module>\u001b[1;34m()\u001b[0m\n\u001b[0;32m     13\u001b[0m     \u001b[0mxx\u001b[0m \u001b[1;33m=\u001b[0m \u001b[0mX\u001b[0m\u001b[1;33m[\u001b[0m\u001b[1;33m:\u001b[0m\u001b[1;33m,\u001b[0m\u001b[0mi\u001b[0m\u001b[1;33m]\u001b[0m\u001b[1;33m.\u001b[0m\u001b[0mreshape\u001b[0m\u001b[1;33m(\u001b[0m\u001b[1;33m-\u001b[0m\u001b[1;36m1\u001b[0m\u001b[1;33m,\u001b[0m\u001b[1;36m1\u001b[0m\u001b[1;33m)\u001b[0m\u001b[1;33m\u001b[0m\u001b[0m\n\u001b[0;32m     14\u001b[0m     \u001b[0mZ\u001b[0m \u001b[1;33m=\u001b[0m \u001b[0mnp\u001b[0m\u001b[1;33m.\u001b[0m\u001b[0mdot\u001b[0m\u001b[1;33m(\u001b[0m\u001b[0mw\u001b[0m\u001b[1;33m.\u001b[0m\u001b[0mT\u001b[0m\u001b[1;33m,\u001b[0m\u001b[0mxx\u001b[0m\u001b[1;33m)\u001b[0m\u001b[1;33m+\u001b[0m\u001b[0mb\u001b[0m\u001b[1;33m\u001b[0m\u001b[0m\n\u001b[1;32m---> 15\u001b[1;33m     \u001b[0mA\u001b[0m \u001b[1;33m=\u001b[0m \u001b[0msigmoid\u001b[0m\u001b[1;33m(\u001b[0m\u001b[0mZ\u001b[0m\u001b[1;33m)\u001b[0m\u001b[1;33m\u001b[0m\u001b[0m\n\u001b[0m\u001b[0;32m     16\u001b[0m     \u001b[0myy\u001b[0m\u001b[1;33m=\u001b[0m\u001b[0mtrain_set_y\u001b[0m\u001b[1;33m[\u001b[0m\u001b[1;33m:\u001b[0m\u001b[1;33m,\u001b[0m\u001b[0mi\u001b[0m\u001b[1;33m]\u001b[0m\u001b[1;33m.\u001b[0m\u001b[0mreshape\u001b[0m\u001b[1;33m(\u001b[0m\u001b[1;33m-\u001b[0m\u001b[1;36m1\u001b[0m\u001b[1;33m,\u001b[0m\u001b[1;36m1\u001b[0m\u001b[1;33m)\u001b[0m\u001b[1;33m\u001b[0m\u001b[0m\n\u001b[0;32m     17\u001b[0m \u001b[1;33m\u001b[0m\u001b[0m\n",
      "\u001b[1;32m<ipython-input-91-215dd157d04a>\u001b[0m in \u001b[0;36msigmoid\u001b[1;34m(x)\u001b[0m\n\u001b[0;32m      7\u001b[0m \u001b[1;33m\u001b[0m\u001b[0m\n\u001b[0;32m      8\u001b[0m \u001b[1;32mdef\u001b[0m \u001b[0msigmoid\u001b[0m\u001b[1;33m(\u001b[0m\u001b[0mx\u001b[0m\u001b[1;33m)\u001b[0m\u001b[1;33m:\u001b[0m\u001b[1;33m\u001b[0m\u001b[0m\n\u001b[1;32m----> 9\u001b[1;33m   \u001b[1;32mreturn\u001b[0m \u001b[1;36m1\u001b[0m \u001b[1;33m/\u001b[0m \u001b[1;33m(\u001b[0m\u001b[1;36m1\u001b[0m \u001b[1;33m+\u001b[0m \u001b[0mmath\u001b[0m\u001b[1;33m.\u001b[0m\u001b[0mexp\u001b[0m\u001b[1;33m(\u001b[0m\u001b[1;33m-\u001b[0m\u001b[0mx\u001b[0m\u001b[1;33m)\u001b[0m\u001b[1;33m)\u001b[0m\u001b[1;33m\u001b[0m\u001b[0m\n\u001b[0m\u001b[0;32m     10\u001b[0m \u001b[1;33m\u001b[0m\u001b[0m\n\u001b[0;32m     11\u001b[0m \u001b[1;33m\u001b[0m\u001b[0m\n",
      "\u001b[1;31mOverflowError\u001b[0m: math range error"
     ]
    }
   ],
   "source": [
    "w = np.zeros((X.shape[0],1))\n",
    "b = 0\n",
    "\n",
    "m = train_set_x_orig.shape[0]\n",
    "alpha = 0.1\n",
    "import math\n",
    "\n",
    "def sigmoid(x):\n",
    "  return 1 / (1 + math.exp(-x))\n",
    "\n",
    "\n",
    "for i in range(X.shape[1]):\n",
    "    xx = X[:,i].reshape(-1,1)\n",
    "    Z = np.dot(w.T,xx)+b\n",
    "    A = sigmoid(Z)\n",
    "    yy=train_set_y[:,i].reshape(-1,1)\n",
    "\n",
    "    dz = A-yy\n",
    "    dw = (1/m)*xx*dz.T\n",
    "    db = (1/m)*np.sum(dz)\n",
    "\n",
    "    w = w - alpha*dw\n",
    "    b = b - alpha*db\n",
    "\n",
    "# test\n",
    "\n",
    "X_test = test_set_x_orig.reshape(test_set_x_orig.shape[0],-1).T\n",
    "y_hat = np.dot(w.T,X_test)+b\n"
   ]
  },
  {
   "cell_type": "code",
   "execution_count": 95,
   "metadata": {},
   "outputs": [
    {
     "ename": "OverflowError",
     "evalue": "math range error",
     "output_type": "error",
     "traceback": [
      "\u001b[1;31m---------------------------------------------------------------------------\u001b[0m",
      "\u001b[1;31mOverflowError\u001b[0m                             Traceback (most recent call last)",
      "\u001b[1;32m<ipython-input-95-ad221042ce68>\u001b[0m in \u001b[0;36m<module>\u001b[1;34m()\u001b[0m\n\u001b[0;32m     13\u001b[0m     \u001b[0mxx\u001b[0m \u001b[1;33m=\u001b[0m \u001b[0mX\u001b[0m\u001b[1;33m[\u001b[0m\u001b[1;33m:\u001b[0m\u001b[1;33m,\u001b[0m\u001b[0mi\u001b[0m\u001b[1;33m]\u001b[0m\u001b[1;33m.\u001b[0m\u001b[0mreshape\u001b[0m\u001b[1;33m(\u001b[0m\u001b[1;33m-\u001b[0m\u001b[1;36m1\u001b[0m\u001b[1;33m,\u001b[0m\u001b[1;36m1\u001b[0m\u001b[1;33m)\u001b[0m\u001b[1;33m\u001b[0m\u001b[0m\n\u001b[0;32m     14\u001b[0m     \u001b[0mZ\u001b[0m \u001b[1;33m=\u001b[0m \u001b[0mnp\u001b[0m\u001b[1;33m.\u001b[0m\u001b[0mdot\u001b[0m\u001b[1;33m(\u001b[0m\u001b[0mw\u001b[0m\u001b[1;33m.\u001b[0m\u001b[0mT\u001b[0m\u001b[1;33m,\u001b[0m\u001b[0mxx\u001b[0m\u001b[1;33m)\u001b[0m\u001b[1;33m+\u001b[0m\u001b[0mb\u001b[0m\u001b[1;33m\u001b[0m\u001b[0m\n\u001b[1;32m---> 15\u001b[1;33m     \u001b[0mA\u001b[0m \u001b[1;33m=\u001b[0m \u001b[0msigmoid\u001b[0m\u001b[1;33m(\u001b[0m\u001b[0mZ\u001b[0m\u001b[1;33m)\u001b[0m\u001b[1;33m\u001b[0m\u001b[0m\n\u001b[0m\u001b[0;32m     16\u001b[0m     \u001b[0myy\u001b[0m\u001b[1;33m=\u001b[0m\u001b[0mtrain_set_y\u001b[0m\u001b[1;33m[\u001b[0m\u001b[1;33m:\u001b[0m\u001b[1;33m,\u001b[0m\u001b[0mi\u001b[0m\u001b[1;33m]\u001b[0m\u001b[1;33m[\u001b[0m\u001b[1;36m0\u001b[0m\u001b[1;33m]\u001b[0m\u001b[1;33m\u001b[0m\u001b[0m\n\u001b[0;32m     17\u001b[0m \u001b[1;33m\u001b[0m\u001b[0m\n",
      "\u001b[1;32m<ipython-input-95-ad221042ce68>\u001b[0m in \u001b[0;36msigmoid\u001b[1;34m(x)\u001b[0m\n\u001b[0;32m      7\u001b[0m \u001b[1;33m\u001b[0m\u001b[0m\n\u001b[0;32m      8\u001b[0m \u001b[1;32mdef\u001b[0m \u001b[0msigmoid\u001b[0m\u001b[1;33m(\u001b[0m\u001b[0mx\u001b[0m\u001b[1;33m)\u001b[0m\u001b[1;33m:\u001b[0m\u001b[1;33m\u001b[0m\u001b[0m\n\u001b[1;32m----> 9\u001b[1;33m   \u001b[1;32mreturn\u001b[0m \u001b[1;36m1\u001b[0m \u001b[1;33m/\u001b[0m \u001b[1;33m(\u001b[0m\u001b[1;36m1\u001b[0m \u001b[1;33m+\u001b[0m \u001b[0mmath\u001b[0m\u001b[1;33m.\u001b[0m\u001b[0mexp\u001b[0m\u001b[1;33m(\u001b[0m\u001b[1;33m-\u001b[0m\u001b[0mx\u001b[0m\u001b[1;33m)\u001b[0m\u001b[1;33m)\u001b[0m\u001b[1;33m\u001b[0m\u001b[0m\n\u001b[0m\u001b[0;32m     10\u001b[0m \u001b[1;33m\u001b[0m\u001b[0m\n\u001b[0;32m     11\u001b[0m \u001b[1;33m\u001b[0m\u001b[0m\n",
      "\u001b[1;31mOverflowError\u001b[0m: math range error"
     ]
    }
   ],
   "source": [
    "w = np.zeros((X.shape[0],1))\n",
    "b = 0\n",
    "\n",
    "m = train_set_x_orig.shape[0]\n",
    "alpha = 0.001\n",
    "import math\n",
    "\n",
    "def sigmoid(x):\n",
    "  return 1 / (1 + math.exp(-x))\n",
    "\n",
    "\n",
    "for i in range(X.shape[1]):\n",
    "    xx = X[:,i].reshape(-1,1)\n",
    "    Z = np.dot(w.T,xx)+b\n",
    "    A = sigmoid(Z)\n",
    "    yy=train_set_y[:,i].reshape(-1,1)\n",
    "\n",
    "    dz = A-yy\n",
    "    dw = (1/m)*xx*dz.T\n",
    "    db = (1/m)*np.sum(dz)\n",
    "\n",
    "    w = w - alpha*dw\n",
    "    b = b - alpha*db\n",
    "\n",
    "# test\n",
    "\n",
    "X_test = test_set_x_orig.reshape(test_set_x_orig.shape[0],-1).T\n",
    "y_hat = np.dot(w.T,X_test)+b\n"
   ]
  },
  {
   "cell_type": "code",
   "execution_count": 94,
   "metadata": {},
   "outputs": [
    {
     "data": {
      "text/plain": [
       "(12288, 1)"
      ]
     },
     "execution_count": 94,
     "metadata": {},
     "output_type": "execute_result"
    }
   ],
   "source": [
    "dw.shape"
   ]
  },
  {
   "cell_type": "code",
   "execution_count": 96,
   "metadata": {},
   "outputs": [],
   "source": [
    "X = train_set_x_orig.reshape(train_set_x_orig.shape[0],-1).T/255\n",
    "#w = np.random.rand(X.shape[0],1)\n",
    "#b = np.random.rand(1)\n",
    "w = np.zeros((X.shape[0],1))\n",
    "b = 0\n",
    "\n",
    "m = train_set_x_orig.shape[0]\n",
    "alpha = 0.001\n",
    "import math\n",
    "\n",
    "def sigmoid(x):\n",
    "  return 1 / (1 + math.exp(-x))\n",
    "\n",
    "\n",
    "for i in range(X.shape[1]):\n",
    "    xx = X[:,i].reshape(-1,1)\n",
    "    Z = np.dot(w.T,xx)+b\n",
    "    A = sigmoid(Z)\n",
    "    yy=train_set_y[:,i].reshape(-1,1)\n",
    "\n",
    "    dz = A-yy\n",
    "    dw = (1/m)*xx*dz.T\n",
    "    db = (1/m)*np.sum(dz)\n",
    "\n",
    "    w = w - alpha*dw\n",
    "    b = b - alpha*db\n",
    "\n",
    "# test\n",
    "\n",
    "X_test = test_set_x_orig.reshape(test_set_x_orig.shape[0],-1).T/255\n",
    "y_hat = np.dot(w.T,X_test)+b"
   ]
  },
  {
   "cell_type": "code",
   "execution_count": 97,
   "metadata": {},
   "outputs": [
    {
     "data": {
      "text/plain": [
       "array([[-0.2256161 , -0.3317652 , -0.35140613, -0.25742261, -0.38064079,\n",
       "        -0.16373387, -0.39191187, -0.24356573, -0.26539711, -0.22120046,\n",
       "        -0.19396633, -0.28221411, -0.14960097, -0.33014015, -0.18382739,\n",
       "        -0.19955056, -0.1723709 , -0.29620597, -0.21430748, -0.257651  ,\n",
       "        -0.25246227, -0.16869822, -0.20238053, -0.22691483, -0.18107615,\n",
       "        -0.17203459, -0.28391485, -0.19883125, -0.18578691, -0.18793071,\n",
       "        -0.16306326, -0.25660394, -0.29838983, -0.27536781, -0.21562149,\n",
       "        -0.26369887, -0.23180218, -0.26968701, -0.23760169, -0.14758075,\n",
       "        -0.16225858, -0.25823893, -0.25566424, -0.12301334, -0.16662809,\n",
       "        -0.20194665, -0.23998456, -0.23604367, -0.21367339, -0.24033105]])"
      ]
     },
     "execution_count": 97,
     "metadata": {},
     "output_type": "execute_result"
    }
   ],
   "source": [
    "y_hat"
   ]
  },
  {
   "cell_type": "code",
   "execution_count": 98,
   "metadata": {},
   "outputs": [],
   "source": [
    "X = train_set_x_orig.reshape(train_set_x_orig.shape[0],-1).T/255\n",
    "#w = np.random.rand(X.shape[0],1)\n",
    "#b = np.random.rand(1)\n",
    "w = np.zeros((X.shape[0],1))\n",
    "b = 0\n",
    "\n",
    "m = train_set_x_orig.shape[0]\n",
    "alpha = 0.1\n",
    "import math\n",
    "\n",
    "def sigmoid(x):\n",
    "  return 1 / (1 + math.exp(-x))\n",
    "\n",
    "\n",
    "for i in range(X.shape[1]):\n",
    "    xx = X[:,i].reshape(-1,1)\n",
    "    Z = np.dot(w.T,xx)+b\n",
    "    A = sigmoid(Z)\n",
    "    yy=train_set_y[:,i].reshape(-1,1)\n",
    "\n",
    "    dz = A-yy\n",
    "    dw = (1/m)*xx*dz.T\n",
    "    db = (1/m)*np.sum(dz)\n",
    "\n",
    "    w = w - alpha*dw\n",
    "    b = b - alpha*db\n",
    "\n",
    "# test\n",
    "\n",
    "X_test = test_set_x_orig.reshape(test_set_x_orig.shape[0],-1).T/255\n",
    "y_hat = np.dot(w.T,X_test)+b"
   ]
  },
  {
   "cell_type": "code",
   "execution_count": 99,
   "metadata": {},
   "outputs": [
    {
     "data": {
      "text/plain": [
       "array([[-1.80044403, -2.52192033, -2.78366899, -2.03713011, -3.38366465,\n",
       "        -1.44366105, -3.21474736, -1.96488426, -2.21015362, -1.53763238,\n",
       "        -2.08716236, -2.10666165, -1.396465  , -2.01237984, -2.05999218,\n",
       "        -1.7709642 , -1.89396969, -2.40574586, -2.27124826, -2.61161043,\n",
       "        -2.15579579, -1.79733861, -2.19158774, -1.84047702, -1.38034862,\n",
       "        -1.26839936, -2.60300275, -1.93620379, -1.48358208, -1.53685163,\n",
       "        -1.83681852, -2.37430336, -2.95080813, -2.10144802, -1.84117125,\n",
       "        -2.63156139, -2.35287276, -2.14885907, -1.89524457, -1.88668323,\n",
       "        -1.35177513, -1.96201828, -2.36836139, -1.50854156, -1.39972306,\n",
       "        -1.89313481, -2.15240537, -1.28574106, -1.90442527, -2.44187202]])"
      ]
     },
     "execution_count": 99,
     "metadata": {},
     "output_type": "execute_result"
    }
   ],
   "source": [
    "y_hat"
   ]
  },
  {
   "cell_type": "code",
   "execution_count": 100,
   "metadata": {},
   "outputs": [],
   "source": [
    "X = train_set_x_orig.reshape(train_set_x_orig.shape[0],-1).T/255\n",
    "w = np.random.rand(X.shape[0],1)\n",
    "b = np.random.rand(1)\n",
    "#w = np.zeros((X.shape[0],1))\n",
    "#b = 0\n",
    "\n",
    "m = train_set_x_orig.shape[0]\n",
    "alpha = 0.1\n",
    "import math\n",
    "\n",
    "def sigmoid(x):\n",
    "  return 1 / (1 + math.exp(-x))\n",
    "\n",
    "\n",
    "for i in range(X.shape[1]):\n",
    "    xx = X[:,i].reshape(-1,1)\n",
    "    Z = np.dot(w.T,xx)+b\n",
    "    A = sigmoid(Z)\n",
    "    yy=train_set_y[:,i].reshape(-1,1)\n",
    "\n",
    "    dz = A-yy\n",
    "    dw = (1/m)*xx*dz.T\n",
    "    db = (1/m)*np.sum(dz)\n",
    "\n",
    "    w = w - alpha*dw\n",
    "    b = b - alpha*db\n",
    "\n",
    "# test\n",
    "\n",
    "X_test = test_set_x_orig.reshape(test_set_x_orig.shape[0],-1).T/255\n",
    "y_hat = np.dot(w.T,X_test)+b\n"
   ]
  },
  {
   "cell_type": "code",
   "execution_count": 101,
   "metadata": {},
   "outputs": [
    {
     "data": {
      "text/plain": [
       "array([[2407.36198365, 3724.40706873, 3803.43405702, 2742.79476963,\n",
       "        4070.41093281, 1784.7533501 , 4195.52270645, 2673.35242118,\n",
       "        2888.27791957, 2406.17068037, 2069.59684181, 3029.62797974,\n",
       "        1636.77441766, 3695.74258282, 1839.86272255, 2138.97381505,\n",
       "        1777.77486762, 3152.13184209, 2075.10083974, 2624.80315864,\n",
       "        2734.33640922, 1691.05108035, 2049.44318171, 2435.31804723,\n",
       "        1990.17353583, 1842.09482377, 2988.17469606, 2083.41802908,\n",
       "        2001.51178427, 1905.68538504, 1733.68747034, 2746.02434324,\n",
       "        3157.51712548, 2984.10439776, 2318.5190864 , 2667.37537573,\n",
       "        2441.75617032, 2960.08872603, 2586.09038374, 1449.81026191,\n",
       "        1644.08349358, 2910.79079664, 2754.80016595, 1187.33158672,\n",
       "        1849.46667769, 2124.7208288 , 2539.89030662, 2650.78928641,\n",
       "        2328.44278279, 2495.99686883]])"
      ]
     },
     "execution_count": 101,
     "metadata": {},
     "output_type": "execute_result"
    }
   ],
   "source": [
    "y_hat"
   ]
  },
  {
   "cell_type": "code",
   "execution_count": 102,
   "metadata": {},
   "outputs": [
    {
     "data": {
      "text/plain": [
       "0.004784688995215311"
      ]
     },
     "execution_count": 102,
     "metadata": {},
     "output_type": "execute_result"
    }
   ],
   "source": [
    "1/m"
   ]
  },
  {
   "cell_type": "code",
   "execution_count": 103,
   "metadata": {},
   "outputs": [
    {
     "ename": "TypeError",
     "evalue": "Required argument 'b' (pos 2) not found",
     "output_type": "error",
     "traceback": [
      "\u001b[1;31m---------------------------------------------------------------------------\u001b[0m",
      "\u001b[1;31mTypeError\u001b[0m                                 Traceback (most recent call last)",
      "\u001b[1;32m<ipython-input-103-4c3c5e3edf7d>\u001b[0m in \u001b[0;36m<module>\u001b[1;34m()\u001b[0m\n\u001b[0;32m     20\u001b[0m \u001b[1;33m\u001b[0m\u001b[0m\n\u001b[0;32m     21\u001b[0m     \u001b[0mdz\u001b[0m \u001b[1;33m=\u001b[0m \u001b[0mA\u001b[0m\u001b[1;33m-\u001b[0m\u001b[0myy\u001b[0m\u001b[1;33m\u001b[0m\u001b[0m\n\u001b[1;32m---> 22\u001b[1;33m     \u001b[0mdw\u001b[0m \u001b[1;33m=\u001b[0m \u001b[1;33m(\u001b[0m\u001b[1;36m1\u001b[0m\u001b[1;33m/\u001b[0m\u001b[0mm\u001b[0m\u001b[1;33m)\u001b[0m\u001b[1;33m*\u001b[0m\u001b[0mnp\u001b[0m\u001b[1;33m.\u001b[0m\u001b[0mdot\u001b[0m\u001b[1;33m(\u001b[0m\u001b[0mxx\u001b[0m\u001b[1;33m*\u001b[0m\u001b[0mdz\u001b[0m\u001b[1;33m.\u001b[0m\u001b[0mT\u001b[0m\u001b[1;33m)\u001b[0m\u001b[1;33m\u001b[0m\u001b[0m\n\u001b[0m\u001b[0;32m     23\u001b[0m     \u001b[0mdb\u001b[0m \u001b[1;33m=\u001b[0m \u001b[1;33m(\u001b[0m\u001b[1;36m1\u001b[0m\u001b[1;33m/\u001b[0m\u001b[0mm\u001b[0m\u001b[1;33m)\u001b[0m\u001b[1;33m*\u001b[0m\u001b[0mnp\u001b[0m\u001b[1;33m.\u001b[0m\u001b[0msum\u001b[0m\u001b[1;33m(\u001b[0m\u001b[0mdz\u001b[0m\u001b[1;33m)\u001b[0m\u001b[1;33m\u001b[0m\u001b[0m\n\u001b[0;32m     24\u001b[0m \u001b[1;33m\u001b[0m\u001b[0m\n",
      "\u001b[1;31mTypeError\u001b[0m: Required argument 'b' (pos 2) not found"
     ]
    }
   ],
   "source": [
    "X = train_set_x_orig.reshape(train_set_x_orig.shape[0],-1).T/255\n",
    "#w = np.random.rand(X.shape[0],1)\n",
    "#b = np.random.rand(1)\n",
    "w = np.zeros((X.shape[0],1))\n",
    "b = 0\n",
    "\n",
    "m = train_set_x_orig.shape[0]\n",
    "alpha = 0.1\n",
    "import math\n",
    "\n",
    "def sigmoid(x):\n",
    "  return 1 / (1 + math.exp(-x))\n",
    "\n",
    "\n",
    "for i in range(X.shape[1]):\n",
    "    xx = X[:,i].reshape(-1,1)\n",
    "    Z = np.dot(w.T,xx)+b\n",
    "    A = sigmoid(Z)\n",
    "    yy=train_set_y[:,i].reshape(-1,1)\n",
    "\n",
    "    dz = A-yy\n",
    "    dw = (1/m)*np.dot(xx*dz.T)\n",
    "    db = (1/m)*np.sum(dz)\n",
    "\n",
    "    w = w - alpha*dw\n",
    "    b = b - alpha*db\n",
    "\n",
    "# test\n",
    "\n",
    "X_test = test_set_x_orig.reshape(test_set_x_orig.shape[0],-1).T/255\n",
    "y_hat = np.dot(w.T,X_test)+b\n"
   ]
  },
  {
   "cell_type": "code",
   "execution_count": 104,
   "metadata": {},
   "outputs": [],
   "source": [
    "X = train_set_x_orig.reshape(train_set_x_orig.shape[0],-1).T/255\n",
    "#w = np.random.rand(X.shape[0],1)\n",
    "#b = np.random.rand(1)\n",
    "w = np.zeros((X.shape[0],1))\n",
    "b = 0\n",
    "\n",
    "m = train_set_x_orig.shape[0]\n",
    "alpha = 0.1\n",
    "import math\n",
    "\n",
    "def sigmoid(x):\n",
    "  return 1 / (1 + math.exp(-x))\n",
    "\n",
    "\n",
    "for i in range(X.shape[1]):\n",
    "    xx = X[:,i].reshape(-1,1)\n",
    "    Z = np.dot(w.T,xx)+b\n",
    "    A = sigmoid(Z)\n",
    "    yy=train_set_y[:,i].reshape(-1,1)\n",
    "\n",
    "    dz = A-yy\n",
    "    dw = (1/m)*np.dot(xx,dz.T)\n",
    "    db = (1/m)*np.sum(dz)\n",
    "\n",
    "    w = w - alpha*dw\n",
    "    b = b - alpha*db\n",
    "\n",
    "# test\n",
    "\n",
    "X_test = test_set_x_orig.reshape(test_set_x_orig.shape[0],-1).T/255\n",
    "y_hat = np.dot(w.T,X_test)+b"
   ]
  },
  {
   "cell_type": "code",
   "execution_count": 105,
   "metadata": {},
   "outputs": [
    {
     "data": {
      "text/plain": [
       "array([[-1.80044403, -2.52192033, -2.78366899, -2.03713011, -3.38366465,\n",
       "        -1.44366105, -3.21474736, -1.96488426, -2.21015362, -1.53763238,\n",
       "        -2.08716236, -2.10666165, -1.396465  , -2.01237984, -2.05999218,\n",
       "        -1.7709642 , -1.89396969, -2.40574586, -2.27124826, -2.61161043,\n",
       "        -2.15579579, -1.79733861, -2.19158774, -1.84047702, -1.38034862,\n",
       "        -1.26839936, -2.60300275, -1.93620379, -1.48358208, -1.53685163,\n",
       "        -1.83681852, -2.37430336, -2.95080813, -2.10144802, -1.84117125,\n",
       "        -2.63156139, -2.35287276, -2.14885907, -1.89524457, -1.88668323,\n",
       "        -1.35177513, -1.96201828, -2.36836139, -1.50854156, -1.39972306,\n",
       "        -1.89313481, -2.15240537, -1.28574106, -1.90442527, -2.44187202]])"
      ]
     },
     "execution_count": 105,
     "metadata": {},
     "output_type": "execute_result"
    }
   ],
   "source": [
    "y_hat"
   ]
  },
  {
   "cell_type": "code",
   "execution_count": 112,
   "metadata": {},
   "outputs": [
    {
     "data": {
      "text/plain": [
       "0.10379086884426905"
      ]
     },
     "execution_count": 112,
     "metadata": {},
     "output_type": "execute_result"
    }
   ],
   "source": [
    "sigmoid(y_hat[0][20])"
   ]
  },
  {
   "cell_type": "code",
   "execution_count": 116,
   "metadata": {},
   "outputs": [
    {
     "name": "stdout",
     "output_type": "stream",
     "text": [
      "0.0033164936868896903\n",
      "0.002481638912983133\n",
      "0.006123938798085221\n",
      "0.003464448509479687\n",
      "0.0029089023886756287\n",
      "0.0027425730700556283\n",
      "0.002261151508281698\n",
      "0.005277712149232269\n",
      "0.0024706204742601665\n",
      "0.0019430713466872794\n",
      "0.0010458219296767032\n",
      "0.007085833704922531\n",
      "0.0023829821840002327\n",
      "0.0068845017661157155\n",
      "0.0029491163503585494\n",
      "0.006191222736091625\n",
      "0.0018406758328731333\n",
      "0.0009457867683572831\n",
      "0.0014170121469038975\n",
      "0.0046213098462161385\n",
      "0.00174740310117924\n",
      "0.0019370787023508715\n",
      "0.00042316772115383235\n",
      "0.0003960338317400988\n",
      "0.010076858280765797\n",
      "0.00381228909608764\n",
      "0.0023598115700659197\n",
      "0.0042206448902209846\n",
      "0.0034566845199633664\n",
      "0.005842889846298512\n",
      "0.0035495923636692977\n",
      "0.003154411514617951\n",
      "0.0008819202760508344\n",
      "0.001590249982910682\n",
      "0.0017517110560804018\n",
      "0.0015754680401737116\n",
      "0.001151344446669914\n",
      "0.00030423910010942155\n",
      "0.004488978902085086\n",
      "0.0010407191991963227\n",
      "0.0004060811628665773\n",
      "0.005602899061976305\n",
      "0.012051869619285262\n",
      "0.0013487905271098281\n",
      "0.0014134727455008382\n",
      "0.0018840338225310897\n",
      "0.0009459864125472089\n",
      "0.007777451199259346\n",
      "0.0018103140749896145\n",
      "0.00129026068508351\n",
      "0.011202264713709624\n",
      "0.0027326277048461546\n",
      "0.0019069469904686158\n",
      "0.0009140256760191246\n",
      "0.006844926990217979\n",
      "0.0008144681181294594\n",
      "0.00483034402119264\n",
      "0.004541944212060886\n",
      "0.00367428235352887\n",
      "0.0023619201239820182\n",
      "0.0021755964401171542\n",
      "0.0021475370396334525\n",
      "0.0068901347344484986\n",
      "0.0033802362239496596\n",
      "0.0034670670600034986\n",
      "0.002269477219493537\n",
      "0.0006700093222724749\n",
      "0.0010455126602152696\n",
      "0.009299461747471753\n",
      "0.002279674529673843\n",
      "0.0013804507548785764\n",
      "0.004728688203995294\n",
      "0.002400813212756723\n",
      "0.0025678170471529144\n",
      "0.0012925803536872422\n",
      "0.0007687888295627711\n",
      "0.0009095382740351919\n",
      "0.0010985726559145097\n",
      "0.0007829384160173809\n",
      "0.0017939869216643653\n",
      "0.0002205703594834028\n",
      "0.00021367028950577713\n",
      "0.001280700147136296\n",
      "0.010912696619125998\n",
      "0.010158196596886384\n",
      "0.0017900630556273503\n",
      "0.0006614166084747107\n",
      "0.0014980982677792163\n",
      "0.008651236420647516\n",
      "0.001971929896016725\n",
      "0.0016175696576884995\n",
      "0.0018899977219775917\n",
      "0.008723459954749562\n",
      "0.005407664627687634\n",
      "0.004632484416981918\n",
      "0.004918066089286877\n",
      "0.0019175434601648642\n",
      "0.006632235952409442\n",
      "0.002058486113008192\n",
      "0.001389220167738255\n",
      "0.0011765133469028412\n",
      "0.0011655732207013466\n",
      "0.008260983149906176\n",
      "0.0018519743424680825\n",
      "0.004323707999301858\n",
      "0.0022467920590041263\n",
      "0.00779530328206809\n",
      "0.0031252854905070757\n",
      "0.0022208885635303165\n",
      "0.001253584640606358\n",
      "0.0012172722974966388\n",
      "0.0009655849625199592\n",
      "0.006355991202991196\n",
      "0.007808838571675116\n",
      "0.0039787349666654745\n",
      "0.0015802301591332048\n",
      "0.0026753143025351274\n",
      "0.00691061547370655\n",
      "0.0020110280171248816\n",
      "0.0025785141677805105\n",
      "0.0010483635450510025\n",
      "0.009452944718048008\n",
      "0.0035363771936107284\n",
      "0.0014102612929956773\n",
      "0.007617149419114915\n",
      "0.002215652916161334\n",
      "0.004597914768905979\n",
      "0.004295182972820795\n",
      "0.0039435347725691365\n",
      "0.0020747635031963837\n",
      "0.004879892814819763\n",
      "0.0031305540044754146\n",
      "0.002482927371004749\n",
      "0.0035858602743767294\n",
      "0.003563580457794477\n",
      "0.004705750630567026\n",
      "0.0013885746221422024\n",
      "0.0010728814549814413\n",
      "0.007878386620173516\n",
      "0.004671279305421117\n",
      "0.004119956783729108\n",
      "0.002288278257547618\n",
      "0.006550966765946941\n",
      "0.0023616840348278313\n",
      "0.00445039653717222\n",
      "0.002163817362158441\n",
      "0.0016981886298101725\n",
      "0.008205985483271106\n",
      "0.0035507748852372273\n",
      "0.003257827046166828\n",
      "0.007992256207637207\n",
      "0.002945440808575734\n",
      "0.002376825122529433\n",
      "0.005915866732716488\n",
      "0.002567764031217735\n",
      "0.0030788218524833663\n",
      "0.006268916386944383\n",
      "0.0020580231051340317\n",
      "0.0025069469654698355\n",
      "0.001993995613916205\n",
      "0.0010263299603010154\n",
      "0.0011665726407704908\n",
      "0.008555008122515601\n",
      "0.0036822240110832476\n",
      "0.006986519129845592\n",
      "0.0027650824639903876\n",
      "0.0035853715246681613\n",
      "0.006378297419849699\n",
      "0.002711198273651875\n",
      "0.006187744621029344\n",
      "0.0019975268609938937\n",
      "0.001703747466769156\n",
      "0.008282866223032518\n",
      "0.0031175362793545384\n",
      "0.004955481124599851\n",
      "0.0036498317276130437\n",
      "0.004588226174690605\n",
      "0.0033923307435970804\n",
      "0.00401187993982966\n",
      "0.004464519593559157\n",
      "0.003690084588927592\n",
      "0.0034524129215781608\n",
      "0.0016446719139449396\n",
      "0.0012269334269179764\n",
      "0.0007854343387007883\n",
      "0.0081821046318828\n",
      "0.0017857440348296673\n",
      "0.001348103009201362\n",
      "0.006257005150955692\n",
      "0.0020924925470791784\n",
      "0.0013418651788447806\n",
      "0.0017265009095542329\n",
      "0.007121004355028395\n",
      "0.0032566880779204116\n",
      "0.0007796984756894188\n",
      "0.0033195479050967345\n",
      "0.0010446574462426687\n",
      "0.00823585353207708\n",
      "0.0017449664459022543\n",
      "0.001376325849266891\n",
      "0.008212255572713507\n",
      "0.0033766172432786326\n",
      "0.0016520477926745085\n",
      "0.0009455066468300923\n",
      "0.0005487945186426793\n",
      "0.0022932143646009276\n",
      "0.0007938556651511416\n",
      "0.002140668874710697\n",
      "0.0012342715608656752\n"
     ]
    }
   ],
   "source": [
    "w = np.zeros((X.shape[0],1))\n",
    "b = 0\n",
    "\n",
    "m = train_set_x_orig.shape[0]\n",
    "alpha = 0.1\n",
    "import math\n",
    "\n",
    "def sigmoid(x):\n",
    "  return 1 / (1 + math.exp(-x))\n",
    "\n",
    "\n",
    "for i in range(X.shape[1]):\n",
    "    xx = X[:,i].reshape(-1,1)\n",
    "    Z = np.dot(w.T,xx)+b\n",
    "    A = sigmoid(Z)\n",
    "    yy=train_set_y[:,i].reshape(-1,1)\n",
    "    cost = -1/m*np.sum(yy*np.log(A)+(1-yy)*np.log(1-A)) \n",
    "\n",
    "    dz = A-yy\n",
    "    dw = (1/m)*np.dot(xx,dz.T)\n",
    "    db = (1/m)*np.sum(dz)\n",
    "\n",
    "    w = w - alpha*dw\n",
    "    b = b - alpha*db\n",
    "    print(cost)"
   ]
  },
  {
   "cell_type": "code",
   "execution_count": 117,
   "metadata": {},
   "outputs": [
    {
     "data": {
      "text/plain": [
       "209"
      ]
     },
     "execution_count": 117,
     "metadata": {},
     "output_type": "execute_result"
    }
   ],
   "source": [
    "m"
   ]
  },
  {
   "cell_type": "code",
   "execution_count": 118,
   "metadata": {},
   "outputs": [
    {
     "data": {
      "text/plain": [
       "(12288, 209)"
      ]
     },
     "execution_count": 118,
     "metadata": {},
     "output_type": "execute_result"
    }
   ],
   "source": [
    "X.shape"
   ]
  },
  {
   "cell_type": "code",
   "execution_count": 119,
   "metadata": {},
   "outputs": [],
   "source": [
    "w = np.zeros((X.shape[0],1))"
   ]
  },
  {
   "cell_type": "code",
   "execution_count": 120,
   "metadata": {},
   "outputs": [
    {
     "data": {
      "text/plain": [
       "(12288, 1)"
      ]
     },
     "execution_count": 120,
     "metadata": {},
     "output_type": "execute_result"
    }
   ],
   "source": [
    "w.shape"
   ]
  },
  {
   "cell_type": "code",
   "execution_count": 121,
   "metadata": {},
   "outputs": [
    {
     "ename": "TypeError",
     "evalue": "only size-1 arrays can be converted to Python scalars",
     "output_type": "error",
     "traceback": [
      "\u001b[1;31m---------------------------------------------------------------------------\u001b[0m",
      "\u001b[1;31mTypeError\u001b[0m                                 Traceback (most recent call last)",
      "\u001b[1;32m<ipython-input-121-fccd5b0adcdb>\u001b[0m in \u001b[0;36m<module>\u001b[1;34m()\u001b[0m\n\u001b[0;32m     15\u001b[0m     \u001b[0myy\u001b[0m\u001b[1;33m=\u001b[0m\u001b[0mtrain_set_y\u001b[0m\u001b[1;33m\u001b[0m\u001b[0m\n\u001b[0;32m     16\u001b[0m     \u001b[0mZ\u001b[0m \u001b[1;33m=\u001b[0m \u001b[0mnp\u001b[0m\u001b[1;33m.\u001b[0m\u001b[0mdot\u001b[0m\u001b[1;33m(\u001b[0m\u001b[0mw\u001b[0m\u001b[1;33m.\u001b[0m\u001b[0mT\u001b[0m\u001b[1;33m,\u001b[0m\u001b[0mxx\u001b[0m\u001b[1;33m)\u001b[0m\u001b[1;33m+\u001b[0m\u001b[0mb\u001b[0m\u001b[1;33m\u001b[0m\u001b[0m\n\u001b[1;32m---> 17\u001b[1;33m     \u001b[0mA\u001b[0m \u001b[1;33m=\u001b[0m \u001b[0msigmoid\u001b[0m\u001b[1;33m(\u001b[0m\u001b[0mZ\u001b[0m\u001b[1;33m)\u001b[0m\u001b[1;33m\u001b[0m\u001b[0m\n\u001b[0m\u001b[0;32m     18\u001b[0m     \u001b[1;31m#yy=train_set_y[:,i].reshape(-1,1)\u001b[0m\u001b[1;33m\u001b[0m\u001b[1;33m\u001b[0m\u001b[0m\n\u001b[0;32m     19\u001b[0m     \u001b[0mcost\u001b[0m \u001b[1;33m=\u001b[0m \u001b[1;33m-\u001b[0m\u001b[1;36m1\u001b[0m\u001b[1;33m/\u001b[0m\u001b[0mm\u001b[0m\u001b[1;33m*\u001b[0m\u001b[0mnp\u001b[0m\u001b[1;33m.\u001b[0m\u001b[0msum\u001b[0m\u001b[1;33m(\u001b[0m\u001b[0myy\u001b[0m\u001b[1;33m*\u001b[0m\u001b[0mnp\u001b[0m\u001b[1;33m.\u001b[0m\u001b[0mlog\u001b[0m\u001b[1;33m(\u001b[0m\u001b[0mA\u001b[0m\u001b[1;33m)\u001b[0m\u001b[1;33m+\u001b[0m\u001b[1;33m(\u001b[0m\u001b[1;36m1\u001b[0m\u001b[1;33m-\u001b[0m\u001b[0myy\u001b[0m\u001b[1;33m)\u001b[0m\u001b[1;33m*\u001b[0m\u001b[0mnp\u001b[0m\u001b[1;33m.\u001b[0m\u001b[0mlog\u001b[0m\u001b[1;33m(\u001b[0m\u001b[1;36m1\u001b[0m\u001b[1;33m-\u001b[0m\u001b[0mA\u001b[0m\u001b[1;33m)\u001b[0m\u001b[1;33m)\u001b[0m\u001b[1;33m\u001b[0m\u001b[0m\n",
      "\u001b[1;32m<ipython-input-121-fccd5b0adcdb>\u001b[0m in \u001b[0;36msigmoid\u001b[1;34m(x)\u001b[0m\n\u001b[0;32m      7\u001b[0m \u001b[1;33m\u001b[0m\u001b[0m\n\u001b[0;32m      8\u001b[0m \u001b[1;32mdef\u001b[0m \u001b[0msigmoid\u001b[0m\u001b[1;33m(\u001b[0m\u001b[0mx\u001b[0m\u001b[1;33m)\u001b[0m\u001b[1;33m:\u001b[0m\u001b[1;33m\u001b[0m\u001b[0m\n\u001b[1;32m----> 9\u001b[1;33m   \u001b[1;32mreturn\u001b[0m \u001b[1;36m1\u001b[0m \u001b[1;33m/\u001b[0m \u001b[1;33m(\u001b[0m\u001b[1;36m1\u001b[0m \u001b[1;33m+\u001b[0m \u001b[0mmath\u001b[0m\u001b[1;33m.\u001b[0m\u001b[0mexp\u001b[0m\u001b[1;33m(\u001b[0m\u001b[1;33m-\u001b[0m\u001b[0mx\u001b[0m\u001b[1;33m)\u001b[0m\u001b[1;33m)\u001b[0m\u001b[1;33m\u001b[0m\u001b[0m\n\u001b[0m\u001b[0;32m     10\u001b[0m \u001b[1;33m\u001b[0m\u001b[0m\n\u001b[0;32m     11\u001b[0m \u001b[1;33m\u001b[0m\u001b[0m\n",
      "\u001b[1;31mTypeError\u001b[0m: only size-1 arrays can be converted to Python scalars"
     ]
    }
   ],
   "source": [
    "w = np.zeros((X.shape[0],1))\n",
    "b = 0\n",
    "\n",
    "m = train_set_x_orig.shape[0]\n",
    "alpha = 0.1\n",
    "import math\n",
    "\n",
    "def sigmoid(x):\n",
    "  return 1 / (1 + math.exp(-x))\n",
    "\n",
    "\n",
    "for i in range(X.shape[1]):\n",
    "    #xx = X[:,i].reshape(-1,1)\n",
    "    xx=X\n",
    "    yy=train_set_y\n",
    "    Z = np.dot(w.T,xx)+b\n",
    "    A = sigmoid(Z)\n",
    "    #yy=train_set_y[:,i].reshape(-1,1)\n",
    "    cost = -1/m*np.sum(yy*np.log(A)+(1-yy)*np.log(1-A)) \n",
    "\n",
    "    dz = A-yy\n",
    "    dw = (1/m)*np.dot(xx,dz.T)\n",
    "    db = (1/m)*np.sum(dz)\n",
    "\n",
    "    w = w - alpha*dw\n",
    "    b = b - alpha*db\n",
    "    print(cost)"
   ]
  },
  {
   "cell_type": "code",
   "execution_count": 122,
   "metadata": {},
   "outputs": [
    {
     "ename": "TypeError",
     "evalue": "only size-1 arrays can be converted to Python scalars",
     "output_type": "error",
     "traceback": [
      "\u001b[1;31m---------------------------------------------------------------------------\u001b[0m",
      "\u001b[1;31mTypeError\u001b[0m                                 Traceback (most recent call last)",
      "\u001b[1;32m<ipython-input-122-d171c6aa78cf>\u001b[0m in \u001b[0;36m<module>\u001b[1;34m()\u001b[0m\n\u001b[1;32m----> 1\u001b[1;33m \u001b[0mprint\u001b[0m \u001b[1;33m(\u001b[0m\u001b[1;34m\"sigmoid([0, 2]) = \"\u001b[0m \u001b[1;33m+\u001b[0m \u001b[0mstr\u001b[0m\u001b[1;33m(\u001b[0m\u001b[0msigmoid\u001b[0m\u001b[1;33m(\u001b[0m\u001b[0mnp\u001b[0m\u001b[1;33m.\u001b[0m\u001b[0marray\u001b[0m\u001b[1;33m(\u001b[0m\u001b[1;33m[\u001b[0m\u001b[1;36m0\u001b[0m\u001b[1;33m,\u001b[0m\u001b[1;36m2\u001b[0m\u001b[1;33m]\u001b[0m\u001b[1;33m)\u001b[0m\u001b[1;33m)\u001b[0m\u001b[1;33m)\u001b[0m\u001b[1;33m)\u001b[0m\u001b[1;33m\u001b[0m\u001b[0m\n\u001b[0m",
      "\u001b[1;32m<ipython-input-121-fccd5b0adcdb>\u001b[0m in \u001b[0;36msigmoid\u001b[1;34m(x)\u001b[0m\n\u001b[0;32m      7\u001b[0m \u001b[1;33m\u001b[0m\u001b[0m\n\u001b[0;32m      8\u001b[0m \u001b[1;32mdef\u001b[0m \u001b[0msigmoid\u001b[0m\u001b[1;33m(\u001b[0m\u001b[0mx\u001b[0m\u001b[1;33m)\u001b[0m\u001b[1;33m:\u001b[0m\u001b[1;33m\u001b[0m\u001b[0m\n\u001b[1;32m----> 9\u001b[1;33m   \u001b[1;32mreturn\u001b[0m \u001b[1;36m1\u001b[0m \u001b[1;33m/\u001b[0m \u001b[1;33m(\u001b[0m\u001b[1;36m1\u001b[0m \u001b[1;33m+\u001b[0m \u001b[0mmath\u001b[0m\u001b[1;33m.\u001b[0m\u001b[0mexp\u001b[0m\u001b[1;33m(\u001b[0m\u001b[1;33m-\u001b[0m\u001b[0mx\u001b[0m\u001b[1;33m)\u001b[0m\u001b[1;33m)\u001b[0m\u001b[1;33m\u001b[0m\u001b[0m\n\u001b[0m\u001b[0;32m     10\u001b[0m \u001b[1;33m\u001b[0m\u001b[0m\n\u001b[0;32m     11\u001b[0m \u001b[1;33m\u001b[0m\u001b[0m\n",
      "\u001b[1;31mTypeError\u001b[0m: only size-1 arrays can be converted to Python scalars"
     ]
    }
   ],
   "source": [
    "print (\"sigmoid([0, 2]) = \" + str(sigmoid(np.array([0,2]))))"
   ]
  },
  {
   "cell_type": "code",
   "execution_count": 123,
   "metadata": {},
   "outputs": [
    {
     "name": "stdout",
     "output_type": "stream",
     "text": [
      "0.6931471805599453\n",
      "10.510880267262182\n",
      "nan\n",
      "31.53366888989145\n",
      "6.1258347742089\n",
      "nan\n",
      "27.159120226304506\n",
      "1.785823293501695\n",
      "nan\n",
      "24.242660082432945\n",
      "1.2928489929664675\n",
      "22.192845272911896\n",
      "3.8928140432942695\n",
      "38.091325471687476\n",
      "12.682107645782176\n",
      "nan\n",
      "33.70229153653934\n",
      "8.294774681025459\n",
      "nan\n",
      "29.328163089938815\n",
      "3.9448226703689593\n",
      "nan\n",
      "25.430099806942565\n",
      "1.1017310522851544\n",
      "6.312373117010055\n",
      "34.320527649254835\n",
      "8.912852349874267\n",
      "nan\n",
      "29.888352154280877\n",
      "4.517453891863581\n",
      "nan\n",
      "26.138269247798135\n",
      "1.5439530984046914\n",
      "nan\n",
      "33.359880600515645\n",
      "7.957303002196304\n",
      "nan\n",
      "28.744938867509173"
     ]
    },
    {
     "name": "stderr",
     "output_type": "stream",
     "text": [
      "C:\\Users\\herok\\Anaconda3\\lib\\site-packages\\ipykernel_launcher.py:19: RuntimeWarning: divide by zero encountered in log\n",
      "C:\\Users\\herok\\Anaconda3\\lib\\site-packages\\ipykernel_launcher.py:19: RuntimeWarning: invalid value encountered in multiply\n"
     ]
    },
    {
     "name": "stdout",
     "output_type": "stream",
     "text": [
      "\n",
      "3.557517501801692\n",
      "nan\n",
      "27.628988974612582\n",
      "2.7005967833014406\n",
      "nan\n",
      "28.841812795918063\n",
      "3.701565874469232\n",
      "nan\n",
      "27.639714191957832\n",
      "2.799110050552795\n",
      "nan\n",
      "28.95497938162222\n",
      "3.8563859856492306\n",
      "nan\n",
      "27.454956751266767\n",
      "2.759741976048241\n",
      "nan\n",
      "28.49888799994843\n",
      "3.540155283317106\n",
      "nan\n",
      "27.550512133840755\n",
      "2.883291217300099\n",
      "nan\n",
      "27.797708212440938\n",
      "3.0675188736432517\n",
      "nan\n",
      "27.507118680488666\n",
      "2.8899591475009307\n",
      "nan\n",
      "27.018434538215292\n",
      "2.5864356224326825\n",
      "nan\n",
      "26.399274368244797\n",
      "2.215865021881455\n",
      "nan\n",
      "26.51221621929782\n",
      "2.2373867316316476\n",
      "nan\n",
      "26.370529630074124\n",
      "2.1389722873850086\n",
      "nan\n",
      "26.386327452245226\n",
      "2.1300949707804055\n",
      "nan\n",
      "26.499579935480064\n",
      "2.1877576972890336\n",
      "nan\n",
      "26.761379901931008\n",
      "2.3544271742466596\n",
      "nan\n",
      "27.085119102038128\n",
      "2.589084537768407\n",
      "nan\n",
      "26.880542176887428\n",
      "2.4786666733207072\n",
      "nan\n",
      "26.070658908768593\n",
      "2.015698449998031\n",
      "nan\n",
      "25.523103198250293\n",
      "1.7425281563460115\n",
      "nan\n",
      "23.94082346005826\n",
      "1.3108917002965044\n",
      "1.630717856280536\n",
      "6.767941692574218\n",
      "nan\n",
      "26.25097786111294\n",
      "2.041477001072049\n",
      "nan\n",
      "26.011629201790264\n",
      "1.9122794010653483\n",
      "nan\n",
      "25.682689359956772\n",
      "1.7435990615774353\n",
      "nan\n",
      "24.67811185641944\n",
      "1.368275618822151\n",
      "nan\n",
      "17.456654069777123\n",
      "nan\n",
      "19.819326352348003\n",
      "nan\n",
      "10.361417900756845\n",
      "nan\n",
      "27.067754030435502\n",
      "2.6215814098672148\n",
      "nan\n",
      "26.453384190794758\n",
      "2.219073945681201\n",
      "nan\n",
      "26.075833718143617\n",
      "2.008823495047694\n",
      "nan\n",
      "25.377921523402495\n",
      "1.6735563695713833\n",
      "nan\n",
      "22.241872878224687\n",
      "1.2238621924186115\n",
      "1.5544446216029426\n",
      "nan\n",
      "22.376004875778175\n",
      "1.1234043593333027\n",
      "1.2463528606034144\n",
      "nan\n",
      "15.181922588660651\n",
      "nan\n",
      "22.2108312553945\n",
      "1.036733254192658\n",
      "1.191161219749118\n",
      "nan\n",
      "17.950559827537624\n",
      "nan\n",
      "14.645257142888621\n",
      "nan\n",
      "23.26472966902405\n",
      "0.9772810059050407\n",
      "1.2120316402000093\n",
      "3.503119925568707\n",
      "nan\n",
      "26.286953572228207\n",
      "2.1066586100376674\n",
      "nan\n",
      "26.414443048684763\n",
      "2.201242503205457\n",
      "nan\n",
      "25.97347931514912\n",
      "1.937152388531848\n",
      "nan\n",
      "24.933298645766104\n",
      "1.442312420551117\n",
      "nan\n",
      "20.120341516344684\n",
      "nan\n",
      "3.379081198004481\n",
      "nan\n",
      "25.364856262290747\n",
      "1.641278721649769\n",
      "nan\n",
      "22.217403781403476\n",
      "1.0020085093450992\n",
      "0.9720036440930667\n",
      "nan\n",
      "2.1577254926876734\n",
      "nan\n",
      "25.351885786459757\n",
      "1.593852192230876\n",
      "nan\n",
      "22.57477060338447\n",
      "0.9212087688353603\n",
      "0.9095834459420227\n",
      "1.077689708250002\n",
      "nan\n",
      "11.700144005474394\n",
      "nan\n",
      "23.863906165918195\n",
      "1.0426570458605429\n",
      "nan\n",
      "9.313209534995568\n",
      "nan\n",
      "24.635466258788743\n",
      "1.297461842848898\n",
      "nan\n",
      "18.891398596274936\n",
      "nan\n",
      "4.495806633839641\n",
      "nan\n",
      "25.056384436251374\n",
      "1.4999451957525656\n",
      "nan\n",
      "20.970780868843498\n"
     ]
    }
   ],
   "source": [
    "w = np.zeros((X.shape[0],1))\n",
    "b = 0\n",
    "\n",
    "m = train_set_x_orig.shape[0]\n",
    "alpha = 0.1\n",
    "import math\n",
    "\n",
    "def sigmoid(x):\n",
    "  return 1 / (1 + 1/np.exp(x))\n",
    "\n",
    "\n",
    "for i in range(X.shape[1]):\n",
    "    #xx = X[:,i].reshape(-1,1)\n",
    "    xx=X\n",
    "    yy=train_set_y\n",
    "    Z = np.dot(w.T,xx)+b\n",
    "    A = sigmoid(Z)\n",
    "    #yy=train_set_y[:,i].reshape(-1,1)\n",
    "    cost = -1/m*np.sum(yy*np.log(A)+(1-yy)*np.log(1-A)) \n",
    "\n",
    "    dz = A-yy\n",
    "    dw = (1/m)*np.dot(xx,dz.T)\n",
    "    db = (1/m)*np.sum(dz)\n",
    "\n",
    "    w = w - alpha*dw\n",
    "    b = b - alpha*db\n",
    "    print(cost)"
   ]
  },
  {
   "cell_type": "code",
   "execution_count": 124,
   "metadata": {},
   "outputs": [
    {
     "name": "stdout",
     "output_type": "stream",
     "text": [
      "0.6931471805599453\n",
      "0.6602163017690019\n",
      "0.6526585611009366\n",
      "0.6502497388185607\n",
      "0.6489887705026202\n",
      "0.6480063806213199\n",
      "0.647099811966631\n",
      "0.6462198002970412\n",
      "0.6453540182894317\n",
      "0.644499232581576\n",
      "0.6436544764306668\n",
      "0.6428193536253203\n",
      "0.6419936145289409\n",
      "0.6411770498179609\n",
      "0.6403694637979015\n",
      "0.6395706676604929\n",
      "0.6387804777293385\n",
      "0.6379987149485814\n",
      "0.6372252046793091\n",
      "0.6364597765717578\n",
      "0.6357022644565815\n",
      "0.6349525062417116\n",
      "0.6342103438117964\n",
      "0.633475622929652\n",
      "0.6327481931396676\n",
      "0.6320279076731887\n",
      "0.631314623355897\n",
      "0.630608200517192\n",
      "0.6299085029015656\n",
      "0.6292153975819603\n",
      "0.6285287548750871\n",
      "0.627848448258686\n",
      "0.6271743542907062\n",
      "0.6265063525303773\n",
      "0.6258443254611479\n",
      "0.625188158415463\n",
      "0.624537739501354\n",
      "0.623892959530807\n",
      "0.6232537119498838\n",
      "0.6226198927705643\n",
      "0.6219914005042768\n",
      "0.621368136097089\n",
      "0.6207500028665225\n",
      "0.620136906439965\n",
      "0.6195287546946441\n",
      "0.6189254576991309\n",
      "0.6183269276563446\n",
      "0.6177330788480225\n",
      "0.6171438275806259\n",
      "0.6165590921326487\n",
      "0.6159787927033\n",
      "0.6154028513625254\n",
      "0.6148311920023416\n",
      "0.6142637402894475\n",
      "0.6137004236190889\n",
      "0.6131411710701391\n",
      "0.6125859133613742\n",
      "0.6120345828089064\n",
      "0.6114871132847546\n",
      "0.6109434401765165\n",
      "0.6104035003481223\n",
      "0.6098672321016353\n",
      "0.6093345751400803\n",
      "0.6088054705312674\n",
      "0.6082798606725908\n",
      "0.6077576892567721\n",
      "0.6072389012385306\n",
      "0.6067234428021486\n",
      "0.6062112613299148\n",
      "0.6057023053714178\n",
      "0.6051965246136727\n",
      "0.6046938698520521\n",
      "0.6041942929620051\n",
      "0.6036977468715412\n",
      "0.6032041855344598\n",
      "0.6027135639043024\n",
      "0.6022258379090123\n",
      "0.6017409644262784\n",
      "0.6012589012595473\n",
      "0.6007796071146843\n",
      "0.6003030415772658\n",
      "0.5998291650904869\n",
      "0.5993579389336644\n",
      "0.5988893252013228\n",
      "0.5984232867828441\n",
      "0.5979597873426669\n",
      "0.5974987913010211\n",
      "0.5970402638151805\n",
      "0.5965841707612213\n",
      "0.596130478716272\n",
      "0.5956791549412396\n",
      "0.5952301673640018\n",
      "0.5947834845630495\n",
      "0.5943390757515676\n",
      "0.5938969107619441\n",
      "0.5934569600306918\n",
      "0.5930191945837756\n",
      "0.5925835860223293\n",
      "0.5921501065087554\n",
      "0.5917187287531943\n",
      "0.5912894260003537\n",
      "0.5908621720166888\n",
      "0.5904369410779213\n",
      "0.590013707956891\n",
      "0.5895924479117277\n",
      "0.5891731366743361\n",
      "0.5887557504391855\n",
      "0.5883402658523927\n",
      "0.5879266600010956\n",
      "0.587514910403102\n",
      "0.5871049949968137\n",
      "0.5866968921314115\n",
      "0.5862905805572991\n",
      "0.5858860394167948\n",
      "0.5854832482350667\n",
      "0.5850821869113033\n",
      "0.5846828357101138\n",
      "0.5842851752531508\n",
      "0.58388918651095\n",
      "0.5834948507949812\n",
      "0.5831021497499032\n",
      "0.582711065346019\n",
      "0.5823215798719242\n",
      "0.5819336759273441\n",
      "0.5815473364161543\n",
      "0.5811625445395787\n",
      "0.5807792837895625\n",
      "0.5803975379423109\n",
      "0.580017291051996\n",
      "0.5796385274446189\n",
      "0.57926123171203\n",
      "0.5788853887060984\n",
      "0.578510983533029\n",
      "0.5781380015478221\n",
      "0.5777664283488722\n",
      "0.5773962497727007\n",
      "0.5770274518888224\n",
      "0.5766600209947379\n",
      "0.5762939436110505\n",
      "0.5759292064767056\n",
      "0.5755657965443469\n",
      "0.5752037009757871\n",
      "0.574842907137591\n",
      "0.5744834025967662\n",
      "0.5741251751165605\n",
      "0.5737682126523604\n",
      "0.5734125033476926\n",
      "0.5730580355303191\n",
      "0.5727047977084311\n",
      "0.5723527785669316\n",
      "0.5720019669638106\n",
      "0.571652351926606\n",
      "0.5713039226489504\n",
      "0.5709566684872008\n",
      "0.5706105789571488\n",
      "0.570265643730809\n",
      "0.5699218526332851\n",
      "0.5695791956397088\n",
      "0.5692376628722532\n",
      "0.5688972445972146\n",
      "0.5685579312221652\n",
      "0.568219713293172\n",
      "0.5678825814920798\n",
      "0.5675465266338603\n",
      "0.5672115396640203\n",
      "0.5668776116560724\n",
      "0.5665447338090631\n",
      "0.5662128974451595\n",
      "0.5658820940072897\n",
      "0.5655523150568394\n",
      "0.5652235522714013\n",
      "0.5648957974425743\n",
      "0.5645690424738157\n",
      "0.564243279378339\n",
      "0.5639185002770633\n",
      "0.5635946973966061\n",
      "0.563271863067323\n",
      "0.5629499897213905\n",
      "0.562629069890934\n",
      "0.5623090962061945\n",
      "0.5619900613937395\n",
      "0.5616719582747115\n",
      "0.561354779763117\n",
      "0.5610385188641518\n",
      "0.5607231686725648\n",
      "0.5604087223710573\n",
      "0.560095173228717\n",
      "0.559782514599487\n",
      "0.5594707399206674\n",
      "0.5591598427114509\n",
      "0.5588498165714882\n",
      "0.558540655179487\n",
      "0.5582323522918382\n",
      "0.557924901741275\n",
      "0.5576182974355569\n",
      "0.5573125333561865\n",
      "0.5570076035571487\n",
      "0.556703502163681\n",
      "0.5564002233710669\n",
      "0.5560977614434558\n",
      "0.5557961107127088\n",
      "0.5554952655772668\n",
      "0.5551952205010432\n",
      "0.5548959700123408\n",
      "0.5545975087027889\n",
      "0.5542998312263042\n",
      "0.554002932298073\n",
      "0.5537068066935531\n",
      "0.5534114492474982\n"
     ]
    }
   ],
   "source": [
    "w = np.zeros((X.shape[0],1))\n",
    "b = 0\n",
    "\n",
    "m = train_set_x_orig.shape[0]\n",
    "alpha = 0.001\n",
    "import math\n",
    "\n",
    "def sigmoid(x):\n",
    "  return 1 / (1 + 1/np.exp(x))\n",
    "\n",
    "\n",
    "for i in range(X.shape[1]):\n",
    "    #xx = X[:,i].reshape(-1,1)\n",
    "    xx=X\n",
    "    yy=train_set_y\n",
    "    Z = np.dot(w.T,xx)+b\n",
    "    A = sigmoid(Z)\n",
    "    #yy=train_set_y[:,i].reshape(-1,1)\n",
    "    cost = -1/m*np.sum(yy*np.log(A)+(1-yy)*np.log(1-A)) \n",
    "\n",
    "    dz = A-yy\n",
    "    dw = (1/m)*np.dot(xx,dz.T)\n",
    "    db = (1/m)*np.sum(dz)\n",
    "\n",
    "    w = w - alpha*dw\n",
    "    b = b - alpha*db\n",
    "    print(cost)"
   ]
  },
  {
   "cell_type": "code",
   "execution_count": 125,
   "metadata": {},
   "outputs": [
    {
     "name": "stdout",
     "output_type": "stream",
     "text": [
      "0.6931471805599453\n",
      "1.1201739474561658\n",
      "2.1127183805985696\n",
      "3.1997290177984428\n",
      "0.8100261060105536\n",
      "1.8874109951783227\n",
      "3.1881676760526965\n",
      "0.7949783817423247\n",
      "1.8706974174852222\n",
      "3.1513560070049493\n",
      "0.7648481658963865\n",
      "1.802202325089909\n",
      "3.113051478606343\n",
      "0.7356117417067402\n",
      "1.721601153821593\n",
      "3.0698415680999123\n",
      "0.7051661626075593\n",
      "1.6227657065309702\n",
      "3.0182244725746434\n",
      "0.6719081806153118\n",
      "1.4963431351303782\n",
      "2.949022059586552\n",
      "0.6323339800435082\n",
      "1.3139214953075353\n",
      "2.8283499427181233\n",
      "0.5775558543072069\n",
      "0.9667092700909913\n",
      "2.416879702846525\n",
      "0.5594224794650072\n",
      "0.8473694424360794\n",
      "1.8485074169447326\n",
      "2.9149952446403513\n",
      "0.6061398574888199\n",
      "1.2364232001163353\n",
      "2.696790061688035\n",
      "0.5264808290812681\n",
      "0.6582804224087041\n",
      "1.5344517149021688\n",
      "1.2992095821532126\n",
      "2.7144409289813662\n",
      "0.5234222868466308\n",
      "0.7190704405345127\n",
      "1.779447819616104\n",
      "0.9748252434435181\n",
      "2.3604361833631766\n",
      "0.5209805965829541\n",
      "0.7649435446899601\n",
      "1.6727340564224509\n",
      "2.7839076003426286\n",
      "0.5362945103956834\n",
      "0.9241854522216333\n",
      "2.2459098104931354\n",
      "0.5440577551137148\n",
      "1.000728622397832\n",
      "1.67293875403553\n",
      "2.731738532553872\n",
      "0.5128742406883549\n",
      "0.8086484898923875\n",
      "1.9933781064357605\n",
      "0.6775869918656613\n",
      "1.63023729114316\n",
      "1.0180994326169235\n",
      "2.3314957960203198\n",
      "0.48319800393696405\n",
      "0.6386608630814492\n",
      "1.3756595613538938\n",
      "2.5914102215290447\n",
      "0.46778405734982803\n",
      "0.5487660938452813\n",
      "1.1066184003313253\n",
      "1.494413692523109\n",
      "2.603783647642391\n",
      "0.46533094692424815\n",
      "0.5768729292059135\n",
      "1.2526730641575128\n",
      "1.3333306465950177\n",
      "2.515758997251348\n",
      "0.4472538807598827\n",
      "0.4698706978917856\n",
      "0.667523646265911\n",
      "1.3962846965355897\n",
      "2.5213093831209896\n",
      "0.44193488465588165\n",
      "0.4766808709957301\n",
      "0.7508685148202963\n",
      "1.4747004584374397\n",
      "2.5224432003106796\n",
      "0.43698475690014266\n",
      "0.48100246405099495\n",
      "0.8047960008596905\n",
      "1.478729627804251\n",
      "2.498016227553608\n",
      "0.42924737338347374\n",
      "0.4597040250171624\n",
      "0.694272129863279\n",
      "1.3852781409798756\n",
      "2.445969034312741\n",
      "0.4197351312431787\n",
      "0.42495972651057795\n",
      "0.4793408810205177\n",
      "0.8239208681626427\n",
      "1.9230473939959543\n",
      "0.578131972848199\n",
      "1.2919594897124262\n",
      "1.1420299086879842\n",
      "2.2821524862248936\n",
      "0.41678307194589354\n",
      "0.46923284459760806\n",
      "0.7885425686879168\n",
      "1.836225604599889\n",
      "0.6139244199386\n",
      "1.4055609737563823\n",
      "0.9903019150893334\n",
      "2.112898294565731\n",
      "0.447622082792635\n",
      "0.705014771394737\n",
      "1.3112302671980411\n",
      "2.3317203261222685\n",
      "0.3976155307875135\n",
      "0.39981627932231223\n",
      "0.42599308483903037\n",
      "0.607911852706056\n",
      "1.1893062926671114\n",
      "2.251269363910314\n",
      "0.39717881940049576\n",
      "0.4384844376953877\n",
      "0.681240452392974\n",
      "1.5740106666402784\n",
      "0.770977597557699\n",
      "1.7546247429795345\n",
      "0.6137229875983519\n",
      "1.3844924265688578\n",
      "0.924031828150431\n",
      "1.9707324001607218\n",
      "0.4686162430651701\n",
      "0.8560888805399641\n",
      "1.265449853554056\n",
      "2.2332612518597\n",
      "0.38386542830359405\n",
      "0.41005674449967594\n",
      "0.562652293157854\n",
      "1.2179055787142625\n",
      "1.0295566362115198\n",
      "2.048970868350631\n",
      "0.41823994567145106\n",
      "0.6286629890569676\n",
      "1.1366551116607635\n",
      "2.1195655033384524\n",
      "0.3918994299487647\n",
      "0.4968845331170887\n",
      "0.8895880292853967\n",
      "1.8669436369152657\n",
      "0.48431022458501194\n",
      "0.9324809628093599\n",
      "1.1647949569636507\n",
      "2.1062345074180486\n",
      "0.384785293440596\n",
      "0.47961399032520635\n",
      "0.8324498311138637\n",
      "1.7610675752190526\n",
      "0.5276030885196578\n",
      "1.080095784309898\n",
      "1.046189680774226\n",
      "1.9869880780678835\n",
      "0.4084257095546216\n",
      "0.6130537274300125\n",
      "1.0527628353641991\n",
      "1.9777678443204996\n",
      "0.4056471292751615\n",
      "0.6060137909219259\n",
      "1.0333371706402947\n",
      "1.9465998006741028\n",
      "0.4108832899334816\n",
      "0.6344900948017315\n",
      "1.0483754965928236\n",
      "1.9447619623998613\n",
      "0.4054753040335386\n",
      "0.6148481250619948\n",
      "1.0182541422104403\n",
      "1.9043981459920218\n",
      "0.41471945488337797\n",
      "0.6575007399794432\n",
      "1.0390654038947218\n",
      "1.9079481740030417\n",
      "0.40713730233826817\n",
      "0.6285443246765776\n",
      "1.0052108510972444\n",
      "1.8641168968891524\n",
      "0.4184037429408848\n",
      "0.6757980536630738\n",
      "1.022182244296356\n",
      "1.8649138250291746\n",
      "0.41174086238528296\n",
      "0.650740844786955\n",
      "0.9948691772673595\n",
      "1.8264662882012697\n",
      "0.4214464114502955\n",
      "0.6882654433263871\n",
      "1.000108261021476\n",
      "1.8172209719507022\n",
      "0.4189443034470947\n",
      "0.6787410277579637\n",
      "0.9824918110882135\n",
      "1.7871395550644045\n",
      "0.4255921100332806\n",
      "0.7019167056280519\n",
      "0.9771470223183581\n",
      "1.7683293058243725\n",
      "0.4274098335495389\n"
     ]
    }
   ],
   "source": [
    "#b = np.random.rand(1)\n",
    "w = np.zeros((X.shape[0],1))\n",
    "b = 0\n",
    "\n",
    "m = train_set_x_orig.shape[0]\n",
    "alpha = 0.01\n",
    "import math\n",
    "\n",
    "def sigmoid(x):\n",
    "  return 1 / (1 + 1/np.exp(x))\n",
    "\n",
    "\n",
    "for i in range(X.shape[1]):\n",
    "    #xx = X[:,i].reshape(-1,1)\n",
    "    xx=X\n",
    "    yy=train_set_y\n",
    "    Z = np.dot(w.T,xx)+b\n",
    "    A = sigmoid(Z)\n",
    "    #yy=train_set_y[:,i].reshape(-1,1)\n",
    "    cost = -1/m*np.sum(yy*np.log(A)+(1-yy)*np.log(1-A)) \n",
    "\n",
    "    dz = A-yy\n",
    "    dw = (1/m)*np.dot(xx,dz.T)\n",
    "    db = (1/m)*np.sum(dz)\n",
    "\n",
    "    w = w - alpha*dw\n",
    "    b = b - alpha*db\n",
    "    print(cost)"
   ]
  },
  {
   "cell_type": "code",
   "execution_count": 126,
   "metadata": {},
   "outputs": [
    {
     "name": "stdout",
     "output_type": "stream",
     "text": [
      "0.6931471805599453\n",
      "0.6602163017690019\n",
      "0.6526585611009366\n",
      "0.6502497388185607\n",
      "0.6489887705026202\n",
      "0.6480063806213199\n",
      "0.647099811966631\n",
      "0.6462198002970412\n",
      "0.6453540182894317\n",
      "0.644499232581576\n",
      "0.6436544764306668\n",
      "0.6428193536253203\n",
      "0.6419936145289409\n",
      "0.6411770498179609\n",
      "0.6403694637979015\n",
      "0.6395706676604929\n",
      "0.6387804777293385\n",
      "0.6379987149485814\n",
      "0.6372252046793091\n",
      "0.6364597765717578\n",
      "0.6357022644565815\n",
      "0.6349525062417116\n",
      "0.6342103438117964\n",
      "0.633475622929652\n",
      "0.6327481931396676\n",
      "0.6320279076731887\n",
      "0.631314623355897\n",
      "0.630608200517192\n",
      "0.6299085029015656\n",
      "0.6292153975819603\n",
      "0.6285287548750871\n",
      "0.627848448258686\n",
      "0.6271743542907062\n",
      "0.6265063525303773\n",
      "0.6258443254611479\n",
      "0.625188158415463\n",
      "0.624537739501354\n",
      "0.623892959530807\n",
      "0.6232537119498838\n",
      "0.6226198927705643\n",
      "0.6219914005042768\n",
      "0.621368136097089\n",
      "0.6207500028665225\n",
      "0.620136906439965\n",
      "0.6195287546946441\n",
      "0.6189254576991309\n",
      "0.6183269276563446\n",
      "0.6177330788480225\n",
      "0.6171438275806259\n",
      "0.6165590921326487\n",
      "0.6159787927033\n",
      "0.6154028513625254\n",
      "0.6148311920023416\n",
      "0.6142637402894475\n",
      "0.6137004236190889\n",
      "0.6131411710701391\n",
      "0.6125859133613742\n",
      "0.6120345828089064\n",
      "0.6114871132847546\n",
      "0.6109434401765165\n",
      "0.6104035003481223\n",
      "0.6098672321016353\n",
      "0.6093345751400803\n",
      "0.6088054705312674\n",
      "0.6082798606725908\n",
      "0.6077576892567721\n",
      "0.6072389012385306\n",
      "0.6067234428021486\n",
      "0.6062112613299148\n",
      "0.6057023053714178\n",
      "0.6051965246136727\n",
      "0.6046938698520521\n",
      "0.6041942929620051\n",
      "0.6036977468715412\n",
      "0.6032041855344598\n",
      "0.6027135639043024\n",
      "0.6022258379090123\n",
      "0.6017409644262784\n",
      "0.6012589012595473\n",
      "0.6007796071146843\n",
      "0.6003030415772658\n",
      "0.5998291650904869\n",
      "0.5993579389336644\n",
      "0.5988893252013228\n",
      "0.5984232867828441\n",
      "0.5979597873426669\n",
      "0.5974987913010211\n",
      "0.5970402638151805\n",
      "0.5965841707612213\n",
      "0.596130478716272\n",
      "0.5956791549412396\n",
      "0.5952301673640018\n",
      "0.5947834845630495\n",
      "0.5943390757515676\n",
      "0.5938969107619441\n",
      "0.5934569600306918\n",
      "0.5930191945837756\n",
      "0.5925835860223293\n",
      "0.5921501065087554\n",
      "0.5917187287531943\n",
      "0.5912894260003537\n",
      "0.5908621720166888\n",
      "0.5904369410779213\n",
      "0.590013707956891\n",
      "0.5895924479117277\n",
      "0.5891731366743361\n",
      "0.5887557504391855\n",
      "0.5883402658523927\n",
      "0.5879266600010956\n",
      "0.587514910403102\n",
      "0.5871049949968137\n",
      "0.5866968921314115\n",
      "0.5862905805572991\n",
      "0.5858860394167948\n",
      "0.5854832482350667\n",
      "0.5850821869113033\n",
      "0.5846828357101138\n",
      "0.5842851752531508\n",
      "0.58388918651095\n",
      "0.5834948507949812\n",
      "0.5831021497499032\n",
      "0.582711065346019\n",
      "0.5823215798719242\n",
      "0.5819336759273441\n",
      "0.5815473364161543\n",
      "0.5811625445395787\n",
      "0.5807792837895625\n",
      "0.5803975379423109\n",
      "0.580017291051996\n",
      "0.5796385274446189\n",
      "0.57926123171203\n",
      "0.5788853887060984\n",
      "0.578510983533029\n",
      "0.5781380015478221\n",
      "0.5777664283488722\n",
      "0.5773962497727007\n",
      "0.5770274518888224\n",
      "0.5766600209947379\n",
      "0.5762939436110505\n",
      "0.5759292064767056\n",
      "0.5755657965443469\n",
      "0.5752037009757871\n",
      "0.574842907137591\n",
      "0.5744834025967662\n",
      "0.5741251751165605\n",
      "0.5737682126523604\n",
      "0.5734125033476926\n",
      "0.5730580355303191\n",
      "0.5727047977084311\n",
      "0.5723527785669316\n",
      "0.5720019669638106\n",
      "0.571652351926606\n",
      "0.5713039226489504\n",
      "0.5709566684872008\n",
      "0.5706105789571488\n",
      "0.570265643730809\n",
      "0.5699218526332851\n",
      "0.5695791956397088\n",
      "0.5692376628722532\n",
      "0.5688972445972146\n",
      "0.5685579312221652\n",
      "0.568219713293172\n",
      "0.5678825814920798\n",
      "0.5675465266338603\n",
      "0.5672115396640203\n",
      "0.5668776116560724\n",
      "0.5665447338090631\n",
      "0.5662128974451595\n",
      "0.5658820940072897\n",
      "0.5655523150568394\n",
      "0.5652235522714013\n",
      "0.5648957974425743\n",
      "0.5645690424738157\n",
      "0.564243279378339\n",
      "0.5639185002770633\n",
      "0.5635946973966061\n",
      "0.563271863067323\n",
      "0.5629499897213905\n",
      "0.562629069890934\n",
      "0.5623090962061945\n",
      "0.5619900613937395\n",
      "0.5616719582747115\n",
      "0.561354779763117\n",
      "0.5610385188641518\n",
      "0.5607231686725648\n",
      "0.5604087223710573\n",
      "0.560095173228717\n",
      "0.559782514599487\n",
      "0.5594707399206674\n",
      "0.5591598427114509\n",
      "0.5588498165714882\n",
      "0.558540655179487\n",
      "0.5582323522918382\n",
      "0.557924901741275\n",
      "0.5576182974355569\n",
      "0.5573125333561865\n",
      "0.5570076035571487\n",
      "0.556703502163681\n",
      "0.5564002233710669\n",
      "0.5560977614434558\n",
      "0.5557961107127088\n",
      "0.5554952655772668\n",
      "0.5551952205010432\n",
      "0.5548959700123408\n",
      "0.5545975087027889\n",
      "0.5542998312263042\n",
      "0.554002932298073\n",
      "0.5537068066935531\n",
      "0.5534114492474982\n"
     ]
    }
   ],
   "source": [
    "w = np.zeros((X.shape[0],1))\n",
    "b = 0\n",
    "\n",
    "m = train_set_x_orig.shape[0]\n",
    "alpha = 0.001\n",
    "import math\n",
    "\n",
    "def sigmoid(x):\n",
    "  return 1 / (1 + 1/np.exp(x))\n",
    "\n",
    "\n",
    "for i in range(X.shape[1]):\n",
    "    #xx = X[:,i].reshape(-1,1)\n",
    "    xx=X\n",
    "    yy=train_set_y\n",
    "    Z = np.dot(w.T,xx)+b\n",
    "    A = sigmoid(Z)\n",
    "    #yy=train_set_y[:,i].reshape(-1,1)\n",
    "    cost = -1/m*np.sum(yy*np.log(A)+(1-yy)*np.log(1-A)) \n",
    "\n",
    "    dz = A-yy\n",
    "    dw = (1/m)*np.dot(xx,dz.T)\n",
    "    db = (1/m)*np.sum(dz)\n",
    "\n",
    "    w = w - alpha*dw\n",
    "    b = b - alpha*db\n",
    "    print(cost)"
   ]
  },
  {
   "cell_type": "code",
   "execution_count": 127,
   "metadata": {},
   "outputs": [],
   "source": [
    "X_test = test_set_x_orig.reshape(test_set_x_orig.shape[0],-1).T/255\n",
    "y_hat = np.dot(w.T,X_test)+b"
   ]
  },
  {
   "cell_type": "code",
   "execution_count": 128,
   "metadata": {},
   "outputs": [
    {
     "data": {
      "text/plain": [
       "array([[-0.08301109,  0.04160135, -0.23908267, -0.0908986 , -0.62675317,\n",
       "        -0.24017894, -0.96110546, -0.02242462, -0.05290995, -0.11798891,\n",
       "        -0.5191334 , -0.28866575, -0.1008618 ,  0.07794987, -1.01822355,\n",
       "        -0.0825472 , -0.90359602, -0.43100859, -1.05481695, -1.01830311,\n",
       "        -0.33481713, -1.01018527, -1.2903412 , -0.49978987,  0.13707787,\n",
       "        -0.00494252, -0.56853279, -0.87845316, -0.4660683 , -0.02817919,\n",
       "        -0.48205036, -0.43822903, -0.66476854, -0.45826279, -0.3185032 ,\n",
       "        -1.30205075, -0.82875938, -0.10455555, -0.22459419, -1.1433068 ,\n",
       "        -0.47745319,  0.08951992, -0.47728409, -0.88211415, -0.00638634,\n",
       "        -0.78353125, -0.64054561,  0.61825749, -0.37319302, -0.96575948]])"
      ]
     },
     "execution_count": 128,
     "metadata": {},
     "output_type": "execute_result"
    }
   ],
   "source": [
    "y_hat"
   ]
  },
  {
   "cell_type": "code",
   "execution_count": 129,
   "metadata": {},
   "outputs": [],
   "source": [
    "X_test = test_set_x_orig.reshape(test_set_x_orig.shape[0],-1).T/255\n",
    "y_hat = sigmoid(np.dot(w.T,X_test)+b)"
   ]
  },
  {
   "cell_type": "code",
   "execution_count": 130,
   "metadata": {},
   "outputs": [
    {
     "data": {
      "text/plain": [
       "array([[0.47925914, 0.51039884, 0.44051242, 0.47729098, 0.34824711,\n",
       "        0.44024225, 0.27665692, 0.49439408, 0.4867756 , 0.47053695,\n",
       "        0.3730549 , 0.42833054, 0.47480591, 0.51947761, 0.26537358,\n",
       "        0.47937491, 0.28831208, 0.39388552, 0.25830119, 0.26535807,\n",
       "        0.417069  , 0.26694359, 0.21579506, 0.37759005, 0.53421591,\n",
       "        0.49876437, 0.36157545, 0.29349842, 0.38554725, 0.49295567,\n",
       "        0.38176808, 0.39216304, 0.33966924, 0.38739802, 0.42104057,\n",
       "        0.21382008, 0.30390746, 0.4738849 , 0.44408629, 0.24171375,\n",
       "        0.3828537 , 0.52236505, 0.38289365, 0.29273987, 0.49840342,\n",
       "        0.31355932, 0.34512321, 0.64982214, 0.4077697 , 0.27572653]])"
      ]
     },
     "execution_count": 130,
     "metadata": {},
     "output_type": "execute_result"
    }
   ],
   "source": [
    "y_hat"
   ]
  },
  {
   "cell_type": "code",
   "execution_count": null,
   "metadata": {},
   "outputs": [],
   "source": [
    "X = train_set_x_orig.reshape(train_set_x_orig.shape[0],-1).T/255\n",
    "Y = train_set_y\n",
    "#w = np.random.rand(X.shape[0],1)\n",
    "#b = np.random.rand(1)\n",
    "w = np.zeros((X.shape[0],1))\n",
    "b = 0\n",
    "\n",
    "m = train_set_x_orig.shape[0]\n",
    "alpha = 0.01\n",
    "\n",
    "def sigmoid(x):\n",
    "  return 1 / (1 + 1/np.exp(x))\n",
    "\n",
    "costs = []\n",
    "\n",
    "for i in range(100):\n",
    "    Z = np.dot(w.T,X)+b\n",
    "    A = sigmoid(Z)\n",
    "    cost = -1/m*np.sum(*np.log(A)+(1-Y)*np.log(1-A)) \n",
    "\n",
    "    dz = A-Y\n",
    "    dw = (1/m)*np.dot(X,dz.T)\n",
    "    db = (1/m)*np.sum(dz)\n",
    "\n",
    "    w = w - alpha*dw\n",
    "    b = b - alpha*db\n",
    "    \n",
    "    costs.append(cost)\n",
    "# test\n",
    "\n",
    "X_test = test_set_x_orig.reshape(test_set_x_orig.shape[0],-1).T/255\n",
    "y_hat = 1*(sigmoid(np.dot(w.T,X_test)+b) >= 0.5)\n",
    "\n",
    "\n",
    "acc = 1 - np.sum(np.abs(y_hat - test_set_y)) / X_test.shape[1]\n",
    "print(acc)"
   ]
  },
  {
   "cell_type": "code",
   "execution_count": null,
   "metadata": {},
   "outputs": [],
   "source": []
  }
 ],
 "metadata": {
  "kernelspec": {
   "display_name": "Python 3",
   "language": "python",
   "name": "python3"
  },
  "language_info": {
   "codemirror_mode": {
    "name": "ipython",
    "version": 3
   },
   "file_extension": ".py",
   "mimetype": "text/x-python",
   "name": "python",
   "nbconvert_exporter": "python",
   "pygments_lexer": "ipython3",
   "version": "3.6.5"
  }
 },
 "nbformat": 4,
 "nbformat_minor": 2
}
