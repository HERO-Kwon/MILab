{
 "cells": [
  {
   "cell_type": "code",
   "execution_count": 1,
   "metadata": {},
   "outputs": [],
   "source": [
    "from PIL import Image\n",
    "from glob import glob\n",
    "import PIL\n",
    "import sys\n",
    "import os"
   ]
  },
  {
   "cell_type": "code",
   "execution_count": 3,
   "metadata": {},
   "outputs": [],
   "source": [
    "path = 'D:\\\\Matlab_Drive\\\\Data\\\\MedAI_A2\\\\TrainingData'\n",
    "path_originals = 'D:\\\\Matlab_Drive\\\\Data\\\\MedAI_A2\\\\TrainingData\\\\original'\n"
   ]
  },
  {
   "cell_type": "code",
   "execution_count": 4,
   "metadata": {},
   "outputs": [],
   "source": [
    "if not os.path.exists(path):\n",
    "    os.makedirs(path)\n",
    "\n",
    "def compress_image(image, infile):\n",
    "    size = 1920, 1080\n",
    "    width = 1920\n",
    "    height = 1080\n",
    "    listing = os.listdir(path_originals)\n",
    "\n",
    "    name = infile.split('.')\n",
    "    first_name = path+'/'+name[0] + '.jpg'\n",
    "    if image.size[0] > width and image.size[1] > height:\n",
    "        image.thumbnail(size, Image.ANTIALIAS)\n",
    "        image.save(first_name, quality=85)\n",
    "    elif image.size[0] > width:\n",
    "        wpercent = (width/float(image.size[0]))\n",
    "        height = int((float(image.size[1])*float(wpercent)))\n",
    "        image = image.resize((width,height), PIL.Image.ANTIALIAS)\n",
    "        image.save(first_name,quality=85)\n",
    "    elif image.size[1] > height:\n",
    "        wpercent = (height/float(image.size[1]))\n",
    "        width = int((float(image.size[0])*float(wpercent)))\n",
    "        image = image.resize((width,height), PIL.Image.ANTIALIAS)\n",
    "        image.save(first_name, quality=85)\n",
    "    else:\n",
    "        image.save(first_name, quality=85)\n",
    "\n",
    "\n",
    "def processImage():\n",
    "    listing = os.listdir(path_originals)\n",
    "    for infile in listing:\n",
    "        img = Image.open(path_originals+infile)\n",
    "        name = infile.split('.')\n",
    "        first_name = path+'/'+name[0] + '.jpg'\n",
    "\n",
    "        if img.format == \"JPEG\":\n",
    "            image = img.convert('RGB')\n",
    "            compress_image(image, infile)\n",
    "            img.close()\n",
    "\n",
    "        elif img.format == \"GIF\":\n",
    "            i = img.convert(\"RGBA\")\n",
    "            bg = Image.new(\"RGBA\", i.size)\n",
    "            image = Image.composite(i, bg, i)\n",
    "            compress_image(image, infile)\n",
    "            img.close()\n",
    "\n",
    "        elif img.format == \"PNG\":\n",
    "            try:\n",
    "                image = Image.new(\"RGB\", img.size, (255,255,255))\n",
    "                image.paste(img,img)\n",
    "                compress_image(image, infile)\n",
    "            except ValueError:\n",
    "                image = img.convert('RGB')\n",
    "                compress_image(image, infile)\n",
    "            img.close()\n",
    "\n",
    "        elif img.format == \"BMP\":\n",
    "            image = img.convert('RGB')\n",
    "            compress_image(image, infile)\n",
    "            img.close()\n",
    "\n",
    "processImage()"
   ]
  },
  {
   "cell_type": "code",
   "execution_count": 5,
   "metadata": {},
   "outputs": [],
   "source": [
    "processImage()"
   ]
  },
  {
   "cell_type": "code",
   "execution_count": null,
   "metadata": {},
   "outputs": [],
   "source": []
  }
 ],
 "metadata": {
  "kernelspec": {
   "display_name": "Python 3",
   "language": "python",
   "name": "python3"
  },
  "language_info": {
   "codemirror_mode": {
    "name": "ipython",
    "version": 3
   },
   "file_extension": ".py",
   "mimetype": "text/x-python",
   "name": "python",
   "nbconvert_exporter": "python",
   "pygments_lexer": "ipython3",
   "version": "3.6.4"
  }
 },
 "nbformat": 4,
 "nbformat_minor": 2
}
