{
 "cells": [
  {
   "cell_type": "code",
   "execution_count": 1,
   "metadata": {},
   "outputs": [],
   "source": [
    "from PIL import Image\n",
    "from glob import glob\n",
    "import PIL\n",
    "import sys\n",
    "import os"
   ]
  },
  {
   "cell_type": "code",
   "execution_count": 4,
   "metadata": {},
   "outputs": [],
   "source": [
    "path = 'D:\\\\Matlab_Drive\\\\Data\\\\MedAI_A2\\\\test_data\\\\TestData\\\\jpgs_30'\n",
    "path_originals = 'D:\\\\Matlab_Drive\\\\Data\\\\MedAI_A2\\\\test_data\\\\TestData\\\\'\n"
   ]
  },
  {
   "cell_type": "code",
   "execution_count": 5,
   "metadata": {},
   "outputs": [
    {
     "ename": "PermissionError",
     "evalue": "[Errno 13] Permission denied: 'D:\\\\Matlab_Drive\\\\Data\\\\MedAI_A2\\\\test_data\\\\TestData\\\\jpgs_30'",
     "output_type": "error",
     "traceback": [
      "\u001b[1;31m---------------------------------------------------------------------------\u001b[0m",
      "\u001b[1;31mPermissionError\u001b[0m                           Traceback (most recent call last)",
      "\u001b[1;32m<ipython-input-5-66ce421f740f>\u001b[0m in \u001b[0;36m<module>\u001b[1;34m()\u001b[0m\n\u001b[0;32m     61\u001b[0m             \u001b[0mimg\u001b[0m\u001b[1;33m.\u001b[0m\u001b[0mclose\u001b[0m\u001b[1;33m(\u001b[0m\u001b[1;33m)\u001b[0m\u001b[1;33m\u001b[0m\u001b[0m\n\u001b[0;32m     62\u001b[0m \u001b[1;33m\u001b[0m\u001b[0m\n\u001b[1;32m---> 63\u001b[1;33m \u001b[0mprocessImage\u001b[0m\u001b[1;33m(\u001b[0m\u001b[1;33m)\u001b[0m\u001b[1;33m\u001b[0m\u001b[0m\n\u001b[0m",
      "\u001b[1;32m<ipython-input-5-66ce421f740f>\u001b[0m in \u001b[0;36mprocessImage\u001b[1;34m()\u001b[0m\n\u001b[0;32m     30\u001b[0m     \u001b[0mlisting\u001b[0m \u001b[1;33m=\u001b[0m \u001b[0mos\u001b[0m\u001b[1;33m.\u001b[0m\u001b[0mlistdir\u001b[0m\u001b[1;33m(\u001b[0m\u001b[0mpath_originals\u001b[0m\u001b[1;33m)\u001b[0m\u001b[1;33m\u001b[0m\u001b[0m\n\u001b[0;32m     31\u001b[0m     \u001b[1;32mfor\u001b[0m \u001b[0minfile\u001b[0m \u001b[1;32min\u001b[0m \u001b[0mlisting\u001b[0m\u001b[1;33m:\u001b[0m\u001b[1;33m\u001b[0m\u001b[0m\n\u001b[1;32m---> 32\u001b[1;33m         \u001b[0mimg\u001b[0m \u001b[1;33m=\u001b[0m \u001b[0mImage\u001b[0m\u001b[1;33m.\u001b[0m\u001b[0mopen\u001b[0m\u001b[1;33m(\u001b[0m\u001b[0mpath_originals\u001b[0m\u001b[1;33m+\u001b[0m\u001b[0minfile\u001b[0m\u001b[1;33m)\u001b[0m\u001b[1;33m\u001b[0m\u001b[0m\n\u001b[0m\u001b[0;32m     33\u001b[0m         \u001b[0mname\u001b[0m \u001b[1;33m=\u001b[0m \u001b[0minfile\u001b[0m\u001b[1;33m.\u001b[0m\u001b[0msplit\u001b[0m\u001b[1;33m(\u001b[0m\u001b[1;34m'.'\u001b[0m\u001b[1;33m)\u001b[0m\u001b[1;33m\u001b[0m\u001b[0m\n\u001b[0;32m     34\u001b[0m         \u001b[0mfirst_name\u001b[0m \u001b[1;33m=\u001b[0m \u001b[0mpath\u001b[0m\u001b[1;33m+\u001b[0m\u001b[1;34m'/'\u001b[0m\u001b[1;33m+\u001b[0m\u001b[0mname\u001b[0m\u001b[1;33m[\u001b[0m\u001b[1;36m0\u001b[0m\u001b[1;33m]\u001b[0m \u001b[1;33m+\u001b[0m \u001b[1;34m'.jpg'\u001b[0m\u001b[1;33m\u001b[0m\u001b[0m\n",
      "\u001b[1;32m~\\Anaconda3\\lib\\site-packages\\PIL\\Image.py\u001b[0m in \u001b[0;36mopen\u001b[1;34m(fp, mode)\u001b[0m\n\u001b[0;32m   2541\u001b[0m \u001b[1;33m\u001b[0m\u001b[0m\n\u001b[0;32m   2542\u001b[0m     \u001b[1;32mif\u001b[0m \u001b[0mfilename\u001b[0m\u001b[1;33m:\u001b[0m\u001b[1;33m\u001b[0m\u001b[0m\n\u001b[1;32m-> 2543\u001b[1;33m         \u001b[0mfp\u001b[0m \u001b[1;33m=\u001b[0m \u001b[0mbuiltins\u001b[0m\u001b[1;33m.\u001b[0m\u001b[0mopen\u001b[0m\u001b[1;33m(\u001b[0m\u001b[0mfilename\u001b[0m\u001b[1;33m,\u001b[0m \u001b[1;34m\"rb\"\u001b[0m\u001b[1;33m)\u001b[0m\u001b[1;33m\u001b[0m\u001b[0m\n\u001b[0m\u001b[0;32m   2544\u001b[0m         \u001b[0mexclusive_fp\u001b[0m \u001b[1;33m=\u001b[0m \u001b[1;32mTrue\u001b[0m\u001b[1;33m\u001b[0m\u001b[0m\n\u001b[0;32m   2545\u001b[0m \u001b[1;33m\u001b[0m\u001b[0m\n",
      "\u001b[1;31mPermissionError\u001b[0m: [Errno 13] Permission denied: 'D:\\\\Matlab_Drive\\\\Data\\\\MedAI_A2\\\\test_data\\\\TestData\\\\jpgs_30'"
     ]
    }
   ],
   "source": [
    "if not os.path.exists(path):\n",
    "    os.makedirs(path)\n",
    "\n",
    "def compress_image(image, infile):\n",
    "    size = 1935/3, 2400/3\n",
    "    width = 1935 / 3\n",
    "    height = 2400 / 3\n",
    "    listing = os.listdir(path_originals)\n",
    "\n",
    "    name = infile.split('.')\n",
    "    first_name = path+'/'+name[0] + '.jpg'\n",
    "    if image.size[0] > width and image.size[1] > height:\n",
    "        image.thumbnail(size, Image.ANTIALIAS)\n",
    "        image.save(first_name, quality=100)\n",
    "    elif image.size[0] > width:\n",
    "        wpercent = (width/float(image.size[0]))\n",
    "        height = int((float(image.size[1])*float(wpercent)))\n",
    "        image = image.resize((width,height), PIL.Image.ANTIALIAS)\n",
    "        image.save(first_name,quality=100)\n",
    "    elif image.size[1] > height:\n",
    "        wpercent = (height/float(image.size[1]))\n",
    "        width = int((float(image.size[0])*float(wpercent)))\n",
    "        image = image.resize((width,height), PIL.Image.ANTIALIAS)\n",
    "        image.save(first_name, quality=100)\n",
    "    else:\n",
    "        image.save(first_name, quality=100)\n",
    "\n",
    "\n",
    "def processImage():\n",
    "    listing = os.listdir(path_originals)\n",
    "    for infile in listing:\n",
    "        img = Image.open(path_originals+infile)\n",
    "        name = infile.split('.')\n",
    "        first_name = path+'/'+name[0] + '.jpg'\n",
    "\n",
    "        if img.format == \"JPEG\":\n",
    "            image = img.convert('RGB')\n",
    "            compress_image(image, infile)\n",
    "            img.close()\n",
    "\n",
    "        elif img.format == \"GIF\":\n",
    "            i = img.convert(\"RGBA\")\n",
    "            bg = Image.new(\"RGBA\", i.size)\n",
    "            image = Image.composite(i, bg, i)\n",
    "            compress_image(image, infile)\n",
    "            img.close()\n",
    "\n",
    "        elif img.format == \"PNG\":\n",
    "            try:\n",
    "                image = Image.new(\"RGB\", img.size, (255,255,255))\n",
    "                image.paste(img,img)\n",
    "                compress_image(image, infile)\n",
    "            except ValueError:\n",
    "                image = img.convert('RGB')\n",
    "                compress_image(image, infile)\n",
    "            img.close()\n",
    "\n",
    "        elif img.format == \"BMP\":\n",
    "            image = img.convert('RGB')\n",
    "            compress_image(image, infile)\n",
    "            img.close()\n",
    "\n",
    "processImage()"
   ]
  },
  {
   "cell_type": "code",
   "execution_count": 5,
   "metadata": {},
   "outputs": [],
   "source": [
    "processImage()"
   ]
  },
  {
   "cell_type": "code",
   "execution_count": null,
   "metadata": {},
   "outputs": [],
   "source": [
    "1"
   ]
  },
  {
   "cell_type": "code",
   "execution_count": null,
   "metadata": {},
   "outputs": [],
   "source": []
  }
 ],
 "metadata": {
  "kernelspec": {
   "display_name": "Python 3",
   "language": "python",
   "name": "python3"
  },
  "language_info": {
   "codemirror_mode": {
    "name": "ipython",
    "version": 3
   },
   "file_extension": ".py",
   "mimetype": "text/x-python",
   "name": "python",
   "nbconvert_exporter": "python",
   "pygments_lexer": "ipython3",
   "version": "3.6.4"
  }
 },
 "nbformat": 4,
 "nbformat_minor": 2
}
