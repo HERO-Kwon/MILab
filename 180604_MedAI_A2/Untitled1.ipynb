{
 "cells": [
  {
   "cell_type": "code",
   "execution_count": 1,
   "metadata": {},
   "outputs": [],
   "source": [
    "import os\n",
    "import numpy as np\n",
    "import pandas as pd"
   ]
  },
  {
   "cell_type": "code",
   "execution_count": 4,
   "metadata": {},
   "outputs": [],
   "source": [
    "file_path = 'D:\\\\Matlab_Drive\\\\Data\\\\MedAI_A2\\\\test_data\\\\AnnotationsByMD'"
   ]
  },
  {
   "cell_type": "code",
   "execution_count": 5,
   "metadata": {},
   "outputs": [],
   "source": [
    "file_list = os.listdir(file_path)"
   ]
  },
  {
   "cell_type": "code",
   "execution_count": 6,
   "metadata": {},
   "outputs": [],
   "source": [
    "test_labels = pd.DataFrame()"
   ]
  },
  {
   "cell_type": "code",
   "execution_count": 7,
   "metadata": {},
   "outputs": [
    {
     "name": "stdout",
     "output_type": "stream",
     "text": [
      "301.txt\n",
      "302.txt\n",
      "303.txt\n",
      "304.txt\n",
      "305.txt\n",
      "306.txt\n",
      "307.txt\n",
      "308.txt\n",
      "309.txt\n",
      "310.txt\n",
      "311.txt\n",
      "312.txt\n",
      "313.txt\n",
      "314.txt\n",
      "315.txt\n",
      "316.txt\n",
      "317.txt\n",
      "318.txt\n",
      "319.txt\n",
      "320.txt\n",
      "321.txt\n",
      "322.txt\n",
      "323.txt\n",
      "324.txt\n",
      "325.txt\n",
      "326.txt\n",
      "327.txt\n",
      "328.txt\n",
      "329.txt\n",
      "330.txt\n",
      "331.txt\n",
      "332.txt\n",
      "333.txt\n",
      "334.txt\n",
      "335.txt\n",
      "336.txt\n",
      "337.txt\n",
      "338.txt\n",
      "339.txt\n",
      "340.txt\n",
      "341.txt\n",
      "342.txt\n",
      "343.txt\n",
      "344.txt\n",
      "345.txt\n",
      "346.txt\n",
      "347.txt\n",
      "348.txt\n",
      "349.txt\n",
      "350.txt\n",
      "351.txt\n",
      "352.txt\n",
      "353.txt\n",
      "354.txt\n",
      "355.txt\n",
      "356.txt\n",
      "357.txt\n",
      "358.txt\n",
      "359.txt\n",
      "360.txt\n",
      "361.txt\n",
      "362.txt\n",
      "363.txt\n",
      "364.txt\n",
      "365.txt\n",
      "366.txt\n",
      "367.txt\n",
      "368.txt\n",
      "369.txt\n",
      "370.txt\n",
      "371.txt\n",
      "372.txt\n",
      "373.txt\n",
      "374.txt\n",
      "375.txt\n",
      "376.txt\n",
      "377.txt\n",
      "378.txt\n",
      "379.txt\n",
      "380.txt\n",
      "381.txt\n",
      "382.txt\n",
      "383.txt\n",
      "384.txt\n",
      "385.txt\n",
      "386.txt\n",
      "387.txt\n",
      "388.txt\n",
      "389.txt\n",
      "390.txt\n",
      "391.txt\n",
      "392.txt\n",
      "393.txt\n",
      "394.txt\n",
      "395.txt\n",
      "396.txt\n",
      "397.txt\n",
      "398.txt\n",
      "399.txt\n",
      "400.txt\n"
     ]
    }
   ],
   "source": [
    "for file in file_list:\n",
    "    print(file)\n",
    "    data = pd.read_csv(os.path.join(file_path,file),header=None)\n",
    "    for j in range(19):\n",
    "        d_read = pd.Series()\n",
    "        d_read['filename'] = file[0:3] + '.jpg'\n",
    "        d_read['width'] = 1935\n",
    "        d_read['height'] = 2400\n",
    "        d_read['class'] = str(j+1)\n",
    "        d_read['x'] = int(data.iloc[j][0])\n",
    "        d_read['y'] = int(data.iloc[j][1])\n",
    "        test_labels = test_labels.append(d_read,ignore_index=True)"
   ]
  },
  {
   "cell_type": "code",
   "execution_count": 8,
   "metadata": {},
   "outputs": [],
   "source": [
    "test_labels.to_csv('tesst_labels.csv',index=False)"
   ]
  },
  {
   "cell_type": "code",
   "execution_count": 70,
   "metadata": {},
   "outputs": [
    {
     "data": {
      "text/plain": [
       "5700"
      ]
     },
     "execution_count": 70,
     "metadata": {},
     "output_type": "execute_result"
    }
   ],
   "source": [
    "len(train_labels)"
   ]
  },
  {
   "cell_type": "code",
   "execution_count": 43,
   "metadata": {},
   "outputs": [],
   "source": [
    "data = pd.read_csv(a,header=None)\n",
    "d_read = pd.Series()\n",
    "d_read['filename'] = file_list[i][0:3] + '.jpg'\n",
    "d_read['width'] = 1935\n",
    "d_read['height'] = 2400\n",
    "d_read['class'] = str(j+1)\n",
    "d_read['xmin'] = int(data.iloc[j][0] - 200)\n",
    "d_read['ymin'] = int(data.iloc[j][1] - 240)\n",
    "d_read['xmax'] = int(data.iloc[j][0] + 200)\n",
    "d_read['ymax'] = int(data.iloc[j][1] + 240)"
   ]
  },
  {
   "cell_type": "code",
   "execution_count": 72,
   "metadata": {},
   "outputs": [
    {
     "data": {
      "text/html": [
       "<div>\n",
       "<style scoped>\n",
       "    .dataframe tbody tr th:only-of-type {\n",
       "        vertical-align: middle;\n",
       "    }\n",
       "\n",
       "    .dataframe tbody tr th {\n",
       "        vertical-align: top;\n",
       "    }\n",
       "\n",
       "    .dataframe thead th {\n",
       "        text-align: right;\n",
       "    }\n",
       "</style>\n",
       "<table border=\"1\" class=\"dataframe\">\n",
       "  <thead>\n",
       "    <tr style=\"text-align: right;\">\n",
       "      <th></th>\n",
       "      <th>class</th>\n",
       "      <th>filename</th>\n",
       "      <th>height</th>\n",
       "      <th>width</th>\n",
       "      <th>xmax</th>\n",
       "      <th>xmin</th>\n",
       "      <th>ymax</th>\n",
       "      <th>ymin</th>\n",
       "    </tr>\n",
       "  </thead>\n",
       "  <tbody>\n",
       "    <tr>\n",
       "      <th>filename</th>\n",
       "      <td>NaN</td>\n",
       "      <td>NaN</td>\n",
       "      <td>NaN</td>\n",
       "      <td>NaN</td>\n",
       "      <td>NaN</td>\n",
       "      <td>NaN</td>\n",
       "      <td>NaN</td>\n",
       "      <td>NaN</td>\n",
       "    </tr>\n",
       "    <tr>\n",
       "      <th>width</th>\n",
       "      <td>NaN</td>\n",
       "      <td>NaN</td>\n",
       "      <td>NaN</td>\n",
       "      <td>NaN</td>\n",
       "      <td>NaN</td>\n",
       "      <td>NaN</td>\n",
       "      <td>NaN</td>\n",
       "      <td>NaN</td>\n",
       "    </tr>\n",
       "    <tr>\n",
       "      <th>height</th>\n",
       "      <td>NaN</td>\n",
       "      <td>NaN</td>\n",
       "      <td>NaN</td>\n",
       "      <td>NaN</td>\n",
       "      <td>NaN</td>\n",
       "      <td>NaN</td>\n",
       "      <td>NaN</td>\n",
       "      <td>NaN</td>\n",
       "    </tr>\n",
       "    <tr>\n",
       "      <th>class</th>\n",
       "      <td>NaN</td>\n",
       "      <td>NaN</td>\n",
       "      <td>NaN</td>\n",
       "      <td>NaN</td>\n",
       "      <td>NaN</td>\n",
       "      <td>NaN</td>\n",
       "      <td>NaN</td>\n",
       "      <td>NaN</td>\n",
       "    </tr>\n",
       "    <tr>\n",
       "      <th>xmin</th>\n",
       "      <td>NaN</td>\n",
       "      <td>NaN</td>\n",
       "      <td>NaN</td>\n",
       "      <td>NaN</td>\n",
       "      <td>NaN</td>\n",
       "      <td>NaN</td>\n",
       "      <td>NaN</td>\n",
       "      <td>NaN</td>\n",
       "    </tr>\n",
       "    <tr>\n",
       "      <th>ymin</th>\n",
       "      <td>NaN</td>\n",
       "      <td>NaN</td>\n",
       "      <td>NaN</td>\n",
       "      <td>NaN</td>\n",
       "      <td>NaN</td>\n",
       "      <td>NaN</td>\n",
       "      <td>NaN</td>\n",
       "      <td>NaN</td>\n",
       "    </tr>\n",
       "    <tr>\n",
       "      <th>xmax</th>\n",
       "      <td>NaN</td>\n",
       "      <td>NaN</td>\n",
       "      <td>NaN</td>\n",
       "      <td>NaN</td>\n",
       "      <td>NaN</td>\n",
       "      <td>NaN</td>\n",
       "      <td>NaN</td>\n",
       "      <td>NaN</td>\n",
       "    </tr>\n",
       "    <tr>\n",
       "      <th>ymax</th>\n",
       "      <td>NaN</td>\n",
       "      <td>NaN</td>\n",
       "      <td>NaN</td>\n",
       "      <td>NaN</td>\n",
       "      <td>NaN</td>\n",
       "      <td>NaN</td>\n",
       "      <td>NaN</td>\n",
       "      <td>NaN</td>\n",
       "    </tr>\n",
       "  </tbody>\n",
       "</table>\n",
       "</div>"
      ],
      "text/plain": [
       "         class filename  height  width  xmax  xmin  ymax  ymin\n",
       "filename   NaN      NaN     NaN    NaN   NaN   NaN   NaN   NaN\n",
       "width      NaN      NaN     NaN    NaN   NaN   NaN   NaN   NaN\n",
       "height     NaN      NaN     NaN    NaN   NaN   NaN   NaN   NaN\n",
       "class      NaN      NaN     NaN    NaN   NaN   NaN   NaN   NaN\n",
       "xmin       NaN      NaN     NaN    NaN   NaN   NaN   NaN   NaN\n",
       "ymin       NaN      NaN     NaN    NaN   NaN   NaN   NaN   NaN\n",
       "xmax       NaN      NaN     NaN    NaN   NaN   NaN   NaN   NaN\n",
       "ymax       NaN      NaN     NaN    NaN   NaN   NaN   NaN   NaN"
      ]
     },
     "execution_count": 72,
     "metadata": {},
     "output_type": "execute_result"
    }
   ],
   "source": [
    "train_labels.reindex(['filename','width','height','class','xmin','ymin','xmax','ymax'])"
   ]
  },
  {
   "cell_type": "code",
   "execution_count": 45,
   "metadata": {},
   "outputs": [],
   "source": [
    "aaa = pd.DataFrame()"
   ]
  },
  {
   "cell_type": "code",
   "execution_count": 74,
   "metadata": {},
   "outputs": [],
   "source": [
    "train_labels=pd.DataFrame(columns=['filename','width','height','class','xmin','ymin','xmax','ymax'])"
   ]
  },
  {
   "cell_type": "code",
   "execution_count": 29,
   "metadata": {},
   "outputs": [
    {
     "data": {
      "text/plain": [
       "796"
      ]
     },
     "execution_count": 29,
     "metadata": {},
     "output_type": "execute_result"
    }
   ],
   "source": [
    "int(data.iloc[j][1] - 200)"
   ]
  },
  {
   "cell_type": "code",
   "execution_count": 27,
   "metadata": {},
   "outputs": [
    {
     "data": {
      "text/plain": [
       "'1'"
      ]
     },
     "execution_count": 27,
     "metadata": {},
     "output_type": "execute_result"
    }
   ],
   "source": [
    "str(j+1)"
   ]
  },
  {
   "cell_type": "code",
   "execution_count": 31,
   "metadata": {},
   "outputs": [],
   "source": [
    "aa = pd.Series()"
   ]
  },
  {
   "cell_type": "code",
   "execution_count": 34,
   "metadata": {},
   "outputs": [],
   "source": [
    "aa.name = '1'"
   ]
  },
  {
   "cell_type": "code",
   "execution_count": 35,
   "metadata": {},
   "outputs": [
    {
     "data": {
      "text/plain": [
       "Series([], Name: 1, dtype: float64)"
      ]
     },
     "execution_count": 35,
     "metadata": {},
     "output_type": "execute_result"
    }
   ],
   "source": [
    "aa"
   ]
  },
  {
   "cell_type": "code",
   "execution_count": 36,
   "metadata": {},
   "outputs": [],
   "source": [
    "aa['width'] = width"
   ]
  },
  {
   "cell_type": "code",
   "execution_count": 37,
   "metadata": {},
   "outputs": [
    {
     "data": {
      "text/plain": [
       "width    1935\n",
       "Name: 1, dtype: int64"
      ]
     },
     "execution_count": 37,
     "metadata": {},
     "output_type": "execute_result"
    }
   ],
   "source": [
    "aa"
   ]
  },
  {
   "cell_type": "code",
   "execution_count": 38,
   "metadata": {},
   "outputs": [],
   "source": [
    "aaa = pd.DataFrame()"
   ]
  },
  {
   "cell_type": "code",
   "execution_count": 42,
   "metadata": {},
   "outputs": [
    {
     "ename": "SyntaxError",
     "evalue": "can't assign to function call (<ipython-input-42-8ce8d2314560>, line 1)",
     "output_type": "error",
     "traceback": [
      "\u001b[1;36m  File \u001b[1;32m\"<ipython-input-42-8ce8d2314560>\"\u001b[1;36m, line \u001b[1;32m1\u001b[0m\n\u001b[1;33m    aaa.iloc(0) = width\u001b[0m\n\u001b[1;37m                       ^\u001b[0m\n\u001b[1;31mSyntaxError\u001b[0m\u001b[1;31m:\u001b[0m can't assign to function call\n"
     ]
    }
   ],
   "source": [
    "aaa.iloc(0) = width"
   ]
  },
  {
   "cell_type": "code",
   "execution_count": 80,
   "metadata": {},
   "outputs": [
    {
     "name": "stderr",
     "output_type": "stream",
     "text": [
      "C:\\Users\\herok\\Anaconda3\\lib\\site-packages\\h5py\\__init__.py:36: FutureWarning: Conversion of the second argument of issubdtype from `float` to `np.floating` is deprecated. In future, it will be treated as `np.float64 == np.dtype(float).type`.\n",
      "  from ._conv import register_converters as _register_converters\n",
      "Traceback (most recent call last):\n",
      "  File \"generate_tfrecord.py\", line 19, in <module>\n",
      "    from object_detection.utils import dataset_util\n",
      "ModuleNotFoundError: No module named 'object_detection'\n"
     ]
    }
   ],
   "source": [
    "!python generate_tfrecord.py"
   ]
  },
  {
   "cell_type": "code",
   "execution_count": 81,
   "metadata": {},
   "outputs": [
    {
     "name": "stdout",
     "output_type": "stream",
     "text": [
      "Collecting object_detection\n"
     ]
    },
    {
     "name": "stderr",
     "output_type": "stream",
     "text": [
      "  Could not find a version that satisfies the requirement object_detection (from versions: )\n",
      "No matching distribution found for object_detection\n"
     ]
    }
   ],
   "source": [
    "!pip install object_detection"
   ]
  },
  {
   "cell_type": "code",
   "execution_count": 1,
   "metadata": {},
   "outputs": [
    {
     "name": "stdout",
     "output_type": "stream",
     "text": [
      "301.txt\n",
      "302.txt\n",
      "303.txt\n",
      "304.txt\n",
      "305.txt\n",
      "306.txt\n",
      "307.txt\n",
      "308.txt\n",
      "309.txt\n",
      "310.txt\n",
      "311.txt\n",
      "312.txt\n",
      "313.txt\n",
      "314.txt\n",
      "315.txt\n",
      "316.txt\n",
      "317.txt\n",
      "318.txt\n",
      "319.txt\n",
      "320.txt\n",
      "321.txt\n",
      "322.txt\n",
      "323.txt\n",
      "324.txt\n",
      "325.txt\n",
      "326.txt\n",
      "327.txt\n",
      "328.txt\n",
      "329.txt\n",
      "330.txt\n",
      "331.txt\n",
      "332.txt\n",
      "333.txt\n",
      "334.txt\n",
      "335.txt\n",
      "336.txt\n",
      "337.txt\n",
      "338.txt\n",
      "339.txt\n",
      "340.txt\n",
      "341.txt\n",
      "342.txt\n",
      "343.txt\n",
      "344.txt\n",
      "345.txt\n",
      "346.txt\n",
      "347.txt\n",
      "348.txt\n",
      "349.txt\n",
      "350.txt\n",
      "351.txt\n",
      "352.txt\n",
      "353.txt\n",
      "354.txt\n",
      "355.txt\n",
      "356.txt\n",
      "357.txt\n",
      "358.txt\n",
      "359.txt\n",
      "360.txt\n",
      "361.txt\n",
      "362.txt\n",
      "363.txt\n",
      "364.txt\n",
      "365.txt\n",
      "366.txt\n",
      "367.txt\n",
      "368.txt\n",
      "369.txt\n",
      "370.txt\n",
      "371.txt\n",
      "372.txt\n",
      "373.txt\n",
      "374.txt\n",
      "375.txt\n",
      "376.txt\n",
      "377.txt\n",
      "378.txt\n",
      "379.txt\n",
      "380.txt\n",
      "381.txt\n",
      "382.txt\n",
      "383.txt\n",
      "384.txt\n",
      "385.txt\n",
      "386.txt\n",
      "387.txt\n",
      "388.txt\n",
      "389.txt\n",
      "390.txt\n",
      "391.txt\n",
      "392.txt\n",
      "393.txt\n",
      "394.txt\n",
      "395.txt\n",
      "396.txt\n",
      "397.txt\n",
      "398.txt\n",
      "399.txt\n",
      "400.txt\n"
     ]
    }
   ],
   "source": [
    "import os\n",
    "import numpy as np\n",
    "import pandas as pd\n",
    "\n",
    "file_path = 'D:\\\\Matlab_Drive\\\\Data\\\\MedAI_A2\\\\test_data\\\\AnnotationsByMD'\n",
    "file_list = os.listdir(file_path)\n",
    "\n",
    "train_labels=pd.DataFrame(columns=['filename','width','height','class','xmin','ymin','xmax','ymax'])\n",
    "\n",
    "for file in file_list:\n",
    "    print(file)\n",
    "    data = pd.read_csv(os.path.join(file_path,file),header=None)\n",
    "    for j in range(19):\n",
    "        d_read = pd.Series()\n",
    "        d_read['filename'] = file[0:3] + '.jpg'\n",
    "        d_read['width'] = 645\n",
    "        d_read['height'] = 800\n",
    "        d_read['class'] = str(j+1)\n",
    "        d_read['xmin'] = int(data.iloc[j][0]/3) - 33\n",
    "        d_read['ymin'] = int(data.iloc[j][1]/3) - 40\n",
    "        d_read['xmax'] = int(data.iloc[j][0]/3) + 33\n",
    "        d_read['ymax'] = int(data.iloc[j][1]/3) + 40\n",
    "        if (d_read['xmax'] > d_read['width']):\n",
    "            d_read['xmax'] = d_read['width']\n",
    "        if (d_read['ymax'] > d_read['height']):\n",
    "            d_read['ymax'] = d_read['height']\n",
    "        train_labels = train_labels.append(d_read,ignore_index=True)\n",
    "\n",
    "\n",
    "train_labels.to_csv('test_labels.csv',index=False)"
   ]
  },
  {
   "cell_type": "code",
   "execution_count": null,
   "metadata": {},
   "outputs": [],
   "source": []
  }
 ],
 "metadata": {
  "kernelspec": {
   "display_name": "Python 3",
   "language": "python",
   "name": "python3"
  },
  "language_info": {
   "codemirror_mode": {
    "name": "ipython",
    "version": 3
   },
   "file_extension": ".py",
   "mimetype": "text/x-python",
   "name": "python",
   "nbconvert_exporter": "python",
   "pygments_lexer": "ipython3",
   "version": "3.6.4"
  }
 },
 "nbformat": 4,
 "nbformat_minor": 2
}
